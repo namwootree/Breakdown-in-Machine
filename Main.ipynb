{
  "cells": [
    {
      "cell_type": "markdown",
      "metadata": {
        "id": "1arJ9FlwNtoH"
      },
      "source": [
        "# Reference"
      ]
    },
    {
      "cell_type": "markdown",
      "metadata": {
        "id": "7A2bPHH5Nv61"
      },
      "source": [
        "**Library**\n",
        "\n",
        "* [librosa](https://librosa.org/doc/main/feature.html)\n",
        "\n",
        "\n",
        "**Tech Blog**\n",
        "\n",
        "* [제 06절 아날로그 신호](https://m.blog.naver.com/gkenq/220679236344)\n",
        "* [AI에게 어떻게 음성을 가르칠까?](https://tech.kakaoenterprise.com/66)\n",
        "* [음성인식 입문하기](https://pyy0715.github.io/Audio/)\n",
        "* [음악 데이터 - spectral_centroid, sepectral_rolloff](https://0equal2.tistory.com/144)\n",
        "* [[Librosa] music/audio processing library Librosa 사용법 Tutorial - (3) Audio feature extraction](https://bo-10000.tistory.com/entry/Librosa-musicaudio-processing-library-Librosa-%EC%82%AC%EC%9A%A9%EB%B2%95-Tutorial-3-Audio-feature-extraction)\n",
        "\n",
        "* [Tonnetz 음악이론을 딥러닝에 접목시키기](https://inspiringpeople.github.io/data%20analysis/tonnetz-dl/)\n",
        "\n",
        "\n",
        "**You Tube**\n",
        "\n",
        "* [DMQA, Introduction to Analysis for Sound Data](https://www.youtube.com/watch?v=1Hhj14QhkaE&t=718s)\n",
        "\n",
        "\n",
        "**데이콘 코드 공유**\n",
        "* [mel-spectrogram, mfcc 활용한 CNN ensemble + 5fold / public 0.98](https://dacon.io/en/codeshare/5153)"
      ]
    },
    {
      "cell_type": "markdown",
      "metadata": {
        "id": "SB46ysEM4RRM"
      },
      "source": [
        "# Setting"
      ]
    },
    {
      "cell_type": "markdown",
      "metadata": {
        "id": "XIGsZpRA4Us2"
      },
      "source": [
        "## Library"
      ]
    },
    {
      "cell_type": "code",
      "execution_count": 1,
      "metadata": {
        "id": "UTVDQnQK4M6H"
      },
      "outputs": [],
      "source": [
        "import pandas as pd\n",
        "import numpy as np\n",
        "\n",
        "from scipy import stats\n",
        "\n",
        "from sklearn.preprocessing import StandardScaler, MinMaxScaler, RobustScaler\n",
        "\n",
        "from sklearn.neighbors import LocalOutlierFactor\n",
        "from sklearn.ensemble import IsolationForest\n",
        "from sklearn.decomposition import PCA, KernelPCA, SparsePCA, TruncatedSVD, IncrementalPCA\n",
        "from sklearn.decomposition import TruncatedSVD\n",
        "\n",
        "import os\n",
        "from tqdm.auto import tqdm\n",
        "import random"
      ]
    },
    {
      "cell_type": "code",
      "execution_count": 2,
      "metadata": {
        "id": "UaOkCqd64WW9"
      },
      "outputs": [],
      "source": [
        "import librosa\n",
        "import librosa.display\n",
        "import IPython.display as ipd"
      ]
    },
    {
      "cell_type": "code",
      "execution_count": 3,
      "metadata": {
        "id": "ZimT_hk74XPl"
      },
      "outputs": [],
      "source": [
        "import warnings\n",
        "warnings.filterwarnings(action='ignore') "
      ]
    },
    {
      "cell_type": "markdown",
      "metadata": {
        "id": "OpEoeQ4e4ZBx"
      },
      "source": [
        "## Fixed Random Seed"
      ]
    },
    {
      "cell_type": "code",
      "execution_count": 4,
      "metadata": {
        "id": "CqcQsDea4YkV"
      },
      "outputs": [],
      "source": [
        "def seed_everything(seed):\n",
        "    random.seed(seed)\n",
        "    os.environ['PYTHONHASHSEED'] = str(seed)\n",
        "    np.random.seed(seed)\n",
        "\n",
        "seed_everything(42) # Seed 고정"
      ]
    },
    {
      "cell_type": "markdown",
      "metadata": {
        "id": "AhXiZI9q4cka"
      },
      "source": [
        "# Load Data Set"
      ]
    },
    {
      "cell_type": "markdown",
      "metadata": {
        "id": "QiRR5haS4eFc"
      },
      "source": [
        "## Google Drive Mount"
      ]
    },
    {
      "cell_type": "code",
      "execution_count": 5,
      "metadata": {
        "colab": {
          "base_uri": "https://localhost:8080/"
        },
        "id": "pl3QP7LJ4cCN",
        "outputId": "e14c5325-d534-4153-d399-70a7d05d1987"
      },
      "outputs": [
        {
          "output_type": "stream",
          "name": "stdout",
          "text": [
            "Mounted at /content/drive\n"
          ]
        }
      ],
      "source": [
        "from google.colab import drive\n",
        "drive.mount('/content/drive')"
      ]
    },
    {
      "cell_type": "markdown",
      "metadata": {
        "id": "Qj9RXtUy4i-V"
      },
      "source": [
        "## Unzip File"
      ]
    },
    {
      "cell_type": "code",
      "execution_count": 6,
      "metadata": {
        "id": "vNyz6vt54gst"
      },
      "outputs": [],
      "source": [
        "!unzip -qq '/content/drive/MyDrive/머신러닝 엔지니어링/데이콘/기계 고장 진단/data/기계_고장.zip'"
      ]
    },
    {
      "cell_type": "markdown",
      "metadata": {
        "id": "9CuLa-gf4lvW"
      },
      "source": [
        "## Load Train / Test Set"
      ]
    },
    {
      "cell_type": "code",
      "execution_count": 7,
      "metadata": {
        "id": "gnwfvSoX4lE6"
      },
      "outputs": [],
      "source": [
        "df_train = pd.read_csv('./train.csv') # 모두 정상 Sample\n",
        "df_test = pd.read_csv('./test.csv')"
      ]
    },
    {
      "cell_type": "code",
      "execution_count": 8,
      "metadata": {
        "colab": {
          "base_uri": "https://localhost:8080/",
          "height": 224
        },
        "id": "LgdXlk194oOB",
        "outputId": "72ce06d4-f03d-4ccf-b0e9-37bc4a907f1a"
      },
      "outputs": [
        {
          "output_type": "stream",
          "name": "stdout",
          "text": [
            "(1279, 4)\n"
          ]
        },
        {
          "output_type": "execute_result",
          "data": {
            "text/plain": [
              "    SAMPLE_ID             SAMPLE_PATH  FAN_TYPE  LABEL\n",
              "0  TRAIN_0000  ./train/TRAIN_0000.wav         2      0\n",
              "1  TRAIN_0001  ./train/TRAIN_0001.wav         0      0\n",
              "2  TRAIN_0002  ./train/TRAIN_0002.wav         0      0\n",
              "3  TRAIN_0003  ./train/TRAIN_0003.wav         2      0\n",
              "4  TRAIN_0004  ./train/TRAIN_0004.wav         2      0"
            ],
            "text/html": [
              "\n",
              "  <div id=\"df-21538c60-d8eb-44e6-a804-3c345ca14e8c\">\n",
              "    <div class=\"colab-df-container\">\n",
              "      <div>\n",
              "<style scoped>\n",
              "    .dataframe tbody tr th:only-of-type {\n",
              "        vertical-align: middle;\n",
              "    }\n",
              "\n",
              "    .dataframe tbody tr th {\n",
              "        vertical-align: top;\n",
              "    }\n",
              "\n",
              "    .dataframe thead th {\n",
              "        text-align: right;\n",
              "    }\n",
              "</style>\n",
              "<table border=\"1\" class=\"dataframe\">\n",
              "  <thead>\n",
              "    <tr style=\"text-align: right;\">\n",
              "      <th></th>\n",
              "      <th>SAMPLE_ID</th>\n",
              "      <th>SAMPLE_PATH</th>\n",
              "      <th>FAN_TYPE</th>\n",
              "      <th>LABEL</th>\n",
              "    </tr>\n",
              "  </thead>\n",
              "  <tbody>\n",
              "    <tr>\n",
              "      <th>0</th>\n",
              "      <td>TRAIN_0000</td>\n",
              "      <td>./train/TRAIN_0000.wav</td>\n",
              "      <td>2</td>\n",
              "      <td>0</td>\n",
              "    </tr>\n",
              "    <tr>\n",
              "      <th>1</th>\n",
              "      <td>TRAIN_0001</td>\n",
              "      <td>./train/TRAIN_0001.wav</td>\n",
              "      <td>0</td>\n",
              "      <td>0</td>\n",
              "    </tr>\n",
              "    <tr>\n",
              "      <th>2</th>\n",
              "      <td>TRAIN_0002</td>\n",
              "      <td>./train/TRAIN_0002.wav</td>\n",
              "      <td>0</td>\n",
              "      <td>0</td>\n",
              "    </tr>\n",
              "    <tr>\n",
              "      <th>3</th>\n",
              "      <td>TRAIN_0003</td>\n",
              "      <td>./train/TRAIN_0003.wav</td>\n",
              "      <td>2</td>\n",
              "      <td>0</td>\n",
              "    </tr>\n",
              "    <tr>\n",
              "      <th>4</th>\n",
              "      <td>TRAIN_0004</td>\n",
              "      <td>./train/TRAIN_0004.wav</td>\n",
              "      <td>2</td>\n",
              "      <td>0</td>\n",
              "    </tr>\n",
              "  </tbody>\n",
              "</table>\n",
              "</div>\n",
              "      <button class=\"colab-df-convert\" onclick=\"convertToInteractive('df-21538c60-d8eb-44e6-a804-3c345ca14e8c')\"\n",
              "              title=\"Convert this dataframe to an interactive table.\"\n",
              "              style=\"display:none;\">\n",
              "        \n",
              "  <svg xmlns=\"http://www.w3.org/2000/svg\" height=\"24px\"viewBox=\"0 0 24 24\"\n",
              "       width=\"24px\">\n",
              "    <path d=\"M0 0h24v24H0V0z\" fill=\"none\"/>\n",
              "    <path d=\"M18.56 5.44l.94 2.06.94-2.06 2.06-.94-2.06-.94-.94-2.06-.94 2.06-2.06.94zm-11 1L8.5 8.5l.94-2.06 2.06-.94-2.06-.94L8.5 2.5l-.94 2.06-2.06.94zm10 10l.94 2.06.94-2.06 2.06-.94-2.06-.94-.94-2.06-.94 2.06-2.06.94z\"/><path d=\"M17.41 7.96l-1.37-1.37c-.4-.4-.92-.59-1.43-.59-.52 0-1.04.2-1.43.59L10.3 9.45l-7.72 7.72c-.78.78-.78 2.05 0 2.83L4 21.41c.39.39.9.59 1.41.59.51 0 1.02-.2 1.41-.59l7.78-7.78 2.81-2.81c.8-.78.8-2.07 0-2.86zM5.41 20L4 18.59l7.72-7.72 1.47 1.35L5.41 20z\"/>\n",
              "  </svg>\n",
              "      </button>\n",
              "      \n",
              "  <style>\n",
              "    .colab-df-container {\n",
              "      display:flex;\n",
              "      flex-wrap:wrap;\n",
              "      gap: 12px;\n",
              "    }\n",
              "\n",
              "    .colab-df-convert {\n",
              "      background-color: #E8F0FE;\n",
              "      border: none;\n",
              "      border-radius: 50%;\n",
              "      cursor: pointer;\n",
              "      display: none;\n",
              "      fill: #1967D2;\n",
              "      height: 32px;\n",
              "      padding: 0 0 0 0;\n",
              "      width: 32px;\n",
              "    }\n",
              "\n",
              "    .colab-df-convert:hover {\n",
              "      background-color: #E2EBFA;\n",
              "      box-shadow: 0px 1px 2px rgba(60, 64, 67, 0.3), 0px 1px 3px 1px rgba(60, 64, 67, 0.15);\n",
              "      fill: #174EA6;\n",
              "    }\n",
              "\n",
              "    [theme=dark] .colab-df-convert {\n",
              "      background-color: #3B4455;\n",
              "      fill: #D2E3FC;\n",
              "    }\n",
              "\n",
              "    [theme=dark] .colab-df-convert:hover {\n",
              "      background-color: #434B5C;\n",
              "      box-shadow: 0px 1px 3px 1px rgba(0, 0, 0, 0.15);\n",
              "      filter: drop-shadow(0px 1px 2px rgba(0, 0, 0, 0.3));\n",
              "      fill: #FFFFFF;\n",
              "    }\n",
              "  </style>\n",
              "\n",
              "      <script>\n",
              "        const buttonEl =\n",
              "          document.querySelector('#df-21538c60-d8eb-44e6-a804-3c345ca14e8c button.colab-df-convert');\n",
              "        buttonEl.style.display =\n",
              "          google.colab.kernel.accessAllowed ? 'block' : 'none';\n",
              "\n",
              "        async function convertToInteractive(key) {\n",
              "          const element = document.querySelector('#df-21538c60-d8eb-44e6-a804-3c345ca14e8c');\n",
              "          const dataTable =\n",
              "            await google.colab.kernel.invokeFunction('convertToInteractive',\n",
              "                                                     [key], {});\n",
              "          if (!dataTable) return;\n",
              "\n",
              "          const docLinkHtml = 'Like what you see? Visit the ' +\n",
              "            '<a target=\"_blank\" href=https://colab.research.google.com/notebooks/data_table.ipynb>data table notebook</a>'\n",
              "            + ' to learn more about interactive tables.';\n",
              "          element.innerHTML = '';\n",
              "          dataTable['output_type'] = 'display_data';\n",
              "          await google.colab.output.renderOutput(dataTable, element);\n",
              "          const docLink = document.createElement('div');\n",
              "          docLink.innerHTML = docLinkHtml;\n",
              "          element.appendChild(docLink);\n",
              "        }\n",
              "      </script>\n",
              "    </div>\n",
              "  </div>\n",
              "  "
            ]
          },
          "metadata": {},
          "execution_count": 8
        }
      ],
      "source": [
        "print(df_train.shape)\n",
        "df_train.head()"
      ]
    },
    {
      "cell_type": "code",
      "execution_count": 9,
      "metadata": {
        "colab": {
          "base_uri": "https://localhost:8080/",
          "height": 224
        },
        "id": "FnRn88v84pIP",
        "outputId": "895a6531-a5e9-4428-8e55-21fc3fab8854"
      },
      "outputs": [
        {
          "output_type": "stream",
          "name": "stdout",
          "text": [
            "(1514, 3)\n"
          ]
        },
        {
          "output_type": "execute_result",
          "data": {
            "text/plain": [
              "   SAMPLE_ID           SAMPLE_PATH  FAN_TYPE\n",
              "0  TEST_0000  ./test/TEST_0000.wav         2\n",
              "1  TEST_0001  ./test/TEST_0001.wav         2\n",
              "2  TEST_0002  ./test/TEST_0002.wav         0\n",
              "3  TEST_0003  ./test/TEST_0003.wav         0\n",
              "4  TEST_0004  ./test/TEST_0004.wav         0"
            ],
            "text/html": [
              "\n",
              "  <div id=\"df-df45d55c-fd8e-4199-90c1-5353e7ac5d97\">\n",
              "    <div class=\"colab-df-container\">\n",
              "      <div>\n",
              "<style scoped>\n",
              "    .dataframe tbody tr th:only-of-type {\n",
              "        vertical-align: middle;\n",
              "    }\n",
              "\n",
              "    .dataframe tbody tr th {\n",
              "        vertical-align: top;\n",
              "    }\n",
              "\n",
              "    .dataframe thead th {\n",
              "        text-align: right;\n",
              "    }\n",
              "</style>\n",
              "<table border=\"1\" class=\"dataframe\">\n",
              "  <thead>\n",
              "    <tr style=\"text-align: right;\">\n",
              "      <th></th>\n",
              "      <th>SAMPLE_ID</th>\n",
              "      <th>SAMPLE_PATH</th>\n",
              "      <th>FAN_TYPE</th>\n",
              "    </tr>\n",
              "  </thead>\n",
              "  <tbody>\n",
              "    <tr>\n",
              "      <th>0</th>\n",
              "      <td>TEST_0000</td>\n",
              "      <td>./test/TEST_0000.wav</td>\n",
              "      <td>2</td>\n",
              "    </tr>\n",
              "    <tr>\n",
              "      <th>1</th>\n",
              "      <td>TEST_0001</td>\n",
              "      <td>./test/TEST_0001.wav</td>\n",
              "      <td>2</td>\n",
              "    </tr>\n",
              "    <tr>\n",
              "      <th>2</th>\n",
              "      <td>TEST_0002</td>\n",
              "      <td>./test/TEST_0002.wav</td>\n",
              "      <td>0</td>\n",
              "    </tr>\n",
              "    <tr>\n",
              "      <th>3</th>\n",
              "      <td>TEST_0003</td>\n",
              "      <td>./test/TEST_0003.wav</td>\n",
              "      <td>0</td>\n",
              "    </tr>\n",
              "    <tr>\n",
              "      <th>4</th>\n",
              "      <td>TEST_0004</td>\n",
              "      <td>./test/TEST_0004.wav</td>\n",
              "      <td>0</td>\n",
              "    </tr>\n",
              "  </tbody>\n",
              "</table>\n",
              "</div>\n",
              "      <button class=\"colab-df-convert\" onclick=\"convertToInteractive('df-df45d55c-fd8e-4199-90c1-5353e7ac5d97')\"\n",
              "              title=\"Convert this dataframe to an interactive table.\"\n",
              "              style=\"display:none;\">\n",
              "        \n",
              "  <svg xmlns=\"http://www.w3.org/2000/svg\" height=\"24px\"viewBox=\"0 0 24 24\"\n",
              "       width=\"24px\">\n",
              "    <path d=\"M0 0h24v24H0V0z\" fill=\"none\"/>\n",
              "    <path d=\"M18.56 5.44l.94 2.06.94-2.06 2.06-.94-2.06-.94-.94-2.06-.94 2.06-2.06.94zm-11 1L8.5 8.5l.94-2.06 2.06-.94-2.06-.94L8.5 2.5l-.94 2.06-2.06.94zm10 10l.94 2.06.94-2.06 2.06-.94-2.06-.94-.94-2.06-.94 2.06-2.06.94z\"/><path d=\"M17.41 7.96l-1.37-1.37c-.4-.4-.92-.59-1.43-.59-.52 0-1.04.2-1.43.59L10.3 9.45l-7.72 7.72c-.78.78-.78 2.05 0 2.83L4 21.41c.39.39.9.59 1.41.59.51 0 1.02-.2 1.41-.59l7.78-7.78 2.81-2.81c.8-.78.8-2.07 0-2.86zM5.41 20L4 18.59l7.72-7.72 1.47 1.35L5.41 20z\"/>\n",
              "  </svg>\n",
              "      </button>\n",
              "      \n",
              "  <style>\n",
              "    .colab-df-container {\n",
              "      display:flex;\n",
              "      flex-wrap:wrap;\n",
              "      gap: 12px;\n",
              "    }\n",
              "\n",
              "    .colab-df-convert {\n",
              "      background-color: #E8F0FE;\n",
              "      border: none;\n",
              "      border-radius: 50%;\n",
              "      cursor: pointer;\n",
              "      display: none;\n",
              "      fill: #1967D2;\n",
              "      height: 32px;\n",
              "      padding: 0 0 0 0;\n",
              "      width: 32px;\n",
              "    }\n",
              "\n",
              "    .colab-df-convert:hover {\n",
              "      background-color: #E2EBFA;\n",
              "      box-shadow: 0px 1px 2px rgba(60, 64, 67, 0.3), 0px 1px 3px 1px rgba(60, 64, 67, 0.15);\n",
              "      fill: #174EA6;\n",
              "    }\n",
              "\n",
              "    [theme=dark] .colab-df-convert {\n",
              "      background-color: #3B4455;\n",
              "      fill: #D2E3FC;\n",
              "    }\n",
              "\n",
              "    [theme=dark] .colab-df-convert:hover {\n",
              "      background-color: #434B5C;\n",
              "      box-shadow: 0px 1px 3px 1px rgba(0, 0, 0, 0.15);\n",
              "      filter: drop-shadow(0px 1px 2px rgba(0, 0, 0, 0.3));\n",
              "      fill: #FFFFFF;\n",
              "    }\n",
              "  </style>\n",
              "\n",
              "      <script>\n",
              "        const buttonEl =\n",
              "          document.querySelector('#df-df45d55c-fd8e-4199-90c1-5353e7ac5d97 button.colab-df-convert');\n",
              "        buttonEl.style.display =\n",
              "          google.colab.kernel.accessAllowed ? 'block' : 'none';\n",
              "\n",
              "        async function convertToInteractive(key) {\n",
              "          const element = document.querySelector('#df-df45d55c-fd8e-4199-90c1-5353e7ac5d97');\n",
              "          const dataTable =\n",
              "            await google.colab.kernel.invokeFunction('convertToInteractive',\n",
              "                                                     [key], {});\n",
              "          if (!dataTable) return;\n",
              "\n",
              "          const docLinkHtml = 'Like what you see? Visit the ' +\n",
              "            '<a target=\"_blank\" href=https://colab.research.google.com/notebooks/data_table.ipynb>data table notebook</a>'\n",
              "            + ' to learn more about interactive tables.';\n",
              "          element.innerHTML = '';\n",
              "          dataTable['output_type'] = 'display_data';\n",
              "          await google.colab.output.renderOutput(dataTable, element);\n",
              "          const docLink = document.createElement('div');\n",
              "          docLink.innerHTML = docLinkHtml;\n",
              "          element.appendChild(docLink);\n",
              "        }\n",
              "      </script>\n",
              "    </div>\n",
              "  </div>\n",
              "  "
            ]
          },
          "metadata": {},
          "execution_count": 9
        }
      ],
      "source": [
        "print(df_test.shape)\n",
        "df_test.head()"
      ]
    },
    {
      "cell_type": "markdown",
      "metadata": {
        "id": "0BgI6bYV4qnj"
      },
      "source": [
        "# Feature Engineering"
      ]
    },
    {
      "cell_type": "markdown",
      "metadata": {
        "id": "p4vhPwQq4sxD"
      },
      "source": [
        "## Scaling"
      ]
    },
    {
      "cell_type": "code",
      "execution_count": 10,
      "metadata": {
        "id": "KUqkij6Z4qE4"
      },
      "outputs": [],
      "source": [
        "def scaled_df(df_train, df_train_fan_type, df_test, df_test_fan_type, scaler):\n",
        "\n",
        "  df_train_fan_type = df_train_fan_type[['FAN_TYPE']]\n",
        "\n",
        "  df_train = pd.concat([\n",
        "                        df_train.reset_index(drop=True),\n",
        "                        df_train_fan_type.reset_index(drop=True)\n",
        "                       ],\n",
        "                       axis=1)\n",
        "  \n",
        "  df_test_fan_type = df_test_fan_type[['FAN_TYPE']]\n",
        "\n",
        "  df_test = pd.concat([\n",
        "                       df_test.reset_index(drop=True),\n",
        "                       df_test_fan_type.reset_index(drop=True)\n",
        "                      ],\n",
        "                      axis=1)\n",
        "  \n",
        "  train_type_0 = df_train.loc[(df_train['FAN_TYPE']==0)]\n",
        "  train_type_2 = df_train.loc[(df_train['FAN_TYPE']==2)]\n",
        "\n",
        "  test_type_0 = df_test.loc[(df_test['FAN_TYPE']==0)]\n",
        "  test_type_2 = df_test.loc[(df_test['FAN_TYPE']==2)]\n",
        "\n",
        "  train_type_0.drop(columns='FAN_TYPE', inplace=True)\n",
        "  train_type_2.drop(columns='FAN_TYPE', inplace=True)\n",
        "  test_type_0.drop(columns='FAN_TYPE', inplace=True)\n",
        "  test_type_2.drop(columns='FAN_TYPE', inplace=True)\n",
        "\n",
        "  list_train_0_index = list(train_type_0.index)\n",
        "  list_train_2_index = list(train_type_2.index)\n",
        "\n",
        "  list_test_0_index = list(test_type_0.index)\n",
        "  list_test_2_index = list(test_type_2.index)\n",
        "\n",
        "  scaled_train_type_0 = scaler.fit_transform(train_type_0)\n",
        "  scaled_test_type_0 = scaler.transform(test_type_0)\n",
        "\n",
        "  scaled_train_type_2 = scaler.fit_transform(train_type_2)\n",
        "  scaled_test_type_2 = scaler.transform(test_type_2)\n",
        "\n",
        "  train_type_0 = pd.DataFrame(scaled_train_type_0)\n",
        "  train_type_2 = pd.DataFrame(scaled_train_type_2)\n",
        "\n",
        "  test_type_0 = pd.DataFrame(scaled_test_type_0)\n",
        "  test_type_2 = pd.DataFrame(scaled_test_type_2)\n",
        "\n",
        "  train_type_0.index = list_train_0_index\n",
        "  train_type_2.index = list_train_2_index\n",
        "\n",
        "  test_type_0.index = list_test_0_index\n",
        "  test_type_2.index = list_test_2_index\n",
        "\n",
        "  df_train = pd.concat([train_type_0, train_type_2], axis=0)\n",
        "  df_test = pd.concat([test_type_0, test_type_2], axis=0)\n",
        "\n",
        "  df_train.sort_index(inplace=True)\n",
        "  df_test.sort_index(inplace=True)\n",
        "\n",
        "  return df_train, df_test"
      ]
    },
    {
      "cell_type": "markdown",
      "metadata": {
        "id": "xv_gDqtC4vrT"
      },
      "source": [
        "## Feature Extraction"
      ]
    },
    {
      "cell_type": "markdown",
      "metadata": {
        "id": "BzlwbOVsO7uy"
      },
      "source": [
        "**Sound**\n",
        "\n",
        "* 공기나 물 같은 매질의 진동을 통해 전달되는 종파\n",
        "* 사람의 귀에 들려오는 소리는 공기로 전해오는 파동\n",
        "\n",
        "**소리의 3요소**\n",
        "\n",
        "* 세기 (소리의 크기)\n",
        "* 높낮이 (소리의 높고 낮음)\n",
        "* 음색 (소리의 색상)"
      ]
    },
    {
      "cell_type": "markdown",
      "metadata": {
        "id": "rHA--SeyLPVx"
      },
      "source": [
        "**아날로그 신호**\n",
        "\n",
        "* 자연계에 포함되어 있는 연속적인 파형\n",
        "* 주기 신호와 비주기 신호로 분류할 수 있다\n",
        "\n",
        "**주기 신호**\n",
        "\n",
        "* 연속적으로 반복된 패턴으로 구성\n",
        "* 사이클 (Cycle) - 하나의 완성된 패턴\n",
        "* 정형파와 비정형파로 분류할 수 있다\n",
        "\n",
        "**비주기 신호**\n",
        "\n",
        "* 시간에 따라 반복된 패턴이나 사이클 없이 항상 변한다\n"
      ]
    },
    {
      "cell_type": "markdown",
      "metadata": {
        "id": "88UwPw_WL7mT"
      },
      "source": [
        "**정형파**\n",
        "\n",
        "1. 진폭 (Amplitude)\n",
        "\n",
        "  - 신호의 크기나 또는 세기를 나타낸다\n",
        "  - 신호의 높이\n",
        "  - 단위 : V (volt)\n",
        "\n",
        "2. 주기 (Period)와 주파수 (Frequency)\n",
        "\n",
        "  - 주기 : 하나의 사이클을 완성하는데 필요한 시간\n",
        "  - 주파수 : 주기의 역수, 1초에 완성되는 주기 횟수\n",
        "  - 높은 주파수 : 짧은 기간내의 변화\n",
        "  - 낮은 주파수 : 긴 기간에 걸친 변화\n",
        "  - 단위 : HZ (cycle / second)\n",
        "\n",
        "3. 위상 (phase)\n",
        "\n",
        "  - 임의의 시간에서 반송파 사이클의 상대적인 위치\n",
        "  - 시간 0에서 대한 파형의 상대적인 위치\n",
        "  - 시간축을 따라 앞뒤로 이동될 수 있는 파형에서 그 이동된 양\n",
        "  - 첫 사이클의 상태\n",
        "  - 단위 : degree\n",
        "\n",
        "4. 대역폭 (Bandwidth)\n",
        "\n",
        "  - 복합신호의 대역폭은 신호에 포함된 최고 주파수와 최저 주파수 사이의 차이"
      ]
    },
    {
      "cell_type": "markdown",
      "metadata": {
        "id": "pw3aVeoyPfJa"
      },
      "source": [
        "**Sampling Rate**\n",
        "\n",
        "* 소리를 컴퓨터에 입력시키기 위해 음파를 숫자로 표현할 필요가 있음\n",
        "\n",
        "* 샘플링 레이트는 아날로그 신호를 숫자화 시킨 것\n"
      ]
    },
    {
      "cell_type": "markdown",
      "metadata": {
        "id": "8au19EfpSowZ"
      },
      "source": [
        "**스펙트럼 (Spectrum)**\n",
        "\n",
        "* 푸리에 변환을 통해 time domain에서 frequency domain으로 바뀐 그래프\n",
        "* 특정 시간 길이의 음석 조각 (프레임)이 각각의 주파수 성분들을 얼마칸큼 갖고 있는지 의미\n",
        "\n",
        "**스펙트로그램 (Spectrogram)**\n",
        "\n",
        "* 파형 (Waveform)과 스펙트럼 (Spectrum) 조합\n",
        "* 음향 신호를 주파수, 진폭, 시간으로 구분\n",
        "* X축 : 시간\n",
        "* Y축 : 주파수\n",
        "* Z축 : 진폭\n",
        "\n"
      ]
    },
    {
      "cell_type": "markdown",
      "metadata": {
        "id": "IHvk9LV84xQM"
      },
      "source": [
        "### Zero Crossing Rate\n"
      ]
    },
    {
      "cell_type": "markdown",
      "metadata": {
        "id": "HJeW7fQgJ8DL"
      },
      "source": [
        "* Compute the zero-crossing rate of an audio time series.\n",
        "* 신호의 부호가 바뀌는 비율"
      ]
    },
    {
      "cell_type": "code",
      "execution_count": 266,
      "metadata": {
        "id": "-p5QZxCK4vA_"
      },
      "outputs": [],
      "source": [
        "def get_zero_crossing_feature(df):\n",
        "    features = []\n",
        "    for path in tqdm(df['SAMPLE_PATH']):\n",
        "        # librosa패키지를 사용하여 wav 파일 load\n",
        "        y, sr = librosa.load(path, sr=16000)\n",
        "        \n",
        "        # librosa패키지를 사용하여 mfcc 추출\n",
        "        zero = librosa.feature.zero_crossing_rate(y=y)\n",
        "\n",
        "        y_feature = []\n",
        "        # 추출된 MFCC들의 평균을 Feature로 사용\n",
        "        for e in zero:\n",
        "\n",
        "            e = np.mean(e)\n",
        "\n",
        "            y_feature.append(e)\n",
        "\n",
        "        features.append(y_feature)\n",
        "    \n",
        "    zero_df = pd.DataFrame(features,\n",
        "                           columns=['Zero Crossing Rate'])\n",
        "\n",
        "    print(zero_df.shape)\n",
        "\n",
        "    return zero_df"
      ]
    },
    {
      "cell_type": "code",
      "execution_count": 267,
      "metadata": {
        "colab": {
          "base_uri": "https://localhost:8080/",
          "height": 117,
          "referenced_widgets": [
            "7eab64befb1e4ade892104fe5131eda9",
            "c8e533910b14453dba76a7b1a8397b9e",
            "acb39240359d4aaf930bdd5f721fdbc5",
            "199d7fcc12f44997922ed6954cad3f3c",
            "ca8953ec6f664388a70c2ac53acd7dee",
            "0884018d17bd4016b49c63565293b8c3",
            "68802ce3ab064217b8b3833d34eaac6f",
            "5afd50aa3b30475abbdec06c39690625",
            "0afb390821fa423d9d779878d72be452",
            "5387be6d672f4e5f88fddb097a6cd842",
            "82dd4e847a44403ca6b0b131265dd64e",
            "5b284985ce764d04a2360419fa096b2c",
            "ba454c4d2387495b97bd83be349b7580",
            "6ca059fc847242519973a9b18fcaff1f",
            "8749f65a343e4d8baf7bfacfb5121142",
            "bc2cb355000446a298f7b389fb911691",
            "005c0532969b4c0dadf854c70da62c39",
            "a48f8ac99bee4a9f836e31bfa92b313d",
            "2cd3f39e655841f5af101459dada40e1",
            "a6eac59cf1bf4135b6e99f54e5f30fc5",
            "33ba9e0966094b44a35184f26728af98",
            "b6e69e41beb74039920ed871c63e9f1e"
          ]
        },
        "id": "7N7Yu8Ou40dx",
        "outputId": "2d34eab1-6712-46ac-a731-1ceff46d5897"
      },
      "outputs": [
        {
          "output_type": "display_data",
          "data": {
            "text/plain": [
              "  0%|          | 0/1279 [00:00<?, ?it/s]"
            ],
            "application/vnd.jupyter.widget-view+json": {
              "version_major": 2,
              "version_minor": 0,
              "model_id": "7eab64befb1e4ade892104fe5131eda9"
            }
          },
          "metadata": {}
        },
        {
          "output_type": "stream",
          "name": "stdout",
          "text": [
            "(1279, 1)\n"
          ]
        },
        {
          "output_type": "display_data",
          "data": {
            "text/plain": [
              "  0%|          | 0/1514 [00:00<?, ?it/s]"
            ],
            "application/vnd.jupyter.widget-view+json": {
              "version_major": 2,
              "version_minor": 0,
              "model_id": "5b284985ce764d04a2360419fa096b2c"
            }
          },
          "metadata": {}
        },
        {
          "output_type": "stream",
          "name": "stdout",
          "text": [
            "(1514, 1)\n"
          ]
        }
      ],
      "source": [
        "zero_train = get_zero_crossing_feature(df_train)\n",
        "zero_test = get_zero_crossing_feature(df_test)"
      ]
    },
    {
      "cell_type": "code",
      "execution_count": 268,
      "metadata": {
        "id": "6brz7Imj41qH"
      },
      "outputs": [],
      "source": [
        "scaler = RobustScaler(quantile_range=(30.0, 70.0))\n",
        "zero_train, zero_test= scaled_df(zero_train,\n",
        "                                 df_train,\n",
        "                                 zero_test,\n",
        "                                 df_test,\n",
        "                                 scaler)\n",
        "\n",
        "zero_train.columns = ['Zero_Crossing_Rate']\n",
        "zero_test.columns = ['Zero_Crossing_Rate']"
      ]
    },
    {
      "cell_type": "code",
      "execution_count": 269,
      "metadata": {
        "colab": {
          "base_uri": "https://localhost:8080/",
          "height": 206
        },
        "id": "n8WV1MvxY0Y0",
        "outputId": "209ad0d1-b019-4d8e-b878-003d34b190d2"
      },
      "outputs": [
        {
          "output_type": "execute_result",
          "data": {
            "text/plain": [
              "   Zero_Crossing_Rate\n",
              "0            0.043221\n",
              "1           -0.423992\n",
              "2            0.626212\n",
              "3           -0.418389\n",
              "4            1.819518"
            ],
            "text/html": [
              "\n",
              "  <div id=\"df-1f64d2fb-8125-4c22-bb09-e5642a03c9b3\">\n",
              "    <div class=\"colab-df-container\">\n",
              "      <div>\n",
              "<style scoped>\n",
              "    .dataframe tbody tr th:only-of-type {\n",
              "        vertical-align: middle;\n",
              "    }\n",
              "\n",
              "    .dataframe tbody tr th {\n",
              "        vertical-align: top;\n",
              "    }\n",
              "\n",
              "    .dataframe thead th {\n",
              "        text-align: right;\n",
              "    }\n",
              "</style>\n",
              "<table border=\"1\" class=\"dataframe\">\n",
              "  <thead>\n",
              "    <tr style=\"text-align: right;\">\n",
              "      <th></th>\n",
              "      <th>Zero_Crossing_Rate</th>\n",
              "    </tr>\n",
              "  </thead>\n",
              "  <tbody>\n",
              "    <tr>\n",
              "      <th>0</th>\n",
              "      <td>0.043221</td>\n",
              "    </tr>\n",
              "    <tr>\n",
              "      <th>1</th>\n",
              "      <td>-0.423992</td>\n",
              "    </tr>\n",
              "    <tr>\n",
              "      <th>2</th>\n",
              "      <td>0.626212</td>\n",
              "    </tr>\n",
              "    <tr>\n",
              "      <th>3</th>\n",
              "      <td>-0.418389</td>\n",
              "    </tr>\n",
              "    <tr>\n",
              "      <th>4</th>\n",
              "      <td>1.819518</td>\n",
              "    </tr>\n",
              "  </tbody>\n",
              "</table>\n",
              "</div>\n",
              "      <button class=\"colab-df-convert\" onclick=\"convertToInteractive('df-1f64d2fb-8125-4c22-bb09-e5642a03c9b3')\"\n",
              "              title=\"Convert this dataframe to an interactive table.\"\n",
              "              style=\"display:none;\">\n",
              "        \n",
              "  <svg xmlns=\"http://www.w3.org/2000/svg\" height=\"24px\"viewBox=\"0 0 24 24\"\n",
              "       width=\"24px\">\n",
              "    <path d=\"M0 0h24v24H0V0z\" fill=\"none\"/>\n",
              "    <path d=\"M18.56 5.44l.94 2.06.94-2.06 2.06-.94-2.06-.94-.94-2.06-.94 2.06-2.06.94zm-11 1L8.5 8.5l.94-2.06 2.06-.94-2.06-.94L8.5 2.5l-.94 2.06-2.06.94zm10 10l.94 2.06.94-2.06 2.06-.94-2.06-.94-.94-2.06-.94 2.06-2.06.94z\"/><path d=\"M17.41 7.96l-1.37-1.37c-.4-.4-.92-.59-1.43-.59-.52 0-1.04.2-1.43.59L10.3 9.45l-7.72 7.72c-.78.78-.78 2.05 0 2.83L4 21.41c.39.39.9.59 1.41.59.51 0 1.02-.2 1.41-.59l7.78-7.78 2.81-2.81c.8-.78.8-2.07 0-2.86zM5.41 20L4 18.59l7.72-7.72 1.47 1.35L5.41 20z\"/>\n",
              "  </svg>\n",
              "      </button>\n",
              "      \n",
              "  <style>\n",
              "    .colab-df-container {\n",
              "      display:flex;\n",
              "      flex-wrap:wrap;\n",
              "      gap: 12px;\n",
              "    }\n",
              "\n",
              "    .colab-df-convert {\n",
              "      background-color: #E8F0FE;\n",
              "      border: none;\n",
              "      border-radius: 50%;\n",
              "      cursor: pointer;\n",
              "      display: none;\n",
              "      fill: #1967D2;\n",
              "      height: 32px;\n",
              "      padding: 0 0 0 0;\n",
              "      width: 32px;\n",
              "    }\n",
              "\n",
              "    .colab-df-convert:hover {\n",
              "      background-color: #E2EBFA;\n",
              "      box-shadow: 0px 1px 2px rgba(60, 64, 67, 0.3), 0px 1px 3px 1px rgba(60, 64, 67, 0.15);\n",
              "      fill: #174EA6;\n",
              "    }\n",
              "\n",
              "    [theme=dark] .colab-df-convert {\n",
              "      background-color: #3B4455;\n",
              "      fill: #D2E3FC;\n",
              "    }\n",
              "\n",
              "    [theme=dark] .colab-df-convert:hover {\n",
              "      background-color: #434B5C;\n",
              "      box-shadow: 0px 1px 3px 1px rgba(0, 0, 0, 0.15);\n",
              "      filter: drop-shadow(0px 1px 2px rgba(0, 0, 0, 0.3));\n",
              "      fill: #FFFFFF;\n",
              "    }\n",
              "  </style>\n",
              "\n",
              "      <script>\n",
              "        const buttonEl =\n",
              "          document.querySelector('#df-1f64d2fb-8125-4c22-bb09-e5642a03c9b3 button.colab-df-convert');\n",
              "        buttonEl.style.display =\n",
              "          google.colab.kernel.accessAllowed ? 'block' : 'none';\n",
              "\n",
              "        async function convertToInteractive(key) {\n",
              "          const element = document.querySelector('#df-1f64d2fb-8125-4c22-bb09-e5642a03c9b3');\n",
              "          const dataTable =\n",
              "            await google.colab.kernel.invokeFunction('convertToInteractive',\n",
              "                                                     [key], {});\n",
              "          if (!dataTable) return;\n",
              "\n",
              "          const docLinkHtml = 'Like what you see? Visit the ' +\n",
              "            '<a target=\"_blank\" href=https://colab.research.google.com/notebooks/data_table.ipynb>data table notebook</a>'\n",
              "            + ' to learn more about interactive tables.';\n",
              "          element.innerHTML = '';\n",
              "          dataTable['output_type'] = 'display_data';\n",
              "          await google.colab.output.renderOutput(dataTable, element);\n",
              "          const docLink = document.createElement('div');\n",
              "          docLink.innerHTML = docLinkHtml;\n",
              "          element.appendChild(docLink);\n",
              "        }\n",
              "      </script>\n",
              "    </div>\n",
              "  </div>\n",
              "  "
            ]
          },
          "metadata": {},
          "execution_count": 269
        }
      ],
      "source": [
        "zero_train.head()"
      ]
    },
    {
      "cell_type": "code",
      "source": [
        "def get_zero_crossing_delta_feature(df):\n",
        "    features = []\n",
        "    for path in tqdm(df['SAMPLE_PATH']):\n",
        "        # librosa패키지를 사용하여 wav 파일 load\n",
        "        y, sr = librosa.load(path, sr=16000)\n",
        "        \n",
        "        # librosa패키지를 사용하여 mfcc 추출\n",
        "        zero = librosa.feature.zero_crossing_rate(y=y)\n",
        "        zero = librosa.feature.delta(\n",
        "                                   zero,\n",
        "                                   order=1\n",
        "                                   )\n",
        "\n",
        "        y_feature = []\n",
        "        # 추출된 MFCC들의 평균을 Feature로 사용\n",
        "        for e in zero:\n",
        "\n",
        "            e = np.mean(e)\n",
        "\n",
        "            y_feature.append(e)\n",
        "\n",
        "        features.append(y_feature)\n",
        "    \n",
        "    zero_df = pd.DataFrame(features,\n",
        "                           columns=['Zero Crossing Rate delta'])\n",
        "\n",
        "    print(zero_df.shape)\n",
        "\n",
        "    return zero_df"
      ],
      "metadata": {
        "id": "_6Tekv_q75I_"
      },
      "execution_count": 270,
      "outputs": []
    },
    {
      "cell_type": "code",
      "source": [
        "zero_delta_train = get_zero_crossing_delta_feature(df_train)\n",
        "zero_delta_test = get_zero_crossing_delta_feature(df_test)"
      ],
      "metadata": {
        "colab": {
          "base_uri": "https://localhost:8080/",
          "height": 117,
          "referenced_widgets": [
            "bcda0acd22d144d0a97e61486d435797",
            "47e3377981794ffda25bf755a7b57e94",
            "d99430c35dea40f49f46401c3830f5c9",
            "6c9dbe22ee714ea086f5dd68d3157145",
            "f734e579203f4ae3ba45abc996d94970",
            "a5eb727c013f4c1c8dc01eef0a50322c",
            "708c2fcd3a2d47d9b96f93e0b9909907",
            "70011e428387498094c5a2fe0d6df551",
            "47e0418147094482ab9b063e6c984cb8",
            "6a2386d7181e4fdfaa52c2cdc490bb06",
            "c889740b37714a509ca945b527294dd9",
            "fe373f7b447c4d48ac7e5ad7b475220e",
            "ee8cb00cba104554a0085c7b4a33da18",
            "94b116b71fa64df7927fd7515ffa8121",
            "844029fec3394ba994777a01ff67fe1a",
            "c972527aca474e02aea83696863aa141",
            "a01366d4d3634abb8cff15cffa797c0a",
            "2e1e56d590104fdd85d2931f6b98ee79",
            "c9f2536750e64fe3a8e3fd821165aa68",
            "da82d5a33c9c42a49b776be50260d364",
            "6dc395e811534924921376ac64232fce",
            "41a3cf33e390450990c8913569c434ac"
          ]
        },
        "id": "blNGUNoh8BKj",
        "outputId": "19ecfa41-2b11-4b0f-d537-fea70d546d2b"
      },
      "execution_count": 271,
      "outputs": [
        {
          "output_type": "display_data",
          "data": {
            "text/plain": [
              "  0%|          | 0/1279 [00:00<?, ?it/s]"
            ],
            "application/vnd.jupyter.widget-view+json": {
              "version_major": 2,
              "version_minor": 0,
              "model_id": "bcda0acd22d144d0a97e61486d435797"
            }
          },
          "metadata": {}
        },
        {
          "output_type": "stream",
          "name": "stdout",
          "text": [
            "(1279, 1)\n"
          ]
        },
        {
          "output_type": "display_data",
          "data": {
            "text/plain": [
              "  0%|          | 0/1514 [00:00<?, ?it/s]"
            ],
            "application/vnd.jupyter.widget-view+json": {
              "version_major": 2,
              "version_minor": 0,
              "model_id": "fe373f7b447c4d48ac7e5ad7b475220e"
            }
          },
          "metadata": {}
        },
        {
          "output_type": "stream",
          "name": "stdout",
          "text": [
            "(1514, 1)\n"
          ]
        }
      ]
    },
    {
      "cell_type": "code",
      "source": [
        "scaler = RobustScaler(quantile_range=(30.0, 70.0))\n",
        "zero_delta_train, zero_delta_test= scaled_df(zero_delta_train,\n",
        "                                 df_train,\n",
        "                                 zero_delta_test,\n",
        "                                 df_test,\n",
        "                                 scaler)\n",
        "\n",
        "zero_delta_train.columns = ['Zero Crossing Rate delta']\n",
        "zero_delta_test.columns = ['Zero Crossing Rate delta']"
      ],
      "metadata": {
        "id": "XT4EjvO68MmT"
      },
      "execution_count": 272,
      "outputs": []
    },
    {
      "cell_type": "markdown",
      "metadata": {
        "id": "BMlOpQBdcn7E"
      },
      "source": [
        "### RMS"
      ]
    },
    {
      "cell_type": "markdown",
      "metadata": {
        "id": "4upIh3wEcp9w"
      },
      "source": [
        "* Compute root-mean-square (RMS) value for each frame, either from the audio samples y or from a spectrogram S."
      ]
    },
    {
      "cell_type": "code",
      "execution_count": 273,
      "metadata": {
        "id": "uA8-UtKpcr54"
      },
      "outputs": [],
      "source": [
        "def get_rms_feature(df):\n",
        "    features = []\n",
        "    for path in tqdm(df['SAMPLE_PATH']):\n",
        "        # librosa패키지를 사용하여 wav 파일 load\n",
        "        y, sr = librosa.load(path, sr=16000)\n",
        "        \n",
        "        # librosa패키지를 사용하여 RMS 추출\n",
        "        rms = librosa.feature.rms(y=y)\n",
        "\n",
        "        y_feature = []\n",
        "        # 추출된 RMS의 절사평균을 Feature로 사용\n",
        "        for e in rms:\n",
        "\n",
        "            e = np.mean(e)\n",
        "\n",
        "            y_feature.append(e)\n",
        "\n",
        "        features.append(y_feature)\n",
        "    \n",
        "    rms_df = pd.DataFrame(features,\n",
        "                           columns=['RMS'])\n",
        "\n",
        "    print(rms_df.shape)\n",
        "\n",
        "    return rms_df"
      ]
    },
    {
      "cell_type": "code",
      "execution_count": 274,
      "metadata": {
        "colab": {
          "base_uri": "https://localhost:8080/",
          "height": 117,
          "referenced_widgets": [
            "747e4c41f7184d8d955e18a2efd8d806",
            "8f86fba10d854dee84178c1b2b4e2473",
            "e2f848da645e4cd68a8a7b95eea0ae58",
            "5c199b08f9ee4ccc86d603f88f27dccb",
            "465c9e269fc247978c1c1c02686fc263",
            "e19790f51c6540619895a619c41880f0",
            "10f4464bc41d4159a1ccd9d337561e53",
            "ded0f7d8553f4344812f06ad17746092",
            "d29d4fe550a148fdacaa31558dd9f144",
            "934ba06f3d48471d9c07c53a9fd9c182",
            "f3817c7256db4b9883afb6efd4cb2d94",
            "585e8a557a8d49d48540902cc770ae8c",
            "cc59d2b11aa14bdf9c6c15e2f670d1fe",
            "6c79595872fe45d3ad90cb20a2012452",
            "41d9ea5d7e9843d585181ae0f307093b",
            "9588b6ec14164f1096451eb177adab5f",
            "03b3e6c79aac404dbb6691a532839987",
            "d562617a6e9f4f8d960ac6cb143f6378",
            "004191f4089e4b2898246948229a5f68",
            "aa9484a7497b44b88525425fbf1faeb2",
            "5feb199e93f1415eb593d23fa112fff4",
            "771b7c4e3bea498a84d82ee6322674cb"
          ]
        },
        "id": "VdjolVtuc80c",
        "outputId": "7daae432-f869-462f-d5f3-5bfa55f507da"
      },
      "outputs": [
        {
          "output_type": "display_data",
          "data": {
            "text/plain": [
              "  0%|          | 0/1279 [00:00<?, ?it/s]"
            ],
            "application/vnd.jupyter.widget-view+json": {
              "version_major": 2,
              "version_minor": 0,
              "model_id": "747e4c41f7184d8d955e18a2efd8d806"
            }
          },
          "metadata": {}
        },
        {
          "output_type": "stream",
          "name": "stdout",
          "text": [
            "(1279, 1)\n"
          ]
        },
        {
          "output_type": "display_data",
          "data": {
            "text/plain": [
              "  0%|          | 0/1514 [00:00<?, ?it/s]"
            ],
            "application/vnd.jupyter.widget-view+json": {
              "version_major": 2,
              "version_minor": 0,
              "model_id": "585e8a557a8d49d48540902cc770ae8c"
            }
          },
          "metadata": {}
        },
        {
          "output_type": "stream",
          "name": "stdout",
          "text": [
            "(1514, 1)\n"
          ]
        }
      ],
      "source": [
        "rms_train = get_rms_feature(df_train)\n",
        "rms_test = get_rms_feature(df_test)"
      ]
    },
    {
      "cell_type": "code",
      "execution_count": 275,
      "metadata": {
        "id": "zbsT7yxQdDRa"
      },
      "outputs": [],
      "source": [
        "scaler = RobustScaler(quantile_range=(30.0, 70.0))\n",
        "rms_train, rms_test= scaled_df(rms_train,\n",
        "                                 df_train,\n",
        "                                 rms_test,\n",
        "                                 df_test,\n",
        "                                 scaler)\n",
        "\n",
        "rms_train.columns = ['RMS']\n",
        "rms_test.columns = ['RMS']"
      ]
    },
    {
      "cell_type": "code",
      "execution_count": 276,
      "metadata": {
        "colab": {
          "base_uri": "https://localhost:8080/",
          "height": 206
        },
        "id": "PaV_tpEbdHQZ",
        "outputId": "c1bad347-6182-40eb-f7fc-577c2ac001ac"
      },
      "outputs": [
        {
          "output_type": "execute_result",
          "data": {
            "text/plain": [
              "        RMS\n",
              "0  0.604250\n",
              "1 -0.069225\n",
              "2 -1.169248\n",
              "3  0.964734\n",
              "4 -1.032836"
            ],
            "text/html": [
              "\n",
              "  <div id=\"df-f1feab00-365e-416a-90d4-cb384cfd73dc\">\n",
              "    <div class=\"colab-df-container\">\n",
              "      <div>\n",
              "<style scoped>\n",
              "    .dataframe tbody tr th:only-of-type {\n",
              "        vertical-align: middle;\n",
              "    }\n",
              "\n",
              "    .dataframe tbody tr th {\n",
              "        vertical-align: top;\n",
              "    }\n",
              "\n",
              "    .dataframe thead th {\n",
              "        text-align: right;\n",
              "    }\n",
              "</style>\n",
              "<table border=\"1\" class=\"dataframe\">\n",
              "  <thead>\n",
              "    <tr style=\"text-align: right;\">\n",
              "      <th></th>\n",
              "      <th>RMS</th>\n",
              "    </tr>\n",
              "  </thead>\n",
              "  <tbody>\n",
              "    <tr>\n",
              "      <th>0</th>\n",
              "      <td>0.604250</td>\n",
              "    </tr>\n",
              "    <tr>\n",
              "      <th>1</th>\n",
              "      <td>-0.069225</td>\n",
              "    </tr>\n",
              "    <tr>\n",
              "      <th>2</th>\n",
              "      <td>-1.169248</td>\n",
              "    </tr>\n",
              "    <tr>\n",
              "      <th>3</th>\n",
              "      <td>0.964734</td>\n",
              "    </tr>\n",
              "    <tr>\n",
              "      <th>4</th>\n",
              "      <td>-1.032836</td>\n",
              "    </tr>\n",
              "  </tbody>\n",
              "</table>\n",
              "</div>\n",
              "      <button class=\"colab-df-convert\" onclick=\"convertToInteractive('df-f1feab00-365e-416a-90d4-cb384cfd73dc')\"\n",
              "              title=\"Convert this dataframe to an interactive table.\"\n",
              "              style=\"display:none;\">\n",
              "        \n",
              "  <svg xmlns=\"http://www.w3.org/2000/svg\" height=\"24px\"viewBox=\"0 0 24 24\"\n",
              "       width=\"24px\">\n",
              "    <path d=\"M0 0h24v24H0V0z\" fill=\"none\"/>\n",
              "    <path d=\"M18.56 5.44l.94 2.06.94-2.06 2.06-.94-2.06-.94-.94-2.06-.94 2.06-2.06.94zm-11 1L8.5 8.5l.94-2.06 2.06-.94-2.06-.94L8.5 2.5l-.94 2.06-2.06.94zm10 10l.94 2.06.94-2.06 2.06-.94-2.06-.94-.94-2.06-.94 2.06-2.06.94z\"/><path d=\"M17.41 7.96l-1.37-1.37c-.4-.4-.92-.59-1.43-.59-.52 0-1.04.2-1.43.59L10.3 9.45l-7.72 7.72c-.78.78-.78 2.05 0 2.83L4 21.41c.39.39.9.59 1.41.59.51 0 1.02-.2 1.41-.59l7.78-7.78 2.81-2.81c.8-.78.8-2.07 0-2.86zM5.41 20L4 18.59l7.72-7.72 1.47 1.35L5.41 20z\"/>\n",
              "  </svg>\n",
              "      </button>\n",
              "      \n",
              "  <style>\n",
              "    .colab-df-container {\n",
              "      display:flex;\n",
              "      flex-wrap:wrap;\n",
              "      gap: 12px;\n",
              "    }\n",
              "\n",
              "    .colab-df-convert {\n",
              "      background-color: #E8F0FE;\n",
              "      border: none;\n",
              "      border-radius: 50%;\n",
              "      cursor: pointer;\n",
              "      display: none;\n",
              "      fill: #1967D2;\n",
              "      height: 32px;\n",
              "      padding: 0 0 0 0;\n",
              "      width: 32px;\n",
              "    }\n",
              "\n",
              "    .colab-df-convert:hover {\n",
              "      background-color: #E2EBFA;\n",
              "      box-shadow: 0px 1px 2px rgba(60, 64, 67, 0.3), 0px 1px 3px 1px rgba(60, 64, 67, 0.15);\n",
              "      fill: #174EA6;\n",
              "    }\n",
              "\n",
              "    [theme=dark] .colab-df-convert {\n",
              "      background-color: #3B4455;\n",
              "      fill: #D2E3FC;\n",
              "    }\n",
              "\n",
              "    [theme=dark] .colab-df-convert:hover {\n",
              "      background-color: #434B5C;\n",
              "      box-shadow: 0px 1px 3px 1px rgba(0, 0, 0, 0.15);\n",
              "      filter: drop-shadow(0px 1px 2px rgba(0, 0, 0, 0.3));\n",
              "      fill: #FFFFFF;\n",
              "    }\n",
              "  </style>\n",
              "\n",
              "      <script>\n",
              "        const buttonEl =\n",
              "          document.querySelector('#df-f1feab00-365e-416a-90d4-cb384cfd73dc button.colab-df-convert');\n",
              "        buttonEl.style.display =\n",
              "          google.colab.kernel.accessAllowed ? 'block' : 'none';\n",
              "\n",
              "        async function convertToInteractive(key) {\n",
              "          const element = document.querySelector('#df-f1feab00-365e-416a-90d4-cb384cfd73dc');\n",
              "          const dataTable =\n",
              "            await google.colab.kernel.invokeFunction('convertToInteractive',\n",
              "                                                     [key], {});\n",
              "          if (!dataTable) return;\n",
              "\n",
              "          const docLinkHtml = 'Like what you see? Visit the ' +\n",
              "            '<a target=\"_blank\" href=https://colab.research.google.com/notebooks/data_table.ipynb>data table notebook</a>'\n",
              "            + ' to learn more about interactive tables.';\n",
              "          element.innerHTML = '';\n",
              "          dataTable['output_type'] = 'display_data';\n",
              "          await google.colab.output.renderOutput(dataTable, element);\n",
              "          const docLink = document.createElement('div');\n",
              "          docLink.innerHTML = docLinkHtml;\n",
              "          element.appendChild(docLink);\n",
              "        }\n",
              "      </script>\n",
              "    </div>\n",
              "  </div>\n",
              "  "
            ]
          },
          "metadata": {},
          "execution_count": 276
        }
      ],
      "source": [
        "rms_train.head()"
      ]
    },
    {
      "cell_type": "code",
      "source": [
        "def get_rms_delta_feature(df):\n",
        "    features = []\n",
        "    for path in tqdm(df['SAMPLE_PATH']):\n",
        "        # librosa패키지를 사용하여 wav 파일 load\n",
        "        y, sr = librosa.load(path, sr=16000)\n",
        "        \n",
        "        # librosa패키지를 사용하여 RMS 추출\n",
        "        rms = librosa.feature.rms(y=y)\n",
        "        rms = librosa.feature.delta(\n",
        "                                   rms,\n",
        "                                   order=1\n",
        "                                   )\n",
        "\n",
        "        y_feature = []\n",
        "        # 추출된 RMS의 절사평균을 Feature로 사용\n",
        "        for e in rms:\n",
        "\n",
        "            e = np.mean(e)\n",
        "\n",
        "            y_feature.append(e)\n",
        "\n",
        "        features.append(y_feature)\n",
        "    \n",
        "    rms_df = pd.DataFrame(features,\n",
        "                           columns=['RMS_delta'])\n",
        "\n",
        "    print(rms_df.shape)\n",
        "\n",
        "    return rms_df"
      ],
      "metadata": {
        "id": "8hxMD1VQ1z6-"
      },
      "execution_count": 277,
      "outputs": []
    },
    {
      "cell_type": "code",
      "source": [
        "rms_delta_train = get_rms_delta_feature(df_train)\n",
        "rms_delta_test = get_rms_delta_feature(df_test)"
      ],
      "metadata": {
        "colab": {
          "base_uri": "https://localhost:8080/",
          "height": 117,
          "referenced_widgets": [
            "51906213f7ce4bcc93359fc5769cd27d",
            "b04b88e54f3d44118012cbc8013a24ee",
            "2f2f68710757468db127e323cac798d9",
            "129486ddd0a34083b14ed9cde953285d",
            "416d3b8677ce47e9a49753d4bd867fa2",
            "dee18b10a5e54cbf803b751552be4ecc",
            "6484ac33488c47b39e5f2dc846ee851b",
            "0feb116cf6bf43dc87af5783990a4251",
            "95244ab55df04384a4f4c91b6e478bdc",
            "7ea9d653490749ad94fbd52a300a8f6d",
            "cf47387bfeda4e5a8da6719da0022245",
            "4e2dee6324924da5add98fa9d9660a0f",
            "dcc0dd4778f9496c968a33bfaae244b1",
            "1ea9c2fc8d5b4209aab49b7f3d89e3af",
            "a8705cebbff74438b3fc8766e83f382e",
            "7bc9689e6e5447f0a60802628acd0015",
            "2f9b2f0b0540453d9399f5a0280cc0fa",
            "5649dd11d13645b2834eb88e0325043e",
            "f1b291952462421ea3470b8d8618a8ea",
            "39a5a90e0f984f999e1157a3ec54b69d",
            "7dc7423fc937430286fd2f5352cfe3b3",
            "96df0849a04f4dd08c77cf312f79a57c"
          ]
        },
        "id": "k-qhsS6-2C79",
        "outputId": "25cc061a-5180-417b-f6bb-3eba1df07c81"
      },
      "execution_count": 278,
      "outputs": [
        {
          "output_type": "display_data",
          "data": {
            "text/plain": [
              "  0%|          | 0/1279 [00:00<?, ?it/s]"
            ],
            "application/vnd.jupyter.widget-view+json": {
              "version_major": 2,
              "version_minor": 0,
              "model_id": "51906213f7ce4bcc93359fc5769cd27d"
            }
          },
          "metadata": {}
        },
        {
          "output_type": "stream",
          "name": "stdout",
          "text": [
            "(1279, 1)\n"
          ]
        },
        {
          "output_type": "display_data",
          "data": {
            "text/plain": [
              "  0%|          | 0/1514 [00:00<?, ?it/s]"
            ],
            "application/vnd.jupyter.widget-view+json": {
              "version_major": 2,
              "version_minor": 0,
              "model_id": "4e2dee6324924da5add98fa9d9660a0f"
            }
          },
          "metadata": {}
        },
        {
          "output_type": "stream",
          "name": "stdout",
          "text": [
            "(1514, 1)\n"
          ]
        }
      ]
    },
    {
      "cell_type": "code",
      "source": [
        "scaler = RobustScaler(quantile_range=(30.0, 70.0))\n",
        "rms_delta_train, rms_delta_test= scaled_df(rms_delta_train,\n",
        "                                 df_train,\n",
        "                                 rms_delta_test,\n",
        "                                 df_test,\n",
        "                                 scaler)\n",
        "\n",
        "rms_delta_train.columns = ['RMS_delta']\n",
        "rms_delta_test.columns = ['RMS_delta']"
      ],
      "metadata": {
        "id": "5VwdwF5_2IRx"
      },
      "execution_count": 279,
      "outputs": []
    },
    {
      "cell_type": "code",
      "source": [
        "rms_delta_train.head()"
      ],
      "metadata": {
        "colab": {
          "base_uri": "https://localhost:8080/",
          "height": 206
        },
        "id": "kDusJRTH4Hm8",
        "outputId": "6593be78-e60a-486f-90f7-b521bae4375c"
      },
      "execution_count": 280,
      "outputs": [
        {
          "output_type": "execute_result",
          "data": {
            "text/plain": [
              "   RMS_delta\n",
              "0  -0.950103\n",
              "1  -0.210168\n",
              "2  -0.394634\n",
              "3  -0.498739\n",
              "4  -1.281722"
            ],
            "text/html": [
              "\n",
              "  <div id=\"df-7beadc77-eb61-4ab4-bf7d-f73a7d30d57d\">\n",
              "    <div class=\"colab-df-container\">\n",
              "      <div>\n",
              "<style scoped>\n",
              "    .dataframe tbody tr th:only-of-type {\n",
              "        vertical-align: middle;\n",
              "    }\n",
              "\n",
              "    .dataframe tbody tr th {\n",
              "        vertical-align: top;\n",
              "    }\n",
              "\n",
              "    .dataframe thead th {\n",
              "        text-align: right;\n",
              "    }\n",
              "</style>\n",
              "<table border=\"1\" class=\"dataframe\">\n",
              "  <thead>\n",
              "    <tr style=\"text-align: right;\">\n",
              "      <th></th>\n",
              "      <th>RMS_delta</th>\n",
              "    </tr>\n",
              "  </thead>\n",
              "  <tbody>\n",
              "    <tr>\n",
              "      <th>0</th>\n",
              "      <td>-0.950103</td>\n",
              "    </tr>\n",
              "    <tr>\n",
              "      <th>1</th>\n",
              "      <td>-0.210168</td>\n",
              "    </tr>\n",
              "    <tr>\n",
              "      <th>2</th>\n",
              "      <td>-0.394634</td>\n",
              "    </tr>\n",
              "    <tr>\n",
              "      <th>3</th>\n",
              "      <td>-0.498739</td>\n",
              "    </tr>\n",
              "    <tr>\n",
              "      <th>4</th>\n",
              "      <td>-1.281722</td>\n",
              "    </tr>\n",
              "  </tbody>\n",
              "</table>\n",
              "</div>\n",
              "      <button class=\"colab-df-convert\" onclick=\"convertToInteractive('df-7beadc77-eb61-4ab4-bf7d-f73a7d30d57d')\"\n",
              "              title=\"Convert this dataframe to an interactive table.\"\n",
              "              style=\"display:none;\">\n",
              "        \n",
              "  <svg xmlns=\"http://www.w3.org/2000/svg\" height=\"24px\"viewBox=\"0 0 24 24\"\n",
              "       width=\"24px\">\n",
              "    <path d=\"M0 0h24v24H0V0z\" fill=\"none\"/>\n",
              "    <path d=\"M18.56 5.44l.94 2.06.94-2.06 2.06-.94-2.06-.94-.94-2.06-.94 2.06-2.06.94zm-11 1L8.5 8.5l.94-2.06 2.06-.94-2.06-.94L8.5 2.5l-.94 2.06-2.06.94zm10 10l.94 2.06.94-2.06 2.06-.94-2.06-.94-.94-2.06-.94 2.06-2.06.94z\"/><path d=\"M17.41 7.96l-1.37-1.37c-.4-.4-.92-.59-1.43-.59-.52 0-1.04.2-1.43.59L10.3 9.45l-7.72 7.72c-.78.78-.78 2.05 0 2.83L4 21.41c.39.39.9.59 1.41.59.51 0 1.02-.2 1.41-.59l7.78-7.78 2.81-2.81c.8-.78.8-2.07 0-2.86zM5.41 20L4 18.59l7.72-7.72 1.47 1.35L5.41 20z\"/>\n",
              "  </svg>\n",
              "      </button>\n",
              "      \n",
              "  <style>\n",
              "    .colab-df-container {\n",
              "      display:flex;\n",
              "      flex-wrap:wrap;\n",
              "      gap: 12px;\n",
              "    }\n",
              "\n",
              "    .colab-df-convert {\n",
              "      background-color: #E8F0FE;\n",
              "      border: none;\n",
              "      border-radius: 50%;\n",
              "      cursor: pointer;\n",
              "      display: none;\n",
              "      fill: #1967D2;\n",
              "      height: 32px;\n",
              "      padding: 0 0 0 0;\n",
              "      width: 32px;\n",
              "    }\n",
              "\n",
              "    .colab-df-convert:hover {\n",
              "      background-color: #E2EBFA;\n",
              "      box-shadow: 0px 1px 2px rgba(60, 64, 67, 0.3), 0px 1px 3px 1px rgba(60, 64, 67, 0.15);\n",
              "      fill: #174EA6;\n",
              "    }\n",
              "\n",
              "    [theme=dark] .colab-df-convert {\n",
              "      background-color: #3B4455;\n",
              "      fill: #D2E3FC;\n",
              "    }\n",
              "\n",
              "    [theme=dark] .colab-df-convert:hover {\n",
              "      background-color: #434B5C;\n",
              "      box-shadow: 0px 1px 3px 1px rgba(0, 0, 0, 0.15);\n",
              "      filter: drop-shadow(0px 1px 2px rgba(0, 0, 0, 0.3));\n",
              "      fill: #FFFFFF;\n",
              "    }\n",
              "  </style>\n",
              "\n",
              "      <script>\n",
              "        const buttonEl =\n",
              "          document.querySelector('#df-7beadc77-eb61-4ab4-bf7d-f73a7d30d57d button.colab-df-convert');\n",
              "        buttonEl.style.display =\n",
              "          google.colab.kernel.accessAllowed ? 'block' : 'none';\n",
              "\n",
              "        async function convertToInteractive(key) {\n",
              "          const element = document.querySelector('#df-7beadc77-eb61-4ab4-bf7d-f73a7d30d57d');\n",
              "          const dataTable =\n",
              "            await google.colab.kernel.invokeFunction('convertToInteractive',\n",
              "                                                     [key], {});\n",
              "          if (!dataTable) return;\n",
              "\n",
              "          const docLinkHtml = 'Like what you see? Visit the ' +\n",
              "            '<a target=\"_blank\" href=https://colab.research.google.com/notebooks/data_table.ipynb>data table notebook</a>'\n",
              "            + ' to learn more about interactive tables.';\n",
              "          element.innerHTML = '';\n",
              "          dataTable['output_type'] = 'display_data';\n",
              "          await google.colab.output.renderOutput(dataTable, element);\n",
              "          const docLink = document.createElement('div');\n",
              "          docLink.innerHTML = docLinkHtml;\n",
              "          element.appendChild(docLink);\n",
              "        }\n",
              "      </script>\n",
              "    </div>\n",
              "  </div>\n",
              "  "
            ]
          },
          "metadata": {},
          "execution_count": 280
        }
      ]
    },
    {
      "cell_type": "markdown",
      "metadata": {
        "id": "GE3zFrGj433-"
      },
      "source": [
        "### Poly Feature"
      ]
    },
    {
      "cell_type": "markdown",
      "metadata": {
        "id": "GMfvAqNLKEBt"
      },
      "source": [
        "* Get coefficients of fitting an nth-order polynomial to the columns of a spectrogram."
      ]
    },
    {
      "cell_type": "code",
      "execution_count": 19,
      "metadata": {
        "id": "AQQkSk3L42yF"
      },
      "outputs": [],
      "source": [
        "def get_poly_feature(df):\n",
        "    features = []\n",
        "    for path in tqdm(df['SAMPLE_PATH']):\n",
        "        # librosa패키지를 사용하여 wav 파일 load\n",
        "        y, sr = librosa.load(path, sr=16000)\n",
        "        \n",
        "        # librosa패키지를 사용하여 poly 추출\n",
        "        poly = librosa.feature.poly_features(\n",
        "                                             y=y,\n",
        "                                             sr=sr,\n",
        "                                             #order=2\n",
        "                                             )\n",
        "\n",
        "        y_feature = []\n",
        "        # 추출된 Poly들의 평균을 Feature로 사용\n",
        "        for e in poly:\n",
        "\n",
        "            y_feature.append(np.mean(e))\n",
        "\n",
        "        features.append(y_feature)\n",
        "\n",
        "    columns = ['Poly'+str(i) for i in range(len(features[0]))]\n",
        "    \n",
        "    poly_df = pd.DataFrame(features,\n",
        "                           columns=columns)\n",
        "\n",
        "    print(poly_df.shape)\n",
        "\n",
        "    return poly_df"
      ]
    },
    {
      "cell_type": "code",
      "execution_count": 20,
      "metadata": {
        "colab": {
          "base_uri": "https://localhost:8080/",
          "height": 117,
          "referenced_widgets": [
            "9e8b43bb1cc7452cac2ae343ea753a8c",
            "1c14b393a46347f49b10522028da5da4",
            "85b99f0476944dd08e094f5ca224383c",
            "03c55a2809694cc8a2c220ed97d6772a",
            "bfc5ec1f4aaf4fb9a99fa501b41696b5",
            "754bf986e83c44719d5fa3a507aa39ab",
            "4f632b28269e4407b902c7ad0a78bfb6",
            "7f898138ed3542cfa49ef3aa8622f96e",
            "0a2f4c9cc11d44269e6cbd0656cf21d1",
            "8b49bc4d19ee421a8c6aa29ff6e76b16",
            "623cc2424c0547b981de8b3538360eae",
            "11d040f4680943fe8009c8e07fe4f88e",
            "1be18f1568c94b30a4a0d3aa1e9ee06d",
            "873441b0c12440398277f15e2300beea",
            "7ae594f89c5e4c70a81223e9cd54b8a6",
            "e072ba0011d94328a27bda87e4711c79",
            "98baaf283dbd443cb8db332dedbba9f2",
            "0759cd6252e44d95837565e213c4ffba",
            "a8ce75802153453eb6cf3b4bbd1061a8",
            "4b112db1dafa4ea296b608081aff8440",
            "e60099c515b14e0786c36411acc75dd4",
            "eacb95765a6e444c8ba1e5a533d2111c"
          ]
        },
        "id": "bhGW4fU648tH",
        "outputId": "89e8473e-de01-4ae7-ab6f-bc66c2185028"
      },
      "outputs": [
        {
          "output_type": "display_data",
          "data": {
            "text/plain": [
              "  0%|          | 0/1279 [00:00<?, ?it/s]"
            ],
            "application/vnd.jupyter.widget-view+json": {
              "version_major": 2,
              "version_minor": 0,
              "model_id": "9e8b43bb1cc7452cac2ae343ea753a8c"
            }
          },
          "metadata": {}
        },
        {
          "output_type": "stream",
          "name": "stdout",
          "text": [
            "(1279, 2)\n"
          ]
        },
        {
          "output_type": "display_data",
          "data": {
            "text/plain": [
              "  0%|          | 0/1514 [00:00<?, ?it/s]"
            ],
            "application/vnd.jupyter.widget-view+json": {
              "version_major": 2,
              "version_minor": 0,
              "model_id": "11d040f4680943fe8009c8e07fe4f88e"
            }
          },
          "metadata": {}
        },
        {
          "output_type": "stream",
          "name": "stdout",
          "text": [
            "(1514, 2)\n"
          ]
        }
      ],
      "source": [
        "poly_train = get_poly_feature(df_train)\n",
        "poly_test = get_poly_feature(df_test)"
      ]
    },
    {
      "cell_type": "code",
      "execution_count": 21,
      "metadata": {
        "id": "sKWu7cTY49oo"
      },
      "outputs": [],
      "source": [
        "scaler = RobustScaler(quantile_range=(40.0, 60.0))\n",
        "poly_train, poly_test= scaled_df(poly_train,\n",
        "                                 df_train,\n",
        "                                 poly_test,\n",
        "                                 df_test,\n",
        "                                 scaler)\n",
        "\n",
        "poly_train.columns = ['Poly_'+str(i) for i in range(len(poly_train.columns))]\n",
        "poly_test.columns = ['Poly_'+str(i) for i in range(len(poly_test.columns))]"
      ]
    },
    {
      "cell_type": "code",
      "execution_count": 22,
      "metadata": {
        "colab": {
          "base_uri": "https://localhost:8080/",
          "height": 206
        },
        "id": "g3GyPnXy5AJq",
        "outputId": "56c4c05e-b1a7-422a-9db4-5a46fd5f1a9e"
      },
      "outputs": [
        {
          "output_type": "execute_result",
          "data": {
            "text/plain": [
              "     Poly_0    Poly_1\n",
              "0 -1.251050  1.773784\n",
              "1  0.500273 -1.051736\n",
              "2  1.853597 -1.256996\n",
              "3 -1.329506  1.690499\n",
              "4  1.831355 -1.390130"
            ],
            "text/html": [
              "\n",
              "  <div id=\"df-d47494d4-fee1-4a85-b203-c7e5c839aa65\">\n",
              "    <div class=\"colab-df-container\">\n",
              "      <div>\n",
              "<style scoped>\n",
              "    .dataframe tbody tr th:only-of-type {\n",
              "        vertical-align: middle;\n",
              "    }\n",
              "\n",
              "    .dataframe tbody tr th {\n",
              "        vertical-align: top;\n",
              "    }\n",
              "\n",
              "    .dataframe thead th {\n",
              "        text-align: right;\n",
              "    }\n",
              "</style>\n",
              "<table border=\"1\" class=\"dataframe\">\n",
              "  <thead>\n",
              "    <tr style=\"text-align: right;\">\n",
              "      <th></th>\n",
              "      <th>Poly_0</th>\n",
              "      <th>Poly_1</th>\n",
              "    </tr>\n",
              "  </thead>\n",
              "  <tbody>\n",
              "    <tr>\n",
              "      <th>0</th>\n",
              "      <td>-1.251050</td>\n",
              "      <td>1.773784</td>\n",
              "    </tr>\n",
              "    <tr>\n",
              "      <th>1</th>\n",
              "      <td>0.500273</td>\n",
              "      <td>-1.051736</td>\n",
              "    </tr>\n",
              "    <tr>\n",
              "      <th>2</th>\n",
              "      <td>1.853597</td>\n",
              "      <td>-1.256996</td>\n",
              "    </tr>\n",
              "    <tr>\n",
              "      <th>3</th>\n",
              "      <td>-1.329506</td>\n",
              "      <td>1.690499</td>\n",
              "    </tr>\n",
              "    <tr>\n",
              "      <th>4</th>\n",
              "      <td>1.831355</td>\n",
              "      <td>-1.390130</td>\n",
              "    </tr>\n",
              "  </tbody>\n",
              "</table>\n",
              "</div>\n",
              "      <button class=\"colab-df-convert\" onclick=\"convertToInteractive('df-d47494d4-fee1-4a85-b203-c7e5c839aa65')\"\n",
              "              title=\"Convert this dataframe to an interactive table.\"\n",
              "              style=\"display:none;\">\n",
              "        \n",
              "  <svg xmlns=\"http://www.w3.org/2000/svg\" height=\"24px\"viewBox=\"0 0 24 24\"\n",
              "       width=\"24px\">\n",
              "    <path d=\"M0 0h24v24H0V0z\" fill=\"none\"/>\n",
              "    <path d=\"M18.56 5.44l.94 2.06.94-2.06 2.06-.94-2.06-.94-.94-2.06-.94 2.06-2.06.94zm-11 1L8.5 8.5l.94-2.06 2.06-.94-2.06-.94L8.5 2.5l-.94 2.06-2.06.94zm10 10l.94 2.06.94-2.06 2.06-.94-2.06-.94-.94-2.06-.94 2.06-2.06.94z\"/><path d=\"M17.41 7.96l-1.37-1.37c-.4-.4-.92-.59-1.43-.59-.52 0-1.04.2-1.43.59L10.3 9.45l-7.72 7.72c-.78.78-.78 2.05 0 2.83L4 21.41c.39.39.9.59 1.41.59.51 0 1.02-.2 1.41-.59l7.78-7.78 2.81-2.81c.8-.78.8-2.07 0-2.86zM5.41 20L4 18.59l7.72-7.72 1.47 1.35L5.41 20z\"/>\n",
              "  </svg>\n",
              "      </button>\n",
              "      \n",
              "  <style>\n",
              "    .colab-df-container {\n",
              "      display:flex;\n",
              "      flex-wrap:wrap;\n",
              "      gap: 12px;\n",
              "    }\n",
              "\n",
              "    .colab-df-convert {\n",
              "      background-color: #E8F0FE;\n",
              "      border: none;\n",
              "      border-radius: 50%;\n",
              "      cursor: pointer;\n",
              "      display: none;\n",
              "      fill: #1967D2;\n",
              "      height: 32px;\n",
              "      padding: 0 0 0 0;\n",
              "      width: 32px;\n",
              "    }\n",
              "\n",
              "    .colab-df-convert:hover {\n",
              "      background-color: #E2EBFA;\n",
              "      box-shadow: 0px 1px 2px rgba(60, 64, 67, 0.3), 0px 1px 3px 1px rgba(60, 64, 67, 0.15);\n",
              "      fill: #174EA6;\n",
              "    }\n",
              "\n",
              "    [theme=dark] .colab-df-convert {\n",
              "      background-color: #3B4455;\n",
              "      fill: #D2E3FC;\n",
              "    }\n",
              "\n",
              "    [theme=dark] .colab-df-convert:hover {\n",
              "      background-color: #434B5C;\n",
              "      box-shadow: 0px 1px 3px 1px rgba(0, 0, 0, 0.15);\n",
              "      filter: drop-shadow(0px 1px 2px rgba(0, 0, 0, 0.3));\n",
              "      fill: #FFFFFF;\n",
              "    }\n",
              "  </style>\n",
              "\n",
              "      <script>\n",
              "        const buttonEl =\n",
              "          document.querySelector('#df-d47494d4-fee1-4a85-b203-c7e5c839aa65 button.colab-df-convert');\n",
              "        buttonEl.style.display =\n",
              "          google.colab.kernel.accessAllowed ? 'block' : 'none';\n",
              "\n",
              "        async function convertToInteractive(key) {\n",
              "          const element = document.querySelector('#df-d47494d4-fee1-4a85-b203-c7e5c839aa65');\n",
              "          const dataTable =\n",
              "            await google.colab.kernel.invokeFunction('convertToInteractive',\n",
              "                                                     [key], {});\n",
              "          if (!dataTable) return;\n",
              "\n",
              "          const docLinkHtml = 'Like what you see? Visit the ' +\n",
              "            '<a target=\"_blank\" href=https://colab.research.google.com/notebooks/data_table.ipynb>data table notebook</a>'\n",
              "            + ' to learn more about interactive tables.';\n",
              "          element.innerHTML = '';\n",
              "          dataTable['output_type'] = 'display_data';\n",
              "          await google.colab.output.renderOutput(dataTable, element);\n",
              "          const docLink = document.createElement('div');\n",
              "          docLink.innerHTML = docLinkHtml;\n",
              "          element.appendChild(docLink);\n",
              "        }\n",
              "      </script>\n",
              "    </div>\n",
              "  </div>\n",
              "  "
            ]
          },
          "metadata": {},
          "execution_count": 22
        }
      ],
      "source": [
        "poly_train.head()"
      ]
    },
    {
      "cell_type": "markdown",
      "metadata": {
        "id": "cDOCeCTv69Dq"
      },
      "source": [
        "### Spectral"
      ]
    },
    {
      "cell_type": "markdown",
      "metadata": {
        "id": "fcTwboG-7CUD"
      },
      "source": [
        "#### Spectral Centroid"
      ]
    },
    {
      "cell_type": "markdown",
      "metadata": {
        "id": "iiIkhm-JV4TW"
      },
      "source": [
        "* Compute the spectral centroid.\n",
        "\n",
        "* Each frame of a magnitude spectrogram is normalized and treated as a distribution over frequency bins, from which the mean (centroid) is extracted per frame.\n",
        "\n",
        "* 음성의 각 프레임마다 평균(중심) 주파수를 반환\n",
        "\n",
        "* Spectrum의 질량중심(Center of mass)을 구한다. Frequency들의 magnitude에 따른 centroid들의 weighted sum이라고 생각하면 된다."
      ]
    },
    {
      "cell_type": "code",
      "execution_count": 23,
      "metadata": {
        "id": "Ct1PFy1J8DjS"
      },
      "outputs": [],
      "source": [
        "def get_spectral_centroid_feature(df):\n",
        "    features = []\n",
        "    for path in tqdm(df['SAMPLE_PATH']):\n",
        "        # librosa패키지를 사용하여 wav 파일 load\n",
        "        y, sr = librosa.load(path, sr=16000)\n",
        "        \n",
        "        # librosa패키지를 사용하여 poly 추출\n",
        "        centroid = librosa.feature.spectral_centroid(y=y, sr=sr)\n",
        "\n",
        "        y_feature = []\n",
        "        # 추출된 Poly들의 평균을 Feature로 사용\n",
        "        for e in centroid:\n",
        "\n",
        "            y_feature.append(np.mean(e))\n",
        "\n",
        "        features.append(y_feature)\n",
        "\n",
        "    columns = ['spectral_centroid_'+str(i) for i in range(len(features[0]))]\n",
        "    \n",
        "    centroid_df = pd.DataFrame(features,\n",
        "                           columns=columns)\n",
        "\n",
        "    print(centroid_df.shape)\n",
        "\n",
        "    return centroid_df"
      ]
    },
    {
      "cell_type": "code",
      "execution_count": 24,
      "metadata": {
        "colab": {
          "base_uri": "https://localhost:8080/",
          "height": 117,
          "referenced_widgets": [
            "443c1d1977ba41a3b579924d7ac5cb38",
            "5d106a53329645b1b5769880244e6ac9",
            "8c2b51cfaf83417a8b974aa3c74a2dce",
            "1427246818234e56924627f05807ccd2",
            "cdd5783bd87046388148715ccaba5183",
            "c7434d51152246f5b8827d6ef55ae300",
            "5d91b5111b634e1d947258a7024a07e5",
            "e0421433ae21453f80cba6dffa160931",
            "ccdd6bc9c368412cbcfab37a725547f3",
            "98bef4da52e5476eb3038a82f454329a",
            "e01d9b9242494553b1af6efe7cd17e00",
            "c90488cf70e64329adc8a2c330e3d417",
            "3fbde33ecc1b42928f8b75b58012fd8b",
            "abf92b53b38e4072817afc130d974844",
            "3917df84993d420480f0dccdab65c9a1",
            "5bd5131434404975a1edb5ebd86d8754",
            "8a06852ad11b40ca97818ee3c958262d",
            "dc8b78a6483d4df6a8ce8c6c7db0fd68",
            "54e131c7b9bf4530ab28b86df3456111",
            "7da8d0f598f2492eaa707d7fbafb696f",
            "721a7ed1d83d43e0bb455a67550cd7ed",
            "2e26a90ef6db47569e128021f1d974c4"
          ]
        },
        "id": "RvAnNF3r8ds_",
        "outputId": "afac779c-adfc-4627-ccd3-635920642a4b"
      },
      "outputs": [
        {
          "output_type": "display_data",
          "data": {
            "text/plain": [
              "  0%|          | 0/1279 [00:00<?, ?it/s]"
            ],
            "application/vnd.jupyter.widget-view+json": {
              "version_major": 2,
              "version_minor": 0,
              "model_id": "443c1d1977ba41a3b579924d7ac5cb38"
            }
          },
          "metadata": {}
        },
        {
          "output_type": "stream",
          "name": "stdout",
          "text": [
            "(1279, 1)\n"
          ]
        },
        {
          "output_type": "display_data",
          "data": {
            "text/plain": [
              "  0%|          | 0/1514 [00:00<?, ?it/s]"
            ],
            "application/vnd.jupyter.widget-view+json": {
              "version_major": 2,
              "version_minor": 0,
              "model_id": "c90488cf70e64329adc8a2c330e3d417"
            }
          },
          "metadata": {}
        },
        {
          "output_type": "stream",
          "name": "stdout",
          "text": [
            "(1514, 1)\n"
          ]
        }
      ],
      "source": [
        "spectral_centroid_train = get_spectral_centroid_feature(df_train)\n",
        "spectral_centroid_test = get_spectral_centroid_feature(df_test)"
      ]
    },
    {
      "cell_type": "code",
      "execution_count": 25,
      "metadata": {
        "id": "qifYEZO38jsT"
      },
      "outputs": [],
      "source": [
        "scaler = RobustScaler(quantile_range=(40.0, 60.0))\n",
        "spectral_centroid_train, spectral_centroid_test= scaled_df(spectral_centroid_train,\n",
        "                                                           df_train,\n",
        "                                                           spectral_centroid_test,\n",
        "                                                           df_test,\n",
        "                                                           scaler)\n",
        "\n",
        "spectral_centroid_train.columns = ['Spectral_Centroid_'+str(i) for i in range(len(spectral_centroid_train.columns))]\n",
        "spectral_centroid_test.columns = ['Spectral_Centroid_'+str(i) for i in range(len(spectral_centroid_test.columns))]"
      ]
    },
    {
      "cell_type": "code",
      "execution_count": 26,
      "metadata": {
        "colab": {
          "base_uri": "https://localhost:8080/",
          "height": 206
        },
        "id": "GsJNPshs8rjw",
        "outputId": "184d4741-e490-4a4c-9a9c-8ecc891c1594"
      },
      "outputs": [
        {
          "output_type": "execute_result",
          "data": {
            "text/plain": [
              "   Spectral_Centroid_0\n",
              "0            -0.168663\n",
              "1            -1.391978\n",
              "2             1.280020\n",
              "3            -0.577659\n",
              "4             2.607732"
            ],
            "text/html": [
              "\n",
              "  <div id=\"df-caf49ba5-0509-41ab-9e7d-020c2dc7d471\">\n",
              "    <div class=\"colab-df-container\">\n",
              "      <div>\n",
              "<style scoped>\n",
              "    .dataframe tbody tr th:only-of-type {\n",
              "        vertical-align: middle;\n",
              "    }\n",
              "\n",
              "    .dataframe tbody tr th {\n",
              "        vertical-align: top;\n",
              "    }\n",
              "\n",
              "    .dataframe thead th {\n",
              "        text-align: right;\n",
              "    }\n",
              "</style>\n",
              "<table border=\"1\" class=\"dataframe\">\n",
              "  <thead>\n",
              "    <tr style=\"text-align: right;\">\n",
              "      <th></th>\n",
              "      <th>Spectral_Centroid_0</th>\n",
              "    </tr>\n",
              "  </thead>\n",
              "  <tbody>\n",
              "    <tr>\n",
              "      <th>0</th>\n",
              "      <td>-0.168663</td>\n",
              "    </tr>\n",
              "    <tr>\n",
              "      <th>1</th>\n",
              "      <td>-1.391978</td>\n",
              "    </tr>\n",
              "    <tr>\n",
              "      <th>2</th>\n",
              "      <td>1.280020</td>\n",
              "    </tr>\n",
              "    <tr>\n",
              "      <th>3</th>\n",
              "      <td>-0.577659</td>\n",
              "    </tr>\n",
              "    <tr>\n",
              "      <th>4</th>\n",
              "      <td>2.607732</td>\n",
              "    </tr>\n",
              "  </tbody>\n",
              "</table>\n",
              "</div>\n",
              "      <button class=\"colab-df-convert\" onclick=\"convertToInteractive('df-caf49ba5-0509-41ab-9e7d-020c2dc7d471')\"\n",
              "              title=\"Convert this dataframe to an interactive table.\"\n",
              "              style=\"display:none;\">\n",
              "        \n",
              "  <svg xmlns=\"http://www.w3.org/2000/svg\" height=\"24px\"viewBox=\"0 0 24 24\"\n",
              "       width=\"24px\">\n",
              "    <path d=\"M0 0h24v24H0V0z\" fill=\"none\"/>\n",
              "    <path d=\"M18.56 5.44l.94 2.06.94-2.06 2.06-.94-2.06-.94-.94-2.06-.94 2.06-2.06.94zm-11 1L8.5 8.5l.94-2.06 2.06-.94-2.06-.94L8.5 2.5l-.94 2.06-2.06.94zm10 10l.94 2.06.94-2.06 2.06-.94-2.06-.94-.94-2.06-.94 2.06-2.06.94z\"/><path d=\"M17.41 7.96l-1.37-1.37c-.4-.4-.92-.59-1.43-.59-.52 0-1.04.2-1.43.59L10.3 9.45l-7.72 7.72c-.78.78-.78 2.05 0 2.83L4 21.41c.39.39.9.59 1.41.59.51 0 1.02-.2 1.41-.59l7.78-7.78 2.81-2.81c.8-.78.8-2.07 0-2.86zM5.41 20L4 18.59l7.72-7.72 1.47 1.35L5.41 20z\"/>\n",
              "  </svg>\n",
              "      </button>\n",
              "      \n",
              "  <style>\n",
              "    .colab-df-container {\n",
              "      display:flex;\n",
              "      flex-wrap:wrap;\n",
              "      gap: 12px;\n",
              "    }\n",
              "\n",
              "    .colab-df-convert {\n",
              "      background-color: #E8F0FE;\n",
              "      border: none;\n",
              "      border-radius: 50%;\n",
              "      cursor: pointer;\n",
              "      display: none;\n",
              "      fill: #1967D2;\n",
              "      height: 32px;\n",
              "      padding: 0 0 0 0;\n",
              "      width: 32px;\n",
              "    }\n",
              "\n",
              "    .colab-df-convert:hover {\n",
              "      background-color: #E2EBFA;\n",
              "      box-shadow: 0px 1px 2px rgba(60, 64, 67, 0.3), 0px 1px 3px 1px rgba(60, 64, 67, 0.15);\n",
              "      fill: #174EA6;\n",
              "    }\n",
              "\n",
              "    [theme=dark] .colab-df-convert {\n",
              "      background-color: #3B4455;\n",
              "      fill: #D2E3FC;\n",
              "    }\n",
              "\n",
              "    [theme=dark] .colab-df-convert:hover {\n",
              "      background-color: #434B5C;\n",
              "      box-shadow: 0px 1px 3px 1px rgba(0, 0, 0, 0.15);\n",
              "      filter: drop-shadow(0px 1px 2px rgba(0, 0, 0, 0.3));\n",
              "      fill: #FFFFFF;\n",
              "    }\n",
              "  </style>\n",
              "\n",
              "      <script>\n",
              "        const buttonEl =\n",
              "          document.querySelector('#df-caf49ba5-0509-41ab-9e7d-020c2dc7d471 button.colab-df-convert');\n",
              "        buttonEl.style.display =\n",
              "          google.colab.kernel.accessAllowed ? 'block' : 'none';\n",
              "\n",
              "        async function convertToInteractive(key) {\n",
              "          const element = document.querySelector('#df-caf49ba5-0509-41ab-9e7d-020c2dc7d471');\n",
              "          const dataTable =\n",
              "            await google.colab.kernel.invokeFunction('convertToInteractive',\n",
              "                                                     [key], {});\n",
              "          if (!dataTable) return;\n",
              "\n",
              "          const docLinkHtml = 'Like what you see? Visit the ' +\n",
              "            '<a target=\"_blank\" href=https://colab.research.google.com/notebooks/data_table.ipynb>data table notebook</a>'\n",
              "            + ' to learn more about interactive tables.';\n",
              "          element.innerHTML = '';\n",
              "          dataTable['output_type'] = 'display_data';\n",
              "          await google.colab.output.renderOutput(dataTable, element);\n",
              "          const docLink = document.createElement('div');\n",
              "          docLink.innerHTML = docLinkHtml;\n",
              "          element.appendChild(docLink);\n",
              "        }\n",
              "      </script>\n",
              "    </div>\n",
              "  </div>\n",
              "  "
            ]
          },
          "metadata": {},
          "execution_count": 26
        }
      ],
      "source": [
        "spectral_centroid_train.head()"
      ]
    },
    {
      "cell_type": "markdown",
      "metadata": {
        "id": "CSMig4WX7EhJ"
      },
      "source": [
        "#### Spectral bandwidth"
      ]
    },
    {
      "cell_type": "markdown",
      "metadata": {
        "id": "vehq_m8iYOdS"
      },
      "source": [
        "* Compute p’th-order spectral bandwidth.\n",
        "\n",
        "* Spectrum의 bandwidth를 측정한다. Frequency들의 magnitude에 따른 centroid의 s.t.d.들의 weighted sum이라고 생각하면 된다."
      ]
    },
    {
      "cell_type": "code",
      "execution_count": 27,
      "metadata": {
        "id": "w5LEmLM2934Q"
      },
      "outputs": [],
      "source": [
        "def get_spectral_bandwidth_feature(df):\n",
        "    features = []\n",
        "    for path in tqdm(df['SAMPLE_PATH']):\n",
        "        # librosa패키지를 사용하여 wav 파일 load\n",
        "        y, sr = librosa.load(path, sr=16000)\n",
        "        \n",
        "        # librosa패키지를 사용하여 poly 추출\n",
        "        bandwidth = librosa.feature.spectral_bandwidth(y=y, sr=sr)\n",
        "\n",
        "        y_feature = []\n",
        "        # 추출된 Poly들의 평균을 Feature로 사용\n",
        "        for e in bandwidth:\n",
        "\n",
        "            y_feature.append(np.mean(e))\n",
        "\n",
        "        features.append(y_feature)\n",
        "\n",
        "    columns = ['spectral_bandwidth_'+str(i) for i in range(len(features[0]))]\n",
        "    \n",
        "    bandwidth_df = pd.DataFrame(features,\n",
        "                           columns=columns)\n",
        "\n",
        "    print(bandwidth_df.shape)\n",
        "\n",
        "    return bandwidth_df"
      ]
    },
    {
      "cell_type": "code",
      "execution_count": 28,
      "metadata": {
        "colab": {
          "base_uri": "https://localhost:8080/",
          "height": 117,
          "referenced_widgets": [
            "2ac6969019fb49f7929f1685af0200d6",
            "ccdaae722a1c45ea8366f32bdd518bf0",
            "6a5420887b904b35b1af5cc7bfe58f24",
            "3db478a8871e453db4bf7b3a43e2274c",
            "a4fc5af623d54e1a8b019803382be46d",
            "3194e0cbe077491196e3769ce71d0153",
            "6a9014a2d0b5488fabf0d881de67eee2",
            "36e3db45a53542b6a6fa1047d2795ab0",
            "38601fa59ebf4813978e0ca4dd56ce11",
            "7fe3571879e74de99a3c6f5a84aeb886",
            "4ab1ad142a724a3cb664d0dcd8c79492",
            "75704f7a304d43069803d3a98a6080b2",
            "f74da3a293af4407805bca18c99ca258",
            "1c7f8039b213455db95e6c6296223ef0",
            "7b35ae45a78f466e926e260415c95459",
            "fba0b7c434ba4d68bc2cd6113e2103d4",
            "5071f033cb9c4089b9d05d732859bd74",
            "9762d685d37f411d9e29cde8f5ada4da",
            "4455e273b0aa47ab909f6a198d24b8b3",
            "913610d3466245509a303a2faf252371",
            "528d8c9c1f6d4525b406cb4879fa03f7",
            "53060b721693484ebfb318f743cce95d"
          ]
        },
        "id": "zu-Qp8Cf-Izn",
        "outputId": "ad1a608a-b203-4878-895e-9bde2f9519ef"
      },
      "outputs": [
        {
          "output_type": "display_data",
          "data": {
            "text/plain": [
              "  0%|          | 0/1279 [00:00<?, ?it/s]"
            ],
            "application/vnd.jupyter.widget-view+json": {
              "version_major": 2,
              "version_minor": 0,
              "model_id": "2ac6969019fb49f7929f1685af0200d6"
            }
          },
          "metadata": {}
        },
        {
          "output_type": "stream",
          "name": "stdout",
          "text": [
            "(1279, 1)\n"
          ]
        },
        {
          "output_type": "display_data",
          "data": {
            "text/plain": [
              "  0%|          | 0/1514 [00:00<?, ?it/s]"
            ],
            "application/vnd.jupyter.widget-view+json": {
              "version_major": 2,
              "version_minor": 0,
              "model_id": "75704f7a304d43069803d3a98a6080b2"
            }
          },
          "metadata": {}
        },
        {
          "output_type": "stream",
          "name": "stdout",
          "text": [
            "(1514, 1)\n"
          ]
        }
      ],
      "source": [
        "spectral_bandwidth_train = get_spectral_bandwidth_feature(df_train)\n",
        "spectral_bandwidth_test = get_spectral_bandwidth_feature(df_test)"
      ]
    },
    {
      "cell_type": "code",
      "execution_count": 29,
      "metadata": {
        "id": "GAMJLkxK-QGf"
      },
      "outputs": [],
      "source": [
        "scaler = RobustScaler(quantile_range=(40.0, 60.0))\n",
        "spectral_bandwidth_train, spectral_bandwidth_test= scaled_df(spectral_bandwidth_train,\n",
        "                                                           df_train,\n",
        "                                                           spectral_bandwidth_test,\n",
        "                                                           df_test,\n",
        "                                                           scaler)\n",
        "\n",
        "spectral_bandwidth_train.columns = ['Spectral_Bandwidth_'+str(i) for i in range(len(spectral_bandwidth_train.columns))]\n",
        "spectral_bandwidth_test.columns = ['Spectral_Bandwidth_'+str(i) for i in range(len(spectral_bandwidth_test.columns))]"
      ]
    },
    {
      "cell_type": "code",
      "execution_count": 30,
      "metadata": {
        "colab": {
          "base_uri": "https://localhost:8080/",
          "height": 206
        },
        "id": "sI934AtU-Vi7",
        "outputId": "644da00e-e2cf-40ab-e2c2-43d4edde8370"
      },
      "outputs": [
        {
          "output_type": "execute_result",
          "data": {
            "text/plain": [
              "   Spectral_Bandwidth_0\n",
              "0              0.715713\n",
              "1             -0.822927\n",
              "2              1.332255\n",
              "3              0.180795\n",
              "4              0.024884"
            ],
            "text/html": [
              "\n",
              "  <div id=\"df-0b7267ed-9bf8-4019-a42e-e18b53bb92f8\">\n",
              "    <div class=\"colab-df-container\">\n",
              "      <div>\n",
              "<style scoped>\n",
              "    .dataframe tbody tr th:only-of-type {\n",
              "        vertical-align: middle;\n",
              "    }\n",
              "\n",
              "    .dataframe tbody tr th {\n",
              "        vertical-align: top;\n",
              "    }\n",
              "\n",
              "    .dataframe thead th {\n",
              "        text-align: right;\n",
              "    }\n",
              "</style>\n",
              "<table border=\"1\" class=\"dataframe\">\n",
              "  <thead>\n",
              "    <tr style=\"text-align: right;\">\n",
              "      <th></th>\n",
              "      <th>Spectral_Bandwidth_0</th>\n",
              "    </tr>\n",
              "  </thead>\n",
              "  <tbody>\n",
              "    <tr>\n",
              "      <th>0</th>\n",
              "      <td>0.715713</td>\n",
              "    </tr>\n",
              "    <tr>\n",
              "      <th>1</th>\n",
              "      <td>-0.822927</td>\n",
              "    </tr>\n",
              "    <tr>\n",
              "      <th>2</th>\n",
              "      <td>1.332255</td>\n",
              "    </tr>\n",
              "    <tr>\n",
              "      <th>3</th>\n",
              "      <td>0.180795</td>\n",
              "    </tr>\n",
              "    <tr>\n",
              "      <th>4</th>\n",
              "      <td>0.024884</td>\n",
              "    </tr>\n",
              "  </tbody>\n",
              "</table>\n",
              "</div>\n",
              "      <button class=\"colab-df-convert\" onclick=\"convertToInteractive('df-0b7267ed-9bf8-4019-a42e-e18b53bb92f8')\"\n",
              "              title=\"Convert this dataframe to an interactive table.\"\n",
              "              style=\"display:none;\">\n",
              "        \n",
              "  <svg xmlns=\"http://www.w3.org/2000/svg\" height=\"24px\"viewBox=\"0 0 24 24\"\n",
              "       width=\"24px\">\n",
              "    <path d=\"M0 0h24v24H0V0z\" fill=\"none\"/>\n",
              "    <path d=\"M18.56 5.44l.94 2.06.94-2.06 2.06-.94-2.06-.94-.94-2.06-.94 2.06-2.06.94zm-11 1L8.5 8.5l.94-2.06 2.06-.94-2.06-.94L8.5 2.5l-.94 2.06-2.06.94zm10 10l.94 2.06.94-2.06 2.06-.94-2.06-.94-.94-2.06-.94 2.06-2.06.94z\"/><path d=\"M17.41 7.96l-1.37-1.37c-.4-.4-.92-.59-1.43-.59-.52 0-1.04.2-1.43.59L10.3 9.45l-7.72 7.72c-.78.78-.78 2.05 0 2.83L4 21.41c.39.39.9.59 1.41.59.51 0 1.02-.2 1.41-.59l7.78-7.78 2.81-2.81c.8-.78.8-2.07 0-2.86zM5.41 20L4 18.59l7.72-7.72 1.47 1.35L5.41 20z\"/>\n",
              "  </svg>\n",
              "      </button>\n",
              "      \n",
              "  <style>\n",
              "    .colab-df-container {\n",
              "      display:flex;\n",
              "      flex-wrap:wrap;\n",
              "      gap: 12px;\n",
              "    }\n",
              "\n",
              "    .colab-df-convert {\n",
              "      background-color: #E8F0FE;\n",
              "      border: none;\n",
              "      border-radius: 50%;\n",
              "      cursor: pointer;\n",
              "      display: none;\n",
              "      fill: #1967D2;\n",
              "      height: 32px;\n",
              "      padding: 0 0 0 0;\n",
              "      width: 32px;\n",
              "    }\n",
              "\n",
              "    .colab-df-convert:hover {\n",
              "      background-color: #E2EBFA;\n",
              "      box-shadow: 0px 1px 2px rgba(60, 64, 67, 0.3), 0px 1px 3px 1px rgba(60, 64, 67, 0.15);\n",
              "      fill: #174EA6;\n",
              "    }\n",
              "\n",
              "    [theme=dark] .colab-df-convert {\n",
              "      background-color: #3B4455;\n",
              "      fill: #D2E3FC;\n",
              "    }\n",
              "\n",
              "    [theme=dark] .colab-df-convert:hover {\n",
              "      background-color: #434B5C;\n",
              "      box-shadow: 0px 1px 3px 1px rgba(0, 0, 0, 0.15);\n",
              "      filter: drop-shadow(0px 1px 2px rgba(0, 0, 0, 0.3));\n",
              "      fill: #FFFFFF;\n",
              "    }\n",
              "  </style>\n",
              "\n",
              "      <script>\n",
              "        const buttonEl =\n",
              "          document.querySelector('#df-0b7267ed-9bf8-4019-a42e-e18b53bb92f8 button.colab-df-convert');\n",
              "        buttonEl.style.display =\n",
              "          google.colab.kernel.accessAllowed ? 'block' : 'none';\n",
              "\n",
              "        async function convertToInteractive(key) {\n",
              "          const element = document.querySelector('#df-0b7267ed-9bf8-4019-a42e-e18b53bb92f8');\n",
              "          const dataTable =\n",
              "            await google.colab.kernel.invokeFunction('convertToInteractive',\n",
              "                                                     [key], {});\n",
              "          if (!dataTable) return;\n",
              "\n",
              "          const docLinkHtml = 'Like what you see? Visit the ' +\n",
              "            '<a target=\"_blank\" href=https://colab.research.google.com/notebooks/data_table.ipynb>data table notebook</a>'\n",
              "            + ' to learn more about interactive tables.';\n",
              "          element.innerHTML = '';\n",
              "          dataTable['output_type'] = 'display_data';\n",
              "          await google.colab.output.renderOutput(dataTable, element);\n",
              "          const docLink = document.createElement('div');\n",
              "          docLink.innerHTML = docLinkHtml;\n",
              "          element.appendChild(docLink);\n",
              "        }\n",
              "      </script>\n",
              "    </div>\n",
              "  </div>\n",
              "  "
            ]
          },
          "metadata": {},
          "execution_count": 30
        }
      ],
      "source": [
        "spectral_bandwidth_train.head()"
      ]
    },
    {
      "cell_type": "markdown",
      "metadata": {
        "id": "USRiLPH_7HAZ"
      },
      "source": [
        "#### Spectral contrast"
      ]
    },
    {
      "cell_type": "markdown",
      "metadata": {
        "id": "8_G-ePCvYSCr"
      },
      "source": [
        "* Compute spectral contrast\n",
        "\n",
        "* Each frame of a spectrogram S is divided into sub-bands. For each sub-band, the energy contrast is estimated by comparing the mean energy in the top quantile (peak energy) to that of the bottom quantile (valley energy). High contrast values generally correspond to clear, narrow-band signals, while low contrast values correspond to broad-band noise."
      ]
    },
    {
      "cell_type": "code",
      "execution_count": 31,
      "metadata": {
        "id": "vf2Qv6uh-X0d"
      },
      "outputs": [],
      "source": [
        "def get_spectral_contrast_feature(df):\n",
        "    features = []\n",
        "    for path in tqdm(df['SAMPLE_PATH']):\n",
        "        # librosa패키지를 사용하여 wav 파일 load\n",
        "        y, sr = librosa.load(path, sr=16000)\n",
        "        \n",
        "        # librosa패키지를 사용하여 poly 추출\n",
        "        contrast = librosa.feature.spectral_contrast(y=y, sr=sr)\n",
        "\n",
        "        y_feature = []\n",
        "        # 추출된 Poly들의 평균을 Feature로 사용\n",
        "        for e in contrast:\n",
        "\n",
        "            y_feature.append(np.mean(e))\n",
        "\n",
        "        features.append(y_feature)\n",
        "\n",
        "    columns = ['spectral_contrast_'+str(i) for i in range(len(features[0]))]\n",
        "    \n",
        "    contrast_df = pd.DataFrame(features,\n",
        "                           columns=columns)\n",
        "\n",
        "    print(contrast_df.shape)\n",
        "\n",
        "    return contrast_df"
      ]
    },
    {
      "cell_type": "code",
      "execution_count": null,
      "metadata": {
        "colab": {
          "base_uri": "https://localhost:8080/",
          "height": 49,
          "referenced_widgets": [
            "5ed4e4f713a3402e978656703336c241",
            "58498c3f108a475f85dc8422d4c98c27",
            "14d2142d4a13468ca38d20d5e0cb7590",
            "97f0c90430554f0a8b20a2556a37b0f4",
            "881f23a9c6cb4773a7cb1774e888b539",
            "f0b09a8c613c403588b8abdad4227c14",
            "21289bc234994bd79337c72ff9a37403",
            "699859f82b944eff93bc38ad979fa0e0",
            "778f83d0fcdc4d8fbb7785c6343edeb0",
            "228e27ebcb524fef9f156803a9e392e1",
            "40c22353770143e0afd22d2136038f26"
          ]
        },
        "id": "4P6rkgeN-mnx",
        "outputId": "5fe82b2b-67f8-4ce0-860c-eb4c0b46a05a"
      },
      "outputs": [
        {
          "output_type": "display_data",
          "data": {
            "text/plain": [
              "  0%|          | 0/1279 [00:00<?, ?it/s]"
            ],
            "application/vnd.jupyter.widget-view+json": {
              "version_major": 2,
              "version_minor": 0,
              "model_id": "5ed4e4f713a3402e978656703336c241"
            }
          },
          "metadata": {}
        }
      ],
      "source": [
        "spectral_contrast_train = get_spectral_contrast_feature(df_train)\n",
        "spectral_contrast_test = get_spectral_contrast_feature(df_test)"
      ]
    },
    {
      "cell_type": "code",
      "execution_count": null,
      "metadata": {
        "id": "427DzNJd-t0J"
      },
      "outputs": [],
      "source": [
        "scaler = RobustScaler(quantile_range=(40.0, 60.0))\n",
        "spectral_contrast_train, spectral_contrast_test= scaled_df(spectral_contrast_train,\n",
        "                                                           df_train,\n",
        "                                                           spectral_contrast_test,\n",
        "                                                           df_test,\n",
        "                                                           scaler)\n",
        "\n",
        "spectral_contrast_train.columns = ['Spectral_Contrast_'+str(i) for i in range(len(spectral_contrast_train.columns))]\n",
        "spectral_contrast_test.columns = ['Spectral_Contrast_'+str(i) for i in range(len(spectral_contrast_test.columns))]"
      ]
    },
    {
      "cell_type": "code",
      "execution_count": null,
      "metadata": {
        "id": "zJi2A2T8-0uc"
      },
      "outputs": [],
      "source": [
        "spectral_contrast_train.head()"
      ]
    },
    {
      "cell_type": "markdown",
      "metadata": {
        "id": "AV4L8ZYj7JR2"
      },
      "source": [
        "#### Spectral Flatness"
      ]
    },
    {
      "cell_type": "markdown",
      "metadata": {
        "id": "78h-SavAYYcw"
      },
      "source": [
        "* Compute spectral flatness\n",
        "\n",
        "* Spectral flatness (or tonality coefficient) is a measure to quantify how much noise-like a sound is, as opposed to being tone-like 1. A high spectral flatness (closer to 1.0) indicates the spectrum is similar to white noise. It is often converted to decibel.\n",
        "\n",
        "* Spectrum의 noisiness (또는 tonality)를 구한다. Frequency들의 기하평균'(geometric mean)에 대한 산술평균(arithmetic mean)의 비를 이용해 구할 수 있다. 1에 가까울수록 white noise (maximum flatness)를 의미한다."
      ]
    },
    {
      "cell_type": "code",
      "execution_count": null,
      "metadata": {
        "id": "oGio8f8Z-bwq"
      },
      "outputs": [],
      "source": [
        "def get_spectral_flatness_feature(df):\n",
        "    features = []\n",
        "    for path in tqdm(df['SAMPLE_PATH']):\n",
        "        # librosa패키지를 사용하여 wav 파일 load\n",
        "        y, sr = librosa.load(path, sr=16000)\n",
        "        \n",
        "        # librosa패키지를 사용하여 poly 추출\n",
        "        flatness = librosa.feature.spectral_flatness(y=y)\n",
        "\n",
        "        y_feature = []\n",
        "        # 추출된 Poly들의 평균을 Feature로 사용\n",
        "        for e in flatness:\n",
        "\n",
        "            y_feature.append(np.mean(e))\n",
        "\n",
        "        features.append(y_feature)\n",
        "\n",
        "    columns = ['spectral_flatness_'+str(i) for i in range(len(features[0]))]\n",
        "    \n",
        "    flatness_df = pd.DataFrame(features,\n",
        "                           columns=columns)\n",
        "\n",
        "    print(flatness_df.shape)\n",
        "\n",
        "    return flatness_df"
      ]
    },
    {
      "cell_type": "code",
      "execution_count": null,
      "metadata": {
        "id": "k71xyHdw_D2M"
      },
      "outputs": [],
      "source": [
        "spectral_flatness_train = get_spectral_flatness_feature(df_train)\n",
        "spectral_flatness_test = get_spectral_flatness_feature(df_test)"
      ]
    },
    {
      "cell_type": "code",
      "execution_count": null,
      "metadata": {
        "id": "Rd_Td27l_L6U"
      },
      "outputs": [],
      "source": [
        "scaler = RobustScaler(quantile_range=(40.0, 60.0))\n",
        "spectral_flatness_train, spectral_flatness_test= scaled_df(spectral_flatness_train,\n",
        "                                                           df_train,\n",
        "                                                           spectral_flatness_test,\n",
        "                                                           df_test,\n",
        "                                                           scaler)\n",
        "\n",
        "spectral_flatness_train.columns = ['Spectral_Flatness_'+str(i) for i in range(len(spectral_flatness_train.columns))]\n",
        "spectral_flatness_test.columns = ['Spectral_Flatness_'+str(i) for i in range(len(spectral_flatness_test.columns))]"
      ]
    },
    {
      "cell_type": "code",
      "execution_count": null,
      "metadata": {
        "id": "AmLmN5Yg_I6S"
      },
      "outputs": [],
      "source": [
        "spectral_flatness_train.head()"
      ]
    },
    {
      "cell_type": "markdown",
      "metadata": {
        "id": "4jBt6pKc7Mcm"
      },
      "source": [
        "#### Spectral Rolloff"
      ]
    },
    {
      "cell_type": "markdown",
      "metadata": {
        "id": "w76zfswjYu8c"
      },
      "source": [
        "* Compute roll-off frequency.\n",
        "\n",
        "* The roll-off frequency is defined for each frame as the center frequency for a spectrogram bin such that at least roll_percent (0.85 by default) of the energy of the spectrum in this frame is contained in this bin and the bins below. This can be used to, e.g., approximate the maximum (or minimum) frequency by setting roll_percent to a value close to 1 (or 0).\n",
        "\n",
        "* 스펙트로그렘에서 roll percent 위치에 차지하는 주파수를 구함"
      ]
    },
    {
      "cell_type": "code",
      "execution_count": null,
      "metadata": {
        "id": "-frfunig-cVD"
      },
      "outputs": [],
      "source": [
        "def get_spectral_rolloff_feature(df):\n",
        "    features = []\n",
        "    for path in tqdm(df['SAMPLE_PATH']):\n",
        "        # librosa패키지를 사용하여 wav 파일 load\n",
        "        y, sr = librosa.load(path, sr=16000)\n",
        "        \n",
        "        # librosa패키지를 사용하여 poly 추출\n",
        "        rolloff = librosa.feature.spectral_rolloff(y=y,\n",
        "                                                   roll_percent=0.15\n",
        "                                                   )\n",
        "\n",
        "        y_feature = []\n",
        "        # 추출된 Poly들의 평균을 Feature로 사용\n",
        "        for e in rolloff:\n",
        "\n",
        "            y_feature.append(np.mean(e))\n",
        "\n",
        "        features.append(y_feature)\n",
        "\n",
        "    columns = ['spectral_rolloff_'+str(i) for i in range(len(features[0]))]\n",
        "    \n",
        "    rolloff_df = pd.DataFrame(features,\n",
        "                           columns=columns)\n",
        "\n",
        "    print(rolloff_df.shape)\n",
        "\n",
        "    return rolloff_df"
      ]
    },
    {
      "cell_type": "code",
      "execution_count": null,
      "metadata": {
        "id": "S5qiUF54_fHk"
      },
      "outputs": [],
      "source": [
        "spectral_rolloff_train = get_spectral_rolloff_feature(df_train)\n",
        "spectral_rolloff_test = get_spectral_rolloff_feature(df_test)"
      ]
    },
    {
      "cell_type": "code",
      "execution_count": null,
      "metadata": {
        "id": "F8rW0VUt_nWL"
      },
      "outputs": [],
      "source": [
        "scaler = RobustScaler(quantile_range=(40.0, 60.0))\n",
        "spectral_rolloff_train, spectral_rolloff_test= scaled_df(spectral_rolloff_train,\n",
        "                                                           df_train,\n",
        "                                                           spectral_rolloff_test,\n",
        "                                                           df_test,\n",
        "                                                           scaler)\n",
        "\n",
        "spectral_rolloff_train.columns = ['Spectral_Rolloff_'+str(i) for i in range(len(spectral_rolloff_train.columns))]\n",
        "spectral_rolloff_test.columns = ['Spectral_Rolloff_'+str(i) for i in range(len(spectral_rolloff_test.columns))]"
      ]
    },
    {
      "cell_type": "code",
      "execution_count": null,
      "metadata": {
        "id": "wVPTxLv7_q6b"
      },
      "outputs": [],
      "source": [
        "spectral_rolloff_train.head()"
      ]
    },
    {
      "cell_type": "markdown",
      "metadata": {
        "id": "HurrnpP45FWl"
      },
      "source": [
        "### Mel Spectrogram"
      ]
    },
    {
      "cell_type": "markdown",
      "metadata": {
        "id": "8EIbZtt2asrY"
      },
      "source": [
        "* 사람은 낮은 주파수를 높은 주파수보다 더 예민하게 받아들임\n",
        "\n",
        "* 500 ~ 1500 Hz 가 바뀌는건 예민하게 인식하는데 반해 10000Hz ~ 11000Hz가 바뀌는 것은 잘 인식 못한다는 것.\n",
        "\n",
        "* 주파수 단위를 다음 공식에 따라 멜 스케일로 변환 m = 2595 \\log_{10}\\left(1 + \\frac{f}{700}\\right)m=2595log10​(1+700f​)\n",
        "\n",
        "* 해당 scale을 적용해 spectogram을 만든 것이 melspectogram"
      ]
    },
    {
      "cell_type": "code",
      "execution_count": null,
      "metadata": {
        "id": "4NxOJygc5BUc"
      },
      "outputs": [],
      "source": [
        "def get_melspectrogram_feature(df):\n",
        "    features = []\n",
        "    for path in tqdm(df['SAMPLE_PATH']):\n",
        "        # librosa패키지를 사용하여 wav 파일 load\n",
        "        y, sr = librosa.load(path, sr=16000)\n",
        "        \n",
        "        # librosa패키지를 사용하여 melspectrogram 추출\n",
        "        melspectrogram = librosa.feature.melspectrogram(y=y,\n",
        "                                                        sr=sr,\n",
        "                                                        n_fft=2048,\n",
        "                                                        hop_length=512,\n",
        "                                                        )\n",
        "\n",
        "        y_feature = []\n",
        "        # 추출된 melspectrogram들의 평균을 Feature로 사용\n",
        "        for e in melspectrogram:\n",
        "\n",
        "            y_feature.append(np.mean(e))\n",
        "\n",
        "        features.append(y_feature)\n",
        "\n",
        "    columns = ['Mel_Spectrogram_'+str(i) for i in range(len(features[0]))]\n",
        "    \n",
        "    melspectrogram_df = pd.DataFrame(features,\n",
        "                           columns=columns)\n",
        "\n",
        "    print(melspectrogram_df.shape)\n",
        "\n",
        "    return melspectrogram_df"
      ]
    },
    {
      "cell_type": "code",
      "execution_count": null,
      "metadata": {
        "colab": {
          "base_uri": "https://localhost:8080/",
          "height": 99,
          "referenced_widgets": [
            "6c8d96a61b7e44238aa535cf0e3bb85c",
            "017abb94879b47568a0227f227a38dd1",
            "c50c6c1cbc4d4acc964de1e3b07d066b",
            "fc9b88f9cce74b1da1b89faac39af6e1",
            "e5b1801c7dc84e70a6f4f30f2255c168",
            "179ebf636ffe466fb73f463d8538c700",
            "f78bff42d21f426bbbf0cb304c611061",
            "67674107e6ee417698364e02081dfae1",
            "320f68af672543318e1f7365878dc1a5",
            "3254ee9fe7e94d12808f15cf07b21118",
            "e23582c02df843a7b3e198049c41c110",
            "8c0712da565340d1947cf1ecec9007d4",
            "49f47f817bae46c9a556dbb93b85275b",
            "687e8432071a4321b9d9db836063313f",
            "63b6668f07b54eec9af9c5f7bb2082d2",
            "493d1a943b634e16b89c8775fee25d6d",
            "fae9f12e80fd48b08bca579869cfcc83",
            "4fd1b892a23f4ae382d8109017c3bfbb",
            "7aa901fa25f647c69227d9ddf470d7d3",
            "b5000fe9b11d431d89c238ed8c7f893f",
            "b826d2412a0b4b56a7f0b1b57f3b3d17",
            "ad2c6e3e240e4d2e889ad1d451f64762"
          ]
        },
        "id": "0RTnT5ff5IWI",
        "outputId": "409cf9a8-2133-46f7-ef48-07fbbab52280"
      },
      "outputs": [
        {
          "data": {
            "application/vnd.jupyter.widget-view+json": {
              "model_id": "6c8d96a61b7e44238aa535cf0e3bb85c",
              "version_major": 2,
              "version_minor": 0
            },
            "text/plain": [
              "  0%|          | 0/1279 [00:00<?, ?it/s]"
            ]
          },
          "metadata": {},
          "output_type": "display_data"
        },
        {
          "name": "stdout",
          "output_type": "stream",
          "text": [
            "(1279, 128)\n"
          ]
        },
        {
          "data": {
            "application/vnd.jupyter.widget-view+json": {
              "model_id": "8c0712da565340d1947cf1ecec9007d4",
              "version_major": 2,
              "version_minor": 0
            },
            "text/plain": [
              "  0%|          | 0/1514 [00:00<?, ?it/s]"
            ]
          },
          "metadata": {},
          "output_type": "display_data"
        }
      ],
      "source": [
        "melspectrogram_train = get_melspectrogram_feature(df_train)\n",
        "melspectrogram_test = get_melspectrogram_feature(df_test)"
      ]
    },
    {
      "cell_type": "code",
      "execution_count": null,
      "metadata": {
        "id": "UKPsWy3o5Jlt"
      },
      "outputs": [],
      "source": [
        "scaler = RobustScaler()\n",
        "melspectrogram_train, melspectrogram_test= scaled_df(melspectrogram_train,\n",
        "                                       df_train,\n",
        "                                       melspectrogram_test,\n",
        "                                       df_test,\n",
        "                                       scaler)\n",
        "\n",
        "melspectrogram_train.columns = ['Mel_Spectrogram_'+str(i) for i in range(len(melspectrogram_train.columns))]\n",
        "melspectrogram_test.columns = ['Mel_Spectrogram_'+str(i) for i in range(len(melspectrogram_test.columns))]"
      ]
    },
    {
      "cell_type": "code",
      "execution_count": null,
      "metadata": {
        "id": "Dr4mhr-Y5KpU"
      },
      "outputs": [],
      "source": [
        "melspectrogram_train.head()"
      ]
    },
    {
      "cell_type": "markdown",
      "metadata": {
        "id": "cJTcSsFb5OD3"
      },
      "source": [
        "### MFCC"
      ]
    },
    {
      "cell_type": "markdown",
      "metadata": {
        "id": "sVrmXOtBay_w"
      },
      "source": [
        "* Mel-Spectrogram이라는 피쳐에 대해 행렬을 압축해서 표현해주는 DCT 연산을 수행"
      ]
    },
    {
      "cell_type": "code",
      "execution_count": 281,
      "metadata": {
        "id": "OXT7K_E-5MOz"
      },
      "outputs": [],
      "source": [
        "def get_mfcc_feature(df):\n",
        "    features = []\n",
        "    for path in tqdm(df['SAMPLE_PATH']):\n",
        "        # librosa패키지를 사용하여 wav 파일 load\n",
        "        y, sr = librosa.load(path, sr=16000)\n",
        "        \n",
        "        # librosa패키지를 사용하여 mfcc 추출\n",
        "        mfcc = librosa.feature.mfcc(y=y,\n",
        "                                    sr=sr,\n",
        "                                    n_mfcc=128,\n",
        "                                    dct_type=2)\n",
        "\n",
        "        y_feature = []\n",
        "        # 추출된 MFCC들의 평균을 Feature로 사용\n",
        "        for e in mfcc:\n",
        "\n",
        "            e = np.mean(e)\n",
        "\n",
        "            y_feature.append(e)\n",
        "\n",
        "        features.append(y_feature)\n",
        "\n",
        "    columns = ['MFCC_'+str(i) for i in range(len(features[0]))]\n",
        "    \n",
        "    mfcc_df = pd.DataFrame(features,\n",
        "                           columns=columns)\n",
        "\n",
        "    print(mfcc_df.shape)\n",
        "\n",
        "    return mfcc_df"
      ]
    },
    {
      "cell_type": "code",
      "execution_count": 282,
      "metadata": {
        "id": "hbArI_6L5ReH",
        "colab": {
          "base_uri": "https://localhost:8080/",
          "height": 117,
          "referenced_widgets": [
            "d5b2e16113444f80ab8f69633a912591",
            "882f259d8c5e4519b07219749ebaeaf9",
            "77a18f52ca0c48029a923146a7ac6e15",
            "c3a09b5e463446afb2d130c3ddb37352",
            "9679f13cc55e494faa0ce39d4cd5807f",
            "8000c01061244a0a868f58b8489a0175",
            "82eb638da7cc4efeb3ea728bf5a61bef",
            "c279efd5e9a54113a10e2e05f134ef20",
            "9703f25c85f444b18b5a7abfad580f40",
            "d3a617e744664ea595afc39c65abe916",
            "07729b10600f4dd1ba0b708bfc585ff5",
            "7b1114c597b84df89835baf703bb0802",
            "4faa81449a8b48f3bd555a8bbecd147d",
            "f635216fe9094348b354218c19a68cc9",
            "6541fa382ef04906a051ed2bc3eb061a",
            "6cf590525bc04e5799f4fcc8b1395850",
            "15851c6a0cb14307aa0a86e139347af8",
            "b86fe9c380f54f1aa99d8bf27def3ae5",
            "bfb30eebc3bf407cb9f926cc48e66d0d",
            "c221061a4c6543eeb4aaa146df2562e1",
            "8e930662674c473a80866c835b66d3b4",
            "1c8626c67b07493c8e41361a6d6cbc15"
          ]
        },
        "outputId": "565f1a58-d922-4791-87cb-882f8e42cc30"
      },
      "outputs": [
        {
          "output_type": "display_data",
          "data": {
            "text/plain": [
              "  0%|          | 0/1279 [00:00<?, ?it/s]"
            ],
            "application/vnd.jupyter.widget-view+json": {
              "version_major": 2,
              "version_minor": 0,
              "model_id": "d5b2e16113444f80ab8f69633a912591"
            }
          },
          "metadata": {}
        },
        {
          "output_type": "stream",
          "name": "stdout",
          "text": [
            "(1279, 128)\n"
          ]
        },
        {
          "output_type": "display_data",
          "data": {
            "text/plain": [
              "  0%|          | 0/1514 [00:00<?, ?it/s]"
            ],
            "application/vnd.jupyter.widget-view+json": {
              "version_major": 2,
              "version_minor": 0,
              "model_id": "7b1114c597b84df89835baf703bb0802"
            }
          },
          "metadata": {}
        },
        {
          "output_type": "stream",
          "name": "stdout",
          "text": [
            "(1514, 128)\n"
          ]
        }
      ],
      "source": [
        "mfcc_train = get_mfcc_feature(df_train)\n",
        "mfcc_test = get_mfcc_feature(df_test)"
      ]
    },
    {
      "cell_type": "code",
      "execution_count": 283,
      "metadata": {
        "id": "0eeBYuIp5SYZ"
      },
      "outputs": [],
      "source": [
        "scaler = RobustScaler(quantile_range=(30.0, 70.0))\n",
        "mfcc_train, mfcc_test= scaled_df(mfcc_train,\n",
        "                                 df_train,\n",
        "                                 mfcc_test,\n",
        "                                 df_test,\n",
        "                                 scaler)\n",
        "\n",
        "mfcc_train.columns = ['MFCC_'+str(i) for i in range(len(mfcc_train.columns))]\n",
        "mfcc_test.columns = ['MFCC_'+str(i) for i in range(len(mfcc_test.columns))]"
      ]
    },
    {
      "cell_type": "code",
      "execution_count": 284,
      "metadata": {
        "id": "uBArQ_5B5TeS",
        "colab": {
          "base_uri": "https://localhost:8080/",
          "height": 299
        },
        "outputId": "10e3b74b-dc28-49e2-f9c0-d8d703dd008d"
      },
      "outputs": [
        {
          "output_type": "execute_result",
          "data": {
            "text/plain": [
              "     MFCC_0    MFCC_1    MFCC_2    MFCC_3    MFCC_4    MFCC_5    MFCC_6  \\\n",
              "0  0.923159  0.134558  0.170535  0.085404  0.613551  1.009883  1.139098   \n",
              "1 -2.225558  0.763021 -0.278401  0.038265  0.131025  0.291598 -0.140102   \n",
              "2  0.491881 -0.924614  1.262497 -0.775336 -0.448931 -0.784525 -0.326816   \n",
              "3  0.430913  0.369031  0.639810  0.142668  0.375985  0.687513  1.581337   \n",
              "4  0.770784 -1.971778 -3.127481 -1.458413 -2.336494 -1.988729 -2.474282   \n",
              "\n",
              "     MFCC_7    MFCC_8    MFCC_9  ...  MFCC_118  MFCC_119  MFCC_120  MFCC_121  \\\n",
              "0 -0.774700 -1.182173  0.168807  ...  1.689892  2.202479  1.581841 -1.251271   \n",
              "1 -0.856565  0.502820 -0.907413  ... -0.318627 -1.230561 -0.989191 -0.049347   \n",
              "2 -2.914773  4.346816 -0.726494  ...  0.658430 -0.359737 -0.471422 -0.885509   \n",
              "3  1.392459  0.997033  0.345600  ... -0.199218  1.404173 -0.217011  0.197134   \n",
              "4 -1.914484 -1.810776 -2.059706  ... -0.310929  0.150593 -0.268092  1.073610   \n",
              "\n",
              "   MFCC_122  MFCC_123  MFCC_124  MFCC_125  MFCC_126  MFCC_127  \n",
              "0 -1.245461 -0.251528  2.299220 -0.017118 -0.821265 -1.920318  \n",
              "1  0.875333  0.674324  0.073625 -0.436476  0.293442  0.010038  \n",
              "2  0.212314  1.058434  0.326249 -0.629844 -1.129474 -1.389547  \n",
              "3 -0.557338 -0.830952 -0.229767 -0.004478 -1.302109  0.171767  \n",
              "4 -0.456494 -1.313529 -0.567439 -0.093379 -0.136328 -0.035467  \n",
              "\n",
              "[5 rows x 128 columns]"
            ],
            "text/html": [
              "\n",
              "  <div id=\"df-391113f5-755c-4288-a2b2-e40e9bf0d514\">\n",
              "    <div class=\"colab-df-container\">\n",
              "      <div>\n",
              "<style scoped>\n",
              "    .dataframe tbody tr th:only-of-type {\n",
              "        vertical-align: middle;\n",
              "    }\n",
              "\n",
              "    .dataframe tbody tr th {\n",
              "        vertical-align: top;\n",
              "    }\n",
              "\n",
              "    .dataframe thead th {\n",
              "        text-align: right;\n",
              "    }\n",
              "</style>\n",
              "<table border=\"1\" class=\"dataframe\">\n",
              "  <thead>\n",
              "    <tr style=\"text-align: right;\">\n",
              "      <th></th>\n",
              "      <th>MFCC_0</th>\n",
              "      <th>MFCC_1</th>\n",
              "      <th>MFCC_2</th>\n",
              "      <th>MFCC_3</th>\n",
              "      <th>MFCC_4</th>\n",
              "      <th>MFCC_5</th>\n",
              "      <th>MFCC_6</th>\n",
              "      <th>MFCC_7</th>\n",
              "      <th>MFCC_8</th>\n",
              "      <th>MFCC_9</th>\n",
              "      <th>...</th>\n",
              "      <th>MFCC_118</th>\n",
              "      <th>MFCC_119</th>\n",
              "      <th>MFCC_120</th>\n",
              "      <th>MFCC_121</th>\n",
              "      <th>MFCC_122</th>\n",
              "      <th>MFCC_123</th>\n",
              "      <th>MFCC_124</th>\n",
              "      <th>MFCC_125</th>\n",
              "      <th>MFCC_126</th>\n",
              "      <th>MFCC_127</th>\n",
              "    </tr>\n",
              "  </thead>\n",
              "  <tbody>\n",
              "    <tr>\n",
              "      <th>0</th>\n",
              "      <td>0.923159</td>\n",
              "      <td>0.134558</td>\n",
              "      <td>0.170535</td>\n",
              "      <td>0.085404</td>\n",
              "      <td>0.613551</td>\n",
              "      <td>1.009883</td>\n",
              "      <td>1.139098</td>\n",
              "      <td>-0.774700</td>\n",
              "      <td>-1.182173</td>\n",
              "      <td>0.168807</td>\n",
              "      <td>...</td>\n",
              "      <td>1.689892</td>\n",
              "      <td>2.202479</td>\n",
              "      <td>1.581841</td>\n",
              "      <td>-1.251271</td>\n",
              "      <td>-1.245461</td>\n",
              "      <td>-0.251528</td>\n",
              "      <td>2.299220</td>\n",
              "      <td>-0.017118</td>\n",
              "      <td>-0.821265</td>\n",
              "      <td>-1.920318</td>\n",
              "    </tr>\n",
              "    <tr>\n",
              "      <th>1</th>\n",
              "      <td>-2.225558</td>\n",
              "      <td>0.763021</td>\n",
              "      <td>-0.278401</td>\n",
              "      <td>0.038265</td>\n",
              "      <td>0.131025</td>\n",
              "      <td>0.291598</td>\n",
              "      <td>-0.140102</td>\n",
              "      <td>-0.856565</td>\n",
              "      <td>0.502820</td>\n",
              "      <td>-0.907413</td>\n",
              "      <td>...</td>\n",
              "      <td>-0.318627</td>\n",
              "      <td>-1.230561</td>\n",
              "      <td>-0.989191</td>\n",
              "      <td>-0.049347</td>\n",
              "      <td>0.875333</td>\n",
              "      <td>0.674324</td>\n",
              "      <td>0.073625</td>\n",
              "      <td>-0.436476</td>\n",
              "      <td>0.293442</td>\n",
              "      <td>0.010038</td>\n",
              "    </tr>\n",
              "    <tr>\n",
              "      <th>2</th>\n",
              "      <td>0.491881</td>\n",
              "      <td>-0.924614</td>\n",
              "      <td>1.262497</td>\n",
              "      <td>-0.775336</td>\n",
              "      <td>-0.448931</td>\n",
              "      <td>-0.784525</td>\n",
              "      <td>-0.326816</td>\n",
              "      <td>-2.914773</td>\n",
              "      <td>4.346816</td>\n",
              "      <td>-0.726494</td>\n",
              "      <td>...</td>\n",
              "      <td>0.658430</td>\n",
              "      <td>-0.359737</td>\n",
              "      <td>-0.471422</td>\n",
              "      <td>-0.885509</td>\n",
              "      <td>0.212314</td>\n",
              "      <td>1.058434</td>\n",
              "      <td>0.326249</td>\n",
              "      <td>-0.629844</td>\n",
              "      <td>-1.129474</td>\n",
              "      <td>-1.389547</td>\n",
              "    </tr>\n",
              "    <tr>\n",
              "      <th>3</th>\n",
              "      <td>0.430913</td>\n",
              "      <td>0.369031</td>\n",
              "      <td>0.639810</td>\n",
              "      <td>0.142668</td>\n",
              "      <td>0.375985</td>\n",
              "      <td>0.687513</td>\n",
              "      <td>1.581337</td>\n",
              "      <td>1.392459</td>\n",
              "      <td>0.997033</td>\n",
              "      <td>0.345600</td>\n",
              "      <td>...</td>\n",
              "      <td>-0.199218</td>\n",
              "      <td>1.404173</td>\n",
              "      <td>-0.217011</td>\n",
              "      <td>0.197134</td>\n",
              "      <td>-0.557338</td>\n",
              "      <td>-0.830952</td>\n",
              "      <td>-0.229767</td>\n",
              "      <td>-0.004478</td>\n",
              "      <td>-1.302109</td>\n",
              "      <td>0.171767</td>\n",
              "    </tr>\n",
              "    <tr>\n",
              "      <th>4</th>\n",
              "      <td>0.770784</td>\n",
              "      <td>-1.971778</td>\n",
              "      <td>-3.127481</td>\n",
              "      <td>-1.458413</td>\n",
              "      <td>-2.336494</td>\n",
              "      <td>-1.988729</td>\n",
              "      <td>-2.474282</td>\n",
              "      <td>-1.914484</td>\n",
              "      <td>-1.810776</td>\n",
              "      <td>-2.059706</td>\n",
              "      <td>...</td>\n",
              "      <td>-0.310929</td>\n",
              "      <td>0.150593</td>\n",
              "      <td>-0.268092</td>\n",
              "      <td>1.073610</td>\n",
              "      <td>-0.456494</td>\n",
              "      <td>-1.313529</td>\n",
              "      <td>-0.567439</td>\n",
              "      <td>-0.093379</td>\n",
              "      <td>-0.136328</td>\n",
              "      <td>-0.035467</td>\n",
              "    </tr>\n",
              "  </tbody>\n",
              "</table>\n",
              "<p>5 rows × 128 columns</p>\n",
              "</div>\n",
              "      <button class=\"colab-df-convert\" onclick=\"convertToInteractive('df-391113f5-755c-4288-a2b2-e40e9bf0d514')\"\n",
              "              title=\"Convert this dataframe to an interactive table.\"\n",
              "              style=\"display:none;\">\n",
              "        \n",
              "  <svg xmlns=\"http://www.w3.org/2000/svg\" height=\"24px\"viewBox=\"0 0 24 24\"\n",
              "       width=\"24px\">\n",
              "    <path d=\"M0 0h24v24H0V0z\" fill=\"none\"/>\n",
              "    <path d=\"M18.56 5.44l.94 2.06.94-2.06 2.06-.94-2.06-.94-.94-2.06-.94 2.06-2.06.94zm-11 1L8.5 8.5l.94-2.06 2.06-.94-2.06-.94L8.5 2.5l-.94 2.06-2.06.94zm10 10l.94 2.06.94-2.06 2.06-.94-2.06-.94-.94-2.06-.94 2.06-2.06.94z\"/><path d=\"M17.41 7.96l-1.37-1.37c-.4-.4-.92-.59-1.43-.59-.52 0-1.04.2-1.43.59L10.3 9.45l-7.72 7.72c-.78.78-.78 2.05 0 2.83L4 21.41c.39.39.9.59 1.41.59.51 0 1.02-.2 1.41-.59l7.78-7.78 2.81-2.81c.8-.78.8-2.07 0-2.86zM5.41 20L4 18.59l7.72-7.72 1.47 1.35L5.41 20z\"/>\n",
              "  </svg>\n",
              "      </button>\n",
              "      \n",
              "  <style>\n",
              "    .colab-df-container {\n",
              "      display:flex;\n",
              "      flex-wrap:wrap;\n",
              "      gap: 12px;\n",
              "    }\n",
              "\n",
              "    .colab-df-convert {\n",
              "      background-color: #E8F0FE;\n",
              "      border: none;\n",
              "      border-radius: 50%;\n",
              "      cursor: pointer;\n",
              "      display: none;\n",
              "      fill: #1967D2;\n",
              "      height: 32px;\n",
              "      padding: 0 0 0 0;\n",
              "      width: 32px;\n",
              "    }\n",
              "\n",
              "    .colab-df-convert:hover {\n",
              "      background-color: #E2EBFA;\n",
              "      box-shadow: 0px 1px 2px rgba(60, 64, 67, 0.3), 0px 1px 3px 1px rgba(60, 64, 67, 0.15);\n",
              "      fill: #174EA6;\n",
              "    }\n",
              "\n",
              "    [theme=dark] .colab-df-convert {\n",
              "      background-color: #3B4455;\n",
              "      fill: #D2E3FC;\n",
              "    }\n",
              "\n",
              "    [theme=dark] .colab-df-convert:hover {\n",
              "      background-color: #434B5C;\n",
              "      box-shadow: 0px 1px 3px 1px rgba(0, 0, 0, 0.15);\n",
              "      filter: drop-shadow(0px 1px 2px rgba(0, 0, 0, 0.3));\n",
              "      fill: #FFFFFF;\n",
              "    }\n",
              "  </style>\n",
              "\n",
              "      <script>\n",
              "        const buttonEl =\n",
              "          document.querySelector('#df-391113f5-755c-4288-a2b2-e40e9bf0d514 button.colab-df-convert');\n",
              "        buttonEl.style.display =\n",
              "          google.colab.kernel.accessAllowed ? 'block' : 'none';\n",
              "\n",
              "        async function convertToInteractive(key) {\n",
              "          const element = document.querySelector('#df-391113f5-755c-4288-a2b2-e40e9bf0d514');\n",
              "          const dataTable =\n",
              "            await google.colab.kernel.invokeFunction('convertToInteractive',\n",
              "                                                     [key], {});\n",
              "          if (!dataTable) return;\n",
              "\n",
              "          const docLinkHtml = 'Like what you see? Visit the ' +\n",
              "            '<a target=\"_blank\" href=https://colab.research.google.com/notebooks/data_table.ipynb>data table notebook</a>'\n",
              "            + ' to learn more about interactive tables.';\n",
              "          element.innerHTML = '';\n",
              "          dataTable['output_type'] = 'display_data';\n",
              "          await google.colab.output.renderOutput(dataTable, element);\n",
              "          const docLink = document.createElement('div');\n",
              "          docLink.innerHTML = docLinkHtml;\n",
              "          element.appendChild(docLink);\n",
              "        }\n",
              "      </script>\n",
              "    </div>\n",
              "  </div>\n",
              "  "
            ]
          },
          "metadata": {},
          "execution_count": 284
        }
      ],
      "source": [
        "mfcc_train.head()"
      ]
    },
    {
      "cell_type": "code",
      "source": [
        "def get_mfcc_delta_feature(df):\n",
        "    features = []\n",
        "    for path in tqdm(df['SAMPLE_PATH']):\n",
        "        # librosa패키지를 사용하여 wav 파일 load\n",
        "        y, sr = librosa.load(path, sr=16000)\n",
        "        \n",
        "        # librosa패키지를 사용하여 mfcc 추출\n",
        "        mfcc = librosa.feature.mfcc(y=y,\n",
        "                                    sr=sr,\n",
        "                                    n_mfcc=128,\n",
        "                                    dct_type=2)\n",
        "        \n",
        "        mfcc = librosa.feature.delta(mfcc,\n",
        "                                     order=1)\n",
        "\n",
        "        y_feature = []\n",
        "        # 추출된 MFCC들의 평균을 Feature로 사용\n",
        "        for e in mfcc:\n",
        "\n",
        "            e = np.mean(e)\n",
        "\n",
        "            y_feature.append(e)\n",
        "\n",
        "        features.append(y_feature)\n",
        "\n",
        "    columns = ['MFCC__delta_'+str(i) for i in range(len(features[0]))]\n",
        "    \n",
        "    mfcc_df = pd.DataFrame(features,\n",
        "                           columns=columns)\n",
        "\n",
        "    print(mfcc_df.shape)\n",
        "\n",
        "    return mfcc_df"
      ],
      "metadata": {
        "id": "D4dNmeTI21cO"
      },
      "execution_count": 285,
      "outputs": []
    },
    {
      "cell_type": "code",
      "source": [
        "mfcc_delta_train = get_mfcc_delta_feature(df_train)\n",
        "mfcc_delta_test = get_mfcc_delta_feature(df_test)"
      ],
      "metadata": {
        "colab": {
          "base_uri": "https://localhost:8080/",
          "height": 117,
          "referenced_widgets": [
            "3621629473dd47b8abebe524c8db15a2",
            "681e1d52031c41d982b45a0bc80e508d",
            "dd0f1870ea564587aa2f31d2ea7d4fc8",
            "910946391d084a28826b317920c47680",
            "e6f557181579428eaa18a81c3e2dd383",
            "74f91c34eee04caa87f32fb3f35f492e",
            "0e2ae736a0d84b8991ad661da7ae5d6c",
            "e7a3a21d18584862aa254ae315756ca9",
            "fe4d05a7861541e0af7237a7af147a8b",
            "08bd3bce8d4c43d5885acc46c6329d95",
            "01eb18214c6a43099bab7bd495d126ab",
            "c7b317935bd44342a9f3fbe518c8a4fb",
            "b344e28a45f84fb4af0cb292cd330ce5",
            "33db3cad036948058bbc25da39988c58",
            "06efce1558d84a60b6bbe169d8761156",
            "7c3236645e4744f8909e2cdc0606764d",
            "5757ef78e4504aa18eac176d610ab798",
            "5680b1036df64f54ab1f837ac9ac4213",
            "baea75370a8f439289fb923087c7d4a4",
            "e28096c5c74649deb154fcbc33882430",
            "f07e1d16c0f1415980ebd3ae4b8bbbb4",
            "cfd6bd9a87a140a497a13a16506c24ef"
          ]
        },
        "id": "RX1kxQuz2_-T",
        "outputId": "4799ac5d-2af3-443b-8dc2-a0f046cfdfe2"
      },
      "execution_count": 286,
      "outputs": [
        {
          "output_type": "display_data",
          "data": {
            "text/plain": [
              "  0%|          | 0/1279 [00:00<?, ?it/s]"
            ],
            "application/vnd.jupyter.widget-view+json": {
              "version_major": 2,
              "version_minor": 0,
              "model_id": "3621629473dd47b8abebe524c8db15a2"
            }
          },
          "metadata": {}
        },
        {
          "output_type": "stream",
          "name": "stdout",
          "text": [
            "(1279, 128)\n"
          ]
        },
        {
          "output_type": "display_data",
          "data": {
            "text/plain": [
              "  0%|          | 0/1514 [00:00<?, ?it/s]"
            ],
            "application/vnd.jupyter.widget-view+json": {
              "version_major": 2,
              "version_minor": 0,
              "model_id": "c7b317935bd44342a9f3fbe518c8a4fb"
            }
          },
          "metadata": {}
        },
        {
          "output_type": "stream",
          "name": "stdout",
          "text": [
            "(1514, 128)\n"
          ]
        }
      ]
    },
    {
      "cell_type": "code",
      "source": [
        "scaler = RobustScaler(quantile_range=(30.0, 70.0))\n",
        "mfcc_delta_train, mfcc_delta_test= scaled_df(mfcc_delta_train,\n",
        "                                 df_train,\n",
        "                                 mfcc_delta_test,\n",
        "                                 df_test,\n",
        "                                 scaler)\n",
        "\n",
        "mfcc_delta_train.columns = ['MFCC_delta_'+str(i) for i in range(len(mfcc_delta_train.columns))]\n",
        "mfcc_delta_test.columns = ['MFCC_delta_'+str(i) for i in range(len(mfcc_delta_test.columns))]"
      ],
      "metadata": {
        "id": "ThxPZFCb3FH7"
      },
      "execution_count": 287,
      "outputs": []
    },
    {
      "cell_type": "code",
      "source": [
        "mfcc_delta_train.head()"
      ],
      "metadata": {
        "colab": {
          "base_uri": "https://localhost:8080/",
          "height": 299
        },
        "id": "t_hkmXGC4R7b",
        "outputId": "52111caa-0bf9-4cff-f481-5481f388e91e"
      },
      "execution_count": 288,
      "outputs": [
        {
          "output_type": "execute_result",
          "data": {
            "text/plain": [
              "   MFCC_delta_0  MFCC_delta_1  MFCC_delta_2  MFCC_delta_3  MFCC_delta_4  \\\n",
              "0     -0.058937     -1.115367     -0.330099     -0.139635     -0.033607   \n",
              "1     -0.370004     -1.466677      0.213716     -0.492414      0.744305   \n",
              "2     -0.576543     -0.468877      0.081629      0.605645      0.939630   \n",
              "3     -0.806505     -0.499467      0.268354      1.821677      0.441369   \n",
              "4     -2.263747     -1.352099      1.107961      1.058374     -0.172922   \n",
              "\n",
              "   MFCC_delta_5  MFCC_delta_6  MFCC_delta_7  MFCC_delta_8  MFCC_delta_9  ...  \\\n",
              "0      1.071333      0.665114      0.911462      0.728922     -0.528669  ...   \n",
              "1     -0.888701     -0.093168      0.519841     -0.310394     -1.397286  ...   \n",
              "2      0.629822      0.333989      0.746225      0.420108     -0.417751  ...   \n",
              "3      0.630315      0.817052      0.976045     -1.352629      0.674895  ...   \n",
              "4     -0.783677      0.242171     -1.642563      0.242119     -0.715627  ...   \n",
              "\n",
              "   MFCC_delta_118  MFCC_delta_119  MFCC_delta_120  MFCC_delta_121  \\\n",
              "0       -2.135285        0.692879        0.310591        1.856835   \n",
              "1        0.325230       -0.490637       -0.908374       -0.460274   \n",
              "2       -1.401495       -0.393009        0.642562        3.368866   \n",
              "3        0.478062       -0.578133       -0.198188       -0.707085   \n",
              "4        0.758413       -0.021152       -0.762619        1.536591   \n",
              "\n",
              "   MFCC_delta_122  MFCC_delta_123  MFCC_delta_124  MFCC_delta_125  \\\n",
              "0        0.667140        1.165562        1.637561        0.367530   \n",
              "1       -0.851932        0.838891        1.583074        0.373424   \n",
              "2        2.920442       -0.547536       -0.924432        0.219514   \n",
              "3       -0.980758        0.530341        0.791099        0.757244   \n",
              "4        1.508741       -1.823412       -1.932416        0.173746   \n",
              "\n",
              "   MFCC_delta_126  MFCC_delta_127  \n",
              "0       -0.304707       -0.779227  \n",
              "1       -0.350948       -0.259107  \n",
              "2       -2.423858       -0.075794  \n",
              "3       -0.254674        0.088711  \n",
              "4        0.941268        0.768356  \n",
              "\n",
              "[5 rows x 128 columns]"
            ],
            "text/html": [
              "\n",
              "  <div id=\"df-e531eb83-ec63-451a-9e1c-112e8461a777\">\n",
              "    <div class=\"colab-df-container\">\n",
              "      <div>\n",
              "<style scoped>\n",
              "    .dataframe tbody tr th:only-of-type {\n",
              "        vertical-align: middle;\n",
              "    }\n",
              "\n",
              "    .dataframe tbody tr th {\n",
              "        vertical-align: top;\n",
              "    }\n",
              "\n",
              "    .dataframe thead th {\n",
              "        text-align: right;\n",
              "    }\n",
              "</style>\n",
              "<table border=\"1\" class=\"dataframe\">\n",
              "  <thead>\n",
              "    <tr style=\"text-align: right;\">\n",
              "      <th></th>\n",
              "      <th>MFCC_delta_0</th>\n",
              "      <th>MFCC_delta_1</th>\n",
              "      <th>MFCC_delta_2</th>\n",
              "      <th>MFCC_delta_3</th>\n",
              "      <th>MFCC_delta_4</th>\n",
              "      <th>MFCC_delta_5</th>\n",
              "      <th>MFCC_delta_6</th>\n",
              "      <th>MFCC_delta_7</th>\n",
              "      <th>MFCC_delta_8</th>\n",
              "      <th>MFCC_delta_9</th>\n",
              "      <th>...</th>\n",
              "      <th>MFCC_delta_118</th>\n",
              "      <th>MFCC_delta_119</th>\n",
              "      <th>MFCC_delta_120</th>\n",
              "      <th>MFCC_delta_121</th>\n",
              "      <th>MFCC_delta_122</th>\n",
              "      <th>MFCC_delta_123</th>\n",
              "      <th>MFCC_delta_124</th>\n",
              "      <th>MFCC_delta_125</th>\n",
              "      <th>MFCC_delta_126</th>\n",
              "      <th>MFCC_delta_127</th>\n",
              "    </tr>\n",
              "  </thead>\n",
              "  <tbody>\n",
              "    <tr>\n",
              "      <th>0</th>\n",
              "      <td>-0.058937</td>\n",
              "      <td>-1.115367</td>\n",
              "      <td>-0.330099</td>\n",
              "      <td>-0.139635</td>\n",
              "      <td>-0.033607</td>\n",
              "      <td>1.071333</td>\n",
              "      <td>0.665114</td>\n",
              "      <td>0.911462</td>\n",
              "      <td>0.728922</td>\n",
              "      <td>-0.528669</td>\n",
              "      <td>...</td>\n",
              "      <td>-2.135285</td>\n",
              "      <td>0.692879</td>\n",
              "      <td>0.310591</td>\n",
              "      <td>1.856835</td>\n",
              "      <td>0.667140</td>\n",
              "      <td>1.165562</td>\n",
              "      <td>1.637561</td>\n",
              "      <td>0.367530</td>\n",
              "      <td>-0.304707</td>\n",
              "      <td>-0.779227</td>\n",
              "    </tr>\n",
              "    <tr>\n",
              "      <th>1</th>\n",
              "      <td>-0.370004</td>\n",
              "      <td>-1.466677</td>\n",
              "      <td>0.213716</td>\n",
              "      <td>-0.492414</td>\n",
              "      <td>0.744305</td>\n",
              "      <td>-0.888701</td>\n",
              "      <td>-0.093168</td>\n",
              "      <td>0.519841</td>\n",
              "      <td>-0.310394</td>\n",
              "      <td>-1.397286</td>\n",
              "      <td>...</td>\n",
              "      <td>0.325230</td>\n",
              "      <td>-0.490637</td>\n",
              "      <td>-0.908374</td>\n",
              "      <td>-0.460274</td>\n",
              "      <td>-0.851932</td>\n",
              "      <td>0.838891</td>\n",
              "      <td>1.583074</td>\n",
              "      <td>0.373424</td>\n",
              "      <td>-0.350948</td>\n",
              "      <td>-0.259107</td>\n",
              "    </tr>\n",
              "    <tr>\n",
              "      <th>2</th>\n",
              "      <td>-0.576543</td>\n",
              "      <td>-0.468877</td>\n",
              "      <td>0.081629</td>\n",
              "      <td>0.605645</td>\n",
              "      <td>0.939630</td>\n",
              "      <td>0.629822</td>\n",
              "      <td>0.333989</td>\n",
              "      <td>0.746225</td>\n",
              "      <td>0.420108</td>\n",
              "      <td>-0.417751</td>\n",
              "      <td>...</td>\n",
              "      <td>-1.401495</td>\n",
              "      <td>-0.393009</td>\n",
              "      <td>0.642562</td>\n",
              "      <td>3.368866</td>\n",
              "      <td>2.920442</td>\n",
              "      <td>-0.547536</td>\n",
              "      <td>-0.924432</td>\n",
              "      <td>0.219514</td>\n",
              "      <td>-2.423858</td>\n",
              "      <td>-0.075794</td>\n",
              "    </tr>\n",
              "    <tr>\n",
              "      <th>3</th>\n",
              "      <td>-0.806505</td>\n",
              "      <td>-0.499467</td>\n",
              "      <td>0.268354</td>\n",
              "      <td>1.821677</td>\n",
              "      <td>0.441369</td>\n",
              "      <td>0.630315</td>\n",
              "      <td>0.817052</td>\n",
              "      <td>0.976045</td>\n",
              "      <td>-1.352629</td>\n",
              "      <td>0.674895</td>\n",
              "      <td>...</td>\n",
              "      <td>0.478062</td>\n",
              "      <td>-0.578133</td>\n",
              "      <td>-0.198188</td>\n",
              "      <td>-0.707085</td>\n",
              "      <td>-0.980758</td>\n",
              "      <td>0.530341</td>\n",
              "      <td>0.791099</td>\n",
              "      <td>0.757244</td>\n",
              "      <td>-0.254674</td>\n",
              "      <td>0.088711</td>\n",
              "    </tr>\n",
              "    <tr>\n",
              "      <th>4</th>\n",
              "      <td>-2.263747</td>\n",
              "      <td>-1.352099</td>\n",
              "      <td>1.107961</td>\n",
              "      <td>1.058374</td>\n",
              "      <td>-0.172922</td>\n",
              "      <td>-0.783677</td>\n",
              "      <td>0.242171</td>\n",
              "      <td>-1.642563</td>\n",
              "      <td>0.242119</td>\n",
              "      <td>-0.715627</td>\n",
              "      <td>...</td>\n",
              "      <td>0.758413</td>\n",
              "      <td>-0.021152</td>\n",
              "      <td>-0.762619</td>\n",
              "      <td>1.536591</td>\n",
              "      <td>1.508741</td>\n",
              "      <td>-1.823412</td>\n",
              "      <td>-1.932416</td>\n",
              "      <td>0.173746</td>\n",
              "      <td>0.941268</td>\n",
              "      <td>0.768356</td>\n",
              "    </tr>\n",
              "  </tbody>\n",
              "</table>\n",
              "<p>5 rows × 128 columns</p>\n",
              "</div>\n",
              "      <button class=\"colab-df-convert\" onclick=\"convertToInteractive('df-e531eb83-ec63-451a-9e1c-112e8461a777')\"\n",
              "              title=\"Convert this dataframe to an interactive table.\"\n",
              "              style=\"display:none;\">\n",
              "        \n",
              "  <svg xmlns=\"http://www.w3.org/2000/svg\" height=\"24px\"viewBox=\"0 0 24 24\"\n",
              "       width=\"24px\">\n",
              "    <path d=\"M0 0h24v24H0V0z\" fill=\"none\"/>\n",
              "    <path d=\"M18.56 5.44l.94 2.06.94-2.06 2.06-.94-2.06-.94-.94-2.06-.94 2.06-2.06.94zm-11 1L8.5 8.5l.94-2.06 2.06-.94-2.06-.94L8.5 2.5l-.94 2.06-2.06.94zm10 10l.94 2.06.94-2.06 2.06-.94-2.06-.94-.94-2.06-.94 2.06-2.06.94z\"/><path d=\"M17.41 7.96l-1.37-1.37c-.4-.4-.92-.59-1.43-.59-.52 0-1.04.2-1.43.59L10.3 9.45l-7.72 7.72c-.78.78-.78 2.05 0 2.83L4 21.41c.39.39.9.59 1.41.59.51 0 1.02-.2 1.41-.59l7.78-7.78 2.81-2.81c.8-.78.8-2.07 0-2.86zM5.41 20L4 18.59l7.72-7.72 1.47 1.35L5.41 20z\"/>\n",
              "  </svg>\n",
              "      </button>\n",
              "      \n",
              "  <style>\n",
              "    .colab-df-container {\n",
              "      display:flex;\n",
              "      flex-wrap:wrap;\n",
              "      gap: 12px;\n",
              "    }\n",
              "\n",
              "    .colab-df-convert {\n",
              "      background-color: #E8F0FE;\n",
              "      border: none;\n",
              "      border-radius: 50%;\n",
              "      cursor: pointer;\n",
              "      display: none;\n",
              "      fill: #1967D2;\n",
              "      height: 32px;\n",
              "      padding: 0 0 0 0;\n",
              "      width: 32px;\n",
              "    }\n",
              "\n",
              "    .colab-df-convert:hover {\n",
              "      background-color: #E2EBFA;\n",
              "      box-shadow: 0px 1px 2px rgba(60, 64, 67, 0.3), 0px 1px 3px 1px rgba(60, 64, 67, 0.15);\n",
              "      fill: #174EA6;\n",
              "    }\n",
              "\n",
              "    [theme=dark] .colab-df-convert {\n",
              "      background-color: #3B4455;\n",
              "      fill: #D2E3FC;\n",
              "    }\n",
              "\n",
              "    [theme=dark] .colab-df-convert:hover {\n",
              "      background-color: #434B5C;\n",
              "      box-shadow: 0px 1px 3px 1px rgba(0, 0, 0, 0.15);\n",
              "      filter: drop-shadow(0px 1px 2px rgba(0, 0, 0, 0.3));\n",
              "      fill: #FFFFFF;\n",
              "    }\n",
              "  </style>\n",
              "\n",
              "      <script>\n",
              "        const buttonEl =\n",
              "          document.querySelector('#df-e531eb83-ec63-451a-9e1c-112e8461a777 button.colab-df-convert');\n",
              "        buttonEl.style.display =\n",
              "          google.colab.kernel.accessAllowed ? 'block' : 'none';\n",
              "\n",
              "        async function convertToInteractive(key) {\n",
              "          const element = document.querySelector('#df-e531eb83-ec63-451a-9e1c-112e8461a777');\n",
              "          const dataTable =\n",
              "            await google.colab.kernel.invokeFunction('convertToInteractive',\n",
              "                                                     [key], {});\n",
              "          if (!dataTable) return;\n",
              "\n",
              "          const docLinkHtml = 'Like what you see? Visit the ' +\n",
              "            '<a target=\"_blank\" href=https://colab.research.google.com/notebooks/data_table.ipynb>data table notebook</a>'\n",
              "            + ' to learn more about interactive tables.';\n",
              "          element.innerHTML = '';\n",
              "          dataTable['output_type'] = 'display_data';\n",
              "          await google.colab.output.renderOutput(dataTable, element);\n",
              "          const docLink = document.createElement('div');\n",
              "          docLink.innerHTML = docLinkHtml;\n",
              "          element.appendChild(docLink);\n",
              "        }\n",
              "      </script>\n",
              "    </div>\n",
              "  </div>\n",
              "  "
            ]
          },
          "metadata": {},
          "execution_count": 288
        }
      ]
    },
    {
      "cell_type": "markdown",
      "metadata": {
        "id": "2gF-LWUr5g_Z"
      },
      "source": [
        "### Chroma"
      ]
    },
    {
      "cell_type": "markdown",
      "metadata": {
        "id": "vMwGn8_2Z65D"
      },
      "source": [
        "* 모든 음표는 12개의 pitch(음높이)와 octave로 구성되어 있다.\n",
        "\n",
        "* Chroma는 각 audio frame의 octave는 무시하고, 12개의 pitch class에 대한 분포를 나타낸 것이다.\n",
        "\n",
        "* Pitch class는 C, C#, D, D#, E, F, F#, G, G#, A, A#, B로 구성되어 있다."
      ]
    },
    {
      "cell_type": "markdown",
      "metadata": {
        "id": "-vW8Kuj65il9"
      },
      "source": [
        "#### Chroma stft"
      ]
    },
    {
      "cell_type": "markdown",
      "metadata": {
        "id": "Z0PHNG_PbLZR"
      },
      "source": [
        "* Compute a chromagram from a waveform or power spectrogram."
      ]
    },
    {
      "cell_type": "code",
      "execution_count": null,
      "metadata": {
        "id": "hno2spqM5UY2"
      },
      "outputs": [],
      "source": [
        "def get_chroma_stft_feature(df):\n",
        "    features = []\n",
        "    for path in tqdm(df['SAMPLE_PATH']):\n",
        "        # librosa패키지를 사용하여 wav 파일 load\n",
        "        y, sr = librosa.load(path, sr=16000)\n",
        "        \n",
        "        # librosa패키지를 사용하여 Chroma 추출\n",
        "        chroma = librosa.feature.chroma_stft(y=y, sr=sr,\n",
        "                                             n_chroma=12)\n",
        "\n",
        "        y_feature = []\n",
        "        # 추출된 Chroma들의 평균을 Feature로 사용\n",
        "        for e in chroma:\n",
        "\n",
        "            y_feature.append(np.mean(e))\n",
        "\n",
        "        features.append(y_feature)\n",
        "\n",
        "    columns = ['Chroma_stft_'+str(i) for i in range(len(features[0]))]\n",
        "\n",
        "    chroma_df = pd.DataFrame(features,\n",
        "                             columns=columns)\n",
        "    \n",
        "    print(chroma_df.shape)\n",
        "\n",
        "    return chroma_df"
      ]
    },
    {
      "cell_type": "code",
      "execution_count": null,
      "metadata": {
        "id": "UQKvynvm5zGy"
      },
      "outputs": [],
      "source": [
        "chroma_stft_train = get_chroma_stft_feature(df_train)\n",
        "chroma_stft_test = get_chroma_stft_feature(df_test)"
      ]
    },
    {
      "cell_type": "code",
      "execution_count": null,
      "metadata": {
        "id": "SGD5H6hl59iH"
      },
      "outputs": [],
      "source": [
        "scaler = RobustScaler(quantile_range=(40.0, 60.0))\n",
        "chroma_stft_train, chroma_stft_test= scaled_df(chroma_stft_train,\n",
        "                                     df_train,\n",
        "                                     chroma_stft_test,\n",
        "                                     df_test,\n",
        "                                     scaler)\n",
        "\n",
        "chroma_stft_train.columns = ['Chroma_stft_'+str(i) for i in range(len(chroma_stft_train.columns))]\n",
        "chroma_stft_test.columns = ['Chroma_stft_'+str(i) for i in range(len(chroma_stft_test.columns))]"
      ]
    },
    {
      "cell_type": "code",
      "execution_count": null,
      "metadata": {
        "id": "GuSLpgB36I8s"
      },
      "outputs": [],
      "source": [
        "chroma_stft_train.head()"
      ]
    },
    {
      "cell_type": "markdown",
      "metadata": {
        "id": "cZpDxuiI5lIn"
      },
      "source": [
        "#### Chroma cqt"
      ]
    },
    {
      "cell_type": "markdown",
      "metadata": {
        "id": "dNbiMI_1bOfg"
      },
      "source": [
        "* Constant-Q chromagram"
      ]
    },
    {
      "cell_type": "code",
      "execution_count": null,
      "metadata": {
        "id": "Stk5Nmot5o7P"
      },
      "outputs": [],
      "source": [
        "def get_chroma_cpt_feature(df):\n",
        "    features = []\n",
        "    for path in tqdm(df['SAMPLE_PATH']):\n",
        "        # librosa패키지를 사용하여 wav 파일 load\n",
        "        y, sr = librosa.load(path, sr=16000)\n",
        "        \n",
        "        # librosa패키지를 사용하여 Chroma 추출\n",
        "        chroma = librosa.feature.chroma_cqt(y=y, sr=sr,\n",
        "                                             n_chroma=12)\n",
        "\n",
        "        y_feature = []\n",
        "        # 추출된 Chroma들의 평균을 Feature로 사용\n",
        "        for e in chroma:\n",
        "\n",
        "            y_feature.append(np.mean(e))\n",
        "\n",
        "        features.append(y_feature)\n",
        "\n",
        "    columns = ['Chroma_cqt_'+str(i) for i in range(len(features[0]))]\n",
        "\n",
        "    chroma_df = pd.DataFrame(features,\n",
        "                             columns=columns)\n",
        "    \n",
        "    print(chroma_df.shape)\n",
        "\n",
        "    return chroma_df"
      ]
    },
    {
      "cell_type": "code",
      "execution_count": null,
      "metadata": {
        "id": "2gYiw3wd6S21"
      },
      "outputs": [],
      "source": [
        "chroma_cqt_train = get_chroma_cpt_feature(df_train)\n",
        "chroma_cqt_test = get_chroma_cpt_feature(df_test)"
      ]
    },
    {
      "cell_type": "code",
      "execution_count": null,
      "metadata": {
        "id": "fuL-j4ID6V_c"
      },
      "outputs": [],
      "source": [
        "scaler = RobustScaler(quantile_range=(40.0, 60.0))\n",
        "chroma_cqt_train, chroma_cqt_test= scaled_df(chroma_cqt_train,\n",
        "                                     df_train,\n",
        "                                     chroma_cqt_test,\n",
        "                                     df_test,\n",
        "                                     scaler)\n",
        "\n",
        "chroma_cqt_train.columns = ['Chroma_cqt_'+str(i) for i in range(len(chroma_cqt_train.columns))]\n",
        "chroma_cqt_test.columns = ['Chroma_cqt_'+str(i) for i in range(len(chroma_cqt_test.columns))]"
      ]
    },
    {
      "cell_type": "code",
      "execution_count": null,
      "metadata": {
        "id": "qw9Cpt-26l_r"
      },
      "outputs": [],
      "source": [
        "chroma_cqt_train.head()"
      ]
    },
    {
      "cell_type": "markdown",
      "metadata": {
        "id": "Fg8BSpBJ5pne"
      },
      "source": [
        "#### Chroma cens"
      ]
    },
    {
      "cell_type": "markdown",
      "metadata": {
        "id": "SUzwwFPlbVQQ"
      },
      "source": [
        "* Computes the chroma variant “Chroma Energy Normalized” (CENS)\n",
        "\n",
        "* To compute CENS features, following steps are taken after obtaining chroma vectors using chroma_cqt: 1.\n",
        "\n",
        "  - L-1 normalization of each chroma vector\n",
        "\n",
        "  - Quantization of amplitude based on “log-like” amplitude thresholds\n",
        "\n",
        "  - (optional) Smoothing with sliding window. Default window length = 41 frames\n",
        "\n",
        "  - (not implemented) Downsampling\n",
        "\n",
        "* CENS features are robust to dynamics, timbre and articulation, thus these are commonly used in audio matching and retrieval applications."
      ]
    },
    {
      "cell_type": "code",
      "execution_count": null,
      "metadata": {
        "id": "j1pc7b1B5rCx"
      },
      "outputs": [],
      "source": [
        "def get_chroma_cens_feature(df):\n",
        "    features = []\n",
        "    for path in tqdm(df['SAMPLE_PATH']):\n",
        "        # librosa패키지를 사용하여 wav 파일 load\n",
        "        y, sr = librosa.load(path, sr=16000)\n",
        "        \n",
        "        # librosa패키지를 사용하여 Chroma 추출\n",
        "        chroma = librosa.feature.chroma_cens(y=y, sr=sr,\n",
        "                                             n_chroma=12)\n",
        "\n",
        "        y_feature = []\n",
        "        # 추출된 Chroma들의 평균을 Feature로 사용\n",
        "        for e in chroma:\n",
        "\n",
        "            y_feature.append(np.mean(e))\n",
        "\n",
        "        features.append(y_feature)\n",
        "\n",
        "    columns = ['Chroma_cens_'+str(i) for i in range(len(features[0]))]\n",
        "\n",
        "    chroma_df = pd.DataFrame(features,\n",
        "                             columns=columns)\n",
        "    \n",
        "    print(chroma_df.shape)\n",
        "\n",
        "    return chroma_df"
      ]
    },
    {
      "cell_type": "code",
      "execution_count": null,
      "metadata": {
        "id": "IMXkRWbf6vFZ"
      },
      "outputs": [],
      "source": [
        "chroma_cens_train = get_chroma_cens_feature(df_train)\n",
        "chroma_cens_test = get_chroma_cens_feature(df_test)"
      ]
    },
    {
      "cell_type": "code",
      "execution_count": null,
      "metadata": {
        "id": "lfLsQkOi6y1y"
      },
      "outputs": [],
      "source": [
        "scaler = RobustScaler(quantile_range=(40.0, 60.0))\n",
        "chroma_cens_train, chroma_cens_test= scaled_df(chroma_cens_train,\n",
        "                                     df_train,\n",
        "                                     chroma_cens_test,\n",
        "                                     df_test,\n",
        "                                     scaler)\n",
        "\n",
        "chroma_cens_train.columns = ['Chroma_cens_'+str(i) for i in range(len(chroma_cens_train.columns))]\n",
        "chroma_cens_test.columns = ['Chroma_cens_'+str(i) for i in range(len(chroma_cens_test.columns))]"
      ]
    },
    {
      "cell_type": "markdown",
      "metadata": {
        "id": "RIhsvAE37bMI"
      },
      "source": [
        "### Tonnetz"
      ]
    },
    {
      "cell_type": "markdown",
      "metadata": {
        "id": "xSj7TUGFbltx"
      },
      "source": [
        "* Computes the tonal centroid features (tonnetz)\n",
        "\n",
        "* This representation uses the method of to project chroma features onto a 6-dimensional basis representing the perfect fifth, minor third, and major third each as two-dimensional coordinates.\n",
        "\n",
        "* 1739년 오일러에 의해 처음 기술된 것으로 음악의 tonality와 tonal space의 관계를 graphical한 방식으로 표현한 것"
      ]
    },
    {
      "cell_type": "code",
      "execution_count": null,
      "metadata": {
        "id": "ThbwQN_q7dnk"
      },
      "outputs": [],
      "source": [
        "def get_tonnetz_feature(df):\n",
        "    features = []\n",
        "    for path in tqdm(df['SAMPLE_PATH']):\n",
        "        # librosa패키지를 사용하여 wav 파일 load\n",
        "        y, sr = librosa.load(path, sr=16000)\n",
        "\n",
        "        # librosa패키지를 사용하여 chroma 추출\n",
        "        chroma = librosa.feature.chroma_stft(y=y, sr=sr, n_chroma=12)\n",
        "        #chroma = librosa.feature.chroma_cqt(y=y, sr=sr, n_chroma=12)\n",
        "        #chroma = librosa.feature.chroma_cens(y=y, sr=sr, n_chroma=12)\n",
        "        \n",
        "        # librosa패키지를 사용하여 tonnetz 추출\n",
        "        tonnetz = librosa.feature.tonnetz(y=y, sr=sr,\n",
        "                                          n_chroma=12,\n",
        "                                          chroma=chroma)\n",
        "\n",
        "        y_feature = []\n",
        "        # 추출된 tonnetz들의 평균을 Feature로 사용\n",
        "        for e in tonnetz:\n",
        "\n",
        "            y_feature.append(np.mean(e))\n",
        "\n",
        "        features.append(y_feature)\n",
        "\n",
        "    columns = ['Tonnetz_'+str(i) for i in range(len(features[0]))]\n",
        "    \n",
        "    tonnetz_df = pd.DataFrame(features,\n",
        "                           columns=columns)\n",
        "\n",
        "    print(tonnetz_df.shape)\n",
        "\n",
        "    return tonnetz_df"
      ]
    },
    {
      "cell_type": "code",
      "execution_count": null,
      "metadata": {
        "id": "LuRsvyeg7grg"
      },
      "outputs": [],
      "source": [
        "tonnetz_train = get_tonnetz_feature(df_train)\n",
        "tonnetz_test = get_tonnetz_feature(df_test)"
      ]
    },
    {
      "cell_type": "code",
      "execution_count": null,
      "metadata": {
        "id": "ZbvJfzCU7hcT"
      },
      "outputs": [],
      "source": [
        "scaler = RobustScaler()\n",
        "tonnetz_train, tonnetz_test= scaled_df(tonnetz_train,\n",
        "                                       df_train,\n",
        "                                       tonnetz_test,\n",
        "                                       df_test,\n",
        "                                       scaler)\n",
        "\n",
        "tonnetz_train.columns = ['Tonnetz_'+str(i) for i in range(len(tonnetz_train.columns))]\n",
        "tonnetz_test.columns = ['Tonnetz_'+str(i) for i in range(len(tonnetz_test.columns))]"
      ]
    },
    {
      "cell_type": "code",
      "execution_count": null,
      "metadata": {
        "id": "XSnTyhWY7jKz"
      },
      "outputs": [],
      "source": [
        "tonnetz_train.head()"
      ]
    },
    {
      "cell_type": "markdown",
      "metadata": {
        "id": "kuyZeuSW7qD1"
      },
      "source": [
        "### Rhythm"
      ]
    },
    {
      "cell_type": "markdown",
      "metadata": {
        "id": "kaFoQHqLcWCh"
      },
      "source": [
        "* Compute the tempogram: local autocorrelation of the onset strength envelope."
      ]
    },
    {
      "cell_type": "code",
      "execution_count": null,
      "metadata": {
        "id": "jD1nB9yR7rpY"
      },
      "outputs": [],
      "source": [
        "def get_rhythm_feature(df):\n",
        "    features = []\n",
        "    for path in tqdm(df['SAMPLE_PATH']):\n",
        "        # librosa패키지를 사용하여 wav 파일 load\n",
        "        y, sr = librosa.load(path, sr=16000)\n",
        "\n",
        "        # librosa패키지를 사용하여 onset 추출\n",
        "        onset_envelope = librosa.onset.onset_strength(y=y, sr=sr)\n",
        "        #onset_envelope = librosa.onset.onset_detect(y=y, sr=sr)\n",
        "        #onset_envelope = librosa.onset.onset_strength_multi(y=y, sr=sr)\n",
        "        \n",
        "        # librosa패키지를 사용하여 Rhythm 추출\n",
        "        rhythm = librosa.feature.tempogram(y=y, sr=sr,\n",
        "                                           onset_envelope=onset_envelope)\n",
        "\n",
        "        y_feature = []\n",
        "        # 추출된 tonnetz들의 평균을 Feature로 사용\n",
        "        for e in rhythm:\n",
        "\n",
        "            y_feature.append(np.mean(e))\n",
        "\n",
        "        features.append(y_feature)\n",
        "\n",
        "    columns = ['Rhythm'+str(i) for i in range(len(features[0]))]\n",
        "    \n",
        "    rhythm_df = pd.DataFrame(features,\n",
        "                           columns=columns)\n",
        "\n",
        "    print(rhythm_df.shape)\n",
        "\n",
        "    return rhythm_df"
      ]
    },
    {
      "cell_type": "code",
      "execution_count": null,
      "metadata": {
        "id": "9TODUavZ7uhD"
      },
      "outputs": [],
      "source": [
        "rhythm_train = get_rhythm_feature(df_train)\n",
        "rhythm_test = get_rhythm_feature(df_test)"
      ]
    },
    {
      "cell_type": "code",
      "execution_count": null,
      "metadata": {
        "id": "rsrrNAbz77tb"
      },
      "outputs": [],
      "source": [
        "scaler = RobustScaler(quantile_range=(40.0, 60.0))\n",
        "rhythm_train, rhythm_test= scaled_df(rhythm_train,\n",
        "                                       df_train,\n",
        "                                       rhythm_test,\n",
        "                                       df_test,\n",
        "                                       scaler)\n",
        "\n",
        "rhythm_train.columns = ['Rhythm_'+str(i) for i in range(len(rhythm_train.columns))]\n",
        "rhythm_test.columns = ['Rhythm_'+str(i) for i in range(len(rhythm_test.columns))]"
      ]
    },
    {
      "cell_type": "code",
      "execution_count": null,
      "metadata": {
        "id": "qAsd75Me79ht"
      },
      "outputs": [],
      "source": [
        "rhythm_train.head()"
      ]
    },
    {
      "cell_type": "markdown",
      "metadata": {
        "id": "B1DVIG04Al5W"
      },
      "source": [
        "## Dimension Reduction"
      ]
    },
    {
      "cell_type": "markdown",
      "metadata": {
        "id": "cumM3RXKApPu"
      },
      "source": [
        "### Truncated SVD"
      ]
    },
    {
      "cell_type": "code",
      "execution_count": null,
      "metadata": {
        "id": "u8XuFdX6AnkL"
      },
      "outputs": [],
      "source": []
    },
    {
      "cell_type": "markdown",
      "metadata": {
        "id": "vQDMBfpOAx6z"
      },
      "source": [
        "### PCA"
      ]
    },
    {
      "cell_type": "code",
      "execution_count": null,
      "metadata": {
        "colab": {
          "base_uri": "https://localhost:8080/"
        },
        "id": "WWMfifKRAy0p",
        "outputId": "27c3dd7d-1333-4d15-f376-965f4b3fdf61"
      },
      "outputs": [
        {
          "name": "stdout",
          "output_type": "stream",
          "text": [
            "127\n"
          ]
        }
      ],
      "source": [
        "pca = PCA()\n",
        "pca.fit(melspectrogram_train)\n",
        "cumsum = np.cumsum(pca.explained_variance_ratio_)\n",
        "N_COMPONETS = np.argmax(cumsum>=0.99999) + 1\n",
        "print(N_COMPONETS)"
      ]
    },
    {
      "cell_type": "code",
      "execution_count": null,
      "metadata": {
        "id": "jLeAqVfABYC8"
      },
      "outputs": [],
      "source": [
        "pca = PCA(n_components=N_COMPONETS)\n",
        "\n",
        "pca_train_mel = pca.fit_transform(melspectrogram_train)\n",
        "pca_test_mel = pca.transform(melspectrogram_test)\n",
        "\n",
        "pca_train_mel = pd.DataFrame(pca_train_mel)\n",
        "pca_test_mel = pd.DataFrame(pca_test_mel)"
      ]
    },
    {
      "cell_type": "code",
      "execution_count": null,
      "metadata": {
        "id": "zDK8DkpLjBRu"
      },
      "outputs": [],
      "source": [
        "pca = SparsePCA(n_components=N_COMPONETS,\n",
        "                alpha=0.001)\n",
        "\n",
        "pca_train_mel = pca.fit_transform(melspectrogram_train)\n",
        "pca_test_mel = pca.transform(melspectrogram_test)\n",
        "\n",
        "pca_train_mel = pd.DataFrame(pca_train_mel)\n",
        "pca_test_mel = pd.DataFrame(pca_test_mel)"
      ]
    },
    {
      "cell_type": "markdown",
      "metadata": {
        "id": "DOuo1ssix3YK"
      },
      "source": [
        "#### Rhythm"
      ]
    },
    {
      "cell_type": "code",
      "execution_count": null,
      "metadata": {
        "colab": {
          "base_uri": "https://localhost:8080/"
        },
        "id": "QI_ef_Ejx0fk",
        "outputId": "47061185-12d3-4968-d71d-999f92d50e4e"
      },
      "outputs": [
        {
          "name": "stdout",
          "output_type": "stream",
          "text": [
            "119\n"
          ]
        }
      ],
      "source": [
        "pca = PCA()\n",
        "pca.fit(rhythm_train)\n",
        "cumsum = np.cumsum(pca.explained_variance_ratio_)\n",
        "N_COMPONETS = np.argmax(cumsum>=0.999) + 1\n",
        "print(N_COMPONETS)"
      ]
    },
    {
      "cell_type": "code",
      "execution_count": null,
      "metadata": {
        "id": "u6TxoB7vx1Wn"
      },
      "outputs": [],
      "source": [
        "pca = PCA(n_components=N_COMPONETS)\n",
        "\n",
        "pca_train_rhythm = pca.fit_transform(rhythm_train)\n",
        "pca_test_rhythm = pca.transform(rhythm_test)\n",
        "\n",
        "pca_train_rhythm = pd.DataFrame(pca_train_rhythm)\n",
        "pca_test_rhythm = pd.DataFrame(pca_test_rhythm)"
      ]
    },
    {
      "cell_type": "markdown",
      "metadata": {
        "id": "CIntecjmAsUj"
      },
      "source": [
        "### Sparse PCA"
      ]
    },
    {
      "cell_type": "markdown",
      "metadata": {
        "id": "HoGkhlhfA-1m"
      },
      "source": [
        "#### Zero Crossing Rate"
      ]
    },
    {
      "cell_type": "code",
      "execution_count": 289,
      "metadata": {
        "colab": {
          "base_uri": "https://localhost:8080/"
        },
        "id": "zMksRv6iBBeV",
        "outputId": "f3660883-8f0f-4f62-cdd5-15c2fcf1c7b7"
      },
      "outputs": [
        {
          "output_type": "stream",
          "name": "stdout",
          "text": [
            "1\n"
          ]
        }
      ],
      "source": [
        "pca = PCA()\n",
        "pca.fit(zero_train)\n",
        "cumsum = np.cumsum(pca.explained_variance_ratio_)\n",
        "N_COMPONETS = np.argmax(cumsum>=0.999) + 1\n",
        "print(N_COMPONETS)"
      ]
    },
    {
      "cell_type": "code",
      "execution_count": 290,
      "metadata": {
        "id": "h5Xy0MC3BIbH"
      },
      "outputs": [],
      "source": [
        "pca = SparsePCA(n_components=N_COMPONETS,\n",
        "                alpha=0.001)\n",
        "\n",
        "pca_train_zero = pca.fit_transform(zero_train)\n",
        "pca_test_zero = pca.transform(zero_test)\n",
        "\n",
        "pca_train_zero = pd.DataFrame(pca_train_zero)\n",
        "pca_test_zero = pd.DataFrame(pca_test_zero)"
      ]
    },
    {
      "cell_type": "code",
      "source": [
        "pca = PCA()\n",
        "pca.fit(zero_delta_train)\n",
        "cumsum = np.cumsum(pca.explained_variance_ratio_)\n",
        "N_COMPONETS = np.argmax(cumsum>=0.999) + 1\n",
        "print(N_COMPONETS)"
      ],
      "metadata": {
        "colab": {
          "base_uri": "https://localhost:8080/"
        },
        "id": "7M7Tpj-39kGI",
        "outputId": "63d33f59-6a06-4f15-fafc-4878cc91e846"
      },
      "execution_count": 291,
      "outputs": [
        {
          "output_type": "stream",
          "name": "stdout",
          "text": [
            "1\n"
          ]
        }
      ]
    },
    {
      "cell_type": "code",
      "source": [
        "pca = SparsePCA(n_components=N_COMPONETS,\n",
        "                alpha=0.001)\n",
        "\n",
        "pca_train_zero_delta = pca.fit_transform(zero_delta_train)\n",
        "pca_test_zero_delta = pca.transform(zero_delta_test)\n",
        "\n",
        "pca_train_zero_delta = pd.DataFrame(pca_train_zero_delta)\n",
        "pca_test_zero_delta = pd.DataFrame(pca_test_zero_delta)"
      ],
      "metadata": {
        "id": "QerkgZo59nRz"
      },
      "execution_count": 292,
      "outputs": []
    },
    {
      "cell_type": "markdown",
      "metadata": {
        "id": "VJSBGeUndkE0"
      },
      "source": [
        "#### RMS"
      ]
    },
    {
      "cell_type": "code",
      "execution_count": 293,
      "metadata": {
        "colab": {
          "base_uri": "https://localhost:8080/"
        },
        "id": "3lIPaWY-dlK4",
        "outputId": "87f30e8a-0ef9-4eb0-9e26-28d734a31ad6"
      },
      "outputs": [
        {
          "output_type": "stream",
          "name": "stdout",
          "text": [
            "1\n"
          ]
        }
      ],
      "source": [
        "pca = PCA()\n",
        "pca.fit(rms_train)\n",
        "cumsum = np.cumsum(pca.explained_variance_ratio_)\n",
        "N_COMPONETS = np.argmax(cumsum>=0.999) + 1\n",
        "print(N_COMPONETS)"
      ]
    },
    {
      "cell_type": "code",
      "execution_count": 294,
      "metadata": {
        "id": "WSStcURfdnky"
      },
      "outputs": [],
      "source": [
        "pca = SparsePCA(n_components=N_COMPONETS,\n",
        "                alpha=0.001)\n",
        "\n",
        "pca_train_rms = pca.fit_transform(rms_train)\n",
        "pca_test_rms = pca.transform(rms_test)\n",
        "\n",
        "pca_train_rms = pd.DataFrame(pca_train_rms)\n",
        "pca_test_rms = pd.DataFrame(pca_test_rms)"
      ]
    },
    {
      "cell_type": "code",
      "source": [
        "pca = PCA()\n",
        "pca.fit(rms_delta_train)\n",
        "cumsum = np.cumsum(pca.explained_variance_ratio_)\n",
        "N_COMPONETS = np.argmax(cumsum>=0.999) + 1\n",
        "print(N_COMPONETS)"
      ],
      "metadata": {
        "colab": {
          "base_uri": "https://localhost:8080/"
        },
        "id": "TgrLO2D547K9",
        "outputId": "5e3b1966-526f-4205-f062-888f8b1f1457"
      },
      "execution_count": 295,
      "outputs": [
        {
          "output_type": "stream",
          "name": "stdout",
          "text": [
            "1\n"
          ]
        }
      ]
    },
    {
      "cell_type": "code",
      "source": [
        "pca = SparsePCA(n_components=N_COMPONETS,\n",
        "                alpha=0.001)\n",
        "\n",
        "pca_train_rms_delta = pca.fit_transform(rms_delta_train)\n",
        "pca_test_rms_delta = pca.transform(rms_delta_test)\n",
        "\n",
        "pca_train_rms_delta = pd.DataFrame(pca_train_rms_delta)\n",
        "pca_test_rms_delta = pd.DataFrame(pca_test_rms_delta)"
      ],
      "metadata": {
        "id": "qUffmWu949Rk"
      },
      "execution_count": 296,
      "outputs": []
    },
    {
      "cell_type": "markdown",
      "metadata": {
        "id": "cHJABxTvA0LB"
      },
      "source": [
        "#### MFCC"
      ]
    },
    {
      "cell_type": "code",
      "execution_count": 297,
      "metadata": {
        "colab": {
          "base_uri": "https://localhost:8080/"
        },
        "id": "jPfRoQKHAtkC",
        "outputId": "2ede55bf-ffd9-4287-bf84-708d09ed25a4"
      },
      "outputs": [
        {
          "output_type": "stream",
          "name": "stdout",
          "text": [
            "124\n"
          ]
        }
      ],
      "source": [
        "pca = PCA()\n",
        "pca.fit(mfcc_train)\n",
        "cumsum = np.cumsum(pca.explained_variance_ratio_)\n",
        "N_COMPONETS = np.argmax(cumsum>=0.999) + 1\n",
        "print(N_COMPONETS)"
      ]
    },
    {
      "cell_type": "code",
      "execution_count": null,
      "metadata": {
        "id": "WS7DkbjkA2Ex"
      },
      "outputs": [],
      "source": [
        "pca = SparsePCA(n_components=N_COMPONETS,\n",
        "                alpha=0.001)\n",
        "\n",
        "pca_train_mfcc = pca.fit_transform(mfcc_train)\n",
        "pca_test_mfcc = pca.transform(mfcc_test)\n",
        "\n",
        "pca_train_mfcc = pd.DataFrame(pca_train_mfcc)\n",
        "pca_test_mfcc = pd.DataFrame(pca_test_mfcc)"
      ]
    },
    {
      "cell_type": "code",
      "source": [
        "pca = PCA()\n",
        "pca.fit(mfcc_delta_train)\n",
        "cumsum = np.cumsum(pca.explained_variance_ratio_)\n",
        "N_COMPONETS = np.argmax(cumsum>=0.999) + 1\n",
        "print(N_COMPONETS)"
      ],
      "metadata": {
        "id": "Ab-lnW_35DVN"
      },
      "execution_count": null,
      "outputs": []
    },
    {
      "cell_type": "code",
      "source": [
        "pca = SparsePCA(n_components=N_COMPONETS,\n",
        "                alpha=0.001)\n",
        "\n",
        "pca_train_mfcc_delta = pca.fit_transform(mfcc_delta_train)\n",
        "pca_test_mfcc_delta = pca.transform(mfcc_delta_test)\n",
        "\n",
        "pca_train_mfcc_delta = pd.DataFrame(pca_train_mfcc_delta)\n",
        "pca_test_mfcc_delta = pd.DataFrame(pca_test_mfcc_delta)"
      ],
      "metadata": {
        "id": "1XBy9o4a5GwM"
      },
      "execution_count": null,
      "outputs": []
    },
    {
      "cell_type": "markdown",
      "metadata": {
        "id": "jAg_yfv8CRc4"
      },
      "source": [
        "#### Spectral\n"
      ]
    },
    {
      "cell_type": "markdown",
      "metadata": {
        "id": "O83LEdgpCVvw"
      },
      "source": [
        "##### Spectral Centroid"
      ]
    },
    {
      "cell_type": "code",
      "execution_count": null,
      "metadata": {
        "colab": {
          "base_uri": "https://localhost:8080/"
        },
        "id": "ygjCHgyfCyyk",
        "outputId": "3028569f-af2a-4dee-848d-c2242235e292"
      },
      "outputs": [
        {
          "name": "stdout",
          "output_type": "stream",
          "text": [
            "1\n"
          ]
        }
      ],
      "source": [
        "pca = PCA()\n",
        "pca.fit(spectral_centroid_train)\n",
        "cumsum = np.cumsum(pca.explained_variance_ratio_)\n",
        "N_COMPONETS = np.argmax(cumsum>=0.999) + 1\n",
        "print(N_COMPONETS)"
      ]
    },
    {
      "cell_type": "code",
      "execution_count": null,
      "metadata": {
        "id": "a4CYbT4IC0Ci"
      },
      "outputs": [],
      "source": [
        "pca = SparsePCA(n_components=N_COMPONETS,\n",
        "                alpha=0.001)\n",
        "\n",
        "pca_train_sepctral_centroid = pca.fit_transform(spectral_centroid_train)\n",
        "pca_test_sepctral_centroid = pca.transform(spectral_centroid_test)\n",
        "\n",
        "pca_train_sepctral_centroid = pd.DataFrame(pca_train_sepctral_centroid)\n",
        "pca_test_sepctral_centroid = pd.DataFrame(pca_test_sepctral_centroid)"
      ]
    },
    {
      "cell_type": "markdown",
      "metadata": {
        "id": "Yq_HOJWqCa-g"
      },
      "source": [
        "##### Spectral Bandwidth"
      ]
    },
    {
      "cell_type": "code",
      "execution_count": null,
      "metadata": {
        "colab": {
          "base_uri": "https://localhost:8080/"
        },
        "id": "o0Gz4gs3CzM4",
        "outputId": "c8f27f77-1c26-4b10-c465-d4efd1023669"
      },
      "outputs": [
        {
          "name": "stdout",
          "output_type": "stream",
          "text": [
            "1\n"
          ]
        }
      ],
      "source": [
        "pca = PCA()\n",
        "pca.fit(spectral_bandwidth_train)\n",
        "cumsum = np.cumsum(pca.explained_variance_ratio_)\n",
        "N_COMPONETS = np.argmax(cumsum>=0.999) + 1\n",
        "print(N_COMPONETS)"
      ]
    },
    {
      "cell_type": "code",
      "execution_count": null,
      "metadata": {
        "id": "OCMXjEvgC0YA"
      },
      "outputs": [],
      "source": [
        "pca = SparsePCA(n_components=N_COMPONETS,\n",
        "                alpha=0.001)\n",
        "\n",
        "pca_train_sepctral_bandwidth = pca.fit_transform(spectral_bandwidth_train)\n",
        "pca_test_sepctral_bandwidth = pca.transform(spectral_bandwidth_test)\n",
        "\n",
        "pca_train_sepctral_bandwidth = pd.DataFrame(pca_train_sepctral_bandwidth)\n",
        "pca_test_sepctral_bandwidth = pd.DataFrame(pca_test_sepctral_bandwidth)"
      ]
    },
    {
      "cell_type": "markdown",
      "metadata": {
        "id": "qdb28gzRCetS"
      },
      "source": [
        "##### Spectral Contrast"
      ]
    },
    {
      "cell_type": "code",
      "execution_count": null,
      "metadata": {
        "colab": {
          "base_uri": "https://localhost:8080/"
        },
        "id": "tArBFzSuCzjR",
        "outputId": "a8fdebd3-41cd-4622-bdf2-baa3500abdc8"
      },
      "outputs": [
        {
          "name": "stdout",
          "output_type": "stream",
          "text": [
            "7\n"
          ]
        }
      ],
      "source": [
        "pca = PCA()\n",
        "pca.fit(spectral_contrast_train)\n",
        "cumsum = np.cumsum(pca.explained_variance_ratio_)\n",
        "N_COMPONETS = np.argmax(cumsum>=0.999) + 1\n",
        "print(N_COMPONETS)"
      ]
    },
    {
      "cell_type": "code",
      "execution_count": null,
      "metadata": {
        "id": "K8jpWIe1C0yS"
      },
      "outputs": [],
      "source": [
        "pca = SparsePCA(n_components=N_COMPONETS,\n",
        "                alpha=0.001)\n",
        "\n",
        "pca_train_sepctral_contrast = pca.fit_transform(spectral_contrast_train)\n",
        "pca_test_sepctral_contrast = pca.transform(spectral_contrast_test)\n",
        "\n",
        "pca_train_sepctral_contrast = pd.DataFrame(pca_train_sepctral_contrast)\n",
        "pca_test_sepctral_contrast = pd.DataFrame(pca_test_sepctral_contrast)"
      ]
    },
    {
      "cell_type": "markdown",
      "metadata": {
        "id": "9ItV7h-AChUl"
      },
      "source": [
        "##### Spectral Flatness\n"
      ]
    },
    {
      "cell_type": "code",
      "execution_count": null,
      "metadata": {
        "colab": {
          "base_uri": "https://localhost:8080/"
        },
        "id": "C9MrsD2CC1MG",
        "outputId": "216afa94-1825-43a5-d126-5068b8a49391"
      },
      "outputs": [
        {
          "name": "stdout",
          "output_type": "stream",
          "text": [
            "1\n"
          ]
        }
      ],
      "source": [
        "pca = PCA()\n",
        "pca.fit(spectral_flatness_train)\n",
        "cumsum = np.cumsum(pca.explained_variance_ratio_)\n",
        "N_COMPONETS = np.argmax(cumsum>=0.999) + 1\n",
        "print(N_COMPONETS)"
      ]
    },
    {
      "cell_type": "code",
      "execution_count": null,
      "metadata": {
        "id": "j-9pV6N0C1dg"
      },
      "outputs": [],
      "source": [
        "pca = SparsePCA(n_components=N_COMPONETS,\n",
        "                alpha=0.001)\n",
        "\n",
        "pca_train_sepctral_flatness = pca.fit_transform(spectral_flatness_train)\n",
        "pca_test_sepctral_flatness = pca.transform(spectral_flatness_test)\n",
        "\n",
        "pca_train_sepctral_flatness = pd.DataFrame(pca_train_sepctral_flatness)\n",
        "pca_test_sepctral_flatness = pd.DataFrame(pca_test_sepctral_flatness)"
      ]
    },
    {
      "cell_type": "markdown",
      "metadata": {
        "id": "zX44lvlACkcy"
      },
      "source": [
        "##### Spectral Rolloff"
      ]
    },
    {
      "cell_type": "code",
      "execution_count": null,
      "metadata": {
        "colab": {
          "base_uri": "https://localhost:8080/"
        },
        "id": "KR9UwFeYC1x-",
        "outputId": "d69394fd-f6ad-45e0-85be-48bfdf01905e"
      },
      "outputs": [
        {
          "name": "stdout",
          "output_type": "stream",
          "text": [
            "1\n"
          ]
        }
      ],
      "source": [
        "pca = PCA()\n",
        "pca.fit(spectral_rolloff_train)\n",
        "cumsum = np.cumsum(pca.explained_variance_ratio_)\n",
        "N_COMPONETS = np.argmax(cumsum>=0.999) + 1\n",
        "print(N_COMPONETS)"
      ]
    },
    {
      "cell_type": "code",
      "execution_count": null,
      "metadata": {
        "id": "kBgy5AYPC2Ni"
      },
      "outputs": [],
      "source": [
        "pca = SparsePCA(n_components=N_COMPONETS,\n",
        "                alpha=0.001)\n",
        "\n",
        "pca_train_sepctral_rolloff = pca.fit_transform(spectral_rolloff_train)\n",
        "pca_test_sepctral_rolloff = pca.transform(spectral_rolloff_test)\n",
        "\n",
        "pca_train_sepctral_rolloff = pd.DataFrame(pca_train_sepctral_rolloff)\n",
        "pca_test_sepctral_rolloff = pd.DataFrame(pca_test_sepctral_rolloff)"
      ]
    },
    {
      "cell_type": "markdown",
      "metadata": {
        "id": "JIbYrLotCTEe"
      },
      "source": [
        "#### Chroma"
      ]
    },
    {
      "cell_type": "markdown",
      "metadata": {
        "id": "PUTfr_4mCsEz"
      },
      "source": [
        "##### Chroma stft"
      ]
    },
    {
      "cell_type": "code",
      "execution_count": 304,
      "metadata": {
        "colab": {
          "base_uri": "https://localhost:8080/"
        },
        "id": "W8JLD9HfC3qC",
        "outputId": "ecd2fd14-e0f6-46ac-c4ce-31014c90b460"
      },
      "outputs": [
        {
          "output_type": "stream",
          "name": "stdout",
          "text": [
            "12\n"
          ]
        }
      ],
      "source": [
        "pca = PCA()\n",
        "pca.fit(chroma_stft_train)\n",
        "cumsum = np.cumsum(pca.explained_variance_ratio_)\n",
        "N_COMPONETS = np.argmax(cumsum>=0.999) + 1\n",
        "print(N_COMPONETS)"
      ]
    },
    {
      "cell_type": "code",
      "execution_count": 305,
      "metadata": {
        "id": "UMpLUMxhC3gO"
      },
      "outputs": [],
      "source": [
        "pca = SparsePCA(n_components=N_COMPONETS,\n",
        "                alpha=0.001)\n",
        "\n",
        "pca_train_chroma_stft = pca.fit_transform(chroma_stft_train)\n",
        "pca_test_chroma_stft = pca.transform(chroma_stft_test)\n",
        "\n",
        "pca_train_chroma_stft = pd.DataFrame(pca_train_chroma_stft)\n",
        "pca_test_chroma_stft = pd.DataFrame(pca_test_chroma_stft)"
      ]
    },
    {
      "cell_type": "markdown",
      "metadata": {
        "id": "HNzI4ijzCuXc"
      },
      "source": [
        "##### Chroma cqt"
      ]
    },
    {
      "cell_type": "code",
      "execution_count": null,
      "metadata": {
        "colab": {
          "base_uri": "https://localhost:8080/"
        },
        "id": "kEmLck_yC4Xl",
        "outputId": "4bb2a2d4-f095-4b7e-ba01-206c00b270b0"
      },
      "outputs": [
        {
          "name": "stdout",
          "output_type": "stream",
          "text": [
            "12\n"
          ]
        }
      ],
      "source": [
        "pca = PCA()\n",
        "pca.fit(chroma_cqt_train)\n",
        "cumsum = np.cumsum(pca.explained_variance_ratio_)\n",
        "N_COMPONETS = np.argmax(cumsum>=0.999) + 1\n",
        "print(N_COMPONETS)"
      ]
    },
    {
      "cell_type": "code",
      "execution_count": null,
      "metadata": {
        "id": "Tj7x9wcZC4R3"
      },
      "outputs": [],
      "source": [
        "pca = SparsePCA(n_components=N_COMPONETS,\n",
        "                alpha=0.001)\n",
        "\n",
        "pca_train_chroma_cqt = pca.fit_transform(chroma_cqt_train)\n",
        "pca_test_chroma_cqt = pca.transform(chroma_cqt_test)\n",
        "\n",
        "pca_train_chroma_cqt = pd.DataFrame(pca_train_chroma_cqt)\n",
        "pca_test_chroma_cqt = pd.DataFrame(pca_test_chroma_cqt)"
      ]
    },
    {
      "cell_type": "markdown",
      "metadata": {
        "id": "-CxGS19iCwMo"
      },
      "source": [
        "##### Chroma cens"
      ]
    },
    {
      "cell_type": "code",
      "execution_count": null,
      "metadata": {
        "colab": {
          "base_uri": "https://localhost:8080/"
        },
        "id": "8Ow8pIgLC4xC",
        "outputId": "e8aa50e1-2c13-4d02-d1be-38beaf3ddadf"
      },
      "outputs": [
        {
          "name": "stdout",
          "output_type": "stream",
          "text": [
            "12\n"
          ]
        }
      ],
      "source": [
        "pca = PCA()\n",
        "pca.fit(chroma_cens_train)\n",
        "cumsum = np.cumsum(pca.explained_variance_ratio_)\n",
        "N_COMPONETS = np.argmax(cumsum>=0.999) + 1\n",
        "print(N_COMPONETS)"
      ]
    },
    {
      "cell_type": "code",
      "execution_count": null,
      "metadata": {
        "id": "6_3TGOAxC4re"
      },
      "outputs": [],
      "source": [
        "pca = SparsePCA(n_components=N_COMPONETS,\n",
        "                alpha=0.001)\n",
        "\n",
        "pca_train_chroma_cens = pca.fit_transform(chroma_cens_train)\n",
        "pca_test_chroma_cens = pca.transform(chroma_cens_test)\n",
        "\n",
        "pca_train_chroma_cens = pd.DataFrame(pca_train_chroma_cens)\n",
        "pca_test_chroma_cens = pd.DataFrame(pca_test_chroma_cens)"
      ]
    },
    {
      "cell_type": "markdown",
      "metadata": {
        "id": "hzDnjpjKFWQd"
      },
      "source": [
        "### Tonnetz"
      ]
    },
    {
      "cell_type": "code",
      "execution_count": null,
      "metadata": {
        "colab": {
          "base_uri": "https://localhost:8080/"
        },
        "id": "npYyE3a5FZ1x",
        "outputId": "f3ec1c8d-3fc9-4cf6-846b-8d0092715f53"
      },
      "outputs": [
        {
          "name": "stdout",
          "output_type": "stream",
          "text": [
            "6\n"
          ]
        }
      ],
      "source": [
        "pca = PCA()\n",
        "pca.fit(tonnetz_train)\n",
        "cumsum = np.cumsum(pca.explained_variance_ratio_)\n",
        "N_COMPONETS = np.argmax(cumsum>=0.999) + 1\n",
        "print(N_COMPONETS)"
      ]
    },
    {
      "cell_type": "code",
      "execution_count": null,
      "metadata": {
        "id": "L0Ea5AN2Fejz"
      },
      "outputs": [],
      "source": [
        "pca = SparsePCA(n_components=N_COMPONETS,\n",
        "                alpha=0.001)\n",
        "\n",
        "pca_train_tonnetz = pca.fit_transform(tonnetz_train)\n",
        "pca_test_tonnetz = pca.transform(tonnetz_test)\n",
        "\n",
        "pca_train_tonnetz = pd.DataFrame(pca_train_tonnetz)\n",
        "pca_test_tonnetz = pd.DataFrame(pca_test_tonnetz)"
      ]
    },
    {
      "cell_type": "markdown",
      "metadata": {
        "id": "m2F97er4AvDw"
      },
      "source": [
        "### Kernel PCA"
      ]
    },
    {
      "cell_type": "markdown",
      "metadata": {
        "id": "R8qpbwFqCDOV"
      },
      "source": [
        "#### Poly Feature"
      ]
    },
    {
      "cell_type": "code",
      "execution_count": null,
      "metadata": {
        "colab": {
          "base_uri": "https://localhost:8080/"
        },
        "id": "3bU1FKrcAwna",
        "outputId": "e91753e9-a91d-486f-d079-c493b88d4a0c"
      },
      "outputs": [
        {
          "name": "stdout",
          "output_type": "stream",
          "text": [
            "2\n"
          ]
        }
      ],
      "source": [
        "pca = PCA()\n",
        "pca.fit(poly_train)\n",
        "cumsum = np.cumsum(pca.explained_variance_ratio_)\n",
        "N_COMPONETS = np.argmax(cumsum>=0.999) + 1\n",
        "print(N_COMPONETS)"
      ]
    },
    {
      "cell_type": "code",
      "execution_count": null,
      "metadata": {
        "id": "J861rZq_B-kb"
      },
      "outputs": [],
      "source": [
        "pca = KernelPCA(n_components=N_COMPONETS)\n",
        "\n",
        "pca_train_poly = pca.fit_transform(poly_train)\n",
        "pca_test_poly = pca.transform(poly_test)\n",
        "\n",
        "pca_train_poly = pd.DataFrame(pca_train_poly)\n",
        "pca_test_poly = pd.DataFrame(pca_test_poly)"
      ]
    },
    {
      "cell_type": "markdown",
      "metadata": {
        "id": "FBQ7pMccGhdG"
      },
      "source": [
        "# Concat Preprocessed Data Set"
      ]
    },
    {
      "cell_type": "code",
      "execution_count": 255,
      "metadata": {
        "id": "RGuLKvObGmxD"
      },
      "outputs": [],
      "source": [
        "preprocessed_train_mean = pd.concat([\n",
        "                                     #zero_train,\n",
        "                                     #rms_train,\n",
        "                                     #pca_train_mel,\n",
        "                                     pca_train_zero,\n",
        "                                     pca_train_rms,\n",
        "                                     pca_train_mfcc,\n",
        "                                     pca_train_zero_delta,\n",
        "                                     pca_train_rms_delta,\n",
        "                                     #pca_train_mfcc_delta,\n",
        "                                     #pca_train_sepctral_centroid,\n",
        "                                     #pca_train_sepctral_bandwidth,\n",
        "                                     #pca_train_sepctral_contrast,\n",
        "                                     #pca_train_sepctral_flatness,\n",
        "                                     #pca_train_sepctral_rolloff,\n",
        "                                     #pca_train_chroma_stft,\n",
        "                                     #pca_train_chroma_cqt,\n",
        "                                     #pca_train_chroma_cens,\n",
        "                                     #pca_train_tonnetz,\n",
        "                                     #pca_train_rhythm,\n",
        "                                     #pca_train_poly\n",
        "                                    ], axis=1)\n",
        "\n",
        "preprocessed_test_mean = pd.concat([\n",
        "                                     #zero_test,\n",
        "                                     #rms_test,\n",
        "                                     #pca_test_mel,\n",
        "                                     pca_test_zero,\n",
        "                                     pca_test_rms,\n",
        "                                     pca_test_mfcc,\n",
        "                                     pca_test_zero_delta,\n",
        "                                     pca_test_rms_delta,\n",
        "                                     #pca_test_mfcc_delta,\n",
        "                                     #pca_test_sepctral_centroid,\n",
        "                                     #pca_test_sepctral_bandwidth,\n",
        "                                     #pca_test_sepctral_contrast,\n",
        "                                     #pca_test_sepctral_flatness,\n",
        "                                     #pca_test_sepctral_rolloff,\n",
        "                                     #pca_test_chroma_stft,\n",
        "                                     #pca_test_chroma_cqt,\n",
        "                                     #pca_test_chroma_cens,\n",
        "                                     #pca_test_tonnetz,\n",
        "                                     #pca_test_rhythm,\n",
        "                                     #pca_test_poly\n",
        "                                    ], axis=1)"
      ]
    },
    {
      "cell_type": "code",
      "execution_count": 256,
      "metadata": {
        "id": "Woygliy6GpZI"
      },
      "outputs": [],
      "source": [
        "preprocessed_train_mean.columns = [i for i in range(len(preprocessed_train_mean.columns))]\n",
        "preprocessed_test_mean.columns = [i for i in range(len(preprocessed_test_mean.columns))]"
      ]
    },
    {
      "cell_type": "code",
      "execution_count": 257,
      "metadata": {
        "colab": {
          "base_uri": "https://localhost:8080/",
          "height": 317
        },
        "id": "XHXOYSEzGqiu",
        "outputId": "03178434-0031-494e-a4f6-f423b7c75b0a"
      },
      "outputs": [
        {
          "output_type": "stream",
          "name": "stdout",
          "text": [
            "(1279, 128)\n"
          ]
        },
        {
          "output_type": "execute_result",
          "data": {
            "text/plain": [
              "        0         1         2         3         4         5         6    \\\n",
              "0 -0.303446  0.983766  3.422420  0.726486 -2.462682  4.443269 -5.738622   \n",
              "1 -0.899772 -0.012764  2.502096  2.519140 -1.577035 -0.769271  3.478615   \n",
              "2  0.438706 -1.466346 -4.175946  2.231185  1.994829  1.515495 -3.933909   \n",
              "3 -0.901006  1.523705  0.084066  1.280448  0.559491 -0.635935  1.115205   \n",
              "4  1.995991 -1.468288 -1.570391  0.251557  0.460797  2.018924  3.932621   \n",
              "\n",
              "        7         8          9    ...       118       119       120       121  \\\n",
              "0 -1.975347  3.681233  12.694907  ... -0.062699 -0.091079 -0.549037  0.153809   \n",
              "1  1.338044 -0.147000  -0.281568  ... -0.114123  0.213609  0.102917  0.163011   \n",
              "2  3.124208  6.541959  -1.330611  ...  0.443640  0.247786  0.058560 -0.574130   \n",
              "3 -1.207013  4.503405   2.572394  ... -0.064824 -0.192117 -0.171057  0.029320   \n",
              "4 -2.159932 -7.148360  -2.894867  ...  0.582438  0.037699 -0.189837  0.629114   \n",
              "\n",
              "        122       123       124       125       126       127  \n",
              "0 -0.179582  0.076368  0.010871 -0.241233 -0.210859 -1.261785  \n",
              "1  0.536513 -0.826751  0.172047 -0.250567 -0.382049 -0.275590  \n",
              "2  0.047098 -0.028901  0.352297  0.002886  0.671386 -0.522044  \n",
              "3 -0.077531 -0.599213 -0.102897  0.148886  1.243426 -0.659879  \n",
              "4 -0.088787  0.012352  0.752945 -0.023018 -1.509588 -1.704008  \n",
              "\n",
              "[5 rows x 128 columns]"
            ],
            "text/html": [
              "\n",
              "  <div id=\"df-43aa8d6c-da3b-40bc-8b3f-042011995259\">\n",
              "    <div class=\"colab-df-container\">\n",
              "      <div>\n",
              "<style scoped>\n",
              "    .dataframe tbody tr th:only-of-type {\n",
              "        vertical-align: middle;\n",
              "    }\n",
              "\n",
              "    .dataframe tbody tr th {\n",
              "        vertical-align: top;\n",
              "    }\n",
              "\n",
              "    .dataframe thead th {\n",
              "        text-align: right;\n",
              "    }\n",
              "</style>\n",
              "<table border=\"1\" class=\"dataframe\">\n",
              "  <thead>\n",
              "    <tr style=\"text-align: right;\">\n",
              "      <th></th>\n",
              "      <th>0</th>\n",
              "      <th>1</th>\n",
              "      <th>2</th>\n",
              "      <th>3</th>\n",
              "      <th>4</th>\n",
              "      <th>5</th>\n",
              "      <th>6</th>\n",
              "      <th>7</th>\n",
              "      <th>8</th>\n",
              "      <th>9</th>\n",
              "      <th>...</th>\n",
              "      <th>118</th>\n",
              "      <th>119</th>\n",
              "      <th>120</th>\n",
              "      <th>121</th>\n",
              "      <th>122</th>\n",
              "      <th>123</th>\n",
              "      <th>124</th>\n",
              "      <th>125</th>\n",
              "      <th>126</th>\n",
              "      <th>127</th>\n",
              "    </tr>\n",
              "  </thead>\n",
              "  <tbody>\n",
              "    <tr>\n",
              "      <th>0</th>\n",
              "      <td>-0.303446</td>\n",
              "      <td>0.983766</td>\n",
              "      <td>3.422420</td>\n",
              "      <td>0.726486</td>\n",
              "      <td>-2.462682</td>\n",
              "      <td>4.443269</td>\n",
              "      <td>-5.738622</td>\n",
              "      <td>-1.975347</td>\n",
              "      <td>3.681233</td>\n",
              "      <td>12.694907</td>\n",
              "      <td>...</td>\n",
              "      <td>-0.062699</td>\n",
              "      <td>-0.091079</td>\n",
              "      <td>-0.549037</td>\n",
              "      <td>0.153809</td>\n",
              "      <td>-0.179582</td>\n",
              "      <td>0.076368</td>\n",
              "      <td>0.010871</td>\n",
              "      <td>-0.241233</td>\n",
              "      <td>-0.210859</td>\n",
              "      <td>-1.261785</td>\n",
              "    </tr>\n",
              "    <tr>\n",
              "      <th>1</th>\n",
              "      <td>-0.899772</td>\n",
              "      <td>-0.012764</td>\n",
              "      <td>2.502096</td>\n",
              "      <td>2.519140</td>\n",
              "      <td>-1.577035</td>\n",
              "      <td>-0.769271</td>\n",
              "      <td>3.478615</td>\n",
              "      <td>1.338044</td>\n",
              "      <td>-0.147000</td>\n",
              "      <td>-0.281568</td>\n",
              "      <td>...</td>\n",
              "      <td>-0.114123</td>\n",
              "      <td>0.213609</td>\n",
              "      <td>0.102917</td>\n",
              "      <td>0.163011</td>\n",
              "      <td>0.536513</td>\n",
              "      <td>-0.826751</td>\n",
              "      <td>0.172047</td>\n",
              "      <td>-0.250567</td>\n",
              "      <td>-0.382049</td>\n",
              "      <td>-0.275590</td>\n",
              "    </tr>\n",
              "    <tr>\n",
              "      <th>2</th>\n",
              "      <td>0.438706</td>\n",
              "      <td>-1.466346</td>\n",
              "      <td>-4.175946</td>\n",
              "      <td>2.231185</td>\n",
              "      <td>1.994829</td>\n",
              "      <td>1.515495</td>\n",
              "      <td>-3.933909</td>\n",
              "      <td>3.124208</td>\n",
              "      <td>6.541959</td>\n",
              "      <td>-1.330611</td>\n",
              "      <td>...</td>\n",
              "      <td>0.443640</td>\n",
              "      <td>0.247786</td>\n",
              "      <td>0.058560</td>\n",
              "      <td>-0.574130</td>\n",
              "      <td>0.047098</td>\n",
              "      <td>-0.028901</td>\n",
              "      <td>0.352297</td>\n",
              "      <td>0.002886</td>\n",
              "      <td>0.671386</td>\n",
              "      <td>-0.522044</td>\n",
              "    </tr>\n",
              "    <tr>\n",
              "      <th>3</th>\n",
              "      <td>-0.901006</td>\n",
              "      <td>1.523705</td>\n",
              "      <td>0.084066</td>\n",
              "      <td>1.280448</td>\n",
              "      <td>0.559491</td>\n",
              "      <td>-0.635935</td>\n",
              "      <td>1.115205</td>\n",
              "      <td>-1.207013</td>\n",
              "      <td>4.503405</td>\n",
              "      <td>2.572394</td>\n",
              "      <td>...</td>\n",
              "      <td>-0.064824</td>\n",
              "      <td>-0.192117</td>\n",
              "      <td>-0.171057</td>\n",
              "      <td>0.029320</td>\n",
              "      <td>-0.077531</td>\n",
              "      <td>-0.599213</td>\n",
              "      <td>-0.102897</td>\n",
              "      <td>0.148886</td>\n",
              "      <td>1.243426</td>\n",
              "      <td>-0.659879</td>\n",
              "    </tr>\n",
              "    <tr>\n",
              "      <th>4</th>\n",
              "      <td>1.995991</td>\n",
              "      <td>-1.468288</td>\n",
              "      <td>-1.570391</td>\n",
              "      <td>0.251557</td>\n",
              "      <td>0.460797</td>\n",
              "      <td>2.018924</td>\n",
              "      <td>3.932621</td>\n",
              "      <td>-2.159932</td>\n",
              "      <td>-7.148360</td>\n",
              "      <td>-2.894867</td>\n",
              "      <td>...</td>\n",
              "      <td>0.582438</td>\n",
              "      <td>0.037699</td>\n",
              "      <td>-0.189837</td>\n",
              "      <td>0.629114</td>\n",
              "      <td>-0.088787</td>\n",
              "      <td>0.012352</td>\n",
              "      <td>0.752945</td>\n",
              "      <td>-0.023018</td>\n",
              "      <td>-1.509588</td>\n",
              "      <td>-1.704008</td>\n",
              "    </tr>\n",
              "  </tbody>\n",
              "</table>\n",
              "<p>5 rows × 128 columns</p>\n",
              "</div>\n",
              "      <button class=\"colab-df-convert\" onclick=\"convertToInteractive('df-43aa8d6c-da3b-40bc-8b3f-042011995259')\"\n",
              "              title=\"Convert this dataframe to an interactive table.\"\n",
              "              style=\"display:none;\">\n",
              "        \n",
              "  <svg xmlns=\"http://www.w3.org/2000/svg\" height=\"24px\"viewBox=\"0 0 24 24\"\n",
              "       width=\"24px\">\n",
              "    <path d=\"M0 0h24v24H0V0z\" fill=\"none\"/>\n",
              "    <path d=\"M18.56 5.44l.94 2.06.94-2.06 2.06-.94-2.06-.94-.94-2.06-.94 2.06-2.06.94zm-11 1L8.5 8.5l.94-2.06 2.06-.94-2.06-.94L8.5 2.5l-.94 2.06-2.06.94zm10 10l.94 2.06.94-2.06 2.06-.94-2.06-.94-.94-2.06-.94 2.06-2.06.94z\"/><path d=\"M17.41 7.96l-1.37-1.37c-.4-.4-.92-.59-1.43-.59-.52 0-1.04.2-1.43.59L10.3 9.45l-7.72 7.72c-.78.78-.78 2.05 0 2.83L4 21.41c.39.39.9.59 1.41.59.51 0 1.02-.2 1.41-.59l7.78-7.78 2.81-2.81c.8-.78.8-2.07 0-2.86zM5.41 20L4 18.59l7.72-7.72 1.47 1.35L5.41 20z\"/>\n",
              "  </svg>\n",
              "      </button>\n",
              "      \n",
              "  <style>\n",
              "    .colab-df-container {\n",
              "      display:flex;\n",
              "      flex-wrap:wrap;\n",
              "      gap: 12px;\n",
              "    }\n",
              "\n",
              "    .colab-df-convert {\n",
              "      background-color: #E8F0FE;\n",
              "      border: none;\n",
              "      border-radius: 50%;\n",
              "      cursor: pointer;\n",
              "      display: none;\n",
              "      fill: #1967D2;\n",
              "      height: 32px;\n",
              "      padding: 0 0 0 0;\n",
              "      width: 32px;\n",
              "    }\n",
              "\n",
              "    .colab-df-convert:hover {\n",
              "      background-color: #E2EBFA;\n",
              "      box-shadow: 0px 1px 2px rgba(60, 64, 67, 0.3), 0px 1px 3px 1px rgba(60, 64, 67, 0.15);\n",
              "      fill: #174EA6;\n",
              "    }\n",
              "\n",
              "    [theme=dark] .colab-df-convert {\n",
              "      background-color: #3B4455;\n",
              "      fill: #D2E3FC;\n",
              "    }\n",
              "\n",
              "    [theme=dark] .colab-df-convert:hover {\n",
              "      background-color: #434B5C;\n",
              "      box-shadow: 0px 1px 3px 1px rgba(0, 0, 0, 0.15);\n",
              "      filter: drop-shadow(0px 1px 2px rgba(0, 0, 0, 0.3));\n",
              "      fill: #FFFFFF;\n",
              "    }\n",
              "  </style>\n",
              "\n",
              "      <script>\n",
              "        const buttonEl =\n",
              "          document.querySelector('#df-43aa8d6c-da3b-40bc-8b3f-042011995259 button.colab-df-convert');\n",
              "        buttonEl.style.display =\n",
              "          google.colab.kernel.accessAllowed ? 'block' : 'none';\n",
              "\n",
              "        async function convertToInteractive(key) {\n",
              "          const element = document.querySelector('#df-43aa8d6c-da3b-40bc-8b3f-042011995259');\n",
              "          const dataTable =\n",
              "            await google.colab.kernel.invokeFunction('convertToInteractive',\n",
              "                                                     [key], {});\n",
              "          if (!dataTable) return;\n",
              "\n",
              "          const docLinkHtml = 'Like what you see? Visit the ' +\n",
              "            '<a target=\"_blank\" href=https://colab.research.google.com/notebooks/data_table.ipynb>data table notebook</a>'\n",
              "            + ' to learn more about interactive tables.';\n",
              "          element.innerHTML = '';\n",
              "          dataTable['output_type'] = 'display_data';\n",
              "          await google.colab.output.renderOutput(dataTable, element);\n",
              "          const docLink = document.createElement('div');\n",
              "          docLink.innerHTML = docLinkHtml;\n",
              "          element.appendChild(docLink);\n",
              "        }\n",
              "      </script>\n",
              "    </div>\n",
              "  </div>\n",
              "  "
            ]
          },
          "metadata": {},
          "execution_count": 257
        }
      ],
      "source": [
        "print(preprocessed_train_mean.shape)\n",
        "preprocessed_train_mean.head()"
      ]
    },
    {
      "cell_type": "markdown",
      "metadata": {
        "id": "o6ptUCzlGvQV"
      },
      "source": [
        "# Modeling"
      ]
    },
    {
      "cell_type": "markdown",
      "metadata": {
        "id": "Uw1392N3GxfA"
      },
      "source": [
        "## LOF"
      ]
    },
    {
      "cell_type": "markdown",
      "metadata": {
        "id": "7GBOoBLsG2Me"
      },
      "source": [
        "### 모델 생성"
      ]
    },
    {
      "cell_type": "code",
      "execution_count": 258,
      "metadata": {
        "id": "almGLPvcG0J0"
      },
      "outputs": [],
      "source": [
        "model = LocalOutlierFactor(n_neighbors=1,\n",
        "                           algorithm='auto',\n",
        "                           contamination='auto',\n",
        "                           novelty=True)"
      ]
    },
    {
      "cell_type": "markdown",
      "metadata": {
        "id": "6cPFuXaPG4Pb"
      },
      "source": [
        "### 모델 학습"
      ]
    },
    {
      "cell_type": "code",
      "execution_count": 259,
      "metadata": {
        "colab": {
          "base_uri": "https://localhost:8080/"
        },
        "id": "QOGisX9qG5kA",
        "outputId": "39ec2ba5-bc64-4b78-d057-96e6e84c88d2"
      },
      "outputs": [
        {
          "output_type": "execute_result",
          "data": {
            "text/plain": [
              "LocalOutlierFactor(n_neighbors=1, novelty=True)"
            ]
          },
          "metadata": {},
          "execution_count": 259
        }
      ],
      "source": [
        "model.fit(preprocessed_train_mean)"
      ]
    },
    {
      "cell_type": "markdown",
      "metadata": {
        "id": "d-x6aqpwG698"
      },
      "source": [
        "### 추론"
      ]
    },
    {
      "cell_type": "code",
      "execution_count": 260,
      "metadata": {
        "id": "8sXhXp3GG9xc"
      },
      "outputs": [],
      "source": [
        "def get_pred_label(model_pred):\n",
        "    # IsolationForest 모델 출력 (1:정상, -1:불량) 이므로 (0:정상, 1:불량)로 Label 변환\n",
        "    model_pred = np.where(model_pred == 1, 0, model_pred)\n",
        "    model_pred = np.where(model_pred == -1, 1, model_pred)\n",
        "    return model_pred"
      ]
    },
    {
      "cell_type": "code",
      "execution_count": 261,
      "metadata": {
        "id": "iVOMZXRVG-Hv"
      },
      "outputs": [],
      "source": [
        "test_pred = model.predict(preprocessed_test_mean) \n",
        "test_pred = get_pred_label(test_pred)"
      ]
    },
    {
      "cell_type": "markdown",
      "metadata": {
        "id": "xfMAiI8_GyZJ"
      },
      "source": [
        "## Isolate Forest"
      ]
    },
    {
      "cell_type": "markdown",
      "metadata": {
        "id": "deNBtTVQHHC5"
      },
      "source": [
        "### 모델 생성"
      ]
    },
    {
      "cell_type": "code",
      "execution_count": 214,
      "metadata": {
        "id": "cfocUuvAGwTB"
      },
      "outputs": [],
      "source": [
        "model = IsolationForest(n_estimators=200,\n",
        "                        max_samples=256,\n",
        "                        contamination='auto',\n",
        "                        random_state=42,\n",
        "                        verbose=1)"
      ]
    },
    {
      "cell_type": "markdown",
      "metadata": {
        "id": "3bw6M4mtHKX0"
      },
      "source": [
        "### 모델 학습"
      ]
    },
    {
      "cell_type": "code",
      "execution_count": 215,
      "metadata": {
        "colab": {
          "base_uri": "https://localhost:8080/"
        },
        "id": "u4ODKevUHLcL",
        "outputId": "3c0d31e6-7612-47bb-c9fa-3775df380e9d"
      },
      "outputs": [
        {
          "output_type": "stream",
          "name": "stderr",
          "text": [
            "[Parallel(n_jobs=1)]: Using backend SequentialBackend with 1 concurrent workers.\n",
            "[Parallel(n_jobs=1)]: Done   1 out of   1 | elapsed:    0.3s finished\n"
          ]
        },
        {
          "output_type": "execute_result",
          "data": {
            "text/plain": [
              "IsolationForest(max_samples=256, n_estimators=200, random_state=42, verbose=1)"
            ]
          },
          "metadata": {},
          "execution_count": 215
        }
      ],
      "source": [
        "model.fit(preprocessed_train_mean)"
      ]
    },
    {
      "cell_type": "markdown",
      "metadata": {
        "id": "47Qn9HiOHM1W"
      },
      "source": [
        "### 추론"
      ]
    },
    {
      "cell_type": "code",
      "execution_count": 216,
      "metadata": {
        "id": "xyKfabZ6HN0z"
      },
      "outputs": [],
      "source": [
        "def get_pred_label(model_pred):\n",
        "    # IsolationForest 모델 출력 (1:정상, -1:불량) 이므로 (0:정상, 1:불량)로 Label 변환\n",
        "    model_pred = np.where(model_pred == 1, 0, model_pred)\n",
        "    model_pred = np.where(model_pred == -1, 1, model_pred)\n",
        "    return model_pred"
      ]
    },
    {
      "cell_type": "code",
      "execution_count": 217,
      "metadata": {
        "id": "nlWGpuQDHP1M"
      },
      "outputs": [],
      "source": [
        "test_pred = model.predict(preprocessed_test_mean) # model prediction\n",
        "test_pred = get_pred_label(test_pred)"
      ]
    },
    {
      "cell_type": "markdown",
      "metadata": {
        "id": "TP7R1dkwHWgQ"
      },
      "source": [
        "# Submission"
      ]
    },
    {
      "cell_type": "code",
      "execution_count": 262,
      "metadata": {
        "id": "5LMTllVjHR8Q"
      },
      "outputs": [],
      "source": [
        "submit = pd.read_csv('./sample_submission.csv')"
      ]
    },
    {
      "cell_type": "code",
      "execution_count": 263,
      "metadata": {
        "colab": {
          "base_uri": "https://localhost:8080/",
          "height": 206
        },
        "id": "fOAQn-y2HY83",
        "outputId": "6d1bfe51-227f-4ca7-9ae1-1c9898809d8e"
      },
      "outputs": [
        {
          "output_type": "execute_result",
          "data": {
            "text/plain": [
              "   SAMPLE_ID  LABEL\n",
              "0  TEST_0000      0\n",
              "1  TEST_0001      0\n",
              "2  TEST_0002      1\n",
              "3  TEST_0003      1\n",
              "4  TEST_0004      1"
            ],
            "text/html": [
              "\n",
              "  <div id=\"df-c582ec68-a9fa-4c05-a55f-9db0a251da6f\">\n",
              "    <div class=\"colab-df-container\">\n",
              "      <div>\n",
              "<style scoped>\n",
              "    .dataframe tbody tr th:only-of-type {\n",
              "        vertical-align: middle;\n",
              "    }\n",
              "\n",
              "    .dataframe tbody tr th {\n",
              "        vertical-align: top;\n",
              "    }\n",
              "\n",
              "    .dataframe thead th {\n",
              "        text-align: right;\n",
              "    }\n",
              "</style>\n",
              "<table border=\"1\" class=\"dataframe\">\n",
              "  <thead>\n",
              "    <tr style=\"text-align: right;\">\n",
              "      <th></th>\n",
              "      <th>SAMPLE_ID</th>\n",
              "      <th>LABEL</th>\n",
              "    </tr>\n",
              "  </thead>\n",
              "  <tbody>\n",
              "    <tr>\n",
              "      <th>0</th>\n",
              "      <td>TEST_0000</td>\n",
              "      <td>0</td>\n",
              "    </tr>\n",
              "    <tr>\n",
              "      <th>1</th>\n",
              "      <td>TEST_0001</td>\n",
              "      <td>0</td>\n",
              "    </tr>\n",
              "    <tr>\n",
              "      <th>2</th>\n",
              "      <td>TEST_0002</td>\n",
              "      <td>1</td>\n",
              "    </tr>\n",
              "    <tr>\n",
              "      <th>3</th>\n",
              "      <td>TEST_0003</td>\n",
              "      <td>1</td>\n",
              "    </tr>\n",
              "    <tr>\n",
              "      <th>4</th>\n",
              "      <td>TEST_0004</td>\n",
              "      <td>1</td>\n",
              "    </tr>\n",
              "  </tbody>\n",
              "</table>\n",
              "</div>\n",
              "      <button class=\"colab-df-convert\" onclick=\"convertToInteractive('df-c582ec68-a9fa-4c05-a55f-9db0a251da6f')\"\n",
              "              title=\"Convert this dataframe to an interactive table.\"\n",
              "              style=\"display:none;\">\n",
              "        \n",
              "  <svg xmlns=\"http://www.w3.org/2000/svg\" height=\"24px\"viewBox=\"0 0 24 24\"\n",
              "       width=\"24px\">\n",
              "    <path d=\"M0 0h24v24H0V0z\" fill=\"none\"/>\n",
              "    <path d=\"M18.56 5.44l.94 2.06.94-2.06 2.06-.94-2.06-.94-.94-2.06-.94 2.06-2.06.94zm-11 1L8.5 8.5l.94-2.06 2.06-.94-2.06-.94L8.5 2.5l-.94 2.06-2.06.94zm10 10l.94 2.06.94-2.06 2.06-.94-2.06-.94-.94-2.06-.94 2.06-2.06.94z\"/><path d=\"M17.41 7.96l-1.37-1.37c-.4-.4-.92-.59-1.43-.59-.52 0-1.04.2-1.43.59L10.3 9.45l-7.72 7.72c-.78.78-.78 2.05 0 2.83L4 21.41c.39.39.9.59 1.41.59.51 0 1.02-.2 1.41-.59l7.78-7.78 2.81-2.81c.8-.78.8-2.07 0-2.86zM5.41 20L4 18.59l7.72-7.72 1.47 1.35L5.41 20z\"/>\n",
              "  </svg>\n",
              "      </button>\n",
              "      \n",
              "  <style>\n",
              "    .colab-df-container {\n",
              "      display:flex;\n",
              "      flex-wrap:wrap;\n",
              "      gap: 12px;\n",
              "    }\n",
              "\n",
              "    .colab-df-convert {\n",
              "      background-color: #E8F0FE;\n",
              "      border: none;\n",
              "      border-radius: 50%;\n",
              "      cursor: pointer;\n",
              "      display: none;\n",
              "      fill: #1967D2;\n",
              "      height: 32px;\n",
              "      padding: 0 0 0 0;\n",
              "      width: 32px;\n",
              "    }\n",
              "\n",
              "    .colab-df-convert:hover {\n",
              "      background-color: #E2EBFA;\n",
              "      box-shadow: 0px 1px 2px rgba(60, 64, 67, 0.3), 0px 1px 3px 1px rgba(60, 64, 67, 0.15);\n",
              "      fill: #174EA6;\n",
              "    }\n",
              "\n",
              "    [theme=dark] .colab-df-convert {\n",
              "      background-color: #3B4455;\n",
              "      fill: #D2E3FC;\n",
              "    }\n",
              "\n",
              "    [theme=dark] .colab-df-convert:hover {\n",
              "      background-color: #434B5C;\n",
              "      box-shadow: 0px 1px 3px 1px rgba(0, 0, 0, 0.15);\n",
              "      filter: drop-shadow(0px 1px 2px rgba(0, 0, 0, 0.3));\n",
              "      fill: #FFFFFF;\n",
              "    }\n",
              "  </style>\n",
              "\n",
              "      <script>\n",
              "        const buttonEl =\n",
              "          document.querySelector('#df-c582ec68-a9fa-4c05-a55f-9db0a251da6f button.colab-df-convert');\n",
              "        buttonEl.style.display =\n",
              "          google.colab.kernel.accessAllowed ? 'block' : 'none';\n",
              "\n",
              "        async function convertToInteractive(key) {\n",
              "          const element = document.querySelector('#df-c582ec68-a9fa-4c05-a55f-9db0a251da6f');\n",
              "          const dataTable =\n",
              "            await google.colab.kernel.invokeFunction('convertToInteractive',\n",
              "                                                     [key], {});\n",
              "          if (!dataTable) return;\n",
              "\n",
              "          const docLinkHtml = 'Like what you see? Visit the ' +\n",
              "            '<a target=\"_blank\" href=https://colab.research.google.com/notebooks/data_table.ipynb>data table notebook</a>'\n",
              "            + ' to learn more about interactive tables.';\n",
              "          element.innerHTML = '';\n",
              "          dataTable['output_type'] = 'display_data';\n",
              "          await google.colab.output.renderOutput(dataTable, element);\n",
              "          const docLink = document.createElement('div');\n",
              "          docLink.innerHTML = docLinkHtml;\n",
              "          element.appendChild(docLink);\n",
              "        }\n",
              "      </script>\n",
              "    </div>\n",
              "  </div>\n",
              "  "
            ]
          },
          "metadata": {},
          "execution_count": 263
        }
      ],
      "source": [
        "submit['LABEL'] = test_pred\n",
        "submit.head()"
      ]
    },
    {
      "cell_type": "code",
      "execution_count": 264,
      "metadata": {
        "colab": {
          "base_uri": "https://localhost:8080/"
        },
        "id": "tAeE1D1cHaBK",
        "outputId": "06ef6720-de3e-4c25-e1a0-ea3f84471ba1"
      },
      "outputs": [
        {
          "output_type": "execute_result",
          "data": {
            "text/plain": [
              "1    812\n",
              "0    702\n",
              "Name: LABEL, dtype: int64"
            ]
          },
          "metadata": {},
          "execution_count": 264
        }
      ],
      "source": [
        "submit['LABEL'].value_counts()"
      ]
    },
    {
      "cell_type": "code",
      "execution_count": 265,
      "metadata": {
        "id": "G5emAUXsHbW1"
      },
      "outputs": [],
      "source": [
        "submit.to_csv('./submit109.csv', index=False)"
      ]
    },
    {
      "cell_type": "code",
      "execution_count": null,
      "metadata": {
        "id": "OqHcueSRyOl2"
      },
      "outputs": [],
      "source": []
    }
  ],
  "metadata": {
    "colab": {
      "collapsed_sections": [
        "GE3zFrGj433-",
        "cDOCeCTv69Dq",
        "HurrnpP45FWl",
        "2gF-LWUr5g_Z",
        "RIhsvAE37bMI",
        "kuyZeuSW7qD1",
        "cumM3RXKApPu",
        "vQDMBfpOAx6z",
        "jAg_yfv8CRc4",
        "HNzI4ijzCuXc",
        "-CxGS19iCwMo",
        "hzDnjpjKFWQd",
        "xfMAiI8_GyZJ"
      ],
      "provenance": []
    },
    "kernelspec": {
      "display_name": "Python 3",
      "name": "python3"
    },
    "language_info": {
      "name": "python"
    },
    "widgets": {
      "application/vnd.jupyter.widget-state+json": {
        "017abb94879b47568a0227f227a38dd1": {
          "model_module": "@jupyter-widgets/controls",
          "model_module_version": "1.5.0",
          "model_name": "HTMLModel",
          "state": {
            "_dom_classes": [],
            "_model_module": "@jupyter-widgets/controls",
            "_model_module_version": "1.5.0",
            "_model_name": "HTMLModel",
            "_view_count": null,
            "_view_module": "@jupyter-widgets/controls",
            "_view_module_version": "1.5.0",
            "_view_name": "HTMLView",
            "description": "",
            "description_tooltip": null,
            "layout": "IPY_MODEL_179ebf636ffe466fb73f463d8538c700",
            "placeholder": "​",
            "style": "IPY_MODEL_f78bff42d21f426bbbf0cb304c611061",
            "value": "100%"
          }
        },
        "179ebf636ffe466fb73f463d8538c700": {
          "model_module": "@jupyter-widgets/base",
          "model_module_version": "1.2.0",
          "model_name": "LayoutModel",
          "state": {
            "_model_module": "@jupyter-widgets/base",
            "_model_module_version": "1.2.0",
            "_model_name": "LayoutModel",
            "_view_count": null,
            "_view_module": "@jupyter-widgets/base",
            "_view_module_version": "1.2.0",
            "_view_name": "LayoutView",
            "align_content": null,
            "align_items": null,
            "align_self": null,
            "border": null,
            "bottom": null,
            "display": null,
            "flex": null,
            "flex_flow": null,
            "grid_area": null,
            "grid_auto_columns": null,
            "grid_auto_flow": null,
            "grid_auto_rows": null,
            "grid_column": null,
            "grid_gap": null,
            "grid_row": null,
            "grid_template_areas": null,
            "grid_template_columns": null,
            "grid_template_rows": null,
            "height": null,
            "justify_content": null,
            "justify_items": null,
            "left": null,
            "margin": null,
            "max_height": null,
            "max_width": null,
            "min_height": null,
            "min_width": null,
            "object_fit": null,
            "object_position": null,
            "order": null,
            "overflow": null,
            "overflow_x": null,
            "overflow_y": null,
            "padding": null,
            "right": null,
            "top": null,
            "visibility": null,
            "width": null
          }
        },
        "320f68af672543318e1f7365878dc1a5": {
          "model_module": "@jupyter-widgets/controls",
          "model_module_version": "1.5.0",
          "model_name": "ProgressStyleModel",
          "state": {
            "_model_module": "@jupyter-widgets/controls",
            "_model_module_version": "1.5.0",
            "_model_name": "ProgressStyleModel",
            "_view_count": null,
            "_view_module": "@jupyter-widgets/base",
            "_view_module_version": "1.2.0",
            "_view_name": "StyleView",
            "bar_color": null,
            "description_width": ""
          }
        },
        "3254ee9fe7e94d12808f15cf07b21118": {
          "model_module": "@jupyter-widgets/base",
          "model_module_version": "1.2.0",
          "model_name": "LayoutModel",
          "state": {
            "_model_module": "@jupyter-widgets/base",
            "_model_module_version": "1.2.0",
            "_model_name": "LayoutModel",
            "_view_count": null,
            "_view_module": "@jupyter-widgets/base",
            "_view_module_version": "1.2.0",
            "_view_name": "LayoutView",
            "align_content": null,
            "align_items": null,
            "align_self": null,
            "border": null,
            "bottom": null,
            "display": null,
            "flex": null,
            "flex_flow": null,
            "grid_area": null,
            "grid_auto_columns": null,
            "grid_auto_flow": null,
            "grid_auto_rows": null,
            "grid_column": null,
            "grid_gap": null,
            "grid_row": null,
            "grid_template_areas": null,
            "grid_template_columns": null,
            "grid_template_rows": null,
            "height": null,
            "justify_content": null,
            "justify_items": null,
            "left": null,
            "margin": null,
            "max_height": null,
            "max_width": null,
            "min_height": null,
            "min_width": null,
            "object_fit": null,
            "object_position": null,
            "order": null,
            "overflow": null,
            "overflow_x": null,
            "overflow_y": null,
            "padding": null,
            "right": null,
            "top": null,
            "visibility": null,
            "width": null
          }
        },
        "493d1a943b634e16b89c8775fee25d6d": {
          "model_module": "@jupyter-widgets/base",
          "model_module_version": "1.2.0",
          "model_name": "LayoutModel",
          "state": {
            "_model_module": "@jupyter-widgets/base",
            "_model_module_version": "1.2.0",
            "_model_name": "LayoutModel",
            "_view_count": null,
            "_view_module": "@jupyter-widgets/base",
            "_view_module_version": "1.2.0",
            "_view_name": "LayoutView",
            "align_content": null,
            "align_items": null,
            "align_self": null,
            "border": null,
            "bottom": null,
            "display": null,
            "flex": null,
            "flex_flow": null,
            "grid_area": null,
            "grid_auto_columns": null,
            "grid_auto_flow": null,
            "grid_auto_rows": null,
            "grid_column": null,
            "grid_gap": null,
            "grid_row": null,
            "grid_template_areas": null,
            "grid_template_columns": null,
            "grid_template_rows": null,
            "height": null,
            "justify_content": null,
            "justify_items": null,
            "left": null,
            "margin": null,
            "max_height": null,
            "max_width": null,
            "min_height": null,
            "min_width": null,
            "object_fit": null,
            "object_position": null,
            "order": null,
            "overflow": null,
            "overflow_x": null,
            "overflow_y": null,
            "padding": null,
            "right": null,
            "top": null,
            "visibility": null,
            "width": null
          }
        },
        "49f47f817bae46c9a556dbb93b85275b": {
          "model_module": "@jupyter-widgets/controls",
          "model_module_version": "1.5.0",
          "model_name": "HTMLModel",
          "state": {
            "_dom_classes": [],
            "_model_module": "@jupyter-widgets/controls",
            "_model_module_version": "1.5.0",
            "_model_name": "HTMLModel",
            "_view_count": null,
            "_view_module": "@jupyter-widgets/controls",
            "_view_module_version": "1.5.0",
            "_view_name": "HTMLView",
            "description": "",
            "description_tooltip": null,
            "layout": "IPY_MODEL_fae9f12e80fd48b08bca579869cfcc83",
            "placeholder": "​",
            "style": "IPY_MODEL_4fd1b892a23f4ae382d8109017c3bfbb",
            "value": "  4%"
          }
        },
        "4fd1b892a23f4ae382d8109017c3bfbb": {
          "model_module": "@jupyter-widgets/controls",
          "model_module_version": "1.5.0",
          "model_name": "DescriptionStyleModel",
          "state": {
            "_model_module": "@jupyter-widgets/controls",
            "_model_module_version": "1.5.0",
            "_model_name": "DescriptionStyleModel",
            "_view_count": null,
            "_view_module": "@jupyter-widgets/base",
            "_view_module_version": "1.2.0",
            "_view_name": "StyleView",
            "description_width": ""
          }
        },
        "63b6668f07b54eec9af9c5f7bb2082d2": {
          "model_module": "@jupyter-widgets/controls",
          "model_module_version": "1.5.0",
          "model_name": "HTMLModel",
          "state": {
            "_dom_classes": [],
            "_model_module": "@jupyter-widgets/controls",
            "_model_module_version": "1.5.0",
            "_model_name": "HTMLModel",
            "_view_count": null,
            "_view_module": "@jupyter-widgets/controls",
            "_view_module_version": "1.5.0",
            "_view_name": "HTMLView",
            "description": "",
            "description_tooltip": null,
            "layout": "IPY_MODEL_b826d2412a0b4b56a7f0b1b57f3b3d17",
            "placeholder": "​",
            "style": "IPY_MODEL_ad2c6e3e240e4d2e889ad1d451f64762",
            "value": " 53/1514 [00:07&lt;01:51, 13.08it/s]"
          }
        },
        "67674107e6ee417698364e02081dfae1": {
          "model_module": "@jupyter-widgets/base",
          "model_module_version": "1.2.0",
          "model_name": "LayoutModel",
          "state": {
            "_model_module": "@jupyter-widgets/base",
            "_model_module_version": "1.2.0",
            "_model_name": "LayoutModel",
            "_view_count": null,
            "_view_module": "@jupyter-widgets/base",
            "_view_module_version": "1.2.0",
            "_view_name": "LayoutView",
            "align_content": null,
            "align_items": null,
            "align_self": null,
            "border": null,
            "bottom": null,
            "display": null,
            "flex": null,
            "flex_flow": null,
            "grid_area": null,
            "grid_auto_columns": null,
            "grid_auto_flow": null,
            "grid_auto_rows": null,
            "grid_column": null,
            "grid_gap": null,
            "grid_row": null,
            "grid_template_areas": null,
            "grid_template_columns": null,
            "grid_template_rows": null,
            "height": null,
            "justify_content": null,
            "justify_items": null,
            "left": null,
            "margin": null,
            "max_height": null,
            "max_width": null,
            "min_height": null,
            "min_width": null,
            "object_fit": null,
            "object_position": null,
            "order": null,
            "overflow": null,
            "overflow_x": null,
            "overflow_y": null,
            "padding": null,
            "right": null,
            "top": null,
            "visibility": null,
            "width": null
          }
        },
        "687e8432071a4321b9d9db836063313f": {
          "model_module": "@jupyter-widgets/controls",
          "model_module_version": "1.5.0",
          "model_name": "FloatProgressModel",
          "state": {
            "_dom_classes": [],
            "_model_module": "@jupyter-widgets/controls",
            "_model_module_version": "1.5.0",
            "_model_name": "FloatProgressModel",
            "_view_count": null,
            "_view_module": "@jupyter-widgets/controls",
            "_view_module_version": "1.5.0",
            "_view_name": "ProgressView",
            "bar_style": "",
            "description": "",
            "description_tooltip": null,
            "layout": "IPY_MODEL_7aa901fa25f647c69227d9ddf470d7d3",
            "max": 1514,
            "min": 0,
            "orientation": "horizontal",
            "style": "IPY_MODEL_b5000fe9b11d431d89c238ed8c7f893f",
            "value": 53
          }
        },
        "6c8d96a61b7e44238aa535cf0e3bb85c": {
          "model_module": "@jupyter-widgets/controls",
          "model_module_version": "1.5.0",
          "model_name": "HBoxModel",
          "state": {
            "_dom_classes": [],
            "_model_module": "@jupyter-widgets/controls",
            "_model_module_version": "1.5.0",
            "_model_name": "HBoxModel",
            "_view_count": null,
            "_view_module": "@jupyter-widgets/controls",
            "_view_module_version": "1.5.0",
            "_view_name": "HBoxView",
            "box_style": "",
            "children": [
              "IPY_MODEL_017abb94879b47568a0227f227a38dd1",
              "IPY_MODEL_c50c6c1cbc4d4acc964de1e3b07d066b",
              "IPY_MODEL_fc9b88f9cce74b1da1b89faac39af6e1"
            ],
            "layout": "IPY_MODEL_e5b1801c7dc84e70a6f4f30f2255c168"
          }
        },
        "7aa901fa25f647c69227d9ddf470d7d3": {
          "model_module": "@jupyter-widgets/base",
          "model_module_version": "1.2.0",
          "model_name": "LayoutModel",
          "state": {
            "_model_module": "@jupyter-widgets/base",
            "_model_module_version": "1.2.0",
            "_model_name": "LayoutModel",
            "_view_count": null,
            "_view_module": "@jupyter-widgets/base",
            "_view_module_version": "1.2.0",
            "_view_name": "LayoutView",
            "align_content": null,
            "align_items": null,
            "align_self": null,
            "border": null,
            "bottom": null,
            "display": null,
            "flex": null,
            "flex_flow": null,
            "grid_area": null,
            "grid_auto_columns": null,
            "grid_auto_flow": null,
            "grid_auto_rows": null,
            "grid_column": null,
            "grid_gap": null,
            "grid_row": null,
            "grid_template_areas": null,
            "grid_template_columns": null,
            "grid_template_rows": null,
            "height": null,
            "justify_content": null,
            "justify_items": null,
            "left": null,
            "margin": null,
            "max_height": null,
            "max_width": null,
            "min_height": null,
            "min_width": null,
            "object_fit": null,
            "object_position": null,
            "order": null,
            "overflow": null,
            "overflow_x": null,
            "overflow_y": null,
            "padding": null,
            "right": null,
            "top": null,
            "visibility": null,
            "width": null
          }
        },
        "8c0712da565340d1947cf1ecec9007d4": {
          "model_module": "@jupyter-widgets/controls",
          "model_module_version": "1.5.0",
          "model_name": "HBoxModel",
          "state": {
            "_dom_classes": [],
            "_model_module": "@jupyter-widgets/controls",
            "_model_module_version": "1.5.0",
            "_model_name": "HBoxModel",
            "_view_count": null,
            "_view_module": "@jupyter-widgets/controls",
            "_view_module_version": "1.5.0",
            "_view_name": "HBoxView",
            "box_style": "",
            "children": [
              "IPY_MODEL_49f47f817bae46c9a556dbb93b85275b",
              "IPY_MODEL_687e8432071a4321b9d9db836063313f",
              "IPY_MODEL_63b6668f07b54eec9af9c5f7bb2082d2"
            ],
            "layout": "IPY_MODEL_493d1a943b634e16b89c8775fee25d6d"
          }
        },
        "ad2c6e3e240e4d2e889ad1d451f64762": {
          "model_module": "@jupyter-widgets/controls",
          "model_module_version": "1.5.0",
          "model_name": "DescriptionStyleModel",
          "state": {
            "_model_module": "@jupyter-widgets/controls",
            "_model_module_version": "1.5.0",
            "_model_name": "DescriptionStyleModel",
            "_view_count": null,
            "_view_module": "@jupyter-widgets/base",
            "_view_module_version": "1.2.0",
            "_view_name": "StyleView",
            "description_width": ""
          }
        },
        "b5000fe9b11d431d89c238ed8c7f893f": {
          "model_module": "@jupyter-widgets/controls",
          "model_module_version": "1.5.0",
          "model_name": "ProgressStyleModel",
          "state": {
            "_model_module": "@jupyter-widgets/controls",
            "_model_module_version": "1.5.0",
            "_model_name": "ProgressStyleModel",
            "_view_count": null,
            "_view_module": "@jupyter-widgets/base",
            "_view_module_version": "1.2.0",
            "_view_name": "StyleView",
            "bar_color": null,
            "description_width": ""
          }
        },
        "b826d2412a0b4b56a7f0b1b57f3b3d17": {
          "model_module": "@jupyter-widgets/base",
          "model_module_version": "1.2.0",
          "model_name": "LayoutModel",
          "state": {
            "_model_module": "@jupyter-widgets/base",
            "_model_module_version": "1.2.0",
            "_model_name": "LayoutModel",
            "_view_count": null,
            "_view_module": "@jupyter-widgets/base",
            "_view_module_version": "1.2.0",
            "_view_name": "LayoutView",
            "align_content": null,
            "align_items": null,
            "align_self": null,
            "border": null,
            "bottom": null,
            "display": null,
            "flex": null,
            "flex_flow": null,
            "grid_area": null,
            "grid_auto_columns": null,
            "grid_auto_flow": null,
            "grid_auto_rows": null,
            "grid_column": null,
            "grid_gap": null,
            "grid_row": null,
            "grid_template_areas": null,
            "grid_template_columns": null,
            "grid_template_rows": null,
            "height": null,
            "justify_content": null,
            "justify_items": null,
            "left": null,
            "margin": null,
            "max_height": null,
            "max_width": null,
            "min_height": null,
            "min_width": null,
            "object_fit": null,
            "object_position": null,
            "order": null,
            "overflow": null,
            "overflow_x": null,
            "overflow_y": null,
            "padding": null,
            "right": null,
            "top": null,
            "visibility": null,
            "width": null
          }
        },
        "c50c6c1cbc4d4acc964de1e3b07d066b": {
          "model_module": "@jupyter-widgets/controls",
          "model_module_version": "1.5.0",
          "model_name": "FloatProgressModel",
          "state": {
            "_dom_classes": [],
            "_model_module": "@jupyter-widgets/controls",
            "_model_module_version": "1.5.0",
            "_model_name": "FloatProgressModel",
            "_view_count": null,
            "_view_module": "@jupyter-widgets/controls",
            "_view_module_version": "1.5.0",
            "_view_name": "ProgressView",
            "bar_style": "success",
            "description": "",
            "description_tooltip": null,
            "layout": "IPY_MODEL_67674107e6ee417698364e02081dfae1",
            "max": 1279,
            "min": 0,
            "orientation": "horizontal",
            "style": "IPY_MODEL_320f68af672543318e1f7365878dc1a5",
            "value": 1279
          }
        },
        "e23582c02df843a7b3e198049c41c110": {
          "model_module": "@jupyter-widgets/controls",
          "model_module_version": "1.5.0",
          "model_name": "DescriptionStyleModel",
          "state": {
            "_model_module": "@jupyter-widgets/controls",
            "_model_module_version": "1.5.0",
            "_model_name": "DescriptionStyleModel",
            "_view_count": null,
            "_view_module": "@jupyter-widgets/base",
            "_view_module_version": "1.2.0",
            "_view_name": "StyleView",
            "description_width": ""
          }
        },
        "e5b1801c7dc84e70a6f4f30f2255c168": {
          "model_module": "@jupyter-widgets/base",
          "model_module_version": "1.2.0",
          "model_name": "LayoutModel",
          "state": {
            "_model_module": "@jupyter-widgets/base",
            "_model_module_version": "1.2.0",
            "_model_name": "LayoutModel",
            "_view_count": null,
            "_view_module": "@jupyter-widgets/base",
            "_view_module_version": "1.2.0",
            "_view_name": "LayoutView",
            "align_content": null,
            "align_items": null,
            "align_self": null,
            "border": null,
            "bottom": null,
            "display": null,
            "flex": null,
            "flex_flow": null,
            "grid_area": null,
            "grid_auto_columns": null,
            "grid_auto_flow": null,
            "grid_auto_rows": null,
            "grid_column": null,
            "grid_gap": null,
            "grid_row": null,
            "grid_template_areas": null,
            "grid_template_columns": null,
            "grid_template_rows": null,
            "height": null,
            "justify_content": null,
            "justify_items": null,
            "left": null,
            "margin": null,
            "max_height": null,
            "max_width": null,
            "min_height": null,
            "min_width": null,
            "object_fit": null,
            "object_position": null,
            "order": null,
            "overflow": null,
            "overflow_x": null,
            "overflow_y": null,
            "padding": null,
            "right": null,
            "top": null,
            "visibility": null,
            "width": null
          }
        },
        "f78bff42d21f426bbbf0cb304c611061": {
          "model_module": "@jupyter-widgets/controls",
          "model_module_version": "1.5.0",
          "model_name": "DescriptionStyleModel",
          "state": {
            "_model_module": "@jupyter-widgets/controls",
            "_model_module_version": "1.5.0",
            "_model_name": "DescriptionStyleModel",
            "_view_count": null,
            "_view_module": "@jupyter-widgets/base",
            "_view_module_version": "1.2.0",
            "_view_name": "StyleView",
            "description_width": ""
          }
        },
        "fae9f12e80fd48b08bca579869cfcc83": {
          "model_module": "@jupyter-widgets/base",
          "model_module_version": "1.2.0",
          "model_name": "LayoutModel",
          "state": {
            "_model_module": "@jupyter-widgets/base",
            "_model_module_version": "1.2.0",
            "_model_name": "LayoutModel",
            "_view_count": null,
            "_view_module": "@jupyter-widgets/base",
            "_view_module_version": "1.2.0",
            "_view_name": "LayoutView",
            "align_content": null,
            "align_items": null,
            "align_self": null,
            "border": null,
            "bottom": null,
            "display": null,
            "flex": null,
            "flex_flow": null,
            "grid_area": null,
            "grid_auto_columns": null,
            "grid_auto_flow": null,
            "grid_auto_rows": null,
            "grid_column": null,
            "grid_gap": null,
            "grid_row": null,
            "grid_template_areas": null,
            "grid_template_columns": null,
            "grid_template_rows": null,
            "height": null,
            "justify_content": null,
            "justify_items": null,
            "left": null,
            "margin": null,
            "max_height": null,
            "max_width": null,
            "min_height": null,
            "min_width": null,
            "object_fit": null,
            "object_position": null,
            "order": null,
            "overflow": null,
            "overflow_x": null,
            "overflow_y": null,
            "padding": null,
            "right": null,
            "top": null,
            "visibility": null,
            "width": null
          }
        },
        "fc9b88f9cce74b1da1b89faac39af6e1": {
          "model_module": "@jupyter-widgets/controls",
          "model_module_version": "1.5.0",
          "model_name": "HTMLModel",
          "state": {
            "_dom_classes": [],
            "_model_module": "@jupyter-widgets/controls",
            "_model_module_version": "1.5.0",
            "_model_name": "HTMLModel",
            "_view_count": null,
            "_view_module": "@jupyter-widgets/controls",
            "_view_module_version": "1.5.0",
            "_view_name": "HTMLView",
            "description": "",
            "description_tooltip": null,
            "layout": "IPY_MODEL_3254ee9fe7e94d12808f15cf07b21118",
            "placeholder": "​",
            "style": "IPY_MODEL_e23582c02df843a7b3e198049c41c110",
            "value": " 1279/1279 [01:24&lt;00:00,  5.83it/s]"
          }
        },
        "7eab64befb1e4ade892104fe5131eda9": {
          "model_module": "@jupyter-widgets/controls",
          "model_name": "HBoxModel",
          "model_module_version": "1.5.0",
          "state": {
            "_dom_classes": [],
            "_model_module": "@jupyter-widgets/controls",
            "_model_module_version": "1.5.0",
            "_model_name": "HBoxModel",
            "_view_count": null,
            "_view_module": "@jupyter-widgets/controls",
            "_view_module_version": "1.5.0",
            "_view_name": "HBoxView",
            "box_style": "",
            "children": [
              "IPY_MODEL_c8e533910b14453dba76a7b1a8397b9e",
              "IPY_MODEL_acb39240359d4aaf930bdd5f721fdbc5",
              "IPY_MODEL_199d7fcc12f44997922ed6954cad3f3c"
            ],
            "layout": "IPY_MODEL_ca8953ec6f664388a70c2ac53acd7dee"
          }
        },
        "c8e533910b14453dba76a7b1a8397b9e": {
          "model_module": "@jupyter-widgets/controls",
          "model_name": "HTMLModel",
          "model_module_version": "1.5.0",
          "state": {
            "_dom_classes": [],
            "_model_module": "@jupyter-widgets/controls",
            "_model_module_version": "1.5.0",
            "_model_name": "HTMLModel",
            "_view_count": null,
            "_view_module": "@jupyter-widgets/controls",
            "_view_module_version": "1.5.0",
            "_view_name": "HTMLView",
            "description": "",
            "description_tooltip": null,
            "layout": "IPY_MODEL_0884018d17bd4016b49c63565293b8c3",
            "placeholder": "​",
            "style": "IPY_MODEL_68802ce3ab064217b8b3833d34eaac6f",
            "value": "100%"
          }
        },
        "acb39240359d4aaf930bdd5f721fdbc5": {
          "model_module": "@jupyter-widgets/controls",
          "model_name": "FloatProgressModel",
          "model_module_version": "1.5.0",
          "state": {
            "_dom_classes": [],
            "_model_module": "@jupyter-widgets/controls",
            "_model_module_version": "1.5.0",
            "_model_name": "FloatProgressModel",
            "_view_count": null,
            "_view_module": "@jupyter-widgets/controls",
            "_view_module_version": "1.5.0",
            "_view_name": "ProgressView",
            "bar_style": "success",
            "description": "",
            "description_tooltip": null,
            "layout": "IPY_MODEL_5afd50aa3b30475abbdec06c39690625",
            "max": 1279,
            "min": 0,
            "orientation": "horizontal",
            "style": "IPY_MODEL_0afb390821fa423d9d779878d72be452",
            "value": 1279
          }
        },
        "199d7fcc12f44997922ed6954cad3f3c": {
          "model_module": "@jupyter-widgets/controls",
          "model_name": "HTMLModel",
          "model_module_version": "1.5.0",
          "state": {
            "_dom_classes": [],
            "_model_module": "@jupyter-widgets/controls",
            "_model_module_version": "1.5.0",
            "_model_name": "HTMLModel",
            "_view_count": null,
            "_view_module": "@jupyter-widgets/controls",
            "_view_module_version": "1.5.0",
            "_view_name": "HTMLView",
            "description": "",
            "description_tooltip": null,
            "layout": "IPY_MODEL_5387be6d672f4e5f88fddb097a6cd842",
            "placeholder": "​",
            "style": "IPY_MODEL_82dd4e847a44403ca6b0b131265dd64e",
            "value": " 1279/1279 [00:58&lt;00:00, 31.58it/s]"
          }
        },
        "ca8953ec6f664388a70c2ac53acd7dee": {
          "model_module": "@jupyter-widgets/base",
          "model_name": "LayoutModel",
          "model_module_version": "1.2.0",
          "state": {
            "_model_module": "@jupyter-widgets/base",
            "_model_module_version": "1.2.0",
            "_model_name": "LayoutModel",
            "_view_count": null,
            "_view_module": "@jupyter-widgets/base",
            "_view_module_version": "1.2.0",
            "_view_name": "LayoutView",
            "align_content": null,
            "align_items": null,
            "align_self": null,
            "border": null,
            "bottom": null,
            "display": null,
            "flex": null,
            "flex_flow": null,
            "grid_area": null,
            "grid_auto_columns": null,
            "grid_auto_flow": null,
            "grid_auto_rows": null,
            "grid_column": null,
            "grid_gap": null,
            "grid_row": null,
            "grid_template_areas": null,
            "grid_template_columns": null,
            "grid_template_rows": null,
            "height": null,
            "justify_content": null,
            "justify_items": null,
            "left": null,
            "margin": null,
            "max_height": null,
            "max_width": null,
            "min_height": null,
            "min_width": null,
            "object_fit": null,
            "object_position": null,
            "order": null,
            "overflow": null,
            "overflow_x": null,
            "overflow_y": null,
            "padding": null,
            "right": null,
            "top": null,
            "visibility": null,
            "width": null
          }
        },
        "0884018d17bd4016b49c63565293b8c3": {
          "model_module": "@jupyter-widgets/base",
          "model_name": "LayoutModel",
          "model_module_version": "1.2.0",
          "state": {
            "_model_module": "@jupyter-widgets/base",
            "_model_module_version": "1.2.0",
            "_model_name": "LayoutModel",
            "_view_count": null,
            "_view_module": "@jupyter-widgets/base",
            "_view_module_version": "1.2.0",
            "_view_name": "LayoutView",
            "align_content": null,
            "align_items": null,
            "align_self": null,
            "border": null,
            "bottom": null,
            "display": null,
            "flex": null,
            "flex_flow": null,
            "grid_area": null,
            "grid_auto_columns": null,
            "grid_auto_flow": null,
            "grid_auto_rows": null,
            "grid_column": null,
            "grid_gap": null,
            "grid_row": null,
            "grid_template_areas": null,
            "grid_template_columns": null,
            "grid_template_rows": null,
            "height": null,
            "justify_content": null,
            "justify_items": null,
            "left": null,
            "margin": null,
            "max_height": null,
            "max_width": null,
            "min_height": null,
            "min_width": null,
            "object_fit": null,
            "object_position": null,
            "order": null,
            "overflow": null,
            "overflow_x": null,
            "overflow_y": null,
            "padding": null,
            "right": null,
            "top": null,
            "visibility": null,
            "width": null
          }
        },
        "68802ce3ab064217b8b3833d34eaac6f": {
          "model_module": "@jupyter-widgets/controls",
          "model_name": "DescriptionStyleModel",
          "model_module_version": "1.5.0",
          "state": {
            "_model_module": "@jupyter-widgets/controls",
            "_model_module_version": "1.5.0",
            "_model_name": "DescriptionStyleModel",
            "_view_count": null,
            "_view_module": "@jupyter-widgets/base",
            "_view_module_version": "1.2.0",
            "_view_name": "StyleView",
            "description_width": ""
          }
        },
        "5afd50aa3b30475abbdec06c39690625": {
          "model_module": "@jupyter-widgets/base",
          "model_name": "LayoutModel",
          "model_module_version": "1.2.0",
          "state": {
            "_model_module": "@jupyter-widgets/base",
            "_model_module_version": "1.2.0",
            "_model_name": "LayoutModel",
            "_view_count": null,
            "_view_module": "@jupyter-widgets/base",
            "_view_module_version": "1.2.0",
            "_view_name": "LayoutView",
            "align_content": null,
            "align_items": null,
            "align_self": null,
            "border": null,
            "bottom": null,
            "display": null,
            "flex": null,
            "flex_flow": null,
            "grid_area": null,
            "grid_auto_columns": null,
            "grid_auto_flow": null,
            "grid_auto_rows": null,
            "grid_column": null,
            "grid_gap": null,
            "grid_row": null,
            "grid_template_areas": null,
            "grid_template_columns": null,
            "grid_template_rows": null,
            "height": null,
            "justify_content": null,
            "justify_items": null,
            "left": null,
            "margin": null,
            "max_height": null,
            "max_width": null,
            "min_height": null,
            "min_width": null,
            "object_fit": null,
            "object_position": null,
            "order": null,
            "overflow": null,
            "overflow_x": null,
            "overflow_y": null,
            "padding": null,
            "right": null,
            "top": null,
            "visibility": null,
            "width": null
          }
        },
        "0afb390821fa423d9d779878d72be452": {
          "model_module": "@jupyter-widgets/controls",
          "model_name": "ProgressStyleModel",
          "model_module_version": "1.5.0",
          "state": {
            "_model_module": "@jupyter-widgets/controls",
            "_model_module_version": "1.5.0",
            "_model_name": "ProgressStyleModel",
            "_view_count": null,
            "_view_module": "@jupyter-widgets/base",
            "_view_module_version": "1.2.0",
            "_view_name": "StyleView",
            "bar_color": null,
            "description_width": ""
          }
        },
        "5387be6d672f4e5f88fddb097a6cd842": {
          "model_module": "@jupyter-widgets/base",
          "model_name": "LayoutModel",
          "model_module_version": "1.2.0",
          "state": {
            "_model_module": "@jupyter-widgets/base",
            "_model_module_version": "1.2.0",
            "_model_name": "LayoutModel",
            "_view_count": null,
            "_view_module": "@jupyter-widgets/base",
            "_view_module_version": "1.2.0",
            "_view_name": "LayoutView",
            "align_content": null,
            "align_items": null,
            "align_self": null,
            "border": null,
            "bottom": null,
            "display": null,
            "flex": null,
            "flex_flow": null,
            "grid_area": null,
            "grid_auto_columns": null,
            "grid_auto_flow": null,
            "grid_auto_rows": null,
            "grid_column": null,
            "grid_gap": null,
            "grid_row": null,
            "grid_template_areas": null,
            "grid_template_columns": null,
            "grid_template_rows": null,
            "height": null,
            "justify_content": null,
            "justify_items": null,
            "left": null,
            "margin": null,
            "max_height": null,
            "max_width": null,
            "min_height": null,
            "min_width": null,
            "object_fit": null,
            "object_position": null,
            "order": null,
            "overflow": null,
            "overflow_x": null,
            "overflow_y": null,
            "padding": null,
            "right": null,
            "top": null,
            "visibility": null,
            "width": null
          }
        },
        "82dd4e847a44403ca6b0b131265dd64e": {
          "model_module": "@jupyter-widgets/controls",
          "model_name": "DescriptionStyleModel",
          "model_module_version": "1.5.0",
          "state": {
            "_model_module": "@jupyter-widgets/controls",
            "_model_module_version": "1.5.0",
            "_model_name": "DescriptionStyleModel",
            "_view_count": null,
            "_view_module": "@jupyter-widgets/base",
            "_view_module_version": "1.2.0",
            "_view_name": "StyleView",
            "description_width": ""
          }
        },
        "5b284985ce764d04a2360419fa096b2c": {
          "model_module": "@jupyter-widgets/controls",
          "model_name": "HBoxModel",
          "model_module_version": "1.5.0",
          "state": {
            "_dom_classes": [],
            "_model_module": "@jupyter-widgets/controls",
            "_model_module_version": "1.5.0",
            "_model_name": "HBoxModel",
            "_view_count": null,
            "_view_module": "@jupyter-widgets/controls",
            "_view_module_version": "1.5.0",
            "_view_name": "HBoxView",
            "box_style": "",
            "children": [
              "IPY_MODEL_ba454c4d2387495b97bd83be349b7580",
              "IPY_MODEL_6ca059fc847242519973a9b18fcaff1f",
              "IPY_MODEL_8749f65a343e4d8baf7bfacfb5121142"
            ],
            "layout": "IPY_MODEL_bc2cb355000446a298f7b389fb911691"
          }
        },
        "ba454c4d2387495b97bd83be349b7580": {
          "model_module": "@jupyter-widgets/controls",
          "model_name": "HTMLModel",
          "model_module_version": "1.5.0",
          "state": {
            "_dom_classes": [],
            "_model_module": "@jupyter-widgets/controls",
            "_model_module_version": "1.5.0",
            "_model_name": "HTMLModel",
            "_view_count": null,
            "_view_module": "@jupyter-widgets/controls",
            "_view_module_version": "1.5.0",
            "_view_name": "HTMLView",
            "description": "",
            "description_tooltip": null,
            "layout": "IPY_MODEL_005c0532969b4c0dadf854c70da62c39",
            "placeholder": "​",
            "style": "IPY_MODEL_a48f8ac99bee4a9f836e31bfa92b313d",
            "value": "100%"
          }
        },
        "6ca059fc847242519973a9b18fcaff1f": {
          "model_module": "@jupyter-widgets/controls",
          "model_name": "FloatProgressModel",
          "model_module_version": "1.5.0",
          "state": {
            "_dom_classes": [],
            "_model_module": "@jupyter-widgets/controls",
            "_model_module_version": "1.5.0",
            "_model_name": "FloatProgressModel",
            "_view_count": null,
            "_view_module": "@jupyter-widgets/controls",
            "_view_module_version": "1.5.0",
            "_view_name": "ProgressView",
            "bar_style": "success",
            "description": "",
            "description_tooltip": null,
            "layout": "IPY_MODEL_2cd3f39e655841f5af101459dada40e1",
            "max": 1514,
            "min": 0,
            "orientation": "horizontal",
            "style": "IPY_MODEL_a6eac59cf1bf4135b6e99f54e5f30fc5",
            "value": 1514
          }
        },
        "8749f65a343e4d8baf7bfacfb5121142": {
          "model_module": "@jupyter-widgets/controls",
          "model_name": "HTMLModel",
          "model_module_version": "1.5.0",
          "state": {
            "_dom_classes": [],
            "_model_module": "@jupyter-widgets/controls",
            "_model_module_version": "1.5.0",
            "_model_name": "HTMLModel",
            "_view_count": null,
            "_view_module": "@jupyter-widgets/controls",
            "_view_module_version": "1.5.0",
            "_view_name": "HTMLView",
            "description": "",
            "description_tooltip": null,
            "layout": "IPY_MODEL_33ba9e0966094b44a35184f26728af98",
            "placeholder": "​",
            "style": "IPY_MODEL_b6e69e41beb74039920ed871c63e9f1e",
            "value": " 1514/1514 [00:50&lt;00:00, 28.96it/s]"
          }
        },
        "bc2cb355000446a298f7b389fb911691": {
          "model_module": "@jupyter-widgets/base",
          "model_name": "LayoutModel",
          "model_module_version": "1.2.0",
          "state": {
            "_model_module": "@jupyter-widgets/base",
            "_model_module_version": "1.2.0",
            "_model_name": "LayoutModel",
            "_view_count": null,
            "_view_module": "@jupyter-widgets/base",
            "_view_module_version": "1.2.0",
            "_view_name": "LayoutView",
            "align_content": null,
            "align_items": null,
            "align_self": null,
            "border": null,
            "bottom": null,
            "display": null,
            "flex": null,
            "flex_flow": null,
            "grid_area": null,
            "grid_auto_columns": null,
            "grid_auto_flow": null,
            "grid_auto_rows": null,
            "grid_column": null,
            "grid_gap": null,
            "grid_row": null,
            "grid_template_areas": null,
            "grid_template_columns": null,
            "grid_template_rows": null,
            "height": null,
            "justify_content": null,
            "justify_items": null,
            "left": null,
            "margin": null,
            "max_height": null,
            "max_width": null,
            "min_height": null,
            "min_width": null,
            "object_fit": null,
            "object_position": null,
            "order": null,
            "overflow": null,
            "overflow_x": null,
            "overflow_y": null,
            "padding": null,
            "right": null,
            "top": null,
            "visibility": null,
            "width": null
          }
        },
        "005c0532969b4c0dadf854c70da62c39": {
          "model_module": "@jupyter-widgets/base",
          "model_name": "LayoutModel",
          "model_module_version": "1.2.0",
          "state": {
            "_model_module": "@jupyter-widgets/base",
            "_model_module_version": "1.2.0",
            "_model_name": "LayoutModel",
            "_view_count": null,
            "_view_module": "@jupyter-widgets/base",
            "_view_module_version": "1.2.0",
            "_view_name": "LayoutView",
            "align_content": null,
            "align_items": null,
            "align_self": null,
            "border": null,
            "bottom": null,
            "display": null,
            "flex": null,
            "flex_flow": null,
            "grid_area": null,
            "grid_auto_columns": null,
            "grid_auto_flow": null,
            "grid_auto_rows": null,
            "grid_column": null,
            "grid_gap": null,
            "grid_row": null,
            "grid_template_areas": null,
            "grid_template_columns": null,
            "grid_template_rows": null,
            "height": null,
            "justify_content": null,
            "justify_items": null,
            "left": null,
            "margin": null,
            "max_height": null,
            "max_width": null,
            "min_height": null,
            "min_width": null,
            "object_fit": null,
            "object_position": null,
            "order": null,
            "overflow": null,
            "overflow_x": null,
            "overflow_y": null,
            "padding": null,
            "right": null,
            "top": null,
            "visibility": null,
            "width": null
          }
        },
        "a48f8ac99bee4a9f836e31bfa92b313d": {
          "model_module": "@jupyter-widgets/controls",
          "model_name": "DescriptionStyleModel",
          "model_module_version": "1.5.0",
          "state": {
            "_model_module": "@jupyter-widgets/controls",
            "_model_module_version": "1.5.0",
            "_model_name": "DescriptionStyleModel",
            "_view_count": null,
            "_view_module": "@jupyter-widgets/base",
            "_view_module_version": "1.2.0",
            "_view_name": "StyleView",
            "description_width": ""
          }
        },
        "2cd3f39e655841f5af101459dada40e1": {
          "model_module": "@jupyter-widgets/base",
          "model_name": "LayoutModel",
          "model_module_version": "1.2.0",
          "state": {
            "_model_module": "@jupyter-widgets/base",
            "_model_module_version": "1.2.0",
            "_model_name": "LayoutModel",
            "_view_count": null,
            "_view_module": "@jupyter-widgets/base",
            "_view_module_version": "1.2.0",
            "_view_name": "LayoutView",
            "align_content": null,
            "align_items": null,
            "align_self": null,
            "border": null,
            "bottom": null,
            "display": null,
            "flex": null,
            "flex_flow": null,
            "grid_area": null,
            "grid_auto_columns": null,
            "grid_auto_flow": null,
            "grid_auto_rows": null,
            "grid_column": null,
            "grid_gap": null,
            "grid_row": null,
            "grid_template_areas": null,
            "grid_template_columns": null,
            "grid_template_rows": null,
            "height": null,
            "justify_content": null,
            "justify_items": null,
            "left": null,
            "margin": null,
            "max_height": null,
            "max_width": null,
            "min_height": null,
            "min_width": null,
            "object_fit": null,
            "object_position": null,
            "order": null,
            "overflow": null,
            "overflow_x": null,
            "overflow_y": null,
            "padding": null,
            "right": null,
            "top": null,
            "visibility": null,
            "width": null
          }
        },
        "a6eac59cf1bf4135b6e99f54e5f30fc5": {
          "model_module": "@jupyter-widgets/controls",
          "model_name": "ProgressStyleModel",
          "model_module_version": "1.5.0",
          "state": {
            "_model_module": "@jupyter-widgets/controls",
            "_model_module_version": "1.5.0",
            "_model_name": "ProgressStyleModel",
            "_view_count": null,
            "_view_module": "@jupyter-widgets/base",
            "_view_module_version": "1.2.0",
            "_view_name": "StyleView",
            "bar_color": null,
            "description_width": ""
          }
        },
        "33ba9e0966094b44a35184f26728af98": {
          "model_module": "@jupyter-widgets/base",
          "model_name": "LayoutModel",
          "model_module_version": "1.2.0",
          "state": {
            "_model_module": "@jupyter-widgets/base",
            "_model_module_version": "1.2.0",
            "_model_name": "LayoutModel",
            "_view_count": null,
            "_view_module": "@jupyter-widgets/base",
            "_view_module_version": "1.2.0",
            "_view_name": "LayoutView",
            "align_content": null,
            "align_items": null,
            "align_self": null,
            "border": null,
            "bottom": null,
            "display": null,
            "flex": null,
            "flex_flow": null,
            "grid_area": null,
            "grid_auto_columns": null,
            "grid_auto_flow": null,
            "grid_auto_rows": null,
            "grid_column": null,
            "grid_gap": null,
            "grid_row": null,
            "grid_template_areas": null,
            "grid_template_columns": null,
            "grid_template_rows": null,
            "height": null,
            "justify_content": null,
            "justify_items": null,
            "left": null,
            "margin": null,
            "max_height": null,
            "max_width": null,
            "min_height": null,
            "min_width": null,
            "object_fit": null,
            "object_position": null,
            "order": null,
            "overflow": null,
            "overflow_x": null,
            "overflow_y": null,
            "padding": null,
            "right": null,
            "top": null,
            "visibility": null,
            "width": null
          }
        },
        "b6e69e41beb74039920ed871c63e9f1e": {
          "model_module": "@jupyter-widgets/controls",
          "model_name": "DescriptionStyleModel",
          "model_module_version": "1.5.0",
          "state": {
            "_model_module": "@jupyter-widgets/controls",
            "_model_module_version": "1.5.0",
            "_model_name": "DescriptionStyleModel",
            "_view_count": null,
            "_view_module": "@jupyter-widgets/base",
            "_view_module_version": "1.2.0",
            "_view_name": "StyleView",
            "description_width": ""
          }
        },
        "bcda0acd22d144d0a97e61486d435797": {
          "model_module": "@jupyter-widgets/controls",
          "model_name": "HBoxModel",
          "model_module_version": "1.5.0",
          "state": {
            "_dom_classes": [],
            "_model_module": "@jupyter-widgets/controls",
            "_model_module_version": "1.5.0",
            "_model_name": "HBoxModel",
            "_view_count": null,
            "_view_module": "@jupyter-widgets/controls",
            "_view_module_version": "1.5.0",
            "_view_name": "HBoxView",
            "box_style": "",
            "children": [
              "IPY_MODEL_47e3377981794ffda25bf755a7b57e94",
              "IPY_MODEL_d99430c35dea40f49f46401c3830f5c9",
              "IPY_MODEL_6c9dbe22ee714ea086f5dd68d3157145"
            ],
            "layout": "IPY_MODEL_f734e579203f4ae3ba45abc996d94970"
          }
        },
        "47e3377981794ffda25bf755a7b57e94": {
          "model_module": "@jupyter-widgets/controls",
          "model_name": "HTMLModel",
          "model_module_version": "1.5.0",
          "state": {
            "_dom_classes": [],
            "_model_module": "@jupyter-widgets/controls",
            "_model_module_version": "1.5.0",
            "_model_name": "HTMLModel",
            "_view_count": null,
            "_view_module": "@jupyter-widgets/controls",
            "_view_module_version": "1.5.0",
            "_view_name": "HTMLView",
            "description": "",
            "description_tooltip": null,
            "layout": "IPY_MODEL_a5eb727c013f4c1c8dc01eef0a50322c",
            "placeholder": "​",
            "style": "IPY_MODEL_708c2fcd3a2d47d9b96f93e0b9909907",
            "value": "100%"
          }
        },
        "d99430c35dea40f49f46401c3830f5c9": {
          "model_module": "@jupyter-widgets/controls",
          "model_name": "FloatProgressModel",
          "model_module_version": "1.5.0",
          "state": {
            "_dom_classes": [],
            "_model_module": "@jupyter-widgets/controls",
            "_model_module_version": "1.5.0",
            "_model_name": "FloatProgressModel",
            "_view_count": null,
            "_view_module": "@jupyter-widgets/controls",
            "_view_module_version": "1.5.0",
            "_view_name": "ProgressView",
            "bar_style": "success",
            "description": "",
            "description_tooltip": null,
            "layout": "IPY_MODEL_70011e428387498094c5a2fe0d6df551",
            "max": 1279,
            "min": 0,
            "orientation": "horizontal",
            "style": "IPY_MODEL_47e0418147094482ab9b063e6c984cb8",
            "value": 1279
          }
        },
        "6c9dbe22ee714ea086f5dd68d3157145": {
          "model_module": "@jupyter-widgets/controls",
          "model_name": "HTMLModel",
          "model_module_version": "1.5.0",
          "state": {
            "_dom_classes": [],
            "_model_module": "@jupyter-widgets/controls",
            "_model_module_version": "1.5.0",
            "_model_name": "HTMLModel",
            "_view_count": null,
            "_view_module": "@jupyter-widgets/controls",
            "_view_module_version": "1.5.0",
            "_view_name": "HTMLView",
            "description": "",
            "description_tooltip": null,
            "layout": "IPY_MODEL_6a2386d7181e4fdfaa52c2cdc490bb06",
            "placeholder": "​",
            "style": "IPY_MODEL_c889740b37714a509ca945b527294dd9",
            "value": " 1279/1279 [00:38&lt;00:00, 32.45it/s]"
          }
        },
        "f734e579203f4ae3ba45abc996d94970": {
          "model_module": "@jupyter-widgets/base",
          "model_name": "LayoutModel",
          "model_module_version": "1.2.0",
          "state": {
            "_model_module": "@jupyter-widgets/base",
            "_model_module_version": "1.2.0",
            "_model_name": "LayoutModel",
            "_view_count": null,
            "_view_module": "@jupyter-widgets/base",
            "_view_module_version": "1.2.0",
            "_view_name": "LayoutView",
            "align_content": null,
            "align_items": null,
            "align_self": null,
            "border": null,
            "bottom": null,
            "display": null,
            "flex": null,
            "flex_flow": null,
            "grid_area": null,
            "grid_auto_columns": null,
            "grid_auto_flow": null,
            "grid_auto_rows": null,
            "grid_column": null,
            "grid_gap": null,
            "grid_row": null,
            "grid_template_areas": null,
            "grid_template_columns": null,
            "grid_template_rows": null,
            "height": null,
            "justify_content": null,
            "justify_items": null,
            "left": null,
            "margin": null,
            "max_height": null,
            "max_width": null,
            "min_height": null,
            "min_width": null,
            "object_fit": null,
            "object_position": null,
            "order": null,
            "overflow": null,
            "overflow_x": null,
            "overflow_y": null,
            "padding": null,
            "right": null,
            "top": null,
            "visibility": null,
            "width": null
          }
        },
        "a5eb727c013f4c1c8dc01eef0a50322c": {
          "model_module": "@jupyter-widgets/base",
          "model_name": "LayoutModel",
          "model_module_version": "1.2.0",
          "state": {
            "_model_module": "@jupyter-widgets/base",
            "_model_module_version": "1.2.0",
            "_model_name": "LayoutModel",
            "_view_count": null,
            "_view_module": "@jupyter-widgets/base",
            "_view_module_version": "1.2.0",
            "_view_name": "LayoutView",
            "align_content": null,
            "align_items": null,
            "align_self": null,
            "border": null,
            "bottom": null,
            "display": null,
            "flex": null,
            "flex_flow": null,
            "grid_area": null,
            "grid_auto_columns": null,
            "grid_auto_flow": null,
            "grid_auto_rows": null,
            "grid_column": null,
            "grid_gap": null,
            "grid_row": null,
            "grid_template_areas": null,
            "grid_template_columns": null,
            "grid_template_rows": null,
            "height": null,
            "justify_content": null,
            "justify_items": null,
            "left": null,
            "margin": null,
            "max_height": null,
            "max_width": null,
            "min_height": null,
            "min_width": null,
            "object_fit": null,
            "object_position": null,
            "order": null,
            "overflow": null,
            "overflow_x": null,
            "overflow_y": null,
            "padding": null,
            "right": null,
            "top": null,
            "visibility": null,
            "width": null
          }
        },
        "708c2fcd3a2d47d9b96f93e0b9909907": {
          "model_module": "@jupyter-widgets/controls",
          "model_name": "DescriptionStyleModel",
          "model_module_version": "1.5.0",
          "state": {
            "_model_module": "@jupyter-widgets/controls",
            "_model_module_version": "1.5.0",
            "_model_name": "DescriptionStyleModel",
            "_view_count": null,
            "_view_module": "@jupyter-widgets/base",
            "_view_module_version": "1.2.0",
            "_view_name": "StyleView",
            "description_width": ""
          }
        },
        "70011e428387498094c5a2fe0d6df551": {
          "model_module": "@jupyter-widgets/base",
          "model_name": "LayoutModel",
          "model_module_version": "1.2.0",
          "state": {
            "_model_module": "@jupyter-widgets/base",
            "_model_module_version": "1.2.0",
            "_model_name": "LayoutModel",
            "_view_count": null,
            "_view_module": "@jupyter-widgets/base",
            "_view_module_version": "1.2.0",
            "_view_name": "LayoutView",
            "align_content": null,
            "align_items": null,
            "align_self": null,
            "border": null,
            "bottom": null,
            "display": null,
            "flex": null,
            "flex_flow": null,
            "grid_area": null,
            "grid_auto_columns": null,
            "grid_auto_flow": null,
            "grid_auto_rows": null,
            "grid_column": null,
            "grid_gap": null,
            "grid_row": null,
            "grid_template_areas": null,
            "grid_template_columns": null,
            "grid_template_rows": null,
            "height": null,
            "justify_content": null,
            "justify_items": null,
            "left": null,
            "margin": null,
            "max_height": null,
            "max_width": null,
            "min_height": null,
            "min_width": null,
            "object_fit": null,
            "object_position": null,
            "order": null,
            "overflow": null,
            "overflow_x": null,
            "overflow_y": null,
            "padding": null,
            "right": null,
            "top": null,
            "visibility": null,
            "width": null
          }
        },
        "47e0418147094482ab9b063e6c984cb8": {
          "model_module": "@jupyter-widgets/controls",
          "model_name": "ProgressStyleModel",
          "model_module_version": "1.5.0",
          "state": {
            "_model_module": "@jupyter-widgets/controls",
            "_model_module_version": "1.5.0",
            "_model_name": "ProgressStyleModel",
            "_view_count": null,
            "_view_module": "@jupyter-widgets/base",
            "_view_module_version": "1.2.0",
            "_view_name": "StyleView",
            "bar_color": null,
            "description_width": ""
          }
        },
        "6a2386d7181e4fdfaa52c2cdc490bb06": {
          "model_module": "@jupyter-widgets/base",
          "model_name": "LayoutModel",
          "model_module_version": "1.2.0",
          "state": {
            "_model_module": "@jupyter-widgets/base",
            "_model_module_version": "1.2.0",
            "_model_name": "LayoutModel",
            "_view_count": null,
            "_view_module": "@jupyter-widgets/base",
            "_view_module_version": "1.2.0",
            "_view_name": "LayoutView",
            "align_content": null,
            "align_items": null,
            "align_self": null,
            "border": null,
            "bottom": null,
            "display": null,
            "flex": null,
            "flex_flow": null,
            "grid_area": null,
            "grid_auto_columns": null,
            "grid_auto_flow": null,
            "grid_auto_rows": null,
            "grid_column": null,
            "grid_gap": null,
            "grid_row": null,
            "grid_template_areas": null,
            "grid_template_columns": null,
            "grid_template_rows": null,
            "height": null,
            "justify_content": null,
            "justify_items": null,
            "left": null,
            "margin": null,
            "max_height": null,
            "max_width": null,
            "min_height": null,
            "min_width": null,
            "object_fit": null,
            "object_position": null,
            "order": null,
            "overflow": null,
            "overflow_x": null,
            "overflow_y": null,
            "padding": null,
            "right": null,
            "top": null,
            "visibility": null,
            "width": null
          }
        },
        "c889740b37714a509ca945b527294dd9": {
          "model_module": "@jupyter-widgets/controls",
          "model_name": "DescriptionStyleModel",
          "model_module_version": "1.5.0",
          "state": {
            "_model_module": "@jupyter-widgets/controls",
            "_model_module_version": "1.5.0",
            "_model_name": "DescriptionStyleModel",
            "_view_count": null,
            "_view_module": "@jupyter-widgets/base",
            "_view_module_version": "1.2.0",
            "_view_name": "StyleView",
            "description_width": ""
          }
        },
        "fe373f7b447c4d48ac7e5ad7b475220e": {
          "model_module": "@jupyter-widgets/controls",
          "model_name": "HBoxModel",
          "model_module_version": "1.5.0",
          "state": {
            "_dom_classes": [],
            "_model_module": "@jupyter-widgets/controls",
            "_model_module_version": "1.5.0",
            "_model_name": "HBoxModel",
            "_view_count": null,
            "_view_module": "@jupyter-widgets/controls",
            "_view_module_version": "1.5.0",
            "_view_name": "HBoxView",
            "box_style": "",
            "children": [
              "IPY_MODEL_ee8cb00cba104554a0085c7b4a33da18",
              "IPY_MODEL_94b116b71fa64df7927fd7515ffa8121",
              "IPY_MODEL_844029fec3394ba994777a01ff67fe1a"
            ],
            "layout": "IPY_MODEL_c972527aca474e02aea83696863aa141"
          }
        },
        "ee8cb00cba104554a0085c7b4a33da18": {
          "model_module": "@jupyter-widgets/controls",
          "model_name": "HTMLModel",
          "model_module_version": "1.5.0",
          "state": {
            "_dom_classes": [],
            "_model_module": "@jupyter-widgets/controls",
            "_model_module_version": "1.5.0",
            "_model_name": "HTMLModel",
            "_view_count": null,
            "_view_module": "@jupyter-widgets/controls",
            "_view_module_version": "1.5.0",
            "_view_name": "HTMLView",
            "description": "",
            "description_tooltip": null,
            "layout": "IPY_MODEL_a01366d4d3634abb8cff15cffa797c0a",
            "placeholder": "​",
            "style": "IPY_MODEL_2e1e56d590104fdd85d2931f6b98ee79",
            "value": "100%"
          }
        },
        "94b116b71fa64df7927fd7515ffa8121": {
          "model_module": "@jupyter-widgets/controls",
          "model_name": "FloatProgressModel",
          "model_module_version": "1.5.0",
          "state": {
            "_dom_classes": [],
            "_model_module": "@jupyter-widgets/controls",
            "_model_module_version": "1.5.0",
            "_model_name": "FloatProgressModel",
            "_view_count": null,
            "_view_module": "@jupyter-widgets/controls",
            "_view_module_version": "1.5.0",
            "_view_name": "ProgressView",
            "bar_style": "success",
            "description": "",
            "description_tooltip": null,
            "layout": "IPY_MODEL_c9f2536750e64fe3a8e3fd821165aa68",
            "max": 1514,
            "min": 0,
            "orientation": "horizontal",
            "style": "IPY_MODEL_da82d5a33c9c42a49b776be50260d364",
            "value": 1514
          }
        },
        "844029fec3394ba994777a01ff67fe1a": {
          "model_module": "@jupyter-widgets/controls",
          "model_name": "HTMLModel",
          "model_module_version": "1.5.0",
          "state": {
            "_dom_classes": [],
            "_model_module": "@jupyter-widgets/controls",
            "_model_module_version": "1.5.0",
            "_model_name": "HTMLModel",
            "_view_count": null,
            "_view_module": "@jupyter-widgets/controls",
            "_view_module_version": "1.5.0",
            "_view_name": "HTMLView",
            "description": "",
            "description_tooltip": null,
            "layout": "IPY_MODEL_6dc395e811534924921376ac64232fce",
            "placeholder": "​",
            "style": "IPY_MODEL_41a3cf33e390450990c8913569c434ac",
            "value": " 1514/1514 [00:44&lt;00:00, 34.24it/s]"
          }
        },
        "c972527aca474e02aea83696863aa141": {
          "model_module": "@jupyter-widgets/base",
          "model_name": "LayoutModel",
          "model_module_version": "1.2.0",
          "state": {
            "_model_module": "@jupyter-widgets/base",
            "_model_module_version": "1.2.0",
            "_model_name": "LayoutModel",
            "_view_count": null,
            "_view_module": "@jupyter-widgets/base",
            "_view_module_version": "1.2.0",
            "_view_name": "LayoutView",
            "align_content": null,
            "align_items": null,
            "align_self": null,
            "border": null,
            "bottom": null,
            "display": null,
            "flex": null,
            "flex_flow": null,
            "grid_area": null,
            "grid_auto_columns": null,
            "grid_auto_flow": null,
            "grid_auto_rows": null,
            "grid_column": null,
            "grid_gap": null,
            "grid_row": null,
            "grid_template_areas": null,
            "grid_template_columns": null,
            "grid_template_rows": null,
            "height": null,
            "justify_content": null,
            "justify_items": null,
            "left": null,
            "margin": null,
            "max_height": null,
            "max_width": null,
            "min_height": null,
            "min_width": null,
            "object_fit": null,
            "object_position": null,
            "order": null,
            "overflow": null,
            "overflow_x": null,
            "overflow_y": null,
            "padding": null,
            "right": null,
            "top": null,
            "visibility": null,
            "width": null
          }
        },
        "a01366d4d3634abb8cff15cffa797c0a": {
          "model_module": "@jupyter-widgets/base",
          "model_name": "LayoutModel",
          "model_module_version": "1.2.0",
          "state": {
            "_model_module": "@jupyter-widgets/base",
            "_model_module_version": "1.2.0",
            "_model_name": "LayoutModel",
            "_view_count": null,
            "_view_module": "@jupyter-widgets/base",
            "_view_module_version": "1.2.0",
            "_view_name": "LayoutView",
            "align_content": null,
            "align_items": null,
            "align_self": null,
            "border": null,
            "bottom": null,
            "display": null,
            "flex": null,
            "flex_flow": null,
            "grid_area": null,
            "grid_auto_columns": null,
            "grid_auto_flow": null,
            "grid_auto_rows": null,
            "grid_column": null,
            "grid_gap": null,
            "grid_row": null,
            "grid_template_areas": null,
            "grid_template_columns": null,
            "grid_template_rows": null,
            "height": null,
            "justify_content": null,
            "justify_items": null,
            "left": null,
            "margin": null,
            "max_height": null,
            "max_width": null,
            "min_height": null,
            "min_width": null,
            "object_fit": null,
            "object_position": null,
            "order": null,
            "overflow": null,
            "overflow_x": null,
            "overflow_y": null,
            "padding": null,
            "right": null,
            "top": null,
            "visibility": null,
            "width": null
          }
        },
        "2e1e56d590104fdd85d2931f6b98ee79": {
          "model_module": "@jupyter-widgets/controls",
          "model_name": "DescriptionStyleModel",
          "model_module_version": "1.5.0",
          "state": {
            "_model_module": "@jupyter-widgets/controls",
            "_model_module_version": "1.5.0",
            "_model_name": "DescriptionStyleModel",
            "_view_count": null,
            "_view_module": "@jupyter-widgets/base",
            "_view_module_version": "1.2.0",
            "_view_name": "StyleView",
            "description_width": ""
          }
        },
        "c9f2536750e64fe3a8e3fd821165aa68": {
          "model_module": "@jupyter-widgets/base",
          "model_name": "LayoutModel",
          "model_module_version": "1.2.0",
          "state": {
            "_model_module": "@jupyter-widgets/base",
            "_model_module_version": "1.2.0",
            "_model_name": "LayoutModel",
            "_view_count": null,
            "_view_module": "@jupyter-widgets/base",
            "_view_module_version": "1.2.0",
            "_view_name": "LayoutView",
            "align_content": null,
            "align_items": null,
            "align_self": null,
            "border": null,
            "bottom": null,
            "display": null,
            "flex": null,
            "flex_flow": null,
            "grid_area": null,
            "grid_auto_columns": null,
            "grid_auto_flow": null,
            "grid_auto_rows": null,
            "grid_column": null,
            "grid_gap": null,
            "grid_row": null,
            "grid_template_areas": null,
            "grid_template_columns": null,
            "grid_template_rows": null,
            "height": null,
            "justify_content": null,
            "justify_items": null,
            "left": null,
            "margin": null,
            "max_height": null,
            "max_width": null,
            "min_height": null,
            "min_width": null,
            "object_fit": null,
            "object_position": null,
            "order": null,
            "overflow": null,
            "overflow_x": null,
            "overflow_y": null,
            "padding": null,
            "right": null,
            "top": null,
            "visibility": null,
            "width": null
          }
        },
        "da82d5a33c9c42a49b776be50260d364": {
          "model_module": "@jupyter-widgets/controls",
          "model_name": "ProgressStyleModel",
          "model_module_version": "1.5.0",
          "state": {
            "_model_module": "@jupyter-widgets/controls",
            "_model_module_version": "1.5.0",
            "_model_name": "ProgressStyleModel",
            "_view_count": null,
            "_view_module": "@jupyter-widgets/base",
            "_view_module_version": "1.2.0",
            "_view_name": "StyleView",
            "bar_color": null,
            "description_width": ""
          }
        },
        "6dc395e811534924921376ac64232fce": {
          "model_module": "@jupyter-widgets/base",
          "model_name": "LayoutModel",
          "model_module_version": "1.2.0",
          "state": {
            "_model_module": "@jupyter-widgets/base",
            "_model_module_version": "1.2.0",
            "_model_name": "LayoutModel",
            "_view_count": null,
            "_view_module": "@jupyter-widgets/base",
            "_view_module_version": "1.2.0",
            "_view_name": "LayoutView",
            "align_content": null,
            "align_items": null,
            "align_self": null,
            "border": null,
            "bottom": null,
            "display": null,
            "flex": null,
            "flex_flow": null,
            "grid_area": null,
            "grid_auto_columns": null,
            "grid_auto_flow": null,
            "grid_auto_rows": null,
            "grid_column": null,
            "grid_gap": null,
            "grid_row": null,
            "grid_template_areas": null,
            "grid_template_columns": null,
            "grid_template_rows": null,
            "height": null,
            "justify_content": null,
            "justify_items": null,
            "left": null,
            "margin": null,
            "max_height": null,
            "max_width": null,
            "min_height": null,
            "min_width": null,
            "object_fit": null,
            "object_position": null,
            "order": null,
            "overflow": null,
            "overflow_x": null,
            "overflow_y": null,
            "padding": null,
            "right": null,
            "top": null,
            "visibility": null,
            "width": null
          }
        },
        "41a3cf33e390450990c8913569c434ac": {
          "model_module": "@jupyter-widgets/controls",
          "model_name": "DescriptionStyleModel",
          "model_module_version": "1.5.0",
          "state": {
            "_model_module": "@jupyter-widgets/controls",
            "_model_module_version": "1.5.0",
            "_model_name": "DescriptionStyleModel",
            "_view_count": null,
            "_view_module": "@jupyter-widgets/base",
            "_view_module_version": "1.2.0",
            "_view_name": "StyleView",
            "description_width": ""
          }
        },
        "747e4c41f7184d8d955e18a2efd8d806": {
          "model_module": "@jupyter-widgets/controls",
          "model_name": "HBoxModel",
          "model_module_version": "1.5.0",
          "state": {
            "_dom_classes": [],
            "_model_module": "@jupyter-widgets/controls",
            "_model_module_version": "1.5.0",
            "_model_name": "HBoxModel",
            "_view_count": null,
            "_view_module": "@jupyter-widgets/controls",
            "_view_module_version": "1.5.0",
            "_view_name": "HBoxView",
            "box_style": "",
            "children": [
              "IPY_MODEL_8f86fba10d854dee84178c1b2b4e2473",
              "IPY_MODEL_e2f848da645e4cd68a8a7b95eea0ae58",
              "IPY_MODEL_5c199b08f9ee4ccc86d603f88f27dccb"
            ],
            "layout": "IPY_MODEL_465c9e269fc247978c1c1c02686fc263"
          }
        },
        "8f86fba10d854dee84178c1b2b4e2473": {
          "model_module": "@jupyter-widgets/controls",
          "model_name": "HTMLModel",
          "model_module_version": "1.5.0",
          "state": {
            "_dom_classes": [],
            "_model_module": "@jupyter-widgets/controls",
            "_model_module_version": "1.5.0",
            "_model_name": "HTMLModel",
            "_view_count": null,
            "_view_module": "@jupyter-widgets/controls",
            "_view_module_version": "1.5.0",
            "_view_name": "HTMLView",
            "description": "",
            "description_tooltip": null,
            "layout": "IPY_MODEL_e19790f51c6540619895a619c41880f0",
            "placeholder": "​",
            "style": "IPY_MODEL_10f4464bc41d4159a1ccd9d337561e53",
            "value": "100%"
          }
        },
        "e2f848da645e4cd68a8a7b95eea0ae58": {
          "model_module": "@jupyter-widgets/controls",
          "model_name": "FloatProgressModel",
          "model_module_version": "1.5.0",
          "state": {
            "_dom_classes": [],
            "_model_module": "@jupyter-widgets/controls",
            "_model_module_version": "1.5.0",
            "_model_name": "FloatProgressModel",
            "_view_count": null,
            "_view_module": "@jupyter-widgets/controls",
            "_view_module_version": "1.5.0",
            "_view_name": "ProgressView",
            "bar_style": "success",
            "description": "",
            "description_tooltip": null,
            "layout": "IPY_MODEL_ded0f7d8553f4344812f06ad17746092",
            "max": 1279,
            "min": 0,
            "orientation": "horizontal",
            "style": "IPY_MODEL_d29d4fe550a148fdacaa31558dd9f144",
            "value": 1279
          }
        },
        "5c199b08f9ee4ccc86d603f88f27dccb": {
          "model_module": "@jupyter-widgets/controls",
          "model_name": "HTMLModel",
          "model_module_version": "1.5.0",
          "state": {
            "_dom_classes": [],
            "_model_module": "@jupyter-widgets/controls",
            "_model_module_version": "1.5.0",
            "_model_name": "HTMLModel",
            "_view_count": null,
            "_view_module": "@jupyter-widgets/controls",
            "_view_module_version": "1.5.0",
            "_view_name": "HTMLView",
            "description": "",
            "description_tooltip": null,
            "layout": "IPY_MODEL_934ba06f3d48471d9c07c53a9fd9c182",
            "placeholder": "​",
            "style": "IPY_MODEL_f3817c7256db4b9883afb6efd4cb2d94",
            "value": " 1279/1279 [00:31&lt;00:00, 42.27it/s]"
          }
        },
        "465c9e269fc247978c1c1c02686fc263": {
          "model_module": "@jupyter-widgets/base",
          "model_name": "LayoutModel",
          "model_module_version": "1.2.0",
          "state": {
            "_model_module": "@jupyter-widgets/base",
            "_model_module_version": "1.2.0",
            "_model_name": "LayoutModel",
            "_view_count": null,
            "_view_module": "@jupyter-widgets/base",
            "_view_module_version": "1.2.0",
            "_view_name": "LayoutView",
            "align_content": null,
            "align_items": null,
            "align_self": null,
            "border": null,
            "bottom": null,
            "display": null,
            "flex": null,
            "flex_flow": null,
            "grid_area": null,
            "grid_auto_columns": null,
            "grid_auto_flow": null,
            "grid_auto_rows": null,
            "grid_column": null,
            "grid_gap": null,
            "grid_row": null,
            "grid_template_areas": null,
            "grid_template_columns": null,
            "grid_template_rows": null,
            "height": null,
            "justify_content": null,
            "justify_items": null,
            "left": null,
            "margin": null,
            "max_height": null,
            "max_width": null,
            "min_height": null,
            "min_width": null,
            "object_fit": null,
            "object_position": null,
            "order": null,
            "overflow": null,
            "overflow_x": null,
            "overflow_y": null,
            "padding": null,
            "right": null,
            "top": null,
            "visibility": null,
            "width": null
          }
        },
        "e19790f51c6540619895a619c41880f0": {
          "model_module": "@jupyter-widgets/base",
          "model_name": "LayoutModel",
          "model_module_version": "1.2.0",
          "state": {
            "_model_module": "@jupyter-widgets/base",
            "_model_module_version": "1.2.0",
            "_model_name": "LayoutModel",
            "_view_count": null,
            "_view_module": "@jupyter-widgets/base",
            "_view_module_version": "1.2.0",
            "_view_name": "LayoutView",
            "align_content": null,
            "align_items": null,
            "align_self": null,
            "border": null,
            "bottom": null,
            "display": null,
            "flex": null,
            "flex_flow": null,
            "grid_area": null,
            "grid_auto_columns": null,
            "grid_auto_flow": null,
            "grid_auto_rows": null,
            "grid_column": null,
            "grid_gap": null,
            "grid_row": null,
            "grid_template_areas": null,
            "grid_template_columns": null,
            "grid_template_rows": null,
            "height": null,
            "justify_content": null,
            "justify_items": null,
            "left": null,
            "margin": null,
            "max_height": null,
            "max_width": null,
            "min_height": null,
            "min_width": null,
            "object_fit": null,
            "object_position": null,
            "order": null,
            "overflow": null,
            "overflow_x": null,
            "overflow_y": null,
            "padding": null,
            "right": null,
            "top": null,
            "visibility": null,
            "width": null
          }
        },
        "10f4464bc41d4159a1ccd9d337561e53": {
          "model_module": "@jupyter-widgets/controls",
          "model_name": "DescriptionStyleModel",
          "model_module_version": "1.5.0",
          "state": {
            "_model_module": "@jupyter-widgets/controls",
            "_model_module_version": "1.5.0",
            "_model_name": "DescriptionStyleModel",
            "_view_count": null,
            "_view_module": "@jupyter-widgets/base",
            "_view_module_version": "1.2.0",
            "_view_name": "StyleView",
            "description_width": ""
          }
        },
        "ded0f7d8553f4344812f06ad17746092": {
          "model_module": "@jupyter-widgets/base",
          "model_name": "LayoutModel",
          "model_module_version": "1.2.0",
          "state": {
            "_model_module": "@jupyter-widgets/base",
            "_model_module_version": "1.2.0",
            "_model_name": "LayoutModel",
            "_view_count": null,
            "_view_module": "@jupyter-widgets/base",
            "_view_module_version": "1.2.0",
            "_view_name": "LayoutView",
            "align_content": null,
            "align_items": null,
            "align_self": null,
            "border": null,
            "bottom": null,
            "display": null,
            "flex": null,
            "flex_flow": null,
            "grid_area": null,
            "grid_auto_columns": null,
            "grid_auto_flow": null,
            "grid_auto_rows": null,
            "grid_column": null,
            "grid_gap": null,
            "grid_row": null,
            "grid_template_areas": null,
            "grid_template_columns": null,
            "grid_template_rows": null,
            "height": null,
            "justify_content": null,
            "justify_items": null,
            "left": null,
            "margin": null,
            "max_height": null,
            "max_width": null,
            "min_height": null,
            "min_width": null,
            "object_fit": null,
            "object_position": null,
            "order": null,
            "overflow": null,
            "overflow_x": null,
            "overflow_y": null,
            "padding": null,
            "right": null,
            "top": null,
            "visibility": null,
            "width": null
          }
        },
        "d29d4fe550a148fdacaa31558dd9f144": {
          "model_module": "@jupyter-widgets/controls",
          "model_name": "ProgressStyleModel",
          "model_module_version": "1.5.0",
          "state": {
            "_model_module": "@jupyter-widgets/controls",
            "_model_module_version": "1.5.0",
            "_model_name": "ProgressStyleModel",
            "_view_count": null,
            "_view_module": "@jupyter-widgets/base",
            "_view_module_version": "1.2.0",
            "_view_name": "StyleView",
            "bar_color": null,
            "description_width": ""
          }
        },
        "934ba06f3d48471d9c07c53a9fd9c182": {
          "model_module": "@jupyter-widgets/base",
          "model_name": "LayoutModel",
          "model_module_version": "1.2.0",
          "state": {
            "_model_module": "@jupyter-widgets/base",
            "_model_module_version": "1.2.0",
            "_model_name": "LayoutModel",
            "_view_count": null,
            "_view_module": "@jupyter-widgets/base",
            "_view_module_version": "1.2.0",
            "_view_name": "LayoutView",
            "align_content": null,
            "align_items": null,
            "align_self": null,
            "border": null,
            "bottom": null,
            "display": null,
            "flex": null,
            "flex_flow": null,
            "grid_area": null,
            "grid_auto_columns": null,
            "grid_auto_flow": null,
            "grid_auto_rows": null,
            "grid_column": null,
            "grid_gap": null,
            "grid_row": null,
            "grid_template_areas": null,
            "grid_template_columns": null,
            "grid_template_rows": null,
            "height": null,
            "justify_content": null,
            "justify_items": null,
            "left": null,
            "margin": null,
            "max_height": null,
            "max_width": null,
            "min_height": null,
            "min_width": null,
            "object_fit": null,
            "object_position": null,
            "order": null,
            "overflow": null,
            "overflow_x": null,
            "overflow_y": null,
            "padding": null,
            "right": null,
            "top": null,
            "visibility": null,
            "width": null
          }
        },
        "f3817c7256db4b9883afb6efd4cb2d94": {
          "model_module": "@jupyter-widgets/controls",
          "model_name": "DescriptionStyleModel",
          "model_module_version": "1.5.0",
          "state": {
            "_model_module": "@jupyter-widgets/controls",
            "_model_module_version": "1.5.0",
            "_model_name": "DescriptionStyleModel",
            "_view_count": null,
            "_view_module": "@jupyter-widgets/base",
            "_view_module_version": "1.2.0",
            "_view_name": "StyleView",
            "description_width": ""
          }
        },
        "585e8a557a8d49d48540902cc770ae8c": {
          "model_module": "@jupyter-widgets/controls",
          "model_name": "HBoxModel",
          "model_module_version": "1.5.0",
          "state": {
            "_dom_classes": [],
            "_model_module": "@jupyter-widgets/controls",
            "_model_module_version": "1.5.0",
            "_model_name": "HBoxModel",
            "_view_count": null,
            "_view_module": "@jupyter-widgets/controls",
            "_view_module_version": "1.5.0",
            "_view_name": "HBoxView",
            "box_style": "",
            "children": [
              "IPY_MODEL_cc59d2b11aa14bdf9c6c15e2f670d1fe",
              "IPY_MODEL_6c79595872fe45d3ad90cb20a2012452",
              "IPY_MODEL_41d9ea5d7e9843d585181ae0f307093b"
            ],
            "layout": "IPY_MODEL_9588b6ec14164f1096451eb177adab5f"
          }
        },
        "cc59d2b11aa14bdf9c6c15e2f670d1fe": {
          "model_module": "@jupyter-widgets/controls",
          "model_name": "HTMLModel",
          "model_module_version": "1.5.0",
          "state": {
            "_dom_classes": [],
            "_model_module": "@jupyter-widgets/controls",
            "_model_module_version": "1.5.0",
            "_model_name": "HTMLModel",
            "_view_count": null,
            "_view_module": "@jupyter-widgets/controls",
            "_view_module_version": "1.5.0",
            "_view_name": "HTMLView",
            "description": "",
            "description_tooltip": null,
            "layout": "IPY_MODEL_03b3e6c79aac404dbb6691a532839987",
            "placeholder": "​",
            "style": "IPY_MODEL_d562617a6e9f4f8d960ac6cb143f6378",
            "value": "100%"
          }
        },
        "6c79595872fe45d3ad90cb20a2012452": {
          "model_module": "@jupyter-widgets/controls",
          "model_name": "FloatProgressModel",
          "model_module_version": "1.5.0",
          "state": {
            "_dom_classes": [],
            "_model_module": "@jupyter-widgets/controls",
            "_model_module_version": "1.5.0",
            "_model_name": "FloatProgressModel",
            "_view_count": null,
            "_view_module": "@jupyter-widgets/controls",
            "_view_module_version": "1.5.0",
            "_view_name": "ProgressView",
            "bar_style": "success",
            "description": "",
            "description_tooltip": null,
            "layout": "IPY_MODEL_004191f4089e4b2898246948229a5f68",
            "max": 1514,
            "min": 0,
            "orientation": "horizontal",
            "style": "IPY_MODEL_aa9484a7497b44b88525425fbf1faeb2",
            "value": 1514
          }
        },
        "41d9ea5d7e9843d585181ae0f307093b": {
          "model_module": "@jupyter-widgets/controls",
          "model_name": "HTMLModel",
          "model_module_version": "1.5.0",
          "state": {
            "_dom_classes": [],
            "_model_module": "@jupyter-widgets/controls",
            "_model_module_version": "1.5.0",
            "_model_name": "HTMLModel",
            "_view_count": null,
            "_view_module": "@jupyter-widgets/controls",
            "_view_module_version": "1.5.0",
            "_view_name": "HTMLView",
            "description": "",
            "description_tooltip": null,
            "layout": "IPY_MODEL_5feb199e93f1415eb593d23fa112fff4",
            "placeholder": "​",
            "style": "IPY_MODEL_771b7c4e3bea498a84d82ee6322674cb",
            "value": " 1514/1514 [00:37&lt;00:00, 39.26it/s]"
          }
        },
        "9588b6ec14164f1096451eb177adab5f": {
          "model_module": "@jupyter-widgets/base",
          "model_name": "LayoutModel",
          "model_module_version": "1.2.0",
          "state": {
            "_model_module": "@jupyter-widgets/base",
            "_model_module_version": "1.2.0",
            "_model_name": "LayoutModel",
            "_view_count": null,
            "_view_module": "@jupyter-widgets/base",
            "_view_module_version": "1.2.0",
            "_view_name": "LayoutView",
            "align_content": null,
            "align_items": null,
            "align_self": null,
            "border": null,
            "bottom": null,
            "display": null,
            "flex": null,
            "flex_flow": null,
            "grid_area": null,
            "grid_auto_columns": null,
            "grid_auto_flow": null,
            "grid_auto_rows": null,
            "grid_column": null,
            "grid_gap": null,
            "grid_row": null,
            "grid_template_areas": null,
            "grid_template_columns": null,
            "grid_template_rows": null,
            "height": null,
            "justify_content": null,
            "justify_items": null,
            "left": null,
            "margin": null,
            "max_height": null,
            "max_width": null,
            "min_height": null,
            "min_width": null,
            "object_fit": null,
            "object_position": null,
            "order": null,
            "overflow": null,
            "overflow_x": null,
            "overflow_y": null,
            "padding": null,
            "right": null,
            "top": null,
            "visibility": null,
            "width": null
          }
        },
        "03b3e6c79aac404dbb6691a532839987": {
          "model_module": "@jupyter-widgets/base",
          "model_name": "LayoutModel",
          "model_module_version": "1.2.0",
          "state": {
            "_model_module": "@jupyter-widgets/base",
            "_model_module_version": "1.2.0",
            "_model_name": "LayoutModel",
            "_view_count": null,
            "_view_module": "@jupyter-widgets/base",
            "_view_module_version": "1.2.0",
            "_view_name": "LayoutView",
            "align_content": null,
            "align_items": null,
            "align_self": null,
            "border": null,
            "bottom": null,
            "display": null,
            "flex": null,
            "flex_flow": null,
            "grid_area": null,
            "grid_auto_columns": null,
            "grid_auto_flow": null,
            "grid_auto_rows": null,
            "grid_column": null,
            "grid_gap": null,
            "grid_row": null,
            "grid_template_areas": null,
            "grid_template_columns": null,
            "grid_template_rows": null,
            "height": null,
            "justify_content": null,
            "justify_items": null,
            "left": null,
            "margin": null,
            "max_height": null,
            "max_width": null,
            "min_height": null,
            "min_width": null,
            "object_fit": null,
            "object_position": null,
            "order": null,
            "overflow": null,
            "overflow_x": null,
            "overflow_y": null,
            "padding": null,
            "right": null,
            "top": null,
            "visibility": null,
            "width": null
          }
        },
        "d562617a6e9f4f8d960ac6cb143f6378": {
          "model_module": "@jupyter-widgets/controls",
          "model_name": "DescriptionStyleModel",
          "model_module_version": "1.5.0",
          "state": {
            "_model_module": "@jupyter-widgets/controls",
            "_model_module_version": "1.5.0",
            "_model_name": "DescriptionStyleModel",
            "_view_count": null,
            "_view_module": "@jupyter-widgets/base",
            "_view_module_version": "1.2.0",
            "_view_name": "StyleView",
            "description_width": ""
          }
        },
        "004191f4089e4b2898246948229a5f68": {
          "model_module": "@jupyter-widgets/base",
          "model_name": "LayoutModel",
          "model_module_version": "1.2.0",
          "state": {
            "_model_module": "@jupyter-widgets/base",
            "_model_module_version": "1.2.0",
            "_model_name": "LayoutModel",
            "_view_count": null,
            "_view_module": "@jupyter-widgets/base",
            "_view_module_version": "1.2.0",
            "_view_name": "LayoutView",
            "align_content": null,
            "align_items": null,
            "align_self": null,
            "border": null,
            "bottom": null,
            "display": null,
            "flex": null,
            "flex_flow": null,
            "grid_area": null,
            "grid_auto_columns": null,
            "grid_auto_flow": null,
            "grid_auto_rows": null,
            "grid_column": null,
            "grid_gap": null,
            "grid_row": null,
            "grid_template_areas": null,
            "grid_template_columns": null,
            "grid_template_rows": null,
            "height": null,
            "justify_content": null,
            "justify_items": null,
            "left": null,
            "margin": null,
            "max_height": null,
            "max_width": null,
            "min_height": null,
            "min_width": null,
            "object_fit": null,
            "object_position": null,
            "order": null,
            "overflow": null,
            "overflow_x": null,
            "overflow_y": null,
            "padding": null,
            "right": null,
            "top": null,
            "visibility": null,
            "width": null
          }
        },
        "aa9484a7497b44b88525425fbf1faeb2": {
          "model_module": "@jupyter-widgets/controls",
          "model_name": "ProgressStyleModel",
          "model_module_version": "1.5.0",
          "state": {
            "_model_module": "@jupyter-widgets/controls",
            "_model_module_version": "1.5.0",
            "_model_name": "ProgressStyleModel",
            "_view_count": null,
            "_view_module": "@jupyter-widgets/base",
            "_view_module_version": "1.2.0",
            "_view_name": "StyleView",
            "bar_color": null,
            "description_width": ""
          }
        },
        "5feb199e93f1415eb593d23fa112fff4": {
          "model_module": "@jupyter-widgets/base",
          "model_name": "LayoutModel",
          "model_module_version": "1.2.0",
          "state": {
            "_model_module": "@jupyter-widgets/base",
            "_model_module_version": "1.2.0",
            "_model_name": "LayoutModel",
            "_view_count": null,
            "_view_module": "@jupyter-widgets/base",
            "_view_module_version": "1.2.0",
            "_view_name": "LayoutView",
            "align_content": null,
            "align_items": null,
            "align_self": null,
            "border": null,
            "bottom": null,
            "display": null,
            "flex": null,
            "flex_flow": null,
            "grid_area": null,
            "grid_auto_columns": null,
            "grid_auto_flow": null,
            "grid_auto_rows": null,
            "grid_column": null,
            "grid_gap": null,
            "grid_row": null,
            "grid_template_areas": null,
            "grid_template_columns": null,
            "grid_template_rows": null,
            "height": null,
            "justify_content": null,
            "justify_items": null,
            "left": null,
            "margin": null,
            "max_height": null,
            "max_width": null,
            "min_height": null,
            "min_width": null,
            "object_fit": null,
            "object_position": null,
            "order": null,
            "overflow": null,
            "overflow_x": null,
            "overflow_y": null,
            "padding": null,
            "right": null,
            "top": null,
            "visibility": null,
            "width": null
          }
        },
        "771b7c4e3bea498a84d82ee6322674cb": {
          "model_module": "@jupyter-widgets/controls",
          "model_name": "DescriptionStyleModel",
          "model_module_version": "1.5.0",
          "state": {
            "_model_module": "@jupyter-widgets/controls",
            "_model_module_version": "1.5.0",
            "_model_name": "DescriptionStyleModel",
            "_view_count": null,
            "_view_module": "@jupyter-widgets/base",
            "_view_module_version": "1.2.0",
            "_view_name": "StyleView",
            "description_width": ""
          }
        },
        "51906213f7ce4bcc93359fc5769cd27d": {
          "model_module": "@jupyter-widgets/controls",
          "model_name": "HBoxModel",
          "model_module_version": "1.5.0",
          "state": {
            "_dom_classes": [],
            "_model_module": "@jupyter-widgets/controls",
            "_model_module_version": "1.5.0",
            "_model_name": "HBoxModel",
            "_view_count": null,
            "_view_module": "@jupyter-widgets/controls",
            "_view_module_version": "1.5.0",
            "_view_name": "HBoxView",
            "box_style": "",
            "children": [
              "IPY_MODEL_b04b88e54f3d44118012cbc8013a24ee",
              "IPY_MODEL_2f2f68710757468db127e323cac798d9",
              "IPY_MODEL_129486ddd0a34083b14ed9cde953285d"
            ],
            "layout": "IPY_MODEL_416d3b8677ce47e9a49753d4bd867fa2"
          }
        },
        "b04b88e54f3d44118012cbc8013a24ee": {
          "model_module": "@jupyter-widgets/controls",
          "model_name": "HTMLModel",
          "model_module_version": "1.5.0",
          "state": {
            "_dom_classes": [],
            "_model_module": "@jupyter-widgets/controls",
            "_model_module_version": "1.5.0",
            "_model_name": "HTMLModel",
            "_view_count": null,
            "_view_module": "@jupyter-widgets/controls",
            "_view_module_version": "1.5.0",
            "_view_name": "HTMLView",
            "description": "",
            "description_tooltip": null,
            "layout": "IPY_MODEL_dee18b10a5e54cbf803b751552be4ecc",
            "placeholder": "​",
            "style": "IPY_MODEL_6484ac33488c47b39e5f2dc846ee851b",
            "value": "100%"
          }
        },
        "2f2f68710757468db127e323cac798d9": {
          "model_module": "@jupyter-widgets/controls",
          "model_name": "FloatProgressModel",
          "model_module_version": "1.5.0",
          "state": {
            "_dom_classes": [],
            "_model_module": "@jupyter-widgets/controls",
            "_model_module_version": "1.5.0",
            "_model_name": "FloatProgressModel",
            "_view_count": null,
            "_view_module": "@jupyter-widgets/controls",
            "_view_module_version": "1.5.0",
            "_view_name": "ProgressView",
            "bar_style": "success",
            "description": "",
            "description_tooltip": null,
            "layout": "IPY_MODEL_0feb116cf6bf43dc87af5783990a4251",
            "max": 1279,
            "min": 0,
            "orientation": "horizontal",
            "style": "IPY_MODEL_95244ab55df04384a4f4c91b6e478bdc",
            "value": 1279
          }
        },
        "129486ddd0a34083b14ed9cde953285d": {
          "model_module": "@jupyter-widgets/controls",
          "model_name": "HTMLModel",
          "model_module_version": "1.5.0",
          "state": {
            "_dom_classes": [],
            "_model_module": "@jupyter-widgets/controls",
            "_model_module_version": "1.5.0",
            "_model_name": "HTMLModel",
            "_view_count": null,
            "_view_module": "@jupyter-widgets/controls",
            "_view_module_version": "1.5.0",
            "_view_name": "HTMLView",
            "description": "",
            "description_tooltip": null,
            "layout": "IPY_MODEL_7ea9d653490749ad94fbd52a300a8f6d",
            "placeholder": "​",
            "style": "IPY_MODEL_cf47387bfeda4e5a8da6719da0022245",
            "value": " 1279/1279 [00:31&lt;00:00, 40.48it/s]"
          }
        },
        "416d3b8677ce47e9a49753d4bd867fa2": {
          "model_module": "@jupyter-widgets/base",
          "model_name": "LayoutModel",
          "model_module_version": "1.2.0",
          "state": {
            "_model_module": "@jupyter-widgets/base",
            "_model_module_version": "1.2.0",
            "_model_name": "LayoutModel",
            "_view_count": null,
            "_view_module": "@jupyter-widgets/base",
            "_view_module_version": "1.2.0",
            "_view_name": "LayoutView",
            "align_content": null,
            "align_items": null,
            "align_self": null,
            "border": null,
            "bottom": null,
            "display": null,
            "flex": null,
            "flex_flow": null,
            "grid_area": null,
            "grid_auto_columns": null,
            "grid_auto_flow": null,
            "grid_auto_rows": null,
            "grid_column": null,
            "grid_gap": null,
            "grid_row": null,
            "grid_template_areas": null,
            "grid_template_columns": null,
            "grid_template_rows": null,
            "height": null,
            "justify_content": null,
            "justify_items": null,
            "left": null,
            "margin": null,
            "max_height": null,
            "max_width": null,
            "min_height": null,
            "min_width": null,
            "object_fit": null,
            "object_position": null,
            "order": null,
            "overflow": null,
            "overflow_x": null,
            "overflow_y": null,
            "padding": null,
            "right": null,
            "top": null,
            "visibility": null,
            "width": null
          }
        },
        "dee18b10a5e54cbf803b751552be4ecc": {
          "model_module": "@jupyter-widgets/base",
          "model_name": "LayoutModel",
          "model_module_version": "1.2.0",
          "state": {
            "_model_module": "@jupyter-widgets/base",
            "_model_module_version": "1.2.0",
            "_model_name": "LayoutModel",
            "_view_count": null,
            "_view_module": "@jupyter-widgets/base",
            "_view_module_version": "1.2.0",
            "_view_name": "LayoutView",
            "align_content": null,
            "align_items": null,
            "align_self": null,
            "border": null,
            "bottom": null,
            "display": null,
            "flex": null,
            "flex_flow": null,
            "grid_area": null,
            "grid_auto_columns": null,
            "grid_auto_flow": null,
            "grid_auto_rows": null,
            "grid_column": null,
            "grid_gap": null,
            "grid_row": null,
            "grid_template_areas": null,
            "grid_template_columns": null,
            "grid_template_rows": null,
            "height": null,
            "justify_content": null,
            "justify_items": null,
            "left": null,
            "margin": null,
            "max_height": null,
            "max_width": null,
            "min_height": null,
            "min_width": null,
            "object_fit": null,
            "object_position": null,
            "order": null,
            "overflow": null,
            "overflow_x": null,
            "overflow_y": null,
            "padding": null,
            "right": null,
            "top": null,
            "visibility": null,
            "width": null
          }
        },
        "6484ac33488c47b39e5f2dc846ee851b": {
          "model_module": "@jupyter-widgets/controls",
          "model_name": "DescriptionStyleModel",
          "model_module_version": "1.5.0",
          "state": {
            "_model_module": "@jupyter-widgets/controls",
            "_model_module_version": "1.5.0",
            "_model_name": "DescriptionStyleModel",
            "_view_count": null,
            "_view_module": "@jupyter-widgets/base",
            "_view_module_version": "1.2.0",
            "_view_name": "StyleView",
            "description_width": ""
          }
        },
        "0feb116cf6bf43dc87af5783990a4251": {
          "model_module": "@jupyter-widgets/base",
          "model_name": "LayoutModel",
          "model_module_version": "1.2.0",
          "state": {
            "_model_module": "@jupyter-widgets/base",
            "_model_module_version": "1.2.0",
            "_model_name": "LayoutModel",
            "_view_count": null,
            "_view_module": "@jupyter-widgets/base",
            "_view_module_version": "1.2.0",
            "_view_name": "LayoutView",
            "align_content": null,
            "align_items": null,
            "align_self": null,
            "border": null,
            "bottom": null,
            "display": null,
            "flex": null,
            "flex_flow": null,
            "grid_area": null,
            "grid_auto_columns": null,
            "grid_auto_flow": null,
            "grid_auto_rows": null,
            "grid_column": null,
            "grid_gap": null,
            "grid_row": null,
            "grid_template_areas": null,
            "grid_template_columns": null,
            "grid_template_rows": null,
            "height": null,
            "justify_content": null,
            "justify_items": null,
            "left": null,
            "margin": null,
            "max_height": null,
            "max_width": null,
            "min_height": null,
            "min_width": null,
            "object_fit": null,
            "object_position": null,
            "order": null,
            "overflow": null,
            "overflow_x": null,
            "overflow_y": null,
            "padding": null,
            "right": null,
            "top": null,
            "visibility": null,
            "width": null
          }
        },
        "95244ab55df04384a4f4c91b6e478bdc": {
          "model_module": "@jupyter-widgets/controls",
          "model_name": "ProgressStyleModel",
          "model_module_version": "1.5.0",
          "state": {
            "_model_module": "@jupyter-widgets/controls",
            "_model_module_version": "1.5.0",
            "_model_name": "ProgressStyleModel",
            "_view_count": null,
            "_view_module": "@jupyter-widgets/base",
            "_view_module_version": "1.2.0",
            "_view_name": "StyleView",
            "bar_color": null,
            "description_width": ""
          }
        },
        "7ea9d653490749ad94fbd52a300a8f6d": {
          "model_module": "@jupyter-widgets/base",
          "model_name": "LayoutModel",
          "model_module_version": "1.2.0",
          "state": {
            "_model_module": "@jupyter-widgets/base",
            "_model_module_version": "1.2.0",
            "_model_name": "LayoutModel",
            "_view_count": null,
            "_view_module": "@jupyter-widgets/base",
            "_view_module_version": "1.2.0",
            "_view_name": "LayoutView",
            "align_content": null,
            "align_items": null,
            "align_self": null,
            "border": null,
            "bottom": null,
            "display": null,
            "flex": null,
            "flex_flow": null,
            "grid_area": null,
            "grid_auto_columns": null,
            "grid_auto_flow": null,
            "grid_auto_rows": null,
            "grid_column": null,
            "grid_gap": null,
            "grid_row": null,
            "grid_template_areas": null,
            "grid_template_columns": null,
            "grid_template_rows": null,
            "height": null,
            "justify_content": null,
            "justify_items": null,
            "left": null,
            "margin": null,
            "max_height": null,
            "max_width": null,
            "min_height": null,
            "min_width": null,
            "object_fit": null,
            "object_position": null,
            "order": null,
            "overflow": null,
            "overflow_x": null,
            "overflow_y": null,
            "padding": null,
            "right": null,
            "top": null,
            "visibility": null,
            "width": null
          }
        },
        "cf47387bfeda4e5a8da6719da0022245": {
          "model_module": "@jupyter-widgets/controls",
          "model_name": "DescriptionStyleModel",
          "model_module_version": "1.5.0",
          "state": {
            "_model_module": "@jupyter-widgets/controls",
            "_model_module_version": "1.5.0",
            "_model_name": "DescriptionStyleModel",
            "_view_count": null,
            "_view_module": "@jupyter-widgets/base",
            "_view_module_version": "1.2.0",
            "_view_name": "StyleView",
            "description_width": ""
          }
        },
        "4e2dee6324924da5add98fa9d9660a0f": {
          "model_module": "@jupyter-widgets/controls",
          "model_name": "HBoxModel",
          "model_module_version": "1.5.0",
          "state": {
            "_dom_classes": [],
            "_model_module": "@jupyter-widgets/controls",
            "_model_module_version": "1.5.0",
            "_model_name": "HBoxModel",
            "_view_count": null,
            "_view_module": "@jupyter-widgets/controls",
            "_view_module_version": "1.5.0",
            "_view_name": "HBoxView",
            "box_style": "",
            "children": [
              "IPY_MODEL_dcc0dd4778f9496c968a33bfaae244b1",
              "IPY_MODEL_1ea9c2fc8d5b4209aab49b7f3d89e3af",
              "IPY_MODEL_a8705cebbff74438b3fc8766e83f382e"
            ],
            "layout": "IPY_MODEL_7bc9689e6e5447f0a60802628acd0015"
          }
        },
        "dcc0dd4778f9496c968a33bfaae244b1": {
          "model_module": "@jupyter-widgets/controls",
          "model_name": "HTMLModel",
          "model_module_version": "1.5.0",
          "state": {
            "_dom_classes": [],
            "_model_module": "@jupyter-widgets/controls",
            "_model_module_version": "1.5.0",
            "_model_name": "HTMLModel",
            "_view_count": null,
            "_view_module": "@jupyter-widgets/controls",
            "_view_module_version": "1.5.0",
            "_view_name": "HTMLView",
            "description": "",
            "description_tooltip": null,
            "layout": "IPY_MODEL_2f9b2f0b0540453d9399f5a0280cc0fa",
            "placeholder": "​",
            "style": "IPY_MODEL_5649dd11d13645b2834eb88e0325043e",
            "value": "100%"
          }
        },
        "1ea9c2fc8d5b4209aab49b7f3d89e3af": {
          "model_module": "@jupyter-widgets/controls",
          "model_name": "FloatProgressModel",
          "model_module_version": "1.5.0",
          "state": {
            "_dom_classes": [],
            "_model_module": "@jupyter-widgets/controls",
            "_model_module_version": "1.5.0",
            "_model_name": "FloatProgressModel",
            "_view_count": null,
            "_view_module": "@jupyter-widgets/controls",
            "_view_module_version": "1.5.0",
            "_view_name": "ProgressView",
            "bar_style": "success",
            "description": "",
            "description_tooltip": null,
            "layout": "IPY_MODEL_f1b291952462421ea3470b8d8618a8ea",
            "max": 1514,
            "min": 0,
            "orientation": "horizontal",
            "style": "IPY_MODEL_39a5a90e0f984f999e1157a3ec54b69d",
            "value": 1514
          }
        },
        "a8705cebbff74438b3fc8766e83f382e": {
          "model_module": "@jupyter-widgets/controls",
          "model_name": "HTMLModel",
          "model_module_version": "1.5.0",
          "state": {
            "_dom_classes": [],
            "_model_module": "@jupyter-widgets/controls",
            "_model_module_version": "1.5.0",
            "_model_name": "HTMLModel",
            "_view_count": null,
            "_view_module": "@jupyter-widgets/controls",
            "_view_module_version": "1.5.0",
            "_view_name": "HTMLView",
            "description": "",
            "description_tooltip": null,
            "layout": "IPY_MODEL_7dc7423fc937430286fd2f5352cfe3b3",
            "placeholder": "​",
            "style": "IPY_MODEL_96df0849a04f4dd08c77cf312f79a57c",
            "value": " 1514/1514 [00:37&lt;00:00, 41.56it/s]"
          }
        },
        "7bc9689e6e5447f0a60802628acd0015": {
          "model_module": "@jupyter-widgets/base",
          "model_name": "LayoutModel",
          "model_module_version": "1.2.0",
          "state": {
            "_model_module": "@jupyter-widgets/base",
            "_model_module_version": "1.2.0",
            "_model_name": "LayoutModel",
            "_view_count": null,
            "_view_module": "@jupyter-widgets/base",
            "_view_module_version": "1.2.0",
            "_view_name": "LayoutView",
            "align_content": null,
            "align_items": null,
            "align_self": null,
            "border": null,
            "bottom": null,
            "display": null,
            "flex": null,
            "flex_flow": null,
            "grid_area": null,
            "grid_auto_columns": null,
            "grid_auto_flow": null,
            "grid_auto_rows": null,
            "grid_column": null,
            "grid_gap": null,
            "grid_row": null,
            "grid_template_areas": null,
            "grid_template_columns": null,
            "grid_template_rows": null,
            "height": null,
            "justify_content": null,
            "justify_items": null,
            "left": null,
            "margin": null,
            "max_height": null,
            "max_width": null,
            "min_height": null,
            "min_width": null,
            "object_fit": null,
            "object_position": null,
            "order": null,
            "overflow": null,
            "overflow_x": null,
            "overflow_y": null,
            "padding": null,
            "right": null,
            "top": null,
            "visibility": null,
            "width": null
          }
        },
        "2f9b2f0b0540453d9399f5a0280cc0fa": {
          "model_module": "@jupyter-widgets/base",
          "model_name": "LayoutModel",
          "model_module_version": "1.2.0",
          "state": {
            "_model_module": "@jupyter-widgets/base",
            "_model_module_version": "1.2.0",
            "_model_name": "LayoutModel",
            "_view_count": null,
            "_view_module": "@jupyter-widgets/base",
            "_view_module_version": "1.2.0",
            "_view_name": "LayoutView",
            "align_content": null,
            "align_items": null,
            "align_self": null,
            "border": null,
            "bottom": null,
            "display": null,
            "flex": null,
            "flex_flow": null,
            "grid_area": null,
            "grid_auto_columns": null,
            "grid_auto_flow": null,
            "grid_auto_rows": null,
            "grid_column": null,
            "grid_gap": null,
            "grid_row": null,
            "grid_template_areas": null,
            "grid_template_columns": null,
            "grid_template_rows": null,
            "height": null,
            "justify_content": null,
            "justify_items": null,
            "left": null,
            "margin": null,
            "max_height": null,
            "max_width": null,
            "min_height": null,
            "min_width": null,
            "object_fit": null,
            "object_position": null,
            "order": null,
            "overflow": null,
            "overflow_x": null,
            "overflow_y": null,
            "padding": null,
            "right": null,
            "top": null,
            "visibility": null,
            "width": null
          }
        },
        "5649dd11d13645b2834eb88e0325043e": {
          "model_module": "@jupyter-widgets/controls",
          "model_name": "DescriptionStyleModel",
          "model_module_version": "1.5.0",
          "state": {
            "_model_module": "@jupyter-widgets/controls",
            "_model_module_version": "1.5.0",
            "_model_name": "DescriptionStyleModel",
            "_view_count": null,
            "_view_module": "@jupyter-widgets/base",
            "_view_module_version": "1.2.0",
            "_view_name": "StyleView",
            "description_width": ""
          }
        },
        "f1b291952462421ea3470b8d8618a8ea": {
          "model_module": "@jupyter-widgets/base",
          "model_name": "LayoutModel",
          "model_module_version": "1.2.0",
          "state": {
            "_model_module": "@jupyter-widgets/base",
            "_model_module_version": "1.2.0",
            "_model_name": "LayoutModel",
            "_view_count": null,
            "_view_module": "@jupyter-widgets/base",
            "_view_module_version": "1.2.0",
            "_view_name": "LayoutView",
            "align_content": null,
            "align_items": null,
            "align_self": null,
            "border": null,
            "bottom": null,
            "display": null,
            "flex": null,
            "flex_flow": null,
            "grid_area": null,
            "grid_auto_columns": null,
            "grid_auto_flow": null,
            "grid_auto_rows": null,
            "grid_column": null,
            "grid_gap": null,
            "grid_row": null,
            "grid_template_areas": null,
            "grid_template_columns": null,
            "grid_template_rows": null,
            "height": null,
            "justify_content": null,
            "justify_items": null,
            "left": null,
            "margin": null,
            "max_height": null,
            "max_width": null,
            "min_height": null,
            "min_width": null,
            "object_fit": null,
            "object_position": null,
            "order": null,
            "overflow": null,
            "overflow_x": null,
            "overflow_y": null,
            "padding": null,
            "right": null,
            "top": null,
            "visibility": null,
            "width": null
          }
        },
        "39a5a90e0f984f999e1157a3ec54b69d": {
          "model_module": "@jupyter-widgets/controls",
          "model_name": "ProgressStyleModel",
          "model_module_version": "1.5.0",
          "state": {
            "_model_module": "@jupyter-widgets/controls",
            "_model_module_version": "1.5.0",
            "_model_name": "ProgressStyleModel",
            "_view_count": null,
            "_view_module": "@jupyter-widgets/base",
            "_view_module_version": "1.2.0",
            "_view_name": "StyleView",
            "bar_color": null,
            "description_width": ""
          }
        },
        "7dc7423fc937430286fd2f5352cfe3b3": {
          "model_module": "@jupyter-widgets/base",
          "model_name": "LayoutModel",
          "model_module_version": "1.2.0",
          "state": {
            "_model_module": "@jupyter-widgets/base",
            "_model_module_version": "1.2.0",
            "_model_name": "LayoutModel",
            "_view_count": null,
            "_view_module": "@jupyter-widgets/base",
            "_view_module_version": "1.2.0",
            "_view_name": "LayoutView",
            "align_content": null,
            "align_items": null,
            "align_self": null,
            "border": null,
            "bottom": null,
            "display": null,
            "flex": null,
            "flex_flow": null,
            "grid_area": null,
            "grid_auto_columns": null,
            "grid_auto_flow": null,
            "grid_auto_rows": null,
            "grid_column": null,
            "grid_gap": null,
            "grid_row": null,
            "grid_template_areas": null,
            "grid_template_columns": null,
            "grid_template_rows": null,
            "height": null,
            "justify_content": null,
            "justify_items": null,
            "left": null,
            "margin": null,
            "max_height": null,
            "max_width": null,
            "min_height": null,
            "min_width": null,
            "object_fit": null,
            "object_position": null,
            "order": null,
            "overflow": null,
            "overflow_x": null,
            "overflow_y": null,
            "padding": null,
            "right": null,
            "top": null,
            "visibility": null,
            "width": null
          }
        },
        "96df0849a04f4dd08c77cf312f79a57c": {
          "model_module": "@jupyter-widgets/controls",
          "model_name": "DescriptionStyleModel",
          "model_module_version": "1.5.0",
          "state": {
            "_model_module": "@jupyter-widgets/controls",
            "_model_module_version": "1.5.0",
            "_model_name": "DescriptionStyleModel",
            "_view_count": null,
            "_view_module": "@jupyter-widgets/base",
            "_view_module_version": "1.2.0",
            "_view_name": "StyleView",
            "description_width": ""
          }
        },
        "9e8b43bb1cc7452cac2ae343ea753a8c": {
          "model_module": "@jupyter-widgets/controls",
          "model_name": "HBoxModel",
          "model_module_version": "1.5.0",
          "state": {
            "_dom_classes": [],
            "_model_module": "@jupyter-widgets/controls",
            "_model_module_version": "1.5.0",
            "_model_name": "HBoxModel",
            "_view_count": null,
            "_view_module": "@jupyter-widgets/controls",
            "_view_module_version": "1.5.0",
            "_view_name": "HBoxView",
            "box_style": "",
            "children": [
              "IPY_MODEL_1c14b393a46347f49b10522028da5da4",
              "IPY_MODEL_85b99f0476944dd08e094f5ca224383c",
              "IPY_MODEL_03c55a2809694cc8a2c220ed97d6772a"
            ],
            "layout": "IPY_MODEL_bfc5ec1f4aaf4fb9a99fa501b41696b5"
          }
        },
        "1c14b393a46347f49b10522028da5da4": {
          "model_module": "@jupyter-widgets/controls",
          "model_name": "HTMLModel",
          "model_module_version": "1.5.0",
          "state": {
            "_dom_classes": [],
            "_model_module": "@jupyter-widgets/controls",
            "_model_module_version": "1.5.0",
            "_model_name": "HTMLModel",
            "_view_count": null,
            "_view_module": "@jupyter-widgets/controls",
            "_view_module_version": "1.5.0",
            "_view_name": "HTMLView",
            "description": "",
            "description_tooltip": null,
            "layout": "IPY_MODEL_754bf986e83c44719d5fa3a507aa39ab",
            "placeholder": "​",
            "style": "IPY_MODEL_4f632b28269e4407b902c7ad0a78bfb6",
            "value": "100%"
          }
        },
        "85b99f0476944dd08e094f5ca224383c": {
          "model_module": "@jupyter-widgets/controls",
          "model_name": "FloatProgressModel",
          "model_module_version": "1.5.0",
          "state": {
            "_dom_classes": [],
            "_model_module": "@jupyter-widgets/controls",
            "_model_module_version": "1.5.0",
            "_model_name": "FloatProgressModel",
            "_view_count": null,
            "_view_module": "@jupyter-widgets/controls",
            "_view_module_version": "1.5.0",
            "_view_name": "ProgressView",
            "bar_style": "success",
            "description": "",
            "description_tooltip": null,
            "layout": "IPY_MODEL_7f898138ed3542cfa49ef3aa8622f96e",
            "max": 1279,
            "min": 0,
            "orientation": "horizontal",
            "style": "IPY_MODEL_0a2f4c9cc11d44269e6cbd0656cf21d1",
            "value": 1279
          }
        },
        "03c55a2809694cc8a2c220ed97d6772a": {
          "model_module": "@jupyter-widgets/controls",
          "model_name": "HTMLModel",
          "model_module_version": "1.5.0",
          "state": {
            "_dom_classes": [],
            "_model_module": "@jupyter-widgets/controls",
            "_model_module_version": "1.5.0",
            "_model_name": "HTMLModel",
            "_view_count": null,
            "_view_module": "@jupyter-widgets/controls",
            "_view_module_version": "1.5.0",
            "_view_name": "HTMLView",
            "description": "",
            "description_tooltip": null,
            "layout": "IPY_MODEL_8b49bc4d19ee421a8c6aa29ff6e76b16",
            "placeholder": "​",
            "style": "IPY_MODEL_623cc2424c0547b981de8b3538360eae",
            "value": " 1279/1279 [01:27&lt;00:00, 14.43it/s]"
          }
        },
        "bfc5ec1f4aaf4fb9a99fa501b41696b5": {
          "model_module": "@jupyter-widgets/base",
          "model_name": "LayoutModel",
          "model_module_version": "1.2.0",
          "state": {
            "_model_module": "@jupyter-widgets/base",
            "_model_module_version": "1.2.0",
            "_model_name": "LayoutModel",
            "_view_count": null,
            "_view_module": "@jupyter-widgets/base",
            "_view_module_version": "1.2.0",
            "_view_name": "LayoutView",
            "align_content": null,
            "align_items": null,
            "align_self": null,
            "border": null,
            "bottom": null,
            "display": null,
            "flex": null,
            "flex_flow": null,
            "grid_area": null,
            "grid_auto_columns": null,
            "grid_auto_flow": null,
            "grid_auto_rows": null,
            "grid_column": null,
            "grid_gap": null,
            "grid_row": null,
            "grid_template_areas": null,
            "grid_template_columns": null,
            "grid_template_rows": null,
            "height": null,
            "justify_content": null,
            "justify_items": null,
            "left": null,
            "margin": null,
            "max_height": null,
            "max_width": null,
            "min_height": null,
            "min_width": null,
            "object_fit": null,
            "object_position": null,
            "order": null,
            "overflow": null,
            "overflow_x": null,
            "overflow_y": null,
            "padding": null,
            "right": null,
            "top": null,
            "visibility": null,
            "width": null
          }
        },
        "754bf986e83c44719d5fa3a507aa39ab": {
          "model_module": "@jupyter-widgets/base",
          "model_name": "LayoutModel",
          "model_module_version": "1.2.0",
          "state": {
            "_model_module": "@jupyter-widgets/base",
            "_model_module_version": "1.2.0",
            "_model_name": "LayoutModel",
            "_view_count": null,
            "_view_module": "@jupyter-widgets/base",
            "_view_module_version": "1.2.0",
            "_view_name": "LayoutView",
            "align_content": null,
            "align_items": null,
            "align_self": null,
            "border": null,
            "bottom": null,
            "display": null,
            "flex": null,
            "flex_flow": null,
            "grid_area": null,
            "grid_auto_columns": null,
            "grid_auto_flow": null,
            "grid_auto_rows": null,
            "grid_column": null,
            "grid_gap": null,
            "grid_row": null,
            "grid_template_areas": null,
            "grid_template_columns": null,
            "grid_template_rows": null,
            "height": null,
            "justify_content": null,
            "justify_items": null,
            "left": null,
            "margin": null,
            "max_height": null,
            "max_width": null,
            "min_height": null,
            "min_width": null,
            "object_fit": null,
            "object_position": null,
            "order": null,
            "overflow": null,
            "overflow_x": null,
            "overflow_y": null,
            "padding": null,
            "right": null,
            "top": null,
            "visibility": null,
            "width": null
          }
        },
        "4f632b28269e4407b902c7ad0a78bfb6": {
          "model_module": "@jupyter-widgets/controls",
          "model_name": "DescriptionStyleModel",
          "model_module_version": "1.5.0",
          "state": {
            "_model_module": "@jupyter-widgets/controls",
            "_model_module_version": "1.5.0",
            "_model_name": "DescriptionStyleModel",
            "_view_count": null,
            "_view_module": "@jupyter-widgets/base",
            "_view_module_version": "1.2.0",
            "_view_name": "StyleView",
            "description_width": ""
          }
        },
        "7f898138ed3542cfa49ef3aa8622f96e": {
          "model_module": "@jupyter-widgets/base",
          "model_name": "LayoutModel",
          "model_module_version": "1.2.0",
          "state": {
            "_model_module": "@jupyter-widgets/base",
            "_model_module_version": "1.2.0",
            "_model_name": "LayoutModel",
            "_view_count": null,
            "_view_module": "@jupyter-widgets/base",
            "_view_module_version": "1.2.0",
            "_view_name": "LayoutView",
            "align_content": null,
            "align_items": null,
            "align_self": null,
            "border": null,
            "bottom": null,
            "display": null,
            "flex": null,
            "flex_flow": null,
            "grid_area": null,
            "grid_auto_columns": null,
            "grid_auto_flow": null,
            "grid_auto_rows": null,
            "grid_column": null,
            "grid_gap": null,
            "grid_row": null,
            "grid_template_areas": null,
            "grid_template_columns": null,
            "grid_template_rows": null,
            "height": null,
            "justify_content": null,
            "justify_items": null,
            "left": null,
            "margin": null,
            "max_height": null,
            "max_width": null,
            "min_height": null,
            "min_width": null,
            "object_fit": null,
            "object_position": null,
            "order": null,
            "overflow": null,
            "overflow_x": null,
            "overflow_y": null,
            "padding": null,
            "right": null,
            "top": null,
            "visibility": null,
            "width": null
          }
        },
        "0a2f4c9cc11d44269e6cbd0656cf21d1": {
          "model_module": "@jupyter-widgets/controls",
          "model_name": "ProgressStyleModel",
          "model_module_version": "1.5.0",
          "state": {
            "_model_module": "@jupyter-widgets/controls",
            "_model_module_version": "1.5.0",
            "_model_name": "ProgressStyleModel",
            "_view_count": null,
            "_view_module": "@jupyter-widgets/base",
            "_view_module_version": "1.2.0",
            "_view_name": "StyleView",
            "bar_color": null,
            "description_width": ""
          }
        },
        "8b49bc4d19ee421a8c6aa29ff6e76b16": {
          "model_module": "@jupyter-widgets/base",
          "model_name": "LayoutModel",
          "model_module_version": "1.2.0",
          "state": {
            "_model_module": "@jupyter-widgets/base",
            "_model_module_version": "1.2.0",
            "_model_name": "LayoutModel",
            "_view_count": null,
            "_view_module": "@jupyter-widgets/base",
            "_view_module_version": "1.2.0",
            "_view_name": "LayoutView",
            "align_content": null,
            "align_items": null,
            "align_self": null,
            "border": null,
            "bottom": null,
            "display": null,
            "flex": null,
            "flex_flow": null,
            "grid_area": null,
            "grid_auto_columns": null,
            "grid_auto_flow": null,
            "grid_auto_rows": null,
            "grid_column": null,
            "grid_gap": null,
            "grid_row": null,
            "grid_template_areas": null,
            "grid_template_columns": null,
            "grid_template_rows": null,
            "height": null,
            "justify_content": null,
            "justify_items": null,
            "left": null,
            "margin": null,
            "max_height": null,
            "max_width": null,
            "min_height": null,
            "min_width": null,
            "object_fit": null,
            "object_position": null,
            "order": null,
            "overflow": null,
            "overflow_x": null,
            "overflow_y": null,
            "padding": null,
            "right": null,
            "top": null,
            "visibility": null,
            "width": null
          }
        },
        "623cc2424c0547b981de8b3538360eae": {
          "model_module": "@jupyter-widgets/controls",
          "model_name": "DescriptionStyleModel",
          "model_module_version": "1.5.0",
          "state": {
            "_model_module": "@jupyter-widgets/controls",
            "_model_module_version": "1.5.0",
            "_model_name": "DescriptionStyleModel",
            "_view_count": null,
            "_view_module": "@jupyter-widgets/base",
            "_view_module_version": "1.2.0",
            "_view_name": "StyleView",
            "description_width": ""
          }
        },
        "11d040f4680943fe8009c8e07fe4f88e": {
          "model_module": "@jupyter-widgets/controls",
          "model_name": "HBoxModel",
          "model_module_version": "1.5.0",
          "state": {
            "_dom_classes": [],
            "_model_module": "@jupyter-widgets/controls",
            "_model_module_version": "1.5.0",
            "_model_name": "HBoxModel",
            "_view_count": null,
            "_view_module": "@jupyter-widgets/controls",
            "_view_module_version": "1.5.0",
            "_view_name": "HBoxView",
            "box_style": "",
            "children": [
              "IPY_MODEL_1be18f1568c94b30a4a0d3aa1e9ee06d",
              "IPY_MODEL_873441b0c12440398277f15e2300beea",
              "IPY_MODEL_7ae594f89c5e4c70a81223e9cd54b8a6"
            ],
            "layout": "IPY_MODEL_e072ba0011d94328a27bda87e4711c79"
          }
        },
        "1be18f1568c94b30a4a0d3aa1e9ee06d": {
          "model_module": "@jupyter-widgets/controls",
          "model_name": "HTMLModel",
          "model_module_version": "1.5.0",
          "state": {
            "_dom_classes": [],
            "_model_module": "@jupyter-widgets/controls",
            "_model_module_version": "1.5.0",
            "_model_name": "HTMLModel",
            "_view_count": null,
            "_view_module": "@jupyter-widgets/controls",
            "_view_module_version": "1.5.0",
            "_view_name": "HTMLView",
            "description": "",
            "description_tooltip": null,
            "layout": "IPY_MODEL_98baaf283dbd443cb8db332dedbba9f2",
            "placeholder": "​",
            "style": "IPY_MODEL_0759cd6252e44d95837565e213c4ffba",
            "value": "100%"
          }
        },
        "873441b0c12440398277f15e2300beea": {
          "model_module": "@jupyter-widgets/controls",
          "model_name": "FloatProgressModel",
          "model_module_version": "1.5.0",
          "state": {
            "_dom_classes": [],
            "_model_module": "@jupyter-widgets/controls",
            "_model_module_version": "1.5.0",
            "_model_name": "FloatProgressModel",
            "_view_count": null,
            "_view_module": "@jupyter-widgets/controls",
            "_view_module_version": "1.5.0",
            "_view_name": "ProgressView",
            "bar_style": "success",
            "description": "",
            "description_tooltip": null,
            "layout": "IPY_MODEL_a8ce75802153453eb6cf3b4bbd1061a8",
            "max": 1514,
            "min": 0,
            "orientation": "horizontal",
            "style": "IPY_MODEL_4b112db1dafa4ea296b608081aff8440",
            "value": 1514
          }
        },
        "7ae594f89c5e4c70a81223e9cd54b8a6": {
          "model_module": "@jupyter-widgets/controls",
          "model_name": "HTMLModel",
          "model_module_version": "1.5.0",
          "state": {
            "_dom_classes": [],
            "_model_module": "@jupyter-widgets/controls",
            "_model_module_version": "1.5.0",
            "_model_name": "HTMLModel",
            "_view_count": null,
            "_view_module": "@jupyter-widgets/controls",
            "_view_module_version": "1.5.0",
            "_view_name": "HTMLView",
            "description": "",
            "description_tooltip": null,
            "layout": "IPY_MODEL_e60099c515b14e0786c36411acc75dd4",
            "placeholder": "​",
            "style": "IPY_MODEL_eacb95765a6e444c8ba1e5a533d2111c",
            "value": " 1514/1514 [01:49&lt;00:00, 13.75it/s]"
          }
        },
        "e072ba0011d94328a27bda87e4711c79": {
          "model_module": "@jupyter-widgets/base",
          "model_name": "LayoutModel",
          "model_module_version": "1.2.0",
          "state": {
            "_model_module": "@jupyter-widgets/base",
            "_model_module_version": "1.2.0",
            "_model_name": "LayoutModel",
            "_view_count": null,
            "_view_module": "@jupyter-widgets/base",
            "_view_module_version": "1.2.0",
            "_view_name": "LayoutView",
            "align_content": null,
            "align_items": null,
            "align_self": null,
            "border": null,
            "bottom": null,
            "display": null,
            "flex": null,
            "flex_flow": null,
            "grid_area": null,
            "grid_auto_columns": null,
            "grid_auto_flow": null,
            "grid_auto_rows": null,
            "grid_column": null,
            "grid_gap": null,
            "grid_row": null,
            "grid_template_areas": null,
            "grid_template_columns": null,
            "grid_template_rows": null,
            "height": null,
            "justify_content": null,
            "justify_items": null,
            "left": null,
            "margin": null,
            "max_height": null,
            "max_width": null,
            "min_height": null,
            "min_width": null,
            "object_fit": null,
            "object_position": null,
            "order": null,
            "overflow": null,
            "overflow_x": null,
            "overflow_y": null,
            "padding": null,
            "right": null,
            "top": null,
            "visibility": null,
            "width": null
          }
        },
        "98baaf283dbd443cb8db332dedbba9f2": {
          "model_module": "@jupyter-widgets/base",
          "model_name": "LayoutModel",
          "model_module_version": "1.2.0",
          "state": {
            "_model_module": "@jupyter-widgets/base",
            "_model_module_version": "1.2.0",
            "_model_name": "LayoutModel",
            "_view_count": null,
            "_view_module": "@jupyter-widgets/base",
            "_view_module_version": "1.2.0",
            "_view_name": "LayoutView",
            "align_content": null,
            "align_items": null,
            "align_self": null,
            "border": null,
            "bottom": null,
            "display": null,
            "flex": null,
            "flex_flow": null,
            "grid_area": null,
            "grid_auto_columns": null,
            "grid_auto_flow": null,
            "grid_auto_rows": null,
            "grid_column": null,
            "grid_gap": null,
            "grid_row": null,
            "grid_template_areas": null,
            "grid_template_columns": null,
            "grid_template_rows": null,
            "height": null,
            "justify_content": null,
            "justify_items": null,
            "left": null,
            "margin": null,
            "max_height": null,
            "max_width": null,
            "min_height": null,
            "min_width": null,
            "object_fit": null,
            "object_position": null,
            "order": null,
            "overflow": null,
            "overflow_x": null,
            "overflow_y": null,
            "padding": null,
            "right": null,
            "top": null,
            "visibility": null,
            "width": null
          }
        },
        "0759cd6252e44d95837565e213c4ffba": {
          "model_module": "@jupyter-widgets/controls",
          "model_name": "DescriptionStyleModel",
          "model_module_version": "1.5.0",
          "state": {
            "_model_module": "@jupyter-widgets/controls",
            "_model_module_version": "1.5.0",
            "_model_name": "DescriptionStyleModel",
            "_view_count": null,
            "_view_module": "@jupyter-widgets/base",
            "_view_module_version": "1.2.0",
            "_view_name": "StyleView",
            "description_width": ""
          }
        },
        "a8ce75802153453eb6cf3b4bbd1061a8": {
          "model_module": "@jupyter-widgets/base",
          "model_name": "LayoutModel",
          "model_module_version": "1.2.0",
          "state": {
            "_model_module": "@jupyter-widgets/base",
            "_model_module_version": "1.2.0",
            "_model_name": "LayoutModel",
            "_view_count": null,
            "_view_module": "@jupyter-widgets/base",
            "_view_module_version": "1.2.0",
            "_view_name": "LayoutView",
            "align_content": null,
            "align_items": null,
            "align_self": null,
            "border": null,
            "bottom": null,
            "display": null,
            "flex": null,
            "flex_flow": null,
            "grid_area": null,
            "grid_auto_columns": null,
            "grid_auto_flow": null,
            "grid_auto_rows": null,
            "grid_column": null,
            "grid_gap": null,
            "grid_row": null,
            "grid_template_areas": null,
            "grid_template_columns": null,
            "grid_template_rows": null,
            "height": null,
            "justify_content": null,
            "justify_items": null,
            "left": null,
            "margin": null,
            "max_height": null,
            "max_width": null,
            "min_height": null,
            "min_width": null,
            "object_fit": null,
            "object_position": null,
            "order": null,
            "overflow": null,
            "overflow_x": null,
            "overflow_y": null,
            "padding": null,
            "right": null,
            "top": null,
            "visibility": null,
            "width": null
          }
        },
        "4b112db1dafa4ea296b608081aff8440": {
          "model_module": "@jupyter-widgets/controls",
          "model_name": "ProgressStyleModel",
          "model_module_version": "1.5.0",
          "state": {
            "_model_module": "@jupyter-widgets/controls",
            "_model_module_version": "1.5.0",
            "_model_name": "ProgressStyleModel",
            "_view_count": null,
            "_view_module": "@jupyter-widgets/base",
            "_view_module_version": "1.2.0",
            "_view_name": "StyleView",
            "bar_color": null,
            "description_width": ""
          }
        },
        "e60099c515b14e0786c36411acc75dd4": {
          "model_module": "@jupyter-widgets/base",
          "model_name": "LayoutModel",
          "model_module_version": "1.2.0",
          "state": {
            "_model_module": "@jupyter-widgets/base",
            "_model_module_version": "1.2.0",
            "_model_name": "LayoutModel",
            "_view_count": null,
            "_view_module": "@jupyter-widgets/base",
            "_view_module_version": "1.2.0",
            "_view_name": "LayoutView",
            "align_content": null,
            "align_items": null,
            "align_self": null,
            "border": null,
            "bottom": null,
            "display": null,
            "flex": null,
            "flex_flow": null,
            "grid_area": null,
            "grid_auto_columns": null,
            "grid_auto_flow": null,
            "grid_auto_rows": null,
            "grid_column": null,
            "grid_gap": null,
            "grid_row": null,
            "grid_template_areas": null,
            "grid_template_columns": null,
            "grid_template_rows": null,
            "height": null,
            "justify_content": null,
            "justify_items": null,
            "left": null,
            "margin": null,
            "max_height": null,
            "max_width": null,
            "min_height": null,
            "min_width": null,
            "object_fit": null,
            "object_position": null,
            "order": null,
            "overflow": null,
            "overflow_x": null,
            "overflow_y": null,
            "padding": null,
            "right": null,
            "top": null,
            "visibility": null,
            "width": null
          }
        },
        "eacb95765a6e444c8ba1e5a533d2111c": {
          "model_module": "@jupyter-widgets/controls",
          "model_name": "DescriptionStyleModel",
          "model_module_version": "1.5.0",
          "state": {
            "_model_module": "@jupyter-widgets/controls",
            "_model_module_version": "1.5.0",
            "_model_name": "DescriptionStyleModel",
            "_view_count": null,
            "_view_module": "@jupyter-widgets/base",
            "_view_module_version": "1.2.0",
            "_view_name": "StyleView",
            "description_width": ""
          }
        },
        "443c1d1977ba41a3b579924d7ac5cb38": {
          "model_module": "@jupyter-widgets/controls",
          "model_name": "HBoxModel",
          "model_module_version": "1.5.0",
          "state": {
            "_dom_classes": [],
            "_model_module": "@jupyter-widgets/controls",
            "_model_module_version": "1.5.0",
            "_model_name": "HBoxModel",
            "_view_count": null,
            "_view_module": "@jupyter-widgets/controls",
            "_view_module_version": "1.5.0",
            "_view_name": "HBoxView",
            "box_style": "",
            "children": [
              "IPY_MODEL_5d106a53329645b1b5769880244e6ac9",
              "IPY_MODEL_8c2b51cfaf83417a8b974aa3c74a2dce",
              "IPY_MODEL_1427246818234e56924627f05807ccd2"
            ],
            "layout": "IPY_MODEL_cdd5783bd87046388148715ccaba5183"
          }
        },
        "5d106a53329645b1b5769880244e6ac9": {
          "model_module": "@jupyter-widgets/controls",
          "model_name": "HTMLModel",
          "model_module_version": "1.5.0",
          "state": {
            "_dom_classes": [],
            "_model_module": "@jupyter-widgets/controls",
            "_model_module_version": "1.5.0",
            "_model_name": "HTMLModel",
            "_view_count": null,
            "_view_module": "@jupyter-widgets/controls",
            "_view_module_version": "1.5.0",
            "_view_name": "HTMLView",
            "description": "",
            "description_tooltip": null,
            "layout": "IPY_MODEL_c7434d51152246f5b8827d6ef55ae300",
            "placeholder": "​",
            "style": "IPY_MODEL_5d91b5111b634e1d947258a7024a07e5",
            "value": "100%"
          }
        },
        "8c2b51cfaf83417a8b974aa3c74a2dce": {
          "model_module": "@jupyter-widgets/controls",
          "model_name": "FloatProgressModel",
          "model_module_version": "1.5.0",
          "state": {
            "_dom_classes": [],
            "_model_module": "@jupyter-widgets/controls",
            "_model_module_version": "1.5.0",
            "_model_name": "FloatProgressModel",
            "_view_count": null,
            "_view_module": "@jupyter-widgets/controls",
            "_view_module_version": "1.5.0",
            "_view_name": "ProgressView",
            "bar_style": "success",
            "description": "",
            "description_tooltip": null,
            "layout": "IPY_MODEL_e0421433ae21453f80cba6dffa160931",
            "max": 1279,
            "min": 0,
            "orientation": "horizontal",
            "style": "IPY_MODEL_ccdd6bc9c368412cbcfab37a725547f3",
            "value": 1279
          }
        },
        "1427246818234e56924627f05807ccd2": {
          "model_module": "@jupyter-widgets/controls",
          "model_name": "HTMLModel",
          "model_module_version": "1.5.0",
          "state": {
            "_dom_classes": [],
            "_model_module": "@jupyter-widgets/controls",
            "_model_module_version": "1.5.0",
            "_model_name": "HTMLModel",
            "_view_count": null,
            "_view_module": "@jupyter-widgets/controls",
            "_view_module_version": "1.5.0",
            "_view_name": "HTMLView",
            "description": "",
            "description_tooltip": null,
            "layout": "IPY_MODEL_98bef4da52e5476eb3038a82f454329a",
            "placeholder": "​",
            "style": "IPY_MODEL_e01d9b9242494553b1af6efe7cd17e00",
            "value": " 1279/1279 [01:07&lt;00:00, 20.03it/s]"
          }
        },
        "cdd5783bd87046388148715ccaba5183": {
          "model_module": "@jupyter-widgets/base",
          "model_name": "LayoutModel",
          "model_module_version": "1.2.0",
          "state": {
            "_model_module": "@jupyter-widgets/base",
            "_model_module_version": "1.2.0",
            "_model_name": "LayoutModel",
            "_view_count": null,
            "_view_module": "@jupyter-widgets/base",
            "_view_module_version": "1.2.0",
            "_view_name": "LayoutView",
            "align_content": null,
            "align_items": null,
            "align_self": null,
            "border": null,
            "bottom": null,
            "display": null,
            "flex": null,
            "flex_flow": null,
            "grid_area": null,
            "grid_auto_columns": null,
            "grid_auto_flow": null,
            "grid_auto_rows": null,
            "grid_column": null,
            "grid_gap": null,
            "grid_row": null,
            "grid_template_areas": null,
            "grid_template_columns": null,
            "grid_template_rows": null,
            "height": null,
            "justify_content": null,
            "justify_items": null,
            "left": null,
            "margin": null,
            "max_height": null,
            "max_width": null,
            "min_height": null,
            "min_width": null,
            "object_fit": null,
            "object_position": null,
            "order": null,
            "overflow": null,
            "overflow_x": null,
            "overflow_y": null,
            "padding": null,
            "right": null,
            "top": null,
            "visibility": null,
            "width": null
          }
        },
        "c7434d51152246f5b8827d6ef55ae300": {
          "model_module": "@jupyter-widgets/base",
          "model_name": "LayoutModel",
          "model_module_version": "1.2.0",
          "state": {
            "_model_module": "@jupyter-widgets/base",
            "_model_module_version": "1.2.0",
            "_model_name": "LayoutModel",
            "_view_count": null,
            "_view_module": "@jupyter-widgets/base",
            "_view_module_version": "1.2.0",
            "_view_name": "LayoutView",
            "align_content": null,
            "align_items": null,
            "align_self": null,
            "border": null,
            "bottom": null,
            "display": null,
            "flex": null,
            "flex_flow": null,
            "grid_area": null,
            "grid_auto_columns": null,
            "grid_auto_flow": null,
            "grid_auto_rows": null,
            "grid_column": null,
            "grid_gap": null,
            "grid_row": null,
            "grid_template_areas": null,
            "grid_template_columns": null,
            "grid_template_rows": null,
            "height": null,
            "justify_content": null,
            "justify_items": null,
            "left": null,
            "margin": null,
            "max_height": null,
            "max_width": null,
            "min_height": null,
            "min_width": null,
            "object_fit": null,
            "object_position": null,
            "order": null,
            "overflow": null,
            "overflow_x": null,
            "overflow_y": null,
            "padding": null,
            "right": null,
            "top": null,
            "visibility": null,
            "width": null
          }
        },
        "5d91b5111b634e1d947258a7024a07e5": {
          "model_module": "@jupyter-widgets/controls",
          "model_name": "DescriptionStyleModel",
          "model_module_version": "1.5.0",
          "state": {
            "_model_module": "@jupyter-widgets/controls",
            "_model_module_version": "1.5.0",
            "_model_name": "DescriptionStyleModel",
            "_view_count": null,
            "_view_module": "@jupyter-widgets/base",
            "_view_module_version": "1.2.0",
            "_view_name": "StyleView",
            "description_width": ""
          }
        },
        "e0421433ae21453f80cba6dffa160931": {
          "model_module": "@jupyter-widgets/base",
          "model_name": "LayoutModel",
          "model_module_version": "1.2.0",
          "state": {
            "_model_module": "@jupyter-widgets/base",
            "_model_module_version": "1.2.0",
            "_model_name": "LayoutModel",
            "_view_count": null,
            "_view_module": "@jupyter-widgets/base",
            "_view_module_version": "1.2.0",
            "_view_name": "LayoutView",
            "align_content": null,
            "align_items": null,
            "align_self": null,
            "border": null,
            "bottom": null,
            "display": null,
            "flex": null,
            "flex_flow": null,
            "grid_area": null,
            "grid_auto_columns": null,
            "grid_auto_flow": null,
            "grid_auto_rows": null,
            "grid_column": null,
            "grid_gap": null,
            "grid_row": null,
            "grid_template_areas": null,
            "grid_template_columns": null,
            "grid_template_rows": null,
            "height": null,
            "justify_content": null,
            "justify_items": null,
            "left": null,
            "margin": null,
            "max_height": null,
            "max_width": null,
            "min_height": null,
            "min_width": null,
            "object_fit": null,
            "object_position": null,
            "order": null,
            "overflow": null,
            "overflow_x": null,
            "overflow_y": null,
            "padding": null,
            "right": null,
            "top": null,
            "visibility": null,
            "width": null
          }
        },
        "ccdd6bc9c368412cbcfab37a725547f3": {
          "model_module": "@jupyter-widgets/controls",
          "model_name": "ProgressStyleModel",
          "model_module_version": "1.5.0",
          "state": {
            "_model_module": "@jupyter-widgets/controls",
            "_model_module_version": "1.5.0",
            "_model_name": "ProgressStyleModel",
            "_view_count": null,
            "_view_module": "@jupyter-widgets/base",
            "_view_module_version": "1.2.0",
            "_view_name": "StyleView",
            "bar_color": null,
            "description_width": ""
          }
        },
        "98bef4da52e5476eb3038a82f454329a": {
          "model_module": "@jupyter-widgets/base",
          "model_name": "LayoutModel",
          "model_module_version": "1.2.0",
          "state": {
            "_model_module": "@jupyter-widgets/base",
            "_model_module_version": "1.2.0",
            "_model_name": "LayoutModel",
            "_view_count": null,
            "_view_module": "@jupyter-widgets/base",
            "_view_module_version": "1.2.0",
            "_view_name": "LayoutView",
            "align_content": null,
            "align_items": null,
            "align_self": null,
            "border": null,
            "bottom": null,
            "display": null,
            "flex": null,
            "flex_flow": null,
            "grid_area": null,
            "grid_auto_columns": null,
            "grid_auto_flow": null,
            "grid_auto_rows": null,
            "grid_column": null,
            "grid_gap": null,
            "grid_row": null,
            "grid_template_areas": null,
            "grid_template_columns": null,
            "grid_template_rows": null,
            "height": null,
            "justify_content": null,
            "justify_items": null,
            "left": null,
            "margin": null,
            "max_height": null,
            "max_width": null,
            "min_height": null,
            "min_width": null,
            "object_fit": null,
            "object_position": null,
            "order": null,
            "overflow": null,
            "overflow_x": null,
            "overflow_y": null,
            "padding": null,
            "right": null,
            "top": null,
            "visibility": null,
            "width": null
          }
        },
        "e01d9b9242494553b1af6efe7cd17e00": {
          "model_module": "@jupyter-widgets/controls",
          "model_name": "DescriptionStyleModel",
          "model_module_version": "1.5.0",
          "state": {
            "_model_module": "@jupyter-widgets/controls",
            "_model_module_version": "1.5.0",
            "_model_name": "DescriptionStyleModel",
            "_view_count": null,
            "_view_module": "@jupyter-widgets/base",
            "_view_module_version": "1.2.0",
            "_view_name": "StyleView",
            "description_width": ""
          }
        },
        "c90488cf70e64329adc8a2c330e3d417": {
          "model_module": "@jupyter-widgets/controls",
          "model_name": "HBoxModel",
          "model_module_version": "1.5.0",
          "state": {
            "_dom_classes": [],
            "_model_module": "@jupyter-widgets/controls",
            "_model_module_version": "1.5.0",
            "_model_name": "HBoxModel",
            "_view_count": null,
            "_view_module": "@jupyter-widgets/controls",
            "_view_module_version": "1.5.0",
            "_view_name": "HBoxView",
            "box_style": "",
            "children": [
              "IPY_MODEL_3fbde33ecc1b42928f8b75b58012fd8b",
              "IPY_MODEL_abf92b53b38e4072817afc130d974844",
              "IPY_MODEL_3917df84993d420480f0dccdab65c9a1"
            ],
            "layout": "IPY_MODEL_5bd5131434404975a1edb5ebd86d8754"
          }
        },
        "3fbde33ecc1b42928f8b75b58012fd8b": {
          "model_module": "@jupyter-widgets/controls",
          "model_name": "HTMLModel",
          "model_module_version": "1.5.0",
          "state": {
            "_dom_classes": [],
            "_model_module": "@jupyter-widgets/controls",
            "_model_module_version": "1.5.0",
            "_model_name": "HTMLModel",
            "_view_count": null,
            "_view_module": "@jupyter-widgets/controls",
            "_view_module_version": "1.5.0",
            "_view_name": "HTMLView",
            "description": "",
            "description_tooltip": null,
            "layout": "IPY_MODEL_8a06852ad11b40ca97818ee3c958262d",
            "placeholder": "​",
            "style": "IPY_MODEL_dc8b78a6483d4df6a8ce8c6c7db0fd68",
            "value": "100%"
          }
        },
        "abf92b53b38e4072817afc130d974844": {
          "model_module": "@jupyter-widgets/controls",
          "model_name": "FloatProgressModel",
          "model_module_version": "1.5.0",
          "state": {
            "_dom_classes": [],
            "_model_module": "@jupyter-widgets/controls",
            "_model_module_version": "1.5.0",
            "_model_name": "FloatProgressModel",
            "_view_count": null,
            "_view_module": "@jupyter-widgets/controls",
            "_view_module_version": "1.5.0",
            "_view_name": "ProgressView",
            "bar_style": "success",
            "description": "",
            "description_tooltip": null,
            "layout": "IPY_MODEL_54e131c7b9bf4530ab28b86df3456111",
            "max": 1514,
            "min": 0,
            "orientation": "horizontal",
            "style": "IPY_MODEL_7da8d0f598f2492eaa707d7fbafb696f",
            "value": 1514
          }
        },
        "3917df84993d420480f0dccdab65c9a1": {
          "model_module": "@jupyter-widgets/controls",
          "model_name": "HTMLModel",
          "model_module_version": "1.5.0",
          "state": {
            "_dom_classes": [],
            "_model_module": "@jupyter-widgets/controls",
            "_model_module_version": "1.5.0",
            "_model_name": "HTMLModel",
            "_view_count": null,
            "_view_module": "@jupyter-widgets/controls",
            "_view_module_version": "1.5.0",
            "_view_name": "HTMLView",
            "description": "",
            "description_tooltip": null,
            "layout": "IPY_MODEL_721a7ed1d83d43e0bb455a67550cd7ed",
            "placeholder": "​",
            "style": "IPY_MODEL_2e26a90ef6db47569e128021f1d974c4",
            "value": " 1514/1514 [01:18&lt;00:00, 20.46it/s]"
          }
        },
        "5bd5131434404975a1edb5ebd86d8754": {
          "model_module": "@jupyter-widgets/base",
          "model_name": "LayoutModel",
          "model_module_version": "1.2.0",
          "state": {
            "_model_module": "@jupyter-widgets/base",
            "_model_module_version": "1.2.0",
            "_model_name": "LayoutModel",
            "_view_count": null,
            "_view_module": "@jupyter-widgets/base",
            "_view_module_version": "1.2.0",
            "_view_name": "LayoutView",
            "align_content": null,
            "align_items": null,
            "align_self": null,
            "border": null,
            "bottom": null,
            "display": null,
            "flex": null,
            "flex_flow": null,
            "grid_area": null,
            "grid_auto_columns": null,
            "grid_auto_flow": null,
            "grid_auto_rows": null,
            "grid_column": null,
            "grid_gap": null,
            "grid_row": null,
            "grid_template_areas": null,
            "grid_template_columns": null,
            "grid_template_rows": null,
            "height": null,
            "justify_content": null,
            "justify_items": null,
            "left": null,
            "margin": null,
            "max_height": null,
            "max_width": null,
            "min_height": null,
            "min_width": null,
            "object_fit": null,
            "object_position": null,
            "order": null,
            "overflow": null,
            "overflow_x": null,
            "overflow_y": null,
            "padding": null,
            "right": null,
            "top": null,
            "visibility": null,
            "width": null
          }
        },
        "8a06852ad11b40ca97818ee3c958262d": {
          "model_module": "@jupyter-widgets/base",
          "model_name": "LayoutModel",
          "model_module_version": "1.2.0",
          "state": {
            "_model_module": "@jupyter-widgets/base",
            "_model_module_version": "1.2.0",
            "_model_name": "LayoutModel",
            "_view_count": null,
            "_view_module": "@jupyter-widgets/base",
            "_view_module_version": "1.2.0",
            "_view_name": "LayoutView",
            "align_content": null,
            "align_items": null,
            "align_self": null,
            "border": null,
            "bottom": null,
            "display": null,
            "flex": null,
            "flex_flow": null,
            "grid_area": null,
            "grid_auto_columns": null,
            "grid_auto_flow": null,
            "grid_auto_rows": null,
            "grid_column": null,
            "grid_gap": null,
            "grid_row": null,
            "grid_template_areas": null,
            "grid_template_columns": null,
            "grid_template_rows": null,
            "height": null,
            "justify_content": null,
            "justify_items": null,
            "left": null,
            "margin": null,
            "max_height": null,
            "max_width": null,
            "min_height": null,
            "min_width": null,
            "object_fit": null,
            "object_position": null,
            "order": null,
            "overflow": null,
            "overflow_x": null,
            "overflow_y": null,
            "padding": null,
            "right": null,
            "top": null,
            "visibility": null,
            "width": null
          }
        },
        "dc8b78a6483d4df6a8ce8c6c7db0fd68": {
          "model_module": "@jupyter-widgets/controls",
          "model_name": "DescriptionStyleModel",
          "model_module_version": "1.5.0",
          "state": {
            "_model_module": "@jupyter-widgets/controls",
            "_model_module_version": "1.5.0",
            "_model_name": "DescriptionStyleModel",
            "_view_count": null,
            "_view_module": "@jupyter-widgets/base",
            "_view_module_version": "1.2.0",
            "_view_name": "StyleView",
            "description_width": ""
          }
        },
        "54e131c7b9bf4530ab28b86df3456111": {
          "model_module": "@jupyter-widgets/base",
          "model_name": "LayoutModel",
          "model_module_version": "1.2.0",
          "state": {
            "_model_module": "@jupyter-widgets/base",
            "_model_module_version": "1.2.0",
            "_model_name": "LayoutModel",
            "_view_count": null,
            "_view_module": "@jupyter-widgets/base",
            "_view_module_version": "1.2.0",
            "_view_name": "LayoutView",
            "align_content": null,
            "align_items": null,
            "align_self": null,
            "border": null,
            "bottom": null,
            "display": null,
            "flex": null,
            "flex_flow": null,
            "grid_area": null,
            "grid_auto_columns": null,
            "grid_auto_flow": null,
            "grid_auto_rows": null,
            "grid_column": null,
            "grid_gap": null,
            "grid_row": null,
            "grid_template_areas": null,
            "grid_template_columns": null,
            "grid_template_rows": null,
            "height": null,
            "justify_content": null,
            "justify_items": null,
            "left": null,
            "margin": null,
            "max_height": null,
            "max_width": null,
            "min_height": null,
            "min_width": null,
            "object_fit": null,
            "object_position": null,
            "order": null,
            "overflow": null,
            "overflow_x": null,
            "overflow_y": null,
            "padding": null,
            "right": null,
            "top": null,
            "visibility": null,
            "width": null
          }
        },
        "7da8d0f598f2492eaa707d7fbafb696f": {
          "model_module": "@jupyter-widgets/controls",
          "model_name": "ProgressStyleModel",
          "model_module_version": "1.5.0",
          "state": {
            "_model_module": "@jupyter-widgets/controls",
            "_model_module_version": "1.5.0",
            "_model_name": "ProgressStyleModel",
            "_view_count": null,
            "_view_module": "@jupyter-widgets/base",
            "_view_module_version": "1.2.0",
            "_view_name": "StyleView",
            "bar_color": null,
            "description_width": ""
          }
        },
        "721a7ed1d83d43e0bb455a67550cd7ed": {
          "model_module": "@jupyter-widgets/base",
          "model_name": "LayoutModel",
          "model_module_version": "1.2.0",
          "state": {
            "_model_module": "@jupyter-widgets/base",
            "_model_module_version": "1.2.0",
            "_model_name": "LayoutModel",
            "_view_count": null,
            "_view_module": "@jupyter-widgets/base",
            "_view_module_version": "1.2.0",
            "_view_name": "LayoutView",
            "align_content": null,
            "align_items": null,
            "align_self": null,
            "border": null,
            "bottom": null,
            "display": null,
            "flex": null,
            "flex_flow": null,
            "grid_area": null,
            "grid_auto_columns": null,
            "grid_auto_flow": null,
            "grid_auto_rows": null,
            "grid_column": null,
            "grid_gap": null,
            "grid_row": null,
            "grid_template_areas": null,
            "grid_template_columns": null,
            "grid_template_rows": null,
            "height": null,
            "justify_content": null,
            "justify_items": null,
            "left": null,
            "margin": null,
            "max_height": null,
            "max_width": null,
            "min_height": null,
            "min_width": null,
            "object_fit": null,
            "object_position": null,
            "order": null,
            "overflow": null,
            "overflow_x": null,
            "overflow_y": null,
            "padding": null,
            "right": null,
            "top": null,
            "visibility": null,
            "width": null
          }
        },
        "2e26a90ef6db47569e128021f1d974c4": {
          "model_module": "@jupyter-widgets/controls",
          "model_name": "DescriptionStyleModel",
          "model_module_version": "1.5.0",
          "state": {
            "_model_module": "@jupyter-widgets/controls",
            "_model_module_version": "1.5.0",
            "_model_name": "DescriptionStyleModel",
            "_view_count": null,
            "_view_module": "@jupyter-widgets/base",
            "_view_module_version": "1.2.0",
            "_view_name": "StyleView",
            "description_width": ""
          }
        },
        "2ac6969019fb49f7929f1685af0200d6": {
          "model_module": "@jupyter-widgets/controls",
          "model_name": "HBoxModel",
          "model_module_version": "1.5.0",
          "state": {
            "_dom_classes": [],
            "_model_module": "@jupyter-widgets/controls",
            "_model_module_version": "1.5.0",
            "_model_name": "HBoxModel",
            "_view_count": null,
            "_view_module": "@jupyter-widgets/controls",
            "_view_module_version": "1.5.0",
            "_view_name": "HBoxView",
            "box_style": "",
            "children": [
              "IPY_MODEL_ccdaae722a1c45ea8366f32bdd518bf0",
              "IPY_MODEL_6a5420887b904b35b1af5cc7bfe58f24",
              "IPY_MODEL_3db478a8871e453db4bf7b3a43e2274c"
            ],
            "layout": "IPY_MODEL_a4fc5af623d54e1a8b019803382be46d"
          }
        },
        "ccdaae722a1c45ea8366f32bdd518bf0": {
          "model_module": "@jupyter-widgets/controls",
          "model_name": "HTMLModel",
          "model_module_version": "1.5.0",
          "state": {
            "_dom_classes": [],
            "_model_module": "@jupyter-widgets/controls",
            "_model_module_version": "1.5.0",
            "_model_name": "HTMLModel",
            "_view_count": null,
            "_view_module": "@jupyter-widgets/controls",
            "_view_module_version": "1.5.0",
            "_view_name": "HTMLView",
            "description": "",
            "description_tooltip": null,
            "layout": "IPY_MODEL_3194e0cbe077491196e3769ce71d0153",
            "placeholder": "​",
            "style": "IPY_MODEL_6a9014a2d0b5488fabf0d881de67eee2",
            "value": "100%"
          }
        },
        "6a5420887b904b35b1af5cc7bfe58f24": {
          "model_module": "@jupyter-widgets/controls",
          "model_name": "FloatProgressModel",
          "model_module_version": "1.5.0",
          "state": {
            "_dom_classes": [],
            "_model_module": "@jupyter-widgets/controls",
            "_model_module_version": "1.5.0",
            "_model_name": "FloatProgressModel",
            "_view_count": null,
            "_view_module": "@jupyter-widgets/controls",
            "_view_module_version": "1.5.0",
            "_view_name": "ProgressView",
            "bar_style": "success",
            "description": "",
            "description_tooltip": null,
            "layout": "IPY_MODEL_36e3db45a53542b6a6fa1047d2795ab0",
            "max": 1279,
            "min": 0,
            "orientation": "horizontal",
            "style": "IPY_MODEL_38601fa59ebf4813978e0ca4dd56ce11",
            "value": 1279
          }
        },
        "3db478a8871e453db4bf7b3a43e2274c": {
          "model_module": "@jupyter-widgets/controls",
          "model_name": "HTMLModel",
          "model_module_version": "1.5.0",
          "state": {
            "_dom_classes": [],
            "_model_module": "@jupyter-widgets/controls",
            "_model_module_version": "1.5.0",
            "_model_name": "HTMLModel",
            "_view_count": null,
            "_view_module": "@jupyter-widgets/controls",
            "_view_module_version": "1.5.0",
            "_view_name": "HTMLView",
            "description": "",
            "description_tooltip": null,
            "layout": "IPY_MODEL_7fe3571879e74de99a3c6f5a84aeb886",
            "placeholder": "​",
            "style": "IPY_MODEL_4ab1ad142a724a3cb664d0dcd8c79492",
            "value": " 1279/1279 [01:15&lt;00:00, 17.03it/s]"
          }
        },
        "a4fc5af623d54e1a8b019803382be46d": {
          "model_module": "@jupyter-widgets/base",
          "model_name": "LayoutModel",
          "model_module_version": "1.2.0",
          "state": {
            "_model_module": "@jupyter-widgets/base",
            "_model_module_version": "1.2.0",
            "_model_name": "LayoutModel",
            "_view_count": null,
            "_view_module": "@jupyter-widgets/base",
            "_view_module_version": "1.2.0",
            "_view_name": "LayoutView",
            "align_content": null,
            "align_items": null,
            "align_self": null,
            "border": null,
            "bottom": null,
            "display": null,
            "flex": null,
            "flex_flow": null,
            "grid_area": null,
            "grid_auto_columns": null,
            "grid_auto_flow": null,
            "grid_auto_rows": null,
            "grid_column": null,
            "grid_gap": null,
            "grid_row": null,
            "grid_template_areas": null,
            "grid_template_columns": null,
            "grid_template_rows": null,
            "height": null,
            "justify_content": null,
            "justify_items": null,
            "left": null,
            "margin": null,
            "max_height": null,
            "max_width": null,
            "min_height": null,
            "min_width": null,
            "object_fit": null,
            "object_position": null,
            "order": null,
            "overflow": null,
            "overflow_x": null,
            "overflow_y": null,
            "padding": null,
            "right": null,
            "top": null,
            "visibility": null,
            "width": null
          }
        },
        "3194e0cbe077491196e3769ce71d0153": {
          "model_module": "@jupyter-widgets/base",
          "model_name": "LayoutModel",
          "model_module_version": "1.2.0",
          "state": {
            "_model_module": "@jupyter-widgets/base",
            "_model_module_version": "1.2.0",
            "_model_name": "LayoutModel",
            "_view_count": null,
            "_view_module": "@jupyter-widgets/base",
            "_view_module_version": "1.2.0",
            "_view_name": "LayoutView",
            "align_content": null,
            "align_items": null,
            "align_self": null,
            "border": null,
            "bottom": null,
            "display": null,
            "flex": null,
            "flex_flow": null,
            "grid_area": null,
            "grid_auto_columns": null,
            "grid_auto_flow": null,
            "grid_auto_rows": null,
            "grid_column": null,
            "grid_gap": null,
            "grid_row": null,
            "grid_template_areas": null,
            "grid_template_columns": null,
            "grid_template_rows": null,
            "height": null,
            "justify_content": null,
            "justify_items": null,
            "left": null,
            "margin": null,
            "max_height": null,
            "max_width": null,
            "min_height": null,
            "min_width": null,
            "object_fit": null,
            "object_position": null,
            "order": null,
            "overflow": null,
            "overflow_x": null,
            "overflow_y": null,
            "padding": null,
            "right": null,
            "top": null,
            "visibility": null,
            "width": null
          }
        },
        "6a9014a2d0b5488fabf0d881de67eee2": {
          "model_module": "@jupyter-widgets/controls",
          "model_name": "DescriptionStyleModel",
          "model_module_version": "1.5.0",
          "state": {
            "_model_module": "@jupyter-widgets/controls",
            "_model_module_version": "1.5.0",
            "_model_name": "DescriptionStyleModel",
            "_view_count": null,
            "_view_module": "@jupyter-widgets/base",
            "_view_module_version": "1.2.0",
            "_view_name": "StyleView",
            "description_width": ""
          }
        },
        "36e3db45a53542b6a6fa1047d2795ab0": {
          "model_module": "@jupyter-widgets/base",
          "model_name": "LayoutModel",
          "model_module_version": "1.2.0",
          "state": {
            "_model_module": "@jupyter-widgets/base",
            "_model_module_version": "1.2.0",
            "_model_name": "LayoutModel",
            "_view_count": null,
            "_view_module": "@jupyter-widgets/base",
            "_view_module_version": "1.2.0",
            "_view_name": "LayoutView",
            "align_content": null,
            "align_items": null,
            "align_self": null,
            "border": null,
            "bottom": null,
            "display": null,
            "flex": null,
            "flex_flow": null,
            "grid_area": null,
            "grid_auto_columns": null,
            "grid_auto_flow": null,
            "grid_auto_rows": null,
            "grid_column": null,
            "grid_gap": null,
            "grid_row": null,
            "grid_template_areas": null,
            "grid_template_columns": null,
            "grid_template_rows": null,
            "height": null,
            "justify_content": null,
            "justify_items": null,
            "left": null,
            "margin": null,
            "max_height": null,
            "max_width": null,
            "min_height": null,
            "min_width": null,
            "object_fit": null,
            "object_position": null,
            "order": null,
            "overflow": null,
            "overflow_x": null,
            "overflow_y": null,
            "padding": null,
            "right": null,
            "top": null,
            "visibility": null,
            "width": null
          }
        },
        "38601fa59ebf4813978e0ca4dd56ce11": {
          "model_module": "@jupyter-widgets/controls",
          "model_name": "ProgressStyleModel",
          "model_module_version": "1.5.0",
          "state": {
            "_model_module": "@jupyter-widgets/controls",
            "_model_module_version": "1.5.0",
            "_model_name": "ProgressStyleModel",
            "_view_count": null,
            "_view_module": "@jupyter-widgets/base",
            "_view_module_version": "1.2.0",
            "_view_name": "StyleView",
            "bar_color": null,
            "description_width": ""
          }
        },
        "7fe3571879e74de99a3c6f5a84aeb886": {
          "model_module": "@jupyter-widgets/base",
          "model_name": "LayoutModel",
          "model_module_version": "1.2.0",
          "state": {
            "_model_module": "@jupyter-widgets/base",
            "_model_module_version": "1.2.0",
            "_model_name": "LayoutModel",
            "_view_count": null,
            "_view_module": "@jupyter-widgets/base",
            "_view_module_version": "1.2.0",
            "_view_name": "LayoutView",
            "align_content": null,
            "align_items": null,
            "align_self": null,
            "border": null,
            "bottom": null,
            "display": null,
            "flex": null,
            "flex_flow": null,
            "grid_area": null,
            "grid_auto_columns": null,
            "grid_auto_flow": null,
            "grid_auto_rows": null,
            "grid_column": null,
            "grid_gap": null,
            "grid_row": null,
            "grid_template_areas": null,
            "grid_template_columns": null,
            "grid_template_rows": null,
            "height": null,
            "justify_content": null,
            "justify_items": null,
            "left": null,
            "margin": null,
            "max_height": null,
            "max_width": null,
            "min_height": null,
            "min_width": null,
            "object_fit": null,
            "object_position": null,
            "order": null,
            "overflow": null,
            "overflow_x": null,
            "overflow_y": null,
            "padding": null,
            "right": null,
            "top": null,
            "visibility": null,
            "width": null
          }
        },
        "4ab1ad142a724a3cb664d0dcd8c79492": {
          "model_module": "@jupyter-widgets/controls",
          "model_name": "DescriptionStyleModel",
          "model_module_version": "1.5.0",
          "state": {
            "_model_module": "@jupyter-widgets/controls",
            "_model_module_version": "1.5.0",
            "_model_name": "DescriptionStyleModel",
            "_view_count": null,
            "_view_module": "@jupyter-widgets/base",
            "_view_module_version": "1.2.0",
            "_view_name": "StyleView",
            "description_width": ""
          }
        },
        "75704f7a304d43069803d3a98a6080b2": {
          "model_module": "@jupyter-widgets/controls",
          "model_name": "HBoxModel",
          "model_module_version": "1.5.0",
          "state": {
            "_dom_classes": [],
            "_model_module": "@jupyter-widgets/controls",
            "_model_module_version": "1.5.0",
            "_model_name": "HBoxModel",
            "_view_count": null,
            "_view_module": "@jupyter-widgets/controls",
            "_view_module_version": "1.5.0",
            "_view_name": "HBoxView",
            "box_style": "",
            "children": [
              "IPY_MODEL_f74da3a293af4407805bca18c99ca258",
              "IPY_MODEL_1c7f8039b213455db95e6c6296223ef0",
              "IPY_MODEL_7b35ae45a78f466e926e260415c95459"
            ],
            "layout": "IPY_MODEL_fba0b7c434ba4d68bc2cd6113e2103d4"
          }
        },
        "f74da3a293af4407805bca18c99ca258": {
          "model_module": "@jupyter-widgets/controls",
          "model_name": "HTMLModel",
          "model_module_version": "1.5.0",
          "state": {
            "_dom_classes": [],
            "_model_module": "@jupyter-widgets/controls",
            "_model_module_version": "1.5.0",
            "_model_name": "HTMLModel",
            "_view_count": null,
            "_view_module": "@jupyter-widgets/controls",
            "_view_module_version": "1.5.0",
            "_view_name": "HTMLView",
            "description": "",
            "description_tooltip": null,
            "layout": "IPY_MODEL_5071f033cb9c4089b9d05d732859bd74",
            "placeholder": "​",
            "style": "IPY_MODEL_9762d685d37f411d9e29cde8f5ada4da",
            "value": "100%"
          }
        },
        "1c7f8039b213455db95e6c6296223ef0": {
          "model_module": "@jupyter-widgets/controls",
          "model_name": "FloatProgressModel",
          "model_module_version": "1.5.0",
          "state": {
            "_dom_classes": [],
            "_model_module": "@jupyter-widgets/controls",
            "_model_module_version": "1.5.0",
            "_model_name": "FloatProgressModel",
            "_view_count": null,
            "_view_module": "@jupyter-widgets/controls",
            "_view_module_version": "1.5.0",
            "_view_name": "ProgressView",
            "bar_style": "success",
            "description": "",
            "description_tooltip": null,
            "layout": "IPY_MODEL_4455e273b0aa47ab909f6a198d24b8b3",
            "max": 1514,
            "min": 0,
            "orientation": "horizontal",
            "style": "IPY_MODEL_913610d3466245509a303a2faf252371",
            "value": 1514
          }
        },
        "7b35ae45a78f466e926e260415c95459": {
          "model_module": "@jupyter-widgets/controls",
          "model_name": "HTMLModel",
          "model_module_version": "1.5.0",
          "state": {
            "_dom_classes": [],
            "_model_module": "@jupyter-widgets/controls",
            "_model_module_version": "1.5.0",
            "_model_name": "HTMLModel",
            "_view_count": null,
            "_view_module": "@jupyter-widgets/controls",
            "_view_module_version": "1.5.0",
            "_view_name": "HTMLView",
            "description": "",
            "description_tooltip": null,
            "layout": "IPY_MODEL_528d8c9c1f6d4525b406cb4879fa03f7",
            "placeholder": "​",
            "style": "IPY_MODEL_53060b721693484ebfb318f743cce95d",
            "value": " 1514/1514 [01:30&lt;00:00, 17.04it/s]"
          }
        },
        "fba0b7c434ba4d68bc2cd6113e2103d4": {
          "model_module": "@jupyter-widgets/base",
          "model_name": "LayoutModel",
          "model_module_version": "1.2.0",
          "state": {
            "_model_module": "@jupyter-widgets/base",
            "_model_module_version": "1.2.0",
            "_model_name": "LayoutModel",
            "_view_count": null,
            "_view_module": "@jupyter-widgets/base",
            "_view_module_version": "1.2.0",
            "_view_name": "LayoutView",
            "align_content": null,
            "align_items": null,
            "align_self": null,
            "border": null,
            "bottom": null,
            "display": null,
            "flex": null,
            "flex_flow": null,
            "grid_area": null,
            "grid_auto_columns": null,
            "grid_auto_flow": null,
            "grid_auto_rows": null,
            "grid_column": null,
            "grid_gap": null,
            "grid_row": null,
            "grid_template_areas": null,
            "grid_template_columns": null,
            "grid_template_rows": null,
            "height": null,
            "justify_content": null,
            "justify_items": null,
            "left": null,
            "margin": null,
            "max_height": null,
            "max_width": null,
            "min_height": null,
            "min_width": null,
            "object_fit": null,
            "object_position": null,
            "order": null,
            "overflow": null,
            "overflow_x": null,
            "overflow_y": null,
            "padding": null,
            "right": null,
            "top": null,
            "visibility": null,
            "width": null
          }
        },
        "5071f033cb9c4089b9d05d732859bd74": {
          "model_module": "@jupyter-widgets/base",
          "model_name": "LayoutModel",
          "model_module_version": "1.2.0",
          "state": {
            "_model_module": "@jupyter-widgets/base",
            "_model_module_version": "1.2.0",
            "_model_name": "LayoutModel",
            "_view_count": null,
            "_view_module": "@jupyter-widgets/base",
            "_view_module_version": "1.2.0",
            "_view_name": "LayoutView",
            "align_content": null,
            "align_items": null,
            "align_self": null,
            "border": null,
            "bottom": null,
            "display": null,
            "flex": null,
            "flex_flow": null,
            "grid_area": null,
            "grid_auto_columns": null,
            "grid_auto_flow": null,
            "grid_auto_rows": null,
            "grid_column": null,
            "grid_gap": null,
            "grid_row": null,
            "grid_template_areas": null,
            "grid_template_columns": null,
            "grid_template_rows": null,
            "height": null,
            "justify_content": null,
            "justify_items": null,
            "left": null,
            "margin": null,
            "max_height": null,
            "max_width": null,
            "min_height": null,
            "min_width": null,
            "object_fit": null,
            "object_position": null,
            "order": null,
            "overflow": null,
            "overflow_x": null,
            "overflow_y": null,
            "padding": null,
            "right": null,
            "top": null,
            "visibility": null,
            "width": null
          }
        },
        "9762d685d37f411d9e29cde8f5ada4da": {
          "model_module": "@jupyter-widgets/controls",
          "model_name": "DescriptionStyleModel",
          "model_module_version": "1.5.0",
          "state": {
            "_model_module": "@jupyter-widgets/controls",
            "_model_module_version": "1.5.0",
            "_model_name": "DescriptionStyleModel",
            "_view_count": null,
            "_view_module": "@jupyter-widgets/base",
            "_view_module_version": "1.2.0",
            "_view_name": "StyleView",
            "description_width": ""
          }
        },
        "4455e273b0aa47ab909f6a198d24b8b3": {
          "model_module": "@jupyter-widgets/base",
          "model_name": "LayoutModel",
          "model_module_version": "1.2.0",
          "state": {
            "_model_module": "@jupyter-widgets/base",
            "_model_module_version": "1.2.0",
            "_model_name": "LayoutModel",
            "_view_count": null,
            "_view_module": "@jupyter-widgets/base",
            "_view_module_version": "1.2.0",
            "_view_name": "LayoutView",
            "align_content": null,
            "align_items": null,
            "align_self": null,
            "border": null,
            "bottom": null,
            "display": null,
            "flex": null,
            "flex_flow": null,
            "grid_area": null,
            "grid_auto_columns": null,
            "grid_auto_flow": null,
            "grid_auto_rows": null,
            "grid_column": null,
            "grid_gap": null,
            "grid_row": null,
            "grid_template_areas": null,
            "grid_template_columns": null,
            "grid_template_rows": null,
            "height": null,
            "justify_content": null,
            "justify_items": null,
            "left": null,
            "margin": null,
            "max_height": null,
            "max_width": null,
            "min_height": null,
            "min_width": null,
            "object_fit": null,
            "object_position": null,
            "order": null,
            "overflow": null,
            "overflow_x": null,
            "overflow_y": null,
            "padding": null,
            "right": null,
            "top": null,
            "visibility": null,
            "width": null
          }
        },
        "913610d3466245509a303a2faf252371": {
          "model_module": "@jupyter-widgets/controls",
          "model_name": "ProgressStyleModel",
          "model_module_version": "1.5.0",
          "state": {
            "_model_module": "@jupyter-widgets/controls",
            "_model_module_version": "1.5.0",
            "_model_name": "ProgressStyleModel",
            "_view_count": null,
            "_view_module": "@jupyter-widgets/base",
            "_view_module_version": "1.2.0",
            "_view_name": "StyleView",
            "bar_color": null,
            "description_width": ""
          }
        },
        "528d8c9c1f6d4525b406cb4879fa03f7": {
          "model_module": "@jupyter-widgets/base",
          "model_name": "LayoutModel",
          "model_module_version": "1.2.0",
          "state": {
            "_model_module": "@jupyter-widgets/base",
            "_model_module_version": "1.2.0",
            "_model_name": "LayoutModel",
            "_view_count": null,
            "_view_module": "@jupyter-widgets/base",
            "_view_module_version": "1.2.0",
            "_view_name": "LayoutView",
            "align_content": null,
            "align_items": null,
            "align_self": null,
            "border": null,
            "bottom": null,
            "display": null,
            "flex": null,
            "flex_flow": null,
            "grid_area": null,
            "grid_auto_columns": null,
            "grid_auto_flow": null,
            "grid_auto_rows": null,
            "grid_column": null,
            "grid_gap": null,
            "grid_row": null,
            "grid_template_areas": null,
            "grid_template_columns": null,
            "grid_template_rows": null,
            "height": null,
            "justify_content": null,
            "justify_items": null,
            "left": null,
            "margin": null,
            "max_height": null,
            "max_width": null,
            "min_height": null,
            "min_width": null,
            "object_fit": null,
            "object_position": null,
            "order": null,
            "overflow": null,
            "overflow_x": null,
            "overflow_y": null,
            "padding": null,
            "right": null,
            "top": null,
            "visibility": null,
            "width": null
          }
        },
        "53060b721693484ebfb318f743cce95d": {
          "model_module": "@jupyter-widgets/controls",
          "model_name": "DescriptionStyleModel",
          "model_module_version": "1.5.0",
          "state": {
            "_model_module": "@jupyter-widgets/controls",
            "_model_module_version": "1.5.0",
            "_model_name": "DescriptionStyleModel",
            "_view_count": null,
            "_view_module": "@jupyter-widgets/base",
            "_view_module_version": "1.2.0",
            "_view_name": "StyleView",
            "description_width": ""
          }
        },
        "5ed4e4f713a3402e978656703336c241": {
          "model_module": "@jupyter-widgets/controls",
          "model_name": "HBoxModel",
          "model_module_version": "1.5.0",
          "state": {
            "_dom_classes": [],
            "_model_module": "@jupyter-widgets/controls",
            "_model_module_version": "1.5.0",
            "_model_name": "HBoxModel",
            "_view_count": null,
            "_view_module": "@jupyter-widgets/controls",
            "_view_module_version": "1.5.0",
            "_view_name": "HBoxView",
            "box_style": "",
            "children": [
              "IPY_MODEL_58498c3f108a475f85dc8422d4c98c27",
              "IPY_MODEL_14d2142d4a13468ca38d20d5e0cb7590",
              "IPY_MODEL_97f0c90430554f0a8b20a2556a37b0f4"
            ],
            "layout": "IPY_MODEL_881f23a9c6cb4773a7cb1774e888b539"
          }
        },
        "58498c3f108a475f85dc8422d4c98c27": {
          "model_module": "@jupyter-widgets/controls",
          "model_name": "HTMLModel",
          "model_module_version": "1.5.0",
          "state": {
            "_dom_classes": [],
            "_model_module": "@jupyter-widgets/controls",
            "_model_module_version": "1.5.0",
            "_model_name": "HTMLModel",
            "_view_count": null,
            "_view_module": "@jupyter-widgets/controls",
            "_view_module_version": "1.5.0",
            "_view_name": "HTMLView",
            "description": "",
            "description_tooltip": null,
            "layout": "IPY_MODEL_f0b09a8c613c403588b8abdad4227c14",
            "placeholder": "​",
            "style": "IPY_MODEL_21289bc234994bd79337c72ff9a37403",
            "value": " 67%"
          }
        },
        "14d2142d4a13468ca38d20d5e0cb7590": {
          "model_module": "@jupyter-widgets/controls",
          "model_name": "FloatProgressModel",
          "model_module_version": "1.5.0",
          "state": {
            "_dom_classes": [],
            "_model_module": "@jupyter-widgets/controls",
            "_model_module_version": "1.5.0",
            "_model_name": "FloatProgressModel",
            "_view_count": null,
            "_view_module": "@jupyter-widgets/controls",
            "_view_module_version": "1.5.0",
            "_view_name": "ProgressView",
            "bar_style": "",
            "description": "",
            "description_tooltip": null,
            "layout": "IPY_MODEL_699859f82b944eff93bc38ad979fa0e0",
            "max": 1279,
            "min": 0,
            "orientation": "horizontal",
            "style": "IPY_MODEL_778f83d0fcdc4d8fbb7785c6343edeb0",
            "value": 852
          }
        },
        "97f0c90430554f0a8b20a2556a37b0f4": {
          "model_module": "@jupyter-widgets/controls",
          "model_name": "HTMLModel",
          "model_module_version": "1.5.0",
          "state": {
            "_dom_classes": [],
            "_model_module": "@jupyter-widgets/controls",
            "_model_module_version": "1.5.0",
            "_model_name": "HTMLModel",
            "_view_count": null,
            "_view_module": "@jupyter-widgets/controls",
            "_view_module_version": "1.5.0",
            "_view_name": "HTMLView",
            "description": "",
            "description_tooltip": null,
            "layout": "IPY_MODEL_228e27ebcb524fef9f156803a9e392e1",
            "placeholder": "​",
            "style": "IPY_MODEL_40c22353770143e0afd22d2136038f26",
            "value": " 852/1279 [00:54&lt;00:27, 15.78it/s]"
          }
        },
        "881f23a9c6cb4773a7cb1774e888b539": {
          "model_module": "@jupyter-widgets/base",
          "model_name": "LayoutModel",
          "model_module_version": "1.2.0",
          "state": {
            "_model_module": "@jupyter-widgets/base",
            "_model_module_version": "1.2.0",
            "_model_name": "LayoutModel",
            "_view_count": null,
            "_view_module": "@jupyter-widgets/base",
            "_view_module_version": "1.2.0",
            "_view_name": "LayoutView",
            "align_content": null,
            "align_items": null,
            "align_self": null,
            "border": null,
            "bottom": null,
            "display": null,
            "flex": null,
            "flex_flow": null,
            "grid_area": null,
            "grid_auto_columns": null,
            "grid_auto_flow": null,
            "grid_auto_rows": null,
            "grid_column": null,
            "grid_gap": null,
            "grid_row": null,
            "grid_template_areas": null,
            "grid_template_columns": null,
            "grid_template_rows": null,
            "height": null,
            "justify_content": null,
            "justify_items": null,
            "left": null,
            "margin": null,
            "max_height": null,
            "max_width": null,
            "min_height": null,
            "min_width": null,
            "object_fit": null,
            "object_position": null,
            "order": null,
            "overflow": null,
            "overflow_x": null,
            "overflow_y": null,
            "padding": null,
            "right": null,
            "top": null,
            "visibility": null,
            "width": null
          }
        },
        "f0b09a8c613c403588b8abdad4227c14": {
          "model_module": "@jupyter-widgets/base",
          "model_name": "LayoutModel",
          "model_module_version": "1.2.0",
          "state": {
            "_model_module": "@jupyter-widgets/base",
            "_model_module_version": "1.2.0",
            "_model_name": "LayoutModel",
            "_view_count": null,
            "_view_module": "@jupyter-widgets/base",
            "_view_module_version": "1.2.0",
            "_view_name": "LayoutView",
            "align_content": null,
            "align_items": null,
            "align_self": null,
            "border": null,
            "bottom": null,
            "display": null,
            "flex": null,
            "flex_flow": null,
            "grid_area": null,
            "grid_auto_columns": null,
            "grid_auto_flow": null,
            "grid_auto_rows": null,
            "grid_column": null,
            "grid_gap": null,
            "grid_row": null,
            "grid_template_areas": null,
            "grid_template_columns": null,
            "grid_template_rows": null,
            "height": null,
            "justify_content": null,
            "justify_items": null,
            "left": null,
            "margin": null,
            "max_height": null,
            "max_width": null,
            "min_height": null,
            "min_width": null,
            "object_fit": null,
            "object_position": null,
            "order": null,
            "overflow": null,
            "overflow_x": null,
            "overflow_y": null,
            "padding": null,
            "right": null,
            "top": null,
            "visibility": null,
            "width": null
          }
        },
        "21289bc234994bd79337c72ff9a37403": {
          "model_module": "@jupyter-widgets/controls",
          "model_name": "DescriptionStyleModel",
          "model_module_version": "1.5.0",
          "state": {
            "_model_module": "@jupyter-widgets/controls",
            "_model_module_version": "1.5.0",
            "_model_name": "DescriptionStyleModel",
            "_view_count": null,
            "_view_module": "@jupyter-widgets/base",
            "_view_module_version": "1.2.0",
            "_view_name": "StyleView",
            "description_width": ""
          }
        },
        "699859f82b944eff93bc38ad979fa0e0": {
          "model_module": "@jupyter-widgets/base",
          "model_name": "LayoutModel",
          "model_module_version": "1.2.0",
          "state": {
            "_model_module": "@jupyter-widgets/base",
            "_model_module_version": "1.2.0",
            "_model_name": "LayoutModel",
            "_view_count": null,
            "_view_module": "@jupyter-widgets/base",
            "_view_module_version": "1.2.0",
            "_view_name": "LayoutView",
            "align_content": null,
            "align_items": null,
            "align_self": null,
            "border": null,
            "bottom": null,
            "display": null,
            "flex": null,
            "flex_flow": null,
            "grid_area": null,
            "grid_auto_columns": null,
            "grid_auto_flow": null,
            "grid_auto_rows": null,
            "grid_column": null,
            "grid_gap": null,
            "grid_row": null,
            "grid_template_areas": null,
            "grid_template_columns": null,
            "grid_template_rows": null,
            "height": null,
            "justify_content": null,
            "justify_items": null,
            "left": null,
            "margin": null,
            "max_height": null,
            "max_width": null,
            "min_height": null,
            "min_width": null,
            "object_fit": null,
            "object_position": null,
            "order": null,
            "overflow": null,
            "overflow_x": null,
            "overflow_y": null,
            "padding": null,
            "right": null,
            "top": null,
            "visibility": null,
            "width": null
          }
        },
        "778f83d0fcdc4d8fbb7785c6343edeb0": {
          "model_module": "@jupyter-widgets/controls",
          "model_name": "ProgressStyleModel",
          "model_module_version": "1.5.0",
          "state": {
            "_model_module": "@jupyter-widgets/controls",
            "_model_module_version": "1.5.0",
            "_model_name": "ProgressStyleModel",
            "_view_count": null,
            "_view_module": "@jupyter-widgets/base",
            "_view_module_version": "1.2.0",
            "_view_name": "StyleView",
            "bar_color": null,
            "description_width": ""
          }
        },
        "228e27ebcb524fef9f156803a9e392e1": {
          "model_module": "@jupyter-widgets/base",
          "model_name": "LayoutModel",
          "model_module_version": "1.2.0",
          "state": {
            "_model_module": "@jupyter-widgets/base",
            "_model_module_version": "1.2.0",
            "_model_name": "LayoutModel",
            "_view_count": null,
            "_view_module": "@jupyter-widgets/base",
            "_view_module_version": "1.2.0",
            "_view_name": "LayoutView",
            "align_content": null,
            "align_items": null,
            "align_self": null,
            "border": null,
            "bottom": null,
            "display": null,
            "flex": null,
            "flex_flow": null,
            "grid_area": null,
            "grid_auto_columns": null,
            "grid_auto_flow": null,
            "grid_auto_rows": null,
            "grid_column": null,
            "grid_gap": null,
            "grid_row": null,
            "grid_template_areas": null,
            "grid_template_columns": null,
            "grid_template_rows": null,
            "height": null,
            "justify_content": null,
            "justify_items": null,
            "left": null,
            "margin": null,
            "max_height": null,
            "max_width": null,
            "min_height": null,
            "min_width": null,
            "object_fit": null,
            "object_position": null,
            "order": null,
            "overflow": null,
            "overflow_x": null,
            "overflow_y": null,
            "padding": null,
            "right": null,
            "top": null,
            "visibility": null,
            "width": null
          }
        },
        "40c22353770143e0afd22d2136038f26": {
          "model_module": "@jupyter-widgets/controls",
          "model_name": "DescriptionStyleModel",
          "model_module_version": "1.5.0",
          "state": {
            "_model_module": "@jupyter-widgets/controls",
            "_model_module_version": "1.5.0",
            "_model_name": "DescriptionStyleModel",
            "_view_count": null,
            "_view_module": "@jupyter-widgets/base",
            "_view_module_version": "1.2.0",
            "_view_name": "StyleView",
            "description_width": ""
          }
        },
        "d5b2e16113444f80ab8f69633a912591": {
          "model_module": "@jupyter-widgets/controls",
          "model_name": "HBoxModel",
          "model_module_version": "1.5.0",
          "state": {
            "_dom_classes": [],
            "_model_module": "@jupyter-widgets/controls",
            "_model_module_version": "1.5.0",
            "_model_name": "HBoxModel",
            "_view_count": null,
            "_view_module": "@jupyter-widgets/controls",
            "_view_module_version": "1.5.0",
            "_view_name": "HBoxView",
            "box_style": "",
            "children": [
              "IPY_MODEL_882f259d8c5e4519b07219749ebaeaf9",
              "IPY_MODEL_77a18f52ca0c48029a923146a7ac6e15",
              "IPY_MODEL_c3a09b5e463446afb2d130c3ddb37352"
            ],
            "layout": "IPY_MODEL_9679f13cc55e494faa0ce39d4cd5807f"
          }
        },
        "882f259d8c5e4519b07219749ebaeaf9": {
          "model_module": "@jupyter-widgets/controls",
          "model_name": "HTMLModel",
          "model_module_version": "1.5.0",
          "state": {
            "_dom_classes": [],
            "_model_module": "@jupyter-widgets/controls",
            "_model_module_version": "1.5.0",
            "_model_name": "HTMLModel",
            "_view_count": null,
            "_view_module": "@jupyter-widgets/controls",
            "_view_module_version": "1.5.0",
            "_view_name": "HTMLView",
            "description": "",
            "description_tooltip": null,
            "layout": "IPY_MODEL_8000c01061244a0a868f58b8489a0175",
            "placeholder": "​",
            "style": "IPY_MODEL_82eb638da7cc4efeb3ea728bf5a61bef",
            "value": "100%"
          }
        },
        "77a18f52ca0c48029a923146a7ac6e15": {
          "model_module": "@jupyter-widgets/controls",
          "model_name": "FloatProgressModel",
          "model_module_version": "1.5.0",
          "state": {
            "_dom_classes": [],
            "_model_module": "@jupyter-widgets/controls",
            "_model_module_version": "1.5.0",
            "_model_name": "FloatProgressModel",
            "_view_count": null,
            "_view_module": "@jupyter-widgets/controls",
            "_view_module_version": "1.5.0",
            "_view_name": "ProgressView",
            "bar_style": "success",
            "description": "",
            "description_tooltip": null,
            "layout": "IPY_MODEL_c279efd5e9a54113a10e2e05f134ef20",
            "max": 1279,
            "min": 0,
            "orientation": "horizontal",
            "style": "IPY_MODEL_9703f25c85f444b18b5a7abfad580f40",
            "value": 1279
          }
        },
        "c3a09b5e463446afb2d130c3ddb37352": {
          "model_module": "@jupyter-widgets/controls",
          "model_name": "HTMLModel",
          "model_module_version": "1.5.0",
          "state": {
            "_dom_classes": [],
            "_model_module": "@jupyter-widgets/controls",
            "_model_module_version": "1.5.0",
            "_model_name": "HTMLModel",
            "_view_count": null,
            "_view_module": "@jupyter-widgets/controls",
            "_view_module_version": "1.5.0",
            "_view_name": "HTMLView",
            "description": "",
            "description_tooltip": null,
            "layout": "IPY_MODEL_d3a617e744664ea595afc39c65abe916",
            "placeholder": "​",
            "style": "IPY_MODEL_07729b10600f4dd1ba0b708bfc585ff5",
            "value": " 1279/1279 [01:09&lt;00:00, 18.54it/s]"
          }
        },
        "9679f13cc55e494faa0ce39d4cd5807f": {
          "model_module": "@jupyter-widgets/base",
          "model_name": "LayoutModel",
          "model_module_version": "1.2.0",
          "state": {
            "_model_module": "@jupyter-widgets/base",
            "_model_module_version": "1.2.0",
            "_model_name": "LayoutModel",
            "_view_count": null,
            "_view_module": "@jupyter-widgets/base",
            "_view_module_version": "1.2.0",
            "_view_name": "LayoutView",
            "align_content": null,
            "align_items": null,
            "align_self": null,
            "border": null,
            "bottom": null,
            "display": null,
            "flex": null,
            "flex_flow": null,
            "grid_area": null,
            "grid_auto_columns": null,
            "grid_auto_flow": null,
            "grid_auto_rows": null,
            "grid_column": null,
            "grid_gap": null,
            "grid_row": null,
            "grid_template_areas": null,
            "grid_template_columns": null,
            "grid_template_rows": null,
            "height": null,
            "justify_content": null,
            "justify_items": null,
            "left": null,
            "margin": null,
            "max_height": null,
            "max_width": null,
            "min_height": null,
            "min_width": null,
            "object_fit": null,
            "object_position": null,
            "order": null,
            "overflow": null,
            "overflow_x": null,
            "overflow_y": null,
            "padding": null,
            "right": null,
            "top": null,
            "visibility": null,
            "width": null
          }
        },
        "8000c01061244a0a868f58b8489a0175": {
          "model_module": "@jupyter-widgets/base",
          "model_name": "LayoutModel",
          "model_module_version": "1.2.0",
          "state": {
            "_model_module": "@jupyter-widgets/base",
            "_model_module_version": "1.2.0",
            "_model_name": "LayoutModel",
            "_view_count": null,
            "_view_module": "@jupyter-widgets/base",
            "_view_module_version": "1.2.0",
            "_view_name": "LayoutView",
            "align_content": null,
            "align_items": null,
            "align_self": null,
            "border": null,
            "bottom": null,
            "display": null,
            "flex": null,
            "flex_flow": null,
            "grid_area": null,
            "grid_auto_columns": null,
            "grid_auto_flow": null,
            "grid_auto_rows": null,
            "grid_column": null,
            "grid_gap": null,
            "grid_row": null,
            "grid_template_areas": null,
            "grid_template_columns": null,
            "grid_template_rows": null,
            "height": null,
            "justify_content": null,
            "justify_items": null,
            "left": null,
            "margin": null,
            "max_height": null,
            "max_width": null,
            "min_height": null,
            "min_width": null,
            "object_fit": null,
            "object_position": null,
            "order": null,
            "overflow": null,
            "overflow_x": null,
            "overflow_y": null,
            "padding": null,
            "right": null,
            "top": null,
            "visibility": null,
            "width": null
          }
        },
        "82eb638da7cc4efeb3ea728bf5a61bef": {
          "model_module": "@jupyter-widgets/controls",
          "model_name": "DescriptionStyleModel",
          "model_module_version": "1.5.0",
          "state": {
            "_model_module": "@jupyter-widgets/controls",
            "_model_module_version": "1.5.0",
            "_model_name": "DescriptionStyleModel",
            "_view_count": null,
            "_view_module": "@jupyter-widgets/base",
            "_view_module_version": "1.2.0",
            "_view_name": "StyleView",
            "description_width": ""
          }
        },
        "c279efd5e9a54113a10e2e05f134ef20": {
          "model_module": "@jupyter-widgets/base",
          "model_name": "LayoutModel",
          "model_module_version": "1.2.0",
          "state": {
            "_model_module": "@jupyter-widgets/base",
            "_model_module_version": "1.2.0",
            "_model_name": "LayoutModel",
            "_view_count": null,
            "_view_module": "@jupyter-widgets/base",
            "_view_module_version": "1.2.0",
            "_view_name": "LayoutView",
            "align_content": null,
            "align_items": null,
            "align_self": null,
            "border": null,
            "bottom": null,
            "display": null,
            "flex": null,
            "flex_flow": null,
            "grid_area": null,
            "grid_auto_columns": null,
            "grid_auto_flow": null,
            "grid_auto_rows": null,
            "grid_column": null,
            "grid_gap": null,
            "grid_row": null,
            "grid_template_areas": null,
            "grid_template_columns": null,
            "grid_template_rows": null,
            "height": null,
            "justify_content": null,
            "justify_items": null,
            "left": null,
            "margin": null,
            "max_height": null,
            "max_width": null,
            "min_height": null,
            "min_width": null,
            "object_fit": null,
            "object_position": null,
            "order": null,
            "overflow": null,
            "overflow_x": null,
            "overflow_y": null,
            "padding": null,
            "right": null,
            "top": null,
            "visibility": null,
            "width": null
          }
        },
        "9703f25c85f444b18b5a7abfad580f40": {
          "model_module": "@jupyter-widgets/controls",
          "model_name": "ProgressStyleModel",
          "model_module_version": "1.5.0",
          "state": {
            "_model_module": "@jupyter-widgets/controls",
            "_model_module_version": "1.5.0",
            "_model_name": "ProgressStyleModel",
            "_view_count": null,
            "_view_module": "@jupyter-widgets/base",
            "_view_module_version": "1.2.0",
            "_view_name": "StyleView",
            "bar_color": null,
            "description_width": ""
          }
        },
        "d3a617e744664ea595afc39c65abe916": {
          "model_module": "@jupyter-widgets/base",
          "model_name": "LayoutModel",
          "model_module_version": "1.2.0",
          "state": {
            "_model_module": "@jupyter-widgets/base",
            "_model_module_version": "1.2.0",
            "_model_name": "LayoutModel",
            "_view_count": null,
            "_view_module": "@jupyter-widgets/base",
            "_view_module_version": "1.2.0",
            "_view_name": "LayoutView",
            "align_content": null,
            "align_items": null,
            "align_self": null,
            "border": null,
            "bottom": null,
            "display": null,
            "flex": null,
            "flex_flow": null,
            "grid_area": null,
            "grid_auto_columns": null,
            "grid_auto_flow": null,
            "grid_auto_rows": null,
            "grid_column": null,
            "grid_gap": null,
            "grid_row": null,
            "grid_template_areas": null,
            "grid_template_columns": null,
            "grid_template_rows": null,
            "height": null,
            "justify_content": null,
            "justify_items": null,
            "left": null,
            "margin": null,
            "max_height": null,
            "max_width": null,
            "min_height": null,
            "min_width": null,
            "object_fit": null,
            "object_position": null,
            "order": null,
            "overflow": null,
            "overflow_x": null,
            "overflow_y": null,
            "padding": null,
            "right": null,
            "top": null,
            "visibility": null,
            "width": null
          }
        },
        "07729b10600f4dd1ba0b708bfc585ff5": {
          "model_module": "@jupyter-widgets/controls",
          "model_name": "DescriptionStyleModel",
          "model_module_version": "1.5.0",
          "state": {
            "_model_module": "@jupyter-widgets/controls",
            "_model_module_version": "1.5.0",
            "_model_name": "DescriptionStyleModel",
            "_view_count": null,
            "_view_module": "@jupyter-widgets/base",
            "_view_module_version": "1.2.0",
            "_view_name": "StyleView",
            "description_width": ""
          }
        },
        "7b1114c597b84df89835baf703bb0802": {
          "model_module": "@jupyter-widgets/controls",
          "model_name": "HBoxModel",
          "model_module_version": "1.5.0",
          "state": {
            "_dom_classes": [],
            "_model_module": "@jupyter-widgets/controls",
            "_model_module_version": "1.5.0",
            "_model_name": "HBoxModel",
            "_view_count": null,
            "_view_module": "@jupyter-widgets/controls",
            "_view_module_version": "1.5.0",
            "_view_name": "HBoxView",
            "box_style": "",
            "children": [
              "IPY_MODEL_4faa81449a8b48f3bd555a8bbecd147d",
              "IPY_MODEL_f635216fe9094348b354218c19a68cc9",
              "IPY_MODEL_6541fa382ef04906a051ed2bc3eb061a"
            ],
            "layout": "IPY_MODEL_6cf590525bc04e5799f4fcc8b1395850"
          }
        },
        "4faa81449a8b48f3bd555a8bbecd147d": {
          "model_module": "@jupyter-widgets/controls",
          "model_name": "HTMLModel",
          "model_module_version": "1.5.0",
          "state": {
            "_dom_classes": [],
            "_model_module": "@jupyter-widgets/controls",
            "_model_module_version": "1.5.0",
            "_model_name": "HTMLModel",
            "_view_count": null,
            "_view_module": "@jupyter-widgets/controls",
            "_view_module_version": "1.5.0",
            "_view_name": "HTMLView",
            "description": "",
            "description_tooltip": null,
            "layout": "IPY_MODEL_15851c6a0cb14307aa0a86e139347af8",
            "placeholder": "​",
            "style": "IPY_MODEL_b86fe9c380f54f1aa99d8bf27def3ae5",
            "value": "100%"
          }
        },
        "f635216fe9094348b354218c19a68cc9": {
          "model_module": "@jupyter-widgets/controls",
          "model_name": "FloatProgressModel",
          "model_module_version": "1.5.0",
          "state": {
            "_dom_classes": [],
            "_model_module": "@jupyter-widgets/controls",
            "_model_module_version": "1.5.0",
            "_model_name": "FloatProgressModel",
            "_view_count": null,
            "_view_module": "@jupyter-widgets/controls",
            "_view_module_version": "1.5.0",
            "_view_name": "ProgressView",
            "bar_style": "success",
            "description": "",
            "description_tooltip": null,
            "layout": "IPY_MODEL_bfb30eebc3bf407cb9f926cc48e66d0d",
            "max": 1514,
            "min": 0,
            "orientation": "horizontal",
            "style": "IPY_MODEL_c221061a4c6543eeb4aaa146df2562e1",
            "value": 1514
          }
        },
        "6541fa382ef04906a051ed2bc3eb061a": {
          "model_module": "@jupyter-widgets/controls",
          "model_name": "HTMLModel",
          "model_module_version": "1.5.0",
          "state": {
            "_dom_classes": [],
            "_model_module": "@jupyter-widgets/controls",
            "_model_module_version": "1.5.0",
            "_model_name": "HTMLModel",
            "_view_count": null,
            "_view_module": "@jupyter-widgets/controls",
            "_view_module_version": "1.5.0",
            "_view_name": "HTMLView",
            "description": "",
            "description_tooltip": null,
            "layout": "IPY_MODEL_8e930662674c473a80866c835b66d3b4",
            "placeholder": "​",
            "style": "IPY_MODEL_1c8626c67b07493c8e41361a6d6cbc15",
            "value": " 1514/1514 [01:34&lt;00:00, 17.82it/s]"
          }
        },
        "6cf590525bc04e5799f4fcc8b1395850": {
          "model_module": "@jupyter-widgets/base",
          "model_name": "LayoutModel",
          "model_module_version": "1.2.0",
          "state": {
            "_model_module": "@jupyter-widgets/base",
            "_model_module_version": "1.2.0",
            "_model_name": "LayoutModel",
            "_view_count": null,
            "_view_module": "@jupyter-widgets/base",
            "_view_module_version": "1.2.0",
            "_view_name": "LayoutView",
            "align_content": null,
            "align_items": null,
            "align_self": null,
            "border": null,
            "bottom": null,
            "display": null,
            "flex": null,
            "flex_flow": null,
            "grid_area": null,
            "grid_auto_columns": null,
            "grid_auto_flow": null,
            "grid_auto_rows": null,
            "grid_column": null,
            "grid_gap": null,
            "grid_row": null,
            "grid_template_areas": null,
            "grid_template_columns": null,
            "grid_template_rows": null,
            "height": null,
            "justify_content": null,
            "justify_items": null,
            "left": null,
            "margin": null,
            "max_height": null,
            "max_width": null,
            "min_height": null,
            "min_width": null,
            "object_fit": null,
            "object_position": null,
            "order": null,
            "overflow": null,
            "overflow_x": null,
            "overflow_y": null,
            "padding": null,
            "right": null,
            "top": null,
            "visibility": null,
            "width": null
          }
        },
        "15851c6a0cb14307aa0a86e139347af8": {
          "model_module": "@jupyter-widgets/base",
          "model_name": "LayoutModel",
          "model_module_version": "1.2.0",
          "state": {
            "_model_module": "@jupyter-widgets/base",
            "_model_module_version": "1.2.0",
            "_model_name": "LayoutModel",
            "_view_count": null,
            "_view_module": "@jupyter-widgets/base",
            "_view_module_version": "1.2.0",
            "_view_name": "LayoutView",
            "align_content": null,
            "align_items": null,
            "align_self": null,
            "border": null,
            "bottom": null,
            "display": null,
            "flex": null,
            "flex_flow": null,
            "grid_area": null,
            "grid_auto_columns": null,
            "grid_auto_flow": null,
            "grid_auto_rows": null,
            "grid_column": null,
            "grid_gap": null,
            "grid_row": null,
            "grid_template_areas": null,
            "grid_template_columns": null,
            "grid_template_rows": null,
            "height": null,
            "justify_content": null,
            "justify_items": null,
            "left": null,
            "margin": null,
            "max_height": null,
            "max_width": null,
            "min_height": null,
            "min_width": null,
            "object_fit": null,
            "object_position": null,
            "order": null,
            "overflow": null,
            "overflow_x": null,
            "overflow_y": null,
            "padding": null,
            "right": null,
            "top": null,
            "visibility": null,
            "width": null
          }
        },
        "b86fe9c380f54f1aa99d8bf27def3ae5": {
          "model_module": "@jupyter-widgets/controls",
          "model_name": "DescriptionStyleModel",
          "model_module_version": "1.5.0",
          "state": {
            "_model_module": "@jupyter-widgets/controls",
            "_model_module_version": "1.5.0",
            "_model_name": "DescriptionStyleModel",
            "_view_count": null,
            "_view_module": "@jupyter-widgets/base",
            "_view_module_version": "1.2.0",
            "_view_name": "StyleView",
            "description_width": ""
          }
        },
        "bfb30eebc3bf407cb9f926cc48e66d0d": {
          "model_module": "@jupyter-widgets/base",
          "model_name": "LayoutModel",
          "model_module_version": "1.2.0",
          "state": {
            "_model_module": "@jupyter-widgets/base",
            "_model_module_version": "1.2.0",
            "_model_name": "LayoutModel",
            "_view_count": null,
            "_view_module": "@jupyter-widgets/base",
            "_view_module_version": "1.2.0",
            "_view_name": "LayoutView",
            "align_content": null,
            "align_items": null,
            "align_self": null,
            "border": null,
            "bottom": null,
            "display": null,
            "flex": null,
            "flex_flow": null,
            "grid_area": null,
            "grid_auto_columns": null,
            "grid_auto_flow": null,
            "grid_auto_rows": null,
            "grid_column": null,
            "grid_gap": null,
            "grid_row": null,
            "grid_template_areas": null,
            "grid_template_columns": null,
            "grid_template_rows": null,
            "height": null,
            "justify_content": null,
            "justify_items": null,
            "left": null,
            "margin": null,
            "max_height": null,
            "max_width": null,
            "min_height": null,
            "min_width": null,
            "object_fit": null,
            "object_position": null,
            "order": null,
            "overflow": null,
            "overflow_x": null,
            "overflow_y": null,
            "padding": null,
            "right": null,
            "top": null,
            "visibility": null,
            "width": null
          }
        },
        "c221061a4c6543eeb4aaa146df2562e1": {
          "model_module": "@jupyter-widgets/controls",
          "model_name": "ProgressStyleModel",
          "model_module_version": "1.5.0",
          "state": {
            "_model_module": "@jupyter-widgets/controls",
            "_model_module_version": "1.5.0",
            "_model_name": "ProgressStyleModel",
            "_view_count": null,
            "_view_module": "@jupyter-widgets/base",
            "_view_module_version": "1.2.0",
            "_view_name": "StyleView",
            "bar_color": null,
            "description_width": ""
          }
        },
        "8e930662674c473a80866c835b66d3b4": {
          "model_module": "@jupyter-widgets/base",
          "model_name": "LayoutModel",
          "model_module_version": "1.2.0",
          "state": {
            "_model_module": "@jupyter-widgets/base",
            "_model_module_version": "1.2.0",
            "_model_name": "LayoutModel",
            "_view_count": null,
            "_view_module": "@jupyter-widgets/base",
            "_view_module_version": "1.2.0",
            "_view_name": "LayoutView",
            "align_content": null,
            "align_items": null,
            "align_self": null,
            "border": null,
            "bottom": null,
            "display": null,
            "flex": null,
            "flex_flow": null,
            "grid_area": null,
            "grid_auto_columns": null,
            "grid_auto_flow": null,
            "grid_auto_rows": null,
            "grid_column": null,
            "grid_gap": null,
            "grid_row": null,
            "grid_template_areas": null,
            "grid_template_columns": null,
            "grid_template_rows": null,
            "height": null,
            "justify_content": null,
            "justify_items": null,
            "left": null,
            "margin": null,
            "max_height": null,
            "max_width": null,
            "min_height": null,
            "min_width": null,
            "object_fit": null,
            "object_position": null,
            "order": null,
            "overflow": null,
            "overflow_x": null,
            "overflow_y": null,
            "padding": null,
            "right": null,
            "top": null,
            "visibility": null,
            "width": null
          }
        },
        "1c8626c67b07493c8e41361a6d6cbc15": {
          "model_module": "@jupyter-widgets/controls",
          "model_name": "DescriptionStyleModel",
          "model_module_version": "1.5.0",
          "state": {
            "_model_module": "@jupyter-widgets/controls",
            "_model_module_version": "1.5.0",
            "_model_name": "DescriptionStyleModel",
            "_view_count": null,
            "_view_module": "@jupyter-widgets/base",
            "_view_module_version": "1.2.0",
            "_view_name": "StyleView",
            "description_width": ""
          }
        },
        "3621629473dd47b8abebe524c8db15a2": {
          "model_module": "@jupyter-widgets/controls",
          "model_name": "HBoxModel",
          "model_module_version": "1.5.0",
          "state": {
            "_dom_classes": [],
            "_model_module": "@jupyter-widgets/controls",
            "_model_module_version": "1.5.0",
            "_model_name": "HBoxModel",
            "_view_count": null,
            "_view_module": "@jupyter-widgets/controls",
            "_view_module_version": "1.5.0",
            "_view_name": "HBoxView",
            "box_style": "",
            "children": [
              "IPY_MODEL_681e1d52031c41d982b45a0bc80e508d",
              "IPY_MODEL_dd0f1870ea564587aa2f31d2ea7d4fc8",
              "IPY_MODEL_910946391d084a28826b317920c47680"
            ],
            "layout": "IPY_MODEL_e6f557181579428eaa18a81c3e2dd383"
          }
        },
        "681e1d52031c41d982b45a0bc80e508d": {
          "model_module": "@jupyter-widgets/controls",
          "model_name": "HTMLModel",
          "model_module_version": "1.5.0",
          "state": {
            "_dom_classes": [],
            "_model_module": "@jupyter-widgets/controls",
            "_model_module_version": "1.5.0",
            "_model_name": "HTMLModel",
            "_view_count": null,
            "_view_module": "@jupyter-widgets/controls",
            "_view_module_version": "1.5.0",
            "_view_name": "HTMLView",
            "description": "",
            "description_tooltip": null,
            "layout": "IPY_MODEL_74f91c34eee04caa87f32fb3f35f492e",
            "placeholder": "​",
            "style": "IPY_MODEL_0e2ae736a0d84b8991ad661da7ae5d6c",
            "value": "100%"
          }
        },
        "dd0f1870ea564587aa2f31d2ea7d4fc8": {
          "model_module": "@jupyter-widgets/controls",
          "model_name": "FloatProgressModel",
          "model_module_version": "1.5.0",
          "state": {
            "_dom_classes": [],
            "_model_module": "@jupyter-widgets/controls",
            "_model_module_version": "1.5.0",
            "_model_name": "FloatProgressModel",
            "_view_count": null,
            "_view_module": "@jupyter-widgets/controls",
            "_view_module_version": "1.5.0",
            "_view_name": "ProgressView",
            "bar_style": "success",
            "description": "",
            "description_tooltip": null,
            "layout": "IPY_MODEL_e7a3a21d18584862aa254ae315756ca9",
            "max": 1279,
            "min": 0,
            "orientation": "horizontal",
            "style": "IPY_MODEL_fe4d05a7861541e0af7237a7af147a8b",
            "value": 1279
          }
        },
        "910946391d084a28826b317920c47680": {
          "model_module": "@jupyter-widgets/controls",
          "model_name": "HTMLModel",
          "model_module_version": "1.5.0",
          "state": {
            "_dom_classes": [],
            "_model_module": "@jupyter-widgets/controls",
            "_model_module_version": "1.5.0",
            "_model_name": "HTMLModel",
            "_view_count": null,
            "_view_module": "@jupyter-widgets/controls",
            "_view_module_version": "1.5.0",
            "_view_name": "HTMLView",
            "description": "",
            "description_tooltip": null,
            "layout": "IPY_MODEL_08bd3bce8d4c43d5885acc46c6329d95",
            "placeholder": "​",
            "style": "IPY_MODEL_01eb18214c6a43099bab7bd495d126ab",
            "value": " 1279/1279 [01:12&lt;00:00, 17.82it/s]"
          }
        },
        "e6f557181579428eaa18a81c3e2dd383": {
          "model_module": "@jupyter-widgets/base",
          "model_name": "LayoutModel",
          "model_module_version": "1.2.0",
          "state": {
            "_model_module": "@jupyter-widgets/base",
            "_model_module_version": "1.2.0",
            "_model_name": "LayoutModel",
            "_view_count": null,
            "_view_module": "@jupyter-widgets/base",
            "_view_module_version": "1.2.0",
            "_view_name": "LayoutView",
            "align_content": null,
            "align_items": null,
            "align_self": null,
            "border": null,
            "bottom": null,
            "display": null,
            "flex": null,
            "flex_flow": null,
            "grid_area": null,
            "grid_auto_columns": null,
            "grid_auto_flow": null,
            "grid_auto_rows": null,
            "grid_column": null,
            "grid_gap": null,
            "grid_row": null,
            "grid_template_areas": null,
            "grid_template_columns": null,
            "grid_template_rows": null,
            "height": null,
            "justify_content": null,
            "justify_items": null,
            "left": null,
            "margin": null,
            "max_height": null,
            "max_width": null,
            "min_height": null,
            "min_width": null,
            "object_fit": null,
            "object_position": null,
            "order": null,
            "overflow": null,
            "overflow_x": null,
            "overflow_y": null,
            "padding": null,
            "right": null,
            "top": null,
            "visibility": null,
            "width": null
          }
        },
        "74f91c34eee04caa87f32fb3f35f492e": {
          "model_module": "@jupyter-widgets/base",
          "model_name": "LayoutModel",
          "model_module_version": "1.2.0",
          "state": {
            "_model_module": "@jupyter-widgets/base",
            "_model_module_version": "1.2.0",
            "_model_name": "LayoutModel",
            "_view_count": null,
            "_view_module": "@jupyter-widgets/base",
            "_view_module_version": "1.2.0",
            "_view_name": "LayoutView",
            "align_content": null,
            "align_items": null,
            "align_self": null,
            "border": null,
            "bottom": null,
            "display": null,
            "flex": null,
            "flex_flow": null,
            "grid_area": null,
            "grid_auto_columns": null,
            "grid_auto_flow": null,
            "grid_auto_rows": null,
            "grid_column": null,
            "grid_gap": null,
            "grid_row": null,
            "grid_template_areas": null,
            "grid_template_columns": null,
            "grid_template_rows": null,
            "height": null,
            "justify_content": null,
            "justify_items": null,
            "left": null,
            "margin": null,
            "max_height": null,
            "max_width": null,
            "min_height": null,
            "min_width": null,
            "object_fit": null,
            "object_position": null,
            "order": null,
            "overflow": null,
            "overflow_x": null,
            "overflow_y": null,
            "padding": null,
            "right": null,
            "top": null,
            "visibility": null,
            "width": null
          }
        },
        "0e2ae736a0d84b8991ad661da7ae5d6c": {
          "model_module": "@jupyter-widgets/controls",
          "model_name": "DescriptionStyleModel",
          "model_module_version": "1.5.0",
          "state": {
            "_model_module": "@jupyter-widgets/controls",
            "_model_module_version": "1.5.0",
            "_model_name": "DescriptionStyleModel",
            "_view_count": null,
            "_view_module": "@jupyter-widgets/base",
            "_view_module_version": "1.2.0",
            "_view_name": "StyleView",
            "description_width": ""
          }
        },
        "e7a3a21d18584862aa254ae315756ca9": {
          "model_module": "@jupyter-widgets/base",
          "model_name": "LayoutModel",
          "model_module_version": "1.2.0",
          "state": {
            "_model_module": "@jupyter-widgets/base",
            "_model_module_version": "1.2.0",
            "_model_name": "LayoutModel",
            "_view_count": null,
            "_view_module": "@jupyter-widgets/base",
            "_view_module_version": "1.2.0",
            "_view_name": "LayoutView",
            "align_content": null,
            "align_items": null,
            "align_self": null,
            "border": null,
            "bottom": null,
            "display": null,
            "flex": null,
            "flex_flow": null,
            "grid_area": null,
            "grid_auto_columns": null,
            "grid_auto_flow": null,
            "grid_auto_rows": null,
            "grid_column": null,
            "grid_gap": null,
            "grid_row": null,
            "grid_template_areas": null,
            "grid_template_columns": null,
            "grid_template_rows": null,
            "height": null,
            "justify_content": null,
            "justify_items": null,
            "left": null,
            "margin": null,
            "max_height": null,
            "max_width": null,
            "min_height": null,
            "min_width": null,
            "object_fit": null,
            "object_position": null,
            "order": null,
            "overflow": null,
            "overflow_x": null,
            "overflow_y": null,
            "padding": null,
            "right": null,
            "top": null,
            "visibility": null,
            "width": null
          }
        },
        "fe4d05a7861541e0af7237a7af147a8b": {
          "model_module": "@jupyter-widgets/controls",
          "model_name": "ProgressStyleModel",
          "model_module_version": "1.5.0",
          "state": {
            "_model_module": "@jupyter-widgets/controls",
            "_model_module_version": "1.5.0",
            "_model_name": "ProgressStyleModel",
            "_view_count": null,
            "_view_module": "@jupyter-widgets/base",
            "_view_module_version": "1.2.0",
            "_view_name": "StyleView",
            "bar_color": null,
            "description_width": ""
          }
        },
        "08bd3bce8d4c43d5885acc46c6329d95": {
          "model_module": "@jupyter-widgets/base",
          "model_name": "LayoutModel",
          "model_module_version": "1.2.0",
          "state": {
            "_model_module": "@jupyter-widgets/base",
            "_model_module_version": "1.2.0",
            "_model_name": "LayoutModel",
            "_view_count": null,
            "_view_module": "@jupyter-widgets/base",
            "_view_module_version": "1.2.0",
            "_view_name": "LayoutView",
            "align_content": null,
            "align_items": null,
            "align_self": null,
            "border": null,
            "bottom": null,
            "display": null,
            "flex": null,
            "flex_flow": null,
            "grid_area": null,
            "grid_auto_columns": null,
            "grid_auto_flow": null,
            "grid_auto_rows": null,
            "grid_column": null,
            "grid_gap": null,
            "grid_row": null,
            "grid_template_areas": null,
            "grid_template_columns": null,
            "grid_template_rows": null,
            "height": null,
            "justify_content": null,
            "justify_items": null,
            "left": null,
            "margin": null,
            "max_height": null,
            "max_width": null,
            "min_height": null,
            "min_width": null,
            "object_fit": null,
            "object_position": null,
            "order": null,
            "overflow": null,
            "overflow_x": null,
            "overflow_y": null,
            "padding": null,
            "right": null,
            "top": null,
            "visibility": null,
            "width": null
          }
        },
        "01eb18214c6a43099bab7bd495d126ab": {
          "model_module": "@jupyter-widgets/controls",
          "model_name": "DescriptionStyleModel",
          "model_module_version": "1.5.0",
          "state": {
            "_model_module": "@jupyter-widgets/controls",
            "_model_module_version": "1.5.0",
            "_model_name": "DescriptionStyleModel",
            "_view_count": null,
            "_view_module": "@jupyter-widgets/base",
            "_view_module_version": "1.2.0",
            "_view_name": "StyleView",
            "description_width": ""
          }
        },
        "c7b317935bd44342a9f3fbe518c8a4fb": {
          "model_module": "@jupyter-widgets/controls",
          "model_name": "HBoxModel",
          "model_module_version": "1.5.0",
          "state": {
            "_dom_classes": [],
            "_model_module": "@jupyter-widgets/controls",
            "_model_module_version": "1.5.0",
            "_model_name": "HBoxModel",
            "_view_count": null,
            "_view_module": "@jupyter-widgets/controls",
            "_view_module_version": "1.5.0",
            "_view_name": "HBoxView",
            "box_style": "",
            "children": [
              "IPY_MODEL_b344e28a45f84fb4af0cb292cd330ce5",
              "IPY_MODEL_33db3cad036948058bbc25da39988c58",
              "IPY_MODEL_06efce1558d84a60b6bbe169d8761156"
            ],
            "layout": "IPY_MODEL_7c3236645e4744f8909e2cdc0606764d"
          }
        },
        "b344e28a45f84fb4af0cb292cd330ce5": {
          "model_module": "@jupyter-widgets/controls",
          "model_name": "HTMLModel",
          "model_module_version": "1.5.0",
          "state": {
            "_dom_classes": [],
            "_model_module": "@jupyter-widgets/controls",
            "_model_module_version": "1.5.0",
            "_model_name": "HTMLModel",
            "_view_count": null,
            "_view_module": "@jupyter-widgets/controls",
            "_view_module_version": "1.5.0",
            "_view_name": "HTMLView",
            "description": "",
            "description_tooltip": null,
            "layout": "IPY_MODEL_5757ef78e4504aa18eac176d610ab798",
            "placeholder": "​",
            "style": "IPY_MODEL_5680b1036df64f54ab1f837ac9ac4213",
            "value": "100%"
          }
        },
        "33db3cad036948058bbc25da39988c58": {
          "model_module": "@jupyter-widgets/controls",
          "model_name": "FloatProgressModel",
          "model_module_version": "1.5.0",
          "state": {
            "_dom_classes": [],
            "_model_module": "@jupyter-widgets/controls",
            "_model_module_version": "1.5.0",
            "_model_name": "FloatProgressModel",
            "_view_count": null,
            "_view_module": "@jupyter-widgets/controls",
            "_view_module_version": "1.5.0",
            "_view_name": "ProgressView",
            "bar_style": "success",
            "description": "",
            "description_tooltip": null,
            "layout": "IPY_MODEL_baea75370a8f439289fb923087c7d4a4",
            "max": 1514,
            "min": 0,
            "orientation": "horizontal",
            "style": "IPY_MODEL_e28096c5c74649deb154fcbc33882430",
            "value": 1514
          }
        },
        "06efce1558d84a60b6bbe169d8761156": {
          "model_module": "@jupyter-widgets/controls",
          "model_name": "HTMLModel",
          "model_module_version": "1.5.0",
          "state": {
            "_dom_classes": [],
            "_model_module": "@jupyter-widgets/controls",
            "_model_module_version": "1.5.0",
            "_model_name": "HTMLModel",
            "_view_count": null,
            "_view_module": "@jupyter-widgets/controls",
            "_view_module_version": "1.5.0",
            "_view_name": "HTMLView",
            "description": "",
            "description_tooltip": null,
            "layout": "IPY_MODEL_f07e1d16c0f1415980ebd3ae4b8bbbb4",
            "placeholder": "​",
            "style": "IPY_MODEL_cfd6bd9a87a140a497a13a16506c24ef",
            "value": " 1514/1514 [01:28&lt;00:00, 18.50it/s]"
          }
        },
        "7c3236645e4744f8909e2cdc0606764d": {
          "model_module": "@jupyter-widgets/base",
          "model_name": "LayoutModel",
          "model_module_version": "1.2.0",
          "state": {
            "_model_module": "@jupyter-widgets/base",
            "_model_module_version": "1.2.0",
            "_model_name": "LayoutModel",
            "_view_count": null,
            "_view_module": "@jupyter-widgets/base",
            "_view_module_version": "1.2.0",
            "_view_name": "LayoutView",
            "align_content": null,
            "align_items": null,
            "align_self": null,
            "border": null,
            "bottom": null,
            "display": null,
            "flex": null,
            "flex_flow": null,
            "grid_area": null,
            "grid_auto_columns": null,
            "grid_auto_flow": null,
            "grid_auto_rows": null,
            "grid_column": null,
            "grid_gap": null,
            "grid_row": null,
            "grid_template_areas": null,
            "grid_template_columns": null,
            "grid_template_rows": null,
            "height": null,
            "justify_content": null,
            "justify_items": null,
            "left": null,
            "margin": null,
            "max_height": null,
            "max_width": null,
            "min_height": null,
            "min_width": null,
            "object_fit": null,
            "object_position": null,
            "order": null,
            "overflow": null,
            "overflow_x": null,
            "overflow_y": null,
            "padding": null,
            "right": null,
            "top": null,
            "visibility": null,
            "width": null
          }
        },
        "5757ef78e4504aa18eac176d610ab798": {
          "model_module": "@jupyter-widgets/base",
          "model_name": "LayoutModel",
          "model_module_version": "1.2.0",
          "state": {
            "_model_module": "@jupyter-widgets/base",
            "_model_module_version": "1.2.0",
            "_model_name": "LayoutModel",
            "_view_count": null,
            "_view_module": "@jupyter-widgets/base",
            "_view_module_version": "1.2.0",
            "_view_name": "LayoutView",
            "align_content": null,
            "align_items": null,
            "align_self": null,
            "border": null,
            "bottom": null,
            "display": null,
            "flex": null,
            "flex_flow": null,
            "grid_area": null,
            "grid_auto_columns": null,
            "grid_auto_flow": null,
            "grid_auto_rows": null,
            "grid_column": null,
            "grid_gap": null,
            "grid_row": null,
            "grid_template_areas": null,
            "grid_template_columns": null,
            "grid_template_rows": null,
            "height": null,
            "justify_content": null,
            "justify_items": null,
            "left": null,
            "margin": null,
            "max_height": null,
            "max_width": null,
            "min_height": null,
            "min_width": null,
            "object_fit": null,
            "object_position": null,
            "order": null,
            "overflow": null,
            "overflow_x": null,
            "overflow_y": null,
            "padding": null,
            "right": null,
            "top": null,
            "visibility": null,
            "width": null
          }
        },
        "5680b1036df64f54ab1f837ac9ac4213": {
          "model_module": "@jupyter-widgets/controls",
          "model_name": "DescriptionStyleModel",
          "model_module_version": "1.5.0",
          "state": {
            "_model_module": "@jupyter-widgets/controls",
            "_model_module_version": "1.5.0",
            "_model_name": "DescriptionStyleModel",
            "_view_count": null,
            "_view_module": "@jupyter-widgets/base",
            "_view_module_version": "1.2.0",
            "_view_name": "StyleView",
            "description_width": ""
          }
        },
        "baea75370a8f439289fb923087c7d4a4": {
          "model_module": "@jupyter-widgets/base",
          "model_name": "LayoutModel",
          "model_module_version": "1.2.0",
          "state": {
            "_model_module": "@jupyter-widgets/base",
            "_model_module_version": "1.2.0",
            "_model_name": "LayoutModel",
            "_view_count": null,
            "_view_module": "@jupyter-widgets/base",
            "_view_module_version": "1.2.0",
            "_view_name": "LayoutView",
            "align_content": null,
            "align_items": null,
            "align_self": null,
            "border": null,
            "bottom": null,
            "display": null,
            "flex": null,
            "flex_flow": null,
            "grid_area": null,
            "grid_auto_columns": null,
            "grid_auto_flow": null,
            "grid_auto_rows": null,
            "grid_column": null,
            "grid_gap": null,
            "grid_row": null,
            "grid_template_areas": null,
            "grid_template_columns": null,
            "grid_template_rows": null,
            "height": null,
            "justify_content": null,
            "justify_items": null,
            "left": null,
            "margin": null,
            "max_height": null,
            "max_width": null,
            "min_height": null,
            "min_width": null,
            "object_fit": null,
            "object_position": null,
            "order": null,
            "overflow": null,
            "overflow_x": null,
            "overflow_y": null,
            "padding": null,
            "right": null,
            "top": null,
            "visibility": null,
            "width": null
          }
        },
        "e28096c5c74649deb154fcbc33882430": {
          "model_module": "@jupyter-widgets/controls",
          "model_name": "ProgressStyleModel",
          "model_module_version": "1.5.0",
          "state": {
            "_model_module": "@jupyter-widgets/controls",
            "_model_module_version": "1.5.0",
            "_model_name": "ProgressStyleModel",
            "_view_count": null,
            "_view_module": "@jupyter-widgets/base",
            "_view_module_version": "1.2.0",
            "_view_name": "StyleView",
            "bar_color": null,
            "description_width": ""
          }
        },
        "f07e1d16c0f1415980ebd3ae4b8bbbb4": {
          "model_module": "@jupyter-widgets/base",
          "model_name": "LayoutModel",
          "model_module_version": "1.2.0",
          "state": {
            "_model_module": "@jupyter-widgets/base",
            "_model_module_version": "1.2.0",
            "_model_name": "LayoutModel",
            "_view_count": null,
            "_view_module": "@jupyter-widgets/base",
            "_view_module_version": "1.2.0",
            "_view_name": "LayoutView",
            "align_content": null,
            "align_items": null,
            "align_self": null,
            "border": null,
            "bottom": null,
            "display": null,
            "flex": null,
            "flex_flow": null,
            "grid_area": null,
            "grid_auto_columns": null,
            "grid_auto_flow": null,
            "grid_auto_rows": null,
            "grid_column": null,
            "grid_gap": null,
            "grid_row": null,
            "grid_template_areas": null,
            "grid_template_columns": null,
            "grid_template_rows": null,
            "height": null,
            "justify_content": null,
            "justify_items": null,
            "left": null,
            "margin": null,
            "max_height": null,
            "max_width": null,
            "min_height": null,
            "min_width": null,
            "object_fit": null,
            "object_position": null,
            "order": null,
            "overflow": null,
            "overflow_x": null,
            "overflow_y": null,
            "padding": null,
            "right": null,
            "top": null,
            "visibility": null,
            "width": null
          }
        },
        "cfd6bd9a87a140a497a13a16506c24ef": {
          "model_module": "@jupyter-widgets/controls",
          "model_name": "DescriptionStyleModel",
          "model_module_version": "1.5.0",
          "state": {
            "_model_module": "@jupyter-widgets/controls",
            "_model_module_version": "1.5.0",
            "_model_name": "DescriptionStyleModel",
            "_view_count": null,
            "_view_module": "@jupyter-widgets/base",
            "_view_module_version": "1.2.0",
            "_view_name": "StyleView",
            "description_width": ""
          }
        }
      }
    }
  },
  "nbformat": 4,
  "nbformat_minor": 0
}