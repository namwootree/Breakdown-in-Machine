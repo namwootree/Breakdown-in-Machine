{
  "cells": [
    {
      "cell_type": "markdown",
      "metadata": {
        "id": "1arJ9FlwNtoH"
      },
      "source": [
        "# Reference"
      ]
    },
    {
      "cell_type": "markdown",
      "metadata": {
        "id": "7A2bPHH5Nv61"
      },
      "source": [
        "**Library**\n",
        "\n",
        "* [librosa](https://librosa.org/doc/main/feature.html)\n",
        "\n",
        "\n",
        "**Tech Blog**\n",
        "\n",
        "* [제 06절 아날로그 신호](https://m.blog.naver.com/gkenq/220679236344)\n",
        "* [AI에게 어떻게 음성을 가르칠까?](https://tech.kakaoenterprise.com/66)\n",
        "* [음성인식 입문하기](https://pyy0715.github.io/Audio/)\n",
        "* [음악 데이터 - spectral_centroid, sepectral_rolloff](https://0equal2.tistory.com/144)\n",
        "* [[Librosa] music/audio processing library Librosa 사용법 Tutorial - (3) Audio feature extraction](https://bo-10000.tistory.com/entry/Librosa-musicaudio-processing-library-Librosa-%EC%82%AC%EC%9A%A9%EB%B2%95-Tutorial-3-Audio-feature-extraction)\n",
        "\n",
        "* [Tonnetz 음악이론을 딥러닝에 접목시키기](https://inspiringpeople.github.io/data%20analysis/tonnetz-dl/)\n",
        "\n",
        "\n",
        "**You Tube**\n",
        "\n",
        "* [DMQA, Introduction to Analysis for Sound Data](https://www.youtube.com/watch?v=1Hhj14QhkaE&t=718s)\n",
        "\n",
        "\n",
        "**데이콘 코드 공유**\n",
        "* [mel-spectrogram, mfcc 활용한 CNN ensemble + 5fold / public 0.98](https://dacon.io/en/codeshare/5153)"
      ]
    },
    {
      "cell_type": "markdown",
      "metadata": {
        "id": "SB46ysEM4RRM"
      },
      "source": [
        "# Setting"
      ]
    },
    {
      "cell_type": "markdown",
      "metadata": {
        "id": "XIGsZpRA4Us2"
      },
      "source": [
        "## Library"
      ]
    },
    {
      "cell_type": "code",
      "execution_count": 1,
      "metadata": {
        "id": "UTVDQnQK4M6H"
      },
      "outputs": [],
      "source": [
        "import pandas as pd\n",
        "import numpy as np\n",
        "\n",
        "from scipy import stats\n",
        "\n",
        "from sklearn.preprocessing import StandardScaler, MinMaxScaler, RobustScaler\n",
        "\n",
        "from sklearn.neighbors import LocalOutlierFactor\n",
        "from sklearn.ensemble import IsolationForest\n",
        "from sklearn.decomposition import PCA, KernelPCA, SparsePCA, TruncatedSVD, IncrementalPCA\n",
        "from sklearn.decomposition import TruncatedSVD\n",
        "\n",
        "import os\n",
        "from tqdm.auto import tqdm\n",
        "import random"
      ]
    },
    {
      "cell_type": "code",
      "execution_count": 2,
      "metadata": {
        "id": "UaOkCqd64WW9"
      },
      "outputs": [],
      "source": [
        "import librosa\n",
        "import librosa.display\n",
        "import IPython.display as ipd"
      ]
    },
    {
      "cell_type": "code",
      "execution_count": 3,
      "metadata": {
        "id": "ZimT_hk74XPl"
      },
      "outputs": [],
      "source": [
        "import warnings\n",
        "warnings.filterwarnings(action='ignore') "
      ]
    },
    {
      "cell_type": "markdown",
      "metadata": {
        "id": "OpEoeQ4e4ZBx"
      },
      "source": [
        "## Fixed Random Seed"
      ]
    },
    {
      "cell_type": "code",
      "execution_count": 4,
      "metadata": {
        "id": "CqcQsDea4YkV"
      },
      "outputs": [],
      "source": [
        "def seed_everything(seed):\n",
        "    random.seed(seed)\n",
        "    os.environ['PYTHONHASHSEED'] = str(seed)\n",
        "    np.random.seed(seed)\n",
        "\n",
        "seed_everything(42) # Seed 고정"
      ]
    },
    {
      "cell_type": "markdown",
      "metadata": {
        "id": "AhXiZI9q4cka"
      },
      "source": [
        "# Load Data Set"
      ]
    },
    {
      "cell_type": "markdown",
      "metadata": {
        "id": "QiRR5haS4eFc"
      },
      "source": [
        "## Google Drive Mount"
      ]
    },
    {
      "cell_type": "code",
      "execution_count": 5,
      "metadata": {
        "colab": {
          "base_uri": "https://localhost:8080/"
        },
        "id": "pl3QP7LJ4cCN",
        "outputId": "e14c5325-d534-4153-d399-70a7d05d1987"
      },
      "outputs": [
        {
          "output_type": "stream",
          "name": "stdout",
          "text": [
            "Mounted at /content/drive\n"
          ]
        }
      ],
      "source": [
        "from google.colab import drive\n",
        "drive.mount('/content/drive')"
      ]
    },
    {
      "cell_type": "markdown",
      "metadata": {
        "id": "Qj9RXtUy4i-V"
      },
      "source": [
        "## Unzip File"
      ]
    },
    {
      "cell_type": "code",
      "execution_count": 6,
      "metadata": {
        "id": "vNyz6vt54gst"
      },
      "outputs": [],
      "source": [
        "!unzip -qq '/content/drive/MyDrive/머신러닝 엔지니어링/데이콘/기계 고장 진단/data/기계_고장.zip'"
      ]
    },
    {
      "cell_type": "markdown",
      "metadata": {
        "id": "9CuLa-gf4lvW"
      },
      "source": [
        "## Load Train / Test Set"
      ]
    },
    {
      "cell_type": "code",
      "execution_count": 7,
      "metadata": {
        "id": "gnwfvSoX4lE6"
      },
      "outputs": [],
      "source": [
        "df_train = pd.read_csv('./train.csv') # 모두 정상 Sample\n",
        "df_test = pd.read_csv('./test.csv')"
      ]
    },
    {
      "cell_type": "code",
      "execution_count": 8,
      "metadata": {
        "colab": {
          "base_uri": "https://localhost:8080/",
          "height": 224
        },
        "id": "LgdXlk194oOB",
        "outputId": "72ce06d4-f03d-4ccf-b0e9-37bc4a907f1a"
      },
      "outputs": [
        {
          "output_type": "stream",
          "name": "stdout",
          "text": [
            "(1279, 4)\n"
          ]
        },
        {
          "output_type": "execute_result",
          "data": {
            "text/plain": [
              "    SAMPLE_ID             SAMPLE_PATH  FAN_TYPE  LABEL\n",
              "0  TRAIN_0000  ./train/TRAIN_0000.wav         2      0\n",
              "1  TRAIN_0001  ./train/TRAIN_0001.wav         0      0\n",
              "2  TRAIN_0002  ./train/TRAIN_0002.wav         0      0\n",
              "3  TRAIN_0003  ./train/TRAIN_0003.wav         2      0\n",
              "4  TRAIN_0004  ./train/TRAIN_0004.wav         2      0"
            ],
            "text/html": [
              "\n",
              "  <div id=\"df-21538c60-d8eb-44e6-a804-3c345ca14e8c\">\n",
              "    <div class=\"colab-df-container\">\n",
              "      <div>\n",
              "<style scoped>\n",
              "    .dataframe tbody tr th:only-of-type {\n",
              "        vertical-align: middle;\n",
              "    }\n",
              "\n",
              "    .dataframe tbody tr th {\n",
              "        vertical-align: top;\n",
              "    }\n",
              "\n",
              "    .dataframe thead th {\n",
              "        text-align: right;\n",
              "    }\n",
              "</style>\n",
              "<table border=\"1\" class=\"dataframe\">\n",
              "  <thead>\n",
              "    <tr style=\"text-align: right;\">\n",
              "      <th></th>\n",
              "      <th>SAMPLE_ID</th>\n",
              "      <th>SAMPLE_PATH</th>\n",
              "      <th>FAN_TYPE</th>\n",
              "      <th>LABEL</th>\n",
              "    </tr>\n",
              "  </thead>\n",
              "  <tbody>\n",
              "    <tr>\n",
              "      <th>0</th>\n",
              "      <td>TRAIN_0000</td>\n",
              "      <td>./train/TRAIN_0000.wav</td>\n",
              "      <td>2</td>\n",
              "      <td>0</td>\n",
              "    </tr>\n",
              "    <tr>\n",
              "      <th>1</th>\n",
              "      <td>TRAIN_0001</td>\n",
              "      <td>./train/TRAIN_0001.wav</td>\n",
              "      <td>0</td>\n",
              "      <td>0</td>\n",
              "    </tr>\n",
              "    <tr>\n",
              "      <th>2</th>\n",
              "      <td>TRAIN_0002</td>\n",
              "      <td>./train/TRAIN_0002.wav</td>\n",
              "      <td>0</td>\n",
              "      <td>0</td>\n",
              "    </tr>\n",
              "    <tr>\n",
              "      <th>3</th>\n",
              "      <td>TRAIN_0003</td>\n",
              "      <td>./train/TRAIN_0003.wav</td>\n",
              "      <td>2</td>\n",
              "      <td>0</td>\n",
              "    </tr>\n",
              "    <tr>\n",
              "      <th>4</th>\n",
              "      <td>TRAIN_0004</td>\n",
              "      <td>./train/TRAIN_0004.wav</td>\n",
              "      <td>2</td>\n",
              "      <td>0</td>\n",
              "    </tr>\n",
              "  </tbody>\n",
              "</table>\n",
              "</div>\n",
              "      <button class=\"colab-df-convert\" onclick=\"convertToInteractive('df-21538c60-d8eb-44e6-a804-3c345ca14e8c')\"\n",
              "              title=\"Convert this dataframe to an interactive table.\"\n",
              "              style=\"display:none;\">\n",
              "        \n",
              "  <svg xmlns=\"http://www.w3.org/2000/svg\" height=\"24px\"viewBox=\"0 0 24 24\"\n",
              "       width=\"24px\">\n",
              "    <path d=\"M0 0h24v24H0V0z\" fill=\"none\"/>\n",
              "    <path d=\"M18.56 5.44l.94 2.06.94-2.06 2.06-.94-2.06-.94-.94-2.06-.94 2.06-2.06.94zm-11 1L8.5 8.5l.94-2.06 2.06-.94-2.06-.94L8.5 2.5l-.94 2.06-2.06.94zm10 10l.94 2.06.94-2.06 2.06-.94-2.06-.94-.94-2.06-.94 2.06-2.06.94z\"/><path d=\"M17.41 7.96l-1.37-1.37c-.4-.4-.92-.59-1.43-.59-.52 0-1.04.2-1.43.59L10.3 9.45l-7.72 7.72c-.78.78-.78 2.05 0 2.83L4 21.41c.39.39.9.59 1.41.59.51 0 1.02-.2 1.41-.59l7.78-7.78 2.81-2.81c.8-.78.8-2.07 0-2.86zM5.41 20L4 18.59l7.72-7.72 1.47 1.35L5.41 20z\"/>\n",
              "  </svg>\n",
              "      </button>\n",
              "      \n",
              "  <style>\n",
              "    .colab-df-container {\n",
              "      display:flex;\n",
              "      flex-wrap:wrap;\n",
              "      gap: 12px;\n",
              "    }\n",
              "\n",
              "    .colab-df-convert {\n",
              "      background-color: #E8F0FE;\n",
              "      border: none;\n",
              "      border-radius: 50%;\n",
              "      cursor: pointer;\n",
              "      display: none;\n",
              "      fill: #1967D2;\n",
              "      height: 32px;\n",
              "      padding: 0 0 0 0;\n",
              "      width: 32px;\n",
              "    }\n",
              "\n",
              "    .colab-df-convert:hover {\n",
              "      background-color: #E2EBFA;\n",
              "      box-shadow: 0px 1px 2px rgba(60, 64, 67, 0.3), 0px 1px 3px 1px rgba(60, 64, 67, 0.15);\n",
              "      fill: #174EA6;\n",
              "    }\n",
              "\n",
              "    [theme=dark] .colab-df-convert {\n",
              "      background-color: #3B4455;\n",
              "      fill: #D2E3FC;\n",
              "    }\n",
              "\n",
              "    [theme=dark] .colab-df-convert:hover {\n",
              "      background-color: #434B5C;\n",
              "      box-shadow: 0px 1px 3px 1px rgba(0, 0, 0, 0.15);\n",
              "      filter: drop-shadow(0px 1px 2px rgba(0, 0, 0, 0.3));\n",
              "      fill: #FFFFFF;\n",
              "    }\n",
              "  </style>\n",
              "\n",
              "      <script>\n",
              "        const buttonEl =\n",
              "          document.querySelector('#df-21538c60-d8eb-44e6-a804-3c345ca14e8c button.colab-df-convert');\n",
              "        buttonEl.style.display =\n",
              "          google.colab.kernel.accessAllowed ? 'block' : 'none';\n",
              "\n",
              "        async function convertToInteractive(key) {\n",
              "          const element = document.querySelector('#df-21538c60-d8eb-44e6-a804-3c345ca14e8c');\n",
              "          const dataTable =\n",
              "            await google.colab.kernel.invokeFunction('convertToInteractive',\n",
              "                                                     [key], {});\n",
              "          if (!dataTable) return;\n",
              "\n",
              "          const docLinkHtml = 'Like what you see? Visit the ' +\n",
              "            '<a target=\"_blank\" href=https://colab.research.google.com/notebooks/data_table.ipynb>data table notebook</a>'\n",
              "            + ' to learn more about interactive tables.';\n",
              "          element.innerHTML = '';\n",
              "          dataTable['output_type'] = 'display_data';\n",
              "          await google.colab.output.renderOutput(dataTable, element);\n",
              "          const docLink = document.createElement('div');\n",
              "          docLink.innerHTML = docLinkHtml;\n",
              "          element.appendChild(docLink);\n",
              "        }\n",
              "      </script>\n",
              "    </div>\n",
              "  </div>\n",
              "  "
            ]
          },
          "metadata": {},
          "execution_count": 8
        }
      ],
      "source": [
        "print(df_train.shape)\n",
        "df_train.head()"
      ]
    },
    {
      "cell_type": "code",
      "execution_count": 9,
      "metadata": {
        "colab": {
          "base_uri": "https://localhost:8080/",
          "height": 224
        },
        "id": "FnRn88v84pIP",
        "outputId": "895a6531-a5e9-4428-8e55-21fc3fab8854"
      },
      "outputs": [
        {
          "output_type": "stream",
          "name": "stdout",
          "text": [
            "(1514, 3)\n"
          ]
        },
        {
          "output_type": "execute_result",
          "data": {
            "text/plain": [
              "   SAMPLE_ID           SAMPLE_PATH  FAN_TYPE\n",
              "0  TEST_0000  ./test/TEST_0000.wav         2\n",
              "1  TEST_0001  ./test/TEST_0001.wav         2\n",
              "2  TEST_0002  ./test/TEST_0002.wav         0\n",
              "3  TEST_0003  ./test/TEST_0003.wav         0\n",
              "4  TEST_0004  ./test/TEST_0004.wav         0"
            ],
            "text/html": [
              "\n",
              "  <div id=\"df-df45d55c-fd8e-4199-90c1-5353e7ac5d97\">\n",
              "    <div class=\"colab-df-container\">\n",
              "      <div>\n",
              "<style scoped>\n",
              "    .dataframe tbody tr th:only-of-type {\n",
              "        vertical-align: middle;\n",
              "    }\n",
              "\n",
              "    .dataframe tbody tr th {\n",
              "        vertical-align: top;\n",
              "    }\n",
              "\n",
              "    .dataframe thead th {\n",
              "        text-align: right;\n",
              "    }\n",
              "</style>\n",
              "<table border=\"1\" class=\"dataframe\">\n",
              "  <thead>\n",
              "    <tr style=\"text-align: right;\">\n",
              "      <th></th>\n",
              "      <th>SAMPLE_ID</th>\n",
              "      <th>SAMPLE_PATH</th>\n",
              "      <th>FAN_TYPE</th>\n",
              "    </tr>\n",
              "  </thead>\n",
              "  <tbody>\n",
              "    <tr>\n",
              "      <th>0</th>\n",
              "      <td>TEST_0000</td>\n",
              "      <td>./test/TEST_0000.wav</td>\n",
              "      <td>2</td>\n",
              "    </tr>\n",
              "    <tr>\n",
              "      <th>1</th>\n",
              "      <td>TEST_0001</td>\n",
              "      <td>./test/TEST_0001.wav</td>\n",
              "      <td>2</td>\n",
              "    </tr>\n",
              "    <tr>\n",
              "      <th>2</th>\n",
              "      <td>TEST_0002</td>\n",
              "      <td>./test/TEST_0002.wav</td>\n",
              "      <td>0</td>\n",
              "    </tr>\n",
              "    <tr>\n",
              "      <th>3</th>\n",
              "      <td>TEST_0003</td>\n",
              "      <td>./test/TEST_0003.wav</td>\n",
              "      <td>0</td>\n",
              "    </tr>\n",
              "    <tr>\n",
              "      <th>4</th>\n",
              "      <td>TEST_0004</td>\n",
              "      <td>./test/TEST_0004.wav</td>\n",
              "      <td>0</td>\n",
              "    </tr>\n",
              "  </tbody>\n",
              "</table>\n",
              "</div>\n",
              "      <button class=\"colab-df-convert\" onclick=\"convertToInteractive('df-df45d55c-fd8e-4199-90c1-5353e7ac5d97')\"\n",
              "              title=\"Convert this dataframe to an interactive table.\"\n",
              "              style=\"display:none;\">\n",
              "        \n",
              "  <svg xmlns=\"http://www.w3.org/2000/svg\" height=\"24px\"viewBox=\"0 0 24 24\"\n",
              "       width=\"24px\">\n",
              "    <path d=\"M0 0h24v24H0V0z\" fill=\"none\"/>\n",
              "    <path d=\"M18.56 5.44l.94 2.06.94-2.06 2.06-.94-2.06-.94-.94-2.06-.94 2.06-2.06.94zm-11 1L8.5 8.5l.94-2.06 2.06-.94-2.06-.94L8.5 2.5l-.94 2.06-2.06.94zm10 10l.94 2.06.94-2.06 2.06-.94-2.06-.94-.94-2.06-.94 2.06-2.06.94z\"/><path d=\"M17.41 7.96l-1.37-1.37c-.4-.4-.92-.59-1.43-.59-.52 0-1.04.2-1.43.59L10.3 9.45l-7.72 7.72c-.78.78-.78 2.05 0 2.83L4 21.41c.39.39.9.59 1.41.59.51 0 1.02-.2 1.41-.59l7.78-7.78 2.81-2.81c.8-.78.8-2.07 0-2.86zM5.41 20L4 18.59l7.72-7.72 1.47 1.35L5.41 20z\"/>\n",
              "  </svg>\n",
              "      </button>\n",
              "      \n",
              "  <style>\n",
              "    .colab-df-container {\n",
              "      display:flex;\n",
              "      flex-wrap:wrap;\n",
              "      gap: 12px;\n",
              "    }\n",
              "\n",
              "    .colab-df-convert {\n",
              "      background-color: #E8F0FE;\n",
              "      border: none;\n",
              "      border-radius: 50%;\n",
              "      cursor: pointer;\n",
              "      display: none;\n",
              "      fill: #1967D2;\n",
              "      height: 32px;\n",
              "      padding: 0 0 0 0;\n",
              "      width: 32px;\n",
              "    }\n",
              "\n",
              "    .colab-df-convert:hover {\n",
              "      background-color: #E2EBFA;\n",
              "      box-shadow: 0px 1px 2px rgba(60, 64, 67, 0.3), 0px 1px 3px 1px rgba(60, 64, 67, 0.15);\n",
              "      fill: #174EA6;\n",
              "    }\n",
              "\n",
              "    [theme=dark] .colab-df-convert {\n",
              "      background-color: #3B4455;\n",
              "      fill: #D2E3FC;\n",
              "    }\n",
              "\n",
              "    [theme=dark] .colab-df-convert:hover {\n",
              "      background-color: #434B5C;\n",
              "      box-shadow: 0px 1px 3px 1px rgba(0, 0, 0, 0.15);\n",
              "      filter: drop-shadow(0px 1px 2px rgba(0, 0, 0, 0.3));\n",
              "      fill: #FFFFFF;\n",
              "    }\n",
              "  </style>\n",
              "\n",
              "      <script>\n",
              "        const buttonEl =\n",
              "          document.querySelector('#df-df45d55c-fd8e-4199-90c1-5353e7ac5d97 button.colab-df-convert');\n",
              "        buttonEl.style.display =\n",
              "          google.colab.kernel.accessAllowed ? 'block' : 'none';\n",
              "\n",
              "        async function convertToInteractive(key) {\n",
              "          const element = document.querySelector('#df-df45d55c-fd8e-4199-90c1-5353e7ac5d97');\n",
              "          const dataTable =\n",
              "            await google.colab.kernel.invokeFunction('convertToInteractive',\n",
              "                                                     [key], {});\n",
              "          if (!dataTable) return;\n",
              "\n",
              "          const docLinkHtml = 'Like what you see? Visit the ' +\n",
              "            '<a target=\"_blank\" href=https://colab.research.google.com/notebooks/data_table.ipynb>data table notebook</a>'\n",
              "            + ' to learn more about interactive tables.';\n",
              "          element.innerHTML = '';\n",
              "          dataTable['output_type'] = 'display_data';\n",
              "          await google.colab.output.renderOutput(dataTable, element);\n",
              "          const docLink = document.createElement('div');\n",
              "          docLink.innerHTML = docLinkHtml;\n",
              "          element.appendChild(docLink);\n",
              "        }\n",
              "      </script>\n",
              "    </div>\n",
              "  </div>\n",
              "  "
            ]
          },
          "metadata": {},
          "execution_count": 9
        }
      ],
      "source": [
        "print(df_test.shape)\n",
        "df_test.head()"
      ]
    },
    {
      "cell_type": "markdown",
      "metadata": {
        "id": "0BgI6bYV4qnj"
      },
      "source": [
        "# Feature Engineering"
      ]
    },
    {
      "cell_type": "markdown",
      "metadata": {
        "id": "p4vhPwQq4sxD"
      },
      "source": [
        "## Scaling"
      ]
    },
    {
      "cell_type": "code",
      "execution_count": 10,
      "metadata": {
        "id": "KUqkij6Z4qE4"
      },
      "outputs": [],
      "source": [
        "def scaled_df(df_train, df_train_fan_type, df_test, df_test_fan_type, scaler):\n",
        "\n",
        "  df_train_fan_type = df_train_fan_type[['FAN_TYPE']]\n",
        "\n",
        "  df_train = pd.concat([\n",
        "                        df_train.reset_index(drop=True),\n",
        "                        df_train_fan_type.reset_index(drop=True)\n",
        "                       ],\n",
        "                       axis=1)\n",
        "  \n",
        "  df_test_fan_type = df_test_fan_type[['FAN_TYPE']]\n",
        "\n",
        "  df_test = pd.concat([\n",
        "                       df_test.reset_index(drop=True),\n",
        "                       df_test_fan_type.reset_index(drop=True)\n",
        "                      ],\n",
        "                      axis=1)\n",
        "  \n",
        "  train_type_0 = df_train.loc[(df_train['FAN_TYPE']==0)]\n",
        "  train_type_2 = df_train.loc[(df_train['FAN_TYPE']==2)]\n",
        "\n",
        "  test_type_0 = df_test.loc[(df_test['FAN_TYPE']==0)]\n",
        "  test_type_2 = df_test.loc[(df_test['FAN_TYPE']==2)]\n",
        "\n",
        "  train_type_0.drop(columns='FAN_TYPE', inplace=True)\n",
        "  train_type_2.drop(columns='FAN_TYPE', inplace=True)\n",
        "  test_type_0.drop(columns='FAN_TYPE', inplace=True)\n",
        "  test_type_2.drop(columns='FAN_TYPE', inplace=True)\n",
        "\n",
        "  list_train_0_index = list(train_type_0.index)\n",
        "  list_train_2_index = list(train_type_2.index)\n",
        "\n",
        "  list_test_0_index = list(test_type_0.index)\n",
        "  list_test_2_index = list(test_type_2.index)\n",
        "\n",
        "  scaled_train_type_0 = scaler.fit_transform(train_type_0)\n",
        "  scaled_test_type_0 = scaler.transform(test_type_0)\n",
        "\n",
        "  scaled_train_type_2 = scaler.fit_transform(train_type_2)\n",
        "  scaled_test_type_2 = scaler.transform(test_type_2)\n",
        "\n",
        "  train_type_0 = pd.DataFrame(scaled_train_type_0)\n",
        "  train_type_2 = pd.DataFrame(scaled_train_type_2)\n",
        "\n",
        "  test_type_0 = pd.DataFrame(scaled_test_type_0)\n",
        "  test_type_2 = pd.DataFrame(scaled_test_type_2)\n",
        "\n",
        "  train_type_0.index = list_train_0_index\n",
        "  train_type_2.index = list_train_2_index\n",
        "\n",
        "  test_type_0.index = list_test_0_index\n",
        "  test_type_2.index = list_test_2_index\n",
        "\n",
        "  df_train = pd.concat([train_type_0, train_type_2], axis=0)\n",
        "  df_test = pd.concat([test_type_0, test_type_2], axis=0)\n",
        "\n",
        "  df_train.sort_index(inplace=True)\n",
        "  df_test.sort_index(inplace=True)\n",
        "\n",
        "  return df_train, df_test"
      ]
    },
    {
      "cell_type": "markdown",
      "metadata": {
        "id": "xv_gDqtC4vrT"
      },
      "source": [
        "## Feature Extraction"
      ]
    },
    {
      "cell_type": "markdown",
      "metadata": {
        "id": "BzlwbOVsO7uy"
      },
      "source": [
        "**Sound**\n",
        "\n",
        "* 공기나 물 같은 매질의 진동을 통해 전달되는 종파\n",
        "* 사람의 귀에 들려오는 소리는 공기로 전해오는 파동\n",
        "\n",
        "**소리의 3요소**\n",
        "\n",
        "* 세기 (소리의 크기)\n",
        "* 높낮이 (소리의 높고 낮음)\n",
        "* 음색 (소리의 색상)"
      ]
    },
    {
      "cell_type": "markdown",
      "metadata": {
        "id": "rHA--SeyLPVx"
      },
      "source": [
        "**아날로그 신호**\n",
        "\n",
        "* 자연계에 포함되어 있는 연속적인 파형\n",
        "* 주기 신호와 비주기 신호로 분류할 수 있다\n",
        "\n",
        "**주기 신호**\n",
        "\n",
        "* 연속적으로 반복된 패턴으로 구성\n",
        "* 사이클 (Cycle) - 하나의 완성된 패턴\n",
        "* 정형파와 비정형파로 분류할 수 있다\n",
        "\n",
        "**비주기 신호**\n",
        "\n",
        "* 시간에 따라 반복된 패턴이나 사이클 없이 항상 변한다\n"
      ]
    },
    {
      "cell_type": "markdown",
      "metadata": {
        "id": "88UwPw_WL7mT"
      },
      "source": [
        "**정형파**\n",
        "\n",
        "1. 진폭 (Amplitude)\n",
        "\n",
        "  - 신호의 크기나 또는 세기를 나타낸다\n",
        "  - 신호의 높이\n",
        "  - 단위 : V (volt)\n",
        "\n",
        "2. 주기 (Period)와 주파수 (Frequency)\n",
        "\n",
        "  - 주기 : 하나의 사이클을 완성하는데 필요한 시간\n",
        "  - 주파수 : 주기의 역수, 1초에 완성되는 주기 횟수\n",
        "  - 높은 주파수 : 짧은 기간내의 변화\n",
        "  - 낮은 주파수 : 긴 기간에 걸친 변화\n",
        "  - 단위 : HZ (cycle / second)\n",
        "\n",
        "3. 위상 (phase)\n",
        "\n",
        "  - 임의의 시간에서 반송파 사이클의 상대적인 위치\n",
        "  - 시간 0에서 대한 파형의 상대적인 위치\n",
        "  - 시간축을 따라 앞뒤로 이동될 수 있는 파형에서 그 이동된 양\n",
        "  - 첫 사이클의 상태\n",
        "  - 단위 : degree\n",
        "\n",
        "4. 대역폭 (Bandwidth)\n",
        "\n",
        "  - 복합신호의 대역폭은 신호에 포함된 최고 주파수와 최저 주파수 사이의 차이"
      ]
    },
    {
      "cell_type": "markdown",
      "metadata": {
        "id": "pw3aVeoyPfJa"
      },
      "source": [
        "**Sampling Rate**\n",
        "\n",
        "* 소리를 컴퓨터에 입력시키기 위해 음파를 숫자로 표현할 필요가 있음\n",
        "\n",
        "* 샘플링 레이트는 아날로그 신호를 숫자화 시킨 것\n"
      ]
    },
    {
      "cell_type": "markdown",
      "metadata": {
        "id": "8au19EfpSowZ"
      },
      "source": [
        "**스펙트럼 (Spectrum)**\n",
        "\n",
        "* 푸리에 변환을 통해 time domain에서 frequency domain으로 바뀐 그래프\n",
        "* 특정 시간 길이의 음석 조각 (프레임)이 각각의 주파수 성분들을 얼마칸큼 갖고 있는지 의미\n",
        "\n",
        "**스펙트로그램 (Spectrogram)**\n",
        "\n",
        "* 파형 (Waveform)과 스펙트럼 (Spectrum) 조합\n",
        "* 음향 신호를 주파수, 진폭, 시간으로 구분\n",
        "* X축 : 시간\n",
        "* Y축 : 주파수\n",
        "* Z축 : 진폭\n",
        "\n"
      ]
    },
    {
      "cell_type": "markdown",
      "metadata": {
        "id": "IHvk9LV84xQM"
      },
      "source": [
        "### Zero Crossing Rate\n"
      ]
    },
    {
      "cell_type": "markdown",
      "metadata": {
        "id": "HJeW7fQgJ8DL"
      },
      "source": [
        "* Compute the zero-crossing rate of an audio time series.\n",
        "* 신호의 부호가 바뀌는 비율"
      ]
    },
    {
      "cell_type": "code",
      "execution_count": 356,
      "metadata": {
        "id": "-p5QZxCK4vA_"
      },
      "outputs": [],
      "source": [
        "def get_zero_crossing_feature(df):\n",
        "    features = []\n",
        "    for path in tqdm(df['SAMPLE_PATH']):\n",
        "        # librosa패키지를 사용하여 wav 파일 load\n",
        "        y, sr = librosa.load(path, sr=16000)\n",
        "        \n",
        "        # librosa패키지를 사용하여 mfcc 추출\n",
        "        zero = librosa.feature.zero_crossing_rate(y=y)\n",
        "\n",
        "        y_feature = []\n",
        "        # 추출된 MFCC들의 평균을 Feature로 사용\n",
        "        for e in zero:\n",
        "\n",
        "            e = np.mean(e)\n",
        "\n",
        "            y_feature.append(e)\n",
        "\n",
        "        features.append(y_feature)\n",
        "    \n",
        "    zero_df = pd.DataFrame(features,\n",
        "                           columns=['Zero Crossing Rate'])\n",
        "\n",
        "    print(zero_df.shape)\n",
        "\n",
        "    return zero_df"
      ]
    },
    {
      "cell_type": "code",
      "execution_count": 357,
      "metadata": {
        "colab": {
          "base_uri": "https://localhost:8080/",
          "height": 117,
          "referenced_widgets": [
            "11dff82636e6462bbe560829e52bc71c",
            "140b4ab6f0cd4ea3a98024d227fb7d07",
            "42281b02735f48438b96e6d0e2521336",
            "7429742a7ac947f3b083695af01c7663",
            "0189464f6f9642acac7d238df939eb29",
            "0e16dcf57d714cfdb44ece1a6d30c0e4",
            "fe9789d26625494db76af0bbaf95553f",
            "f4dc38fa217e4963b0fc12f8a49cc46e",
            "9b0b999600964f9a81fe4ee1ab4224d5",
            "e438510ba0af491798d59dc2957ed7a0",
            "ce9eae480898423895c8af06d1d8c411",
            "59d9b49dd5144706af51afbe5aa439cd",
            "72186c52ce2d433d89af436df1838dd4",
            "8381dae464244544a70706352a6f11b6",
            "1cec487d8fc34d84ae92fd3269722903",
            "c392a80c85264a5f9a2f5f5b830bbb78",
            "3d50c36018ff4af09b38e426927001ce",
            "41291c0c951044e989231879bd67d3d1",
            "069c418844ae4460bfc1846d2cec61f6",
            "28fe6e59bb514079a47a8b2affdbd05d",
            "e3339088a3334bae8163d07f5043ab9f",
            "7d0b511f063f4fd7b0d205376883d95c"
          ]
        },
        "id": "7N7Yu8Ou40dx",
        "outputId": "cab13d7b-3e83-40f5-f643-4aced67b306d"
      },
      "outputs": [
        {
          "output_type": "display_data",
          "data": {
            "text/plain": [
              "  0%|          | 0/1279 [00:00<?, ?it/s]"
            ],
            "application/vnd.jupyter.widget-view+json": {
              "version_major": 2,
              "version_minor": 0,
              "model_id": "11dff82636e6462bbe560829e52bc71c"
            }
          },
          "metadata": {}
        },
        {
          "output_type": "stream",
          "name": "stdout",
          "text": [
            "(1279, 1)\n"
          ]
        },
        {
          "output_type": "display_data",
          "data": {
            "text/plain": [
              "  0%|          | 0/1514 [00:00<?, ?it/s]"
            ],
            "application/vnd.jupyter.widget-view+json": {
              "version_major": 2,
              "version_minor": 0,
              "model_id": "59d9b49dd5144706af51afbe5aa439cd"
            }
          },
          "metadata": {}
        },
        {
          "output_type": "stream",
          "name": "stdout",
          "text": [
            "(1514, 1)\n"
          ]
        }
      ],
      "source": [
        "zero_train = get_zero_crossing_feature(df_train)\n",
        "zero_test = get_zero_crossing_feature(df_test)"
      ]
    },
    {
      "cell_type": "code",
      "execution_count": 358,
      "metadata": {
        "id": "6brz7Imj41qH"
      },
      "outputs": [],
      "source": [
        "scaler = RobustScaler(quantile_range=(35.0, 65.0))\n",
        "zero_train, zero_test= scaled_df(zero_train,\n",
        "                                 df_train,\n",
        "                                 zero_test,\n",
        "                                 df_test,\n",
        "                                 scaler)\n",
        "\n",
        "zero_train.columns = ['Zero_Crossing_Rate']\n",
        "zero_test.columns = ['Zero_Crossing_Rate']"
      ]
    },
    {
      "cell_type": "code",
      "execution_count": 359,
      "metadata": {
        "colab": {
          "base_uri": "https://localhost:8080/",
          "height": 206
        },
        "id": "n8WV1MvxY0Y0",
        "outputId": "206b0903-c752-4a79-b4ab-8f6243a89b91"
      },
      "outputs": [
        {
          "output_type": "execute_result",
          "data": {
            "text/plain": [
              "   Zero_Crossing_Rate\n",
              "0            0.056510\n",
              "1           -0.545779\n",
              "2            0.806084\n",
              "3           -0.547025\n",
              "4            2.378941"
            ],
            "text/html": [
              "\n",
              "  <div id=\"df-274b107d-f796-477e-8767-3b73d1734de8\">\n",
              "    <div class=\"colab-df-container\">\n",
              "      <div>\n",
              "<style scoped>\n",
              "    .dataframe tbody tr th:only-of-type {\n",
              "        vertical-align: middle;\n",
              "    }\n",
              "\n",
              "    .dataframe tbody tr th {\n",
              "        vertical-align: top;\n",
              "    }\n",
              "\n",
              "    .dataframe thead th {\n",
              "        text-align: right;\n",
              "    }\n",
              "</style>\n",
              "<table border=\"1\" class=\"dataframe\">\n",
              "  <thead>\n",
              "    <tr style=\"text-align: right;\">\n",
              "      <th></th>\n",
              "      <th>Zero_Crossing_Rate</th>\n",
              "    </tr>\n",
              "  </thead>\n",
              "  <tbody>\n",
              "    <tr>\n",
              "      <th>0</th>\n",
              "      <td>0.056510</td>\n",
              "    </tr>\n",
              "    <tr>\n",
              "      <th>1</th>\n",
              "      <td>-0.545779</td>\n",
              "    </tr>\n",
              "    <tr>\n",
              "      <th>2</th>\n",
              "      <td>0.806084</td>\n",
              "    </tr>\n",
              "    <tr>\n",
              "      <th>3</th>\n",
              "      <td>-0.547025</td>\n",
              "    </tr>\n",
              "    <tr>\n",
              "      <th>4</th>\n",
              "      <td>2.378941</td>\n",
              "    </tr>\n",
              "  </tbody>\n",
              "</table>\n",
              "</div>\n",
              "      <button class=\"colab-df-convert\" onclick=\"convertToInteractive('df-274b107d-f796-477e-8767-3b73d1734de8')\"\n",
              "              title=\"Convert this dataframe to an interactive table.\"\n",
              "              style=\"display:none;\">\n",
              "        \n",
              "  <svg xmlns=\"http://www.w3.org/2000/svg\" height=\"24px\"viewBox=\"0 0 24 24\"\n",
              "       width=\"24px\">\n",
              "    <path d=\"M0 0h24v24H0V0z\" fill=\"none\"/>\n",
              "    <path d=\"M18.56 5.44l.94 2.06.94-2.06 2.06-.94-2.06-.94-.94-2.06-.94 2.06-2.06.94zm-11 1L8.5 8.5l.94-2.06 2.06-.94-2.06-.94L8.5 2.5l-.94 2.06-2.06.94zm10 10l.94 2.06.94-2.06 2.06-.94-2.06-.94-.94-2.06-.94 2.06-2.06.94z\"/><path d=\"M17.41 7.96l-1.37-1.37c-.4-.4-.92-.59-1.43-.59-.52 0-1.04.2-1.43.59L10.3 9.45l-7.72 7.72c-.78.78-.78 2.05 0 2.83L4 21.41c.39.39.9.59 1.41.59.51 0 1.02-.2 1.41-.59l7.78-7.78 2.81-2.81c.8-.78.8-2.07 0-2.86zM5.41 20L4 18.59l7.72-7.72 1.47 1.35L5.41 20z\"/>\n",
              "  </svg>\n",
              "      </button>\n",
              "      \n",
              "  <style>\n",
              "    .colab-df-container {\n",
              "      display:flex;\n",
              "      flex-wrap:wrap;\n",
              "      gap: 12px;\n",
              "    }\n",
              "\n",
              "    .colab-df-convert {\n",
              "      background-color: #E8F0FE;\n",
              "      border: none;\n",
              "      border-radius: 50%;\n",
              "      cursor: pointer;\n",
              "      display: none;\n",
              "      fill: #1967D2;\n",
              "      height: 32px;\n",
              "      padding: 0 0 0 0;\n",
              "      width: 32px;\n",
              "    }\n",
              "\n",
              "    .colab-df-convert:hover {\n",
              "      background-color: #E2EBFA;\n",
              "      box-shadow: 0px 1px 2px rgba(60, 64, 67, 0.3), 0px 1px 3px 1px rgba(60, 64, 67, 0.15);\n",
              "      fill: #174EA6;\n",
              "    }\n",
              "\n",
              "    [theme=dark] .colab-df-convert {\n",
              "      background-color: #3B4455;\n",
              "      fill: #D2E3FC;\n",
              "    }\n",
              "\n",
              "    [theme=dark] .colab-df-convert:hover {\n",
              "      background-color: #434B5C;\n",
              "      box-shadow: 0px 1px 3px 1px rgba(0, 0, 0, 0.15);\n",
              "      filter: drop-shadow(0px 1px 2px rgba(0, 0, 0, 0.3));\n",
              "      fill: #FFFFFF;\n",
              "    }\n",
              "  </style>\n",
              "\n",
              "      <script>\n",
              "        const buttonEl =\n",
              "          document.querySelector('#df-274b107d-f796-477e-8767-3b73d1734de8 button.colab-df-convert');\n",
              "        buttonEl.style.display =\n",
              "          google.colab.kernel.accessAllowed ? 'block' : 'none';\n",
              "\n",
              "        async function convertToInteractive(key) {\n",
              "          const element = document.querySelector('#df-274b107d-f796-477e-8767-3b73d1734de8');\n",
              "          const dataTable =\n",
              "            await google.colab.kernel.invokeFunction('convertToInteractive',\n",
              "                                                     [key], {});\n",
              "          if (!dataTable) return;\n",
              "\n",
              "          const docLinkHtml = 'Like what you see? Visit the ' +\n",
              "            '<a target=\"_blank\" href=https://colab.research.google.com/notebooks/data_table.ipynb>data table notebook</a>'\n",
              "            + ' to learn more about interactive tables.';\n",
              "          element.innerHTML = '';\n",
              "          dataTable['output_type'] = 'display_data';\n",
              "          await google.colab.output.renderOutput(dataTable, element);\n",
              "          const docLink = document.createElement('div');\n",
              "          docLink.innerHTML = docLinkHtml;\n",
              "          element.appendChild(docLink);\n",
              "        }\n",
              "      </script>\n",
              "    </div>\n",
              "  </div>\n",
              "  "
            ]
          },
          "metadata": {},
          "execution_count": 359
        }
      ],
      "source": [
        "zero_train.head()"
      ]
    },
    {
      "cell_type": "code",
      "source": [
        "def get_zero_crossing_delta_feature(df):\n",
        "    features = []\n",
        "    for path in tqdm(df['SAMPLE_PATH']):\n",
        "        # librosa패키지를 사용하여 wav 파일 load\n",
        "        y, sr = librosa.load(path, sr=16000)\n",
        "        \n",
        "        # librosa패키지를 사용하여 mfcc 추출\n",
        "        zero = librosa.feature.zero_crossing_rate(y=y)\n",
        "        zero = librosa.feature.delta(\n",
        "                                   zero,\n",
        "                                   order=1\n",
        "                                   )\n",
        "\n",
        "        y_feature = []\n",
        "        # 추출된 MFCC들의 평균을 Feature로 사용\n",
        "        for e in zero:\n",
        "\n",
        "            e = np.mean(e)\n",
        "\n",
        "            y_feature.append(e)\n",
        "\n",
        "        features.append(y_feature)\n",
        "    \n",
        "    zero_df = pd.DataFrame(features,\n",
        "                           columns=['Zero Crossing Rate delta'])\n",
        "\n",
        "    print(zero_df.shape)\n",
        "\n",
        "    return zero_df"
      ],
      "metadata": {
        "id": "_6Tekv_q75I_"
      },
      "execution_count": 360,
      "outputs": []
    },
    {
      "cell_type": "code",
      "source": [
        "zero_delta_train = get_zero_crossing_delta_feature(df_train)\n",
        "zero_delta_test = get_zero_crossing_delta_feature(df_test)"
      ],
      "metadata": {
        "colab": {
          "base_uri": "https://localhost:8080/",
          "height": 117,
          "referenced_widgets": [
            "170a63e1d6144995a5c3fcc43f257301",
            "4b5336d47991464ea476f42e5692f241",
            "e69455087bf3423e8fe4b398359f9a98",
            "b861d57c93b940989914f5b8a2a02519",
            "40e77b03f7f644e9b4c38967f9b2f31f",
            "c314d99a55474aecb11b44169ea9be49",
            "da40472ef8fb4735a843a747125e5c78",
            "cba37b40583b44c292667ac09171d24a",
            "65a81366602f49b3b2e457a282168321",
            "17be23c0db044b339a2c9dae2f1f56bd",
            "4d7ab7c0337a48bd9acaf05b14d7b9a1",
            "eb5238162d544e8abe4ab5c2a8438e94",
            "80c0927489df48ce98f774bb38b9088f",
            "bec98b089f8f4bd6aabab2fbac79c0f2",
            "18b9c4be3fd3481e9407b9cb939ac6c4",
            "86d9185f631249618f841b2405db9827",
            "669860e839aa4458b4632b94d75cae43",
            "70b62b1fc9244c519a6e2a675c012c2f",
            "fe4c0cac75d34c34b0b0e0dacb27ad87",
            "e2f4250e878b42ed8a6d7687a2db8145",
            "8d44ee57860a439fbe65bbe3fce3fb21",
            "5d22b2c6ca8740f899a1b085468dce8d"
          ]
        },
        "id": "blNGUNoh8BKj",
        "outputId": "42f17d6a-0787-4e12-ba85-586633c0df85"
      },
      "execution_count": 361,
      "outputs": [
        {
          "output_type": "display_data",
          "data": {
            "text/plain": [
              "  0%|          | 0/1279 [00:00<?, ?it/s]"
            ],
            "application/vnd.jupyter.widget-view+json": {
              "version_major": 2,
              "version_minor": 0,
              "model_id": "170a63e1d6144995a5c3fcc43f257301"
            }
          },
          "metadata": {}
        },
        {
          "output_type": "stream",
          "name": "stdout",
          "text": [
            "(1279, 1)\n"
          ]
        },
        {
          "output_type": "display_data",
          "data": {
            "text/plain": [
              "  0%|          | 0/1514 [00:00<?, ?it/s]"
            ],
            "application/vnd.jupyter.widget-view+json": {
              "version_major": 2,
              "version_minor": 0,
              "model_id": "eb5238162d544e8abe4ab5c2a8438e94"
            }
          },
          "metadata": {}
        },
        {
          "output_type": "stream",
          "name": "stdout",
          "text": [
            "(1514, 1)\n"
          ]
        }
      ]
    },
    {
      "cell_type": "code",
      "source": [
        "scaler = RobustScaler(quantile_range=(35.0, 65.0))\n",
        "zero_delta_train, zero_delta_test= scaled_df(zero_delta_train,\n",
        "                                 df_train,\n",
        "                                 zero_delta_test,\n",
        "                                 df_test,\n",
        "                                 scaler)\n",
        "\n",
        "zero_delta_train.columns = ['Zero Crossing Rate delta']\n",
        "zero_delta_test.columns = ['Zero Crossing Rate delta']"
      ],
      "metadata": {
        "id": "XT4EjvO68MmT"
      },
      "execution_count": 362,
      "outputs": []
    },
    {
      "cell_type": "markdown",
      "metadata": {
        "id": "BMlOpQBdcn7E"
      },
      "source": [
        "### RMS"
      ]
    },
    {
      "cell_type": "markdown",
      "metadata": {
        "id": "4upIh3wEcp9w"
      },
      "source": [
        "* Compute root-mean-square (RMS) value for each frame, either from the audio samples y or from a spectrogram S."
      ]
    },
    {
      "cell_type": "code",
      "execution_count": 363,
      "metadata": {
        "id": "uA8-UtKpcr54"
      },
      "outputs": [],
      "source": [
        "def get_rms_feature(df):\n",
        "    features = []\n",
        "    for path in tqdm(df['SAMPLE_PATH']):\n",
        "        # librosa패키지를 사용하여 wav 파일 load\n",
        "        y, sr = librosa.load(path, sr=16000)\n",
        "        \n",
        "        # librosa패키지를 사용하여 RMS 추출\n",
        "        rms = librosa.feature.rms(y=y)\n",
        "\n",
        "        y_feature = []\n",
        "        # 추출된 RMS의 절사평균을 Feature로 사용\n",
        "        for e in rms:\n",
        "\n",
        "            e = np.mean(e)\n",
        "\n",
        "            y_feature.append(e)\n",
        "\n",
        "        features.append(y_feature)\n",
        "    \n",
        "    rms_df = pd.DataFrame(features,\n",
        "                           columns=['RMS'])\n",
        "\n",
        "    print(rms_df.shape)\n",
        "\n",
        "    return rms_df"
      ]
    },
    {
      "cell_type": "code",
      "execution_count": 364,
      "metadata": {
        "colab": {
          "base_uri": "https://localhost:8080/",
          "height": 117,
          "referenced_widgets": [
            "0ab0706e09de4b24af2a1154cecdbe1b",
            "d34ad307bbe846ea9c0d39773f04d85a",
            "4332ea86f94b4a759e4324137293a7f0",
            "8ffcd74c31c24f198efb6ea5a2e229fe",
            "5645e5315a6d4f56b7d812245e302b95",
            "de30982b21e041f0a365f8276edd67a3",
            "02a1632321844f12af8f2a49dd7bb477",
            "e4da58c855f0430381fe0629dc3683f3",
            "4fb5bdd4eb6b4e8399b9d260fac40b0b",
            "ffc5bd115caf461c90dc7f8270b16272",
            "17f042ebf483476a9b9be9fe0ebcd418",
            "f7c476242b0d4e77a93e9798ce78b7f9",
            "936c4234a00344c9aa3fc7d3665c6e1b",
            "76ab6c9888aa457cabd1e831aeaa763c",
            "0c7431aa79934b0985afc102741f8e6d",
            "4b50481ec20d4c9988457a14c0176a52",
            "659bd69dbea44115a8ec171a106c7d33",
            "66a63d2afdcf4cbcbf7dcfde13939de1",
            "8e841b4d5169489ba46d4f4e219b8407",
            "1f5f6419b85243b08931b924e18abd4c",
            "9766d6d431804755a831f7ac3d1286a5",
            "d362693d626d48898438d3eea66c6266"
          ]
        },
        "id": "VdjolVtuc80c",
        "outputId": "c98d99b6-7850-4c55-d9ad-4278bcbfb00c"
      },
      "outputs": [
        {
          "output_type": "display_data",
          "data": {
            "text/plain": [
              "  0%|          | 0/1279 [00:00<?, ?it/s]"
            ],
            "application/vnd.jupyter.widget-view+json": {
              "version_major": 2,
              "version_minor": 0,
              "model_id": "0ab0706e09de4b24af2a1154cecdbe1b"
            }
          },
          "metadata": {}
        },
        {
          "output_type": "stream",
          "name": "stdout",
          "text": [
            "(1279, 1)\n"
          ]
        },
        {
          "output_type": "display_data",
          "data": {
            "text/plain": [
              "  0%|          | 0/1514 [00:00<?, ?it/s]"
            ],
            "application/vnd.jupyter.widget-view+json": {
              "version_major": 2,
              "version_minor": 0,
              "model_id": "f7c476242b0d4e77a93e9798ce78b7f9"
            }
          },
          "metadata": {}
        },
        {
          "output_type": "stream",
          "name": "stdout",
          "text": [
            "(1514, 1)\n"
          ]
        }
      ],
      "source": [
        "rms_train = get_rms_feature(df_train)\n",
        "rms_test = get_rms_feature(df_test)"
      ]
    },
    {
      "cell_type": "code",
      "execution_count": 365,
      "metadata": {
        "id": "zbsT7yxQdDRa"
      },
      "outputs": [],
      "source": [
        "scaler = RobustScaler(quantile_range=(35.0, 65.0))\n",
        "rms_train, rms_test= scaled_df(rms_train,\n",
        "                                 df_train,\n",
        "                                 rms_test,\n",
        "                                 df_test,\n",
        "                                 scaler)\n",
        "\n",
        "rms_train.columns = ['RMS']\n",
        "rms_test.columns = ['RMS']"
      ]
    },
    {
      "cell_type": "code",
      "execution_count": 366,
      "metadata": {
        "colab": {
          "base_uri": "https://localhost:8080/",
          "height": 206
        },
        "id": "PaV_tpEbdHQZ",
        "outputId": "60af38ba-4ff0-4dd1-d7a9-f01213c2e81c"
      },
      "outputs": [
        {
          "output_type": "execute_result",
          "data": {
            "text/plain": [
              "        RMS\n",
              "0  0.914106\n",
              "1 -0.092390\n",
              "2 -1.560508\n",
              "3  1.459444\n",
              "4 -1.562469"
            ],
            "text/html": [
              "\n",
              "  <div id=\"df-00e04152-0070-4f41-afe4-cfcd465564f4\">\n",
              "    <div class=\"colab-df-container\">\n",
              "      <div>\n",
              "<style scoped>\n",
              "    .dataframe tbody tr th:only-of-type {\n",
              "        vertical-align: middle;\n",
              "    }\n",
              "\n",
              "    .dataframe tbody tr th {\n",
              "        vertical-align: top;\n",
              "    }\n",
              "\n",
              "    .dataframe thead th {\n",
              "        text-align: right;\n",
              "    }\n",
              "</style>\n",
              "<table border=\"1\" class=\"dataframe\">\n",
              "  <thead>\n",
              "    <tr style=\"text-align: right;\">\n",
              "      <th></th>\n",
              "      <th>RMS</th>\n",
              "    </tr>\n",
              "  </thead>\n",
              "  <tbody>\n",
              "    <tr>\n",
              "      <th>0</th>\n",
              "      <td>0.914106</td>\n",
              "    </tr>\n",
              "    <tr>\n",
              "      <th>1</th>\n",
              "      <td>-0.092390</td>\n",
              "    </tr>\n",
              "    <tr>\n",
              "      <th>2</th>\n",
              "      <td>-1.560508</td>\n",
              "    </tr>\n",
              "    <tr>\n",
              "      <th>3</th>\n",
              "      <td>1.459444</td>\n",
              "    </tr>\n",
              "    <tr>\n",
              "      <th>4</th>\n",
              "      <td>-1.562469</td>\n",
              "    </tr>\n",
              "  </tbody>\n",
              "</table>\n",
              "</div>\n",
              "      <button class=\"colab-df-convert\" onclick=\"convertToInteractive('df-00e04152-0070-4f41-afe4-cfcd465564f4')\"\n",
              "              title=\"Convert this dataframe to an interactive table.\"\n",
              "              style=\"display:none;\">\n",
              "        \n",
              "  <svg xmlns=\"http://www.w3.org/2000/svg\" height=\"24px\"viewBox=\"0 0 24 24\"\n",
              "       width=\"24px\">\n",
              "    <path d=\"M0 0h24v24H0V0z\" fill=\"none\"/>\n",
              "    <path d=\"M18.56 5.44l.94 2.06.94-2.06 2.06-.94-2.06-.94-.94-2.06-.94 2.06-2.06.94zm-11 1L8.5 8.5l.94-2.06 2.06-.94-2.06-.94L8.5 2.5l-.94 2.06-2.06.94zm10 10l.94 2.06.94-2.06 2.06-.94-2.06-.94-.94-2.06-.94 2.06-2.06.94z\"/><path d=\"M17.41 7.96l-1.37-1.37c-.4-.4-.92-.59-1.43-.59-.52 0-1.04.2-1.43.59L10.3 9.45l-7.72 7.72c-.78.78-.78 2.05 0 2.83L4 21.41c.39.39.9.59 1.41.59.51 0 1.02-.2 1.41-.59l7.78-7.78 2.81-2.81c.8-.78.8-2.07 0-2.86zM5.41 20L4 18.59l7.72-7.72 1.47 1.35L5.41 20z\"/>\n",
              "  </svg>\n",
              "      </button>\n",
              "      \n",
              "  <style>\n",
              "    .colab-df-container {\n",
              "      display:flex;\n",
              "      flex-wrap:wrap;\n",
              "      gap: 12px;\n",
              "    }\n",
              "\n",
              "    .colab-df-convert {\n",
              "      background-color: #E8F0FE;\n",
              "      border: none;\n",
              "      border-radius: 50%;\n",
              "      cursor: pointer;\n",
              "      display: none;\n",
              "      fill: #1967D2;\n",
              "      height: 32px;\n",
              "      padding: 0 0 0 0;\n",
              "      width: 32px;\n",
              "    }\n",
              "\n",
              "    .colab-df-convert:hover {\n",
              "      background-color: #E2EBFA;\n",
              "      box-shadow: 0px 1px 2px rgba(60, 64, 67, 0.3), 0px 1px 3px 1px rgba(60, 64, 67, 0.15);\n",
              "      fill: #174EA6;\n",
              "    }\n",
              "\n",
              "    [theme=dark] .colab-df-convert {\n",
              "      background-color: #3B4455;\n",
              "      fill: #D2E3FC;\n",
              "    }\n",
              "\n",
              "    [theme=dark] .colab-df-convert:hover {\n",
              "      background-color: #434B5C;\n",
              "      box-shadow: 0px 1px 3px 1px rgba(0, 0, 0, 0.15);\n",
              "      filter: drop-shadow(0px 1px 2px rgba(0, 0, 0, 0.3));\n",
              "      fill: #FFFFFF;\n",
              "    }\n",
              "  </style>\n",
              "\n",
              "      <script>\n",
              "        const buttonEl =\n",
              "          document.querySelector('#df-00e04152-0070-4f41-afe4-cfcd465564f4 button.colab-df-convert');\n",
              "        buttonEl.style.display =\n",
              "          google.colab.kernel.accessAllowed ? 'block' : 'none';\n",
              "\n",
              "        async function convertToInteractive(key) {\n",
              "          const element = document.querySelector('#df-00e04152-0070-4f41-afe4-cfcd465564f4');\n",
              "          const dataTable =\n",
              "            await google.colab.kernel.invokeFunction('convertToInteractive',\n",
              "                                                     [key], {});\n",
              "          if (!dataTable) return;\n",
              "\n",
              "          const docLinkHtml = 'Like what you see? Visit the ' +\n",
              "            '<a target=\"_blank\" href=https://colab.research.google.com/notebooks/data_table.ipynb>data table notebook</a>'\n",
              "            + ' to learn more about interactive tables.';\n",
              "          element.innerHTML = '';\n",
              "          dataTable['output_type'] = 'display_data';\n",
              "          await google.colab.output.renderOutput(dataTable, element);\n",
              "          const docLink = document.createElement('div');\n",
              "          docLink.innerHTML = docLinkHtml;\n",
              "          element.appendChild(docLink);\n",
              "        }\n",
              "      </script>\n",
              "    </div>\n",
              "  </div>\n",
              "  "
            ]
          },
          "metadata": {},
          "execution_count": 366
        }
      ],
      "source": [
        "rms_train.head()"
      ]
    },
    {
      "cell_type": "code",
      "source": [
        "def get_rms_delta_feature(df):\n",
        "    features = []\n",
        "    for path in tqdm(df['SAMPLE_PATH']):\n",
        "        # librosa패키지를 사용하여 wav 파일 load\n",
        "        y, sr = librosa.load(path, sr=16000)\n",
        "        \n",
        "        # librosa패키지를 사용하여 RMS 추출\n",
        "        rms = librosa.feature.rms(y=y)\n",
        "        rms = librosa.feature.delta(\n",
        "                                   rms,\n",
        "                                   order=1\n",
        "                                   )\n",
        "\n",
        "        y_feature = []\n",
        "        # 추출된 RMS의 절사평균을 Feature로 사용\n",
        "        for e in rms:\n",
        "\n",
        "            e = np.mean(e)\n",
        "\n",
        "            y_feature.append(e)\n",
        "\n",
        "        features.append(y_feature)\n",
        "    \n",
        "    rms_df = pd.DataFrame(features,\n",
        "                           columns=['RMS_delta'])\n",
        "\n",
        "    print(rms_df.shape)\n",
        "\n",
        "    return rms_df"
      ],
      "metadata": {
        "id": "8hxMD1VQ1z6-"
      },
      "execution_count": 367,
      "outputs": []
    },
    {
      "cell_type": "code",
      "source": [
        "rms_delta_train = get_rms_delta_feature(df_train)\n",
        "rms_delta_test = get_rms_delta_feature(df_test)"
      ],
      "metadata": {
        "colab": {
          "base_uri": "https://localhost:8080/",
          "height": 117,
          "referenced_widgets": [
            "34505e59a55946e383f7dee701f6e530",
            "3f45bef518f14ea7bf69b709fd59e960",
            "84d3f339435841d3a34807125c1ba0a1",
            "a7d08b44c9ad43a19a1b4b423bcdbd19",
            "32c74b4080774f649a2a457dd77f0d93",
            "e2cc0ead545d436ebe25ec496457cd76",
            "f3f90236f51f4cd396125b28d1734387",
            "288b7332338a427e85040fff96ec1a48",
            "3503391d0c1d45cc9e166f75c543997e",
            "e11c5687d8de47ffaed743a8d30e0510",
            "fb29bc00a5ad4b51a032222956224c33",
            "1941d350b9614c2299d93bedf864e393",
            "6acdc381631c4d9b884dff47e59ad5fb",
            "1d8d8779466e444fa3ed4f0d39e29b8d",
            "7827305d48af4460bc1c2a7bb6b2d4b9",
            "3f192586e7d749c6be23ce84fdd25ff9",
            "e25d5a318c104f26a17d30d1539e2fde",
            "5089031865aa4fea955cd1766b19bfe5",
            "a6f9373846e14e8da496cfd26a074647",
            "a894675b988e4e29b4ab1345925c2622",
            "a69649d4c7254669940ce9b9e20e468f",
            "aff4d94e30d74aa682527daade46239d"
          ]
        },
        "id": "k-qhsS6-2C79",
        "outputId": "a8a090c8-dc9e-43f2-94e4-fee528f0146d"
      },
      "execution_count": 368,
      "outputs": [
        {
          "output_type": "display_data",
          "data": {
            "text/plain": [
              "  0%|          | 0/1279 [00:00<?, ?it/s]"
            ],
            "application/vnd.jupyter.widget-view+json": {
              "version_major": 2,
              "version_minor": 0,
              "model_id": "34505e59a55946e383f7dee701f6e530"
            }
          },
          "metadata": {}
        },
        {
          "output_type": "stream",
          "name": "stdout",
          "text": [
            "(1279, 1)\n"
          ]
        },
        {
          "output_type": "display_data",
          "data": {
            "text/plain": [
              "  0%|          | 0/1514 [00:00<?, ?it/s]"
            ],
            "application/vnd.jupyter.widget-view+json": {
              "version_major": 2,
              "version_minor": 0,
              "model_id": "1941d350b9614c2299d93bedf864e393"
            }
          },
          "metadata": {}
        },
        {
          "output_type": "stream",
          "name": "stdout",
          "text": [
            "(1514, 1)\n"
          ]
        }
      ]
    },
    {
      "cell_type": "code",
      "source": [
        "scaler = RobustScaler(quantile_range=(35.0, 65.0))\n",
        "rms_delta_train, rms_delta_test= scaled_df(rms_delta_train,\n",
        "                                 df_train,\n",
        "                                 rms_delta_test,\n",
        "                                 df_test,\n",
        "                                 scaler)\n",
        "\n",
        "rms_delta_train.columns = ['RMS_delta']\n",
        "rms_delta_test.columns = ['RMS_delta']"
      ],
      "metadata": {
        "id": "5VwdwF5_2IRx"
      },
      "execution_count": 369,
      "outputs": []
    },
    {
      "cell_type": "code",
      "source": [
        "rms_delta_train.head()"
      ],
      "metadata": {
        "colab": {
          "base_uri": "https://localhost:8080/",
          "height": 206
        },
        "id": "kDusJRTH4Hm8",
        "outputId": "0e8cb328-e65a-4478-902b-a79c6487d6d8"
      },
      "execution_count": 370,
      "outputs": [
        {
          "output_type": "execute_result",
          "data": {
            "text/plain": [
              "   RMS_delta\n",
              "0  -1.279658\n",
              "1  -0.283601\n",
              "2  -0.532520\n",
              "3  -0.671733\n",
              "4  -1.726304"
            ],
            "text/html": [
              "\n",
              "  <div id=\"df-1e77b214-677f-403d-8720-9a2bc37daad6\">\n",
              "    <div class=\"colab-df-container\">\n",
              "      <div>\n",
              "<style scoped>\n",
              "    .dataframe tbody tr th:only-of-type {\n",
              "        vertical-align: middle;\n",
              "    }\n",
              "\n",
              "    .dataframe tbody tr th {\n",
              "        vertical-align: top;\n",
              "    }\n",
              "\n",
              "    .dataframe thead th {\n",
              "        text-align: right;\n",
              "    }\n",
              "</style>\n",
              "<table border=\"1\" class=\"dataframe\">\n",
              "  <thead>\n",
              "    <tr style=\"text-align: right;\">\n",
              "      <th></th>\n",
              "      <th>RMS_delta</th>\n",
              "    </tr>\n",
              "  </thead>\n",
              "  <tbody>\n",
              "    <tr>\n",
              "      <th>0</th>\n",
              "      <td>-1.279658</td>\n",
              "    </tr>\n",
              "    <tr>\n",
              "      <th>1</th>\n",
              "      <td>-0.283601</td>\n",
              "    </tr>\n",
              "    <tr>\n",
              "      <th>2</th>\n",
              "      <td>-0.532520</td>\n",
              "    </tr>\n",
              "    <tr>\n",
              "      <th>3</th>\n",
              "      <td>-0.671733</td>\n",
              "    </tr>\n",
              "    <tr>\n",
              "      <th>4</th>\n",
              "      <td>-1.726304</td>\n",
              "    </tr>\n",
              "  </tbody>\n",
              "</table>\n",
              "</div>\n",
              "      <button class=\"colab-df-convert\" onclick=\"convertToInteractive('df-1e77b214-677f-403d-8720-9a2bc37daad6')\"\n",
              "              title=\"Convert this dataframe to an interactive table.\"\n",
              "              style=\"display:none;\">\n",
              "        \n",
              "  <svg xmlns=\"http://www.w3.org/2000/svg\" height=\"24px\"viewBox=\"0 0 24 24\"\n",
              "       width=\"24px\">\n",
              "    <path d=\"M0 0h24v24H0V0z\" fill=\"none\"/>\n",
              "    <path d=\"M18.56 5.44l.94 2.06.94-2.06 2.06-.94-2.06-.94-.94-2.06-.94 2.06-2.06.94zm-11 1L8.5 8.5l.94-2.06 2.06-.94-2.06-.94L8.5 2.5l-.94 2.06-2.06.94zm10 10l.94 2.06.94-2.06 2.06-.94-2.06-.94-.94-2.06-.94 2.06-2.06.94z\"/><path d=\"M17.41 7.96l-1.37-1.37c-.4-.4-.92-.59-1.43-.59-.52 0-1.04.2-1.43.59L10.3 9.45l-7.72 7.72c-.78.78-.78 2.05 0 2.83L4 21.41c.39.39.9.59 1.41.59.51 0 1.02-.2 1.41-.59l7.78-7.78 2.81-2.81c.8-.78.8-2.07 0-2.86zM5.41 20L4 18.59l7.72-7.72 1.47 1.35L5.41 20z\"/>\n",
              "  </svg>\n",
              "      </button>\n",
              "      \n",
              "  <style>\n",
              "    .colab-df-container {\n",
              "      display:flex;\n",
              "      flex-wrap:wrap;\n",
              "      gap: 12px;\n",
              "    }\n",
              "\n",
              "    .colab-df-convert {\n",
              "      background-color: #E8F0FE;\n",
              "      border: none;\n",
              "      border-radius: 50%;\n",
              "      cursor: pointer;\n",
              "      display: none;\n",
              "      fill: #1967D2;\n",
              "      height: 32px;\n",
              "      padding: 0 0 0 0;\n",
              "      width: 32px;\n",
              "    }\n",
              "\n",
              "    .colab-df-convert:hover {\n",
              "      background-color: #E2EBFA;\n",
              "      box-shadow: 0px 1px 2px rgba(60, 64, 67, 0.3), 0px 1px 3px 1px rgba(60, 64, 67, 0.15);\n",
              "      fill: #174EA6;\n",
              "    }\n",
              "\n",
              "    [theme=dark] .colab-df-convert {\n",
              "      background-color: #3B4455;\n",
              "      fill: #D2E3FC;\n",
              "    }\n",
              "\n",
              "    [theme=dark] .colab-df-convert:hover {\n",
              "      background-color: #434B5C;\n",
              "      box-shadow: 0px 1px 3px 1px rgba(0, 0, 0, 0.15);\n",
              "      filter: drop-shadow(0px 1px 2px rgba(0, 0, 0, 0.3));\n",
              "      fill: #FFFFFF;\n",
              "    }\n",
              "  </style>\n",
              "\n",
              "      <script>\n",
              "        const buttonEl =\n",
              "          document.querySelector('#df-1e77b214-677f-403d-8720-9a2bc37daad6 button.colab-df-convert');\n",
              "        buttonEl.style.display =\n",
              "          google.colab.kernel.accessAllowed ? 'block' : 'none';\n",
              "\n",
              "        async function convertToInteractive(key) {\n",
              "          const element = document.querySelector('#df-1e77b214-677f-403d-8720-9a2bc37daad6');\n",
              "          const dataTable =\n",
              "            await google.colab.kernel.invokeFunction('convertToInteractive',\n",
              "                                                     [key], {});\n",
              "          if (!dataTable) return;\n",
              "\n",
              "          const docLinkHtml = 'Like what you see? Visit the ' +\n",
              "            '<a target=\"_blank\" href=https://colab.research.google.com/notebooks/data_table.ipynb>data table notebook</a>'\n",
              "            + ' to learn more about interactive tables.';\n",
              "          element.innerHTML = '';\n",
              "          dataTable['output_type'] = 'display_data';\n",
              "          await google.colab.output.renderOutput(dataTable, element);\n",
              "          const docLink = document.createElement('div');\n",
              "          docLink.innerHTML = docLinkHtml;\n",
              "          element.appendChild(docLink);\n",
              "        }\n",
              "      </script>\n",
              "    </div>\n",
              "  </div>\n",
              "  "
            ]
          },
          "metadata": {},
          "execution_count": 370
        }
      ]
    },
    {
      "cell_type": "markdown",
      "metadata": {
        "id": "GE3zFrGj433-"
      },
      "source": [
        "### Poly Feature"
      ]
    },
    {
      "cell_type": "markdown",
      "metadata": {
        "id": "GMfvAqNLKEBt"
      },
      "source": [
        "* Get coefficients of fitting an nth-order polynomial to the columns of a spectrogram."
      ]
    },
    {
      "cell_type": "code",
      "execution_count": 19,
      "metadata": {
        "id": "AQQkSk3L42yF"
      },
      "outputs": [],
      "source": [
        "def get_poly_feature(df):\n",
        "    features = []\n",
        "    for path in tqdm(df['SAMPLE_PATH']):\n",
        "        # librosa패키지를 사용하여 wav 파일 load\n",
        "        y, sr = librosa.load(path, sr=16000)\n",
        "        \n",
        "        # librosa패키지를 사용하여 poly 추출\n",
        "        poly = librosa.feature.poly_features(\n",
        "                                             y=y,\n",
        "                                             sr=sr,\n",
        "                                             #order=2\n",
        "                                             )\n",
        "\n",
        "        y_feature = []\n",
        "        # 추출된 Poly들의 평균을 Feature로 사용\n",
        "        for e in poly:\n",
        "\n",
        "            y_feature.append(np.mean(e))\n",
        "\n",
        "        features.append(y_feature)\n",
        "\n",
        "    columns = ['Poly'+str(i) for i in range(len(features[0]))]\n",
        "    \n",
        "    poly_df = pd.DataFrame(features,\n",
        "                           columns=columns)\n",
        "\n",
        "    print(poly_df.shape)\n",
        "\n",
        "    return poly_df"
      ]
    },
    {
      "cell_type": "code",
      "execution_count": 20,
      "metadata": {
        "colab": {
          "base_uri": "https://localhost:8080/",
          "height": 117,
          "referenced_widgets": [
            "9e8b43bb1cc7452cac2ae343ea753a8c",
            "1c14b393a46347f49b10522028da5da4",
            "85b99f0476944dd08e094f5ca224383c",
            "03c55a2809694cc8a2c220ed97d6772a",
            "bfc5ec1f4aaf4fb9a99fa501b41696b5",
            "754bf986e83c44719d5fa3a507aa39ab",
            "4f632b28269e4407b902c7ad0a78bfb6",
            "7f898138ed3542cfa49ef3aa8622f96e",
            "0a2f4c9cc11d44269e6cbd0656cf21d1",
            "8b49bc4d19ee421a8c6aa29ff6e76b16",
            "623cc2424c0547b981de8b3538360eae",
            "11d040f4680943fe8009c8e07fe4f88e",
            "1be18f1568c94b30a4a0d3aa1e9ee06d",
            "873441b0c12440398277f15e2300beea",
            "7ae594f89c5e4c70a81223e9cd54b8a6",
            "e072ba0011d94328a27bda87e4711c79",
            "98baaf283dbd443cb8db332dedbba9f2",
            "0759cd6252e44d95837565e213c4ffba",
            "a8ce75802153453eb6cf3b4bbd1061a8",
            "4b112db1dafa4ea296b608081aff8440",
            "e60099c515b14e0786c36411acc75dd4",
            "eacb95765a6e444c8ba1e5a533d2111c"
          ]
        },
        "id": "bhGW4fU648tH",
        "outputId": "89e8473e-de01-4ae7-ab6f-bc66c2185028"
      },
      "outputs": [
        {
          "output_type": "display_data",
          "data": {
            "text/plain": [
              "  0%|          | 0/1279 [00:00<?, ?it/s]"
            ],
            "application/vnd.jupyter.widget-view+json": {
              "version_major": 2,
              "version_minor": 0,
              "model_id": "9e8b43bb1cc7452cac2ae343ea753a8c"
            }
          },
          "metadata": {}
        },
        {
          "output_type": "stream",
          "name": "stdout",
          "text": [
            "(1279, 2)\n"
          ]
        },
        {
          "output_type": "display_data",
          "data": {
            "text/plain": [
              "  0%|          | 0/1514 [00:00<?, ?it/s]"
            ],
            "application/vnd.jupyter.widget-view+json": {
              "version_major": 2,
              "version_minor": 0,
              "model_id": "11d040f4680943fe8009c8e07fe4f88e"
            }
          },
          "metadata": {}
        },
        {
          "output_type": "stream",
          "name": "stdout",
          "text": [
            "(1514, 2)\n"
          ]
        }
      ],
      "source": [
        "poly_train = get_poly_feature(df_train)\n",
        "poly_test = get_poly_feature(df_test)"
      ]
    },
    {
      "cell_type": "code",
      "execution_count": 21,
      "metadata": {
        "id": "sKWu7cTY49oo"
      },
      "outputs": [],
      "source": [
        "scaler = RobustScaler(quantile_range=(40.0, 60.0))\n",
        "poly_train, poly_test= scaled_df(poly_train,\n",
        "                                 df_train,\n",
        "                                 poly_test,\n",
        "                                 df_test,\n",
        "                                 scaler)\n",
        "\n",
        "poly_train.columns = ['Poly_'+str(i) for i in range(len(poly_train.columns))]\n",
        "poly_test.columns = ['Poly_'+str(i) for i in range(len(poly_test.columns))]"
      ]
    },
    {
      "cell_type": "code",
      "execution_count": 22,
      "metadata": {
        "colab": {
          "base_uri": "https://localhost:8080/",
          "height": 206
        },
        "id": "g3GyPnXy5AJq",
        "outputId": "56c4c05e-b1a7-422a-9db4-5a46fd5f1a9e"
      },
      "outputs": [
        {
          "output_type": "execute_result",
          "data": {
            "text/plain": [
              "     Poly_0    Poly_1\n",
              "0 -1.251050  1.773784\n",
              "1  0.500273 -1.051736\n",
              "2  1.853597 -1.256996\n",
              "3 -1.329506  1.690499\n",
              "4  1.831355 -1.390130"
            ],
            "text/html": [
              "\n",
              "  <div id=\"df-d47494d4-fee1-4a85-b203-c7e5c839aa65\">\n",
              "    <div class=\"colab-df-container\">\n",
              "      <div>\n",
              "<style scoped>\n",
              "    .dataframe tbody tr th:only-of-type {\n",
              "        vertical-align: middle;\n",
              "    }\n",
              "\n",
              "    .dataframe tbody tr th {\n",
              "        vertical-align: top;\n",
              "    }\n",
              "\n",
              "    .dataframe thead th {\n",
              "        text-align: right;\n",
              "    }\n",
              "</style>\n",
              "<table border=\"1\" class=\"dataframe\">\n",
              "  <thead>\n",
              "    <tr style=\"text-align: right;\">\n",
              "      <th></th>\n",
              "      <th>Poly_0</th>\n",
              "      <th>Poly_1</th>\n",
              "    </tr>\n",
              "  </thead>\n",
              "  <tbody>\n",
              "    <tr>\n",
              "      <th>0</th>\n",
              "      <td>-1.251050</td>\n",
              "      <td>1.773784</td>\n",
              "    </tr>\n",
              "    <tr>\n",
              "      <th>1</th>\n",
              "      <td>0.500273</td>\n",
              "      <td>-1.051736</td>\n",
              "    </tr>\n",
              "    <tr>\n",
              "      <th>2</th>\n",
              "      <td>1.853597</td>\n",
              "      <td>-1.256996</td>\n",
              "    </tr>\n",
              "    <tr>\n",
              "      <th>3</th>\n",
              "      <td>-1.329506</td>\n",
              "      <td>1.690499</td>\n",
              "    </tr>\n",
              "    <tr>\n",
              "      <th>4</th>\n",
              "      <td>1.831355</td>\n",
              "      <td>-1.390130</td>\n",
              "    </tr>\n",
              "  </tbody>\n",
              "</table>\n",
              "</div>\n",
              "      <button class=\"colab-df-convert\" onclick=\"convertToInteractive('df-d47494d4-fee1-4a85-b203-c7e5c839aa65')\"\n",
              "              title=\"Convert this dataframe to an interactive table.\"\n",
              "              style=\"display:none;\">\n",
              "        \n",
              "  <svg xmlns=\"http://www.w3.org/2000/svg\" height=\"24px\"viewBox=\"0 0 24 24\"\n",
              "       width=\"24px\">\n",
              "    <path d=\"M0 0h24v24H0V0z\" fill=\"none\"/>\n",
              "    <path d=\"M18.56 5.44l.94 2.06.94-2.06 2.06-.94-2.06-.94-.94-2.06-.94 2.06-2.06.94zm-11 1L8.5 8.5l.94-2.06 2.06-.94-2.06-.94L8.5 2.5l-.94 2.06-2.06.94zm10 10l.94 2.06.94-2.06 2.06-.94-2.06-.94-.94-2.06-.94 2.06-2.06.94z\"/><path d=\"M17.41 7.96l-1.37-1.37c-.4-.4-.92-.59-1.43-.59-.52 0-1.04.2-1.43.59L10.3 9.45l-7.72 7.72c-.78.78-.78 2.05 0 2.83L4 21.41c.39.39.9.59 1.41.59.51 0 1.02-.2 1.41-.59l7.78-7.78 2.81-2.81c.8-.78.8-2.07 0-2.86zM5.41 20L4 18.59l7.72-7.72 1.47 1.35L5.41 20z\"/>\n",
              "  </svg>\n",
              "      </button>\n",
              "      \n",
              "  <style>\n",
              "    .colab-df-container {\n",
              "      display:flex;\n",
              "      flex-wrap:wrap;\n",
              "      gap: 12px;\n",
              "    }\n",
              "\n",
              "    .colab-df-convert {\n",
              "      background-color: #E8F0FE;\n",
              "      border: none;\n",
              "      border-radius: 50%;\n",
              "      cursor: pointer;\n",
              "      display: none;\n",
              "      fill: #1967D2;\n",
              "      height: 32px;\n",
              "      padding: 0 0 0 0;\n",
              "      width: 32px;\n",
              "    }\n",
              "\n",
              "    .colab-df-convert:hover {\n",
              "      background-color: #E2EBFA;\n",
              "      box-shadow: 0px 1px 2px rgba(60, 64, 67, 0.3), 0px 1px 3px 1px rgba(60, 64, 67, 0.15);\n",
              "      fill: #174EA6;\n",
              "    }\n",
              "\n",
              "    [theme=dark] .colab-df-convert {\n",
              "      background-color: #3B4455;\n",
              "      fill: #D2E3FC;\n",
              "    }\n",
              "\n",
              "    [theme=dark] .colab-df-convert:hover {\n",
              "      background-color: #434B5C;\n",
              "      box-shadow: 0px 1px 3px 1px rgba(0, 0, 0, 0.15);\n",
              "      filter: drop-shadow(0px 1px 2px rgba(0, 0, 0, 0.3));\n",
              "      fill: #FFFFFF;\n",
              "    }\n",
              "  </style>\n",
              "\n",
              "      <script>\n",
              "        const buttonEl =\n",
              "          document.querySelector('#df-d47494d4-fee1-4a85-b203-c7e5c839aa65 button.colab-df-convert');\n",
              "        buttonEl.style.display =\n",
              "          google.colab.kernel.accessAllowed ? 'block' : 'none';\n",
              "\n",
              "        async function convertToInteractive(key) {\n",
              "          const element = document.querySelector('#df-d47494d4-fee1-4a85-b203-c7e5c839aa65');\n",
              "          const dataTable =\n",
              "            await google.colab.kernel.invokeFunction('convertToInteractive',\n",
              "                                                     [key], {});\n",
              "          if (!dataTable) return;\n",
              "\n",
              "          const docLinkHtml = 'Like what you see? Visit the ' +\n",
              "            '<a target=\"_blank\" href=https://colab.research.google.com/notebooks/data_table.ipynb>data table notebook</a>'\n",
              "            + ' to learn more about interactive tables.';\n",
              "          element.innerHTML = '';\n",
              "          dataTable['output_type'] = 'display_data';\n",
              "          await google.colab.output.renderOutput(dataTable, element);\n",
              "          const docLink = document.createElement('div');\n",
              "          docLink.innerHTML = docLinkHtml;\n",
              "          element.appendChild(docLink);\n",
              "        }\n",
              "      </script>\n",
              "    </div>\n",
              "  </div>\n",
              "  "
            ]
          },
          "metadata": {},
          "execution_count": 22
        }
      ],
      "source": [
        "poly_train.head()"
      ]
    },
    {
      "cell_type": "markdown",
      "metadata": {
        "id": "cDOCeCTv69Dq"
      },
      "source": [
        "### Spectral"
      ]
    },
    {
      "cell_type": "markdown",
      "metadata": {
        "id": "fcTwboG-7CUD"
      },
      "source": [
        "#### Spectral Centroid"
      ]
    },
    {
      "cell_type": "markdown",
      "metadata": {
        "id": "iiIkhm-JV4TW"
      },
      "source": [
        "* Compute the spectral centroid.\n",
        "\n",
        "* Each frame of a magnitude spectrogram is normalized and treated as a distribution over frequency bins, from which the mean (centroid) is extracted per frame.\n",
        "\n",
        "* 음성의 각 프레임마다 평균(중심) 주파수를 반환\n",
        "\n",
        "* Spectrum의 질량중심(Center of mass)을 구한다. Frequency들의 magnitude에 따른 centroid들의 weighted sum이라고 생각하면 된다."
      ]
    },
    {
      "cell_type": "code",
      "execution_count": 23,
      "metadata": {
        "id": "Ct1PFy1J8DjS"
      },
      "outputs": [],
      "source": [
        "def get_spectral_centroid_feature(df):\n",
        "    features = []\n",
        "    for path in tqdm(df['SAMPLE_PATH']):\n",
        "        # librosa패키지를 사용하여 wav 파일 load\n",
        "        y, sr = librosa.load(path, sr=16000)\n",
        "        \n",
        "        # librosa패키지를 사용하여 poly 추출\n",
        "        centroid = librosa.feature.spectral_centroid(y=y, sr=sr)\n",
        "\n",
        "        y_feature = []\n",
        "        # 추출된 Poly들의 평균을 Feature로 사용\n",
        "        for e in centroid:\n",
        "\n",
        "            y_feature.append(np.mean(e))\n",
        "\n",
        "        features.append(y_feature)\n",
        "\n",
        "    columns = ['spectral_centroid_'+str(i) for i in range(len(features[0]))]\n",
        "    \n",
        "    centroid_df = pd.DataFrame(features,\n",
        "                           columns=columns)\n",
        "\n",
        "    print(centroid_df.shape)\n",
        "\n",
        "    return centroid_df"
      ]
    },
    {
      "cell_type": "code",
      "execution_count": 24,
      "metadata": {
        "colab": {
          "base_uri": "https://localhost:8080/",
          "height": 117,
          "referenced_widgets": [
            "443c1d1977ba41a3b579924d7ac5cb38",
            "5d106a53329645b1b5769880244e6ac9",
            "8c2b51cfaf83417a8b974aa3c74a2dce",
            "1427246818234e56924627f05807ccd2",
            "cdd5783bd87046388148715ccaba5183",
            "c7434d51152246f5b8827d6ef55ae300",
            "5d91b5111b634e1d947258a7024a07e5",
            "e0421433ae21453f80cba6dffa160931",
            "ccdd6bc9c368412cbcfab37a725547f3",
            "98bef4da52e5476eb3038a82f454329a",
            "e01d9b9242494553b1af6efe7cd17e00",
            "c90488cf70e64329adc8a2c330e3d417",
            "3fbde33ecc1b42928f8b75b58012fd8b",
            "abf92b53b38e4072817afc130d974844",
            "3917df84993d420480f0dccdab65c9a1",
            "5bd5131434404975a1edb5ebd86d8754",
            "8a06852ad11b40ca97818ee3c958262d",
            "dc8b78a6483d4df6a8ce8c6c7db0fd68",
            "54e131c7b9bf4530ab28b86df3456111",
            "7da8d0f598f2492eaa707d7fbafb696f",
            "721a7ed1d83d43e0bb455a67550cd7ed",
            "2e26a90ef6db47569e128021f1d974c4"
          ]
        },
        "id": "RvAnNF3r8ds_",
        "outputId": "afac779c-adfc-4627-ccd3-635920642a4b"
      },
      "outputs": [
        {
          "output_type": "display_data",
          "data": {
            "text/plain": [
              "  0%|          | 0/1279 [00:00<?, ?it/s]"
            ],
            "application/vnd.jupyter.widget-view+json": {
              "version_major": 2,
              "version_minor": 0,
              "model_id": "443c1d1977ba41a3b579924d7ac5cb38"
            }
          },
          "metadata": {}
        },
        {
          "output_type": "stream",
          "name": "stdout",
          "text": [
            "(1279, 1)\n"
          ]
        },
        {
          "output_type": "display_data",
          "data": {
            "text/plain": [
              "  0%|          | 0/1514 [00:00<?, ?it/s]"
            ],
            "application/vnd.jupyter.widget-view+json": {
              "version_major": 2,
              "version_minor": 0,
              "model_id": "c90488cf70e64329adc8a2c330e3d417"
            }
          },
          "metadata": {}
        },
        {
          "output_type": "stream",
          "name": "stdout",
          "text": [
            "(1514, 1)\n"
          ]
        }
      ],
      "source": [
        "spectral_centroid_train = get_spectral_centroid_feature(df_train)\n",
        "spectral_centroid_test = get_spectral_centroid_feature(df_test)"
      ]
    },
    {
      "cell_type": "code",
      "execution_count": 25,
      "metadata": {
        "id": "qifYEZO38jsT"
      },
      "outputs": [],
      "source": [
        "scaler = RobustScaler(quantile_range=(40.0, 60.0))\n",
        "spectral_centroid_train, spectral_centroid_test= scaled_df(spectral_centroid_train,\n",
        "                                                           df_train,\n",
        "                                                           spectral_centroid_test,\n",
        "                                                           df_test,\n",
        "                                                           scaler)\n",
        "\n",
        "spectral_centroid_train.columns = ['Spectral_Centroid_'+str(i) for i in range(len(spectral_centroid_train.columns))]\n",
        "spectral_centroid_test.columns = ['Spectral_Centroid_'+str(i) for i in range(len(spectral_centroid_test.columns))]"
      ]
    },
    {
      "cell_type": "code",
      "execution_count": 26,
      "metadata": {
        "colab": {
          "base_uri": "https://localhost:8080/",
          "height": 206
        },
        "id": "GsJNPshs8rjw",
        "outputId": "184d4741-e490-4a4c-9a9c-8ecc891c1594"
      },
      "outputs": [
        {
          "output_type": "execute_result",
          "data": {
            "text/plain": [
              "   Spectral_Centroid_0\n",
              "0            -0.168663\n",
              "1            -1.391978\n",
              "2             1.280020\n",
              "3            -0.577659\n",
              "4             2.607732"
            ],
            "text/html": [
              "\n",
              "  <div id=\"df-caf49ba5-0509-41ab-9e7d-020c2dc7d471\">\n",
              "    <div class=\"colab-df-container\">\n",
              "      <div>\n",
              "<style scoped>\n",
              "    .dataframe tbody tr th:only-of-type {\n",
              "        vertical-align: middle;\n",
              "    }\n",
              "\n",
              "    .dataframe tbody tr th {\n",
              "        vertical-align: top;\n",
              "    }\n",
              "\n",
              "    .dataframe thead th {\n",
              "        text-align: right;\n",
              "    }\n",
              "</style>\n",
              "<table border=\"1\" class=\"dataframe\">\n",
              "  <thead>\n",
              "    <tr style=\"text-align: right;\">\n",
              "      <th></th>\n",
              "      <th>Spectral_Centroid_0</th>\n",
              "    </tr>\n",
              "  </thead>\n",
              "  <tbody>\n",
              "    <tr>\n",
              "      <th>0</th>\n",
              "      <td>-0.168663</td>\n",
              "    </tr>\n",
              "    <tr>\n",
              "      <th>1</th>\n",
              "      <td>-1.391978</td>\n",
              "    </tr>\n",
              "    <tr>\n",
              "      <th>2</th>\n",
              "      <td>1.280020</td>\n",
              "    </tr>\n",
              "    <tr>\n",
              "      <th>3</th>\n",
              "      <td>-0.577659</td>\n",
              "    </tr>\n",
              "    <tr>\n",
              "      <th>4</th>\n",
              "      <td>2.607732</td>\n",
              "    </tr>\n",
              "  </tbody>\n",
              "</table>\n",
              "</div>\n",
              "      <button class=\"colab-df-convert\" onclick=\"convertToInteractive('df-caf49ba5-0509-41ab-9e7d-020c2dc7d471')\"\n",
              "              title=\"Convert this dataframe to an interactive table.\"\n",
              "              style=\"display:none;\">\n",
              "        \n",
              "  <svg xmlns=\"http://www.w3.org/2000/svg\" height=\"24px\"viewBox=\"0 0 24 24\"\n",
              "       width=\"24px\">\n",
              "    <path d=\"M0 0h24v24H0V0z\" fill=\"none\"/>\n",
              "    <path d=\"M18.56 5.44l.94 2.06.94-2.06 2.06-.94-2.06-.94-.94-2.06-.94 2.06-2.06.94zm-11 1L8.5 8.5l.94-2.06 2.06-.94-2.06-.94L8.5 2.5l-.94 2.06-2.06.94zm10 10l.94 2.06.94-2.06 2.06-.94-2.06-.94-.94-2.06-.94 2.06-2.06.94z\"/><path d=\"M17.41 7.96l-1.37-1.37c-.4-.4-.92-.59-1.43-.59-.52 0-1.04.2-1.43.59L10.3 9.45l-7.72 7.72c-.78.78-.78 2.05 0 2.83L4 21.41c.39.39.9.59 1.41.59.51 0 1.02-.2 1.41-.59l7.78-7.78 2.81-2.81c.8-.78.8-2.07 0-2.86zM5.41 20L4 18.59l7.72-7.72 1.47 1.35L5.41 20z\"/>\n",
              "  </svg>\n",
              "      </button>\n",
              "      \n",
              "  <style>\n",
              "    .colab-df-container {\n",
              "      display:flex;\n",
              "      flex-wrap:wrap;\n",
              "      gap: 12px;\n",
              "    }\n",
              "\n",
              "    .colab-df-convert {\n",
              "      background-color: #E8F0FE;\n",
              "      border: none;\n",
              "      border-radius: 50%;\n",
              "      cursor: pointer;\n",
              "      display: none;\n",
              "      fill: #1967D2;\n",
              "      height: 32px;\n",
              "      padding: 0 0 0 0;\n",
              "      width: 32px;\n",
              "    }\n",
              "\n",
              "    .colab-df-convert:hover {\n",
              "      background-color: #E2EBFA;\n",
              "      box-shadow: 0px 1px 2px rgba(60, 64, 67, 0.3), 0px 1px 3px 1px rgba(60, 64, 67, 0.15);\n",
              "      fill: #174EA6;\n",
              "    }\n",
              "\n",
              "    [theme=dark] .colab-df-convert {\n",
              "      background-color: #3B4455;\n",
              "      fill: #D2E3FC;\n",
              "    }\n",
              "\n",
              "    [theme=dark] .colab-df-convert:hover {\n",
              "      background-color: #434B5C;\n",
              "      box-shadow: 0px 1px 3px 1px rgba(0, 0, 0, 0.15);\n",
              "      filter: drop-shadow(0px 1px 2px rgba(0, 0, 0, 0.3));\n",
              "      fill: #FFFFFF;\n",
              "    }\n",
              "  </style>\n",
              "\n",
              "      <script>\n",
              "        const buttonEl =\n",
              "          document.querySelector('#df-caf49ba5-0509-41ab-9e7d-020c2dc7d471 button.colab-df-convert');\n",
              "        buttonEl.style.display =\n",
              "          google.colab.kernel.accessAllowed ? 'block' : 'none';\n",
              "\n",
              "        async function convertToInteractive(key) {\n",
              "          const element = document.querySelector('#df-caf49ba5-0509-41ab-9e7d-020c2dc7d471');\n",
              "          const dataTable =\n",
              "            await google.colab.kernel.invokeFunction('convertToInteractive',\n",
              "                                                     [key], {});\n",
              "          if (!dataTable) return;\n",
              "\n",
              "          const docLinkHtml = 'Like what you see? Visit the ' +\n",
              "            '<a target=\"_blank\" href=https://colab.research.google.com/notebooks/data_table.ipynb>data table notebook</a>'\n",
              "            + ' to learn more about interactive tables.';\n",
              "          element.innerHTML = '';\n",
              "          dataTable['output_type'] = 'display_data';\n",
              "          await google.colab.output.renderOutput(dataTable, element);\n",
              "          const docLink = document.createElement('div');\n",
              "          docLink.innerHTML = docLinkHtml;\n",
              "          element.appendChild(docLink);\n",
              "        }\n",
              "      </script>\n",
              "    </div>\n",
              "  </div>\n",
              "  "
            ]
          },
          "metadata": {},
          "execution_count": 26
        }
      ],
      "source": [
        "spectral_centroid_train.head()"
      ]
    },
    {
      "cell_type": "markdown",
      "metadata": {
        "id": "CSMig4WX7EhJ"
      },
      "source": [
        "#### Spectral bandwidth"
      ]
    },
    {
      "cell_type": "markdown",
      "metadata": {
        "id": "vehq_m8iYOdS"
      },
      "source": [
        "* Compute p’th-order spectral bandwidth.\n",
        "\n",
        "* Spectrum의 bandwidth를 측정한다. Frequency들의 magnitude에 따른 centroid의 s.t.d.들의 weighted sum이라고 생각하면 된다."
      ]
    },
    {
      "cell_type": "code",
      "execution_count": 27,
      "metadata": {
        "id": "w5LEmLM2934Q"
      },
      "outputs": [],
      "source": [
        "def get_spectral_bandwidth_feature(df):\n",
        "    features = []\n",
        "    for path in tqdm(df['SAMPLE_PATH']):\n",
        "        # librosa패키지를 사용하여 wav 파일 load\n",
        "        y, sr = librosa.load(path, sr=16000)\n",
        "        \n",
        "        # librosa패키지를 사용하여 poly 추출\n",
        "        bandwidth = librosa.feature.spectral_bandwidth(y=y, sr=sr)\n",
        "\n",
        "        y_feature = []\n",
        "        # 추출된 Poly들의 평균을 Feature로 사용\n",
        "        for e in bandwidth:\n",
        "\n",
        "            y_feature.append(np.mean(e))\n",
        "\n",
        "        features.append(y_feature)\n",
        "\n",
        "    columns = ['spectral_bandwidth_'+str(i) for i in range(len(features[0]))]\n",
        "    \n",
        "    bandwidth_df = pd.DataFrame(features,\n",
        "                           columns=columns)\n",
        "\n",
        "    print(bandwidth_df.shape)\n",
        "\n",
        "    return bandwidth_df"
      ]
    },
    {
      "cell_type": "code",
      "execution_count": 28,
      "metadata": {
        "colab": {
          "base_uri": "https://localhost:8080/",
          "height": 117,
          "referenced_widgets": [
            "2ac6969019fb49f7929f1685af0200d6",
            "ccdaae722a1c45ea8366f32bdd518bf0",
            "6a5420887b904b35b1af5cc7bfe58f24",
            "3db478a8871e453db4bf7b3a43e2274c",
            "a4fc5af623d54e1a8b019803382be46d",
            "3194e0cbe077491196e3769ce71d0153",
            "6a9014a2d0b5488fabf0d881de67eee2",
            "36e3db45a53542b6a6fa1047d2795ab0",
            "38601fa59ebf4813978e0ca4dd56ce11",
            "7fe3571879e74de99a3c6f5a84aeb886",
            "4ab1ad142a724a3cb664d0dcd8c79492",
            "75704f7a304d43069803d3a98a6080b2",
            "f74da3a293af4407805bca18c99ca258",
            "1c7f8039b213455db95e6c6296223ef0",
            "7b35ae45a78f466e926e260415c95459",
            "fba0b7c434ba4d68bc2cd6113e2103d4",
            "5071f033cb9c4089b9d05d732859bd74",
            "9762d685d37f411d9e29cde8f5ada4da",
            "4455e273b0aa47ab909f6a198d24b8b3",
            "913610d3466245509a303a2faf252371",
            "528d8c9c1f6d4525b406cb4879fa03f7",
            "53060b721693484ebfb318f743cce95d"
          ]
        },
        "id": "zu-Qp8Cf-Izn",
        "outputId": "ad1a608a-b203-4878-895e-9bde2f9519ef"
      },
      "outputs": [
        {
          "output_type": "display_data",
          "data": {
            "text/plain": [
              "  0%|          | 0/1279 [00:00<?, ?it/s]"
            ],
            "application/vnd.jupyter.widget-view+json": {
              "version_major": 2,
              "version_minor": 0,
              "model_id": "2ac6969019fb49f7929f1685af0200d6"
            }
          },
          "metadata": {}
        },
        {
          "output_type": "stream",
          "name": "stdout",
          "text": [
            "(1279, 1)\n"
          ]
        },
        {
          "output_type": "display_data",
          "data": {
            "text/plain": [
              "  0%|          | 0/1514 [00:00<?, ?it/s]"
            ],
            "application/vnd.jupyter.widget-view+json": {
              "version_major": 2,
              "version_minor": 0,
              "model_id": "75704f7a304d43069803d3a98a6080b2"
            }
          },
          "metadata": {}
        },
        {
          "output_type": "stream",
          "name": "stdout",
          "text": [
            "(1514, 1)\n"
          ]
        }
      ],
      "source": [
        "spectral_bandwidth_train = get_spectral_bandwidth_feature(df_train)\n",
        "spectral_bandwidth_test = get_spectral_bandwidth_feature(df_test)"
      ]
    },
    {
      "cell_type": "code",
      "execution_count": 29,
      "metadata": {
        "id": "GAMJLkxK-QGf"
      },
      "outputs": [],
      "source": [
        "scaler = RobustScaler(quantile_range=(40.0, 60.0))\n",
        "spectral_bandwidth_train, spectral_bandwidth_test= scaled_df(spectral_bandwidth_train,\n",
        "                                                           df_train,\n",
        "                                                           spectral_bandwidth_test,\n",
        "                                                           df_test,\n",
        "                                                           scaler)\n",
        "\n",
        "spectral_bandwidth_train.columns = ['Spectral_Bandwidth_'+str(i) for i in range(len(spectral_bandwidth_train.columns))]\n",
        "spectral_bandwidth_test.columns = ['Spectral_Bandwidth_'+str(i) for i in range(len(spectral_bandwidth_test.columns))]"
      ]
    },
    {
      "cell_type": "code",
      "execution_count": 30,
      "metadata": {
        "colab": {
          "base_uri": "https://localhost:8080/",
          "height": 206
        },
        "id": "sI934AtU-Vi7",
        "outputId": "644da00e-e2cf-40ab-e2c2-43d4edde8370"
      },
      "outputs": [
        {
          "output_type": "execute_result",
          "data": {
            "text/plain": [
              "   Spectral_Bandwidth_0\n",
              "0              0.715713\n",
              "1             -0.822927\n",
              "2              1.332255\n",
              "3              0.180795\n",
              "4              0.024884"
            ],
            "text/html": [
              "\n",
              "  <div id=\"df-0b7267ed-9bf8-4019-a42e-e18b53bb92f8\">\n",
              "    <div class=\"colab-df-container\">\n",
              "      <div>\n",
              "<style scoped>\n",
              "    .dataframe tbody tr th:only-of-type {\n",
              "        vertical-align: middle;\n",
              "    }\n",
              "\n",
              "    .dataframe tbody tr th {\n",
              "        vertical-align: top;\n",
              "    }\n",
              "\n",
              "    .dataframe thead th {\n",
              "        text-align: right;\n",
              "    }\n",
              "</style>\n",
              "<table border=\"1\" class=\"dataframe\">\n",
              "  <thead>\n",
              "    <tr style=\"text-align: right;\">\n",
              "      <th></th>\n",
              "      <th>Spectral_Bandwidth_0</th>\n",
              "    </tr>\n",
              "  </thead>\n",
              "  <tbody>\n",
              "    <tr>\n",
              "      <th>0</th>\n",
              "      <td>0.715713</td>\n",
              "    </tr>\n",
              "    <tr>\n",
              "      <th>1</th>\n",
              "      <td>-0.822927</td>\n",
              "    </tr>\n",
              "    <tr>\n",
              "      <th>2</th>\n",
              "      <td>1.332255</td>\n",
              "    </tr>\n",
              "    <tr>\n",
              "      <th>3</th>\n",
              "      <td>0.180795</td>\n",
              "    </tr>\n",
              "    <tr>\n",
              "      <th>4</th>\n",
              "      <td>0.024884</td>\n",
              "    </tr>\n",
              "  </tbody>\n",
              "</table>\n",
              "</div>\n",
              "      <button class=\"colab-df-convert\" onclick=\"convertToInteractive('df-0b7267ed-9bf8-4019-a42e-e18b53bb92f8')\"\n",
              "              title=\"Convert this dataframe to an interactive table.\"\n",
              "              style=\"display:none;\">\n",
              "        \n",
              "  <svg xmlns=\"http://www.w3.org/2000/svg\" height=\"24px\"viewBox=\"0 0 24 24\"\n",
              "       width=\"24px\">\n",
              "    <path d=\"M0 0h24v24H0V0z\" fill=\"none\"/>\n",
              "    <path d=\"M18.56 5.44l.94 2.06.94-2.06 2.06-.94-2.06-.94-.94-2.06-.94 2.06-2.06.94zm-11 1L8.5 8.5l.94-2.06 2.06-.94-2.06-.94L8.5 2.5l-.94 2.06-2.06.94zm10 10l.94 2.06.94-2.06 2.06-.94-2.06-.94-.94-2.06-.94 2.06-2.06.94z\"/><path d=\"M17.41 7.96l-1.37-1.37c-.4-.4-.92-.59-1.43-.59-.52 0-1.04.2-1.43.59L10.3 9.45l-7.72 7.72c-.78.78-.78 2.05 0 2.83L4 21.41c.39.39.9.59 1.41.59.51 0 1.02-.2 1.41-.59l7.78-7.78 2.81-2.81c.8-.78.8-2.07 0-2.86zM5.41 20L4 18.59l7.72-7.72 1.47 1.35L5.41 20z\"/>\n",
              "  </svg>\n",
              "      </button>\n",
              "      \n",
              "  <style>\n",
              "    .colab-df-container {\n",
              "      display:flex;\n",
              "      flex-wrap:wrap;\n",
              "      gap: 12px;\n",
              "    }\n",
              "\n",
              "    .colab-df-convert {\n",
              "      background-color: #E8F0FE;\n",
              "      border: none;\n",
              "      border-radius: 50%;\n",
              "      cursor: pointer;\n",
              "      display: none;\n",
              "      fill: #1967D2;\n",
              "      height: 32px;\n",
              "      padding: 0 0 0 0;\n",
              "      width: 32px;\n",
              "    }\n",
              "\n",
              "    .colab-df-convert:hover {\n",
              "      background-color: #E2EBFA;\n",
              "      box-shadow: 0px 1px 2px rgba(60, 64, 67, 0.3), 0px 1px 3px 1px rgba(60, 64, 67, 0.15);\n",
              "      fill: #174EA6;\n",
              "    }\n",
              "\n",
              "    [theme=dark] .colab-df-convert {\n",
              "      background-color: #3B4455;\n",
              "      fill: #D2E3FC;\n",
              "    }\n",
              "\n",
              "    [theme=dark] .colab-df-convert:hover {\n",
              "      background-color: #434B5C;\n",
              "      box-shadow: 0px 1px 3px 1px rgba(0, 0, 0, 0.15);\n",
              "      filter: drop-shadow(0px 1px 2px rgba(0, 0, 0, 0.3));\n",
              "      fill: #FFFFFF;\n",
              "    }\n",
              "  </style>\n",
              "\n",
              "      <script>\n",
              "        const buttonEl =\n",
              "          document.querySelector('#df-0b7267ed-9bf8-4019-a42e-e18b53bb92f8 button.colab-df-convert');\n",
              "        buttonEl.style.display =\n",
              "          google.colab.kernel.accessAllowed ? 'block' : 'none';\n",
              "\n",
              "        async function convertToInteractive(key) {\n",
              "          const element = document.querySelector('#df-0b7267ed-9bf8-4019-a42e-e18b53bb92f8');\n",
              "          const dataTable =\n",
              "            await google.colab.kernel.invokeFunction('convertToInteractive',\n",
              "                                                     [key], {});\n",
              "          if (!dataTable) return;\n",
              "\n",
              "          const docLinkHtml = 'Like what you see? Visit the ' +\n",
              "            '<a target=\"_blank\" href=https://colab.research.google.com/notebooks/data_table.ipynb>data table notebook</a>'\n",
              "            + ' to learn more about interactive tables.';\n",
              "          element.innerHTML = '';\n",
              "          dataTable['output_type'] = 'display_data';\n",
              "          await google.colab.output.renderOutput(dataTable, element);\n",
              "          const docLink = document.createElement('div');\n",
              "          docLink.innerHTML = docLinkHtml;\n",
              "          element.appendChild(docLink);\n",
              "        }\n",
              "      </script>\n",
              "    </div>\n",
              "  </div>\n",
              "  "
            ]
          },
          "metadata": {},
          "execution_count": 30
        }
      ],
      "source": [
        "spectral_bandwidth_train.head()"
      ]
    },
    {
      "cell_type": "markdown",
      "metadata": {
        "id": "USRiLPH_7HAZ"
      },
      "source": [
        "#### Spectral contrast"
      ]
    },
    {
      "cell_type": "markdown",
      "metadata": {
        "id": "8_G-ePCvYSCr"
      },
      "source": [
        "* Compute spectral contrast\n",
        "\n",
        "* Each frame of a spectrogram S is divided into sub-bands. For each sub-band, the energy contrast is estimated by comparing the mean energy in the top quantile (peak energy) to that of the bottom quantile (valley energy). High contrast values generally correspond to clear, narrow-band signals, while low contrast values correspond to broad-band noise."
      ]
    },
    {
      "cell_type": "code",
      "execution_count": 31,
      "metadata": {
        "id": "vf2Qv6uh-X0d"
      },
      "outputs": [],
      "source": [
        "def get_spectral_contrast_feature(df):\n",
        "    features = []\n",
        "    for path in tqdm(df['SAMPLE_PATH']):\n",
        "        # librosa패키지를 사용하여 wav 파일 load\n",
        "        y, sr = librosa.load(path, sr=16000)\n",
        "        \n",
        "        # librosa패키지를 사용하여 poly 추출\n",
        "        contrast = librosa.feature.spectral_contrast(y=y, sr=sr)\n",
        "\n",
        "        y_feature = []\n",
        "        # 추출된 Poly들의 평균을 Feature로 사용\n",
        "        for e in contrast:\n",
        "\n",
        "            y_feature.append(np.mean(e))\n",
        "\n",
        "        features.append(y_feature)\n",
        "\n",
        "    columns = ['spectral_contrast_'+str(i) for i in range(len(features[0]))]\n",
        "    \n",
        "    contrast_df = pd.DataFrame(features,\n",
        "                           columns=columns)\n",
        "\n",
        "    print(contrast_df.shape)\n",
        "\n",
        "    return contrast_df"
      ]
    },
    {
      "cell_type": "code",
      "execution_count": null,
      "metadata": {
        "colab": {
          "base_uri": "https://localhost:8080/",
          "height": 49,
          "referenced_widgets": [
            "5ed4e4f713a3402e978656703336c241",
            "58498c3f108a475f85dc8422d4c98c27",
            "14d2142d4a13468ca38d20d5e0cb7590",
            "97f0c90430554f0a8b20a2556a37b0f4",
            "881f23a9c6cb4773a7cb1774e888b539",
            "f0b09a8c613c403588b8abdad4227c14",
            "21289bc234994bd79337c72ff9a37403",
            "699859f82b944eff93bc38ad979fa0e0",
            "778f83d0fcdc4d8fbb7785c6343edeb0",
            "228e27ebcb524fef9f156803a9e392e1",
            "40c22353770143e0afd22d2136038f26"
          ]
        },
        "id": "4P6rkgeN-mnx",
        "outputId": "5fe82b2b-67f8-4ce0-860c-eb4c0b46a05a"
      },
      "outputs": [
        {
          "output_type": "display_data",
          "data": {
            "text/plain": [
              "  0%|          | 0/1279 [00:00<?, ?it/s]"
            ],
            "application/vnd.jupyter.widget-view+json": {
              "version_major": 2,
              "version_minor": 0,
              "model_id": "5ed4e4f713a3402e978656703336c241"
            }
          },
          "metadata": {}
        }
      ],
      "source": [
        "spectral_contrast_train = get_spectral_contrast_feature(df_train)\n",
        "spectral_contrast_test = get_spectral_contrast_feature(df_test)"
      ]
    },
    {
      "cell_type": "code",
      "execution_count": null,
      "metadata": {
        "id": "427DzNJd-t0J"
      },
      "outputs": [],
      "source": [
        "scaler = RobustScaler(quantile_range=(40.0, 60.0))\n",
        "spectral_contrast_train, spectral_contrast_test= scaled_df(spectral_contrast_train,\n",
        "                                                           df_train,\n",
        "                                                           spectral_contrast_test,\n",
        "                                                           df_test,\n",
        "                                                           scaler)\n",
        "\n",
        "spectral_contrast_train.columns = ['Spectral_Contrast_'+str(i) for i in range(len(spectral_contrast_train.columns))]\n",
        "spectral_contrast_test.columns = ['Spectral_Contrast_'+str(i) for i in range(len(spectral_contrast_test.columns))]"
      ]
    },
    {
      "cell_type": "code",
      "execution_count": null,
      "metadata": {
        "id": "zJi2A2T8-0uc"
      },
      "outputs": [],
      "source": [
        "spectral_contrast_train.head()"
      ]
    },
    {
      "cell_type": "markdown",
      "metadata": {
        "id": "AV4L8ZYj7JR2"
      },
      "source": [
        "#### Spectral Flatness"
      ]
    },
    {
      "cell_type": "markdown",
      "metadata": {
        "id": "78h-SavAYYcw"
      },
      "source": [
        "* Compute spectral flatness\n",
        "\n",
        "* Spectral flatness (or tonality coefficient) is a measure to quantify how much noise-like a sound is, as opposed to being tone-like 1. A high spectral flatness (closer to 1.0) indicates the spectrum is similar to white noise. It is often converted to decibel.\n",
        "\n",
        "* Spectrum의 noisiness (또는 tonality)를 구한다. Frequency들의 기하평균'(geometric mean)에 대한 산술평균(arithmetic mean)의 비를 이용해 구할 수 있다. 1에 가까울수록 white noise (maximum flatness)를 의미한다."
      ]
    },
    {
      "cell_type": "code",
      "execution_count": null,
      "metadata": {
        "id": "oGio8f8Z-bwq"
      },
      "outputs": [],
      "source": [
        "def get_spectral_flatness_feature(df):\n",
        "    features = []\n",
        "    for path in tqdm(df['SAMPLE_PATH']):\n",
        "        # librosa패키지를 사용하여 wav 파일 load\n",
        "        y, sr = librosa.load(path, sr=16000)\n",
        "        \n",
        "        # librosa패키지를 사용하여 poly 추출\n",
        "        flatness = librosa.feature.spectral_flatness(y=y)\n",
        "\n",
        "        y_feature = []\n",
        "        # 추출된 Poly들의 평균을 Feature로 사용\n",
        "        for e in flatness:\n",
        "\n",
        "            y_feature.append(np.mean(e))\n",
        "\n",
        "        features.append(y_feature)\n",
        "\n",
        "    columns = ['spectral_flatness_'+str(i) for i in range(len(features[0]))]\n",
        "    \n",
        "    flatness_df = pd.DataFrame(features,\n",
        "                           columns=columns)\n",
        "\n",
        "    print(flatness_df.shape)\n",
        "\n",
        "    return flatness_df"
      ]
    },
    {
      "cell_type": "code",
      "execution_count": null,
      "metadata": {
        "id": "k71xyHdw_D2M"
      },
      "outputs": [],
      "source": [
        "spectral_flatness_train = get_spectral_flatness_feature(df_train)\n",
        "spectral_flatness_test = get_spectral_flatness_feature(df_test)"
      ]
    },
    {
      "cell_type": "code",
      "execution_count": null,
      "metadata": {
        "id": "Rd_Td27l_L6U"
      },
      "outputs": [],
      "source": [
        "scaler = RobustScaler(quantile_range=(40.0, 60.0))\n",
        "spectral_flatness_train, spectral_flatness_test= scaled_df(spectral_flatness_train,\n",
        "                                                           df_train,\n",
        "                                                           spectral_flatness_test,\n",
        "                                                           df_test,\n",
        "                                                           scaler)\n",
        "\n",
        "spectral_flatness_train.columns = ['Spectral_Flatness_'+str(i) for i in range(len(spectral_flatness_train.columns))]\n",
        "spectral_flatness_test.columns = ['Spectral_Flatness_'+str(i) for i in range(len(spectral_flatness_test.columns))]"
      ]
    },
    {
      "cell_type": "code",
      "execution_count": null,
      "metadata": {
        "id": "AmLmN5Yg_I6S"
      },
      "outputs": [],
      "source": [
        "spectral_flatness_train.head()"
      ]
    },
    {
      "cell_type": "markdown",
      "metadata": {
        "id": "4jBt6pKc7Mcm"
      },
      "source": [
        "#### Spectral Rolloff"
      ]
    },
    {
      "cell_type": "markdown",
      "metadata": {
        "id": "w76zfswjYu8c"
      },
      "source": [
        "* Compute roll-off frequency.\n",
        "\n",
        "* The roll-off frequency is defined for each frame as the center frequency for a spectrogram bin such that at least roll_percent (0.85 by default) of the energy of the spectrum in this frame is contained in this bin and the bins below. This can be used to, e.g., approximate the maximum (or minimum) frequency by setting roll_percent to a value close to 1 (or 0).\n",
        "\n",
        "* 스펙트로그렘에서 roll percent 위치에 차지하는 주파수를 구함"
      ]
    },
    {
      "cell_type": "code",
      "execution_count": null,
      "metadata": {
        "id": "-frfunig-cVD"
      },
      "outputs": [],
      "source": [
        "def get_spectral_rolloff_feature(df):\n",
        "    features = []\n",
        "    for path in tqdm(df['SAMPLE_PATH']):\n",
        "        # librosa패키지를 사용하여 wav 파일 load\n",
        "        y, sr = librosa.load(path, sr=16000)\n",
        "        \n",
        "        # librosa패키지를 사용하여 poly 추출\n",
        "        rolloff = librosa.feature.spectral_rolloff(y=y,\n",
        "                                                   roll_percent=0.15\n",
        "                                                   )\n",
        "\n",
        "        y_feature = []\n",
        "        # 추출된 Poly들의 평균을 Feature로 사용\n",
        "        for e in rolloff:\n",
        "\n",
        "            y_feature.append(np.mean(e))\n",
        "\n",
        "        features.append(y_feature)\n",
        "\n",
        "    columns = ['spectral_rolloff_'+str(i) for i in range(len(features[0]))]\n",
        "    \n",
        "    rolloff_df = pd.DataFrame(features,\n",
        "                           columns=columns)\n",
        "\n",
        "    print(rolloff_df.shape)\n",
        "\n",
        "    return rolloff_df"
      ]
    },
    {
      "cell_type": "code",
      "execution_count": null,
      "metadata": {
        "id": "S5qiUF54_fHk"
      },
      "outputs": [],
      "source": [
        "spectral_rolloff_train = get_spectral_rolloff_feature(df_train)\n",
        "spectral_rolloff_test = get_spectral_rolloff_feature(df_test)"
      ]
    },
    {
      "cell_type": "code",
      "execution_count": null,
      "metadata": {
        "id": "F8rW0VUt_nWL"
      },
      "outputs": [],
      "source": [
        "scaler = RobustScaler(quantile_range=(40.0, 60.0))\n",
        "spectral_rolloff_train, spectral_rolloff_test= scaled_df(spectral_rolloff_train,\n",
        "                                                           df_train,\n",
        "                                                           spectral_rolloff_test,\n",
        "                                                           df_test,\n",
        "                                                           scaler)\n",
        "\n",
        "spectral_rolloff_train.columns = ['Spectral_Rolloff_'+str(i) for i in range(len(spectral_rolloff_train.columns))]\n",
        "spectral_rolloff_test.columns = ['Spectral_Rolloff_'+str(i) for i in range(len(spectral_rolloff_test.columns))]"
      ]
    },
    {
      "cell_type": "code",
      "execution_count": null,
      "metadata": {
        "id": "wVPTxLv7_q6b"
      },
      "outputs": [],
      "source": [
        "spectral_rolloff_train.head()"
      ]
    },
    {
      "cell_type": "markdown",
      "metadata": {
        "id": "HurrnpP45FWl"
      },
      "source": [
        "### Mel Spectrogram"
      ]
    },
    {
      "cell_type": "markdown",
      "metadata": {
        "id": "8EIbZtt2asrY"
      },
      "source": [
        "* 사람은 낮은 주파수를 높은 주파수보다 더 예민하게 받아들임\n",
        "\n",
        "* 500 ~ 1500 Hz 가 바뀌는건 예민하게 인식하는데 반해 10000Hz ~ 11000Hz가 바뀌는 것은 잘 인식 못한다는 것.\n",
        "\n",
        "* 주파수 단위를 다음 공식에 따라 멜 스케일로 변환 m = 2595 \\log_{10}\\left(1 + \\frac{f}{700}\\right)m=2595log10​(1+700f​)\n",
        "\n",
        "* 해당 scale을 적용해 spectogram을 만든 것이 melspectogram"
      ]
    },
    {
      "cell_type": "code",
      "execution_count": null,
      "metadata": {
        "id": "4NxOJygc5BUc"
      },
      "outputs": [],
      "source": [
        "def get_melspectrogram_feature(df):\n",
        "    features = []\n",
        "    for path in tqdm(df['SAMPLE_PATH']):\n",
        "        # librosa패키지를 사용하여 wav 파일 load\n",
        "        y, sr = librosa.load(path, sr=16000)\n",
        "        \n",
        "        # librosa패키지를 사용하여 melspectrogram 추출\n",
        "        melspectrogram = librosa.feature.melspectrogram(y=y,\n",
        "                                                        sr=sr,\n",
        "                                                        n_fft=2048,\n",
        "                                                        hop_length=512,\n",
        "                                                        )\n",
        "\n",
        "        y_feature = []\n",
        "        # 추출된 melspectrogram들의 평균을 Feature로 사용\n",
        "        for e in melspectrogram:\n",
        "\n",
        "            y_feature.append(np.mean(e))\n",
        "\n",
        "        features.append(y_feature)\n",
        "\n",
        "    columns = ['Mel_Spectrogram_'+str(i) for i in range(len(features[0]))]\n",
        "    \n",
        "    melspectrogram_df = pd.DataFrame(features,\n",
        "                           columns=columns)\n",
        "\n",
        "    print(melspectrogram_df.shape)\n",
        "\n",
        "    return melspectrogram_df"
      ]
    },
    {
      "cell_type": "code",
      "execution_count": null,
      "metadata": {
        "colab": {
          "base_uri": "https://localhost:8080/",
          "height": 99,
          "referenced_widgets": [
            "6c8d96a61b7e44238aa535cf0e3bb85c",
            "017abb94879b47568a0227f227a38dd1",
            "c50c6c1cbc4d4acc964de1e3b07d066b",
            "fc9b88f9cce74b1da1b89faac39af6e1",
            "e5b1801c7dc84e70a6f4f30f2255c168",
            "179ebf636ffe466fb73f463d8538c700",
            "f78bff42d21f426bbbf0cb304c611061",
            "67674107e6ee417698364e02081dfae1",
            "320f68af672543318e1f7365878dc1a5",
            "3254ee9fe7e94d12808f15cf07b21118",
            "e23582c02df843a7b3e198049c41c110",
            "8c0712da565340d1947cf1ecec9007d4",
            "49f47f817bae46c9a556dbb93b85275b",
            "687e8432071a4321b9d9db836063313f",
            "63b6668f07b54eec9af9c5f7bb2082d2",
            "493d1a943b634e16b89c8775fee25d6d",
            "fae9f12e80fd48b08bca579869cfcc83",
            "4fd1b892a23f4ae382d8109017c3bfbb",
            "7aa901fa25f647c69227d9ddf470d7d3",
            "b5000fe9b11d431d89c238ed8c7f893f",
            "b826d2412a0b4b56a7f0b1b57f3b3d17",
            "ad2c6e3e240e4d2e889ad1d451f64762"
          ]
        },
        "id": "0RTnT5ff5IWI",
        "outputId": "409cf9a8-2133-46f7-ef48-07fbbab52280"
      },
      "outputs": [
        {
          "data": {
            "application/vnd.jupyter.widget-view+json": {
              "model_id": "6c8d96a61b7e44238aa535cf0e3bb85c",
              "version_major": 2,
              "version_minor": 0
            },
            "text/plain": [
              "  0%|          | 0/1279 [00:00<?, ?it/s]"
            ]
          },
          "metadata": {},
          "output_type": "display_data"
        },
        {
          "name": "stdout",
          "output_type": "stream",
          "text": [
            "(1279, 128)\n"
          ]
        },
        {
          "data": {
            "application/vnd.jupyter.widget-view+json": {
              "model_id": "8c0712da565340d1947cf1ecec9007d4",
              "version_major": 2,
              "version_minor": 0
            },
            "text/plain": [
              "  0%|          | 0/1514 [00:00<?, ?it/s]"
            ]
          },
          "metadata": {},
          "output_type": "display_data"
        }
      ],
      "source": [
        "melspectrogram_train = get_melspectrogram_feature(df_train)\n",
        "melspectrogram_test = get_melspectrogram_feature(df_test)"
      ]
    },
    {
      "cell_type": "code",
      "execution_count": null,
      "metadata": {
        "id": "UKPsWy3o5Jlt"
      },
      "outputs": [],
      "source": [
        "scaler = RobustScaler()\n",
        "melspectrogram_train, melspectrogram_test= scaled_df(melspectrogram_train,\n",
        "                                       df_train,\n",
        "                                       melspectrogram_test,\n",
        "                                       df_test,\n",
        "                                       scaler)\n",
        "\n",
        "melspectrogram_train.columns = ['Mel_Spectrogram_'+str(i) for i in range(len(melspectrogram_train.columns))]\n",
        "melspectrogram_test.columns = ['Mel_Spectrogram_'+str(i) for i in range(len(melspectrogram_test.columns))]"
      ]
    },
    {
      "cell_type": "code",
      "execution_count": null,
      "metadata": {
        "id": "Dr4mhr-Y5KpU"
      },
      "outputs": [],
      "source": [
        "melspectrogram_train.head()"
      ]
    },
    {
      "cell_type": "markdown",
      "metadata": {
        "id": "cJTcSsFb5OD3"
      },
      "source": [
        "### MFCC"
      ]
    },
    {
      "cell_type": "markdown",
      "metadata": {
        "id": "sVrmXOtBay_w"
      },
      "source": [
        "* Mel-Spectrogram이라는 피쳐에 대해 행렬을 압축해서 표현해주는 DCT 연산을 수행"
      ]
    },
    {
      "cell_type": "code",
      "execution_count": 371,
      "metadata": {
        "id": "OXT7K_E-5MOz"
      },
      "outputs": [],
      "source": [
        "def get_mfcc_feature(df):\n",
        "    features = []\n",
        "    for path in tqdm(df['SAMPLE_PATH']):\n",
        "        # librosa패키지를 사용하여 wav 파일 load\n",
        "        y, sr = librosa.load(path, sr=16000)\n",
        "        \n",
        "        # librosa패키지를 사용하여 mfcc 추출\n",
        "        mfcc = librosa.feature.mfcc(y=y,\n",
        "                                    sr=sr,\n",
        "                                    n_mfcc=128,\n",
        "                                    dct_type=2)\n",
        "\n",
        "        y_feature = []\n",
        "        # 추출된 MFCC들의 평균을 Feature로 사용\n",
        "        for e in mfcc:\n",
        "\n",
        "            e = np.mean(e)\n",
        "\n",
        "            y_feature.append(e)\n",
        "\n",
        "        features.append(y_feature)\n",
        "\n",
        "    columns = ['MFCC_'+str(i) for i in range(len(features[0]))]\n",
        "    \n",
        "    mfcc_df = pd.DataFrame(features,\n",
        "                           columns=columns)\n",
        "\n",
        "    print(mfcc_df.shape)\n",
        "\n",
        "    return mfcc_df"
      ]
    },
    {
      "cell_type": "code",
      "execution_count": 372,
      "metadata": {
        "id": "hbArI_6L5ReH",
        "colab": {
          "base_uri": "https://localhost:8080/",
          "height": 117,
          "referenced_widgets": [
            "4df49b48170943228ecfbfaba299818c",
            "33f4a835ea164c24b4fac72766594df2",
            "c1009a94fe974472919bd5257d8a99a9",
            "1fbd5699e2d54466aca18cacd6a58097",
            "1261dd3fbaed45b89e0ff53d4b7e0fbd",
            "b465620625b74d2dbce6862dedb55d8c",
            "a2a9b829cd1f4f49b9b70c8396042bbb",
            "a90e485e179d484394f22ffd6d81e344",
            "c7038d8c64cd40b38c6521bfc3892e54",
            "babd00eadc864ab2807c5ce0f6d7b69a",
            "152833fcf0a4424dbed1eb836f3fc9ea",
            "f8f5b301fa704b3587ba16d8ea75ff40",
            "1ac1cd713ee54ba0aa0aa89c0961242f",
            "66c2db2e87994213a19eacb9f50ac412",
            "647574e7ae0b42e1974b44962a01f1b1",
            "ec5f3a9c14b94ae68c84686905d7b081",
            "4323c97f3ab24543be8838c7da76dd84",
            "47da7bf7bbb044568d40c16dd6a94b24",
            "50b5a49bbd1c459a837477f7baa2e711",
            "46f9ffde19e749febac9084142ca5a16",
            "44d0dd0501fb4014a9d1ab3218d1a250",
            "834cb6d74cf0404d8d3924e214f91ea5"
          ]
        },
        "outputId": "58145fb2-b81f-4688-b3dd-f644833ccc1f"
      },
      "outputs": [
        {
          "output_type": "display_data",
          "data": {
            "text/plain": [
              "  0%|          | 0/1279 [00:00<?, ?it/s]"
            ],
            "application/vnd.jupyter.widget-view+json": {
              "version_major": 2,
              "version_minor": 0,
              "model_id": "4df49b48170943228ecfbfaba299818c"
            }
          },
          "metadata": {}
        },
        {
          "output_type": "stream",
          "name": "stdout",
          "text": [
            "(1279, 128)\n"
          ]
        },
        {
          "output_type": "display_data",
          "data": {
            "text/plain": [
              "  0%|          | 0/1514 [00:00<?, ?it/s]"
            ],
            "application/vnd.jupyter.widget-view+json": {
              "version_major": 2,
              "version_minor": 0,
              "model_id": "f8f5b301fa704b3587ba16d8ea75ff40"
            }
          },
          "metadata": {}
        },
        {
          "output_type": "stream",
          "name": "stdout",
          "text": [
            "(1514, 128)\n"
          ]
        }
      ],
      "source": [
        "mfcc_train = get_mfcc_feature(df_train)\n",
        "mfcc_test = get_mfcc_feature(df_test)"
      ]
    },
    {
      "cell_type": "code",
      "execution_count": 373,
      "metadata": {
        "id": "0eeBYuIp5SYZ"
      },
      "outputs": [],
      "source": [
        "scaler = RobustScaler(quantile_range=(35.0, 65.0))\n",
        "mfcc_train, mfcc_test= scaled_df(mfcc_train,\n",
        "                                 df_train,\n",
        "                                 mfcc_test,\n",
        "                                 df_test,\n",
        "                                 scaler)\n",
        "\n",
        "mfcc_train.columns = ['MFCC_'+str(i) for i in range(len(mfcc_train.columns))]\n",
        "mfcc_test.columns = ['MFCC_'+str(i) for i in range(len(mfcc_test.columns))]"
      ]
    },
    {
      "cell_type": "code",
      "execution_count": 374,
      "metadata": {
        "id": "uBArQ_5B5TeS",
        "colab": {
          "base_uri": "https://localhost:8080/",
          "height": 299
        },
        "outputId": "8a68662a-083c-42f7-f75a-ae704fd0c9ae"
      },
      "outputs": [
        {
          "output_type": "execute_result",
          "data": {
            "text/plain": [
              "     MFCC_0    MFCC_1    MFCC_2    MFCC_3    MFCC_4    MFCC_5    MFCC_6  \\\n",
              "0  1.206752  0.161699  0.223483  0.111338  0.728755  1.411419  1.541712   \n",
              "1 -3.044144  0.919848 -0.330244  0.067806  0.155189  0.373561 -0.182510   \n",
              "2  0.672800 -1.114655  1.497597 -1.373886 -0.531722 -1.005042 -0.425740   \n",
              "3  0.563289  0.443466  0.838457  0.185989  0.446582  0.960872  2.140261   \n",
              "4  1.007568 -2.369496 -4.098495 -1.901266 -2.775209 -2.779459 -3.348817   \n",
              "\n",
              "     MFCC_7    MFCC_8    MFCC_9  ...  MFCC_118  MFCC_119  MFCC_120  MFCC_121  \\\n",
              "0 -1.156927 -1.768883  0.294013  ...  2.244230  2.892967  2.158813 -1.804063   \n",
              "1 -1.239840  0.687802 -1.241711  ... -0.477666 -1.652310 -1.360360 -0.066186   \n",
              "2 -4.219006  5.945963 -0.994139  ...  0.987076 -0.483030 -0.648311 -1.187675   \n",
              "3  2.079478  1.491859  0.601933  ... -0.264568  1.844388 -0.296166  0.284225   \n",
              "4 -2.859062 -2.709460 -3.587404  ... -0.412924  0.197805 -0.365878  1.547914   \n",
              "\n",
              "   MFCC_122  MFCC_123  MFCC_124  MFCC_125  MFCC_126  MFCC_127  \n",
              "0 -1.603646 -0.318842  3.154804 -0.022835 -1.090258 -2.480426  \n",
              "1  1.240867  0.920321  0.101280 -0.600844  0.415870  0.013912  \n",
              "2  0.300975  1.444555  0.448793 -0.867031 -1.600708 -1.925837  \n",
              "3 -0.717624 -1.053334 -0.315267 -0.005973 -1.728596  0.221867  \n",
              "4 -0.587778 -1.665059 -0.778595 -0.124566 -0.180980 -0.045812  \n",
              "\n",
              "[5 rows x 128 columns]"
            ],
            "text/html": [
              "\n",
              "  <div id=\"df-b22f3519-4991-42d5-bcda-aa7dbaf3f6b7\">\n",
              "    <div class=\"colab-df-container\">\n",
              "      <div>\n",
              "<style scoped>\n",
              "    .dataframe tbody tr th:only-of-type {\n",
              "        vertical-align: middle;\n",
              "    }\n",
              "\n",
              "    .dataframe tbody tr th {\n",
              "        vertical-align: top;\n",
              "    }\n",
              "\n",
              "    .dataframe thead th {\n",
              "        text-align: right;\n",
              "    }\n",
              "</style>\n",
              "<table border=\"1\" class=\"dataframe\">\n",
              "  <thead>\n",
              "    <tr style=\"text-align: right;\">\n",
              "      <th></th>\n",
              "      <th>MFCC_0</th>\n",
              "      <th>MFCC_1</th>\n",
              "      <th>MFCC_2</th>\n",
              "      <th>MFCC_3</th>\n",
              "      <th>MFCC_4</th>\n",
              "      <th>MFCC_5</th>\n",
              "      <th>MFCC_6</th>\n",
              "      <th>MFCC_7</th>\n",
              "      <th>MFCC_8</th>\n",
              "      <th>MFCC_9</th>\n",
              "      <th>...</th>\n",
              "      <th>MFCC_118</th>\n",
              "      <th>MFCC_119</th>\n",
              "      <th>MFCC_120</th>\n",
              "      <th>MFCC_121</th>\n",
              "      <th>MFCC_122</th>\n",
              "      <th>MFCC_123</th>\n",
              "      <th>MFCC_124</th>\n",
              "      <th>MFCC_125</th>\n",
              "      <th>MFCC_126</th>\n",
              "      <th>MFCC_127</th>\n",
              "    </tr>\n",
              "  </thead>\n",
              "  <tbody>\n",
              "    <tr>\n",
              "      <th>0</th>\n",
              "      <td>1.206752</td>\n",
              "      <td>0.161699</td>\n",
              "      <td>0.223483</td>\n",
              "      <td>0.111338</td>\n",
              "      <td>0.728755</td>\n",
              "      <td>1.411419</td>\n",
              "      <td>1.541712</td>\n",
              "      <td>-1.156927</td>\n",
              "      <td>-1.768883</td>\n",
              "      <td>0.294013</td>\n",
              "      <td>...</td>\n",
              "      <td>2.244230</td>\n",
              "      <td>2.892967</td>\n",
              "      <td>2.158813</td>\n",
              "      <td>-1.804063</td>\n",
              "      <td>-1.603646</td>\n",
              "      <td>-0.318842</td>\n",
              "      <td>3.154804</td>\n",
              "      <td>-0.022835</td>\n",
              "      <td>-1.090258</td>\n",
              "      <td>-2.480426</td>\n",
              "    </tr>\n",
              "    <tr>\n",
              "      <th>1</th>\n",
              "      <td>-3.044144</td>\n",
              "      <td>0.919848</td>\n",
              "      <td>-0.330244</td>\n",
              "      <td>0.067806</td>\n",
              "      <td>0.155189</td>\n",
              "      <td>0.373561</td>\n",
              "      <td>-0.182510</td>\n",
              "      <td>-1.239840</td>\n",
              "      <td>0.687802</td>\n",
              "      <td>-1.241711</td>\n",
              "      <td>...</td>\n",
              "      <td>-0.477666</td>\n",
              "      <td>-1.652310</td>\n",
              "      <td>-1.360360</td>\n",
              "      <td>-0.066186</td>\n",
              "      <td>1.240867</td>\n",
              "      <td>0.920321</td>\n",
              "      <td>0.101280</td>\n",
              "      <td>-0.600844</td>\n",
              "      <td>0.415870</td>\n",
              "      <td>0.013912</td>\n",
              "    </tr>\n",
              "    <tr>\n",
              "      <th>2</th>\n",
              "      <td>0.672800</td>\n",
              "      <td>-1.114655</td>\n",
              "      <td>1.497597</td>\n",
              "      <td>-1.373886</td>\n",
              "      <td>-0.531722</td>\n",
              "      <td>-1.005042</td>\n",
              "      <td>-0.425740</td>\n",
              "      <td>-4.219006</td>\n",
              "      <td>5.945963</td>\n",
              "      <td>-0.994139</td>\n",
              "      <td>...</td>\n",
              "      <td>0.987076</td>\n",
              "      <td>-0.483030</td>\n",
              "      <td>-0.648311</td>\n",
              "      <td>-1.187675</td>\n",
              "      <td>0.300975</td>\n",
              "      <td>1.444555</td>\n",
              "      <td>0.448793</td>\n",
              "      <td>-0.867031</td>\n",
              "      <td>-1.600708</td>\n",
              "      <td>-1.925837</td>\n",
              "    </tr>\n",
              "    <tr>\n",
              "      <th>3</th>\n",
              "      <td>0.563289</td>\n",
              "      <td>0.443466</td>\n",
              "      <td>0.838457</td>\n",
              "      <td>0.185989</td>\n",
              "      <td>0.446582</td>\n",
              "      <td>0.960872</td>\n",
              "      <td>2.140261</td>\n",
              "      <td>2.079478</td>\n",
              "      <td>1.491859</td>\n",
              "      <td>0.601933</td>\n",
              "      <td>...</td>\n",
              "      <td>-0.264568</td>\n",
              "      <td>1.844388</td>\n",
              "      <td>-0.296166</td>\n",
              "      <td>0.284225</td>\n",
              "      <td>-0.717624</td>\n",
              "      <td>-1.053334</td>\n",
              "      <td>-0.315267</td>\n",
              "      <td>-0.005973</td>\n",
              "      <td>-1.728596</td>\n",
              "      <td>0.221867</td>\n",
              "    </tr>\n",
              "    <tr>\n",
              "      <th>4</th>\n",
              "      <td>1.007568</td>\n",
              "      <td>-2.369496</td>\n",
              "      <td>-4.098495</td>\n",
              "      <td>-1.901266</td>\n",
              "      <td>-2.775209</td>\n",
              "      <td>-2.779459</td>\n",
              "      <td>-3.348817</td>\n",
              "      <td>-2.859062</td>\n",
              "      <td>-2.709460</td>\n",
              "      <td>-3.587404</td>\n",
              "      <td>...</td>\n",
              "      <td>-0.412924</td>\n",
              "      <td>0.197805</td>\n",
              "      <td>-0.365878</td>\n",
              "      <td>1.547914</td>\n",
              "      <td>-0.587778</td>\n",
              "      <td>-1.665059</td>\n",
              "      <td>-0.778595</td>\n",
              "      <td>-0.124566</td>\n",
              "      <td>-0.180980</td>\n",
              "      <td>-0.045812</td>\n",
              "    </tr>\n",
              "  </tbody>\n",
              "</table>\n",
              "<p>5 rows × 128 columns</p>\n",
              "</div>\n",
              "      <button class=\"colab-df-convert\" onclick=\"convertToInteractive('df-b22f3519-4991-42d5-bcda-aa7dbaf3f6b7')\"\n",
              "              title=\"Convert this dataframe to an interactive table.\"\n",
              "              style=\"display:none;\">\n",
              "        \n",
              "  <svg xmlns=\"http://www.w3.org/2000/svg\" height=\"24px\"viewBox=\"0 0 24 24\"\n",
              "       width=\"24px\">\n",
              "    <path d=\"M0 0h24v24H0V0z\" fill=\"none\"/>\n",
              "    <path d=\"M18.56 5.44l.94 2.06.94-2.06 2.06-.94-2.06-.94-.94-2.06-.94 2.06-2.06.94zm-11 1L8.5 8.5l.94-2.06 2.06-.94-2.06-.94L8.5 2.5l-.94 2.06-2.06.94zm10 10l.94 2.06.94-2.06 2.06-.94-2.06-.94-.94-2.06-.94 2.06-2.06.94z\"/><path d=\"M17.41 7.96l-1.37-1.37c-.4-.4-.92-.59-1.43-.59-.52 0-1.04.2-1.43.59L10.3 9.45l-7.72 7.72c-.78.78-.78 2.05 0 2.83L4 21.41c.39.39.9.59 1.41.59.51 0 1.02-.2 1.41-.59l7.78-7.78 2.81-2.81c.8-.78.8-2.07 0-2.86zM5.41 20L4 18.59l7.72-7.72 1.47 1.35L5.41 20z\"/>\n",
              "  </svg>\n",
              "      </button>\n",
              "      \n",
              "  <style>\n",
              "    .colab-df-container {\n",
              "      display:flex;\n",
              "      flex-wrap:wrap;\n",
              "      gap: 12px;\n",
              "    }\n",
              "\n",
              "    .colab-df-convert {\n",
              "      background-color: #E8F0FE;\n",
              "      border: none;\n",
              "      border-radius: 50%;\n",
              "      cursor: pointer;\n",
              "      display: none;\n",
              "      fill: #1967D2;\n",
              "      height: 32px;\n",
              "      padding: 0 0 0 0;\n",
              "      width: 32px;\n",
              "    }\n",
              "\n",
              "    .colab-df-convert:hover {\n",
              "      background-color: #E2EBFA;\n",
              "      box-shadow: 0px 1px 2px rgba(60, 64, 67, 0.3), 0px 1px 3px 1px rgba(60, 64, 67, 0.15);\n",
              "      fill: #174EA6;\n",
              "    }\n",
              "\n",
              "    [theme=dark] .colab-df-convert {\n",
              "      background-color: #3B4455;\n",
              "      fill: #D2E3FC;\n",
              "    }\n",
              "\n",
              "    [theme=dark] .colab-df-convert:hover {\n",
              "      background-color: #434B5C;\n",
              "      box-shadow: 0px 1px 3px 1px rgba(0, 0, 0, 0.15);\n",
              "      filter: drop-shadow(0px 1px 2px rgba(0, 0, 0, 0.3));\n",
              "      fill: #FFFFFF;\n",
              "    }\n",
              "  </style>\n",
              "\n",
              "      <script>\n",
              "        const buttonEl =\n",
              "          document.querySelector('#df-b22f3519-4991-42d5-bcda-aa7dbaf3f6b7 button.colab-df-convert');\n",
              "        buttonEl.style.display =\n",
              "          google.colab.kernel.accessAllowed ? 'block' : 'none';\n",
              "\n",
              "        async function convertToInteractive(key) {\n",
              "          const element = document.querySelector('#df-b22f3519-4991-42d5-bcda-aa7dbaf3f6b7');\n",
              "          const dataTable =\n",
              "            await google.colab.kernel.invokeFunction('convertToInteractive',\n",
              "                                                     [key], {});\n",
              "          if (!dataTable) return;\n",
              "\n",
              "          const docLinkHtml = 'Like what you see? Visit the ' +\n",
              "            '<a target=\"_blank\" href=https://colab.research.google.com/notebooks/data_table.ipynb>data table notebook</a>'\n",
              "            + ' to learn more about interactive tables.';\n",
              "          element.innerHTML = '';\n",
              "          dataTable['output_type'] = 'display_data';\n",
              "          await google.colab.output.renderOutput(dataTable, element);\n",
              "          const docLink = document.createElement('div');\n",
              "          docLink.innerHTML = docLinkHtml;\n",
              "          element.appendChild(docLink);\n",
              "        }\n",
              "      </script>\n",
              "    </div>\n",
              "  </div>\n",
              "  "
            ]
          },
          "metadata": {},
          "execution_count": 374
        }
      ],
      "source": [
        "mfcc_train.head()"
      ]
    },
    {
      "cell_type": "code",
      "source": [
        "def get_mfcc_delta_feature(df):\n",
        "    features = []\n",
        "    for path in tqdm(df['SAMPLE_PATH']):\n",
        "        # librosa패키지를 사용하여 wav 파일 load\n",
        "        y, sr = librosa.load(path, sr=16000)\n",
        "        \n",
        "        # librosa패키지를 사용하여 mfcc 추출\n",
        "        mfcc = librosa.feature.mfcc(y=y,\n",
        "                                    sr=sr,\n",
        "                                    n_mfcc=128,\n",
        "                                    dct_type=2)\n",
        "        \n",
        "        mfcc = librosa.feature.delta(mfcc,\n",
        "                                     order=1)\n",
        "\n",
        "        y_feature = []\n",
        "        # 추출된 MFCC들의 평균을 Feature로 사용\n",
        "        for e in mfcc:\n",
        "\n",
        "            e = np.mean(e)\n",
        "\n",
        "            y_feature.append(e)\n",
        "\n",
        "        features.append(y_feature)\n",
        "\n",
        "    columns = ['MFCC__delta_'+str(i) for i in range(len(features[0]))]\n",
        "    \n",
        "    mfcc_df = pd.DataFrame(features,\n",
        "                           columns=columns)\n",
        "\n",
        "    print(mfcc_df.shape)\n",
        "\n",
        "    return mfcc_df"
      ],
      "metadata": {
        "id": "D4dNmeTI21cO"
      },
      "execution_count": 375,
      "outputs": []
    },
    {
      "cell_type": "code",
      "source": [
        "mfcc_delta_train = get_mfcc_delta_feature(df_train)\n",
        "mfcc_delta_test = get_mfcc_delta_feature(df_test)"
      ],
      "metadata": {
        "colab": {
          "base_uri": "https://localhost:8080/",
          "height": 117,
          "referenced_widgets": [
            "a3ccf31b83154c8a9ba93ef915ebc340",
            "1843585e9707412dbcb291b5eaed8988",
            "93d1598fd1dc4adabdc3f58a4cd114d5",
            "d3d92ea033e143889e6912f0a8a7135f",
            "19a3decab1f744df8f7cd76fbdc04aab",
            "833469cee99f4d93bdd6cd1f73823e32",
            "a138ec0765564bd7adadfb1c295241f5",
            "f324d542c3d94470a0a2b09137af5820",
            "aaa9b3370df347c684e81a9a3caa96a1",
            "51c46a93e8b7439c91a87596b73bd75d",
            "9596836a501348aa817d965fe756a0d9",
            "81bc6aebe1854612965ddb5db6e4692a",
            "7f068524055b45619ef0e47b073e5103",
            "94da4c33a3994194bc1ee45baf4047d8",
            "47d958607efc40088815b51e1f31e88c",
            "92ba7d6064714d69aeeeb41dd3de0bce",
            "2088074b09d141ae911f60796d8fe9a9",
            "2400104032954149b772ecdda82a629a",
            "aeaf47f03da8485999d646b11b8f8dcf",
            "6f11b1f6a8ca4f6fa0f7f8e5873ab42f",
            "43fb6af3254b4c38bc55bdfa36935ad8",
            "32f460d9b1484e6f95c65a71e22d3365"
          ]
        },
        "id": "RX1kxQuz2_-T",
        "outputId": "41dc214a-1881-4aa0-8612-9b78e727ecf3"
      },
      "execution_count": 376,
      "outputs": [
        {
          "output_type": "display_data",
          "data": {
            "text/plain": [
              "  0%|          | 0/1279 [00:00<?, ?it/s]"
            ],
            "application/vnd.jupyter.widget-view+json": {
              "version_major": 2,
              "version_minor": 0,
              "model_id": "a3ccf31b83154c8a9ba93ef915ebc340"
            }
          },
          "metadata": {}
        },
        {
          "output_type": "stream",
          "name": "stdout",
          "text": [
            "(1279, 128)\n"
          ]
        },
        {
          "output_type": "display_data",
          "data": {
            "text/plain": [
              "  0%|          | 0/1514 [00:00<?, ?it/s]"
            ],
            "application/vnd.jupyter.widget-view+json": {
              "version_major": 2,
              "version_minor": 0,
              "model_id": "81bc6aebe1854612965ddb5db6e4692a"
            }
          },
          "metadata": {}
        },
        {
          "output_type": "stream",
          "name": "stdout",
          "text": [
            "(1514, 128)\n"
          ]
        }
      ]
    },
    {
      "cell_type": "code",
      "source": [
        "scaler = RobustScaler(quantile_range=(35.0, 65.0))\n",
        "mfcc_delta_train, mfcc_delta_test= scaled_df(mfcc_delta_train,\n",
        "                                 df_train,\n",
        "                                 mfcc_delta_test,\n",
        "                                 df_test,\n",
        "                                 scaler)\n",
        "\n",
        "mfcc_delta_train.columns = ['MFCC_delta_'+str(i) for i in range(len(mfcc_delta_train.columns))]\n",
        "mfcc_delta_test.columns = ['MFCC_delta_'+str(i) for i in range(len(mfcc_delta_test.columns))]"
      ],
      "metadata": {
        "id": "ThxPZFCb3FH7"
      },
      "execution_count": 377,
      "outputs": []
    },
    {
      "cell_type": "code",
      "source": [
        "mfcc_delta_train.head()"
      ],
      "metadata": {
        "colab": {
          "base_uri": "https://localhost:8080/",
          "height": 299
        },
        "id": "t_hkmXGC4R7b",
        "outputId": "6fd07f61-0180-44d5-fe4c-c5707452ca97"
      },
      "execution_count": 378,
      "outputs": [
        {
          "output_type": "execute_result",
          "data": {
            "text/plain": [
              "   MFCC_delta_0  MFCC_delta_1  MFCC_delta_2  MFCC_delta_3  MFCC_delta_4  \\\n",
              "0     -0.076830     -1.496073     -0.440771     -0.184562     -0.047025   \n",
              "1     -0.482420     -2.083301      0.295557     -0.705273      0.957594   \n",
              "2     -0.751712     -0.666003      0.112888      0.867451      1.208890   \n",
              "3     -1.051355     -0.669949      0.358324      2.407805      0.617582   \n",
              "4     -2.951004     -1.813607      1.479423      1.398908     -0.241960   \n",
              "\n",
              "   MFCC_delta_5  MFCC_delta_6  MFCC_delta_7  MFCC_delta_8  MFCC_delta_9  ...  \\\n",
              "0      1.458084      0.865210      1.175551      0.991063     -0.693079  ...   \n",
              "1     -1.117608     -0.127952      0.670008     -0.389617     -1.810475  ...   \n",
              "2      0.792049      0.458680      0.961787      0.527333     -0.541283  ...   \n",
              "3      0.857858      1.062858      1.258847     -1.839074      0.884781  ...   \n",
              "4     -1.066584      0.315026     -2.118484      0.329192     -0.938180  ...   \n",
              "\n",
              "   MFCC_delta_118  MFCC_delta_119  MFCC_delta_120  MFCC_delta_121  \\\n",
              "0       -2.880890        0.947400        0.430416        2.505769   \n",
              "1        0.432090       -0.681884       -1.253939       -0.598928   \n",
              "2       -1.861980       -0.546202        0.887007        4.383711   \n",
              "3        0.644993       -0.790503       -0.274649       -0.954199   \n",
              "4        1.023238       -0.028922       -1.056836        2.073604   \n",
              "\n",
              "   MFCC_delta_122  MFCC_delta_123  MFCC_delta_124  MFCC_delta_125  \\\n",
              "0        0.905387        1.539257        2.122332        0.482585   \n",
              "1       -1.122006        1.143832        2.093967        0.488574   \n",
              "2        3.846259       -0.746569       -1.222766        0.287204   \n",
              "3       -1.331004        0.700375        1.025289        0.994299   \n",
              "4        2.047538       -2.408021       -2.504472        0.228138   \n",
              "\n",
              "   MFCC_delta_126  MFCC_delta_127  \n",
              "0       -0.399781       -1.056024  \n",
              "1       -0.512215       -0.349107  \n",
              "2       -3.537661       -0.102120  \n",
              "3       -0.334136        0.120222  \n",
              "4        1.234958        1.041292  \n",
              "\n",
              "[5 rows x 128 columns]"
            ],
            "text/html": [
              "\n",
              "  <div id=\"df-7538f3ab-e2ca-4f20-9915-c15ee5caa30f\">\n",
              "    <div class=\"colab-df-container\">\n",
              "      <div>\n",
              "<style scoped>\n",
              "    .dataframe tbody tr th:only-of-type {\n",
              "        vertical-align: middle;\n",
              "    }\n",
              "\n",
              "    .dataframe tbody tr th {\n",
              "        vertical-align: top;\n",
              "    }\n",
              "\n",
              "    .dataframe thead th {\n",
              "        text-align: right;\n",
              "    }\n",
              "</style>\n",
              "<table border=\"1\" class=\"dataframe\">\n",
              "  <thead>\n",
              "    <tr style=\"text-align: right;\">\n",
              "      <th></th>\n",
              "      <th>MFCC_delta_0</th>\n",
              "      <th>MFCC_delta_1</th>\n",
              "      <th>MFCC_delta_2</th>\n",
              "      <th>MFCC_delta_3</th>\n",
              "      <th>MFCC_delta_4</th>\n",
              "      <th>MFCC_delta_5</th>\n",
              "      <th>MFCC_delta_6</th>\n",
              "      <th>MFCC_delta_7</th>\n",
              "      <th>MFCC_delta_8</th>\n",
              "      <th>MFCC_delta_9</th>\n",
              "      <th>...</th>\n",
              "      <th>MFCC_delta_118</th>\n",
              "      <th>MFCC_delta_119</th>\n",
              "      <th>MFCC_delta_120</th>\n",
              "      <th>MFCC_delta_121</th>\n",
              "      <th>MFCC_delta_122</th>\n",
              "      <th>MFCC_delta_123</th>\n",
              "      <th>MFCC_delta_124</th>\n",
              "      <th>MFCC_delta_125</th>\n",
              "      <th>MFCC_delta_126</th>\n",
              "      <th>MFCC_delta_127</th>\n",
              "    </tr>\n",
              "  </thead>\n",
              "  <tbody>\n",
              "    <tr>\n",
              "      <th>0</th>\n",
              "      <td>-0.076830</td>\n",
              "      <td>-1.496073</td>\n",
              "      <td>-0.440771</td>\n",
              "      <td>-0.184562</td>\n",
              "      <td>-0.047025</td>\n",
              "      <td>1.458084</td>\n",
              "      <td>0.865210</td>\n",
              "      <td>1.175551</td>\n",
              "      <td>0.991063</td>\n",
              "      <td>-0.693079</td>\n",
              "      <td>...</td>\n",
              "      <td>-2.880890</td>\n",
              "      <td>0.947400</td>\n",
              "      <td>0.430416</td>\n",
              "      <td>2.505769</td>\n",
              "      <td>0.905387</td>\n",
              "      <td>1.539257</td>\n",
              "      <td>2.122332</td>\n",
              "      <td>0.482585</td>\n",
              "      <td>-0.399781</td>\n",
              "      <td>-1.056024</td>\n",
              "    </tr>\n",
              "    <tr>\n",
              "      <th>1</th>\n",
              "      <td>-0.482420</td>\n",
              "      <td>-2.083301</td>\n",
              "      <td>0.295557</td>\n",
              "      <td>-0.705273</td>\n",
              "      <td>0.957594</td>\n",
              "      <td>-1.117608</td>\n",
              "      <td>-0.127952</td>\n",
              "      <td>0.670008</td>\n",
              "      <td>-0.389617</td>\n",
              "      <td>-1.810475</td>\n",
              "      <td>...</td>\n",
              "      <td>0.432090</td>\n",
              "      <td>-0.681884</td>\n",
              "      <td>-1.253939</td>\n",
              "      <td>-0.598928</td>\n",
              "      <td>-1.122006</td>\n",
              "      <td>1.143832</td>\n",
              "      <td>2.093967</td>\n",
              "      <td>0.488574</td>\n",
              "      <td>-0.512215</td>\n",
              "      <td>-0.349107</td>\n",
              "    </tr>\n",
              "    <tr>\n",
              "      <th>2</th>\n",
              "      <td>-0.751712</td>\n",
              "      <td>-0.666003</td>\n",
              "      <td>0.112888</td>\n",
              "      <td>0.867451</td>\n",
              "      <td>1.208890</td>\n",
              "      <td>0.792049</td>\n",
              "      <td>0.458680</td>\n",
              "      <td>0.961787</td>\n",
              "      <td>0.527333</td>\n",
              "      <td>-0.541283</td>\n",
              "      <td>...</td>\n",
              "      <td>-1.861980</td>\n",
              "      <td>-0.546202</td>\n",
              "      <td>0.887007</td>\n",
              "      <td>4.383711</td>\n",
              "      <td>3.846259</td>\n",
              "      <td>-0.746569</td>\n",
              "      <td>-1.222766</td>\n",
              "      <td>0.287204</td>\n",
              "      <td>-3.537661</td>\n",
              "      <td>-0.102120</td>\n",
              "    </tr>\n",
              "    <tr>\n",
              "      <th>3</th>\n",
              "      <td>-1.051355</td>\n",
              "      <td>-0.669949</td>\n",
              "      <td>0.358324</td>\n",
              "      <td>2.407805</td>\n",
              "      <td>0.617582</td>\n",
              "      <td>0.857858</td>\n",
              "      <td>1.062858</td>\n",
              "      <td>1.258847</td>\n",
              "      <td>-1.839074</td>\n",
              "      <td>0.884781</td>\n",
              "      <td>...</td>\n",
              "      <td>0.644993</td>\n",
              "      <td>-0.790503</td>\n",
              "      <td>-0.274649</td>\n",
              "      <td>-0.954199</td>\n",
              "      <td>-1.331004</td>\n",
              "      <td>0.700375</td>\n",
              "      <td>1.025289</td>\n",
              "      <td>0.994299</td>\n",
              "      <td>-0.334136</td>\n",
              "      <td>0.120222</td>\n",
              "    </tr>\n",
              "    <tr>\n",
              "      <th>4</th>\n",
              "      <td>-2.951004</td>\n",
              "      <td>-1.813607</td>\n",
              "      <td>1.479423</td>\n",
              "      <td>1.398908</td>\n",
              "      <td>-0.241960</td>\n",
              "      <td>-1.066584</td>\n",
              "      <td>0.315026</td>\n",
              "      <td>-2.118484</td>\n",
              "      <td>0.329192</td>\n",
              "      <td>-0.938180</td>\n",
              "      <td>...</td>\n",
              "      <td>1.023238</td>\n",
              "      <td>-0.028922</td>\n",
              "      <td>-1.056836</td>\n",
              "      <td>2.073604</td>\n",
              "      <td>2.047538</td>\n",
              "      <td>-2.408021</td>\n",
              "      <td>-2.504472</td>\n",
              "      <td>0.228138</td>\n",
              "      <td>1.234958</td>\n",
              "      <td>1.041292</td>\n",
              "    </tr>\n",
              "  </tbody>\n",
              "</table>\n",
              "<p>5 rows × 128 columns</p>\n",
              "</div>\n",
              "      <button class=\"colab-df-convert\" onclick=\"convertToInteractive('df-7538f3ab-e2ca-4f20-9915-c15ee5caa30f')\"\n",
              "              title=\"Convert this dataframe to an interactive table.\"\n",
              "              style=\"display:none;\">\n",
              "        \n",
              "  <svg xmlns=\"http://www.w3.org/2000/svg\" height=\"24px\"viewBox=\"0 0 24 24\"\n",
              "       width=\"24px\">\n",
              "    <path d=\"M0 0h24v24H0V0z\" fill=\"none\"/>\n",
              "    <path d=\"M18.56 5.44l.94 2.06.94-2.06 2.06-.94-2.06-.94-.94-2.06-.94 2.06-2.06.94zm-11 1L8.5 8.5l.94-2.06 2.06-.94-2.06-.94L8.5 2.5l-.94 2.06-2.06.94zm10 10l.94 2.06.94-2.06 2.06-.94-2.06-.94-.94-2.06-.94 2.06-2.06.94z\"/><path d=\"M17.41 7.96l-1.37-1.37c-.4-.4-.92-.59-1.43-.59-.52 0-1.04.2-1.43.59L10.3 9.45l-7.72 7.72c-.78.78-.78 2.05 0 2.83L4 21.41c.39.39.9.59 1.41.59.51 0 1.02-.2 1.41-.59l7.78-7.78 2.81-2.81c.8-.78.8-2.07 0-2.86zM5.41 20L4 18.59l7.72-7.72 1.47 1.35L5.41 20z\"/>\n",
              "  </svg>\n",
              "      </button>\n",
              "      \n",
              "  <style>\n",
              "    .colab-df-container {\n",
              "      display:flex;\n",
              "      flex-wrap:wrap;\n",
              "      gap: 12px;\n",
              "    }\n",
              "\n",
              "    .colab-df-convert {\n",
              "      background-color: #E8F0FE;\n",
              "      border: none;\n",
              "      border-radius: 50%;\n",
              "      cursor: pointer;\n",
              "      display: none;\n",
              "      fill: #1967D2;\n",
              "      height: 32px;\n",
              "      padding: 0 0 0 0;\n",
              "      width: 32px;\n",
              "    }\n",
              "\n",
              "    .colab-df-convert:hover {\n",
              "      background-color: #E2EBFA;\n",
              "      box-shadow: 0px 1px 2px rgba(60, 64, 67, 0.3), 0px 1px 3px 1px rgba(60, 64, 67, 0.15);\n",
              "      fill: #174EA6;\n",
              "    }\n",
              "\n",
              "    [theme=dark] .colab-df-convert {\n",
              "      background-color: #3B4455;\n",
              "      fill: #D2E3FC;\n",
              "    }\n",
              "\n",
              "    [theme=dark] .colab-df-convert:hover {\n",
              "      background-color: #434B5C;\n",
              "      box-shadow: 0px 1px 3px 1px rgba(0, 0, 0, 0.15);\n",
              "      filter: drop-shadow(0px 1px 2px rgba(0, 0, 0, 0.3));\n",
              "      fill: #FFFFFF;\n",
              "    }\n",
              "  </style>\n",
              "\n",
              "      <script>\n",
              "        const buttonEl =\n",
              "          document.querySelector('#df-7538f3ab-e2ca-4f20-9915-c15ee5caa30f button.colab-df-convert');\n",
              "        buttonEl.style.display =\n",
              "          google.colab.kernel.accessAllowed ? 'block' : 'none';\n",
              "\n",
              "        async function convertToInteractive(key) {\n",
              "          const element = document.querySelector('#df-7538f3ab-e2ca-4f20-9915-c15ee5caa30f');\n",
              "          const dataTable =\n",
              "            await google.colab.kernel.invokeFunction('convertToInteractive',\n",
              "                                                     [key], {});\n",
              "          if (!dataTable) return;\n",
              "\n",
              "          const docLinkHtml = 'Like what you see? Visit the ' +\n",
              "            '<a target=\"_blank\" href=https://colab.research.google.com/notebooks/data_table.ipynb>data table notebook</a>'\n",
              "            + ' to learn more about interactive tables.';\n",
              "          element.innerHTML = '';\n",
              "          dataTable['output_type'] = 'display_data';\n",
              "          await google.colab.output.renderOutput(dataTable, element);\n",
              "          const docLink = document.createElement('div');\n",
              "          docLink.innerHTML = docLinkHtml;\n",
              "          element.appendChild(docLink);\n",
              "        }\n",
              "      </script>\n",
              "    </div>\n",
              "  </div>\n",
              "  "
            ]
          },
          "metadata": {},
          "execution_count": 378
        }
      ]
    },
    {
      "cell_type": "markdown",
      "metadata": {
        "id": "2gF-LWUr5g_Z"
      },
      "source": [
        "### Chroma"
      ]
    },
    {
      "cell_type": "markdown",
      "metadata": {
        "id": "vMwGn8_2Z65D"
      },
      "source": [
        "* 모든 음표는 12개의 pitch(음높이)와 octave로 구성되어 있다.\n",
        "\n",
        "* Chroma는 각 audio frame의 octave는 무시하고, 12개의 pitch class에 대한 분포를 나타낸 것이다.\n",
        "\n",
        "* Pitch class는 C, C#, D, D#, E, F, F#, G, G#, A, A#, B로 구성되어 있다."
      ]
    },
    {
      "cell_type": "markdown",
      "metadata": {
        "id": "-vW8Kuj65il9"
      },
      "source": [
        "#### Chroma stft"
      ]
    },
    {
      "cell_type": "markdown",
      "metadata": {
        "id": "Z0PHNG_PbLZR"
      },
      "source": [
        "* Compute a chromagram from a waveform or power spectrogram."
      ]
    },
    {
      "cell_type": "code",
      "execution_count": 526,
      "metadata": {
        "id": "hno2spqM5UY2"
      },
      "outputs": [],
      "source": [
        "def get_chroma_stft_feature(df):\n",
        "    features = []\n",
        "    for path in tqdm(df['SAMPLE_PATH']):\n",
        "        # librosa패키지를 사용하여 wav 파일 load\n",
        "        y, sr = librosa.load(path, sr=16000)\n",
        "        \n",
        "        # librosa패키지를 사용하여 Chroma 추출\n",
        "        chroma = librosa.feature.chroma_stft(y=y, sr=sr,\n",
        "                                             n_chroma=12)\n",
        "\n",
        "        y_feature = []\n",
        "        # 추출된 Chroma들의 평균을 Feature로 사용\n",
        "        for e in chroma:\n",
        "\n",
        "            y_feature.append(np.mean(e))\n",
        "\n",
        "        features.append(y_feature)\n",
        "\n",
        "    columns = ['Chroma_stft_'+str(i) for i in range(len(features[0]))]\n",
        "\n",
        "    chroma_df = pd.DataFrame(features,\n",
        "                             columns=columns)\n",
        "    \n",
        "    print(chroma_df.shape)\n",
        "\n",
        "    return chroma_df"
      ]
    },
    {
      "cell_type": "code",
      "execution_count": 527,
      "metadata": {
        "id": "UQKvynvm5zGy",
        "colab": {
          "base_uri": "https://localhost:8080/",
          "height": 117,
          "referenced_widgets": [
            "1adf5f8238c44130958ee80c27d3e2b4",
            "147287163ff5414daedeefcaa44e5f68",
            "9eee3ecbaabe41b3a7074ef155e94a9a",
            "bd0957d5e1b540c1809a3204a48cb40d",
            "e7fe851d4d754f1dbc1ee743162a14d8",
            "dc1ab1239fb34347908e8fed6601762c",
            "36613268c08e443c9a6c1b89d407d31e",
            "42b238e9687b44c88ed8ce087a60fe66",
            "a4a8b128ec324a15b53eb71a4288498f",
            "72f40b7d8fb14f61ae24d5834fee108f",
            "7838fbc4f4ba46589f8d1738633994b7",
            "2dd267798be64fda8eb35ef9f472b126",
            "2af6bdae35344112813abbbbcf8a9378",
            "a2b983995fe74be785cb368a5d14a337",
            "e761009436eb4a109f4e45a55fe61b79",
            "0322ba4d6cc3492e91fe8bdf12d2ed60",
            "1f52ba49e4064005a7d7f11bc7467611",
            "ecbd496ce561434294dc7649d6c39ec9",
            "25e6fcaf1e0043eab236906b146e598e",
            "43bf4d61f3964c63952c4e4418dc87a4",
            "e461e8a100124188b8e0d82cdff5a806",
            "37c5558bcb76420b820fb57fdfd3e43d"
          ]
        },
        "outputId": "ba054eac-5567-4bc4-a5f7-edf62a4921c6"
      },
      "outputs": [
        {
          "output_type": "display_data",
          "data": {
            "text/plain": [
              "  0%|          | 0/1279 [00:00<?, ?it/s]"
            ],
            "application/vnd.jupyter.widget-view+json": {
              "version_major": 2,
              "version_minor": 0,
              "model_id": "1adf5f8238c44130958ee80c27d3e2b4"
            }
          },
          "metadata": {}
        },
        {
          "output_type": "stream",
          "name": "stdout",
          "text": [
            "(1279, 12)\n"
          ]
        },
        {
          "output_type": "display_data",
          "data": {
            "text/plain": [
              "  0%|          | 0/1514 [00:00<?, ?it/s]"
            ],
            "application/vnd.jupyter.widget-view+json": {
              "version_major": 2,
              "version_minor": 0,
              "model_id": "2dd267798be64fda8eb35ef9f472b126"
            }
          },
          "metadata": {}
        },
        {
          "output_type": "stream",
          "name": "stdout",
          "text": [
            "(1514, 12)\n"
          ]
        }
      ],
      "source": [
        "chroma_stft_train = get_chroma_stft_feature(df_train)\n",
        "chroma_stft_test = get_chroma_stft_feature(df_test)"
      ]
    },
    {
      "cell_type": "code",
      "execution_count": 528,
      "metadata": {
        "id": "SGD5H6hl59iH"
      },
      "outputs": [],
      "source": [
        "scaler = RobustScaler(quantile_range=(35.0, 65.0))\n",
        "chroma_stft_train, chroma_stft_test= scaled_df(chroma_stft_train,\n",
        "                                     df_train,\n",
        "                                     chroma_stft_test,\n",
        "                                     df_test,\n",
        "                                     scaler)\n",
        "\n",
        "chroma_stft_train.columns = ['Chroma_stft_'+str(i) for i in range(len(chroma_stft_train.columns))]\n",
        "chroma_stft_test.columns = ['Chroma_stft_'+str(i) for i in range(len(chroma_stft_test.columns))]"
      ]
    },
    {
      "cell_type": "code",
      "execution_count": 529,
      "metadata": {
        "id": "GuSLpgB36I8s",
        "colab": {
          "base_uri": "https://localhost:8080/",
          "height": 270
        },
        "outputId": "c44fbe69-2b0f-4e8a-a544-12356e6c9e5d"
      },
      "outputs": [
        {
          "output_type": "execute_result",
          "data": {
            "text/plain": [
              "   Chroma_stft_0  Chroma_stft_1  Chroma_stft_2  Chroma_stft_3  Chroma_stft_4  \\\n",
              "0      -1.070049       1.012718       3.325309       3.093195      -1.021851   \n",
              "1      -1.142371      -0.549684       0.481691       0.741929      -0.183350   \n",
              "2      -1.888211      -2.316258      -1.216508      -0.754540       7.915114   \n",
              "3      -1.152342      -1.299468      -1.681248      -1.467963       1.299843   \n",
              "4       0.457912      -0.945649      -1.236708      -1.411892      -0.795418   \n",
              "\n",
              "   Chroma_stft_5  Chroma_stft_6  Chroma_stft_7  Chroma_stft_8  Chroma_stft_9  \\\n",
              "0      -2.577379       2.523919       2.374777       0.352113      -1.919175   \n",
              "1       0.027769      -0.564759      -0.913597      -0.587752      -0.290928   \n",
              "2      11.200861       1.859251      -1.701285      -1.856211      -1.886382   \n",
              "3       0.420721      -0.698317      -1.247342      -0.863656       0.009655   \n",
              "4       0.692870       1.140367       1.178353       2.821418       1.487543   \n",
              "\n",
              "   Chroma_stft_10  Chroma_stft_11  \n",
              "0        0.731797       -0.096159  \n",
              "1        0.576997       -0.297999  \n",
              "2       -2.083567       -2.128482  \n",
              "3       -1.903455       -1.355041  \n",
              "4        1.078149        1.005651  "
            ],
            "text/html": [
              "\n",
              "  <div id=\"df-fb54ec37-9dba-4b87-8a95-4f40cae202b3\">\n",
              "    <div class=\"colab-df-container\">\n",
              "      <div>\n",
              "<style scoped>\n",
              "    .dataframe tbody tr th:only-of-type {\n",
              "        vertical-align: middle;\n",
              "    }\n",
              "\n",
              "    .dataframe tbody tr th {\n",
              "        vertical-align: top;\n",
              "    }\n",
              "\n",
              "    .dataframe thead th {\n",
              "        text-align: right;\n",
              "    }\n",
              "</style>\n",
              "<table border=\"1\" class=\"dataframe\">\n",
              "  <thead>\n",
              "    <tr style=\"text-align: right;\">\n",
              "      <th></th>\n",
              "      <th>Chroma_stft_0</th>\n",
              "      <th>Chroma_stft_1</th>\n",
              "      <th>Chroma_stft_2</th>\n",
              "      <th>Chroma_stft_3</th>\n",
              "      <th>Chroma_stft_4</th>\n",
              "      <th>Chroma_stft_5</th>\n",
              "      <th>Chroma_stft_6</th>\n",
              "      <th>Chroma_stft_7</th>\n",
              "      <th>Chroma_stft_8</th>\n",
              "      <th>Chroma_stft_9</th>\n",
              "      <th>Chroma_stft_10</th>\n",
              "      <th>Chroma_stft_11</th>\n",
              "    </tr>\n",
              "  </thead>\n",
              "  <tbody>\n",
              "    <tr>\n",
              "      <th>0</th>\n",
              "      <td>-1.070049</td>\n",
              "      <td>1.012718</td>\n",
              "      <td>3.325309</td>\n",
              "      <td>3.093195</td>\n",
              "      <td>-1.021851</td>\n",
              "      <td>-2.577379</td>\n",
              "      <td>2.523919</td>\n",
              "      <td>2.374777</td>\n",
              "      <td>0.352113</td>\n",
              "      <td>-1.919175</td>\n",
              "      <td>0.731797</td>\n",
              "      <td>-0.096159</td>\n",
              "    </tr>\n",
              "    <tr>\n",
              "      <th>1</th>\n",
              "      <td>-1.142371</td>\n",
              "      <td>-0.549684</td>\n",
              "      <td>0.481691</td>\n",
              "      <td>0.741929</td>\n",
              "      <td>-0.183350</td>\n",
              "      <td>0.027769</td>\n",
              "      <td>-0.564759</td>\n",
              "      <td>-0.913597</td>\n",
              "      <td>-0.587752</td>\n",
              "      <td>-0.290928</td>\n",
              "      <td>0.576997</td>\n",
              "      <td>-0.297999</td>\n",
              "    </tr>\n",
              "    <tr>\n",
              "      <th>2</th>\n",
              "      <td>-1.888211</td>\n",
              "      <td>-2.316258</td>\n",
              "      <td>-1.216508</td>\n",
              "      <td>-0.754540</td>\n",
              "      <td>7.915114</td>\n",
              "      <td>11.200861</td>\n",
              "      <td>1.859251</td>\n",
              "      <td>-1.701285</td>\n",
              "      <td>-1.856211</td>\n",
              "      <td>-1.886382</td>\n",
              "      <td>-2.083567</td>\n",
              "      <td>-2.128482</td>\n",
              "    </tr>\n",
              "    <tr>\n",
              "      <th>3</th>\n",
              "      <td>-1.152342</td>\n",
              "      <td>-1.299468</td>\n",
              "      <td>-1.681248</td>\n",
              "      <td>-1.467963</td>\n",
              "      <td>1.299843</td>\n",
              "      <td>0.420721</td>\n",
              "      <td>-0.698317</td>\n",
              "      <td>-1.247342</td>\n",
              "      <td>-0.863656</td>\n",
              "      <td>0.009655</td>\n",
              "      <td>-1.903455</td>\n",
              "      <td>-1.355041</td>\n",
              "    </tr>\n",
              "    <tr>\n",
              "      <th>4</th>\n",
              "      <td>0.457912</td>\n",
              "      <td>-0.945649</td>\n",
              "      <td>-1.236708</td>\n",
              "      <td>-1.411892</td>\n",
              "      <td>-0.795418</td>\n",
              "      <td>0.692870</td>\n",
              "      <td>1.140367</td>\n",
              "      <td>1.178353</td>\n",
              "      <td>2.821418</td>\n",
              "      <td>1.487543</td>\n",
              "      <td>1.078149</td>\n",
              "      <td>1.005651</td>\n",
              "    </tr>\n",
              "  </tbody>\n",
              "</table>\n",
              "</div>\n",
              "      <button class=\"colab-df-convert\" onclick=\"convertToInteractive('df-fb54ec37-9dba-4b87-8a95-4f40cae202b3')\"\n",
              "              title=\"Convert this dataframe to an interactive table.\"\n",
              "              style=\"display:none;\">\n",
              "        \n",
              "  <svg xmlns=\"http://www.w3.org/2000/svg\" height=\"24px\"viewBox=\"0 0 24 24\"\n",
              "       width=\"24px\">\n",
              "    <path d=\"M0 0h24v24H0V0z\" fill=\"none\"/>\n",
              "    <path d=\"M18.56 5.44l.94 2.06.94-2.06 2.06-.94-2.06-.94-.94-2.06-.94 2.06-2.06.94zm-11 1L8.5 8.5l.94-2.06 2.06-.94-2.06-.94L8.5 2.5l-.94 2.06-2.06.94zm10 10l.94 2.06.94-2.06 2.06-.94-2.06-.94-.94-2.06-.94 2.06-2.06.94z\"/><path d=\"M17.41 7.96l-1.37-1.37c-.4-.4-.92-.59-1.43-.59-.52 0-1.04.2-1.43.59L10.3 9.45l-7.72 7.72c-.78.78-.78 2.05 0 2.83L4 21.41c.39.39.9.59 1.41.59.51 0 1.02-.2 1.41-.59l7.78-7.78 2.81-2.81c.8-.78.8-2.07 0-2.86zM5.41 20L4 18.59l7.72-7.72 1.47 1.35L5.41 20z\"/>\n",
              "  </svg>\n",
              "      </button>\n",
              "      \n",
              "  <style>\n",
              "    .colab-df-container {\n",
              "      display:flex;\n",
              "      flex-wrap:wrap;\n",
              "      gap: 12px;\n",
              "    }\n",
              "\n",
              "    .colab-df-convert {\n",
              "      background-color: #E8F0FE;\n",
              "      border: none;\n",
              "      border-radius: 50%;\n",
              "      cursor: pointer;\n",
              "      display: none;\n",
              "      fill: #1967D2;\n",
              "      height: 32px;\n",
              "      padding: 0 0 0 0;\n",
              "      width: 32px;\n",
              "    }\n",
              "\n",
              "    .colab-df-convert:hover {\n",
              "      background-color: #E2EBFA;\n",
              "      box-shadow: 0px 1px 2px rgba(60, 64, 67, 0.3), 0px 1px 3px 1px rgba(60, 64, 67, 0.15);\n",
              "      fill: #174EA6;\n",
              "    }\n",
              "\n",
              "    [theme=dark] .colab-df-convert {\n",
              "      background-color: #3B4455;\n",
              "      fill: #D2E3FC;\n",
              "    }\n",
              "\n",
              "    [theme=dark] .colab-df-convert:hover {\n",
              "      background-color: #434B5C;\n",
              "      box-shadow: 0px 1px 3px 1px rgba(0, 0, 0, 0.15);\n",
              "      filter: drop-shadow(0px 1px 2px rgba(0, 0, 0, 0.3));\n",
              "      fill: #FFFFFF;\n",
              "    }\n",
              "  </style>\n",
              "\n",
              "      <script>\n",
              "        const buttonEl =\n",
              "          document.querySelector('#df-fb54ec37-9dba-4b87-8a95-4f40cae202b3 button.colab-df-convert');\n",
              "        buttonEl.style.display =\n",
              "          google.colab.kernel.accessAllowed ? 'block' : 'none';\n",
              "\n",
              "        async function convertToInteractive(key) {\n",
              "          const element = document.querySelector('#df-fb54ec37-9dba-4b87-8a95-4f40cae202b3');\n",
              "          const dataTable =\n",
              "            await google.colab.kernel.invokeFunction('convertToInteractive',\n",
              "                                                     [key], {});\n",
              "          if (!dataTable) return;\n",
              "\n",
              "          const docLinkHtml = 'Like what you see? Visit the ' +\n",
              "            '<a target=\"_blank\" href=https://colab.research.google.com/notebooks/data_table.ipynb>data table notebook</a>'\n",
              "            + ' to learn more about interactive tables.';\n",
              "          element.innerHTML = '';\n",
              "          dataTable['output_type'] = 'display_data';\n",
              "          await google.colab.output.renderOutput(dataTable, element);\n",
              "          const docLink = document.createElement('div');\n",
              "          docLink.innerHTML = docLinkHtml;\n",
              "          element.appendChild(docLink);\n",
              "        }\n",
              "      </script>\n",
              "    </div>\n",
              "  </div>\n",
              "  "
            ]
          },
          "metadata": {},
          "execution_count": 529
        }
      ],
      "source": [
        "chroma_stft_train.head()"
      ]
    },
    {
      "cell_type": "code",
      "source": [
        "def get_chroma_stft_delta_feature(df):\n",
        "    features = []\n",
        "    for path in tqdm(df['SAMPLE_PATH']):\n",
        "        # librosa패키지를 사용하여 wav 파일 load\n",
        "        y, sr = librosa.load(path, sr=16000)\n",
        "        \n",
        "        # librosa패키지를 사용하여 Chroma 추출\n",
        "        chroma = librosa.feature.chroma_stft(y=y, sr=sr,\n",
        "                                             n_chroma=12)\n",
        "        \n",
        "        chroma = librosa.feature.delta(chroma,\n",
        "                                       order=1)\n",
        "\n",
        "        y_feature = []\n",
        "        # 추출된 Chroma들의 평균을 Feature로 사용\n",
        "        for e in chroma:\n",
        "\n",
        "            y_feature.append(np.mean(e))\n",
        "\n",
        "        features.append(y_feature)\n",
        "\n",
        "    columns = ['Chroma_stft_'+str(i) for i in range(len(features[0]))]\n",
        "\n",
        "    chroma_df = pd.DataFrame(features,\n",
        "                             columns=columns)\n",
        "    \n",
        "    print(chroma_df.shape)\n",
        "\n",
        "    return chroma_df"
      ],
      "metadata": {
        "id": "MsbBZt3qVoXe"
      },
      "execution_count": 600,
      "outputs": []
    },
    {
      "cell_type": "code",
      "source": [
        "chroma_stft_delta_train = get_chroma_stft_delta_feature(df_train)\n",
        "chroma_stft_delta_test = get_chroma_stft_delta_feature(df_test)"
      ],
      "metadata": {
        "colab": {
          "base_uri": "https://localhost:8080/",
          "height": 117,
          "referenced_widgets": [
            "bbfb3096ed31427087a94697f8632388",
            "aaa78c9655084c2a9cd9b0ea4966cb54",
            "ceebbd1c09b74505a063fefbcf0c6a34",
            "edf194b328a24ff4af138ad5ba2f4a35",
            "e43b8605e450495788c672505c5712c6",
            "744e7ae8a1bf477db5cf02de197f2562",
            "4eef7c82167a4b2ca1a3f6e21b69cf6a",
            "aefba4ea1af545cfbd7b981c063dbc4b",
            "2683f6546816484c907c70d823dc1ef7",
            "eb0419e1ca5f48d3bb3f8e28dd283731",
            "93b8afac39c84ce1b16d44c0f234be2e",
            "c8d4a08f8e9b4e06b8d226809f064328",
            "ca6a799183234bbd9338d1d3977aac14",
            "ef8ecb5c58d54bd381628f151b8eefad",
            "fdfb72b0737c4608aff07ee6f649db1a",
            "1c8d436878cf471e995a234b98a07fbe",
            "700dfa18bc684842854d75bea9df7738",
            "8219804c6469485bbb6016697cc34e93",
            "3a0eb9a223ed4e60845b182e9778c1d3",
            "524055cf2fa64c7eb6cb21ea839bcd73",
            "08ea8b4b43d444f09d518d15dfca6988",
            "67d4973b767b43c0921a1f25faf72f37"
          ]
        },
        "id": "V7oqxRJoVzXJ",
        "outputId": "04257328-4867-47c9-a8eb-232ba70ec5ec"
      },
      "execution_count": 602,
      "outputs": [
        {
          "output_type": "display_data",
          "data": {
            "text/plain": [
              "  0%|          | 0/1279 [00:00<?, ?it/s]"
            ],
            "application/vnd.jupyter.widget-view+json": {
              "version_major": 2,
              "version_minor": 0,
              "model_id": "bbfb3096ed31427087a94697f8632388"
            }
          },
          "metadata": {}
        },
        {
          "output_type": "stream",
          "name": "stdout",
          "text": [
            "(1279, 12)\n"
          ]
        },
        {
          "output_type": "display_data",
          "data": {
            "text/plain": [
              "  0%|          | 0/1514 [00:00<?, ?it/s]"
            ],
            "application/vnd.jupyter.widget-view+json": {
              "version_major": 2,
              "version_minor": 0,
              "model_id": "c8d4a08f8e9b4e06b8d226809f064328"
            }
          },
          "metadata": {}
        },
        {
          "output_type": "stream",
          "name": "stdout",
          "text": [
            "(1514, 12)\n"
          ]
        }
      ]
    },
    {
      "cell_type": "code",
      "source": [
        "scaler = RobustScaler(quantile_range=(35.0, 65.0))\n",
        "chroma_stft_delta_train, chroma_stft_delta_test = scaled_df(chroma_stft_delta_train,\n",
        "                                     df_train,\n",
        "                                     chroma_stft_delta_test,\n",
        "                                     df_test,\n",
        "                                     scaler)\n",
        "\n",
        "chroma_stft_delta_train.columns = ['Chroma_stft_'+str(i) for i in range(len(chroma_stft_delta_train.columns))]\n",
        "chroma_stft_delta_test.columns = ['Chroma_stft_'+str(i) for i in range(len(chroma_stft_delta_test.columns))]"
      ],
      "metadata": {
        "id": "EINpXFe1V4FD"
      },
      "execution_count": 603,
      "outputs": []
    },
    {
      "cell_type": "code",
      "source": [
        "chroma_stft_delta_train.head()"
      ],
      "metadata": {
        "colab": {
          "base_uri": "https://localhost:8080/",
          "height": 270
        },
        "id": "QzigscQdV_W9",
        "outputId": "4d0f0d21-536d-48db-dfb6-0213725bdb39"
      },
      "execution_count": 604,
      "outputs": [
        {
          "output_type": "execute_result",
          "data": {
            "text/plain": [
              "   Chroma_stft_0  Chroma_stft_1  Chroma_stft_2  Chroma_stft_3  Chroma_stft_4  \\\n",
              "0       1.272769      -0.459903       1.925715       0.716492       0.234022   \n",
              "1       1.151142       2.176059       1.242870       0.525835      -0.606254   \n",
              "2      -0.433666      -1.774703      -1.030115      -0.359814      -2.429800   \n",
              "3       0.285595       0.109167      -0.343420      -0.703956      -0.016538   \n",
              "4       1.787625       1.596735       0.729618      -0.504742       0.792314   \n",
              "\n",
              "   Chroma_stft_5  Chroma_stft_6  Chroma_stft_7  Chroma_stft_8  Chroma_stft_9  \\\n",
              "0      -0.281618      -0.693816      -1.939308      -1.853648      -0.233747   \n",
              "1      -3.010945      -2.374622      -0.310494      -0.992796      -0.362564   \n",
              "2      -0.114101       5.419895       2.494764       1.082360       0.394856   \n",
              "3       0.606383       0.001230      -1.114259      -1.448370      -1.126101   \n",
              "4       0.719976      -0.448218       0.314747      -0.233679      -1.037499   \n",
              "\n",
              "   Chroma_stft_10  Chroma_stft_11  \n",
              "0        0.503726        0.823124  \n",
              "1        0.857919        0.858160  \n",
              "2        0.779679       -0.108635  \n",
              "3       -0.033244        0.526520  \n",
              "4       -0.580268        1.222587  "
            ],
            "text/html": [
              "\n",
              "  <div id=\"df-dc35e8f5-8b07-4d91-bbd4-dc17eff444ab\">\n",
              "    <div class=\"colab-df-container\">\n",
              "      <div>\n",
              "<style scoped>\n",
              "    .dataframe tbody tr th:only-of-type {\n",
              "        vertical-align: middle;\n",
              "    }\n",
              "\n",
              "    .dataframe tbody tr th {\n",
              "        vertical-align: top;\n",
              "    }\n",
              "\n",
              "    .dataframe thead th {\n",
              "        text-align: right;\n",
              "    }\n",
              "</style>\n",
              "<table border=\"1\" class=\"dataframe\">\n",
              "  <thead>\n",
              "    <tr style=\"text-align: right;\">\n",
              "      <th></th>\n",
              "      <th>Chroma_stft_0</th>\n",
              "      <th>Chroma_stft_1</th>\n",
              "      <th>Chroma_stft_2</th>\n",
              "      <th>Chroma_stft_3</th>\n",
              "      <th>Chroma_stft_4</th>\n",
              "      <th>Chroma_stft_5</th>\n",
              "      <th>Chroma_stft_6</th>\n",
              "      <th>Chroma_stft_7</th>\n",
              "      <th>Chroma_stft_8</th>\n",
              "      <th>Chroma_stft_9</th>\n",
              "      <th>Chroma_stft_10</th>\n",
              "      <th>Chroma_stft_11</th>\n",
              "    </tr>\n",
              "  </thead>\n",
              "  <tbody>\n",
              "    <tr>\n",
              "      <th>0</th>\n",
              "      <td>1.272769</td>\n",
              "      <td>-0.459903</td>\n",
              "      <td>1.925715</td>\n",
              "      <td>0.716492</td>\n",
              "      <td>0.234022</td>\n",
              "      <td>-0.281618</td>\n",
              "      <td>-0.693816</td>\n",
              "      <td>-1.939308</td>\n",
              "      <td>-1.853648</td>\n",
              "      <td>-0.233747</td>\n",
              "      <td>0.503726</td>\n",
              "      <td>0.823124</td>\n",
              "    </tr>\n",
              "    <tr>\n",
              "      <th>1</th>\n",
              "      <td>1.151142</td>\n",
              "      <td>2.176059</td>\n",
              "      <td>1.242870</td>\n",
              "      <td>0.525835</td>\n",
              "      <td>-0.606254</td>\n",
              "      <td>-3.010945</td>\n",
              "      <td>-2.374622</td>\n",
              "      <td>-0.310494</td>\n",
              "      <td>-0.992796</td>\n",
              "      <td>-0.362564</td>\n",
              "      <td>0.857919</td>\n",
              "      <td>0.858160</td>\n",
              "    </tr>\n",
              "    <tr>\n",
              "      <th>2</th>\n",
              "      <td>-0.433666</td>\n",
              "      <td>-1.774703</td>\n",
              "      <td>-1.030115</td>\n",
              "      <td>-0.359814</td>\n",
              "      <td>-2.429800</td>\n",
              "      <td>-0.114101</td>\n",
              "      <td>5.419895</td>\n",
              "      <td>2.494764</td>\n",
              "      <td>1.082360</td>\n",
              "      <td>0.394856</td>\n",
              "      <td>0.779679</td>\n",
              "      <td>-0.108635</td>\n",
              "    </tr>\n",
              "    <tr>\n",
              "      <th>3</th>\n",
              "      <td>0.285595</td>\n",
              "      <td>0.109167</td>\n",
              "      <td>-0.343420</td>\n",
              "      <td>-0.703956</td>\n",
              "      <td>-0.016538</td>\n",
              "      <td>0.606383</td>\n",
              "      <td>0.001230</td>\n",
              "      <td>-1.114259</td>\n",
              "      <td>-1.448370</td>\n",
              "      <td>-1.126101</td>\n",
              "      <td>-0.033244</td>\n",
              "      <td>0.526520</td>\n",
              "    </tr>\n",
              "    <tr>\n",
              "      <th>4</th>\n",
              "      <td>1.787625</td>\n",
              "      <td>1.596735</td>\n",
              "      <td>0.729618</td>\n",
              "      <td>-0.504742</td>\n",
              "      <td>0.792314</td>\n",
              "      <td>0.719976</td>\n",
              "      <td>-0.448218</td>\n",
              "      <td>0.314747</td>\n",
              "      <td>-0.233679</td>\n",
              "      <td>-1.037499</td>\n",
              "      <td>-0.580268</td>\n",
              "      <td>1.222587</td>\n",
              "    </tr>\n",
              "  </tbody>\n",
              "</table>\n",
              "</div>\n",
              "      <button class=\"colab-df-convert\" onclick=\"convertToInteractive('df-dc35e8f5-8b07-4d91-bbd4-dc17eff444ab')\"\n",
              "              title=\"Convert this dataframe to an interactive table.\"\n",
              "              style=\"display:none;\">\n",
              "        \n",
              "  <svg xmlns=\"http://www.w3.org/2000/svg\" height=\"24px\"viewBox=\"0 0 24 24\"\n",
              "       width=\"24px\">\n",
              "    <path d=\"M0 0h24v24H0V0z\" fill=\"none\"/>\n",
              "    <path d=\"M18.56 5.44l.94 2.06.94-2.06 2.06-.94-2.06-.94-.94-2.06-.94 2.06-2.06.94zm-11 1L8.5 8.5l.94-2.06 2.06-.94-2.06-.94L8.5 2.5l-.94 2.06-2.06.94zm10 10l.94 2.06.94-2.06 2.06-.94-2.06-.94-.94-2.06-.94 2.06-2.06.94z\"/><path d=\"M17.41 7.96l-1.37-1.37c-.4-.4-.92-.59-1.43-.59-.52 0-1.04.2-1.43.59L10.3 9.45l-7.72 7.72c-.78.78-.78 2.05 0 2.83L4 21.41c.39.39.9.59 1.41.59.51 0 1.02-.2 1.41-.59l7.78-7.78 2.81-2.81c.8-.78.8-2.07 0-2.86zM5.41 20L4 18.59l7.72-7.72 1.47 1.35L5.41 20z\"/>\n",
              "  </svg>\n",
              "      </button>\n",
              "      \n",
              "  <style>\n",
              "    .colab-df-container {\n",
              "      display:flex;\n",
              "      flex-wrap:wrap;\n",
              "      gap: 12px;\n",
              "    }\n",
              "\n",
              "    .colab-df-convert {\n",
              "      background-color: #E8F0FE;\n",
              "      border: none;\n",
              "      border-radius: 50%;\n",
              "      cursor: pointer;\n",
              "      display: none;\n",
              "      fill: #1967D2;\n",
              "      height: 32px;\n",
              "      padding: 0 0 0 0;\n",
              "      width: 32px;\n",
              "    }\n",
              "\n",
              "    .colab-df-convert:hover {\n",
              "      background-color: #E2EBFA;\n",
              "      box-shadow: 0px 1px 2px rgba(60, 64, 67, 0.3), 0px 1px 3px 1px rgba(60, 64, 67, 0.15);\n",
              "      fill: #174EA6;\n",
              "    }\n",
              "\n",
              "    [theme=dark] .colab-df-convert {\n",
              "      background-color: #3B4455;\n",
              "      fill: #D2E3FC;\n",
              "    }\n",
              "\n",
              "    [theme=dark] .colab-df-convert:hover {\n",
              "      background-color: #434B5C;\n",
              "      box-shadow: 0px 1px 3px 1px rgba(0, 0, 0, 0.15);\n",
              "      filter: drop-shadow(0px 1px 2px rgba(0, 0, 0, 0.3));\n",
              "      fill: #FFFFFF;\n",
              "    }\n",
              "  </style>\n",
              "\n",
              "      <script>\n",
              "        const buttonEl =\n",
              "          document.querySelector('#df-dc35e8f5-8b07-4d91-bbd4-dc17eff444ab button.colab-df-convert');\n",
              "        buttonEl.style.display =\n",
              "          google.colab.kernel.accessAllowed ? 'block' : 'none';\n",
              "\n",
              "        async function convertToInteractive(key) {\n",
              "          const element = document.querySelector('#df-dc35e8f5-8b07-4d91-bbd4-dc17eff444ab');\n",
              "          const dataTable =\n",
              "            await google.colab.kernel.invokeFunction('convertToInteractive',\n",
              "                                                     [key], {});\n",
              "          if (!dataTable) return;\n",
              "\n",
              "          const docLinkHtml = 'Like what you see? Visit the ' +\n",
              "            '<a target=\"_blank\" href=https://colab.research.google.com/notebooks/data_table.ipynb>data table notebook</a>'\n",
              "            + ' to learn more about interactive tables.';\n",
              "          element.innerHTML = '';\n",
              "          dataTable['output_type'] = 'display_data';\n",
              "          await google.colab.output.renderOutput(dataTable, element);\n",
              "          const docLink = document.createElement('div');\n",
              "          docLink.innerHTML = docLinkHtml;\n",
              "          element.appendChild(docLink);\n",
              "        }\n",
              "      </script>\n",
              "    </div>\n",
              "  </div>\n",
              "  "
            ]
          },
          "metadata": {},
          "execution_count": 604
        }
      ]
    },
    {
      "cell_type": "markdown",
      "metadata": {
        "id": "cZpDxuiI5lIn"
      },
      "source": [
        "#### Chroma cqt"
      ]
    },
    {
      "cell_type": "markdown",
      "metadata": {
        "id": "dNbiMI_1bOfg"
      },
      "source": [
        "* Constant-Q chromagram"
      ]
    },
    {
      "cell_type": "code",
      "execution_count": null,
      "metadata": {
        "id": "Stk5Nmot5o7P"
      },
      "outputs": [],
      "source": [
        "def get_chroma_cpt_feature(df):\n",
        "    features = []\n",
        "    for path in tqdm(df['SAMPLE_PATH']):\n",
        "        # librosa패키지를 사용하여 wav 파일 load\n",
        "        y, sr = librosa.load(path, sr=16000)\n",
        "        \n",
        "        # librosa패키지를 사용하여 Chroma 추출\n",
        "        chroma = librosa.feature.chroma_cqt(y=y, sr=sr,\n",
        "                                             n_chroma=12)\n",
        "\n",
        "        y_feature = []\n",
        "        # 추출된 Chroma들의 평균을 Feature로 사용\n",
        "        for e in chroma:\n",
        "\n",
        "            y_feature.append(np.mean(e))\n",
        "\n",
        "        features.append(y_feature)\n",
        "\n",
        "    columns = ['Chroma_cqt_'+str(i) for i in range(len(features[0]))]\n",
        "\n",
        "    chroma_df = pd.DataFrame(features,\n",
        "                             columns=columns)\n",
        "    \n",
        "    print(chroma_df.shape)\n",
        "\n",
        "    return chroma_df"
      ]
    },
    {
      "cell_type": "code",
      "execution_count": null,
      "metadata": {
        "id": "2gYiw3wd6S21"
      },
      "outputs": [],
      "source": [
        "chroma_cqt_train = get_chroma_cpt_feature(df_train)\n",
        "chroma_cqt_test = get_chroma_cpt_feature(df_test)"
      ]
    },
    {
      "cell_type": "code",
      "execution_count": null,
      "metadata": {
        "id": "fuL-j4ID6V_c"
      },
      "outputs": [],
      "source": [
        "scaler = RobustScaler(quantile_range=(40.0, 60.0))\n",
        "chroma_cqt_train, chroma_cqt_test= scaled_df(chroma_cqt_train,\n",
        "                                     df_train,\n",
        "                                     chroma_cqt_test,\n",
        "                                     df_test,\n",
        "                                     scaler)\n",
        "\n",
        "chroma_cqt_train.columns = ['Chroma_cqt_'+str(i) for i in range(len(chroma_cqt_train.columns))]\n",
        "chroma_cqt_test.columns = ['Chroma_cqt_'+str(i) for i in range(len(chroma_cqt_test.columns))]"
      ]
    },
    {
      "cell_type": "code",
      "execution_count": null,
      "metadata": {
        "id": "qw9Cpt-26l_r"
      },
      "outputs": [],
      "source": [
        "chroma_cqt_train.head()"
      ]
    },
    {
      "cell_type": "markdown",
      "metadata": {
        "id": "Fg8BSpBJ5pne"
      },
      "source": [
        "#### Chroma cens"
      ]
    },
    {
      "cell_type": "markdown",
      "metadata": {
        "id": "SUzwwFPlbVQQ"
      },
      "source": [
        "* Computes the chroma variant “Chroma Energy Normalized” (CENS)\n",
        "\n",
        "* To compute CENS features, following steps are taken after obtaining chroma vectors using chroma_cqt: 1.\n",
        "\n",
        "  - L-1 normalization of each chroma vector\n",
        "\n",
        "  - Quantization of amplitude based on “log-like” amplitude thresholds\n",
        "\n",
        "  - (optional) Smoothing with sliding window. Default window length = 41 frames\n",
        "\n",
        "  - (not implemented) Downsampling\n",
        "\n",
        "* CENS features are robust to dynamics, timbre and articulation, thus these are commonly used in audio matching and retrieval applications."
      ]
    },
    {
      "cell_type": "code",
      "execution_count": null,
      "metadata": {
        "id": "j1pc7b1B5rCx"
      },
      "outputs": [],
      "source": [
        "def get_chroma_cens_feature(df):\n",
        "    features = []\n",
        "    for path in tqdm(df['SAMPLE_PATH']):\n",
        "        # librosa패키지를 사용하여 wav 파일 load\n",
        "        y, sr = librosa.load(path, sr=16000)\n",
        "        \n",
        "        # librosa패키지를 사용하여 Chroma 추출\n",
        "        chroma = librosa.feature.chroma_cens(y=y, sr=sr,\n",
        "                                             n_chroma=12)\n",
        "\n",
        "        y_feature = []\n",
        "        # 추출된 Chroma들의 평균을 Feature로 사용\n",
        "        for e in chroma:\n",
        "\n",
        "            y_feature.append(np.mean(e))\n",
        "\n",
        "        features.append(y_feature)\n",
        "\n",
        "    columns = ['Chroma_cens_'+str(i) for i in range(len(features[0]))]\n",
        "\n",
        "    chroma_df = pd.DataFrame(features,\n",
        "                             columns=columns)\n",
        "    \n",
        "    print(chroma_df.shape)\n",
        "\n",
        "    return chroma_df"
      ]
    },
    {
      "cell_type": "code",
      "execution_count": null,
      "metadata": {
        "id": "IMXkRWbf6vFZ"
      },
      "outputs": [],
      "source": [
        "chroma_cens_train = get_chroma_cens_feature(df_train)\n",
        "chroma_cens_test = get_chroma_cens_feature(df_test)"
      ]
    },
    {
      "cell_type": "code",
      "execution_count": null,
      "metadata": {
        "id": "lfLsQkOi6y1y"
      },
      "outputs": [],
      "source": [
        "scaler = RobustScaler(quantile_range=(40.0, 60.0))\n",
        "chroma_cens_train, chroma_cens_test= scaled_df(chroma_cens_train,\n",
        "                                     df_train,\n",
        "                                     chroma_cens_test,\n",
        "                                     df_test,\n",
        "                                     scaler)\n",
        "\n",
        "chroma_cens_train.columns = ['Chroma_cens_'+str(i) for i in range(len(chroma_cens_train.columns))]\n",
        "chroma_cens_test.columns = ['Chroma_cens_'+str(i) for i in range(len(chroma_cens_test.columns))]"
      ]
    },
    {
      "cell_type": "markdown",
      "metadata": {
        "id": "RIhsvAE37bMI"
      },
      "source": [
        "### Tonnetz"
      ]
    },
    {
      "cell_type": "markdown",
      "metadata": {
        "id": "xSj7TUGFbltx"
      },
      "source": [
        "* Computes the tonal centroid features (tonnetz)\n",
        "\n",
        "* This representation uses the method of to project chroma features onto a 6-dimensional basis representing the perfect fifth, minor third, and major third each as two-dimensional coordinates.\n",
        "\n",
        "* 1739년 오일러에 의해 처음 기술된 것으로 음악의 tonality와 tonal space의 관계를 graphical한 방식으로 표현한 것"
      ]
    },
    {
      "cell_type": "code",
      "execution_count": null,
      "metadata": {
        "id": "ThbwQN_q7dnk"
      },
      "outputs": [],
      "source": [
        "def get_tonnetz_feature(df):\n",
        "    features = []\n",
        "    for path in tqdm(df['SAMPLE_PATH']):\n",
        "        # librosa패키지를 사용하여 wav 파일 load\n",
        "        y, sr = librosa.load(path, sr=16000)\n",
        "\n",
        "        # librosa패키지를 사용하여 chroma 추출\n",
        "        chroma = librosa.feature.chroma_stft(y=y, sr=sr, n_chroma=12)\n",
        "        #chroma = librosa.feature.chroma_cqt(y=y, sr=sr, n_chroma=12)\n",
        "        #chroma = librosa.feature.chroma_cens(y=y, sr=sr, n_chroma=12)\n",
        "        \n",
        "        # librosa패키지를 사용하여 tonnetz 추출\n",
        "        tonnetz = librosa.feature.tonnetz(y=y, sr=sr,\n",
        "                                          n_chroma=12,\n",
        "                                          chroma=chroma)\n",
        "\n",
        "        y_feature = []\n",
        "        # 추출된 tonnetz들의 평균을 Feature로 사용\n",
        "        for e in tonnetz:\n",
        "\n",
        "            y_feature.append(np.mean(e))\n",
        "\n",
        "        features.append(y_feature)\n",
        "\n",
        "    columns = ['Tonnetz_'+str(i) for i in range(len(features[0]))]\n",
        "    \n",
        "    tonnetz_df = pd.DataFrame(features,\n",
        "                           columns=columns)\n",
        "\n",
        "    print(tonnetz_df.shape)\n",
        "\n",
        "    return tonnetz_df"
      ]
    },
    {
      "cell_type": "code",
      "execution_count": null,
      "metadata": {
        "id": "LuRsvyeg7grg"
      },
      "outputs": [],
      "source": [
        "tonnetz_train = get_tonnetz_feature(df_train)\n",
        "tonnetz_test = get_tonnetz_feature(df_test)"
      ]
    },
    {
      "cell_type": "code",
      "execution_count": null,
      "metadata": {
        "id": "ZbvJfzCU7hcT"
      },
      "outputs": [],
      "source": [
        "scaler = RobustScaler()\n",
        "tonnetz_train, tonnetz_test= scaled_df(tonnetz_train,\n",
        "                                       df_train,\n",
        "                                       tonnetz_test,\n",
        "                                       df_test,\n",
        "                                       scaler)\n",
        "\n",
        "tonnetz_train.columns = ['Tonnetz_'+str(i) for i in range(len(tonnetz_train.columns))]\n",
        "tonnetz_test.columns = ['Tonnetz_'+str(i) for i in range(len(tonnetz_test.columns))]"
      ]
    },
    {
      "cell_type": "code",
      "execution_count": null,
      "metadata": {
        "id": "XSnTyhWY7jKz"
      },
      "outputs": [],
      "source": [
        "tonnetz_train.head()"
      ]
    },
    {
      "cell_type": "markdown",
      "metadata": {
        "id": "kuyZeuSW7qD1"
      },
      "source": [
        "### Rhythm"
      ]
    },
    {
      "cell_type": "markdown",
      "metadata": {
        "id": "kaFoQHqLcWCh"
      },
      "source": [
        "* Compute the tempogram: local autocorrelation of the onset strength envelope."
      ]
    },
    {
      "cell_type": "code",
      "execution_count": null,
      "metadata": {
        "id": "jD1nB9yR7rpY"
      },
      "outputs": [],
      "source": [
        "def get_rhythm_feature(df):\n",
        "    features = []\n",
        "    for path in tqdm(df['SAMPLE_PATH']):\n",
        "        # librosa패키지를 사용하여 wav 파일 load\n",
        "        y, sr = librosa.load(path, sr=16000)\n",
        "\n",
        "        # librosa패키지를 사용하여 onset 추출\n",
        "        onset_envelope = librosa.onset.onset_strength(y=y, sr=sr)\n",
        "        #onset_envelope = librosa.onset.onset_detect(y=y, sr=sr)\n",
        "        #onset_envelope = librosa.onset.onset_strength_multi(y=y, sr=sr)\n",
        "        \n",
        "        # librosa패키지를 사용하여 Rhythm 추출\n",
        "        rhythm = librosa.feature.tempogram(y=y, sr=sr,\n",
        "                                           onset_envelope=onset_envelope)\n",
        "\n",
        "        y_feature = []\n",
        "        # 추출된 tonnetz들의 평균을 Feature로 사용\n",
        "        for e in rhythm:\n",
        "\n",
        "            y_feature.append(np.mean(e))\n",
        "\n",
        "        features.append(y_feature)\n",
        "\n",
        "    columns = ['Rhythm'+str(i) for i in range(len(features[0]))]\n",
        "    \n",
        "    rhythm_df = pd.DataFrame(features,\n",
        "                           columns=columns)\n",
        "\n",
        "    print(rhythm_df.shape)\n",
        "\n",
        "    return rhythm_df"
      ]
    },
    {
      "cell_type": "code",
      "execution_count": null,
      "metadata": {
        "id": "9TODUavZ7uhD"
      },
      "outputs": [],
      "source": [
        "rhythm_train = get_rhythm_feature(df_train)\n",
        "rhythm_test = get_rhythm_feature(df_test)"
      ]
    },
    {
      "cell_type": "code",
      "execution_count": null,
      "metadata": {
        "id": "rsrrNAbz77tb"
      },
      "outputs": [],
      "source": [
        "scaler = RobustScaler(quantile_range=(40.0, 60.0))\n",
        "rhythm_train, rhythm_test= scaled_df(rhythm_train,\n",
        "                                       df_train,\n",
        "                                       rhythm_test,\n",
        "                                       df_test,\n",
        "                                       scaler)\n",
        "\n",
        "rhythm_train.columns = ['Rhythm_'+str(i) for i in range(len(rhythm_train.columns))]\n",
        "rhythm_test.columns = ['Rhythm_'+str(i) for i in range(len(rhythm_test.columns))]"
      ]
    },
    {
      "cell_type": "code",
      "execution_count": null,
      "metadata": {
        "id": "qAsd75Me79ht"
      },
      "outputs": [],
      "source": [
        "rhythm_train.head()"
      ]
    },
    {
      "cell_type": "markdown",
      "metadata": {
        "id": "B1DVIG04Al5W"
      },
      "source": [
        "## Dimension Reduction"
      ]
    },
    {
      "cell_type": "markdown",
      "metadata": {
        "id": "cumM3RXKApPu"
      },
      "source": [
        "### Truncated SVD"
      ]
    },
    {
      "cell_type": "code",
      "execution_count": null,
      "metadata": {
        "id": "u8XuFdX6AnkL"
      },
      "outputs": [],
      "source": []
    },
    {
      "cell_type": "markdown",
      "metadata": {
        "id": "vQDMBfpOAx6z"
      },
      "source": [
        "### PCA"
      ]
    },
    {
      "cell_type": "code",
      "execution_count": null,
      "metadata": {
        "colab": {
          "base_uri": "https://localhost:8080/"
        },
        "id": "WWMfifKRAy0p",
        "outputId": "27c3dd7d-1333-4d15-f376-965f4b3fdf61"
      },
      "outputs": [
        {
          "name": "stdout",
          "output_type": "stream",
          "text": [
            "127\n"
          ]
        }
      ],
      "source": [
        "pca = PCA()\n",
        "pca.fit(melspectrogram_train)\n",
        "cumsum = np.cumsum(pca.explained_variance_ratio_)\n",
        "N_COMPONETS = np.argmax(cumsum>=0.99999) + 1\n",
        "print(N_COMPONETS)"
      ]
    },
    {
      "cell_type": "code",
      "execution_count": null,
      "metadata": {
        "id": "jLeAqVfABYC8"
      },
      "outputs": [],
      "source": [
        "pca = PCA(n_components=N_COMPONETS)\n",
        "\n",
        "pca_train_mel = pca.fit_transform(melspectrogram_train)\n",
        "pca_test_mel = pca.transform(melspectrogram_test)\n",
        "\n",
        "pca_train_mel = pd.DataFrame(pca_train_mel)\n",
        "pca_test_mel = pd.DataFrame(pca_test_mel)"
      ]
    },
    {
      "cell_type": "code",
      "execution_count": null,
      "metadata": {
        "id": "zDK8DkpLjBRu"
      },
      "outputs": [],
      "source": [
        "pca = SparsePCA(n_components=N_COMPONETS,\n",
        "                alpha=0.001)\n",
        "\n",
        "pca_train_mel = pca.fit_transform(melspectrogram_train)\n",
        "pca_test_mel = pca.transform(melspectrogram_test)\n",
        "\n",
        "pca_train_mel = pd.DataFrame(pca_train_mel)\n",
        "pca_test_mel = pd.DataFrame(pca_test_mel)"
      ]
    },
    {
      "cell_type": "markdown",
      "metadata": {
        "id": "DOuo1ssix3YK"
      },
      "source": [
        "#### Rhythm"
      ]
    },
    {
      "cell_type": "code",
      "execution_count": null,
      "metadata": {
        "colab": {
          "base_uri": "https://localhost:8080/"
        },
        "id": "QI_ef_Ejx0fk",
        "outputId": "47061185-12d3-4968-d71d-999f92d50e4e"
      },
      "outputs": [
        {
          "name": "stdout",
          "output_type": "stream",
          "text": [
            "119\n"
          ]
        }
      ],
      "source": [
        "pca = PCA()\n",
        "pca.fit(rhythm_train)\n",
        "cumsum = np.cumsum(pca.explained_variance_ratio_)\n",
        "N_COMPONETS = np.argmax(cumsum>=0.999) + 1\n",
        "print(N_COMPONETS)"
      ]
    },
    {
      "cell_type": "code",
      "execution_count": null,
      "metadata": {
        "id": "u6TxoB7vx1Wn"
      },
      "outputs": [],
      "source": [
        "pca = PCA(n_components=N_COMPONETS)\n",
        "\n",
        "pca_train_rhythm = pca.fit_transform(rhythm_train)\n",
        "pca_test_rhythm = pca.transform(rhythm_test)\n",
        "\n",
        "pca_train_rhythm = pd.DataFrame(pca_train_rhythm)\n",
        "pca_test_rhythm = pd.DataFrame(pca_test_rhythm)"
      ]
    },
    {
      "cell_type": "markdown",
      "metadata": {
        "id": "CIntecjmAsUj"
      },
      "source": [
        "### Sparse PCA"
      ]
    },
    {
      "cell_type": "markdown",
      "metadata": {
        "id": "HoGkhlhfA-1m"
      },
      "source": [
        "#### Zero Crossing Rate"
      ]
    },
    {
      "cell_type": "code",
      "execution_count": 379,
      "metadata": {
        "colab": {
          "base_uri": "https://localhost:8080/"
        },
        "id": "zMksRv6iBBeV",
        "outputId": "ceb3ad72-e757-48bc-e799-3cb9ccd9b7f0"
      },
      "outputs": [
        {
          "output_type": "stream",
          "name": "stdout",
          "text": [
            "1\n"
          ]
        }
      ],
      "source": [
        "pca = PCA()\n",
        "pca.fit(zero_train)\n",
        "cumsum = np.cumsum(pca.explained_variance_ratio_)\n",
        "N_COMPONETS = np.argmax(cumsum>=0.999) + 1\n",
        "print(N_COMPONETS)"
      ]
    },
    {
      "cell_type": "code",
      "execution_count": 380,
      "metadata": {
        "id": "h5Xy0MC3BIbH"
      },
      "outputs": [],
      "source": [
        "pca = SparsePCA(n_components=N_COMPONETS,\n",
        "                alpha=0.001)\n",
        "\n",
        "pca_train_zero = pca.fit_transform(zero_train)\n",
        "pca_test_zero = pca.transform(zero_test)\n",
        "\n",
        "pca_train_zero = pd.DataFrame(pca_train_zero)\n",
        "pca_test_zero = pd.DataFrame(pca_test_zero)"
      ]
    },
    {
      "cell_type": "code",
      "source": [
        "pca = PCA()\n",
        "pca.fit(zero_delta_train)\n",
        "cumsum = np.cumsum(pca.explained_variance_ratio_)\n",
        "N_COMPONETS = np.argmax(cumsum>=0.999) + 1\n",
        "print(N_COMPONETS)"
      ],
      "metadata": {
        "colab": {
          "base_uri": "https://localhost:8080/"
        },
        "id": "7M7Tpj-39kGI",
        "outputId": "2780987d-961c-4116-e3f6-b6cc35c55084"
      },
      "execution_count": 381,
      "outputs": [
        {
          "output_type": "stream",
          "name": "stdout",
          "text": [
            "1\n"
          ]
        }
      ]
    },
    {
      "cell_type": "code",
      "source": [
        "pca = SparsePCA(n_components=N_COMPONETS,\n",
        "                alpha=0.001)\n",
        "\n",
        "pca_train_zero_delta = pca.fit_transform(zero_delta_train)\n",
        "pca_test_zero_delta = pca.transform(zero_delta_test)\n",
        "\n",
        "pca_train_zero_delta = pd.DataFrame(pca_train_zero_delta)\n",
        "pca_test_zero_delta = pd.DataFrame(pca_test_zero_delta)"
      ],
      "metadata": {
        "id": "QerkgZo59nRz"
      },
      "execution_count": 382,
      "outputs": []
    },
    {
      "cell_type": "markdown",
      "metadata": {
        "id": "VJSBGeUndkE0"
      },
      "source": [
        "#### RMS"
      ]
    },
    {
      "cell_type": "code",
      "execution_count": 383,
      "metadata": {
        "colab": {
          "base_uri": "https://localhost:8080/"
        },
        "id": "3lIPaWY-dlK4",
        "outputId": "b1deee9b-0178-4c45-c9cd-f8c7f39d1a70"
      },
      "outputs": [
        {
          "output_type": "stream",
          "name": "stdout",
          "text": [
            "1\n"
          ]
        }
      ],
      "source": [
        "pca = PCA()\n",
        "pca.fit(rms_train)\n",
        "cumsum = np.cumsum(pca.explained_variance_ratio_)\n",
        "N_COMPONETS = np.argmax(cumsum>=0.999) + 1\n",
        "print(N_COMPONETS)"
      ]
    },
    {
      "cell_type": "code",
      "execution_count": 384,
      "metadata": {
        "id": "WSStcURfdnky"
      },
      "outputs": [],
      "source": [
        "pca = SparsePCA(n_components=N_COMPONETS,\n",
        "                alpha=0.001)\n",
        "\n",
        "pca_train_rms = pca.fit_transform(rms_train)\n",
        "pca_test_rms = pca.transform(rms_test)\n",
        "\n",
        "pca_train_rms = pd.DataFrame(pca_train_rms)\n",
        "pca_test_rms = pd.DataFrame(pca_test_rms)"
      ]
    },
    {
      "cell_type": "code",
      "source": [
        "pca = PCA()\n",
        "pca.fit(rms_delta_train)\n",
        "cumsum = np.cumsum(pca.explained_variance_ratio_)\n",
        "N_COMPONETS = np.argmax(cumsum>=0.999) + 1\n",
        "print(N_COMPONETS)"
      ],
      "metadata": {
        "colab": {
          "base_uri": "https://localhost:8080/"
        },
        "id": "TgrLO2D547K9",
        "outputId": "bdf7b4f4-1318-48db-d978-a27d59f1b34e"
      },
      "execution_count": 385,
      "outputs": [
        {
          "output_type": "stream",
          "name": "stdout",
          "text": [
            "1\n"
          ]
        }
      ]
    },
    {
      "cell_type": "code",
      "source": [
        "pca = SparsePCA(n_components=N_COMPONETS,\n",
        "                alpha=0.001)\n",
        "\n",
        "pca_train_rms_delta = pca.fit_transform(rms_delta_train)\n",
        "pca_test_rms_delta = pca.transform(rms_delta_test)\n",
        "\n",
        "pca_train_rms_delta = pd.DataFrame(pca_train_rms_delta)\n",
        "pca_test_rms_delta = pd.DataFrame(pca_test_rms_delta)"
      ],
      "metadata": {
        "id": "qUffmWu949Rk"
      },
      "execution_count": 386,
      "outputs": []
    },
    {
      "cell_type": "markdown",
      "metadata": {
        "id": "cHJABxTvA0LB"
      },
      "source": [
        "#### MFCC"
      ]
    },
    {
      "cell_type": "code",
      "execution_count": 387,
      "metadata": {
        "colab": {
          "base_uri": "https://localhost:8080/"
        },
        "id": "jPfRoQKHAtkC",
        "outputId": "e2fd089c-9236-4c80-de13-9e7d99033f06"
      },
      "outputs": [
        {
          "output_type": "stream",
          "name": "stdout",
          "text": [
            "124\n"
          ]
        }
      ],
      "source": [
        "pca = PCA()\n",
        "pca.fit(mfcc_train)\n",
        "cumsum = np.cumsum(pca.explained_variance_ratio_)\n",
        "N_COMPONETS = np.argmax(cumsum>=0.999) + 1\n",
        "print(N_COMPONETS)"
      ]
    },
    {
      "cell_type": "code",
      "execution_count": 388,
      "metadata": {
        "id": "WS7DkbjkA2Ex"
      },
      "outputs": [],
      "source": [
        "pca = SparsePCA(n_components=N_COMPONETS,\n",
        "                alpha=0.001)\n",
        "\n",
        "pca_train_mfcc = pca.fit_transform(mfcc_train)\n",
        "pca_test_mfcc = pca.transform(mfcc_test)\n",
        "\n",
        "pca_train_mfcc = pd.DataFrame(pca_train_mfcc)\n",
        "pca_test_mfcc = pd.DataFrame(pca_test_mfcc)"
      ]
    },
    {
      "cell_type": "code",
      "source": [
        "pca = PCA()\n",
        "pca.fit(mfcc_delta_train)\n",
        "cumsum = np.cumsum(pca.explained_variance_ratio_)\n",
        "N_COMPONETS = np.argmax(cumsum>=0.85) + 1\n",
        "print(N_COMPONETS)"
      ],
      "metadata": {
        "colab": {
          "base_uri": "https://localhost:8080/"
        },
        "id": "Ab-lnW_35DVN",
        "outputId": "1fa2d5be-51b3-40c8-ff10-f9ab80729161"
      },
      "execution_count": 447,
      "outputs": [
        {
          "output_type": "stream",
          "name": "stdout",
          "text": [
            "78\n"
          ]
        }
      ]
    },
    {
      "cell_type": "code",
      "source": [
        "# 3\n",
        "pca = SparsePCA(n_components=3,\n",
        "                alpha=0.001)\n",
        "\n",
        "pca_train_mfcc_delta = pca.fit_transform(mfcc_delta_train)\n",
        "pca_test_mfcc_delta = pca.transform(mfcc_delta_test)\n",
        "\n",
        "pca_train_mfcc_delta = pd.DataFrame(pca_train_mfcc_delta)\n",
        "pca_test_mfcc_delta = pd.DataFrame(pca_test_mfcc_delta)"
      ],
      "metadata": {
        "id": "1XBy9o4a5GwM"
      },
      "execution_count": 515,
      "outputs": []
    },
    {
      "cell_type": "markdown",
      "metadata": {
        "id": "jAg_yfv8CRc4"
      },
      "source": [
        "#### Spectral\n"
      ]
    },
    {
      "cell_type": "markdown",
      "metadata": {
        "id": "O83LEdgpCVvw"
      },
      "source": [
        "##### Spectral Centroid"
      ]
    },
    {
      "cell_type": "code",
      "execution_count": null,
      "metadata": {
        "colab": {
          "base_uri": "https://localhost:8080/"
        },
        "id": "ygjCHgyfCyyk",
        "outputId": "3028569f-af2a-4dee-848d-c2242235e292"
      },
      "outputs": [
        {
          "name": "stdout",
          "output_type": "stream",
          "text": [
            "1\n"
          ]
        }
      ],
      "source": [
        "pca = PCA()\n",
        "pca.fit(spectral_centroid_train)\n",
        "cumsum = np.cumsum(pca.explained_variance_ratio_)\n",
        "N_COMPONETS = np.argmax(cumsum>=0.999) + 1\n",
        "print(N_COMPONETS)"
      ]
    },
    {
      "cell_type": "code",
      "execution_count": null,
      "metadata": {
        "id": "a4CYbT4IC0Ci"
      },
      "outputs": [],
      "source": [
        "pca = SparsePCA(n_components=N_COMPONETS,\n",
        "                alpha=0.001)\n",
        "\n",
        "pca_train_sepctral_centroid = pca.fit_transform(spectral_centroid_train)\n",
        "pca_test_sepctral_centroid = pca.transform(spectral_centroid_test)\n",
        "\n",
        "pca_train_sepctral_centroid = pd.DataFrame(pca_train_sepctral_centroid)\n",
        "pca_test_sepctral_centroid = pd.DataFrame(pca_test_sepctral_centroid)"
      ]
    },
    {
      "cell_type": "markdown",
      "metadata": {
        "id": "Yq_HOJWqCa-g"
      },
      "source": [
        "##### Spectral Bandwidth"
      ]
    },
    {
      "cell_type": "code",
      "execution_count": null,
      "metadata": {
        "colab": {
          "base_uri": "https://localhost:8080/"
        },
        "id": "o0Gz4gs3CzM4",
        "outputId": "c8f27f77-1c26-4b10-c465-d4efd1023669"
      },
      "outputs": [
        {
          "name": "stdout",
          "output_type": "stream",
          "text": [
            "1\n"
          ]
        }
      ],
      "source": [
        "pca = PCA()\n",
        "pca.fit(spectral_bandwidth_train)\n",
        "cumsum = np.cumsum(pca.explained_variance_ratio_)\n",
        "N_COMPONETS = np.argmax(cumsum>=0.999) + 1\n",
        "print(N_COMPONETS)"
      ]
    },
    {
      "cell_type": "code",
      "execution_count": null,
      "metadata": {
        "id": "OCMXjEvgC0YA"
      },
      "outputs": [],
      "source": [
        "pca = SparsePCA(n_components=N_COMPONETS,\n",
        "                alpha=0.001)\n",
        "\n",
        "pca_train_sepctral_bandwidth = pca.fit_transform(spectral_bandwidth_train)\n",
        "pca_test_sepctral_bandwidth = pca.transform(spectral_bandwidth_test)\n",
        "\n",
        "pca_train_sepctral_bandwidth = pd.DataFrame(pca_train_sepctral_bandwidth)\n",
        "pca_test_sepctral_bandwidth = pd.DataFrame(pca_test_sepctral_bandwidth)"
      ]
    },
    {
      "cell_type": "markdown",
      "metadata": {
        "id": "qdb28gzRCetS"
      },
      "source": [
        "##### Spectral Contrast"
      ]
    },
    {
      "cell_type": "code",
      "execution_count": null,
      "metadata": {
        "colab": {
          "base_uri": "https://localhost:8080/"
        },
        "id": "tArBFzSuCzjR",
        "outputId": "a8fdebd3-41cd-4622-bdf2-baa3500abdc8"
      },
      "outputs": [
        {
          "name": "stdout",
          "output_type": "stream",
          "text": [
            "7\n"
          ]
        }
      ],
      "source": [
        "pca = PCA()\n",
        "pca.fit(spectral_contrast_train)\n",
        "cumsum = np.cumsum(pca.explained_variance_ratio_)\n",
        "N_COMPONETS = np.argmax(cumsum>=0.999) + 1\n",
        "print(N_COMPONETS)"
      ]
    },
    {
      "cell_type": "code",
      "execution_count": null,
      "metadata": {
        "id": "K8jpWIe1C0yS"
      },
      "outputs": [],
      "source": [
        "pca = SparsePCA(n_components=N_COMPONETS,\n",
        "                alpha=0.001)\n",
        "\n",
        "pca_train_sepctral_contrast = pca.fit_transform(spectral_contrast_train)\n",
        "pca_test_sepctral_contrast = pca.transform(spectral_contrast_test)\n",
        "\n",
        "pca_train_sepctral_contrast = pd.DataFrame(pca_train_sepctral_contrast)\n",
        "pca_test_sepctral_contrast = pd.DataFrame(pca_test_sepctral_contrast)"
      ]
    },
    {
      "cell_type": "markdown",
      "metadata": {
        "id": "9ItV7h-AChUl"
      },
      "source": [
        "##### Spectral Flatness\n"
      ]
    },
    {
      "cell_type": "code",
      "execution_count": null,
      "metadata": {
        "colab": {
          "base_uri": "https://localhost:8080/"
        },
        "id": "C9MrsD2CC1MG",
        "outputId": "216afa94-1825-43a5-d126-5068b8a49391"
      },
      "outputs": [
        {
          "name": "stdout",
          "output_type": "stream",
          "text": [
            "1\n"
          ]
        }
      ],
      "source": [
        "pca = PCA()\n",
        "pca.fit(spectral_flatness_train)\n",
        "cumsum = np.cumsum(pca.explained_variance_ratio_)\n",
        "N_COMPONETS = np.argmax(cumsum>=0.999) + 1\n",
        "print(N_COMPONETS)"
      ]
    },
    {
      "cell_type": "code",
      "execution_count": null,
      "metadata": {
        "id": "j-9pV6N0C1dg"
      },
      "outputs": [],
      "source": [
        "pca = SparsePCA(n_components=N_COMPONETS,\n",
        "                alpha=0.001)\n",
        "\n",
        "pca_train_sepctral_flatness = pca.fit_transform(spectral_flatness_train)\n",
        "pca_test_sepctral_flatness = pca.transform(spectral_flatness_test)\n",
        "\n",
        "pca_train_sepctral_flatness = pd.DataFrame(pca_train_sepctral_flatness)\n",
        "pca_test_sepctral_flatness = pd.DataFrame(pca_test_sepctral_flatness)"
      ]
    },
    {
      "cell_type": "markdown",
      "metadata": {
        "id": "zX44lvlACkcy"
      },
      "source": [
        "##### Spectral Rolloff"
      ]
    },
    {
      "cell_type": "code",
      "execution_count": null,
      "metadata": {
        "colab": {
          "base_uri": "https://localhost:8080/"
        },
        "id": "KR9UwFeYC1x-",
        "outputId": "d69394fd-f6ad-45e0-85be-48bfdf01905e"
      },
      "outputs": [
        {
          "name": "stdout",
          "output_type": "stream",
          "text": [
            "1\n"
          ]
        }
      ],
      "source": [
        "pca = PCA()\n",
        "pca.fit(spectral_rolloff_train)\n",
        "cumsum = np.cumsum(pca.explained_variance_ratio_)\n",
        "N_COMPONETS = np.argmax(cumsum>=0.999) + 1\n",
        "print(N_COMPONETS)"
      ]
    },
    {
      "cell_type": "code",
      "execution_count": null,
      "metadata": {
        "id": "kBgy5AYPC2Ni"
      },
      "outputs": [],
      "source": [
        "pca = SparsePCA(n_components=N_COMPONETS,\n",
        "                alpha=0.001)\n",
        "\n",
        "pca_train_sepctral_rolloff = pca.fit_transform(spectral_rolloff_train)\n",
        "pca_test_sepctral_rolloff = pca.transform(spectral_rolloff_test)\n",
        "\n",
        "pca_train_sepctral_rolloff = pd.DataFrame(pca_train_sepctral_rolloff)\n",
        "pca_test_sepctral_rolloff = pd.DataFrame(pca_test_sepctral_rolloff)"
      ]
    },
    {
      "cell_type": "markdown",
      "metadata": {
        "id": "JIbYrLotCTEe"
      },
      "source": [
        "#### Chroma"
      ]
    },
    {
      "cell_type": "markdown",
      "metadata": {
        "id": "PUTfr_4mCsEz"
      },
      "source": [
        "##### Chroma stft"
      ]
    },
    {
      "cell_type": "code",
      "execution_count": 566,
      "metadata": {
        "colab": {
          "base_uri": "https://localhost:8080/"
        },
        "id": "W8JLD9HfC3qC",
        "outputId": "a05319f9-7304-47e1-ee9e-4949c3a51923"
      },
      "outputs": [
        {
          "output_type": "stream",
          "name": "stdout",
          "text": [
            "8\n"
          ]
        }
      ],
      "source": [
        "pca = PCA()\n",
        "pca.fit(chroma_stft_train)\n",
        "cumsum = np.cumsum(pca.explained_variance_ratio_)\n",
        "N_COMPONETS = np.argmax(cumsum>=0.90) + 1\n",
        "print(N_COMPONETS)"
      ]
    },
    {
      "cell_type": "code",
      "execution_count": 683,
      "metadata": {
        "id": "UMpLUMxhC3gO"
      },
      "outputs": [],
      "source": [
        "# 3\n",
        "pca = SparsePCA(n_components=1,\n",
        "                alpha=0.001)\n",
        "\n",
        "pca_train_chroma_stft = pca.fit_transform(chroma_stft_train)\n",
        "pca_test_chroma_stft = pca.transform(chroma_stft_test)\n",
        "\n",
        "pca_train_chroma_stft = pd.DataFrame(pca_train_chroma_stft)\n",
        "pca_test_chroma_stft = pd.DataFrame(pca_test_chroma_stft)"
      ]
    },
    {
      "cell_type": "code",
      "source": [
        "pca = PCA()\n",
        "pca.fit(chroma_stft_delta_train)\n",
        "cumsum = np.cumsum(pca.explained_variance_ratio_)\n",
        "N_COMPONETS = np.argmax(cumsum>=0.90) + 1\n",
        "print(N_COMPONETS)"
      ],
      "metadata": {
        "colab": {
          "base_uri": "https://localhost:8080/"
        },
        "id": "zirhF-6NWMlm",
        "outputId": "4352ab65-86a0-4dad-b0ac-da15ff276e16"
      },
      "execution_count": 684,
      "outputs": [
        {
          "output_type": "stream",
          "name": "stdout",
          "text": [
            "8\n"
          ]
        }
      ]
    },
    {
      "cell_type": "code",
      "source": [
        "pca = SparsePCA(n_components=1,\n",
        "                alpha=0.001)\n",
        "\n",
        "pca_train_chroma_stft_delta = pca.fit_transform(chroma_stft_delta_train)\n",
        "pca_test_chroma_stft_delta = pca.transform(chroma_stft_delta_test)\n",
        "\n",
        "pca_train_chroma_stft_delta = pd.DataFrame(pca_train_chroma_stft_delta)\n",
        "pca_test_chroma_stft_delta = pd.DataFrame(pca_test_chroma_stft_delta)"
      ],
      "metadata": {
        "id": "qzYUA6ZGWOht"
      },
      "execution_count": 685,
      "outputs": []
    },
    {
      "cell_type": "markdown",
      "metadata": {
        "id": "HNzI4ijzCuXc"
      },
      "source": [
        "##### Chroma cqt"
      ]
    },
    {
      "cell_type": "code",
      "execution_count": null,
      "metadata": {
        "colab": {
          "base_uri": "https://localhost:8080/"
        },
        "id": "kEmLck_yC4Xl",
        "outputId": "4bb2a2d4-f095-4b7e-ba01-206c00b270b0"
      },
      "outputs": [
        {
          "name": "stdout",
          "output_type": "stream",
          "text": [
            "12\n"
          ]
        }
      ],
      "source": [
        "pca = PCA()\n",
        "pca.fit(chroma_cqt_train)\n",
        "cumsum = np.cumsum(pca.explained_variance_ratio_)\n",
        "N_COMPONETS = np.argmax(cumsum>=0.999) + 1\n",
        "print(N_COMPONETS)"
      ]
    },
    {
      "cell_type": "code",
      "execution_count": null,
      "metadata": {
        "id": "Tj7x9wcZC4R3"
      },
      "outputs": [],
      "source": [
        "pca = SparsePCA(n_components=N_COMPONETS,\n",
        "                alpha=0.001)\n",
        "\n",
        "pca_train_chroma_cqt = pca.fit_transform(chroma_cqt_train)\n",
        "pca_test_chroma_cqt = pca.transform(chroma_cqt_test)\n",
        "\n",
        "pca_train_chroma_cqt = pd.DataFrame(pca_train_chroma_cqt)\n",
        "pca_test_chroma_cqt = pd.DataFrame(pca_test_chroma_cqt)"
      ]
    },
    {
      "cell_type": "markdown",
      "metadata": {
        "id": "-CxGS19iCwMo"
      },
      "source": [
        "##### Chroma cens"
      ]
    },
    {
      "cell_type": "code",
      "execution_count": null,
      "metadata": {
        "colab": {
          "base_uri": "https://localhost:8080/"
        },
        "id": "8Ow8pIgLC4xC",
        "outputId": "e8aa50e1-2c13-4d02-d1be-38beaf3ddadf"
      },
      "outputs": [
        {
          "name": "stdout",
          "output_type": "stream",
          "text": [
            "12\n"
          ]
        }
      ],
      "source": [
        "pca = PCA()\n",
        "pca.fit(chroma_cens_train)\n",
        "cumsum = np.cumsum(pca.explained_variance_ratio_)\n",
        "N_COMPONETS = np.argmax(cumsum>=0.999) + 1\n",
        "print(N_COMPONETS)"
      ]
    },
    {
      "cell_type": "code",
      "execution_count": null,
      "metadata": {
        "id": "6_3TGOAxC4re"
      },
      "outputs": [],
      "source": [
        "pca = SparsePCA(n_components=N_COMPONETS,\n",
        "                alpha=0.001)\n",
        "\n",
        "pca_train_chroma_cens = pca.fit_transform(chroma_cens_train)\n",
        "pca_test_chroma_cens = pca.transform(chroma_cens_test)\n",
        "\n",
        "pca_train_chroma_cens = pd.DataFrame(pca_train_chroma_cens)\n",
        "pca_test_chroma_cens = pd.DataFrame(pca_test_chroma_cens)"
      ]
    },
    {
      "cell_type": "markdown",
      "metadata": {
        "id": "hzDnjpjKFWQd"
      },
      "source": [
        "### Tonnetz"
      ]
    },
    {
      "cell_type": "code",
      "execution_count": null,
      "metadata": {
        "colab": {
          "base_uri": "https://localhost:8080/"
        },
        "id": "npYyE3a5FZ1x",
        "outputId": "f3ec1c8d-3fc9-4cf6-846b-8d0092715f53"
      },
      "outputs": [
        {
          "name": "stdout",
          "output_type": "stream",
          "text": [
            "6\n"
          ]
        }
      ],
      "source": [
        "pca = PCA()\n",
        "pca.fit(tonnetz_train)\n",
        "cumsum = np.cumsum(pca.explained_variance_ratio_)\n",
        "N_COMPONETS = np.argmax(cumsum>=0.999) + 1\n",
        "print(N_COMPONETS)"
      ]
    },
    {
      "cell_type": "code",
      "execution_count": null,
      "metadata": {
        "id": "L0Ea5AN2Fejz"
      },
      "outputs": [],
      "source": [
        "pca = SparsePCA(n_components=N_COMPONETS,\n",
        "                alpha=0.001)\n",
        "\n",
        "pca_train_tonnetz = pca.fit_transform(tonnetz_train)\n",
        "pca_test_tonnetz = pca.transform(tonnetz_test)\n",
        "\n",
        "pca_train_tonnetz = pd.DataFrame(pca_train_tonnetz)\n",
        "pca_test_tonnetz = pd.DataFrame(pca_test_tonnetz)"
      ]
    },
    {
      "cell_type": "markdown",
      "metadata": {
        "id": "m2F97er4AvDw"
      },
      "source": [
        "### Kernel PCA"
      ]
    },
    {
      "cell_type": "markdown",
      "metadata": {
        "id": "R8qpbwFqCDOV"
      },
      "source": [
        "#### Poly Feature"
      ]
    },
    {
      "cell_type": "code",
      "execution_count": null,
      "metadata": {
        "colab": {
          "base_uri": "https://localhost:8080/"
        },
        "id": "3bU1FKrcAwna",
        "outputId": "e91753e9-a91d-486f-d079-c493b88d4a0c"
      },
      "outputs": [
        {
          "name": "stdout",
          "output_type": "stream",
          "text": [
            "2\n"
          ]
        }
      ],
      "source": [
        "pca = PCA()\n",
        "pca.fit(poly_train)\n",
        "cumsum = np.cumsum(pca.explained_variance_ratio_)\n",
        "N_COMPONETS = np.argmax(cumsum>=0.999) + 1\n",
        "print(N_COMPONETS)"
      ]
    },
    {
      "cell_type": "code",
      "execution_count": null,
      "metadata": {
        "id": "J861rZq_B-kb"
      },
      "outputs": [],
      "source": [
        "pca = KernelPCA(n_components=N_COMPONETS)\n",
        "\n",
        "pca_train_poly = pca.fit_transform(poly_train)\n",
        "pca_test_poly = pca.transform(poly_test)\n",
        "\n",
        "pca_train_poly = pd.DataFrame(pca_train_poly)\n",
        "pca_test_poly = pd.DataFrame(pca_test_poly)"
      ]
    },
    {
      "cell_type": "markdown",
      "metadata": {
        "id": "FBQ7pMccGhdG"
      },
      "source": [
        "# Concat Preprocessed Data Set"
      ]
    },
    {
      "cell_type": "code",
      "execution_count": 686,
      "metadata": {
        "id": "RGuLKvObGmxD"
      },
      "outputs": [],
      "source": [
        "preprocessed_train_mean = pd.concat([\n",
        "                                     #zero_train,\n",
        "                                     #rms_train,\n",
        "                                     #pca_train_mel,\n",
        "                                     pca_train_zero,\n",
        "                                     pca_train_rms,\n",
        "                                     pca_train_mfcc,\n",
        "                                     pca_train_zero_delta,\n",
        "                                     pca_train_rms_delta,\n",
        "                                     #pca_train_mfcc_delta,\n",
        "                                     #pca_train_sepctral_centroid,\n",
        "                                     #pca_train_sepctral_bandwidth,\n",
        "                                     #pca_train_sepctral_contrast,\n",
        "                                     #pca_train_sepctral_flatness,\n",
        "                                     #pca_train_sepctral_rolloff,\n",
        "                                     pca_train_chroma_stft,\n",
        "                                     pca_train_chroma_stft_delta,\n",
        "                                     #pca_train_chroma_cqt,\n",
        "                                     #pca_train_chroma_cens,\n",
        "                                     #pca_train_tonnetz,\n",
        "                                     #pca_train_rhythm,\n",
        "                                     #pca_train_poly\n",
        "                                    ], axis=1)\n",
        "\n",
        "preprocessed_test_mean = pd.concat([\n",
        "                                     #zero_test,\n",
        "                                     #rms_test,\n",
        "                                     #pca_test_mel,\n",
        "                                     pca_test_zero,\n",
        "                                     pca_test_rms,\n",
        "                                     pca_test_mfcc,\n",
        "                                     pca_test_zero_delta,\n",
        "                                     pca_test_rms_delta,\n",
        "                                     #pca_test_mfcc_delta,\n",
        "                                     #pca_test_sepctral_centroid,\n",
        "                                     #pca_test_sepctral_bandwidth,\n",
        "                                     #pca_test_sepctral_contrast,\n",
        "                                     #pca_test_sepctral_flatness,\n",
        "                                     #pca_test_sepctral_rolloff,\n",
        "                                     pca_test_chroma_stft,\n",
        "                                     pca_test_chroma_stft_delta,\n",
        "                                     #pca_test_chroma_cqt,\n",
        "                                     #pca_test_chroma_cens,\n",
        "                                     #pca_test_tonnetz,\n",
        "                                     #pca_test_rhythm,\n",
        "                                     #pca_test_poly\n",
        "                                    ], axis=1)"
      ]
    },
    {
      "cell_type": "code",
      "execution_count": 687,
      "metadata": {
        "id": "Woygliy6GpZI"
      },
      "outputs": [],
      "source": [
        "preprocessed_train_mean.columns = [i for i in range(len(preprocessed_train_mean.columns))]\n",
        "preprocessed_test_mean.columns = [i for i in range(len(preprocessed_test_mean.columns))]"
      ]
    },
    {
      "cell_type": "code",
      "execution_count": 688,
      "metadata": {
        "colab": {
          "base_uri": "https://localhost:8080/",
          "height": 317
        },
        "id": "XHXOYSEzGqiu",
        "outputId": "3519d2e7-2604-4ed9-fb6b-aefdcd5e850d"
      },
      "outputs": [
        {
          "output_type": "stream",
          "name": "stdout",
          "text": [
            "(1279, 130)\n"
          ]
        },
        {
          "output_type": "execute_result",
          "data": {
            "text/plain": [
              "        0         1         2         3         4         5         6    \\\n",
              "0 -0.303446  0.983766  3.422420  0.726486 -2.462682  4.443269 -5.738622   \n",
              "1 -0.899772 -0.012764  2.502096  2.519140 -1.577035 -0.769271  3.478615   \n",
              "2  0.438706 -1.466346 -4.175946  2.231185  1.994829  1.515495 -3.933909   \n",
              "3 -0.901006  1.523705  0.084066  1.280448  0.559491 -0.635935  1.115205   \n",
              "4  1.995991 -1.468288 -1.570391  0.251557  0.460797  2.018924  3.932621   \n",
              "\n",
              "        7         8          9    ...       120       121       122       123  \\\n",
              "0 -1.975347  3.681233  12.694907  ... -0.549037  0.153809 -0.179582  0.076368   \n",
              "1  1.338044 -0.147000  -0.281568  ...  0.102917  0.163011  0.536513 -0.826751   \n",
              "2  3.124208  6.541959  -1.330611  ...  0.058560 -0.574130  0.047098 -0.028901   \n",
              "3 -1.207013  4.503405   2.572394  ... -0.171057  0.029320 -0.077531 -0.599213   \n",
              "4 -2.159932 -7.148360  -2.894867  ... -0.189837  0.629114 -0.088787  0.012352   \n",
              "\n",
              "        124       125       126       127       128       129  \n",
              "0  0.010871 -0.241233 -0.210859 -1.261785  0.738058 -0.488538  \n",
              "1  0.172047 -0.250567 -0.382049 -0.275590 -0.234001 -0.440172  \n",
              "2  0.352297  0.002886  0.671386 -0.522044 -8.460591  2.525541  \n",
              "3 -0.102897  0.148886  1.243426 -0.659879 -3.277138 -1.091706  \n",
              "4  0.752945 -0.023018 -1.509588 -1.704008  1.523623  0.784361  \n",
              "\n",
              "[5 rows x 130 columns]"
            ],
            "text/html": [
              "\n",
              "  <div id=\"df-ced94e4e-fac8-405f-bb89-5131ef58ce44\">\n",
              "    <div class=\"colab-df-container\">\n",
              "      <div>\n",
              "<style scoped>\n",
              "    .dataframe tbody tr th:only-of-type {\n",
              "        vertical-align: middle;\n",
              "    }\n",
              "\n",
              "    .dataframe tbody tr th {\n",
              "        vertical-align: top;\n",
              "    }\n",
              "\n",
              "    .dataframe thead th {\n",
              "        text-align: right;\n",
              "    }\n",
              "</style>\n",
              "<table border=\"1\" class=\"dataframe\">\n",
              "  <thead>\n",
              "    <tr style=\"text-align: right;\">\n",
              "      <th></th>\n",
              "      <th>0</th>\n",
              "      <th>1</th>\n",
              "      <th>2</th>\n",
              "      <th>3</th>\n",
              "      <th>4</th>\n",
              "      <th>5</th>\n",
              "      <th>6</th>\n",
              "      <th>7</th>\n",
              "      <th>8</th>\n",
              "      <th>9</th>\n",
              "      <th>...</th>\n",
              "      <th>120</th>\n",
              "      <th>121</th>\n",
              "      <th>122</th>\n",
              "      <th>123</th>\n",
              "      <th>124</th>\n",
              "      <th>125</th>\n",
              "      <th>126</th>\n",
              "      <th>127</th>\n",
              "      <th>128</th>\n",
              "      <th>129</th>\n",
              "    </tr>\n",
              "  </thead>\n",
              "  <tbody>\n",
              "    <tr>\n",
              "      <th>0</th>\n",
              "      <td>-0.303446</td>\n",
              "      <td>0.983766</td>\n",
              "      <td>3.422420</td>\n",
              "      <td>0.726486</td>\n",
              "      <td>-2.462682</td>\n",
              "      <td>4.443269</td>\n",
              "      <td>-5.738622</td>\n",
              "      <td>-1.975347</td>\n",
              "      <td>3.681233</td>\n",
              "      <td>12.694907</td>\n",
              "      <td>...</td>\n",
              "      <td>-0.549037</td>\n",
              "      <td>0.153809</td>\n",
              "      <td>-0.179582</td>\n",
              "      <td>0.076368</td>\n",
              "      <td>0.010871</td>\n",
              "      <td>-0.241233</td>\n",
              "      <td>-0.210859</td>\n",
              "      <td>-1.261785</td>\n",
              "      <td>0.738058</td>\n",
              "      <td>-0.488538</td>\n",
              "    </tr>\n",
              "    <tr>\n",
              "      <th>1</th>\n",
              "      <td>-0.899772</td>\n",
              "      <td>-0.012764</td>\n",
              "      <td>2.502096</td>\n",
              "      <td>2.519140</td>\n",
              "      <td>-1.577035</td>\n",
              "      <td>-0.769271</td>\n",
              "      <td>3.478615</td>\n",
              "      <td>1.338044</td>\n",
              "      <td>-0.147000</td>\n",
              "      <td>-0.281568</td>\n",
              "      <td>...</td>\n",
              "      <td>0.102917</td>\n",
              "      <td>0.163011</td>\n",
              "      <td>0.536513</td>\n",
              "      <td>-0.826751</td>\n",
              "      <td>0.172047</td>\n",
              "      <td>-0.250567</td>\n",
              "      <td>-0.382049</td>\n",
              "      <td>-0.275590</td>\n",
              "      <td>-0.234001</td>\n",
              "      <td>-0.440172</td>\n",
              "    </tr>\n",
              "    <tr>\n",
              "      <th>2</th>\n",
              "      <td>0.438706</td>\n",
              "      <td>-1.466346</td>\n",
              "      <td>-4.175946</td>\n",
              "      <td>2.231185</td>\n",
              "      <td>1.994829</td>\n",
              "      <td>1.515495</td>\n",
              "      <td>-3.933909</td>\n",
              "      <td>3.124208</td>\n",
              "      <td>6.541959</td>\n",
              "      <td>-1.330611</td>\n",
              "      <td>...</td>\n",
              "      <td>0.058560</td>\n",
              "      <td>-0.574130</td>\n",
              "      <td>0.047098</td>\n",
              "      <td>-0.028901</td>\n",
              "      <td>0.352297</td>\n",
              "      <td>0.002886</td>\n",
              "      <td>0.671386</td>\n",
              "      <td>-0.522044</td>\n",
              "      <td>-8.460591</td>\n",
              "      <td>2.525541</td>\n",
              "    </tr>\n",
              "    <tr>\n",
              "      <th>3</th>\n",
              "      <td>-0.901006</td>\n",
              "      <td>1.523705</td>\n",
              "      <td>0.084066</td>\n",
              "      <td>1.280448</td>\n",
              "      <td>0.559491</td>\n",
              "      <td>-0.635935</td>\n",
              "      <td>1.115205</td>\n",
              "      <td>-1.207013</td>\n",
              "      <td>4.503405</td>\n",
              "      <td>2.572394</td>\n",
              "      <td>...</td>\n",
              "      <td>-0.171057</td>\n",
              "      <td>0.029320</td>\n",
              "      <td>-0.077531</td>\n",
              "      <td>-0.599213</td>\n",
              "      <td>-0.102897</td>\n",
              "      <td>0.148886</td>\n",
              "      <td>1.243426</td>\n",
              "      <td>-0.659879</td>\n",
              "      <td>-3.277138</td>\n",
              "      <td>-1.091706</td>\n",
              "    </tr>\n",
              "    <tr>\n",
              "      <th>4</th>\n",
              "      <td>1.995991</td>\n",
              "      <td>-1.468288</td>\n",
              "      <td>-1.570391</td>\n",
              "      <td>0.251557</td>\n",
              "      <td>0.460797</td>\n",
              "      <td>2.018924</td>\n",
              "      <td>3.932621</td>\n",
              "      <td>-2.159932</td>\n",
              "      <td>-7.148360</td>\n",
              "      <td>-2.894867</td>\n",
              "      <td>...</td>\n",
              "      <td>-0.189837</td>\n",
              "      <td>0.629114</td>\n",
              "      <td>-0.088787</td>\n",
              "      <td>0.012352</td>\n",
              "      <td>0.752945</td>\n",
              "      <td>-0.023018</td>\n",
              "      <td>-1.509588</td>\n",
              "      <td>-1.704008</td>\n",
              "      <td>1.523623</td>\n",
              "      <td>0.784361</td>\n",
              "    </tr>\n",
              "  </tbody>\n",
              "</table>\n",
              "<p>5 rows × 130 columns</p>\n",
              "</div>\n",
              "      <button class=\"colab-df-convert\" onclick=\"convertToInteractive('df-ced94e4e-fac8-405f-bb89-5131ef58ce44')\"\n",
              "              title=\"Convert this dataframe to an interactive table.\"\n",
              "              style=\"display:none;\">\n",
              "        \n",
              "  <svg xmlns=\"http://www.w3.org/2000/svg\" height=\"24px\"viewBox=\"0 0 24 24\"\n",
              "       width=\"24px\">\n",
              "    <path d=\"M0 0h24v24H0V0z\" fill=\"none\"/>\n",
              "    <path d=\"M18.56 5.44l.94 2.06.94-2.06 2.06-.94-2.06-.94-.94-2.06-.94 2.06-2.06.94zm-11 1L8.5 8.5l.94-2.06 2.06-.94-2.06-.94L8.5 2.5l-.94 2.06-2.06.94zm10 10l.94 2.06.94-2.06 2.06-.94-2.06-.94-.94-2.06-.94 2.06-2.06.94z\"/><path d=\"M17.41 7.96l-1.37-1.37c-.4-.4-.92-.59-1.43-.59-.52 0-1.04.2-1.43.59L10.3 9.45l-7.72 7.72c-.78.78-.78 2.05 0 2.83L4 21.41c.39.39.9.59 1.41.59.51 0 1.02-.2 1.41-.59l7.78-7.78 2.81-2.81c.8-.78.8-2.07 0-2.86zM5.41 20L4 18.59l7.72-7.72 1.47 1.35L5.41 20z\"/>\n",
              "  </svg>\n",
              "      </button>\n",
              "      \n",
              "  <style>\n",
              "    .colab-df-container {\n",
              "      display:flex;\n",
              "      flex-wrap:wrap;\n",
              "      gap: 12px;\n",
              "    }\n",
              "\n",
              "    .colab-df-convert {\n",
              "      background-color: #E8F0FE;\n",
              "      border: none;\n",
              "      border-radius: 50%;\n",
              "      cursor: pointer;\n",
              "      display: none;\n",
              "      fill: #1967D2;\n",
              "      height: 32px;\n",
              "      padding: 0 0 0 0;\n",
              "      width: 32px;\n",
              "    }\n",
              "\n",
              "    .colab-df-convert:hover {\n",
              "      background-color: #E2EBFA;\n",
              "      box-shadow: 0px 1px 2px rgba(60, 64, 67, 0.3), 0px 1px 3px 1px rgba(60, 64, 67, 0.15);\n",
              "      fill: #174EA6;\n",
              "    }\n",
              "\n",
              "    [theme=dark] .colab-df-convert {\n",
              "      background-color: #3B4455;\n",
              "      fill: #D2E3FC;\n",
              "    }\n",
              "\n",
              "    [theme=dark] .colab-df-convert:hover {\n",
              "      background-color: #434B5C;\n",
              "      box-shadow: 0px 1px 3px 1px rgba(0, 0, 0, 0.15);\n",
              "      filter: drop-shadow(0px 1px 2px rgba(0, 0, 0, 0.3));\n",
              "      fill: #FFFFFF;\n",
              "    }\n",
              "  </style>\n",
              "\n",
              "      <script>\n",
              "        const buttonEl =\n",
              "          document.querySelector('#df-ced94e4e-fac8-405f-bb89-5131ef58ce44 button.colab-df-convert');\n",
              "        buttonEl.style.display =\n",
              "          google.colab.kernel.accessAllowed ? 'block' : 'none';\n",
              "\n",
              "        async function convertToInteractive(key) {\n",
              "          const element = document.querySelector('#df-ced94e4e-fac8-405f-bb89-5131ef58ce44');\n",
              "          const dataTable =\n",
              "            await google.colab.kernel.invokeFunction('convertToInteractive',\n",
              "                                                     [key], {});\n",
              "          if (!dataTable) return;\n",
              "\n",
              "          const docLinkHtml = 'Like what you see? Visit the ' +\n",
              "            '<a target=\"_blank\" href=https://colab.research.google.com/notebooks/data_table.ipynb>data table notebook</a>'\n",
              "            + ' to learn more about interactive tables.';\n",
              "          element.innerHTML = '';\n",
              "          dataTable['output_type'] = 'display_data';\n",
              "          await google.colab.output.renderOutput(dataTable, element);\n",
              "          const docLink = document.createElement('div');\n",
              "          docLink.innerHTML = docLinkHtml;\n",
              "          element.appendChild(docLink);\n",
              "        }\n",
              "      </script>\n",
              "    </div>\n",
              "  </div>\n",
              "  "
            ]
          },
          "metadata": {},
          "execution_count": 688
        }
      ],
      "source": [
        "print(preprocessed_train_mean.shape)\n",
        "preprocessed_train_mean.head()"
      ]
    },
    {
      "cell_type": "markdown",
      "metadata": {
        "id": "o6ptUCzlGvQV"
      },
      "source": [
        "# Modeling"
      ]
    },
    {
      "cell_type": "markdown",
      "metadata": {
        "id": "Uw1392N3GxfA"
      },
      "source": [
        "## LOF"
      ]
    },
    {
      "cell_type": "markdown",
      "metadata": {
        "id": "7GBOoBLsG2Me"
      },
      "source": [
        "### 모델 생성"
      ]
    },
    {
      "cell_type": "code",
      "execution_count": 689,
      "metadata": {
        "id": "almGLPvcG0J0"
      },
      "outputs": [],
      "source": [
        "model = LocalOutlierFactor(n_neighbors=1,\n",
        "                           algorithm='auto',\n",
        "                           contamination='auto',\n",
        "                           novelty=True)"
      ]
    },
    {
      "cell_type": "markdown",
      "metadata": {
        "id": "6cPFuXaPG4Pb"
      },
      "source": [
        "### 모델 학습"
      ]
    },
    {
      "cell_type": "code",
      "execution_count": 690,
      "metadata": {
        "colab": {
          "base_uri": "https://localhost:8080/"
        },
        "id": "QOGisX9qG5kA",
        "outputId": "5e0ec67e-4d2f-4eee-de2d-8474601e989f"
      },
      "outputs": [
        {
          "output_type": "execute_result",
          "data": {
            "text/plain": [
              "LocalOutlierFactor(n_neighbors=1, novelty=True)"
            ]
          },
          "metadata": {},
          "execution_count": 690
        }
      ],
      "source": [
        "model.fit(preprocessed_train_mean)"
      ]
    },
    {
      "cell_type": "markdown",
      "metadata": {
        "id": "d-x6aqpwG698"
      },
      "source": [
        "### 추론"
      ]
    },
    {
      "cell_type": "code",
      "execution_count": 691,
      "metadata": {
        "id": "8sXhXp3GG9xc"
      },
      "outputs": [],
      "source": [
        "def get_pred_label(model_pred):\n",
        "    # IsolationForest 모델 출력 (1:정상, -1:불량) 이므로 (0:정상, 1:불량)로 Label 변환\n",
        "    model_pred = np.where(model_pred == 1, 0, model_pred)\n",
        "    model_pred = np.where(model_pred == -1, 1, model_pred)\n",
        "    return model_pred"
      ]
    },
    {
      "cell_type": "code",
      "execution_count": 692,
      "metadata": {
        "id": "iVOMZXRVG-Hv"
      },
      "outputs": [],
      "source": [
        "test_pred = model.predict(preprocessed_test_mean) \n",
        "test_pred = get_pred_label(test_pred)"
      ]
    },
    {
      "cell_type": "markdown",
      "metadata": {
        "id": "TP7R1dkwHWgQ"
      },
      "source": [
        "# Submission"
      ]
    },
    {
      "cell_type": "code",
      "execution_count": 693,
      "metadata": {
        "id": "5LMTllVjHR8Q"
      },
      "outputs": [],
      "source": [
        "submit = pd.read_csv('./sample_submission.csv')"
      ]
    },
    {
      "cell_type": "code",
      "execution_count": 694,
      "metadata": {
        "colab": {
          "base_uri": "https://localhost:8080/",
          "height": 206
        },
        "id": "fOAQn-y2HY83",
        "outputId": "6a6983a3-1b2c-40ad-b1ba-5dafd21bc36c"
      },
      "outputs": [
        {
          "output_type": "execute_result",
          "data": {
            "text/plain": [
              "   SAMPLE_ID  LABEL\n",
              "0  TEST_0000      0\n",
              "1  TEST_0001      0\n",
              "2  TEST_0002      1\n",
              "3  TEST_0003      1\n",
              "4  TEST_0004      1"
            ],
            "text/html": [
              "\n",
              "  <div id=\"df-84767e8c-6fa8-4432-8d18-3d9000302b3c\">\n",
              "    <div class=\"colab-df-container\">\n",
              "      <div>\n",
              "<style scoped>\n",
              "    .dataframe tbody tr th:only-of-type {\n",
              "        vertical-align: middle;\n",
              "    }\n",
              "\n",
              "    .dataframe tbody tr th {\n",
              "        vertical-align: top;\n",
              "    }\n",
              "\n",
              "    .dataframe thead th {\n",
              "        text-align: right;\n",
              "    }\n",
              "</style>\n",
              "<table border=\"1\" class=\"dataframe\">\n",
              "  <thead>\n",
              "    <tr style=\"text-align: right;\">\n",
              "      <th></th>\n",
              "      <th>SAMPLE_ID</th>\n",
              "      <th>LABEL</th>\n",
              "    </tr>\n",
              "  </thead>\n",
              "  <tbody>\n",
              "    <tr>\n",
              "      <th>0</th>\n",
              "      <td>TEST_0000</td>\n",
              "      <td>0</td>\n",
              "    </tr>\n",
              "    <tr>\n",
              "      <th>1</th>\n",
              "      <td>TEST_0001</td>\n",
              "      <td>0</td>\n",
              "    </tr>\n",
              "    <tr>\n",
              "      <th>2</th>\n",
              "      <td>TEST_0002</td>\n",
              "      <td>1</td>\n",
              "    </tr>\n",
              "    <tr>\n",
              "      <th>3</th>\n",
              "      <td>TEST_0003</td>\n",
              "      <td>1</td>\n",
              "    </tr>\n",
              "    <tr>\n",
              "      <th>4</th>\n",
              "      <td>TEST_0004</td>\n",
              "      <td>1</td>\n",
              "    </tr>\n",
              "  </tbody>\n",
              "</table>\n",
              "</div>\n",
              "      <button class=\"colab-df-convert\" onclick=\"convertToInteractive('df-84767e8c-6fa8-4432-8d18-3d9000302b3c')\"\n",
              "              title=\"Convert this dataframe to an interactive table.\"\n",
              "              style=\"display:none;\">\n",
              "        \n",
              "  <svg xmlns=\"http://www.w3.org/2000/svg\" height=\"24px\"viewBox=\"0 0 24 24\"\n",
              "       width=\"24px\">\n",
              "    <path d=\"M0 0h24v24H0V0z\" fill=\"none\"/>\n",
              "    <path d=\"M18.56 5.44l.94 2.06.94-2.06 2.06-.94-2.06-.94-.94-2.06-.94 2.06-2.06.94zm-11 1L8.5 8.5l.94-2.06 2.06-.94-2.06-.94L8.5 2.5l-.94 2.06-2.06.94zm10 10l.94 2.06.94-2.06 2.06-.94-2.06-.94-.94-2.06-.94 2.06-2.06.94z\"/><path d=\"M17.41 7.96l-1.37-1.37c-.4-.4-.92-.59-1.43-.59-.52 0-1.04.2-1.43.59L10.3 9.45l-7.72 7.72c-.78.78-.78 2.05 0 2.83L4 21.41c.39.39.9.59 1.41.59.51 0 1.02-.2 1.41-.59l7.78-7.78 2.81-2.81c.8-.78.8-2.07 0-2.86zM5.41 20L4 18.59l7.72-7.72 1.47 1.35L5.41 20z\"/>\n",
              "  </svg>\n",
              "      </button>\n",
              "      \n",
              "  <style>\n",
              "    .colab-df-container {\n",
              "      display:flex;\n",
              "      flex-wrap:wrap;\n",
              "      gap: 12px;\n",
              "    }\n",
              "\n",
              "    .colab-df-convert {\n",
              "      background-color: #E8F0FE;\n",
              "      border: none;\n",
              "      border-radius: 50%;\n",
              "      cursor: pointer;\n",
              "      display: none;\n",
              "      fill: #1967D2;\n",
              "      height: 32px;\n",
              "      padding: 0 0 0 0;\n",
              "      width: 32px;\n",
              "    }\n",
              "\n",
              "    .colab-df-convert:hover {\n",
              "      background-color: #E2EBFA;\n",
              "      box-shadow: 0px 1px 2px rgba(60, 64, 67, 0.3), 0px 1px 3px 1px rgba(60, 64, 67, 0.15);\n",
              "      fill: #174EA6;\n",
              "    }\n",
              "\n",
              "    [theme=dark] .colab-df-convert {\n",
              "      background-color: #3B4455;\n",
              "      fill: #D2E3FC;\n",
              "    }\n",
              "\n",
              "    [theme=dark] .colab-df-convert:hover {\n",
              "      background-color: #434B5C;\n",
              "      box-shadow: 0px 1px 3px 1px rgba(0, 0, 0, 0.15);\n",
              "      filter: drop-shadow(0px 1px 2px rgba(0, 0, 0, 0.3));\n",
              "      fill: #FFFFFF;\n",
              "    }\n",
              "  </style>\n",
              "\n",
              "      <script>\n",
              "        const buttonEl =\n",
              "          document.querySelector('#df-84767e8c-6fa8-4432-8d18-3d9000302b3c button.colab-df-convert');\n",
              "        buttonEl.style.display =\n",
              "          google.colab.kernel.accessAllowed ? 'block' : 'none';\n",
              "\n",
              "        async function convertToInteractive(key) {\n",
              "          const element = document.querySelector('#df-84767e8c-6fa8-4432-8d18-3d9000302b3c');\n",
              "          const dataTable =\n",
              "            await google.colab.kernel.invokeFunction('convertToInteractive',\n",
              "                                                     [key], {});\n",
              "          if (!dataTable) return;\n",
              "\n",
              "          const docLinkHtml = 'Like what you see? Visit the ' +\n",
              "            '<a target=\"_blank\" href=https://colab.research.google.com/notebooks/data_table.ipynb>data table notebook</a>'\n",
              "            + ' to learn more about interactive tables.';\n",
              "          element.innerHTML = '';\n",
              "          dataTable['output_type'] = 'display_data';\n",
              "          await google.colab.output.renderOutput(dataTable, element);\n",
              "          const docLink = document.createElement('div');\n",
              "          docLink.innerHTML = docLinkHtml;\n",
              "          element.appendChild(docLink);\n",
              "        }\n",
              "      </script>\n",
              "    </div>\n",
              "  </div>\n",
              "  "
            ]
          },
          "metadata": {},
          "execution_count": 694
        }
      ],
      "source": [
        "submit['LABEL'] = test_pred\n",
        "submit.head()"
      ]
    },
    {
      "cell_type": "code",
      "execution_count": 695,
      "metadata": {
        "colab": {
          "base_uri": "https://localhost:8080/"
        },
        "id": "tAeE1D1cHaBK",
        "outputId": "a850c720-15f2-4b2e-ebd9-58e6c51a8d1b"
      },
      "outputs": [
        {
          "output_type": "execute_result",
          "data": {
            "text/plain": [
              "1    817\n",
              "0    697\n",
              "Name: LABEL, dtype: int64"
            ]
          },
          "metadata": {},
          "execution_count": 695
        }
      ],
      "source": [
        "submit['LABEL'].value_counts()"
      ]
    },
    {
      "cell_type": "code",
      "execution_count": 355,
      "metadata": {
        "id": "G5emAUXsHbW1"
      },
      "outputs": [],
      "source": [
        "submit.to_csv('./submit110.csv', index=False)"
      ]
    },
    {
      "cell_type": "code",
      "execution_count": null,
      "metadata": {
        "id": "OqHcueSRyOl2"
      },
      "outputs": [],
      "source": []
    }
  ],
  "metadata": {
    "colab": {
      "collapsed_sections": [
        "GE3zFrGj433-",
        "cDOCeCTv69Dq",
        "HurrnpP45FWl",
        "2gF-LWUr5g_Z",
        "RIhsvAE37bMI",
        "kuyZeuSW7qD1",
        "cumM3RXKApPu",
        "vQDMBfpOAx6z",
        "jAg_yfv8CRc4",
        "HNzI4ijzCuXc",
        "-CxGS19iCwMo",
        "hzDnjpjKFWQd",
        "xfMAiI8_GyZJ"
      ],
      "provenance": []
    },
    "kernelspec": {
      "display_name": "Python 3",
      "name": "python3"
    },
    "language_info": {
      "name": "python"
    },
    "widgets": {
      "application/vnd.jupyter.widget-state+json": {
        "017abb94879b47568a0227f227a38dd1": {
          "model_module": "@jupyter-widgets/controls",
          "model_module_version": "1.5.0",
          "model_name": "HTMLModel",
          "state": {
            "_dom_classes": [],
            "_model_module": "@jupyter-widgets/controls",
            "_model_module_version": "1.5.0",
            "_model_name": "HTMLModel",
            "_view_count": null,
            "_view_module": "@jupyter-widgets/controls",
            "_view_module_version": "1.5.0",
            "_view_name": "HTMLView",
            "description": "",
            "description_tooltip": null,
            "layout": "IPY_MODEL_179ebf636ffe466fb73f463d8538c700",
            "placeholder": "​",
            "style": "IPY_MODEL_f78bff42d21f426bbbf0cb304c611061",
            "value": "100%"
          }
        },
        "179ebf636ffe466fb73f463d8538c700": {
          "model_module": "@jupyter-widgets/base",
          "model_module_version": "1.2.0",
          "model_name": "LayoutModel",
          "state": {
            "_model_module": "@jupyter-widgets/base",
            "_model_module_version": "1.2.0",
            "_model_name": "LayoutModel",
            "_view_count": null,
            "_view_module": "@jupyter-widgets/base",
            "_view_module_version": "1.2.0",
            "_view_name": "LayoutView",
            "align_content": null,
            "align_items": null,
            "align_self": null,
            "border": null,
            "bottom": null,
            "display": null,
            "flex": null,
            "flex_flow": null,
            "grid_area": null,
            "grid_auto_columns": null,
            "grid_auto_flow": null,
            "grid_auto_rows": null,
            "grid_column": null,
            "grid_gap": null,
            "grid_row": null,
            "grid_template_areas": null,
            "grid_template_columns": null,
            "grid_template_rows": null,
            "height": null,
            "justify_content": null,
            "justify_items": null,
            "left": null,
            "margin": null,
            "max_height": null,
            "max_width": null,
            "min_height": null,
            "min_width": null,
            "object_fit": null,
            "object_position": null,
            "order": null,
            "overflow": null,
            "overflow_x": null,
            "overflow_y": null,
            "padding": null,
            "right": null,
            "top": null,
            "visibility": null,
            "width": null
          }
        },
        "320f68af672543318e1f7365878dc1a5": {
          "model_module": "@jupyter-widgets/controls",
          "model_module_version": "1.5.0",
          "model_name": "ProgressStyleModel",
          "state": {
            "_model_module": "@jupyter-widgets/controls",
            "_model_module_version": "1.5.0",
            "_model_name": "ProgressStyleModel",
            "_view_count": null,
            "_view_module": "@jupyter-widgets/base",
            "_view_module_version": "1.2.0",
            "_view_name": "StyleView",
            "bar_color": null,
            "description_width": ""
          }
        },
        "3254ee9fe7e94d12808f15cf07b21118": {
          "model_module": "@jupyter-widgets/base",
          "model_module_version": "1.2.0",
          "model_name": "LayoutModel",
          "state": {
            "_model_module": "@jupyter-widgets/base",
            "_model_module_version": "1.2.0",
            "_model_name": "LayoutModel",
            "_view_count": null,
            "_view_module": "@jupyter-widgets/base",
            "_view_module_version": "1.2.0",
            "_view_name": "LayoutView",
            "align_content": null,
            "align_items": null,
            "align_self": null,
            "border": null,
            "bottom": null,
            "display": null,
            "flex": null,
            "flex_flow": null,
            "grid_area": null,
            "grid_auto_columns": null,
            "grid_auto_flow": null,
            "grid_auto_rows": null,
            "grid_column": null,
            "grid_gap": null,
            "grid_row": null,
            "grid_template_areas": null,
            "grid_template_columns": null,
            "grid_template_rows": null,
            "height": null,
            "justify_content": null,
            "justify_items": null,
            "left": null,
            "margin": null,
            "max_height": null,
            "max_width": null,
            "min_height": null,
            "min_width": null,
            "object_fit": null,
            "object_position": null,
            "order": null,
            "overflow": null,
            "overflow_x": null,
            "overflow_y": null,
            "padding": null,
            "right": null,
            "top": null,
            "visibility": null,
            "width": null
          }
        },
        "493d1a943b634e16b89c8775fee25d6d": {
          "model_module": "@jupyter-widgets/base",
          "model_module_version": "1.2.0",
          "model_name": "LayoutModel",
          "state": {
            "_model_module": "@jupyter-widgets/base",
            "_model_module_version": "1.2.0",
            "_model_name": "LayoutModel",
            "_view_count": null,
            "_view_module": "@jupyter-widgets/base",
            "_view_module_version": "1.2.0",
            "_view_name": "LayoutView",
            "align_content": null,
            "align_items": null,
            "align_self": null,
            "border": null,
            "bottom": null,
            "display": null,
            "flex": null,
            "flex_flow": null,
            "grid_area": null,
            "grid_auto_columns": null,
            "grid_auto_flow": null,
            "grid_auto_rows": null,
            "grid_column": null,
            "grid_gap": null,
            "grid_row": null,
            "grid_template_areas": null,
            "grid_template_columns": null,
            "grid_template_rows": null,
            "height": null,
            "justify_content": null,
            "justify_items": null,
            "left": null,
            "margin": null,
            "max_height": null,
            "max_width": null,
            "min_height": null,
            "min_width": null,
            "object_fit": null,
            "object_position": null,
            "order": null,
            "overflow": null,
            "overflow_x": null,
            "overflow_y": null,
            "padding": null,
            "right": null,
            "top": null,
            "visibility": null,
            "width": null
          }
        },
        "49f47f817bae46c9a556dbb93b85275b": {
          "model_module": "@jupyter-widgets/controls",
          "model_module_version": "1.5.0",
          "model_name": "HTMLModel",
          "state": {
            "_dom_classes": [],
            "_model_module": "@jupyter-widgets/controls",
            "_model_module_version": "1.5.0",
            "_model_name": "HTMLModel",
            "_view_count": null,
            "_view_module": "@jupyter-widgets/controls",
            "_view_module_version": "1.5.0",
            "_view_name": "HTMLView",
            "description": "",
            "description_tooltip": null,
            "layout": "IPY_MODEL_fae9f12e80fd48b08bca579869cfcc83",
            "placeholder": "​",
            "style": "IPY_MODEL_4fd1b892a23f4ae382d8109017c3bfbb",
            "value": "  4%"
          }
        },
        "4fd1b892a23f4ae382d8109017c3bfbb": {
          "model_module": "@jupyter-widgets/controls",
          "model_module_version": "1.5.0",
          "model_name": "DescriptionStyleModel",
          "state": {
            "_model_module": "@jupyter-widgets/controls",
            "_model_module_version": "1.5.0",
            "_model_name": "DescriptionStyleModel",
            "_view_count": null,
            "_view_module": "@jupyter-widgets/base",
            "_view_module_version": "1.2.0",
            "_view_name": "StyleView",
            "description_width": ""
          }
        },
        "63b6668f07b54eec9af9c5f7bb2082d2": {
          "model_module": "@jupyter-widgets/controls",
          "model_module_version": "1.5.0",
          "model_name": "HTMLModel",
          "state": {
            "_dom_classes": [],
            "_model_module": "@jupyter-widgets/controls",
            "_model_module_version": "1.5.0",
            "_model_name": "HTMLModel",
            "_view_count": null,
            "_view_module": "@jupyter-widgets/controls",
            "_view_module_version": "1.5.0",
            "_view_name": "HTMLView",
            "description": "",
            "description_tooltip": null,
            "layout": "IPY_MODEL_b826d2412a0b4b56a7f0b1b57f3b3d17",
            "placeholder": "​",
            "style": "IPY_MODEL_ad2c6e3e240e4d2e889ad1d451f64762",
            "value": " 53/1514 [00:07&lt;01:51, 13.08it/s]"
          }
        },
        "67674107e6ee417698364e02081dfae1": {
          "model_module": "@jupyter-widgets/base",
          "model_module_version": "1.2.0",
          "model_name": "LayoutModel",
          "state": {
            "_model_module": "@jupyter-widgets/base",
            "_model_module_version": "1.2.0",
            "_model_name": "LayoutModel",
            "_view_count": null,
            "_view_module": "@jupyter-widgets/base",
            "_view_module_version": "1.2.0",
            "_view_name": "LayoutView",
            "align_content": null,
            "align_items": null,
            "align_self": null,
            "border": null,
            "bottom": null,
            "display": null,
            "flex": null,
            "flex_flow": null,
            "grid_area": null,
            "grid_auto_columns": null,
            "grid_auto_flow": null,
            "grid_auto_rows": null,
            "grid_column": null,
            "grid_gap": null,
            "grid_row": null,
            "grid_template_areas": null,
            "grid_template_columns": null,
            "grid_template_rows": null,
            "height": null,
            "justify_content": null,
            "justify_items": null,
            "left": null,
            "margin": null,
            "max_height": null,
            "max_width": null,
            "min_height": null,
            "min_width": null,
            "object_fit": null,
            "object_position": null,
            "order": null,
            "overflow": null,
            "overflow_x": null,
            "overflow_y": null,
            "padding": null,
            "right": null,
            "top": null,
            "visibility": null,
            "width": null
          }
        },
        "687e8432071a4321b9d9db836063313f": {
          "model_module": "@jupyter-widgets/controls",
          "model_module_version": "1.5.0",
          "model_name": "FloatProgressModel",
          "state": {
            "_dom_classes": [],
            "_model_module": "@jupyter-widgets/controls",
            "_model_module_version": "1.5.0",
            "_model_name": "FloatProgressModel",
            "_view_count": null,
            "_view_module": "@jupyter-widgets/controls",
            "_view_module_version": "1.5.0",
            "_view_name": "ProgressView",
            "bar_style": "",
            "description": "",
            "description_tooltip": null,
            "layout": "IPY_MODEL_7aa901fa25f647c69227d9ddf470d7d3",
            "max": 1514,
            "min": 0,
            "orientation": "horizontal",
            "style": "IPY_MODEL_b5000fe9b11d431d89c238ed8c7f893f",
            "value": 53
          }
        },
        "6c8d96a61b7e44238aa535cf0e3bb85c": {
          "model_module": "@jupyter-widgets/controls",
          "model_module_version": "1.5.0",
          "model_name": "HBoxModel",
          "state": {
            "_dom_classes": [],
            "_model_module": "@jupyter-widgets/controls",
            "_model_module_version": "1.5.0",
            "_model_name": "HBoxModel",
            "_view_count": null,
            "_view_module": "@jupyter-widgets/controls",
            "_view_module_version": "1.5.0",
            "_view_name": "HBoxView",
            "box_style": "",
            "children": [
              "IPY_MODEL_017abb94879b47568a0227f227a38dd1",
              "IPY_MODEL_c50c6c1cbc4d4acc964de1e3b07d066b",
              "IPY_MODEL_fc9b88f9cce74b1da1b89faac39af6e1"
            ],
            "layout": "IPY_MODEL_e5b1801c7dc84e70a6f4f30f2255c168"
          }
        },
        "7aa901fa25f647c69227d9ddf470d7d3": {
          "model_module": "@jupyter-widgets/base",
          "model_module_version": "1.2.0",
          "model_name": "LayoutModel",
          "state": {
            "_model_module": "@jupyter-widgets/base",
            "_model_module_version": "1.2.0",
            "_model_name": "LayoutModel",
            "_view_count": null,
            "_view_module": "@jupyter-widgets/base",
            "_view_module_version": "1.2.0",
            "_view_name": "LayoutView",
            "align_content": null,
            "align_items": null,
            "align_self": null,
            "border": null,
            "bottom": null,
            "display": null,
            "flex": null,
            "flex_flow": null,
            "grid_area": null,
            "grid_auto_columns": null,
            "grid_auto_flow": null,
            "grid_auto_rows": null,
            "grid_column": null,
            "grid_gap": null,
            "grid_row": null,
            "grid_template_areas": null,
            "grid_template_columns": null,
            "grid_template_rows": null,
            "height": null,
            "justify_content": null,
            "justify_items": null,
            "left": null,
            "margin": null,
            "max_height": null,
            "max_width": null,
            "min_height": null,
            "min_width": null,
            "object_fit": null,
            "object_position": null,
            "order": null,
            "overflow": null,
            "overflow_x": null,
            "overflow_y": null,
            "padding": null,
            "right": null,
            "top": null,
            "visibility": null,
            "width": null
          }
        },
        "8c0712da565340d1947cf1ecec9007d4": {
          "model_module": "@jupyter-widgets/controls",
          "model_module_version": "1.5.0",
          "model_name": "HBoxModel",
          "state": {
            "_dom_classes": [],
            "_model_module": "@jupyter-widgets/controls",
            "_model_module_version": "1.5.0",
            "_model_name": "HBoxModel",
            "_view_count": null,
            "_view_module": "@jupyter-widgets/controls",
            "_view_module_version": "1.5.0",
            "_view_name": "HBoxView",
            "box_style": "",
            "children": [
              "IPY_MODEL_49f47f817bae46c9a556dbb93b85275b",
              "IPY_MODEL_687e8432071a4321b9d9db836063313f",
              "IPY_MODEL_63b6668f07b54eec9af9c5f7bb2082d2"
            ],
            "layout": "IPY_MODEL_493d1a943b634e16b89c8775fee25d6d"
          }
        },
        "ad2c6e3e240e4d2e889ad1d451f64762": {
          "model_module": "@jupyter-widgets/controls",
          "model_module_version": "1.5.0",
          "model_name": "DescriptionStyleModel",
          "state": {
            "_model_module": "@jupyter-widgets/controls",
            "_model_module_version": "1.5.0",
            "_model_name": "DescriptionStyleModel",
            "_view_count": null,
            "_view_module": "@jupyter-widgets/base",
            "_view_module_version": "1.2.0",
            "_view_name": "StyleView",
            "description_width": ""
          }
        },
        "b5000fe9b11d431d89c238ed8c7f893f": {
          "model_module": "@jupyter-widgets/controls",
          "model_module_version": "1.5.0",
          "model_name": "ProgressStyleModel",
          "state": {
            "_model_module": "@jupyter-widgets/controls",
            "_model_module_version": "1.5.0",
            "_model_name": "ProgressStyleModel",
            "_view_count": null,
            "_view_module": "@jupyter-widgets/base",
            "_view_module_version": "1.2.0",
            "_view_name": "StyleView",
            "bar_color": null,
            "description_width": ""
          }
        },
        "b826d2412a0b4b56a7f0b1b57f3b3d17": {
          "model_module": "@jupyter-widgets/base",
          "model_module_version": "1.2.0",
          "model_name": "LayoutModel",
          "state": {
            "_model_module": "@jupyter-widgets/base",
            "_model_module_version": "1.2.0",
            "_model_name": "LayoutModel",
            "_view_count": null,
            "_view_module": "@jupyter-widgets/base",
            "_view_module_version": "1.2.0",
            "_view_name": "LayoutView",
            "align_content": null,
            "align_items": null,
            "align_self": null,
            "border": null,
            "bottom": null,
            "display": null,
            "flex": null,
            "flex_flow": null,
            "grid_area": null,
            "grid_auto_columns": null,
            "grid_auto_flow": null,
            "grid_auto_rows": null,
            "grid_column": null,
            "grid_gap": null,
            "grid_row": null,
            "grid_template_areas": null,
            "grid_template_columns": null,
            "grid_template_rows": null,
            "height": null,
            "justify_content": null,
            "justify_items": null,
            "left": null,
            "margin": null,
            "max_height": null,
            "max_width": null,
            "min_height": null,
            "min_width": null,
            "object_fit": null,
            "object_position": null,
            "order": null,
            "overflow": null,
            "overflow_x": null,
            "overflow_y": null,
            "padding": null,
            "right": null,
            "top": null,
            "visibility": null,
            "width": null
          }
        },
        "c50c6c1cbc4d4acc964de1e3b07d066b": {
          "model_module": "@jupyter-widgets/controls",
          "model_module_version": "1.5.0",
          "model_name": "FloatProgressModel",
          "state": {
            "_dom_classes": [],
            "_model_module": "@jupyter-widgets/controls",
            "_model_module_version": "1.5.0",
            "_model_name": "FloatProgressModel",
            "_view_count": null,
            "_view_module": "@jupyter-widgets/controls",
            "_view_module_version": "1.5.0",
            "_view_name": "ProgressView",
            "bar_style": "success",
            "description": "",
            "description_tooltip": null,
            "layout": "IPY_MODEL_67674107e6ee417698364e02081dfae1",
            "max": 1279,
            "min": 0,
            "orientation": "horizontal",
            "style": "IPY_MODEL_320f68af672543318e1f7365878dc1a5",
            "value": 1279
          }
        },
        "e23582c02df843a7b3e198049c41c110": {
          "model_module": "@jupyter-widgets/controls",
          "model_module_version": "1.5.0",
          "model_name": "DescriptionStyleModel",
          "state": {
            "_model_module": "@jupyter-widgets/controls",
            "_model_module_version": "1.5.0",
            "_model_name": "DescriptionStyleModel",
            "_view_count": null,
            "_view_module": "@jupyter-widgets/base",
            "_view_module_version": "1.2.0",
            "_view_name": "StyleView",
            "description_width": ""
          }
        },
        "e5b1801c7dc84e70a6f4f30f2255c168": {
          "model_module": "@jupyter-widgets/base",
          "model_module_version": "1.2.0",
          "model_name": "LayoutModel",
          "state": {
            "_model_module": "@jupyter-widgets/base",
            "_model_module_version": "1.2.0",
            "_model_name": "LayoutModel",
            "_view_count": null,
            "_view_module": "@jupyter-widgets/base",
            "_view_module_version": "1.2.0",
            "_view_name": "LayoutView",
            "align_content": null,
            "align_items": null,
            "align_self": null,
            "border": null,
            "bottom": null,
            "display": null,
            "flex": null,
            "flex_flow": null,
            "grid_area": null,
            "grid_auto_columns": null,
            "grid_auto_flow": null,
            "grid_auto_rows": null,
            "grid_column": null,
            "grid_gap": null,
            "grid_row": null,
            "grid_template_areas": null,
            "grid_template_columns": null,
            "grid_template_rows": null,
            "height": null,
            "justify_content": null,
            "justify_items": null,
            "left": null,
            "margin": null,
            "max_height": null,
            "max_width": null,
            "min_height": null,
            "min_width": null,
            "object_fit": null,
            "object_position": null,
            "order": null,
            "overflow": null,
            "overflow_x": null,
            "overflow_y": null,
            "padding": null,
            "right": null,
            "top": null,
            "visibility": null,
            "width": null
          }
        },
        "f78bff42d21f426bbbf0cb304c611061": {
          "model_module": "@jupyter-widgets/controls",
          "model_module_version": "1.5.0",
          "model_name": "DescriptionStyleModel",
          "state": {
            "_model_module": "@jupyter-widgets/controls",
            "_model_module_version": "1.5.0",
            "_model_name": "DescriptionStyleModel",
            "_view_count": null,
            "_view_module": "@jupyter-widgets/base",
            "_view_module_version": "1.2.0",
            "_view_name": "StyleView",
            "description_width": ""
          }
        },
        "fae9f12e80fd48b08bca579869cfcc83": {
          "model_module": "@jupyter-widgets/base",
          "model_module_version": "1.2.0",
          "model_name": "LayoutModel",
          "state": {
            "_model_module": "@jupyter-widgets/base",
            "_model_module_version": "1.2.0",
            "_model_name": "LayoutModel",
            "_view_count": null,
            "_view_module": "@jupyter-widgets/base",
            "_view_module_version": "1.2.0",
            "_view_name": "LayoutView",
            "align_content": null,
            "align_items": null,
            "align_self": null,
            "border": null,
            "bottom": null,
            "display": null,
            "flex": null,
            "flex_flow": null,
            "grid_area": null,
            "grid_auto_columns": null,
            "grid_auto_flow": null,
            "grid_auto_rows": null,
            "grid_column": null,
            "grid_gap": null,
            "grid_row": null,
            "grid_template_areas": null,
            "grid_template_columns": null,
            "grid_template_rows": null,
            "height": null,
            "justify_content": null,
            "justify_items": null,
            "left": null,
            "margin": null,
            "max_height": null,
            "max_width": null,
            "min_height": null,
            "min_width": null,
            "object_fit": null,
            "object_position": null,
            "order": null,
            "overflow": null,
            "overflow_x": null,
            "overflow_y": null,
            "padding": null,
            "right": null,
            "top": null,
            "visibility": null,
            "width": null
          }
        },
        "fc9b88f9cce74b1da1b89faac39af6e1": {
          "model_module": "@jupyter-widgets/controls",
          "model_module_version": "1.5.0",
          "model_name": "HTMLModel",
          "state": {
            "_dom_classes": [],
            "_model_module": "@jupyter-widgets/controls",
            "_model_module_version": "1.5.0",
            "_model_name": "HTMLModel",
            "_view_count": null,
            "_view_module": "@jupyter-widgets/controls",
            "_view_module_version": "1.5.0",
            "_view_name": "HTMLView",
            "description": "",
            "description_tooltip": null,
            "layout": "IPY_MODEL_3254ee9fe7e94d12808f15cf07b21118",
            "placeholder": "​",
            "style": "IPY_MODEL_e23582c02df843a7b3e198049c41c110",
            "value": " 1279/1279 [01:24&lt;00:00,  5.83it/s]"
          }
        },
        "11dff82636e6462bbe560829e52bc71c": {
          "model_module": "@jupyter-widgets/controls",
          "model_name": "HBoxModel",
          "model_module_version": "1.5.0",
          "state": {
            "_dom_classes": [],
            "_model_module": "@jupyter-widgets/controls",
            "_model_module_version": "1.5.0",
            "_model_name": "HBoxModel",
            "_view_count": null,
            "_view_module": "@jupyter-widgets/controls",
            "_view_module_version": "1.5.0",
            "_view_name": "HBoxView",
            "box_style": "",
            "children": [
              "IPY_MODEL_140b4ab6f0cd4ea3a98024d227fb7d07",
              "IPY_MODEL_42281b02735f48438b96e6d0e2521336",
              "IPY_MODEL_7429742a7ac947f3b083695af01c7663"
            ],
            "layout": "IPY_MODEL_0189464f6f9642acac7d238df939eb29"
          }
        },
        "140b4ab6f0cd4ea3a98024d227fb7d07": {
          "model_module": "@jupyter-widgets/controls",
          "model_name": "HTMLModel",
          "model_module_version": "1.5.0",
          "state": {
            "_dom_classes": [],
            "_model_module": "@jupyter-widgets/controls",
            "_model_module_version": "1.5.0",
            "_model_name": "HTMLModel",
            "_view_count": null,
            "_view_module": "@jupyter-widgets/controls",
            "_view_module_version": "1.5.0",
            "_view_name": "HTMLView",
            "description": "",
            "description_tooltip": null,
            "layout": "IPY_MODEL_0e16dcf57d714cfdb44ece1a6d30c0e4",
            "placeholder": "​",
            "style": "IPY_MODEL_fe9789d26625494db76af0bbaf95553f",
            "value": "100%"
          }
        },
        "42281b02735f48438b96e6d0e2521336": {
          "model_module": "@jupyter-widgets/controls",
          "model_name": "FloatProgressModel",
          "model_module_version": "1.5.0",
          "state": {
            "_dom_classes": [],
            "_model_module": "@jupyter-widgets/controls",
            "_model_module_version": "1.5.0",
            "_model_name": "FloatProgressModel",
            "_view_count": null,
            "_view_module": "@jupyter-widgets/controls",
            "_view_module_version": "1.5.0",
            "_view_name": "ProgressView",
            "bar_style": "success",
            "description": "",
            "description_tooltip": null,
            "layout": "IPY_MODEL_f4dc38fa217e4963b0fc12f8a49cc46e",
            "max": 1279,
            "min": 0,
            "orientation": "horizontal",
            "style": "IPY_MODEL_9b0b999600964f9a81fe4ee1ab4224d5",
            "value": 1279
          }
        },
        "7429742a7ac947f3b083695af01c7663": {
          "model_module": "@jupyter-widgets/controls",
          "model_name": "HTMLModel",
          "model_module_version": "1.5.0",
          "state": {
            "_dom_classes": [],
            "_model_module": "@jupyter-widgets/controls",
            "_model_module_version": "1.5.0",
            "_model_name": "HTMLModel",
            "_view_count": null,
            "_view_module": "@jupyter-widgets/controls",
            "_view_module_version": "1.5.0",
            "_view_name": "HTMLView",
            "description": "",
            "description_tooltip": null,
            "layout": "IPY_MODEL_e438510ba0af491798d59dc2957ed7a0",
            "placeholder": "​",
            "style": "IPY_MODEL_ce9eae480898423895c8af06d1d8c411",
            "value": " 1279/1279 [00:54&lt;00:00, 30.85it/s]"
          }
        },
        "0189464f6f9642acac7d238df939eb29": {
          "model_module": "@jupyter-widgets/base",
          "model_name": "LayoutModel",
          "model_module_version": "1.2.0",
          "state": {
            "_model_module": "@jupyter-widgets/base",
            "_model_module_version": "1.2.0",
            "_model_name": "LayoutModel",
            "_view_count": null,
            "_view_module": "@jupyter-widgets/base",
            "_view_module_version": "1.2.0",
            "_view_name": "LayoutView",
            "align_content": null,
            "align_items": null,
            "align_self": null,
            "border": null,
            "bottom": null,
            "display": null,
            "flex": null,
            "flex_flow": null,
            "grid_area": null,
            "grid_auto_columns": null,
            "grid_auto_flow": null,
            "grid_auto_rows": null,
            "grid_column": null,
            "grid_gap": null,
            "grid_row": null,
            "grid_template_areas": null,
            "grid_template_columns": null,
            "grid_template_rows": null,
            "height": null,
            "justify_content": null,
            "justify_items": null,
            "left": null,
            "margin": null,
            "max_height": null,
            "max_width": null,
            "min_height": null,
            "min_width": null,
            "object_fit": null,
            "object_position": null,
            "order": null,
            "overflow": null,
            "overflow_x": null,
            "overflow_y": null,
            "padding": null,
            "right": null,
            "top": null,
            "visibility": null,
            "width": null
          }
        },
        "0e16dcf57d714cfdb44ece1a6d30c0e4": {
          "model_module": "@jupyter-widgets/base",
          "model_name": "LayoutModel",
          "model_module_version": "1.2.0",
          "state": {
            "_model_module": "@jupyter-widgets/base",
            "_model_module_version": "1.2.0",
            "_model_name": "LayoutModel",
            "_view_count": null,
            "_view_module": "@jupyter-widgets/base",
            "_view_module_version": "1.2.0",
            "_view_name": "LayoutView",
            "align_content": null,
            "align_items": null,
            "align_self": null,
            "border": null,
            "bottom": null,
            "display": null,
            "flex": null,
            "flex_flow": null,
            "grid_area": null,
            "grid_auto_columns": null,
            "grid_auto_flow": null,
            "grid_auto_rows": null,
            "grid_column": null,
            "grid_gap": null,
            "grid_row": null,
            "grid_template_areas": null,
            "grid_template_columns": null,
            "grid_template_rows": null,
            "height": null,
            "justify_content": null,
            "justify_items": null,
            "left": null,
            "margin": null,
            "max_height": null,
            "max_width": null,
            "min_height": null,
            "min_width": null,
            "object_fit": null,
            "object_position": null,
            "order": null,
            "overflow": null,
            "overflow_x": null,
            "overflow_y": null,
            "padding": null,
            "right": null,
            "top": null,
            "visibility": null,
            "width": null
          }
        },
        "fe9789d26625494db76af0bbaf95553f": {
          "model_module": "@jupyter-widgets/controls",
          "model_name": "DescriptionStyleModel",
          "model_module_version": "1.5.0",
          "state": {
            "_model_module": "@jupyter-widgets/controls",
            "_model_module_version": "1.5.0",
            "_model_name": "DescriptionStyleModel",
            "_view_count": null,
            "_view_module": "@jupyter-widgets/base",
            "_view_module_version": "1.2.0",
            "_view_name": "StyleView",
            "description_width": ""
          }
        },
        "f4dc38fa217e4963b0fc12f8a49cc46e": {
          "model_module": "@jupyter-widgets/base",
          "model_name": "LayoutModel",
          "model_module_version": "1.2.0",
          "state": {
            "_model_module": "@jupyter-widgets/base",
            "_model_module_version": "1.2.0",
            "_model_name": "LayoutModel",
            "_view_count": null,
            "_view_module": "@jupyter-widgets/base",
            "_view_module_version": "1.2.0",
            "_view_name": "LayoutView",
            "align_content": null,
            "align_items": null,
            "align_self": null,
            "border": null,
            "bottom": null,
            "display": null,
            "flex": null,
            "flex_flow": null,
            "grid_area": null,
            "grid_auto_columns": null,
            "grid_auto_flow": null,
            "grid_auto_rows": null,
            "grid_column": null,
            "grid_gap": null,
            "grid_row": null,
            "grid_template_areas": null,
            "grid_template_columns": null,
            "grid_template_rows": null,
            "height": null,
            "justify_content": null,
            "justify_items": null,
            "left": null,
            "margin": null,
            "max_height": null,
            "max_width": null,
            "min_height": null,
            "min_width": null,
            "object_fit": null,
            "object_position": null,
            "order": null,
            "overflow": null,
            "overflow_x": null,
            "overflow_y": null,
            "padding": null,
            "right": null,
            "top": null,
            "visibility": null,
            "width": null
          }
        },
        "9b0b999600964f9a81fe4ee1ab4224d5": {
          "model_module": "@jupyter-widgets/controls",
          "model_name": "ProgressStyleModel",
          "model_module_version": "1.5.0",
          "state": {
            "_model_module": "@jupyter-widgets/controls",
            "_model_module_version": "1.5.0",
            "_model_name": "ProgressStyleModel",
            "_view_count": null,
            "_view_module": "@jupyter-widgets/base",
            "_view_module_version": "1.2.0",
            "_view_name": "StyleView",
            "bar_color": null,
            "description_width": ""
          }
        },
        "e438510ba0af491798d59dc2957ed7a0": {
          "model_module": "@jupyter-widgets/base",
          "model_name": "LayoutModel",
          "model_module_version": "1.2.0",
          "state": {
            "_model_module": "@jupyter-widgets/base",
            "_model_module_version": "1.2.0",
            "_model_name": "LayoutModel",
            "_view_count": null,
            "_view_module": "@jupyter-widgets/base",
            "_view_module_version": "1.2.0",
            "_view_name": "LayoutView",
            "align_content": null,
            "align_items": null,
            "align_self": null,
            "border": null,
            "bottom": null,
            "display": null,
            "flex": null,
            "flex_flow": null,
            "grid_area": null,
            "grid_auto_columns": null,
            "grid_auto_flow": null,
            "grid_auto_rows": null,
            "grid_column": null,
            "grid_gap": null,
            "grid_row": null,
            "grid_template_areas": null,
            "grid_template_columns": null,
            "grid_template_rows": null,
            "height": null,
            "justify_content": null,
            "justify_items": null,
            "left": null,
            "margin": null,
            "max_height": null,
            "max_width": null,
            "min_height": null,
            "min_width": null,
            "object_fit": null,
            "object_position": null,
            "order": null,
            "overflow": null,
            "overflow_x": null,
            "overflow_y": null,
            "padding": null,
            "right": null,
            "top": null,
            "visibility": null,
            "width": null
          }
        },
        "ce9eae480898423895c8af06d1d8c411": {
          "model_module": "@jupyter-widgets/controls",
          "model_name": "DescriptionStyleModel",
          "model_module_version": "1.5.0",
          "state": {
            "_model_module": "@jupyter-widgets/controls",
            "_model_module_version": "1.5.0",
            "_model_name": "DescriptionStyleModel",
            "_view_count": null,
            "_view_module": "@jupyter-widgets/base",
            "_view_module_version": "1.2.0",
            "_view_name": "StyleView",
            "description_width": ""
          }
        },
        "59d9b49dd5144706af51afbe5aa439cd": {
          "model_module": "@jupyter-widgets/controls",
          "model_name": "HBoxModel",
          "model_module_version": "1.5.0",
          "state": {
            "_dom_classes": [],
            "_model_module": "@jupyter-widgets/controls",
            "_model_module_version": "1.5.0",
            "_model_name": "HBoxModel",
            "_view_count": null,
            "_view_module": "@jupyter-widgets/controls",
            "_view_module_version": "1.5.0",
            "_view_name": "HBoxView",
            "box_style": "",
            "children": [
              "IPY_MODEL_72186c52ce2d433d89af436df1838dd4",
              "IPY_MODEL_8381dae464244544a70706352a6f11b6",
              "IPY_MODEL_1cec487d8fc34d84ae92fd3269722903"
            ],
            "layout": "IPY_MODEL_c392a80c85264a5f9a2f5f5b830bbb78"
          }
        },
        "72186c52ce2d433d89af436df1838dd4": {
          "model_module": "@jupyter-widgets/controls",
          "model_name": "HTMLModel",
          "model_module_version": "1.5.0",
          "state": {
            "_dom_classes": [],
            "_model_module": "@jupyter-widgets/controls",
            "_model_module_version": "1.5.0",
            "_model_name": "HTMLModel",
            "_view_count": null,
            "_view_module": "@jupyter-widgets/controls",
            "_view_module_version": "1.5.0",
            "_view_name": "HTMLView",
            "description": "",
            "description_tooltip": null,
            "layout": "IPY_MODEL_3d50c36018ff4af09b38e426927001ce",
            "placeholder": "​",
            "style": "IPY_MODEL_41291c0c951044e989231879bd67d3d1",
            "value": "100%"
          }
        },
        "8381dae464244544a70706352a6f11b6": {
          "model_module": "@jupyter-widgets/controls",
          "model_name": "FloatProgressModel",
          "model_module_version": "1.5.0",
          "state": {
            "_dom_classes": [],
            "_model_module": "@jupyter-widgets/controls",
            "_model_module_version": "1.5.0",
            "_model_name": "FloatProgressModel",
            "_view_count": null,
            "_view_module": "@jupyter-widgets/controls",
            "_view_module_version": "1.5.0",
            "_view_name": "ProgressView",
            "bar_style": "success",
            "description": "",
            "description_tooltip": null,
            "layout": "IPY_MODEL_069c418844ae4460bfc1846d2cec61f6",
            "max": 1514,
            "min": 0,
            "orientation": "horizontal",
            "style": "IPY_MODEL_28fe6e59bb514079a47a8b2affdbd05d",
            "value": 1514
          }
        },
        "1cec487d8fc34d84ae92fd3269722903": {
          "model_module": "@jupyter-widgets/controls",
          "model_name": "HTMLModel",
          "model_module_version": "1.5.0",
          "state": {
            "_dom_classes": [],
            "_model_module": "@jupyter-widgets/controls",
            "_model_module_version": "1.5.0",
            "_model_name": "HTMLModel",
            "_view_count": null,
            "_view_module": "@jupyter-widgets/controls",
            "_view_module_version": "1.5.0",
            "_view_name": "HTMLView",
            "description": "",
            "description_tooltip": null,
            "layout": "IPY_MODEL_e3339088a3334bae8163d07f5043ab9f",
            "placeholder": "​",
            "style": "IPY_MODEL_7d0b511f063f4fd7b0d205376883d95c",
            "value": " 1514/1514 [00:55&lt;00:00, 30.38it/s]"
          }
        },
        "c392a80c85264a5f9a2f5f5b830bbb78": {
          "model_module": "@jupyter-widgets/base",
          "model_name": "LayoutModel",
          "model_module_version": "1.2.0",
          "state": {
            "_model_module": "@jupyter-widgets/base",
            "_model_module_version": "1.2.0",
            "_model_name": "LayoutModel",
            "_view_count": null,
            "_view_module": "@jupyter-widgets/base",
            "_view_module_version": "1.2.0",
            "_view_name": "LayoutView",
            "align_content": null,
            "align_items": null,
            "align_self": null,
            "border": null,
            "bottom": null,
            "display": null,
            "flex": null,
            "flex_flow": null,
            "grid_area": null,
            "grid_auto_columns": null,
            "grid_auto_flow": null,
            "grid_auto_rows": null,
            "grid_column": null,
            "grid_gap": null,
            "grid_row": null,
            "grid_template_areas": null,
            "grid_template_columns": null,
            "grid_template_rows": null,
            "height": null,
            "justify_content": null,
            "justify_items": null,
            "left": null,
            "margin": null,
            "max_height": null,
            "max_width": null,
            "min_height": null,
            "min_width": null,
            "object_fit": null,
            "object_position": null,
            "order": null,
            "overflow": null,
            "overflow_x": null,
            "overflow_y": null,
            "padding": null,
            "right": null,
            "top": null,
            "visibility": null,
            "width": null
          }
        },
        "3d50c36018ff4af09b38e426927001ce": {
          "model_module": "@jupyter-widgets/base",
          "model_name": "LayoutModel",
          "model_module_version": "1.2.0",
          "state": {
            "_model_module": "@jupyter-widgets/base",
            "_model_module_version": "1.2.0",
            "_model_name": "LayoutModel",
            "_view_count": null,
            "_view_module": "@jupyter-widgets/base",
            "_view_module_version": "1.2.0",
            "_view_name": "LayoutView",
            "align_content": null,
            "align_items": null,
            "align_self": null,
            "border": null,
            "bottom": null,
            "display": null,
            "flex": null,
            "flex_flow": null,
            "grid_area": null,
            "grid_auto_columns": null,
            "grid_auto_flow": null,
            "grid_auto_rows": null,
            "grid_column": null,
            "grid_gap": null,
            "grid_row": null,
            "grid_template_areas": null,
            "grid_template_columns": null,
            "grid_template_rows": null,
            "height": null,
            "justify_content": null,
            "justify_items": null,
            "left": null,
            "margin": null,
            "max_height": null,
            "max_width": null,
            "min_height": null,
            "min_width": null,
            "object_fit": null,
            "object_position": null,
            "order": null,
            "overflow": null,
            "overflow_x": null,
            "overflow_y": null,
            "padding": null,
            "right": null,
            "top": null,
            "visibility": null,
            "width": null
          }
        },
        "41291c0c951044e989231879bd67d3d1": {
          "model_module": "@jupyter-widgets/controls",
          "model_name": "DescriptionStyleModel",
          "model_module_version": "1.5.0",
          "state": {
            "_model_module": "@jupyter-widgets/controls",
            "_model_module_version": "1.5.0",
            "_model_name": "DescriptionStyleModel",
            "_view_count": null,
            "_view_module": "@jupyter-widgets/base",
            "_view_module_version": "1.2.0",
            "_view_name": "StyleView",
            "description_width": ""
          }
        },
        "069c418844ae4460bfc1846d2cec61f6": {
          "model_module": "@jupyter-widgets/base",
          "model_name": "LayoutModel",
          "model_module_version": "1.2.0",
          "state": {
            "_model_module": "@jupyter-widgets/base",
            "_model_module_version": "1.2.0",
            "_model_name": "LayoutModel",
            "_view_count": null,
            "_view_module": "@jupyter-widgets/base",
            "_view_module_version": "1.2.0",
            "_view_name": "LayoutView",
            "align_content": null,
            "align_items": null,
            "align_self": null,
            "border": null,
            "bottom": null,
            "display": null,
            "flex": null,
            "flex_flow": null,
            "grid_area": null,
            "grid_auto_columns": null,
            "grid_auto_flow": null,
            "grid_auto_rows": null,
            "grid_column": null,
            "grid_gap": null,
            "grid_row": null,
            "grid_template_areas": null,
            "grid_template_columns": null,
            "grid_template_rows": null,
            "height": null,
            "justify_content": null,
            "justify_items": null,
            "left": null,
            "margin": null,
            "max_height": null,
            "max_width": null,
            "min_height": null,
            "min_width": null,
            "object_fit": null,
            "object_position": null,
            "order": null,
            "overflow": null,
            "overflow_x": null,
            "overflow_y": null,
            "padding": null,
            "right": null,
            "top": null,
            "visibility": null,
            "width": null
          }
        },
        "28fe6e59bb514079a47a8b2affdbd05d": {
          "model_module": "@jupyter-widgets/controls",
          "model_name": "ProgressStyleModel",
          "model_module_version": "1.5.0",
          "state": {
            "_model_module": "@jupyter-widgets/controls",
            "_model_module_version": "1.5.0",
            "_model_name": "ProgressStyleModel",
            "_view_count": null,
            "_view_module": "@jupyter-widgets/base",
            "_view_module_version": "1.2.0",
            "_view_name": "StyleView",
            "bar_color": null,
            "description_width": ""
          }
        },
        "e3339088a3334bae8163d07f5043ab9f": {
          "model_module": "@jupyter-widgets/base",
          "model_name": "LayoutModel",
          "model_module_version": "1.2.0",
          "state": {
            "_model_module": "@jupyter-widgets/base",
            "_model_module_version": "1.2.0",
            "_model_name": "LayoutModel",
            "_view_count": null,
            "_view_module": "@jupyter-widgets/base",
            "_view_module_version": "1.2.0",
            "_view_name": "LayoutView",
            "align_content": null,
            "align_items": null,
            "align_self": null,
            "border": null,
            "bottom": null,
            "display": null,
            "flex": null,
            "flex_flow": null,
            "grid_area": null,
            "grid_auto_columns": null,
            "grid_auto_flow": null,
            "grid_auto_rows": null,
            "grid_column": null,
            "grid_gap": null,
            "grid_row": null,
            "grid_template_areas": null,
            "grid_template_columns": null,
            "grid_template_rows": null,
            "height": null,
            "justify_content": null,
            "justify_items": null,
            "left": null,
            "margin": null,
            "max_height": null,
            "max_width": null,
            "min_height": null,
            "min_width": null,
            "object_fit": null,
            "object_position": null,
            "order": null,
            "overflow": null,
            "overflow_x": null,
            "overflow_y": null,
            "padding": null,
            "right": null,
            "top": null,
            "visibility": null,
            "width": null
          }
        },
        "7d0b511f063f4fd7b0d205376883d95c": {
          "model_module": "@jupyter-widgets/controls",
          "model_name": "DescriptionStyleModel",
          "model_module_version": "1.5.0",
          "state": {
            "_model_module": "@jupyter-widgets/controls",
            "_model_module_version": "1.5.0",
            "_model_name": "DescriptionStyleModel",
            "_view_count": null,
            "_view_module": "@jupyter-widgets/base",
            "_view_module_version": "1.2.0",
            "_view_name": "StyleView",
            "description_width": ""
          }
        },
        "170a63e1d6144995a5c3fcc43f257301": {
          "model_module": "@jupyter-widgets/controls",
          "model_name": "HBoxModel",
          "model_module_version": "1.5.0",
          "state": {
            "_dom_classes": [],
            "_model_module": "@jupyter-widgets/controls",
            "_model_module_version": "1.5.0",
            "_model_name": "HBoxModel",
            "_view_count": null,
            "_view_module": "@jupyter-widgets/controls",
            "_view_module_version": "1.5.0",
            "_view_name": "HBoxView",
            "box_style": "",
            "children": [
              "IPY_MODEL_4b5336d47991464ea476f42e5692f241",
              "IPY_MODEL_e69455087bf3423e8fe4b398359f9a98",
              "IPY_MODEL_b861d57c93b940989914f5b8a2a02519"
            ],
            "layout": "IPY_MODEL_40e77b03f7f644e9b4c38967f9b2f31f"
          }
        },
        "4b5336d47991464ea476f42e5692f241": {
          "model_module": "@jupyter-widgets/controls",
          "model_name": "HTMLModel",
          "model_module_version": "1.5.0",
          "state": {
            "_dom_classes": [],
            "_model_module": "@jupyter-widgets/controls",
            "_model_module_version": "1.5.0",
            "_model_name": "HTMLModel",
            "_view_count": null,
            "_view_module": "@jupyter-widgets/controls",
            "_view_module_version": "1.5.0",
            "_view_name": "HTMLView",
            "description": "",
            "description_tooltip": null,
            "layout": "IPY_MODEL_c314d99a55474aecb11b44169ea9be49",
            "placeholder": "​",
            "style": "IPY_MODEL_da40472ef8fb4735a843a747125e5c78",
            "value": "100%"
          }
        },
        "e69455087bf3423e8fe4b398359f9a98": {
          "model_module": "@jupyter-widgets/controls",
          "model_name": "FloatProgressModel",
          "model_module_version": "1.5.0",
          "state": {
            "_dom_classes": [],
            "_model_module": "@jupyter-widgets/controls",
            "_model_module_version": "1.5.0",
            "_model_name": "FloatProgressModel",
            "_view_count": null,
            "_view_module": "@jupyter-widgets/controls",
            "_view_module_version": "1.5.0",
            "_view_name": "ProgressView",
            "bar_style": "success",
            "description": "",
            "description_tooltip": null,
            "layout": "IPY_MODEL_cba37b40583b44c292667ac09171d24a",
            "max": 1279,
            "min": 0,
            "orientation": "horizontal",
            "style": "IPY_MODEL_65a81366602f49b3b2e457a282168321",
            "value": 1279
          }
        },
        "b861d57c93b940989914f5b8a2a02519": {
          "model_module": "@jupyter-widgets/controls",
          "model_name": "HTMLModel",
          "model_module_version": "1.5.0",
          "state": {
            "_dom_classes": [],
            "_model_module": "@jupyter-widgets/controls",
            "_model_module_version": "1.5.0",
            "_model_name": "HTMLModel",
            "_view_count": null,
            "_view_module": "@jupyter-widgets/controls",
            "_view_module_version": "1.5.0",
            "_view_name": "HTMLView",
            "description": "",
            "description_tooltip": null,
            "layout": "IPY_MODEL_17be23c0db044b339a2c9dae2f1f56bd",
            "placeholder": "​",
            "style": "IPY_MODEL_4d7ab7c0337a48bd9acaf05b14d7b9a1",
            "value": " 1279/1279 [00:39&lt;00:00, 33.00it/s]"
          }
        },
        "40e77b03f7f644e9b4c38967f9b2f31f": {
          "model_module": "@jupyter-widgets/base",
          "model_name": "LayoutModel",
          "model_module_version": "1.2.0",
          "state": {
            "_model_module": "@jupyter-widgets/base",
            "_model_module_version": "1.2.0",
            "_model_name": "LayoutModel",
            "_view_count": null,
            "_view_module": "@jupyter-widgets/base",
            "_view_module_version": "1.2.0",
            "_view_name": "LayoutView",
            "align_content": null,
            "align_items": null,
            "align_self": null,
            "border": null,
            "bottom": null,
            "display": null,
            "flex": null,
            "flex_flow": null,
            "grid_area": null,
            "grid_auto_columns": null,
            "grid_auto_flow": null,
            "grid_auto_rows": null,
            "grid_column": null,
            "grid_gap": null,
            "grid_row": null,
            "grid_template_areas": null,
            "grid_template_columns": null,
            "grid_template_rows": null,
            "height": null,
            "justify_content": null,
            "justify_items": null,
            "left": null,
            "margin": null,
            "max_height": null,
            "max_width": null,
            "min_height": null,
            "min_width": null,
            "object_fit": null,
            "object_position": null,
            "order": null,
            "overflow": null,
            "overflow_x": null,
            "overflow_y": null,
            "padding": null,
            "right": null,
            "top": null,
            "visibility": null,
            "width": null
          }
        },
        "c314d99a55474aecb11b44169ea9be49": {
          "model_module": "@jupyter-widgets/base",
          "model_name": "LayoutModel",
          "model_module_version": "1.2.0",
          "state": {
            "_model_module": "@jupyter-widgets/base",
            "_model_module_version": "1.2.0",
            "_model_name": "LayoutModel",
            "_view_count": null,
            "_view_module": "@jupyter-widgets/base",
            "_view_module_version": "1.2.0",
            "_view_name": "LayoutView",
            "align_content": null,
            "align_items": null,
            "align_self": null,
            "border": null,
            "bottom": null,
            "display": null,
            "flex": null,
            "flex_flow": null,
            "grid_area": null,
            "grid_auto_columns": null,
            "grid_auto_flow": null,
            "grid_auto_rows": null,
            "grid_column": null,
            "grid_gap": null,
            "grid_row": null,
            "grid_template_areas": null,
            "grid_template_columns": null,
            "grid_template_rows": null,
            "height": null,
            "justify_content": null,
            "justify_items": null,
            "left": null,
            "margin": null,
            "max_height": null,
            "max_width": null,
            "min_height": null,
            "min_width": null,
            "object_fit": null,
            "object_position": null,
            "order": null,
            "overflow": null,
            "overflow_x": null,
            "overflow_y": null,
            "padding": null,
            "right": null,
            "top": null,
            "visibility": null,
            "width": null
          }
        },
        "da40472ef8fb4735a843a747125e5c78": {
          "model_module": "@jupyter-widgets/controls",
          "model_name": "DescriptionStyleModel",
          "model_module_version": "1.5.0",
          "state": {
            "_model_module": "@jupyter-widgets/controls",
            "_model_module_version": "1.5.0",
            "_model_name": "DescriptionStyleModel",
            "_view_count": null,
            "_view_module": "@jupyter-widgets/base",
            "_view_module_version": "1.2.0",
            "_view_name": "StyleView",
            "description_width": ""
          }
        },
        "cba37b40583b44c292667ac09171d24a": {
          "model_module": "@jupyter-widgets/base",
          "model_name": "LayoutModel",
          "model_module_version": "1.2.0",
          "state": {
            "_model_module": "@jupyter-widgets/base",
            "_model_module_version": "1.2.0",
            "_model_name": "LayoutModel",
            "_view_count": null,
            "_view_module": "@jupyter-widgets/base",
            "_view_module_version": "1.2.0",
            "_view_name": "LayoutView",
            "align_content": null,
            "align_items": null,
            "align_self": null,
            "border": null,
            "bottom": null,
            "display": null,
            "flex": null,
            "flex_flow": null,
            "grid_area": null,
            "grid_auto_columns": null,
            "grid_auto_flow": null,
            "grid_auto_rows": null,
            "grid_column": null,
            "grid_gap": null,
            "grid_row": null,
            "grid_template_areas": null,
            "grid_template_columns": null,
            "grid_template_rows": null,
            "height": null,
            "justify_content": null,
            "justify_items": null,
            "left": null,
            "margin": null,
            "max_height": null,
            "max_width": null,
            "min_height": null,
            "min_width": null,
            "object_fit": null,
            "object_position": null,
            "order": null,
            "overflow": null,
            "overflow_x": null,
            "overflow_y": null,
            "padding": null,
            "right": null,
            "top": null,
            "visibility": null,
            "width": null
          }
        },
        "65a81366602f49b3b2e457a282168321": {
          "model_module": "@jupyter-widgets/controls",
          "model_name": "ProgressStyleModel",
          "model_module_version": "1.5.0",
          "state": {
            "_model_module": "@jupyter-widgets/controls",
            "_model_module_version": "1.5.0",
            "_model_name": "ProgressStyleModel",
            "_view_count": null,
            "_view_module": "@jupyter-widgets/base",
            "_view_module_version": "1.2.0",
            "_view_name": "StyleView",
            "bar_color": null,
            "description_width": ""
          }
        },
        "17be23c0db044b339a2c9dae2f1f56bd": {
          "model_module": "@jupyter-widgets/base",
          "model_name": "LayoutModel",
          "model_module_version": "1.2.0",
          "state": {
            "_model_module": "@jupyter-widgets/base",
            "_model_module_version": "1.2.0",
            "_model_name": "LayoutModel",
            "_view_count": null,
            "_view_module": "@jupyter-widgets/base",
            "_view_module_version": "1.2.0",
            "_view_name": "LayoutView",
            "align_content": null,
            "align_items": null,
            "align_self": null,
            "border": null,
            "bottom": null,
            "display": null,
            "flex": null,
            "flex_flow": null,
            "grid_area": null,
            "grid_auto_columns": null,
            "grid_auto_flow": null,
            "grid_auto_rows": null,
            "grid_column": null,
            "grid_gap": null,
            "grid_row": null,
            "grid_template_areas": null,
            "grid_template_columns": null,
            "grid_template_rows": null,
            "height": null,
            "justify_content": null,
            "justify_items": null,
            "left": null,
            "margin": null,
            "max_height": null,
            "max_width": null,
            "min_height": null,
            "min_width": null,
            "object_fit": null,
            "object_position": null,
            "order": null,
            "overflow": null,
            "overflow_x": null,
            "overflow_y": null,
            "padding": null,
            "right": null,
            "top": null,
            "visibility": null,
            "width": null
          }
        },
        "4d7ab7c0337a48bd9acaf05b14d7b9a1": {
          "model_module": "@jupyter-widgets/controls",
          "model_name": "DescriptionStyleModel",
          "model_module_version": "1.5.0",
          "state": {
            "_model_module": "@jupyter-widgets/controls",
            "_model_module_version": "1.5.0",
            "_model_name": "DescriptionStyleModel",
            "_view_count": null,
            "_view_module": "@jupyter-widgets/base",
            "_view_module_version": "1.2.0",
            "_view_name": "StyleView",
            "description_width": ""
          }
        },
        "eb5238162d544e8abe4ab5c2a8438e94": {
          "model_module": "@jupyter-widgets/controls",
          "model_name": "HBoxModel",
          "model_module_version": "1.5.0",
          "state": {
            "_dom_classes": [],
            "_model_module": "@jupyter-widgets/controls",
            "_model_module_version": "1.5.0",
            "_model_name": "HBoxModel",
            "_view_count": null,
            "_view_module": "@jupyter-widgets/controls",
            "_view_module_version": "1.5.0",
            "_view_name": "HBoxView",
            "box_style": "",
            "children": [
              "IPY_MODEL_80c0927489df48ce98f774bb38b9088f",
              "IPY_MODEL_bec98b089f8f4bd6aabab2fbac79c0f2",
              "IPY_MODEL_18b9c4be3fd3481e9407b9cb939ac6c4"
            ],
            "layout": "IPY_MODEL_86d9185f631249618f841b2405db9827"
          }
        },
        "80c0927489df48ce98f774bb38b9088f": {
          "model_module": "@jupyter-widgets/controls",
          "model_name": "HTMLModel",
          "model_module_version": "1.5.0",
          "state": {
            "_dom_classes": [],
            "_model_module": "@jupyter-widgets/controls",
            "_model_module_version": "1.5.0",
            "_model_name": "HTMLModel",
            "_view_count": null,
            "_view_module": "@jupyter-widgets/controls",
            "_view_module_version": "1.5.0",
            "_view_name": "HTMLView",
            "description": "",
            "description_tooltip": null,
            "layout": "IPY_MODEL_669860e839aa4458b4632b94d75cae43",
            "placeholder": "​",
            "style": "IPY_MODEL_70b62b1fc9244c519a6e2a675c012c2f",
            "value": "100%"
          }
        },
        "bec98b089f8f4bd6aabab2fbac79c0f2": {
          "model_module": "@jupyter-widgets/controls",
          "model_name": "FloatProgressModel",
          "model_module_version": "1.5.0",
          "state": {
            "_dom_classes": [],
            "_model_module": "@jupyter-widgets/controls",
            "_model_module_version": "1.5.0",
            "_model_name": "FloatProgressModel",
            "_view_count": null,
            "_view_module": "@jupyter-widgets/controls",
            "_view_module_version": "1.5.0",
            "_view_name": "ProgressView",
            "bar_style": "success",
            "description": "",
            "description_tooltip": null,
            "layout": "IPY_MODEL_fe4c0cac75d34c34b0b0e0dacb27ad87",
            "max": 1514,
            "min": 0,
            "orientation": "horizontal",
            "style": "IPY_MODEL_e2f4250e878b42ed8a6d7687a2db8145",
            "value": 1514
          }
        },
        "18b9c4be3fd3481e9407b9cb939ac6c4": {
          "model_module": "@jupyter-widgets/controls",
          "model_name": "HTMLModel",
          "model_module_version": "1.5.0",
          "state": {
            "_dom_classes": [],
            "_model_module": "@jupyter-widgets/controls",
            "_model_module_version": "1.5.0",
            "_model_name": "HTMLModel",
            "_view_count": null,
            "_view_module": "@jupyter-widgets/controls",
            "_view_module_version": "1.5.0",
            "_view_name": "HTMLView",
            "description": "",
            "description_tooltip": null,
            "layout": "IPY_MODEL_8d44ee57860a439fbe65bbe3fce3fb21",
            "placeholder": "​",
            "style": "IPY_MODEL_5d22b2c6ca8740f899a1b085468dce8d",
            "value": " 1514/1514 [00:45&lt;00:00, 34.05it/s]"
          }
        },
        "86d9185f631249618f841b2405db9827": {
          "model_module": "@jupyter-widgets/base",
          "model_name": "LayoutModel",
          "model_module_version": "1.2.0",
          "state": {
            "_model_module": "@jupyter-widgets/base",
            "_model_module_version": "1.2.0",
            "_model_name": "LayoutModel",
            "_view_count": null,
            "_view_module": "@jupyter-widgets/base",
            "_view_module_version": "1.2.0",
            "_view_name": "LayoutView",
            "align_content": null,
            "align_items": null,
            "align_self": null,
            "border": null,
            "bottom": null,
            "display": null,
            "flex": null,
            "flex_flow": null,
            "grid_area": null,
            "grid_auto_columns": null,
            "grid_auto_flow": null,
            "grid_auto_rows": null,
            "grid_column": null,
            "grid_gap": null,
            "grid_row": null,
            "grid_template_areas": null,
            "grid_template_columns": null,
            "grid_template_rows": null,
            "height": null,
            "justify_content": null,
            "justify_items": null,
            "left": null,
            "margin": null,
            "max_height": null,
            "max_width": null,
            "min_height": null,
            "min_width": null,
            "object_fit": null,
            "object_position": null,
            "order": null,
            "overflow": null,
            "overflow_x": null,
            "overflow_y": null,
            "padding": null,
            "right": null,
            "top": null,
            "visibility": null,
            "width": null
          }
        },
        "669860e839aa4458b4632b94d75cae43": {
          "model_module": "@jupyter-widgets/base",
          "model_name": "LayoutModel",
          "model_module_version": "1.2.0",
          "state": {
            "_model_module": "@jupyter-widgets/base",
            "_model_module_version": "1.2.0",
            "_model_name": "LayoutModel",
            "_view_count": null,
            "_view_module": "@jupyter-widgets/base",
            "_view_module_version": "1.2.0",
            "_view_name": "LayoutView",
            "align_content": null,
            "align_items": null,
            "align_self": null,
            "border": null,
            "bottom": null,
            "display": null,
            "flex": null,
            "flex_flow": null,
            "grid_area": null,
            "grid_auto_columns": null,
            "grid_auto_flow": null,
            "grid_auto_rows": null,
            "grid_column": null,
            "grid_gap": null,
            "grid_row": null,
            "grid_template_areas": null,
            "grid_template_columns": null,
            "grid_template_rows": null,
            "height": null,
            "justify_content": null,
            "justify_items": null,
            "left": null,
            "margin": null,
            "max_height": null,
            "max_width": null,
            "min_height": null,
            "min_width": null,
            "object_fit": null,
            "object_position": null,
            "order": null,
            "overflow": null,
            "overflow_x": null,
            "overflow_y": null,
            "padding": null,
            "right": null,
            "top": null,
            "visibility": null,
            "width": null
          }
        },
        "70b62b1fc9244c519a6e2a675c012c2f": {
          "model_module": "@jupyter-widgets/controls",
          "model_name": "DescriptionStyleModel",
          "model_module_version": "1.5.0",
          "state": {
            "_model_module": "@jupyter-widgets/controls",
            "_model_module_version": "1.5.0",
            "_model_name": "DescriptionStyleModel",
            "_view_count": null,
            "_view_module": "@jupyter-widgets/base",
            "_view_module_version": "1.2.0",
            "_view_name": "StyleView",
            "description_width": ""
          }
        },
        "fe4c0cac75d34c34b0b0e0dacb27ad87": {
          "model_module": "@jupyter-widgets/base",
          "model_name": "LayoutModel",
          "model_module_version": "1.2.0",
          "state": {
            "_model_module": "@jupyter-widgets/base",
            "_model_module_version": "1.2.0",
            "_model_name": "LayoutModel",
            "_view_count": null,
            "_view_module": "@jupyter-widgets/base",
            "_view_module_version": "1.2.0",
            "_view_name": "LayoutView",
            "align_content": null,
            "align_items": null,
            "align_self": null,
            "border": null,
            "bottom": null,
            "display": null,
            "flex": null,
            "flex_flow": null,
            "grid_area": null,
            "grid_auto_columns": null,
            "grid_auto_flow": null,
            "grid_auto_rows": null,
            "grid_column": null,
            "grid_gap": null,
            "grid_row": null,
            "grid_template_areas": null,
            "grid_template_columns": null,
            "grid_template_rows": null,
            "height": null,
            "justify_content": null,
            "justify_items": null,
            "left": null,
            "margin": null,
            "max_height": null,
            "max_width": null,
            "min_height": null,
            "min_width": null,
            "object_fit": null,
            "object_position": null,
            "order": null,
            "overflow": null,
            "overflow_x": null,
            "overflow_y": null,
            "padding": null,
            "right": null,
            "top": null,
            "visibility": null,
            "width": null
          }
        },
        "e2f4250e878b42ed8a6d7687a2db8145": {
          "model_module": "@jupyter-widgets/controls",
          "model_name": "ProgressStyleModel",
          "model_module_version": "1.5.0",
          "state": {
            "_model_module": "@jupyter-widgets/controls",
            "_model_module_version": "1.5.0",
            "_model_name": "ProgressStyleModel",
            "_view_count": null,
            "_view_module": "@jupyter-widgets/base",
            "_view_module_version": "1.2.0",
            "_view_name": "StyleView",
            "bar_color": null,
            "description_width": ""
          }
        },
        "8d44ee57860a439fbe65bbe3fce3fb21": {
          "model_module": "@jupyter-widgets/base",
          "model_name": "LayoutModel",
          "model_module_version": "1.2.0",
          "state": {
            "_model_module": "@jupyter-widgets/base",
            "_model_module_version": "1.2.0",
            "_model_name": "LayoutModel",
            "_view_count": null,
            "_view_module": "@jupyter-widgets/base",
            "_view_module_version": "1.2.0",
            "_view_name": "LayoutView",
            "align_content": null,
            "align_items": null,
            "align_self": null,
            "border": null,
            "bottom": null,
            "display": null,
            "flex": null,
            "flex_flow": null,
            "grid_area": null,
            "grid_auto_columns": null,
            "grid_auto_flow": null,
            "grid_auto_rows": null,
            "grid_column": null,
            "grid_gap": null,
            "grid_row": null,
            "grid_template_areas": null,
            "grid_template_columns": null,
            "grid_template_rows": null,
            "height": null,
            "justify_content": null,
            "justify_items": null,
            "left": null,
            "margin": null,
            "max_height": null,
            "max_width": null,
            "min_height": null,
            "min_width": null,
            "object_fit": null,
            "object_position": null,
            "order": null,
            "overflow": null,
            "overflow_x": null,
            "overflow_y": null,
            "padding": null,
            "right": null,
            "top": null,
            "visibility": null,
            "width": null
          }
        },
        "5d22b2c6ca8740f899a1b085468dce8d": {
          "model_module": "@jupyter-widgets/controls",
          "model_name": "DescriptionStyleModel",
          "model_module_version": "1.5.0",
          "state": {
            "_model_module": "@jupyter-widgets/controls",
            "_model_module_version": "1.5.0",
            "_model_name": "DescriptionStyleModel",
            "_view_count": null,
            "_view_module": "@jupyter-widgets/base",
            "_view_module_version": "1.2.0",
            "_view_name": "StyleView",
            "description_width": ""
          }
        },
        "0ab0706e09de4b24af2a1154cecdbe1b": {
          "model_module": "@jupyter-widgets/controls",
          "model_name": "HBoxModel",
          "model_module_version": "1.5.0",
          "state": {
            "_dom_classes": [],
            "_model_module": "@jupyter-widgets/controls",
            "_model_module_version": "1.5.0",
            "_model_name": "HBoxModel",
            "_view_count": null,
            "_view_module": "@jupyter-widgets/controls",
            "_view_module_version": "1.5.0",
            "_view_name": "HBoxView",
            "box_style": "",
            "children": [
              "IPY_MODEL_d34ad307bbe846ea9c0d39773f04d85a",
              "IPY_MODEL_4332ea86f94b4a759e4324137293a7f0",
              "IPY_MODEL_8ffcd74c31c24f198efb6ea5a2e229fe"
            ],
            "layout": "IPY_MODEL_5645e5315a6d4f56b7d812245e302b95"
          }
        },
        "d34ad307bbe846ea9c0d39773f04d85a": {
          "model_module": "@jupyter-widgets/controls",
          "model_name": "HTMLModel",
          "model_module_version": "1.5.0",
          "state": {
            "_dom_classes": [],
            "_model_module": "@jupyter-widgets/controls",
            "_model_module_version": "1.5.0",
            "_model_name": "HTMLModel",
            "_view_count": null,
            "_view_module": "@jupyter-widgets/controls",
            "_view_module_version": "1.5.0",
            "_view_name": "HTMLView",
            "description": "",
            "description_tooltip": null,
            "layout": "IPY_MODEL_de30982b21e041f0a365f8276edd67a3",
            "placeholder": "​",
            "style": "IPY_MODEL_02a1632321844f12af8f2a49dd7bb477",
            "value": "100%"
          }
        },
        "4332ea86f94b4a759e4324137293a7f0": {
          "model_module": "@jupyter-widgets/controls",
          "model_name": "FloatProgressModel",
          "model_module_version": "1.5.0",
          "state": {
            "_dom_classes": [],
            "_model_module": "@jupyter-widgets/controls",
            "_model_module_version": "1.5.0",
            "_model_name": "FloatProgressModel",
            "_view_count": null,
            "_view_module": "@jupyter-widgets/controls",
            "_view_module_version": "1.5.0",
            "_view_name": "ProgressView",
            "bar_style": "success",
            "description": "",
            "description_tooltip": null,
            "layout": "IPY_MODEL_e4da58c855f0430381fe0629dc3683f3",
            "max": 1279,
            "min": 0,
            "orientation": "horizontal",
            "style": "IPY_MODEL_4fb5bdd4eb6b4e8399b9d260fac40b0b",
            "value": 1279
          }
        },
        "8ffcd74c31c24f198efb6ea5a2e229fe": {
          "model_module": "@jupyter-widgets/controls",
          "model_name": "HTMLModel",
          "model_module_version": "1.5.0",
          "state": {
            "_dom_classes": [],
            "_model_module": "@jupyter-widgets/controls",
            "_model_module_version": "1.5.0",
            "_model_name": "HTMLModel",
            "_view_count": null,
            "_view_module": "@jupyter-widgets/controls",
            "_view_module_version": "1.5.0",
            "_view_name": "HTMLView",
            "description": "",
            "description_tooltip": null,
            "layout": "IPY_MODEL_ffc5bd115caf461c90dc7f8270b16272",
            "placeholder": "​",
            "style": "IPY_MODEL_17f042ebf483476a9b9be9fe0ebcd418",
            "value": " 1279/1279 [00:31&lt;00:00, 42.83it/s]"
          }
        },
        "5645e5315a6d4f56b7d812245e302b95": {
          "model_module": "@jupyter-widgets/base",
          "model_name": "LayoutModel",
          "model_module_version": "1.2.0",
          "state": {
            "_model_module": "@jupyter-widgets/base",
            "_model_module_version": "1.2.0",
            "_model_name": "LayoutModel",
            "_view_count": null,
            "_view_module": "@jupyter-widgets/base",
            "_view_module_version": "1.2.0",
            "_view_name": "LayoutView",
            "align_content": null,
            "align_items": null,
            "align_self": null,
            "border": null,
            "bottom": null,
            "display": null,
            "flex": null,
            "flex_flow": null,
            "grid_area": null,
            "grid_auto_columns": null,
            "grid_auto_flow": null,
            "grid_auto_rows": null,
            "grid_column": null,
            "grid_gap": null,
            "grid_row": null,
            "grid_template_areas": null,
            "grid_template_columns": null,
            "grid_template_rows": null,
            "height": null,
            "justify_content": null,
            "justify_items": null,
            "left": null,
            "margin": null,
            "max_height": null,
            "max_width": null,
            "min_height": null,
            "min_width": null,
            "object_fit": null,
            "object_position": null,
            "order": null,
            "overflow": null,
            "overflow_x": null,
            "overflow_y": null,
            "padding": null,
            "right": null,
            "top": null,
            "visibility": null,
            "width": null
          }
        },
        "de30982b21e041f0a365f8276edd67a3": {
          "model_module": "@jupyter-widgets/base",
          "model_name": "LayoutModel",
          "model_module_version": "1.2.0",
          "state": {
            "_model_module": "@jupyter-widgets/base",
            "_model_module_version": "1.2.0",
            "_model_name": "LayoutModel",
            "_view_count": null,
            "_view_module": "@jupyter-widgets/base",
            "_view_module_version": "1.2.0",
            "_view_name": "LayoutView",
            "align_content": null,
            "align_items": null,
            "align_self": null,
            "border": null,
            "bottom": null,
            "display": null,
            "flex": null,
            "flex_flow": null,
            "grid_area": null,
            "grid_auto_columns": null,
            "grid_auto_flow": null,
            "grid_auto_rows": null,
            "grid_column": null,
            "grid_gap": null,
            "grid_row": null,
            "grid_template_areas": null,
            "grid_template_columns": null,
            "grid_template_rows": null,
            "height": null,
            "justify_content": null,
            "justify_items": null,
            "left": null,
            "margin": null,
            "max_height": null,
            "max_width": null,
            "min_height": null,
            "min_width": null,
            "object_fit": null,
            "object_position": null,
            "order": null,
            "overflow": null,
            "overflow_x": null,
            "overflow_y": null,
            "padding": null,
            "right": null,
            "top": null,
            "visibility": null,
            "width": null
          }
        },
        "02a1632321844f12af8f2a49dd7bb477": {
          "model_module": "@jupyter-widgets/controls",
          "model_name": "DescriptionStyleModel",
          "model_module_version": "1.5.0",
          "state": {
            "_model_module": "@jupyter-widgets/controls",
            "_model_module_version": "1.5.0",
            "_model_name": "DescriptionStyleModel",
            "_view_count": null,
            "_view_module": "@jupyter-widgets/base",
            "_view_module_version": "1.2.0",
            "_view_name": "StyleView",
            "description_width": ""
          }
        },
        "e4da58c855f0430381fe0629dc3683f3": {
          "model_module": "@jupyter-widgets/base",
          "model_name": "LayoutModel",
          "model_module_version": "1.2.0",
          "state": {
            "_model_module": "@jupyter-widgets/base",
            "_model_module_version": "1.2.0",
            "_model_name": "LayoutModel",
            "_view_count": null,
            "_view_module": "@jupyter-widgets/base",
            "_view_module_version": "1.2.0",
            "_view_name": "LayoutView",
            "align_content": null,
            "align_items": null,
            "align_self": null,
            "border": null,
            "bottom": null,
            "display": null,
            "flex": null,
            "flex_flow": null,
            "grid_area": null,
            "grid_auto_columns": null,
            "grid_auto_flow": null,
            "grid_auto_rows": null,
            "grid_column": null,
            "grid_gap": null,
            "grid_row": null,
            "grid_template_areas": null,
            "grid_template_columns": null,
            "grid_template_rows": null,
            "height": null,
            "justify_content": null,
            "justify_items": null,
            "left": null,
            "margin": null,
            "max_height": null,
            "max_width": null,
            "min_height": null,
            "min_width": null,
            "object_fit": null,
            "object_position": null,
            "order": null,
            "overflow": null,
            "overflow_x": null,
            "overflow_y": null,
            "padding": null,
            "right": null,
            "top": null,
            "visibility": null,
            "width": null
          }
        },
        "4fb5bdd4eb6b4e8399b9d260fac40b0b": {
          "model_module": "@jupyter-widgets/controls",
          "model_name": "ProgressStyleModel",
          "model_module_version": "1.5.0",
          "state": {
            "_model_module": "@jupyter-widgets/controls",
            "_model_module_version": "1.5.0",
            "_model_name": "ProgressStyleModel",
            "_view_count": null,
            "_view_module": "@jupyter-widgets/base",
            "_view_module_version": "1.2.0",
            "_view_name": "StyleView",
            "bar_color": null,
            "description_width": ""
          }
        },
        "ffc5bd115caf461c90dc7f8270b16272": {
          "model_module": "@jupyter-widgets/base",
          "model_name": "LayoutModel",
          "model_module_version": "1.2.0",
          "state": {
            "_model_module": "@jupyter-widgets/base",
            "_model_module_version": "1.2.0",
            "_model_name": "LayoutModel",
            "_view_count": null,
            "_view_module": "@jupyter-widgets/base",
            "_view_module_version": "1.2.0",
            "_view_name": "LayoutView",
            "align_content": null,
            "align_items": null,
            "align_self": null,
            "border": null,
            "bottom": null,
            "display": null,
            "flex": null,
            "flex_flow": null,
            "grid_area": null,
            "grid_auto_columns": null,
            "grid_auto_flow": null,
            "grid_auto_rows": null,
            "grid_column": null,
            "grid_gap": null,
            "grid_row": null,
            "grid_template_areas": null,
            "grid_template_columns": null,
            "grid_template_rows": null,
            "height": null,
            "justify_content": null,
            "justify_items": null,
            "left": null,
            "margin": null,
            "max_height": null,
            "max_width": null,
            "min_height": null,
            "min_width": null,
            "object_fit": null,
            "object_position": null,
            "order": null,
            "overflow": null,
            "overflow_x": null,
            "overflow_y": null,
            "padding": null,
            "right": null,
            "top": null,
            "visibility": null,
            "width": null
          }
        },
        "17f042ebf483476a9b9be9fe0ebcd418": {
          "model_module": "@jupyter-widgets/controls",
          "model_name": "DescriptionStyleModel",
          "model_module_version": "1.5.0",
          "state": {
            "_model_module": "@jupyter-widgets/controls",
            "_model_module_version": "1.5.0",
            "_model_name": "DescriptionStyleModel",
            "_view_count": null,
            "_view_module": "@jupyter-widgets/base",
            "_view_module_version": "1.2.0",
            "_view_name": "StyleView",
            "description_width": ""
          }
        },
        "f7c476242b0d4e77a93e9798ce78b7f9": {
          "model_module": "@jupyter-widgets/controls",
          "model_name": "HBoxModel",
          "model_module_version": "1.5.0",
          "state": {
            "_dom_classes": [],
            "_model_module": "@jupyter-widgets/controls",
            "_model_module_version": "1.5.0",
            "_model_name": "HBoxModel",
            "_view_count": null,
            "_view_module": "@jupyter-widgets/controls",
            "_view_module_version": "1.5.0",
            "_view_name": "HBoxView",
            "box_style": "",
            "children": [
              "IPY_MODEL_936c4234a00344c9aa3fc7d3665c6e1b",
              "IPY_MODEL_76ab6c9888aa457cabd1e831aeaa763c",
              "IPY_MODEL_0c7431aa79934b0985afc102741f8e6d"
            ],
            "layout": "IPY_MODEL_4b50481ec20d4c9988457a14c0176a52"
          }
        },
        "936c4234a00344c9aa3fc7d3665c6e1b": {
          "model_module": "@jupyter-widgets/controls",
          "model_name": "HTMLModel",
          "model_module_version": "1.5.0",
          "state": {
            "_dom_classes": [],
            "_model_module": "@jupyter-widgets/controls",
            "_model_module_version": "1.5.0",
            "_model_name": "HTMLModel",
            "_view_count": null,
            "_view_module": "@jupyter-widgets/controls",
            "_view_module_version": "1.5.0",
            "_view_name": "HTMLView",
            "description": "",
            "description_tooltip": null,
            "layout": "IPY_MODEL_659bd69dbea44115a8ec171a106c7d33",
            "placeholder": "​",
            "style": "IPY_MODEL_66a63d2afdcf4cbcbf7dcfde13939de1",
            "value": "100%"
          }
        },
        "76ab6c9888aa457cabd1e831aeaa763c": {
          "model_module": "@jupyter-widgets/controls",
          "model_name": "FloatProgressModel",
          "model_module_version": "1.5.0",
          "state": {
            "_dom_classes": [],
            "_model_module": "@jupyter-widgets/controls",
            "_model_module_version": "1.5.0",
            "_model_name": "FloatProgressModel",
            "_view_count": null,
            "_view_module": "@jupyter-widgets/controls",
            "_view_module_version": "1.5.0",
            "_view_name": "ProgressView",
            "bar_style": "success",
            "description": "",
            "description_tooltip": null,
            "layout": "IPY_MODEL_8e841b4d5169489ba46d4f4e219b8407",
            "max": 1514,
            "min": 0,
            "orientation": "horizontal",
            "style": "IPY_MODEL_1f5f6419b85243b08931b924e18abd4c",
            "value": 1514
          }
        },
        "0c7431aa79934b0985afc102741f8e6d": {
          "model_module": "@jupyter-widgets/controls",
          "model_name": "HTMLModel",
          "model_module_version": "1.5.0",
          "state": {
            "_dom_classes": [],
            "_model_module": "@jupyter-widgets/controls",
            "_model_module_version": "1.5.0",
            "_model_name": "HTMLModel",
            "_view_count": null,
            "_view_module": "@jupyter-widgets/controls",
            "_view_module_version": "1.5.0",
            "_view_name": "HTMLView",
            "description": "",
            "description_tooltip": null,
            "layout": "IPY_MODEL_9766d6d431804755a831f7ac3d1286a5",
            "placeholder": "​",
            "style": "IPY_MODEL_d362693d626d48898438d3eea66c6266",
            "value": " 1514/1514 [00:35&lt;00:00, 42.44it/s]"
          }
        },
        "4b50481ec20d4c9988457a14c0176a52": {
          "model_module": "@jupyter-widgets/base",
          "model_name": "LayoutModel",
          "model_module_version": "1.2.0",
          "state": {
            "_model_module": "@jupyter-widgets/base",
            "_model_module_version": "1.2.0",
            "_model_name": "LayoutModel",
            "_view_count": null,
            "_view_module": "@jupyter-widgets/base",
            "_view_module_version": "1.2.0",
            "_view_name": "LayoutView",
            "align_content": null,
            "align_items": null,
            "align_self": null,
            "border": null,
            "bottom": null,
            "display": null,
            "flex": null,
            "flex_flow": null,
            "grid_area": null,
            "grid_auto_columns": null,
            "grid_auto_flow": null,
            "grid_auto_rows": null,
            "grid_column": null,
            "grid_gap": null,
            "grid_row": null,
            "grid_template_areas": null,
            "grid_template_columns": null,
            "grid_template_rows": null,
            "height": null,
            "justify_content": null,
            "justify_items": null,
            "left": null,
            "margin": null,
            "max_height": null,
            "max_width": null,
            "min_height": null,
            "min_width": null,
            "object_fit": null,
            "object_position": null,
            "order": null,
            "overflow": null,
            "overflow_x": null,
            "overflow_y": null,
            "padding": null,
            "right": null,
            "top": null,
            "visibility": null,
            "width": null
          }
        },
        "659bd69dbea44115a8ec171a106c7d33": {
          "model_module": "@jupyter-widgets/base",
          "model_name": "LayoutModel",
          "model_module_version": "1.2.0",
          "state": {
            "_model_module": "@jupyter-widgets/base",
            "_model_module_version": "1.2.0",
            "_model_name": "LayoutModel",
            "_view_count": null,
            "_view_module": "@jupyter-widgets/base",
            "_view_module_version": "1.2.0",
            "_view_name": "LayoutView",
            "align_content": null,
            "align_items": null,
            "align_self": null,
            "border": null,
            "bottom": null,
            "display": null,
            "flex": null,
            "flex_flow": null,
            "grid_area": null,
            "grid_auto_columns": null,
            "grid_auto_flow": null,
            "grid_auto_rows": null,
            "grid_column": null,
            "grid_gap": null,
            "grid_row": null,
            "grid_template_areas": null,
            "grid_template_columns": null,
            "grid_template_rows": null,
            "height": null,
            "justify_content": null,
            "justify_items": null,
            "left": null,
            "margin": null,
            "max_height": null,
            "max_width": null,
            "min_height": null,
            "min_width": null,
            "object_fit": null,
            "object_position": null,
            "order": null,
            "overflow": null,
            "overflow_x": null,
            "overflow_y": null,
            "padding": null,
            "right": null,
            "top": null,
            "visibility": null,
            "width": null
          }
        },
        "66a63d2afdcf4cbcbf7dcfde13939de1": {
          "model_module": "@jupyter-widgets/controls",
          "model_name": "DescriptionStyleModel",
          "model_module_version": "1.5.0",
          "state": {
            "_model_module": "@jupyter-widgets/controls",
            "_model_module_version": "1.5.0",
            "_model_name": "DescriptionStyleModel",
            "_view_count": null,
            "_view_module": "@jupyter-widgets/base",
            "_view_module_version": "1.2.0",
            "_view_name": "StyleView",
            "description_width": ""
          }
        },
        "8e841b4d5169489ba46d4f4e219b8407": {
          "model_module": "@jupyter-widgets/base",
          "model_name": "LayoutModel",
          "model_module_version": "1.2.0",
          "state": {
            "_model_module": "@jupyter-widgets/base",
            "_model_module_version": "1.2.0",
            "_model_name": "LayoutModel",
            "_view_count": null,
            "_view_module": "@jupyter-widgets/base",
            "_view_module_version": "1.2.0",
            "_view_name": "LayoutView",
            "align_content": null,
            "align_items": null,
            "align_self": null,
            "border": null,
            "bottom": null,
            "display": null,
            "flex": null,
            "flex_flow": null,
            "grid_area": null,
            "grid_auto_columns": null,
            "grid_auto_flow": null,
            "grid_auto_rows": null,
            "grid_column": null,
            "grid_gap": null,
            "grid_row": null,
            "grid_template_areas": null,
            "grid_template_columns": null,
            "grid_template_rows": null,
            "height": null,
            "justify_content": null,
            "justify_items": null,
            "left": null,
            "margin": null,
            "max_height": null,
            "max_width": null,
            "min_height": null,
            "min_width": null,
            "object_fit": null,
            "object_position": null,
            "order": null,
            "overflow": null,
            "overflow_x": null,
            "overflow_y": null,
            "padding": null,
            "right": null,
            "top": null,
            "visibility": null,
            "width": null
          }
        },
        "1f5f6419b85243b08931b924e18abd4c": {
          "model_module": "@jupyter-widgets/controls",
          "model_name": "ProgressStyleModel",
          "model_module_version": "1.5.0",
          "state": {
            "_model_module": "@jupyter-widgets/controls",
            "_model_module_version": "1.5.0",
            "_model_name": "ProgressStyleModel",
            "_view_count": null,
            "_view_module": "@jupyter-widgets/base",
            "_view_module_version": "1.2.0",
            "_view_name": "StyleView",
            "bar_color": null,
            "description_width": ""
          }
        },
        "9766d6d431804755a831f7ac3d1286a5": {
          "model_module": "@jupyter-widgets/base",
          "model_name": "LayoutModel",
          "model_module_version": "1.2.0",
          "state": {
            "_model_module": "@jupyter-widgets/base",
            "_model_module_version": "1.2.0",
            "_model_name": "LayoutModel",
            "_view_count": null,
            "_view_module": "@jupyter-widgets/base",
            "_view_module_version": "1.2.0",
            "_view_name": "LayoutView",
            "align_content": null,
            "align_items": null,
            "align_self": null,
            "border": null,
            "bottom": null,
            "display": null,
            "flex": null,
            "flex_flow": null,
            "grid_area": null,
            "grid_auto_columns": null,
            "grid_auto_flow": null,
            "grid_auto_rows": null,
            "grid_column": null,
            "grid_gap": null,
            "grid_row": null,
            "grid_template_areas": null,
            "grid_template_columns": null,
            "grid_template_rows": null,
            "height": null,
            "justify_content": null,
            "justify_items": null,
            "left": null,
            "margin": null,
            "max_height": null,
            "max_width": null,
            "min_height": null,
            "min_width": null,
            "object_fit": null,
            "object_position": null,
            "order": null,
            "overflow": null,
            "overflow_x": null,
            "overflow_y": null,
            "padding": null,
            "right": null,
            "top": null,
            "visibility": null,
            "width": null
          }
        },
        "d362693d626d48898438d3eea66c6266": {
          "model_module": "@jupyter-widgets/controls",
          "model_name": "DescriptionStyleModel",
          "model_module_version": "1.5.0",
          "state": {
            "_model_module": "@jupyter-widgets/controls",
            "_model_module_version": "1.5.0",
            "_model_name": "DescriptionStyleModel",
            "_view_count": null,
            "_view_module": "@jupyter-widgets/base",
            "_view_module_version": "1.2.0",
            "_view_name": "StyleView",
            "description_width": ""
          }
        },
        "34505e59a55946e383f7dee701f6e530": {
          "model_module": "@jupyter-widgets/controls",
          "model_name": "HBoxModel",
          "model_module_version": "1.5.0",
          "state": {
            "_dom_classes": [],
            "_model_module": "@jupyter-widgets/controls",
            "_model_module_version": "1.5.0",
            "_model_name": "HBoxModel",
            "_view_count": null,
            "_view_module": "@jupyter-widgets/controls",
            "_view_module_version": "1.5.0",
            "_view_name": "HBoxView",
            "box_style": "",
            "children": [
              "IPY_MODEL_3f45bef518f14ea7bf69b709fd59e960",
              "IPY_MODEL_84d3f339435841d3a34807125c1ba0a1",
              "IPY_MODEL_a7d08b44c9ad43a19a1b4b423bcdbd19"
            ],
            "layout": "IPY_MODEL_32c74b4080774f649a2a457dd77f0d93"
          }
        },
        "3f45bef518f14ea7bf69b709fd59e960": {
          "model_module": "@jupyter-widgets/controls",
          "model_name": "HTMLModel",
          "model_module_version": "1.5.0",
          "state": {
            "_dom_classes": [],
            "_model_module": "@jupyter-widgets/controls",
            "_model_module_version": "1.5.0",
            "_model_name": "HTMLModel",
            "_view_count": null,
            "_view_module": "@jupyter-widgets/controls",
            "_view_module_version": "1.5.0",
            "_view_name": "HTMLView",
            "description": "",
            "description_tooltip": null,
            "layout": "IPY_MODEL_e2cc0ead545d436ebe25ec496457cd76",
            "placeholder": "​",
            "style": "IPY_MODEL_f3f90236f51f4cd396125b28d1734387",
            "value": "100%"
          }
        },
        "84d3f339435841d3a34807125c1ba0a1": {
          "model_module": "@jupyter-widgets/controls",
          "model_name": "FloatProgressModel",
          "model_module_version": "1.5.0",
          "state": {
            "_dom_classes": [],
            "_model_module": "@jupyter-widgets/controls",
            "_model_module_version": "1.5.0",
            "_model_name": "FloatProgressModel",
            "_view_count": null,
            "_view_module": "@jupyter-widgets/controls",
            "_view_module_version": "1.5.0",
            "_view_name": "ProgressView",
            "bar_style": "success",
            "description": "",
            "description_tooltip": null,
            "layout": "IPY_MODEL_288b7332338a427e85040fff96ec1a48",
            "max": 1279,
            "min": 0,
            "orientation": "horizontal",
            "style": "IPY_MODEL_3503391d0c1d45cc9e166f75c543997e",
            "value": 1279
          }
        },
        "a7d08b44c9ad43a19a1b4b423bcdbd19": {
          "model_module": "@jupyter-widgets/controls",
          "model_name": "HTMLModel",
          "model_module_version": "1.5.0",
          "state": {
            "_dom_classes": [],
            "_model_module": "@jupyter-widgets/controls",
            "_model_module_version": "1.5.0",
            "_model_name": "HTMLModel",
            "_view_count": null,
            "_view_module": "@jupyter-widgets/controls",
            "_view_module_version": "1.5.0",
            "_view_name": "HTMLView",
            "description": "",
            "description_tooltip": null,
            "layout": "IPY_MODEL_e11c5687d8de47ffaed743a8d30e0510",
            "placeholder": "​",
            "style": "IPY_MODEL_fb29bc00a5ad4b51a032222956224c33",
            "value": " 1279/1279 [00:31&lt;00:00, 40.76it/s]"
          }
        },
        "32c74b4080774f649a2a457dd77f0d93": {
          "model_module": "@jupyter-widgets/base",
          "model_name": "LayoutModel",
          "model_module_version": "1.2.0",
          "state": {
            "_model_module": "@jupyter-widgets/base",
            "_model_module_version": "1.2.0",
            "_model_name": "LayoutModel",
            "_view_count": null,
            "_view_module": "@jupyter-widgets/base",
            "_view_module_version": "1.2.0",
            "_view_name": "LayoutView",
            "align_content": null,
            "align_items": null,
            "align_self": null,
            "border": null,
            "bottom": null,
            "display": null,
            "flex": null,
            "flex_flow": null,
            "grid_area": null,
            "grid_auto_columns": null,
            "grid_auto_flow": null,
            "grid_auto_rows": null,
            "grid_column": null,
            "grid_gap": null,
            "grid_row": null,
            "grid_template_areas": null,
            "grid_template_columns": null,
            "grid_template_rows": null,
            "height": null,
            "justify_content": null,
            "justify_items": null,
            "left": null,
            "margin": null,
            "max_height": null,
            "max_width": null,
            "min_height": null,
            "min_width": null,
            "object_fit": null,
            "object_position": null,
            "order": null,
            "overflow": null,
            "overflow_x": null,
            "overflow_y": null,
            "padding": null,
            "right": null,
            "top": null,
            "visibility": null,
            "width": null
          }
        },
        "e2cc0ead545d436ebe25ec496457cd76": {
          "model_module": "@jupyter-widgets/base",
          "model_name": "LayoutModel",
          "model_module_version": "1.2.0",
          "state": {
            "_model_module": "@jupyter-widgets/base",
            "_model_module_version": "1.2.0",
            "_model_name": "LayoutModel",
            "_view_count": null,
            "_view_module": "@jupyter-widgets/base",
            "_view_module_version": "1.2.0",
            "_view_name": "LayoutView",
            "align_content": null,
            "align_items": null,
            "align_self": null,
            "border": null,
            "bottom": null,
            "display": null,
            "flex": null,
            "flex_flow": null,
            "grid_area": null,
            "grid_auto_columns": null,
            "grid_auto_flow": null,
            "grid_auto_rows": null,
            "grid_column": null,
            "grid_gap": null,
            "grid_row": null,
            "grid_template_areas": null,
            "grid_template_columns": null,
            "grid_template_rows": null,
            "height": null,
            "justify_content": null,
            "justify_items": null,
            "left": null,
            "margin": null,
            "max_height": null,
            "max_width": null,
            "min_height": null,
            "min_width": null,
            "object_fit": null,
            "object_position": null,
            "order": null,
            "overflow": null,
            "overflow_x": null,
            "overflow_y": null,
            "padding": null,
            "right": null,
            "top": null,
            "visibility": null,
            "width": null
          }
        },
        "f3f90236f51f4cd396125b28d1734387": {
          "model_module": "@jupyter-widgets/controls",
          "model_name": "DescriptionStyleModel",
          "model_module_version": "1.5.0",
          "state": {
            "_model_module": "@jupyter-widgets/controls",
            "_model_module_version": "1.5.0",
            "_model_name": "DescriptionStyleModel",
            "_view_count": null,
            "_view_module": "@jupyter-widgets/base",
            "_view_module_version": "1.2.0",
            "_view_name": "StyleView",
            "description_width": ""
          }
        },
        "288b7332338a427e85040fff96ec1a48": {
          "model_module": "@jupyter-widgets/base",
          "model_name": "LayoutModel",
          "model_module_version": "1.2.0",
          "state": {
            "_model_module": "@jupyter-widgets/base",
            "_model_module_version": "1.2.0",
            "_model_name": "LayoutModel",
            "_view_count": null,
            "_view_module": "@jupyter-widgets/base",
            "_view_module_version": "1.2.0",
            "_view_name": "LayoutView",
            "align_content": null,
            "align_items": null,
            "align_self": null,
            "border": null,
            "bottom": null,
            "display": null,
            "flex": null,
            "flex_flow": null,
            "grid_area": null,
            "grid_auto_columns": null,
            "grid_auto_flow": null,
            "grid_auto_rows": null,
            "grid_column": null,
            "grid_gap": null,
            "grid_row": null,
            "grid_template_areas": null,
            "grid_template_columns": null,
            "grid_template_rows": null,
            "height": null,
            "justify_content": null,
            "justify_items": null,
            "left": null,
            "margin": null,
            "max_height": null,
            "max_width": null,
            "min_height": null,
            "min_width": null,
            "object_fit": null,
            "object_position": null,
            "order": null,
            "overflow": null,
            "overflow_x": null,
            "overflow_y": null,
            "padding": null,
            "right": null,
            "top": null,
            "visibility": null,
            "width": null
          }
        },
        "3503391d0c1d45cc9e166f75c543997e": {
          "model_module": "@jupyter-widgets/controls",
          "model_name": "ProgressStyleModel",
          "model_module_version": "1.5.0",
          "state": {
            "_model_module": "@jupyter-widgets/controls",
            "_model_module_version": "1.5.0",
            "_model_name": "ProgressStyleModel",
            "_view_count": null,
            "_view_module": "@jupyter-widgets/base",
            "_view_module_version": "1.2.0",
            "_view_name": "StyleView",
            "bar_color": null,
            "description_width": ""
          }
        },
        "e11c5687d8de47ffaed743a8d30e0510": {
          "model_module": "@jupyter-widgets/base",
          "model_name": "LayoutModel",
          "model_module_version": "1.2.0",
          "state": {
            "_model_module": "@jupyter-widgets/base",
            "_model_module_version": "1.2.0",
            "_model_name": "LayoutModel",
            "_view_count": null,
            "_view_module": "@jupyter-widgets/base",
            "_view_module_version": "1.2.0",
            "_view_name": "LayoutView",
            "align_content": null,
            "align_items": null,
            "align_self": null,
            "border": null,
            "bottom": null,
            "display": null,
            "flex": null,
            "flex_flow": null,
            "grid_area": null,
            "grid_auto_columns": null,
            "grid_auto_flow": null,
            "grid_auto_rows": null,
            "grid_column": null,
            "grid_gap": null,
            "grid_row": null,
            "grid_template_areas": null,
            "grid_template_columns": null,
            "grid_template_rows": null,
            "height": null,
            "justify_content": null,
            "justify_items": null,
            "left": null,
            "margin": null,
            "max_height": null,
            "max_width": null,
            "min_height": null,
            "min_width": null,
            "object_fit": null,
            "object_position": null,
            "order": null,
            "overflow": null,
            "overflow_x": null,
            "overflow_y": null,
            "padding": null,
            "right": null,
            "top": null,
            "visibility": null,
            "width": null
          }
        },
        "fb29bc00a5ad4b51a032222956224c33": {
          "model_module": "@jupyter-widgets/controls",
          "model_name": "DescriptionStyleModel",
          "model_module_version": "1.5.0",
          "state": {
            "_model_module": "@jupyter-widgets/controls",
            "_model_module_version": "1.5.0",
            "_model_name": "DescriptionStyleModel",
            "_view_count": null,
            "_view_module": "@jupyter-widgets/base",
            "_view_module_version": "1.2.0",
            "_view_name": "StyleView",
            "description_width": ""
          }
        },
        "1941d350b9614c2299d93bedf864e393": {
          "model_module": "@jupyter-widgets/controls",
          "model_name": "HBoxModel",
          "model_module_version": "1.5.0",
          "state": {
            "_dom_classes": [],
            "_model_module": "@jupyter-widgets/controls",
            "_model_module_version": "1.5.0",
            "_model_name": "HBoxModel",
            "_view_count": null,
            "_view_module": "@jupyter-widgets/controls",
            "_view_module_version": "1.5.0",
            "_view_name": "HBoxView",
            "box_style": "",
            "children": [
              "IPY_MODEL_6acdc381631c4d9b884dff47e59ad5fb",
              "IPY_MODEL_1d8d8779466e444fa3ed4f0d39e29b8d",
              "IPY_MODEL_7827305d48af4460bc1c2a7bb6b2d4b9"
            ],
            "layout": "IPY_MODEL_3f192586e7d749c6be23ce84fdd25ff9"
          }
        },
        "6acdc381631c4d9b884dff47e59ad5fb": {
          "model_module": "@jupyter-widgets/controls",
          "model_name": "HTMLModel",
          "model_module_version": "1.5.0",
          "state": {
            "_dom_classes": [],
            "_model_module": "@jupyter-widgets/controls",
            "_model_module_version": "1.5.0",
            "_model_name": "HTMLModel",
            "_view_count": null,
            "_view_module": "@jupyter-widgets/controls",
            "_view_module_version": "1.5.0",
            "_view_name": "HTMLView",
            "description": "",
            "description_tooltip": null,
            "layout": "IPY_MODEL_e25d5a318c104f26a17d30d1539e2fde",
            "placeholder": "​",
            "style": "IPY_MODEL_5089031865aa4fea955cd1766b19bfe5",
            "value": "100%"
          }
        },
        "1d8d8779466e444fa3ed4f0d39e29b8d": {
          "model_module": "@jupyter-widgets/controls",
          "model_name": "FloatProgressModel",
          "model_module_version": "1.5.0",
          "state": {
            "_dom_classes": [],
            "_model_module": "@jupyter-widgets/controls",
            "_model_module_version": "1.5.0",
            "_model_name": "FloatProgressModel",
            "_view_count": null,
            "_view_module": "@jupyter-widgets/controls",
            "_view_module_version": "1.5.0",
            "_view_name": "ProgressView",
            "bar_style": "success",
            "description": "",
            "description_tooltip": null,
            "layout": "IPY_MODEL_a6f9373846e14e8da496cfd26a074647",
            "max": 1514,
            "min": 0,
            "orientation": "horizontal",
            "style": "IPY_MODEL_a894675b988e4e29b4ab1345925c2622",
            "value": 1514
          }
        },
        "7827305d48af4460bc1c2a7bb6b2d4b9": {
          "model_module": "@jupyter-widgets/controls",
          "model_name": "HTMLModel",
          "model_module_version": "1.5.0",
          "state": {
            "_dom_classes": [],
            "_model_module": "@jupyter-widgets/controls",
            "_model_module_version": "1.5.0",
            "_model_name": "HTMLModel",
            "_view_count": null,
            "_view_module": "@jupyter-widgets/controls",
            "_view_module_version": "1.5.0",
            "_view_name": "HTMLView",
            "description": "",
            "description_tooltip": null,
            "layout": "IPY_MODEL_a69649d4c7254669940ce9b9e20e468f",
            "placeholder": "​",
            "style": "IPY_MODEL_aff4d94e30d74aa682527daade46239d",
            "value": " 1514/1514 [00:36&lt;00:00, 40.68it/s]"
          }
        },
        "3f192586e7d749c6be23ce84fdd25ff9": {
          "model_module": "@jupyter-widgets/base",
          "model_name": "LayoutModel",
          "model_module_version": "1.2.0",
          "state": {
            "_model_module": "@jupyter-widgets/base",
            "_model_module_version": "1.2.0",
            "_model_name": "LayoutModel",
            "_view_count": null,
            "_view_module": "@jupyter-widgets/base",
            "_view_module_version": "1.2.0",
            "_view_name": "LayoutView",
            "align_content": null,
            "align_items": null,
            "align_self": null,
            "border": null,
            "bottom": null,
            "display": null,
            "flex": null,
            "flex_flow": null,
            "grid_area": null,
            "grid_auto_columns": null,
            "grid_auto_flow": null,
            "grid_auto_rows": null,
            "grid_column": null,
            "grid_gap": null,
            "grid_row": null,
            "grid_template_areas": null,
            "grid_template_columns": null,
            "grid_template_rows": null,
            "height": null,
            "justify_content": null,
            "justify_items": null,
            "left": null,
            "margin": null,
            "max_height": null,
            "max_width": null,
            "min_height": null,
            "min_width": null,
            "object_fit": null,
            "object_position": null,
            "order": null,
            "overflow": null,
            "overflow_x": null,
            "overflow_y": null,
            "padding": null,
            "right": null,
            "top": null,
            "visibility": null,
            "width": null
          }
        },
        "e25d5a318c104f26a17d30d1539e2fde": {
          "model_module": "@jupyter-widgets/base",
          "model_name": "LayoutModel",
          "model_module_version": "1.2.0",
          "state": {
            "_model_module": "@jupyter-widgets/base",
            "_model_module_version": "1.2.0",
            "_model_name": "LayoutModel",
            "_view_count": null,
            "_view_module": "@jupyter-widgets/base",
            "_view_module_version": "1.2.0",
            "_view_name": "LayoutView",
            "align_content": null,
            "align_items": null,
            "align_self": null,
            "border": null,
            "bottom": null,
            "display": null,
            "flex": null,
            "flex_flow": null,
            "grid_area": null,
            "grid_auto_columns": null,
            "grid_auto_flow": null,
            "grid_auto_rows": null,
            "grid_column": null,
            "grid_gap": null,
            "grid_row": null,
            "grid_template_areas": null,
            "grid_template_columns": null,
            "grid_template_rows": null,
            "height": null,
            "justify_content": null,
            "justify_items": null,
            "left": null,
            "margin": null,
            "max_height": null,
            "max_width": null,
            "min_height": null,
            "min_width": null,
            "object_fit": null,
            "object_position": null,
            "order": null,
            "overflow": null,
            "overflow_x": null,
            "overflow_y": null,
            "padding": null,
            "right": null,
            "top": null,
            "visibility": null,
            "width": null
          }
        },
        "5089031865aa4fea955cd1766b19bfe5": {
          "model_module": "@jupyter-widgets/controls",
          "model_name": "DescriptionStyleModel",
          "model_module_version": "1.5.0",
          "state": {
            "_model_module": "@jupyter-widgets/controls",
            "_model_module_version": "1.5.0",
            "_model_name": "DescriptionStyleModel",
            "_view_count": null,
            "_view_module": "@jupyter-widgets/base",
            "_view_module_version": "1.2.0",
            "_view_name": "StyleView",
            "description_width": ""
          }
        },
        "a6f9373846e14e8da496cfd26a074647": {
          "model_module": "@jupyter-widgets/base",
          "model_name": "LayoutModel",
          "model_module_version": "1.2.0",
          "state": {
            "_model_module": "@jupyter-widgets/base",
            "_model_module_version": "1.2.0",
            "_model_name": "LayoutModel",
            "_view_count": null,
            "_view_module": "@jupyter-widgets/base",
            "_view_module_version": "1.2.0",
            "_view_name": "LayoutView",
            "align_content": null,
            "align_items": null,
            "align_self": null,
            "border": null,
            "bottom": null,
            "display": null,
            "flex": null,
            "flex_flow": null,
            "grid_area": null,
            "grid_auto_columns": null,
            "grid_auto_flow": null,
            "grid_auto_rows": null,
            "grid_column": null,
            "grid_gap": null,
            "grid_row": null,
            "grid_template_areas": null,
            "grid_template_columns": null,
            "grid_template_rows": null,
            "height": null,
            "justify_content": null,
            "justify_items": null,
            "left": null,
            "margin": null,
            "max_height": null,
            "max_width": null,
            "min_height": null,
            "min_width": null,
            "object_fit": null,
            "object_position": null,
            "order": null,
            "overflow": null,
            "overflow_x": null,
            "overflow_y": null,
            "padding": null,
            "right": null,
            "top": null,
            "visibility": null,
            "width": null
          }
        },
        "a894675b988e4e29b4ab1345925c2622": {
          "model_module": "@jupyter-widgets/controls",
          "model_name": "ProgressStyleModel",
          "model_module_version": "1.5.0",
          "state": {
            "_model_module": "@jupyter-widgets/controls",
            "_model_module_version": "1.5.0",
            "_model_name": "ProgressStyleModel",
            "_view_count": null,
            "_view_module": "@jupyter-widgets/base",
            "_view_module_version": "1.2.0",
            "_view_name": "StyleView",
            "bar_color": null,
            "description_width": ""
          }
        },
        "a69649d4c7254669940ce9b9e20e468f": {
          "model_module": "@jupyter-widgets/base",
          "model_name": "LayoutModel",
          "model_module_version": "1.2.0",
          "state": {
            "_model_module": "@jupyter-widgets/base",
            "_model_module_version": "1.2.0",
            "_model_name": "LayoutModel",
            "_view_count": null,
            "_view_module": "@jupyter-widgets/base",
            "_view_module_version": "1.2.0",
            "_view_name": "LayoutView",
            "align_content": null,
            "align_items": null,
            "align_self": null,
            "border": null,
            "bottom": null,
            "display": null,
            "flex": null,
            "flex_flow": null,
            "grid_area": null,
            "grid_auto_columns": null,
            "grid_auto_flow": null,
            "grid_auto_rows": null,
            "grid_column": null,
            "grid_gap": null,
            "grid_row": null,
            "grid_template_areas": null,
            "grid_template_columns": null,
            "grid_template_rows": null,
            "height": null,
            "justify_content": null,
            "justify_items": null,
            "left": null,
            "margin": null,
            "max_height": null,
            "max_width": null,
            "min_height": null,
            "min_width": null,
            "object_fit": null,
            "object_position": null,
            "order": null,
            "overflow": null,
            "overflow_x": null,
            "overflow_y": null,
            "padding": null,
            "right": null,
            "top": null,
            "visibility": null,
            "width": null
          }
        },
        "aff4d94e30d74aa682527daade46239d": {
          "model_module": "@jupyter-widgets/controls",
          "model_name": "DescriptionStyleModel",
          "model_module_version": "1.5.0",
          "state": {
            "_model_module": "@jupyter-widgets/controls",
            "_model_module_version": "1.5.0",
            "_model_name": "DescriptionStyleModel",
            "_view_count": null,
            "_view_module": "@jupyter-widgets/base",
            "_view_module_version": "1.2.0",
            "_view_name": "StyleView",
            "description_width": ""
          }
        },
        "9e8b43bb1cc7452cac2ae343ea753a8c": {
          "model_module": "@jupyter-widgets/controls",
          "model_name": "HBoxModel",
          "model_module_version": "1.5.0",
          "state": {
            "_dom_classes": [],
            "_model_module": "@jupyter-widgets/controls",
            "_model_module_version": "1.5.0",
            "_model_name": "HBoxModel",
            "_view_count": null,
            "_view_module": "@jupyter-widgets/controls",
            "_view_module_version": "1.5.0",
            "_view_name": "HBoxView",
            "box_style": "",
            "children": [
              "IPY_MODEL_1c14b393a46347f49b10522028da5da4",
              "IPY_MODEL_85b99f0476944dd08e094f5ca224383c",
              "IPY_MODEL_03c55a2809694cc8a2c220ed97d6772a"
            ],
            "layout": "IPY_MODEL_bfc5ec1f4aaf4fb9a99fa501b41696b5"
          }
        },
        "1c14b393a46347f49b10522028da5da4": {
          "model_module": "@jupyter-widgets/controls",
          "model_name": "HTMLModel",
          "model_module_version": "1.5.0",
          "state": {
            "_dom_classes": [],
            "_model_module": "@jupyter-widgets/controls",
            "_model_module_version": "1.5.0",
            "_model_name": "HTMLModel",
            "_view_count": null,
            "_view_module": "@jupyter-widgets/controls",
            "_view_module_version": "1.5.0",
            "_view_name": "HTMLView",
            "description": "",
            "description_tooltip": null,
            "layout": "IPY_MODEL_754bf986e83c44719d5fa3a507aa39ab",
            "placeholder": "​",
            "style": "IPY_MODEL_4f632b28269e4407b902c7ad0a78bfb6",
            "value": "100%"
          }
        },
        "85b99f0476944dd08e094f5ca224383c": {
          "model_module": "@jupyter-widgets/controls",
          "model_name": "FloatProgressModel",
          "model_module_version": "1.5.0",
          "state": {
            "_dom_classes": [],
            "_model_module": "@jupyter-widgets/controls",
            "_model_module_version": "1.5.0",
            "_model_name": "FloatProgressModel",
            "_view_count": null,
            "_view_module": "@jupyter-widgets/controls",
            "_view_module_version": "1.5.0",
            "_view_name": "ProgressView",
            "bar_style": "success",
            "description": "",
            "description_tooltip": null,
            "layout": "IPY_MODEL_7f898138ed3542cfa49ef3aa8622f96e",
            "max": 1279,
            "min": 0,
            "orientation": "horizontal",
            "style": "IPY_MODEL_0a2f4c9cc11d44269e6cbd0656cf21d1",
            "value": 1279
          }
        },
        "03c55a2809694cc8a2c220ed97d6772a": {
          "model_module": "@jupyter-widgets/controls",
          "model_name": "HTMLModel",
          "model_module_version": "1.5.0",
          "state": {
            "_dom_classes": [],
            "_model_module": "@jupyter-widgets/controls",
            "_model_module_version": "1.5.0",
            "_model_name": "HTMLModel",
            "_view_count": null,
            "_view_module": "@jupyter-widgets/controls",
            "_view_module_version": "1.5.0",
            "_view_name": "HTMLView",
            "description": "",
            "description_tooltip": null,
            "layout": "IPY_MODEL_8b49bc4d19ee421a8c6aa29ff6e76b16",
            "placeholder": "​",
            "style": "IPY_MODEL_623cc2424c0547b981de8b3538360eae",
            "value": " 1279/1279 [01:27&lt;00:00, 14.43it/s]"
          }
        },
        "bfc5ec1f4aaf4fb9a99fa501b41696b5": {
          "model_module": "@jupyter-widgets/base",
          "model_name": "LayoutModel",
          "model_module_version": "1.2.0",
          "state": {
            "_model_module": "@jupyter-widgets/base",
            "_model_module_version": "1.2.0",
            "_model_name": "LayoutModel",
            "_view_count": null,
            "_view_module": "@jupyter-widgets/base",
            "_view_module_version": "1.2.0",
            "_view_name": "LayoutView",
            "align_content": null,
            "align_items": null,
            "align_self": null,
            "border": null,
            "bottom": null,
            "display": null,
            "flex": null,
            "flex_flow": null,
            "grid_area": null,
            "grid_auto_columns": null,
            "grid_auto_flow": null,
            "grid_auto_rows": null,
            "grid_column": null,
            "grid_gap": null,
            "grid_row": null,
            "grid_template_areas": null,
            "grid_template_columns": null,
            "grid_template_rows": null,
            "height": null,
            "justify_content": null,
            "justify_items": null,
            "left": null,
            "margin": null,
            "max_height": null,
            "max_width": null,
            "min_height": null,
            "min_width": null,
            "object_fit": null,
            "object_position": null,
            "order": null,
            "overflow": null,
            "overflow_x": null,
            "overflow_y": null,
            "padding": null,
            "right": null,
            "top": null,
            "visibility": null,
            "width": null
          }
        },
        "754bf986e83c44719d5fa3a507aa39ab": {
          "model_module": "@jupyter-widgets/base",
          "model_name": "LayoutModel",
          "model_module_version": "1.2.0",
          "state": {
            "_model_module": "@jupyter-widgets/base",
            "_model_module_version": "1.2.0",
            "_model_name": "LayoutModel",
            "_view_count": null,
            "_view_module": "@jupyter-widgets/base",
            "_view_module_version": "1.2.0",
            "_view_name": "LayoutView",
            "align_content": null,
            "align_items": null,
            "align_self": null,
            "border": null,
            "bottom": null,
            "display": null,
            "flex": null,
            "flex_flow": null,
            "grid_area": null,
            "grid_auto_columns": null,
            "grid_auto_flow": null,
            "grid_auto_rows": null,
            "grid_column": null,
            "grid_gap": null,
            "grid_row": null,
            "grid_template_areas": null,
            "grid_template_columns": null,
            "grid_template_rows": null,
            "height": null,
            "justify_content": null,
            "justify_items": null,
            "left": null,
            "margin": null,
            "max_height": null,
            "max_width": null,
            "min_height": null,
            "min_width": null,
            "object_fit": null,
            "object_position": null,
            "order": null,
            "overflow": null,
            "overflow_x": null,
            "overflow_y": null,
            "padding": null,
            "right": null,
            "top": null,
            "visibility": null,
            "width": null
          }
        },
        "4f632b28269e4407b902c7ad0a78bfb6": {
          "model_module": "@jupyter-widgets/controls",
          "model_name": "DescriptionStyleModel",
          "model_module_version": "1.5.0",
          "state": {
            "_model_module": "@jupyter-widgets/controls",
            "_model_module_version": "1.5.0",
            "_model_name": "DescriptionStyleModel",
            "_view_count": null,
            "_view_module": "@jupyter-widgets/base",
            "_view_module_version": "1.2.0",
            "_view_name": "StyleView",
            "description_width": ""
          }
        },
        "7f898138ed3542cfa49ef3aa8622f96e": {
          "model_module": "@jupyter-widgets/base",
          "model_name": "LayoutModel",
          "model_module_version": "1.2.0",
          "state": {
            "_model_module": "@jupyter-widgets/base",
            "_model_module_version": "1.2.0",
            "_model_name": "LayoutModel",
            "_view_count": null,
            "_view_module": "@jupyter-widgets/base",
            "_view_module_version": "1.2.0",
            "_view_name": "LayoutView",
            "align_content": null,
            "align_items": null,
            "align_self": null,
            "border": null,
            "bottom": null,
            "display": null,
            "flex": null,
            "flex_flow": null,
            "grid_area": null,
            "grid_auto_columns": null,
            "grid_auto_flow": null,
            "grid_auto_rows": null,
            "grid_column": null,
            "grid_gap": null,
            "grid_row": null,
            "grid_template_areas": null,
            "grid_template_columns": null,
            "grid_template_rows": null,
            "height": null,
            "justify_content": null,
            "justify_items": null,
            "left": null,
            "margin": null,
            "max_height": null,
            "max_width": null,
            "min_height": null,
            "min_width": null,
            "object_fit": null,
            "object_position": null,
            "order": null,
            "overflow": null,
            "overflow_x": null,
            "overflow_y": null,
            "padding": null,
            "right": null,
            "top": null,
            "visibility": null,
            "width": null
          }
        },
        "0a2f4c9cc11d44269e6cbd0656cf21d1": {
          "model_module": "@jupyter-widgets/controls",
          "model_name": "ProgressStyleModel",
          "model_module_version": "1.5.0",
          "state": {
            "_model_module": "@jupyter-widgets/controls",
            "_model_module_version": "1.5.0",
            "_model_name": "ProgressStyleModel",
            "_view_count": null,
            "_view_module": "@jupyter-widgets/base",
            "_view_module_version": "1.2.0",
            "_view_name": "StyleView",
            "bar_color": null,
            "description_width": ""
          }
        },
        "8b49bc4d19ee421a8c6aa29ff6e76b16": {
          "model_module": "@jupyter-widgets/base",
          "model_name": "LayoutModel",
          "model_module_version": "1.2.0",
          "state": {
            "_model_module": "@jupyter-widgets/base",
            "_model_module_version": "1.2.0",
            "_model_name": "LayoutModel",
            "_view_count": null,
            "_view_module": "@jupyter-widgets/base",
            "_view_module_version": "1.2.0",
            "_view_name": "LayoutView",
            "align_content": null,
            "align_items": null,
            "align_self": null,
            "border": null,
            "bottom": null,
            "display": null,
            "flex": null,
            "flex_flow": null,
            "grid_area": null,
            "grid_auto_columns": null,
            "grid_auto_flow": null,
            "grid_auto_rows": null,
            "grid_column": null,
            "grid_gap": null,
            "grid_row": null,
            "grid_template_areas": null,
            "grid_template_columns": null,
            "grid_template_rows": null,
            "height": null,
            "justify_content": null,
            "justify_items": null,
            "left": null,
            "margin": null,
            "max_height": null,
            "max_width": null,
            "min_height": null,
            "min_width": null,
            "object_fit": null,
            "object_position": null,
            "order": null,
            "overflow": null,
            "overflow_x": null,
            "overflow_y": null,
            "padding": null,
            "right": null,
            "top": null,
            "visibility": null,
            "width": null
          }
        },
        "623cc2424c0547b981de8b3538360eae": {
          "model_module": "@jupyter-widgets/controls",
          "model_name": "DescriptionStyleModel",
          "model_module_version": "1.5.0",
          "state": {
            "_model_module": "@jupyter-widgets/controls",
            "_model_module_version": "1.5.0",
            "_model_name": "DescriptionStyleModel",
            "_view_count": null,
            "_view_module": "@jupyter-widgets/base",
            "_view_module_version": "1.2.0",
            "_view_name": "StyleView",
            "description_width": ""
          }
        },
        "11d040f4680943fe8009c8e07fe4f88e": {
          "model_module": "@jupyter-widgets/controls",
          "model_name": "HBoxModel",
          "model_module_version": "1.5.0",
          "state": {
            "_dom_classes": [],
            "_model_module": "@jupyter-widgets/controls",
            "_model_module_version": "1.5.0",
            "_model_name": "HBoxModel",
            "_view_count": null,
            "_view_module": "@jupyter-widgets/controls",
            "_view_module_version": "1.5.0",
            "_view_name": "HBoxView",
            "box_style": "",
            "children": [
              "IPY_MODEL_1be18f1568c94b30a4a0d3aa1e9ee06d",
              "IPY_MODEL_873441b0c12440398277f15e2300beea",
              "IPY_MODEL_7ae594f89c5e4c70a81223e9cd54b8a6"
            ],
            "layout": "IPY_MODEL_e072ba0011d94328a27bda87e4711c79"
          }
        },
        "1be18f1568c94b30a4a0d3aa1e9ee06d": {
          "model_module": "@jupyter-widgets/controls",
          "model_name": "HTMLModel",
          "model_module_version": "1.5.0",
          "state": {
            "_dom_classes": [],
            "_model_module": "@jupyter-widgets/controls",
            "_model_module_version": "1.5.0",
            "_model_name": "HTMLModel",
            "_view_count": null,
            "_view_module": "@jupyter-widgets/controls",
            "_view_module_version": "1.5.0",
            "_view_name": "HTMLView",
            "description": "",
            "description_tooltip": null,
            "layout": "IPY_MODEL_98baaf283dbd443cb8db332dedbba9f2",
            "placeholder": "​",
            "style": "IPY_MODEL_0759cd6252e44d95837565e213c4ffba",
            "value": "100%"
          }
        },
        "873441b0c12440398277f15e2300beea": {
          "model_module": "@jupyter-widgets/controls",
          "model_name": "FloatProgressModel",
          "model_module_version": "1.5.0",
          "state": {
            "_dom_classes": [],
            "_model_module": "@jupyter-widgets/controls",
            "_model_module_version": "1.5.0",
            "_model_name": "FloatProgressModel",
            "_view_count": null,
            "_view_module": "@jupyter-widgets/controls",
            "_view_module_version": "1.5.0",
            "_view_name": "ProgressView",
            "bar_style": "success",
            "description": "",
            "description_tooltip": null,
            "layout": "IPY_MODEL_a8ce75802153453eb6cf3b4bbd1061a8",
            "max": 1514,
            "min": 0,
            "orientation": "horizontal",
            "style": "IPY_MODEL_4b112db1dafa4ea296b608081aff8440",
            "value": 1514
          }
        },
        "7ae594f89c5e4c70a81223e9cd54b8a6": {
          "model_module": "@jupyter-widgets/controls",
          "model_name": "HTMLModel",
          "model_module_version": "1.5.0",
          "state": {
            "_dom_classes": [],
            "_model_module": "@jupyter-widgets/controls",
            "_model_module_version": "1.5.0",
            "_model_name": "HTMLModel",
            "_view_count": null,
            "_view_module": "@jupyter-widgets/controls",
            "_view_module_version": "1.5.0",
            "_view_name": "HTMLView",
            "description": "",
            "description_tooltip": null,
            "layout": "IPY_MODEL_e60099c515b14e0786c36411acc75dd4",
            "placeholder": "​",
            "style": "IPY_MODEL_eacb95765a6e444c8ba1e5a533d2111c",
            "value": " 1514/1514 [01:49&lt;00:00, 13.75it/s]"
          }
        },
        "e072ba0011d94328a27bda87e4711c79": {
          "model_module": "@jupyter-widgets/base",
          "model_name": "LayoutModel",
          "model_module_version": "1.2.0",
          "state": {
            "_model_module": "@jupyter-widgets/base",
            "_model_module_version": "1.2.0",
            "_model_name": "LayoutModel",
            "_view_count": null,
            "_view_module": "@jupyter-widgets/base",
            "_view_module_version": "1.2.0",
            "_view_name": "LayoutView",
            "align_content": null,
            "align_items": null,
            "align_self": null,
            "border": null,
            "bottom": null,
            "display": null,
            "flex": null,
            "flex_flow": null,
            "grid_area": null,
            "grid_auto_columns": null,
            "grid_auto_flow": null,
            "grid_auto_rows": null,
            "grid_column": null,
            "grid_gap": null,
            "grid_row": null,
            "grid_template_areas": null,
            "grid_template_columns": null,
            "grid_template_rows": null,
            "height": null,
            "justify_content": null,
            "justify_items": null,
            "left": null,
            "margin": null,
            "max_height": null,
            "max_width": null,
            "min_height": null,
            "min_width": null,
            "object_fit": null,
            "object_position": null,
            "order": null,
            "overflow": null,
            "overflow_x": null,
            "overflow_y": null,
            "padding": null,
            "right": null,
            "top": null,
            "visibility": null,
            "width": null
          }
        },
        "98baaf283dbd443cb8db332dedbba9f2": {
          "model_module": "@jupyter-widgets/base",
          "model_name": "LayoutModel",
          "model_module_version": "1.2.0",
          "state": {
            "_model_module": "@jupyter-widgets/base",
            "_model_module_version": "1.2.0",
            "_model_name": "LayoutModel",
            "_view_count": null,
            "_view_module": "@jupyter-widgets/base",
            "_view_module_version": "1.2.0",
            "_view_name": "LayoutView",
            "align_content": null,
            "align_items": null,
            "align_self": null,
            "border": null,
            "bottom": null,
            "display": null,
            "flex": null,
            "flex_flow": null,
            "grid_area": null,
            "grid_auto_columns": null,
            "grid_auto_flow": null,
            "grid_auto_rows": null,
            "grid_column": null,
            "grid_gap": null,
            "grid_row": null,
            "grid_template_areas": null,
            "grid_template_columns": null,
            "grid_template_rows": null,
            "height": null,
            "justify_content": null,
            "justify_items": null,
            "left": null,
            "margin": null,
            "max_height": null,
            "max_width": null,
            "min_height": null,
            "min_width": null,
            "object_fit": null,
            "object_position": null,
            "order": null,
            "overflow": null,
            "overflow_x": null,
            "overflow_y": null,
            "padding": null,
            "right": null,
            "top": null,
            "visibility": null,
            "width": null
          }
        },
        "0759cd6252e44d95837565e213c4ffba": {
          "model_module": "@jupyter-widgets/controls",
          "model_name": "DescriptionStyleModel",
          "model_module_version": "1.5.0",
          "state": {
            "_model_module": "@jupyter-widgets/controls",
            "_model_module_version": "1.5.0",
            "_model_name": "DescriptionStyleModel",
            "_view_count": null,
            "_view_module": "@jupyter-widgets/base",
            "_view_module_version": "1.2.0",
            "_view_name": "StyleView",
            "description_width": ""
          }
        },
        "a8ce75802153453eb6cf3b4bbd1061a8": {
          "model_module": "@jupyter-widgets/base",
          "model_name": "LayoutModel",
          "model_module_version": "1.2.0",
          "state": {
            "_model_module": "@jupyter-widgets/base",
            "_model_module_version": "1.2.0",
            "_model_name": "LayoutModel",
            "_view_count": null,
            "_view_module": "@jupyter-widgets/base",
            "_view_module_version": "1.2.0",
            "_view_name": "LayoutView",
            "align_content": null,
            "align_items": null,
            "align_self": null,
            "border": null,
            "bottom": null,
            "display": null,
            "flex": null,
            "flex_flow": null,
            "grid_area": null,
            "grid_auto_columns": null,
            "grid_auto_flow": null,
            "grid_auto_rows": null,
            "grid_column": null,
            "grid_gap": null,
            "grid_row": null,
            "grid_template_areas": null,
            "grid_template_columns": null,
            "grid_template_rows": null,
            "height": null,
            "justify_content": null,
            "justify_items": null,
            "left": null,
            "margin": null,
            "max_height": null,
            "max_width": null,
            "min_height": null,
            "min_width": null,
            "object_fit": null,
            "object_position": null,
            "order": null,
            "overflow": null,
            "overflow_x": null,
            "overflow_y": null,
            "padding": null,
            "right": null,
            "top": null,
            "visibility": null,
            "width": null
          }
        },
        "4b112db1dafa4ea296b608081aff8440": {
          "model_module": "@jupyter-widgets/controls",
          "model_name": "ProgressStyleModel",
          "model_module_version": "1.5.0",
          "state": {
            "_model_module": "@jupyter-widgets/controls",
            "_model_module_version": "1.5.0",
            "_model_name": "ProgressStyleModel",
            "_view_count": null,
            "_view_module": "@jupyter-widgets/base",
            "_view_module_version": "1.2.0",
            "_view_name": "StyleView",
            "bar_color": null,
            "description_width": ""
          }
        },
        "e60099c515b14e0786c36411acc75dd4": {
          "model_module": "@jupyter-widgets/base",
          "model_name": "LayoutModel",
          "model_module_version": "1.2.0",
          "state": {
            "_model_module": "@jupyter-widgets/base",
            "_model_module_version": "1.2.0",
            "_model_name": "LayoutModel",
            "_view_count": null,
            "_view_module": "@jupyter-widgets/base",
            "_view_module_version": "1.2.0",
            "_view_name": "LayoutView",
            "align_content": null,
            "align_items": null,
            "align_self": null,
            "border": null,
            "bottom": null,
            "display": null,
            "flex": null,
            "flex_flow": null,
            "grid_area": null,
            "grid_auto_columns": null,
            "grid_auto_flow": null,
            "grid_auto_rows": null,
            "grid_column": null,
            "grid_gap": null,
            "grid_row": null,
            "grid_template_areas": null,
            "grid_template_columns": null,
            "grid_template_rows": null,
            "height": null,
            "justify_content": null,
            "justify_items": null,
            "left": null,
            "margin": null,
            "max_height": null,
            "max_width": null,
            "min_height": null,
            "min_width": null,
            "object_fit": null,
            "object_position": null,
            "order": null,
            "overflow": null,
            "overflow_x": null,
            "overflow_y": null,
            "padding": null,
            "right": null,
            "top": null,
            "visibility": null,
            "width": null
          }
        },
        "eacb95765a6e444c8ba1e5a533d2111c": {
          "model_module": "@jupyter-widgets/controls",
          "model_name": "DescriptionStyleModel",
          "model_module_version": "1.5.0",
          "state": {
            "_model_module": "@jupyter-widgets/controls",
            "_model_module_version": "1.5.0",
            "_model_name": "DescriptionStyleModel",
            "_view_count": null,
            "_view_module": "@jupyter-widgets/base",
            "_view_module_version": "1.2.0",
            "_view_name": "StyleView",
            "description_width": ""
          }
        },
        "443c1d1977ba41a3b579924d7ac5cb38": {
          "model_module": "@jupyter-widgets/controls",
          "model_name": "HBoxModel",
          "model_module_version": "1.5.0",
          "state": {
            "_dom_classes": [],
            "_model_module": "@jupyter-widgets/controls",
            "_model_module_version": "1.5.0",
            "_model_name": "HBoxModel",
            "_view_count": null,
            "_view_module": "@jupyter-widgets/controls",
            "_view_module_version": "1.5.0",
            "_view_name": "HBoxView",
            "box_style": "",
            "children": [
              "IPY_MODEL_5d106a53329645b1b5769880244e6ac9",
              "IPY_MODEL_8c2b51cfaf83417a8b974aa3c74a2dce",
              "IPY_MODEL_1427246818234e56924627f05807ccd2"
            ],
            "layout": "IPY_MODEL_cdd5783bd87046388148715ccaba5183"
          }
        },
        "5d106a53329645b1b5769880244e6ac9": {
          "model_module": "@jupyter-widgets/controls",
          "model_name": "HTMLModel",
          "model_module_version": "1.5.0",
          "state": {
            "_dom_classes": [],
            "_model_module": "@jupyter-widgets/controls",
            "_model_module_version": "1.5.0",
            "_model_name": "HTMLModel",
            "_view_count": null,
            "_view_module": "@jupyter-widgets/controls",
            "_view_module_version": "1.5.0",
            "_view_name": "HTMLView",
            "description": "",
            "description_tooltip": null,
            "layout": "IPY_MODEL_c7434d51152246f5b8827d6ef55ae300",
            "placeholder": "​",
            "style": "IPY_MODEL_5d91b5111b634e1d947258a7024a07e5",
            "value": "100%"
          }
        },
        "8c2b51cfaf83417a8b974aa3c74a2dce": {
          "model_module": "@jupyter-widgets/controls",
          "model_name": "FloatProgressModel",
          "model_module_version": "1.5.0",
          "state": {
            "_dom_classes": [],
            "_model_module": "@jupyter-widgets/controls",
            "_model_module_version": "1.5.0",
            "_model_name": "FloatProgressModel",
            "_view_count": null,
            "_view_module": "@jupyter-widgets/controls",
            "_view_module_version": "1.5.0",
            "_view_name": "ProgressView",
            "bar_style": "success",
            "description": "",
            "description_tooltip": null,
            "layout": "IPY_MODEL_e0421433ae21453f80cba6dffa160931",
            "max": 1279,
            "min": 0,
            "orientation": "horizontal",
            "style": "IPY_MODEL_ccdd6bc9c368412cbcfab37a725547f3",
            "value": 1279
          }
        },
        "1427246818234e56924627f05807ccd2": {
          "model_module": "@jupyter-widgets/controls",
          "model_name": "HTMLModel",
          "model_module_version": "1.5.0",
          "state": {
            "_dom_classes": [],
            "_model_module": "@jupyter-widgets/controls",
            "_model_module_version": "1.5.0",
            "_model_name": "HTMLModel",
            "_view_count": null,
            "_view_module": "@jupyter-widgets/controls",
            "_view_module_version": "1.5.0",
            "_view_name": "HTMLView",
            "description": "",
            "description_tooltip": null,
            "layout": "IPY_MODEL_98bef4da52e5476eb3038a82f454329a",
            "placeholder": "​",
            "style": "IPY_MODEL_e01d9b9242494553b1af6efe7cd17e00",
            "value": " 1279/1279 [01:07&lt;00:00, 20.03it/s]"
          }
        },
        "cdd5783bd87046388148715ccaba5183": {
          "model_module": "@jupyter-widgets/base",
          "model_name": "LayoutModel",
          "model_module_version": "1.2.0",
          "state": {
            "_model_module": "@jupyter-widgets/base",
            "_model_module_version": "1.2.0",
            "_model_name": "LayoutModel",
            "_view_count": null,
            "_view_module": "@jupyter-widgets/base",
            "_view_module_version": "1.2.0",
            "_view_name": "LayoutView",
            "align_content": null,
            "align_items": null,
            "align_self": null,
            "border": null,
            "bottom": null,
            "display": null,
            "flex": null,
            "flex_flow": null,
            "grid_area": null,
            "grid_auto_columns": null,
            "grid_auto_flow": null,
            "grid_auto_rows": null,
            "grid_column": null,
            "grid_gap": null,
            "grid_row": null,
            "grid_template_areas": null,
            "grid_template_columns": null,
            "grid_template_rows": null,
            "height": null,
            "justify_content": null,
            "justify_items": null,
            "left": null,
            "margin": null,
            "max_height": null,
            "max_width": null,
            "min_height": null,
            "min_width": null,
            "object_fit": null,
            "object_position": null,
            "order": null,
            "overflow": null,
            "overflow_x": null,
            "overflow_y": null,
            "padding": null,
            "right": null,
            "top": null,
            "visibility": null,
            "width": null
          }
        },
        "c7434d51152246f5b8827d6ef55ae300": {
          "model_module": "@jupyter-widgets/base",
          "model_name": "LayoutModel",
          "model_module_version": "1.2.0",
          "state": {
            "_model_module": "@jupyter-widgets/base",
            "_model_module_version": "1.2.0",
            "_model_name": "LayoutModel",
            "_view_count": null,
            "_view_module": "@jupyter-widgets/base",
            "_view_module_version": "1.2.0",
            "_view_name": "LayoutView",
            "align_content": null,
            "align_items": null,
            "align_self": null,
            "border": null,
            "bottom": null,
            "display": null,
            "flex": null,
            "flex_flow": null,
            "grid_area": null,
            "grid_auto_columns": null,
            "grid_auto_flow": null,
            "grid_auto_rows": null,
            "grid_column": null,
            "grid_gap": null,
            "grid_row": null,
            "grid_template_areas": null,
            "grid_template_columns": null,
            "grid_template_rows": null,
            "height": null,
            "justify_content": null,
            "justify_items": null,
            "left": null,
            "margin": null,
            "max_height": null,
            "max_width": null,
            "min_height": null,
            "min_width": null,
            "object_fit": null,
            "object_position": null,
            "order": null,
            "overflow": null,
            "overflow_x": null,
            "overflow_y": null,
            "padding": null,
            "right": null,
            "top": null,
            "visibility": null,
            "width": null
          }
        },
        "5d91b5111b634e1d947258a7024a07e5": {
          "model_module": "@jupyter-widgets/controls",
          "model_name": "DescriptionStyleModel",
          "model_module_version": "1.5.0",
          "state": {
            "_model_module": "@jupyter-widgets/controls",
            "_model_module_version": "1.5.0",
            "_model_name": "DescriptionStyleModel",
            "_view_count": null,
            "_view_module": "@jupyter-widgets/base",
            "_view_module_version": "1.2.0",
            "_view_name": "StyleView",
            "description_width": ""
          }
        },
        "e0421433ae21453f80cba6dffa160931": {
          "model_module": "@jupyter-widgets/base",
          "model_name": "LayoutModel",
          "model_module_version": "1.2.0",
          "state": {
            "_model_module": "@jupyter-widgets/base",
            "_model_module_version": "1.2.0",
            "_model_name": "LayoutModel",
            "_view_count": null,
            "_view_module": "@jupyter-widgets/base",
            "_view_module_version": "1.2.0",
            "_view_name": "LayoutView",
            "align_content": null,
            "align_items": null,
            "align_self": null,
            "border": null,
            "bottom": null,
            "display": null,
            "flex": null,
            "flex_flow": null,
            "grid_area": null,
            "grid_auto_columns": null,
            "grid_auto_flow": null,
            "grid_auto_rows": null,
            "grid_column": null,
            "grid_gap": null,
            "grid_row": null,
            "grid_template_areas": null,
            "grid_template_columns": null,
            "grid_template_rows": null,
            "height": null,
            "justify_content": null,
            "justify_items": null,
            "left": null,
            "margin": null,
            "max_height": null,
            "max_width": null,
            "min_height": null,
            "min_width": null,
            "object_fit": null,
            "object_position": null,
            "order": null,
            "overflow": null,
            "overflow_x": null,
            "overflow_y": null,
            "padding": null,
            "right": null,
            "top": null,
            "visibility": null,
            "width": null
          }
        },
        "ccdd6bc9c368412cbcfab37a725547f3": {
          "model_module": "@jupyter-widgets/controls",
          "model_name": "ProgressStyleModel",
          "model_module_version": "1.5.0",
          "state": {
            "_model_module": "@jupyter-widgets/controls",
            "_model_module_version": "1.5.0",
            "_model_name": "ProgressStyleModel",
            "_view_count": null,
            "_view_module": "@jupyter-widgets/base",
            "_view_module_version": "1.2.0",
            "_view_name": "StyleView",
            "bar_color": null,
            "description_width": ""
          }
        },
        "98bef4da52e5476eb3038a82f454329a": {
          "model_module": "@jupyter-widgets/base",
          "model_name": "LayoutModel",
          "model_module_version": "1.2.0",
          "state": {
            "_model_module": "@jupyter-widgets/base",
            "_model_module_version": "1.2.0",
            "_model_name": "LayoutModel",
            "_view_count": null,
            "_view_module": "@jupyter-widgets/base",
            "_view_module_version": "1.2.0",
            "_view_name": "LayoutView",
            "align_content": null,
            "align_items": null,
            "align_self": null,
            "border": null,
            "bottom": null,
            "display": null,
            "flex": null,
            "flex_flow": null,
            "grid_area": null,
            "grid_auto_columns": null,
            "grid_auto_flow": null,
            "grid_auto_rows": null,
            "grid_column": null,
            "grid_gap": null,
            "grid_row": null,
            "grid_template_areas": null,
            "grid_template_columns": null,
            "grid_template_rows": null,
            "height": null,
            "justify_content": null,
            "justify_items": null,
            "left": null,
            "margin": null,
            "max_height": null,
            "max_width": null,
            "min_height": null,
            "min_width": null,
            "object_fit": null,
            "object_position": null,
            "order": null,
            "overflow": null,
            "overflow_x": null,
            "overflow_y": null,
            "padding": null,
            "right": null,
            "top": null,
            "visibility": null,
            "width": null
          }
        },
        "e01d9b9242494553b1af6efe7cd17e00": {
          "model_module": "@jupyter-widgets/controls",
          "model_name": "DescriptionStyleModel",
          "model_module_version": "1.5.0",
          "state": {
            "_model_module": "@jupyter-widgets/controls",
            "_model_module_version": "1.5.0",
            "_model_name": "DescriptionStyleModel",
            "_view_count": null,
            "_view_module": "@jupyter-widgets/base",
            "_view_module_version": "1.2.0",
            "_view_name": "StyleView",
            "description_width": ""
          }
        },
        "c90488cf70e64329adc8a2c330e3d417": {
          "model_module": "@jupyter-widgets/controls",
          "model_name": "HBoxModel",
          "model_module_version": "1.5.0",
          "state": {
            "_dom_classes": [],
            "_model_module": "@jupyter-widgets/controls",
            "_model_module_version": "1.5.0",
            "_model_name": "HBoxModel",
            "_view_count": null,
            "_view_module": "@jupyter-widgets/controls",
            "_view_module_version": "1.5.0",
            "_view_name": "HBoxView",
            "box_style": "",
            "children": [
              "IPY_MODEL_3fbde33ecc1b42928f8b75b58012fd8b",
              "IPY_MODEL_abf92b53b38e4072817afc130d974844",
              "IPY_MODEL_3917df84993d420480f0dccdab65c9a1"
            ],
            "layout": "IPY_MODEL_5bd5131434404975a1edb5ebd86d8754"
          }
        },
        "3fbde33ecc1b42928f8b75b58012fd8b": {
          "model_module": "@jupyter-widgets/controls",
          "model_name": "HTMLModel",
          "model_module_version": "1.5.0",
          "state": {
            "_dom_classes": [],
            "_model_module": "@jupyter-widgets/controls",
            "_model_module_version": "1.5.0",
            "_model_name": "HTMLModel",
            "_view_count": null,
            "_view_module": "@jupyter-widgets/controls",
            "_view_module_version": "1.5.0",
            "_view_name": "HTMLView",
            "description": "",
            "description_tooltip": null,
            "layout": "IPY_MODEL_8a06852ad11b40ca97818ee3c958262d",
            "placeholder": "​",
            "style": "IPY_MODEL_dc8b78a6483d4df6a8ce8c6c7db0fd68",
            "value": "100%"
          }
        },
        "abf92b53b38e4072817afc130d974844": {
          "model_module": "@jupyter-widgets/controls",
          "model_name": "FloatProgressModel",
          "model_module_version": "1.5.0",
          "state": {
            "_dom_classes": [],
            "_model_module": "@jupyter-widgets/controls",
            "_model_module_version": "1.5.0",
            "_model_name": "FloatProgressModel",
            "_view_count": null,
            "_view_module": "@jupyter-widgets/controls",
            "_view_module_version": "1.5.0",
            "_view_name": "ProgressView",
            "bar_style": "success",
            "description": "",
            "description_tooltip": null,
            "layout": "IPY_MODEL_54e131c7b9bf4530ab28b86df3456111",
            "max": 1514,
            "min": 0,
            "orientation": "horizontal",
            "style": "IPY_MODEL_7da8d0f598f2492eaa707d7fbafb696f",
            "value": 1514
          }
        },
        "3917df84993d420480f0dccdab65c9a1": {
          "model_module": "@jupyter-widgets/controls",
          "model_name": "HTMLModel",
          "model_module_version": "1.5.0",
          "state": {
            "_dom_classes": [],
            "_model_module": "@jupyter-widgets/controls",
            "_model_module_version": "1.5.0",
            "_model_name": "HTMLModel",
            "_view_count": null,
            "_view_module": "@jupyter-widgets/controls",
            "_view_module_version": "1.5.0",
            "_view_name": "HTMLView",
            "description": "",
            "description_tooltip": null,
            "layout": "IPY_MODEL_721a7ed1d83d43e0bb455a67550cd7ed",
            "placeholder": "​",
            "style": "IPY_MODEL_2e26a90ef6db47569e128021f1d974c4",
            "value": " 1514/1514 [01:18&lt;00:00, 20.46it/s]"
          }
        },
        "5bd5131434404975a1edb5ebd86d8754": {
          "model_module": "@jupyter-widgets/base",
          "model_name": "LayoutModel",
          "model_module_version": "1.2.0",
          "state": {
            "_model_module": "@jupyter-widgets/base",
            "_model_module_version": "1.2.0",
            "_model_name": "LayoutModel",
            "_view_count": null,
            "_view_module": "@jupyter-widgets/base",
            "_view_module_version": "1.2.0",
            "_view_name": "LayoutView",
            "align_content": null,
            "align_items": null,
            "align_self": null,
            "border": null,
            "bottom": null,
            "display": null,
            "flex": null,
            "flex_flow": null,
            "grid_area": null,
            "grid_auto_columns": null,
            "grid_auto_flow": null,
            "grid_auto_rows": null,
            "grid_column": null,
            "grid_gap": null,
            "grid_row": null,
            "grid_template_areas": null,
            "grid_template_columns": null,
            "grid_template_rows": null,
            "height": null,
            "justify_content": null,
            "justify_items": null,
            "left": null,
            "margin": null,
            "max_height": null,
            "max_width": null,
            "min_height": null,
            "min_width": null,
            "object_fit": null,
            "object_position": null,
            "order": null,
            "overflow": null,
            "overflow_x": null,
            "overflow_y": null,
            "padding": null,
            "right": null,
            "top": null,
            "visibility": null,
            "width": null
          }
        },
        "8a06852ad11b40ca97818ee3c958262d": {
          "model_module": "@jupyter-widgets/base",
          "model_name": "LayoutModel",
          "model_module_version": "1.2.0",
          "state": {
            "_model_module": "@jupyter-widgets/base",
            "_model_module_version": "1.2.0",
            "_model_name": "LayoutModel",
            "_view_count": null,
            "_view_module": "@jupyter-widgets/base",
            "_view_module_version": "1.2.0",
            "_view_name": "LayoutView",
            "align_content": null,
            "align_items": null,
            "align_self": null,
            "border": null,
            "bottom": null,
            "display": null,
            "flex": null,
            "flex_flow": null,
            "grid_area": null,
            "grid_auto_columns": null,
            "grid_auto_flow": null,
            "grid_auto_rows": null,
            "grid_column": null,
            "grid_gap": null,
            "grid_row": null,
            "grid_template_areas": null,
            "grid_template_columns": null,
            "grid_template_rows": null,
            "height": null,
            "justify_content": null,
            "justify_items": null,
            "left": null,
            "margin": null,
            "max_height": null,
            "max_width": null,
            "min_height": null,
            "min_width": null,
            "object_fit": null,
            "object_position": null,
            "order": null,
            "overflow": null,
            "overflow_x": null,
            "overflow_y": null,
            "padding": null,
            "right": null,
            "top": null,
            "visibility": null,
            "width": null
          }
        },
        "dc8b78a6483d4df6a8ce8c6c7db0fd68": {
          "model_module": "@jupyter-widgets/controls",
          "model_name": "DescriptionStyleModel",
          "model_module_version": "1.5.0",
          "state": {
            "_model_module": "@jupyter-widgets/controls",
            "_model_module_version": "1.5.0",
            "_model_name": "DescriptionStyleModel",
            "_view_count": null,
            "_view_module": "@jupyter-widgets/base",
            "_view_module_version": "1.2.0",
            "_view_name": "StyleView",
            "description_width": ""
          }
        },
        "54e131c7b9bf4530ab28b86df3456111": {
          "model_module": "@jupyter-widgets/base",
          "model_name": "LayoutModel",
          "model_module_version": "1.2.0",
          "state": {
            "_model_module": "@jupyter-widgets/base",
            "_model_module_version": "1.2.0",
            "_model_name": "LayoutModel",
            "_view_count": null,
            "_view_module": "@jupyter-widgets/base",
            "_view_module_version": "1.2.0",
            "_view_name": "LayoutView",
            "align_content": null,
            "align_items": null,
            "align_self": null,
            "border": null,
            "bottom": null,
            "display": null,
            "flex": null,
            "flex_flow": null,
            "grid_area": null,
            "grid_auto_columns": null,
            "grid_auto_flow": null,
            "grid_auto_rows": null,
            "grid_column": null,
            "grid_gap": null,
            "grid_row": null,
            "grid_template_areas": null,
            "grid_template_columns": null,
            "grid_template_rows": null,
            "height": null,
            "justify_content": null,
            "justify_items": null,
            "left": null,
            "margin": null,
            "max_height": null,
            "max_width": null,
            "min_height": null,
            "min_width": null,
            "object_fit": null,
            "object_position": null,
            "order": null,
            "overflow": null,
            "overflow_x": null,
            "overflow_y": null,
            "padding": null,
            "right": null,
            "top": null,
            "visibility": null,
            "width": null
          }
        },
        "7da8d0f598f2492eaa707d7fbafb696f": {
          "model_module": "@jupyter-widgets/controls",
          "model_name": "ProgressStyleModel",
          "model_module_version": "1.5.0",
          "state": {
            "_model_module": "@jupyter-widgets/controls",
            "_model_module_version": "1.5.0",
            "_model_name": "ProgressStyleModel",
            "_view_count": null,
            "_view_module": "@jupyter-widgets/base",
            "_view_module_version": "1.2.0",
            "_view_name": "StyleView",
            "bar_color": null,
            "description_width": ""
          }
        },
        "721a7ed1d83d43e0bb455a67550cd7ed": {
          "model_module": "@jupyter-widgets/base",
          "model_name": "LayoutModel",
          "model_module_version": "1.2.0",
          "state": {
            "_model_module": "@jupyter-widgets/base",
            "_model_module_version": "1.2.0",
            "_model_name": "LayoutModel",
            "_view_count": null,
            "_view_module": "@jupyter-widgets/base",
            "_view_module_version": "1.2.0",
            "_view_name": "LayoutView",
            "align_content": null,
            "align_items": null,
            "align_self": null,
            "border": null,
            "bottom": null,
            "display": null,
            "flex": null,
            "flex_flow": null,
            "grid_area": null,
            "grid_auto_columns": null,
            "grid_auto_flow": null,
            "grid_auto_rows": null,
            "grid_column": null,
            "grid_gap": null,
            "grid_row": null,
            "grid_template_areas": null,
            "grid_template_columns": null,
            "grid_template_rows": null,
            "height": null,
            "justify_content": null,
            "justify_items": null,
            "left": null,
            "margin": null,
            "max_height": null,
            "max_width": null,
            "min_height": null,
            "min_width": null,
            "object_fit": null,
            "object_position": null,
            "order": null,
            "overflow": null,
            "overflow_x": null,
            "overflow_y": null,
            "padding": null,
            "right": null,
            "top": null,
            "visibility": null,
            "width": null
          }
        },
        "2e26a90ef6db47569e128021f1d974c4": {
          "model_module": "@jupyter-widgets/controls",
          "model_name": "DescriptionStyleModel",
          "model_module_version": "1.5.0",
          "state": {
            "_model_module": "@jupyter-widgets/controls",
            "_model_module_version": "1.5.0",
            "_model_name": "DescriptionStyleModel",
            "_view_count": null,
            "_view_module": "@jupyter-widgets/base",
            "_view_module_version": "1.2.0",
            "_view_name": "StyleView",
            "description_width": ""
          }
        },
        "2ac6969019fb49f7929f1685af0200d6": {
          "model_module": "@jupyter-widgets/controls",
          "model_name": "HBoxModel",
          "model_module_version": "1.5.0",
          "state": {
            "_dom_classes": [],
            "_model_module": "@jupyter-widgets/controls",
            "_model_module_version": "1.5.0",
            "_model_name": "HBoxModel",
            "_view_count": null,
            "_view_module": "@jupyter-widgets/controls",
            "_view_module_version": "1.5.0",
            "_view_name": "HBoxView",
            "box_style": "",
            "children": [
              "IPY_MODEL_ccdaae722a1c45ea8366f32bdd518bf0",
              "IPY_MODEL_6a5420887b904b35b1af5cc7bfe58f24",
              "IPY_MODEL_3db478a8871e453db4bf7b3a43e2274c"
            ],
            "layout": "IPY_MODEL_a4fc5af623d54e1a8b019803382be46d"
          }
        },
        "ccdaae722a1c45ea8366f32bdd518bf0": {
          "model_module": "@jupyter-widgets/controls",
          "model_name": "HTMLModel",
          "model_module_version": "1.5.0",
          "state": {
            "_dom_classes": [],
            "_model_module": "@jupyter-widgets/controls",
            "_model_module_version": "1.5.0",
            "_model_name": "HTMLModel",
            "_view_count": null,
            "_view_module": "@jupyter-widgets/controls",
            "_view_module_version": "1.5.0",
            "_view_name": "HTMLView",
            "description": "",
            "description_tooltip": null,
            "layout": "IPY_MODEL_3194e0cbe077491196e3769ce71d0153",
            "placeholder": "​",
            "style": "IPY_MODEL_6a9014a2d0b5488fabf0d881de67eee2",
            "value": "100%"
          }
        },
        "6a5420887b904b35b1af5cc7bfe58f24": {
          "model_module": "@jupyter-widgets/controls",
          "model_name": "FloatProgressModel",
          "model_module_version": "1.5.0",
          "state": {
            "_dom_classes": [],
            "_model_module": "@jupyter-widgets/controls",
            "_model_module_version": "1.5.0",
            "_model_name": "FloatProgressModel",
            "_view_count": null,
            "_view_module": "@jupyter-widgets/controls",
            "_view_module_version": "1.5.0",
            "_view_name": "ProgressView",
            "bar_style": "success",
            "description": "",
            "description_tooltip": null,
            "layout": "IPY_MODEL_36e3db45a53542b6a6fa1047d2795ab0",
            "max": 1279,
            "min": 0,
            "orientation": "horizontal",
            "style": "IPY_MODEL_38601fa59ebf4813978e0ca4dd56ce11",
            "value": 1279
          }
        },
        "3db478a8871e453db4bf7b3a43e2274c": {
          "model_module": "@jupyter-widgets/controls",
          "model_name": "HTMLModel",
          "model_module_version": "1.5.0",
          "state": {
            "_dom_classes": [],
            "_model_module": "@jupyter-widgets/controls",
            "_model_module_version": "1.5.0",
            "_model_name": "HTMLModel",
            "_view_count": null,
            "_view_module": "@jupyter-widgets/controls",
            "_view_module_version": "1.5.0",
            "_view_name": "HTMLView",
            "description": "",
            "description_tooltip": null,
            "layout": "IPY_MODEL_7fe3571879e74de99a3c6f5a84aeb886",
            "placeholder": "​",
            "style": "IPY_MODEL_4ab1ad142a724a3cb664d0dcd8c79492",
            "value": " 1279/1279 [01:15&lt;00:00, 17.03it/s]"
          }
        },
        "a4fc5af623d54e1a8b019803382be46d": {
          "model_module": "@jupyter-widgets/base",
          "model_name": "LayoutModel",
          "model_module_version": "1.2.0",
          "state": {
            "_model_module": "@jupyter-widgets/base",
            "_model_module_version": "1.2.0",
            "_model_name": "LayoutModel",
            "_view_count": null,
            "_view_module": "@jupyter-widgets/base",
            "_view_module_version": "1.2.0",
            "_view_name": "LayoutView",
            "align_content": null,
            "align_items": null,
            "align_self": null,
            "border": null,
            "bottom": null,
            "display": null,
            "flex": null,
            "flex_flow": null,
            "grid_area": null,
            "grid_auto_columns": null,
            "grid_auto_flow": null,
            "grid_auto_rows": null,
            "grid_column": null,
            "grid_gap": null,
            "grid_row": null,
            "grid_template_areas": null,
            "grid_template_columns": null,
            "grid_template_rows": null,
            "height": null,
            "justify_content": null,
            "justify_items": null,
            "left": null,
            "margin": null,
            "max_height": null,
            "max_width": null,
            "min_height": null,
            "min_width": null,
            "object_fit": null,
            "object_position": null,
            "order": null,
            "overflow": null,
            "overflow_x": null,
            "overflow_y": null,
            "padding": null,
            "right": null,
            "top": null,
            "visibility": null,
            "width": null
          }
        },
        "3194e0cbe077491196e3769ce71d0153": {
          "model_module": "@jupyter-widgets/base",
          "model_name": "LayoutModel",
          "model_module_version": "1.2.0",
          "state": {
            "_model_module": "@jupyter-widgets/base",
            "_model_module_version": "1.2.0",
            "_model_name": "LayoutModel",
            "_view_count": null,
            "_view_module": "@jupyter-widgets/base",
            "_view_module_version": "1.2.0",
            "_view_name": "LayoutView",
            "align_content": null,
            "align_items": null,
            "align_self": null,
            "border": null,
            "bottom": null,
            "display": null,
            "flex": null,
            "flex_flow": null,
            "grid_area": null,
            "grid_auto_columns": null,
            "grid_auto_flow": null,
            "grid_auto_rows": null,
            "grid_column": null,
            "grid_gap": null,
            "grid_row": null,
            "grid_template_areas": null,
            "grid_template_columns": null,
            "grid_template_rows": null,
            "height": null,
            "justify_content": null,
            "justify_items": null,
            "left": null,
            "margin": null,
            "max_height": null,
            "max_width": null,
            "min_height": null,
            "min_width": null,
            "object_fit": null,
            "object_position": null,
            "order": null,
            "overflow": null,
            "overflow_x": null,
            "overflow_y": null,
            "padding": null,
            "right": null,
            "top": null,
            "visibility": null,
            "width": null
          }
        },
        "6a9014a2d0b5488fabf0d881de67eee2": {
          "model_module": "@jupyter-widgets/controls",
          "model_name": "DescriptionStyleModel",
          "model_module_version": "1.5.0",
          "state": {
            "_model_module": "@jupyter-widgets/controls",
            "_model_module_version": "1.5.0",
            "_model_name": "DescriptionStyleModel",
            "_view_count": null,
            "_view_module": "@jupyter-widgets/base",
            "_view_module_version": "1.2.0",
            "_view_name": "StyleView",
            "description_width": ""
          }
        },
        "36e3db45a53542b6a6fa1047d2795ab0": {
          "model_module": "@jupyter-widgets/base",
          "model_name": "LayoutModel",
          "model_module_version": "1.2.0",
          "state": {
            "_model_module": "@jupyter-widgets/base",
            "_model_module_version": "1.2.0",
            "_model_name": "LayoutModel",
            "_view_count": null,
            "_view_module": "@jupyter-widgets/base",
            "_view_module_version": "1.2.0",
            "_view_name": "LayoutView",
            "align_content": null,
            "align_items": null,
            "align_self": null,
            "border": null,
            "bottom": null,
            "display": null,
            "flex": null,
            "flex_flow": null,
            "grid_area": null,
            "grid_auto_columns": null,
            "grid_auto_flow": null,
            "grid_auto_rows": null,
            "grid_column": null,
            "grid_gap": null,
            "grid_row": null,
            "grid_template_areas": null,
            "grid_template_columns": null,
            "grid_template_rows": null,
            "height": null,
            "justify_content": null,
            "justify_items": null,
            "left": null,
            "margin": null,
            "max_height": null,
            "max_width": null,
            "min_height": null,
            "min_width": null,
            "object_fit": null,
            "object_position": null,
            "order": null,
            "overflow": null,
            "overflow_x": null,
            "overflow_y": null,
            "padding": null,
            "right": null,
            "top": null,
            "visibility": null,
            "width": null
          }
        },
        "38601fa59ebf4813978e0ca4dd56ce11": {
          "model_module": "@jupyter-widgets/controls",
          "model_name": "ProgressStyleModel",
          "model_module_version": "1.5.0",
          "state": {
            "_model_module": "@jupyter-widgets/controls",
            "_model_module_version": "1.5.0",
            "_model_name": "ProgressStyleModel",
            "_view_count": null,
            "_view_module": "@jupyter-widgets/base",
            "_view_module_version": "1.2.0",
            "_view_name": "StyleView",
            "bar_color": null,
            "description_width": ""
          }
        },
        "7fe3571879e74de99a3c6f5a84aeb886": {
          "model_module": "@jupyter-widgets/base",
          "model_name": "LayoutModel",
          "model_module_version": "1.2.0",
          "state": {
            "_model_module": "@jupyter-widgets/base",
            "_model_module_version": "1.2.0",
            "_model_name": "LayoutModel",
            "_view_count": null,
            "_view_module": "@jupyter-widgets/base",
            "_view_module_version": "1.2.0",
            "_view_name": "LayoutView",
            "align_content": null,
            "align_items": null,
            "align_self": null,
            "border": null,
            "bottom": null,
            "display": null,
            "flex": null,
            "flex_flow": null,
            "grid_area": null,
            "grid_auto_columns": null,
            "grid_auto_flow": null,
            "grid_auto_rows": null,
            "grid_column": null,
            "grid_gap": null,
            "grid_row": null,
            "grid_template_areas": null,
            "grid_template_columns": null,
            "grid_template_rows": null,
            "height": null,
            "justify_content": null,
            "justify_items": null,
            "left": null,
            "margin": null,
            "max_height": null,
            "max_width": null,
            "min_height": null,
            "min_width": null,
            "object_fit": null,
            "object_position": null,
            "order": null,
            "overflow": null,
            "overflow_x": null,
            "overflow_y": null,
            "padding": null,
            "right": null,
            "top": null,
            "visibility": null,
            "width": null
          }
        },
        "4ab1ad142a724a3cb664d0dcd8c79492": {
          "model_module": "@jupyter-widgets/controls",
          "model_name": "DescriptionStyleModel",
          "model_module_version": "1.5.0",
          "state": {
            "_model_module": "@jupyter-widgets/controls",
            "_model_module_version": "1.5.0",
            "_model_name": "DescriptionStyleModel",
            "_view_count": null,
            "_view_module": "@jupyter-widgets/base",
            "_view_module_version": "1.2.0",
            "_view_name": "StyleView",
            "description_width": ""
          }
        },
        "75704f7a304d43069803d3a98a6080b2": {
          "model_module": "@jupyter-widgets/controls",
          "model_name": "HBoxModel",
          "model_module_version": "1.5.0",
          "state": {
            "_dom_classes": [],
            "_model_module": "@jupyter-widgets/controls",
            "_model_module_version": "1.5.0",
            "_model_name": "HBoxModel",
            "_view_count": null,
            "_view_module": "@jupyter-widgets/controls",
            "_view_module_version": "1.5.0",
            "_view_name": "HBoxView",
            "box_style": "",
            "children": [
              "IPY_MODEL_f74da3a293af4407805bca18c99ca258",
              "IPY_MODEL_1c7f8039b213455db95e6c6296223ef0",
              "IPY_MODEL_7b35ae45a78f466e926e260415c95459"
            ],
            "layout": "IPY_MODEL_fba0b7c434ba4d68bc2cd6113e2103d4"
          }
        },
        "f74da3a293af4407805bca18c99ca258": {
          "model_module": "@jupyter-widgets/controls",
          "model_name": "HTMLModel",
          "model_module_version": "1.5.0",
          "state": {
            "_dom_classes": [],
            "_model_module": "@jupyter-widgets/controls",
            "_model_module_version": "1.5.0",
            "_model_name": "HTMLModel",
            "_view_count": null,
            "_view_module": "@jupyter-widgets/controls",
            "_view_module_version": "1.5.0",
            "_view_name": "HTMLView",
            "description": "",
            "description_tooltip": null,
            "layout": "IPY_MODEL_5071f033cb9c4089b9d05d732859bd74",
            "placeholder": "​",
            "style": "IPY_MODEL_9762d685d37f411d9e29cde8f5ada4da",
            "value": "100%"
          }
        },
        "1c7f8039b213455db95e6c6296223ef0": {
          "model_module": "@jupyter-widgets/controls",
          "model_name": "FloatProgressModel",
          "model_module_version": "1.5.0",
          "state": {
            "_dom_classes": [],
            "_model_module": "@jupyter-widgets/controls",
            "_model_module_version": "1.5.0",
            "_model_name": "FloatProgressModel",
            "_view_count": null,
            "_view_module": "@jupyter-widgets/controls",
            "_view_module_version": "1.5.0",
            "_view_name": "ProgressView",
            "bar_style": "success",
            "description": "",
            "description_tooltip": null,
            "layout": "IPY_MODEL_4455e273b0aa47ab909f6a198d24b8b3",
            "max": 1514,
            "min": 0,
            "orientation": "horizontal",
            "style": "IPY_MODEL_913610d3466245509a303a2faf252371",
            "value": 1514
          }
        },
        "7b35ae45a78f466e926e260415c95459": {
          "model_module": "@jupyter-widgets/controls",
          "model_name": "HTMLModel",
          "model_module_version": "1.5.0",
          "state": {
            "_dom_classes": [],
            "_model_module": "@jupyter-widgets/controls",
            "_model_module_version": "1.5.0",
            "_model_name": "HTMLModel",
            "_view_count": null,
            "_view_module": "@jupyter-widgets/controls",
            "_view_module_version": "1.5.0",
            "_view_name": "HTMLView",
            "description": "",
            "description_tooltip": null,
            "layout": "IPY_MODEL_528d8c9c1f6d4525b406cb4879fa03f7",
            "placeholder": "​",
            "style": "IPY_MODEL_53060b721693484ebfb318f743cce95d",
            "value": " 1514/1514 [01:30&lt;00:00, 17.04it/s]"
          }
        },
        "fba0b7c434ba4d68bc2cd6113e2103d4": {
          "model_module": "@jupyter-widgets/base",
          "model_name": "LayoutModel",
          "model_module_version": "1.2.0",
          "state": {
            "_model_module": "@jupyter-widgets/base",
            "_model_module_version": "1.2.0",
            "_model_name": "LayoutModel",
            "_view_count": null,
            "_view_module": "@jupyter-widgets/base",
            "_view_module_version": "1.2.0",
            "_view_name": "LayoutView",
            "align_content": null,
            "align_items": null,
            "align_self": null,
            "border": null,
            "bottom": null,
            "display": null,
            "flex": null,
            "flex_flow": null,
            "grid_area": null,
            "grid_auto_columns": null,
            "grid_auto_flow": null,
            "grid_auto_rows": null,
            "grid_column": null,
            "grid_gap": null,
            "grid_row": null,
            "grid_template_areas": null,
            "grid_template_columns": null,
            "grid_template_rows": null,
            "height": null,
            "justify_content": null,
            "justify_items": null,
            "left": null,
            "margin": null,
            "max_height": null,
            "max_width": null,
            "min_height": null,
            "min_width": null,
            "object_fit": null,
            "object_position": null,
            "order": null,
            "overflow": null,
            "overflow_x": null,
            "overflow_y": null,
            "padding": null,
            "right": null,
            "top": null,
            "visibility": null,
            "width": null
          }
        },
        "5071f033cb9c4089b9d05d732859bd74": {
          "model_module": "@jupyter-widgets/base",
          "model_name": "LayoutModel",
          "model_module_version": "1.2.0",
          "state": {
            "_model_module": "@jupyter-widgets/base",
            "_model_module_version": "1.2.0",
            "_model_name": "LayoutModel",
            "_view_count": null,
            "_view_module": "@jupyter-widgets/base",
            "_view_module_version": "1.2.0",
            "_view_name": "LayoutView",
            "align_content": null,
            "align_items": null,
            "align_self": null,
            "border": null,
            "bottom": null,
            "display": null,
            "flex": null,
            "flex_flow": null,
            "grid_area": null,
            "grid_auto_columns": null,
            "grid_auto_flow": null,
            "grid_auto_rows": null,
            "grid_column": null,
            "grid_gap": null,
            "grid_row": null,
            "grid_template_areas": null,
            "grid_template_columns": null,
            "grid_template_rows": null,
            "height": null,
            "justify_content": null,
            "justify_items": null,
            "left": null,
            "margin": null,
            "max_height": null,
            "max_width": null,
            "min_height": null,
            "min_width": null,
            "object_fit": null,
            "object_position": null,
            "order": null,
            "overflow": null,
            "overflow_x": null,
            "overflow_y": null,
            "padding": null,
            "right": null,
            "top": null,
            "visibility": null,
            "width": null
          }
        },
        "9762d685d37f411d9e29cde8f5ada4da": {
          "model_module": "@jupyter-widgets/controls",
          "model_name": "DescriptionStyleModel",
          "model_module_version": "1.5.0",
          "state": {
            "_model_module": "@jupyter-widgets/controls",
            "_model_module_version": "1.5.0",
            "_model_name": "DescriptionStyleModel",
            "_view_count": null,
            "_view_module": "@jupyter-widgets/base",
            "_view_module_version": "1.2.0",
            "_view_name": "StyleView",
            "description_width": ""
          }
        },
        "4455e273b0aa47ab909f6a198d24b8b3": {
          "model_module": "@jupyter-widgets/base",
          "model_name": "LayoutModel",
          "model_module_version": "1.2.0",
          "state": {
            "_model_module": "@jupyter-widgets/base",
            "_model_module_version": "1.2.0",
            "_model_name": "LayoutModel",
            "_view_count": null,
            "_view_module": "@jupyter-widgets/base",
            "_view_module_version": "1.2.0",
            "_view_name": "LayoutView",
            "align_content": null,
            "align_items": null,
            "align_self": null,
            "border": null,
            "bottom": null,
            "display": null,
            "flex": null,
            "flex_flow": null,
            "grid_area": null,
            "grid_auto_columns": null,
            "grid_auto_flow": null,
            "grid_auto_rows": null,
            "grid_column": null,
            "grid_gap": null,
            "grid_row": null,
            "grid_template_areas": null,
            "grid_template_columns": null,
            "grid_template_rows": null,
            "height": null,
            "justify_content": null,
            "justify_items": null,
            "left": null,
            "margin": null,
            "max_height": null,
            "max_width": null,
            "min_height": null,
            "min_width": null,
            "object_fit": null,
            "object_position": null,
            "order": null,
            "overflow": null,
            "overflow_x": null,
            "overflow_y": null,
            "padding": null,
            "right": null,
            "top": null,
            "visibility": null,
            "width": null
          }
        },
        "913610d3466245509a303a2faf252371": {
          "model_module": "@jupyter-widgets/controls",
          "model_name": "ProgressStyleModel",
          "model_module_version": "1.5.0",
          "state": {
            "_model_module": "@jupyter-widgets/controls",
            "_model_module_version": "1.5.0",
            "_model_name": "ProgressStyleModel",
            "_view_count": null,
            "_view_module": "@jupyter-widgets/base",
            "_view_module_version": "1.2.0",
            "_view_name": "StyleView",
            "bar_color": null,
            "description_width": ""
          }
        },
        "528d8c9c1f6d4525b406cb4879fa03f7": {
          "model_module": "@jupyter-widgets/base",
          "model_name": "LayoutModel",
          "model_module_version": "1.2.0",
          "state": {
            "_model_module": "@jupyter-widgets/base",
            "_model_module_version": "1.2.0",
            "_model_name": "LayoutModel",
            "_view_count": null,
            "_view_module": "@jupyter-widgets/base",
            "_view_module_version": "1.2.0",
            "_view_name": "LayoutView",
            "align_content": null,
            "align_items": null,
            "align_self": null,
            "border": null,
            "bottom": null,
            "display": null,
            "flex": null,
            "flex_flow": null,
            "grid_area": null,
            "grid_auto_columns": null,
            "grid_auto_flow": null,
            "grid_auto_rows": null,
            "grid_column": null,
            "grid_gap": null,
            "grid_row": null,
            "grid_template_areas": null,
            "grid_template_columns": null,
            "grid_template_rows": null,
            "height": null,
            "justify_content": null,
            "justify_items": null,
            "left": null,
            "margin": null,
            "max_height": null,
            "max_width": null,
            "min_height": null,
            "min_width": null,
            "object_fit": null,
            "object_position": null,
            "order": null,
            "overflow": null,
            "overflow_x": null,
            "overflow_y": null,
            "padding": null,
            "right": null,
            "top": null,
            "visibility": null,
            "width": null
          }
        },
        "53060b721693484ebfb318f743cce95d": {
          "model_module": "@jupyter-widgets/controls",
          "model_name": "DescriptionStyleModel",
          "model_module_version": "1.5.0",
          "state": {
            "_model_module": "@jupyter-widgets/controls",
            "_model_module_version": "1.5.0",
            "_model_name": "DescriptionStyleModel",
            "_view_count": null,
            "_view_module": "@jupyter-widgets/base",
            "_view_module_version": "1.2.0",
            "_view_name": "StyleView",
            "description_width": ""
          }
        },
        "5ed4e4f713a3402e978656703336c241": {
          "model_module": "@jupyter-widgets/controls",
          "model_name": "HBoxModel",
          "model_module_version": "1.5.0",
          "state": {
            "_dom_classes": [],
            "_model_module": "@jupyter-widgets/controls",
            "_model_module_version": "1.5.0",
            "_model_name": "HBoxModel",
            "_view_count": null,
            "_view_module": "@jupyter-widgets/controls",
            "_view_module_version": "1.5.0",
            "_view_name": "HBoxView",
            "box_style": "",
            "children": [
              "IPY_MODEL_58498c3f108a475f85dc8422d4c98c27",
              "IPY_MODEL_14d2142d4a13468ca38d20d5e0cb7590",
              "IPY_MODEL_97f0c90430554f0a8b20a2556a37b0f4"
            ],
            "layout": "IPY_MODEL_881f23a9c6cb4773a7cb1774e888b539"
          }
        },
        "58498c3f108a475f85dc8422d4c98c27": {
          "model_module": "@jupyter-widgets/controls",
          "model_name": "HTMLModel",
          "model_module_version": "1.5.0",
          "state": {
            "_dom_classes": [],
            "_model_module": "@jupyter-widgets/controls",
            "_model_module_version": "1.5.0",
            "_model_name": "HTMLModel",
            "_view_count": null,
            "_view_module": "@jupyter-widgets/controls",
            "_view_module_version": "1.5.0",
            "_view_name": "HTMLView",
            "description": "",
            "description_tooltip": null,
            "layout": "IPY_MODEL_f0b09a8c613c403588b8abdad4227c14",
            "placeholder": "​",
            "style": "IPY_MODEL_21289bc234994bd79337c72ff9a37403",
            "value": " 67%"
          }
        },
        "14d2142d4a13468ca38d20d5e0cb7590": {
          "model_module": "@jupyter-widgets/controls",
          "model_name": "FloatProgressModel",
          "model_module_version": "1.5.0",
          "state": {
            "_dom_classes": [],
            "_model_module": "@jupyter-widgets/controls",
            "_model_module_version": "1.5.0",
            "_model_name": "FloatProgressModel",
            "_view_count": null,
            "_view_module": "@jupyter-widgets/controls",
            "_view_module_version": "1.5.0",
            "_view_name": "ProgressView",
            "bar_style": "",
            "description": "",
            "description_tooltip": null,
            "layout": "IPY_MODEL_699859f82b944eff93bc38ad979fa0e0",
            "max": 1279,
            "min": 0,
            "orientation": "horizontal",
            "style": "IPY_MODEL_778f83d0fcdc4d8fbb7785c6343edeb0",
            "value": 852
          }
        },
        "97f0c90430554f0a8b20a2556a37b0f4": {
          "model_module": "@jupyter-widgets/controls",
          "model_name": "HTMLModel",
          "model_module_version": "1.5.0",
          "state": {
            "_dom_classes": [],
            "_model_module": "@jupyter-widgets/controls",
            "_model_module_version": "1.5.0",
            "_model_name": "HTMLModel",
            "_view_count": null,
            "_view_module": "@jupyter-widgets/controls",
            "_view_module_version": "1.5.0",
            "_view_name": "HTMLView",
            "description": "",
            "description_tooltip": null,
            "layout": "IPY_MODEL_228e27ebcb524fef9f156803a9e392e1",
            "placeholder": "​",
            "style": "IPY_MODEL_40c22353770143e0afd22d2136038f26",
            "value": " 852/1279 [00:54&lt;00:27, 15.78it/s]"
          }
        },
        "881f23a9c6cb4773a7cb1774e888b539": {
          "model_module": "@jupyter-widgets/base",
          "model_name": "LayoutModel",
          "model_module_version": "1.2.0",
          "state": {
            "_model_module": "@jupyter-widgets/base",
            "_model_module_version": "1.2.0",
            "_model_name": "LayoutModel",
            "_view_count": null,
            "_view_module": "@jupyter-widgets/base",
            "_view_module_version": "1.2.0",
            "_view_name": "LayoutView",
            "align_content": null,
            "align_items": null,
            "align_self": null,
            "border": null,
            "bottom": null,
            "display": null,
            "flex": null,
            "flex_flow": null,
            "grid_area": null,
            "grid_auto_columns": null,
            "grid_auto_flow": null,
            "grid_auto_rows": null,
            "grid_column": null,
            "grid_gap": null,
            "grid_row": null,
            "grid_template_areas": null,
            "grid_template_columns": null,
            "grid_template_rows": null,
            "height": null,
            "justify_content": null,
            "justify_items": null,
            "left": null,
            "margin": null,
            "max_height": null,
            "max_width": null,
            "min_height": null,
            "min_width": null,
            "object_fit": null,
            "object_position": null,
            "order": null,
            "overflow": null,
            "overflow_x": null,
            "overflow_y": null,
            "padding": null,
            "right": null,
            "top": null,
            "visibility": null,
            "width": null
          }
        },
        "f0b09a8c613c403588b8abdad4227c14": {
          "model_module": "@jupyter-widgets/base",
          "model_name": "LayoutModel",
          "model_module_version": "1.2.0",
          "state": {
            "_model_module": "@jupyter-widgets/base",
            "_model_module_version": "1.2.0",
            "_model_name": "LayoutModel",
            "_view_count": null,
            "_view_module": "@jupyter-widgets/base",
            "_view_module_version": "1.2.0",
            "_view_name": "LayoutView",
            "align_content": null,
            "align_items": null,
            "align_self": null,
            "border": null,
            "bottom": null,
            "display": null,
            "flex": null,
            "flex_flow": null,
            "grid_area": null,
            "grid_auto_columns": null,
            "grid_auto_flow": null,
            "grid_auto_rows": null,
            "grid_column": null,
            "grid_gap": null,
            "grid_row": null,
            "grid_template_areas": null,
            "grid_template_columns": null,
            "grid_template_rows": null,
            "height": null,
            "justify_content": null,
            "justify_items": null,
            "left": null,
            "margin": null,
            "max_height": null,
            "max_width": null,
            "min_height": null,
            "min_width": null,
            "object_fit": null,
            "object_position": null,
            "order": null,
            "overflow": null,
            "overflow_x": null,
            "overflow_y": null,
            "padding": null,
            "right": null,
            "top": null,
            "visibility": null,
            "width": null
          }
        },
        "21289bc234994bd79337c72ff9a37403": {
          "model_module": "@jupyter-widgets/controls",
          "model_name": "DescriptionStyleModel",
          "model_module_version": "1.5.0",
          "state": {
            "_model_module": "@jupyter-widgets/controls",
            "_model_module_version": "1.5.0",
            "_model_name": "DescriptionStyleModel",
            "_view_count": null,
            "_view_module": "@jupyter-widgets/base",
            "_view_module_version": "1.2.0",
            "_view_name": "StyleView",
            "description_width": ""
          }
        },
        "699859f82b944eff93bc38ad979fa0e0": {
          "model_module": "@jupyter-widgets/base",
          "model_name": "LayoutModel",
          "model_module_version": "1.2.0",
          "state": {
            "_model_module": "@jupyter-widgets/base",
            "_model_module_version": "1.2.0",
            "_model_name": "LayoutModel",
            "_view_count": null,
            "_view_module": "@jupyter-widgets/base",
            "_view_module_version": "1.2.0",
            "_view_name": "LayoutView",
            "align_content": null,
            "align_items": null,
            "align_self": null,
            "border": null,
            "bottom": null,
            "display": null,
            "flex": null,
            "flex_flow": null,
            "grid_area": null,
            "grid_auto_columns": null,
            "grid_auto_flow": null,
            "grid_auto_rows": null,
            "grid_column": null,
            "grid_gap": null,
            "grid_row": null,
            "grid_template_areas": null,
            "grid_template_columns": null,
            "grid_template_rows": null,
            "height": null,
            "justify_content": null,
            "justify_items": null,
            "left": null,
            "margin": null,
            "max_height": null,
            "max_width": null,
            "min_height": null,
            "min_width": null,
            "object_fit": null,
            "object_position": null,
            "order": null,
            "overflow": null,
            "overflow_x": null,
            "overflow_y": null,
            "padding": null,
            "right": null,
            "top": null,
            "visibility": null,
            "width": null
          }
        },
        "778f83d0fcdc4d8fbb7785c6343edeb0": {
          "model_module": "@jupyter-widgets/controls",
          "model_name": "ProgressStyleModel",
          "model_module_version": "1.5.0",
          "state": {
            "_model_module": "@jupyter-widgets/controls",
            "_model_module_version": "1.5.0",
            "_model_name": "ProgressStyleModel",
            "_view_count": null,
            "_view_module": "@jupyter-widgets/base",
            "_view_module_version": "1.2.0",
            "_view_name": "StyleView",
            "bar_color": null,
            "description_width": ""
          }
        },
        "228e27ebcb524fef9f156803a9e392e1": {
          "model_module": "@jupyter-widgets/base",
          "model_name": "LayoutModel",
          "model_module_version": "1.2.0",
          "state": {
            "_model_module": "@jupyter-widgets/base",
            "_model_module_version": "1.2.0",
            "_model_name": "LayoutModel",
            "_view_count": null,
            "_view_module": "@jupyter-widgets/base",
            "_view_module_version": "1.2.0",
            "_view_name": "LayoutView",
            "align_content": null,
            "align_items": null,
            "align_self": null,
            "border": null,
            "bottom": null,
            "display": null,
            "flex": null,
            "flex_flow": null,
            "grid_area": null,
            "grid_auto_columns": null,
            "grid_auto_flow": null,
            "grid_auto_rows": null,
            "grid_column": null,
            "grid_gap": null,
            "grid_row": null,
            "grid_template_areas": null,
            "grid_template_columns": null,
            "grid_template_rows": null,
            "height": null,
            "justify_content": null,
            "justify_items": null,
            "left": null,
            "margin": null,
            "max_height": null,
            "max_width": null,
            "min_height": null,
            "min_width": null,
            "object_fit": null,
            "object_position": null,
            "order": null,
            "overflow": null,
            "overflow_x": null,
            "overflow_y": null,
            "padding": null,
            "right": null,
            "top": null,
            "visibility": null,
            "width": null
          }
        },
        "40c22353770143e0afd22d2136038f26": {
          "model_module": "@jupyter-widgets/controls",
          "model_name": "DescriptionStyleModel",
          "model_module_version": "1.5.0",
          "state": {
            "_model_module": "@jupyter-widgets/controls",
            "_model_module_version": "1.5.0",
            "_model_name": "DescriptionStyleModel",
            "_view_count": null,
            "_view_module": "@jupyter-widgets/base",
            "_view_module_version": "1.2.0",
            "_view_name": "StyleView",
            "description_width": ""
          }
        },
        "4df49b48170943228ecfbfaba299818c": {
          "model_module": "@jupyter-widgets/controls",
          "model_name": "HBoxModel",
          "model_module_version": "1.5.0",
          "state": {
            "_dom_classes": [],
            "_model_module": "@jupyter-widgets/controls",
            "_model_module_version": "1.5.0",
            "_model_name": "HBoxModel",
            "_view_count": null,
            "_view_module": "@jupyter-widgets/controls",
            "_view_module_version": "1.5.0",
            "_view_name": "HBoxView",
            "box_style": "",
            "children": [
              "IPY_MODEL_33f4a835ea164c24b4fac72766594df2",
              "IPY_MODEL_c1009a94fe974472919bd5257d8a99a9",
              "IPY_MODEL_1fbd5699e2d54466aca18cacd6a58097"
            ],
            "layout": "IPY_MODEL_1261dd3fbaed45b89e0ff53d4b7e0fbd"
          }
        },
        "33f4a835ea164c24b4fac72766594df2": {
          "model_module": "@jupyter-widgets/controls",
          "model_name": "HTMLModel",
          "model_module_version": "1.5.0",
          "state": {
            "_dom_classes": [],
            "_model_module": "@jupyter-widgets/controls",
            "_model_module_version": "1.5.0",
            "_model_name": "HTMLModel",
            "_view_count": null,
            "_view_module": "@jupyter-widgets/controls",
            "_view_module_version": "1.5.0",
            "_view_name": "HTMLView",
            "description": "",
            "description_tooltip": null,
            "layout": "IPY_MODEL_b465620625b74d2dbce6862dedb55d8c",
            "placeholder": "​",
            "style": "IPY_MODEL_a2a9b829cd1f4f49b9b70c8396042bbb",
            "value": "100%"
          }
        },
        "c1009a94fe974472919bd5257d8a99a9": {
          "model_module": "@jupyter-widgets/controls",
          "model_name": "FloatProgressModel",
          "model_module_version": "1.5.0",
          "state": {
            "_dom_classes": [],
            "_model_module": "@jupyter-widgets/controls",
            "_model_module_version": "1.5.0",
            "_model_name": "FloatProgressModel",
            "_view_count": null,
            "_view_module": "@jupyter-widgets/controls",
            "_view_module_version": "1.5.0",
            "_view_name": "ProgressView",
            "bar_style": "success",
            "description": "",
            "description_tooltip": null,
            "layout": "IPY_MODEL_a90e485e179d484394f22ffd6d81e344",
            "max": 1279,
            "min": 0,
            "orientation": "horizontal",
            "style": "IPY_MODEL_c7038d8c64cd40b38c6521bfc3892e54",
            "value": 1279
          }
        },
        "1fbd5699e2d54466aca18cacd6a58097": {
          "model_module": "@jupyter-widgets/controls",
          "model_name": "HTMLModel",
          "model_module_version": "1.5.0",
          "state": {
            "_dom_classes": [],
            "_model_module": "@jupyter-widgets/controls",
            "_model_module_version": "1.5.0",
            "_model_name": "HTMLModel",
            "_view_count": null,
            "_view_module": "@jupyter-widgets/controls",
            "_view_module_version": "1.5.0",
            "_view_name": "HTMLView",
            "description": "",
            "description_tooltip": null,
            "layout": "IPY_MODEL_babd00eadc864ab2807c5ce0f6d7b69a",
            "placeholder": "​",
            "style": "IPY_MODEL_152833fcf0a4424dbed1eb836f3fc9ea",
            "value": " 1279/1279 [01:09&lt;00:00, 18.67it/s]"
          }
        },
        "1261dd3fbaed45b89e0ff53d4b7e0fbd": {
          "model_module": "@jupyter-widgets/base",
          "model_name": "LayoutModel",
          "model_module_version": "1.2.0",
          "state": {
            "_model_module": "@jupyter-widgets/base",
            "_model_module_version": "1.2.0",
            "_model_name": "LayoutModel",
            "_view_count": null,
            "_view_module": "@jupyter-widgets/base",
            "_view_module_version": "1.2.0",
            "_view_name": "LayoutView",
            "align_content": null,
            "align_items": null,
            "align_self": null,
            "border": null,
            "bottom": null,
            "display": null,
            "flex": null,
            "flex_flow": null,
            "grid_area": null,
            "grid_auto_columns": null,
            "grid_auto_flow": null,
            "grid_auto_rows": null,
            "grid_column": null,
            "grid_gap": null,
            "grid_row": null,
            "grid_template_areas": null,
            "grid_template_columns": null,
            "grid_template_rows": null,
            "height": null,
            "justify_content": null,
            "justify_items": null,
            "left": null,
            "margin": null,
            "max_height": null,
            "max_width": null,
            "min_height": null,
            "min_width": null,
            "object_fit": null,
            "object_position": null,
            "order": null,
            "overflow": null,
            "overflow_x": null,
            "overflow_y": null,
            "padding": null,
            "right": null,
            "top": null,
            "visibility": null,
            "width": null
          }
        },
        "b465620625b74d2dbce6862dedb55d8c": {
          "model_module": "@jupyter-widgets/base",
          "model_name": "LayoutModel",
          "model_module_version": "1.2.0",
          "state": {
            "_model_module": "@jupyter-widgets/base",
            "_model_module_version": "1.2.0",
            "_model_name": "LayoutModel",
            "_view_count": null,
            "_view_module": "@jupyter-widgets/base",
            "_view_module_version": "1.2.0",
            "_view_name": "LayoutView",
            "align_content": null,
            "align_items": null,
            "align_self": null,
            "border": null,
            "bottom": null,
            "display": null,
            "flex": null,
            "flex_flow": null,
            "grid_area": null,
            "grid_auto_columns": null,
            "grid_auto_flow": null,
            "grid_auto_rows": null,
            "grid_column": null,
            "grid_gap": null,
            "grid_row": null,
            "grid_template_areas": null,
            "grid_template_columns": null,
            "grid_template_rows": null,
            "height": null,
            "justify_content": null,
            "justify_items": null,
            "left": null,
            "margin": null,
            "max_height": null,
            "max_width": null,
            "min_height": null,
            "min_width": null,
            "object_fit": null,
            "object_position": null,
            "order": null,
            "overflow": null,
            "overflow_x": null,
            "overflow_y": null,
            "padding": null,
            "right": null,
            "top": null,
            "visibility": null,
            "width": null
          }
        },
        "a2a9b829cd1f4f49b9b70c8396042bbb": {
          "model_module": "@jupyter-widgets/controls",
          "model_name": "DescriptionStyleModel",
          "model_module_version": "1.5.0",
          "state": {
            "_model_module": "@jupyter-widgets/controls",
            "_model_module_version": "1.5.0",
            "_model_name": "DescriptionStyleModel",
            "_view_count": null,
            "_view_module": "@jupyter-widgets/base",
            "_view_module_version": "1.2.0",
            "_view_name": "StyleView",
            "description_width": ""
          }
        },
        "a90e485e179d484394f22ffd6d81e344": {
          "model_module": "@jupyter-widgets/base",
          "model_name": "LayoutModel",
          "model_module_version": "1.2.0",
          "state": {
            "_model_module": "@jupyter-widgets/base",
            "_model_module_version": "1.2.0",
            "_model_name": "LayoutModel",
            "_view_count": null,
            "_view_module": "@jupyter-widgets/base",
            "_view_module_version": "1.2.0",
            "_view_name": "LayoutView",
            "align_content": null,
            "align_items": null,
            "align_self": null,
            "border": null,
            "bottom": null,
            "display": null,
            "flex": null,
            "flex_flow": null,
            "grid_area": null,
            "grid_auto_columns": null,
            "grid_auto_flow": null,
            "grid_auto_rows": null,
            "grid_column": null,
            "grid_gap": null,
            "grid_row": null,
            "grid_template_areas": null,
            "grid_template_columns": null,
            "grid_template_rows": null,
            "height": null,
            "justify_content": null,
            "justify_items": null,
            "left": null,
            "margin": null,
            "max_height": null,
            "max_width": null,
            "min_height": null,
            "min_width": null,
            "object_fit": null,
            "object_position": null,
            "order": null,
            "overflow": null,
            "overflow_x": null,
            "overflow_y": null,
            "padding": null,
            "right": null,
            "top": null,
            "visibility": null,
            "width": null
          }
        },
        "c7038d8c64cd40b38c6521bfc3892e54": {
          "model_module": "@jupyter-widgets/controls",
          "model_name": "ProgressStyleModel",
          "model_module_version": "1.5.0",
          "state": {
            "_model_module": "@jupyter-widgets/controls",
            "_model_module_version": "1.5.0",
            "_model_name": "ProgressStyleModel",
            "_view_count": null,
            "_view_module": "@jupyter-widgets/base",
            "_view_module_version": "1.2.0",
            "_view_name": "StyleView",
            "bar_color": null,
            "description_width": ""
          }
        },
        "babd00eadc864ab2807c5ce0f6d7b69a": {
          "model_module": "@jupyter-widgets/base",
          "model_name": "LayoutModel",
          "model_module_version": "1.2.0",
          "state": {
            "_model_module": "@jupyter-widgets/base",
            "_model_module_version": "1.2.0",
            "_model_name": "LayoutModel",
            "_view_count": null,
            "_view_module": "@jupyter-widgets/base",
            "_view_module_version": "1.2.0",
            "_view_name": "LayoutView",
            "align_content": null,
            "align_items": null,
            "align_self": null,
            "border": null,
            "bottom": null,
            "display": null,
            "flex": null,
            "flex_flow": null,
            "grid_area": null,
            "grid_auto_columns": null,
            "grid_auto_flow": null,
            "grid_auto_rows": null,
            "grid_column": null,
            "grid_gap": null,
            "grid_row": null,
            "grid_template_areas": null,
            "grid_template_columns": null,
            "grid_template_rows": null,
            "height": null,
            "justify_content": null,
            "justify_items": null,
            "left": null,
            "margin": null,
            "max_height": null,
            "max_width": null,
            "min_height": null,
            "min_width": null,
            "object_fit": null,
            "object_position": null,
            "order": null,
            "overflow": null,
            "overflow_x": null,
            "overflow_y": null,
            "padding": null,
            "right": null,
            "top": null,
            "visibility": null,
            "width": null
          }
        },
        "152833fcf0a4424dbed1eb836f3fc9ea": {
          "model_module": "@jupyter-widgets/controls",
          "model_name": "DescriptionStyleModel",
          "model_module_version": "1.5.0",
          "state": {
            "_model_module": "@jupyter-widgets/controls",
            "_model_module_version": "1.5.0",
            "_model_name": "DescriptionStyleModel",
            "_view_count": null,
            "_view_module": "@jupyter-widgets/base",
            "_view_module_version": "1.2.0",
            "_view_name": "StyleView",
            "description_width": ""
          }
        },
        "f8f5b301fa704b3587ba16d8ea75ff40": {
          "model_module": "@jupyter-widgets/controls",
          "model_name": "HBoxModel",
          "model_module_version": "1.5.0",
          "state": {
            "_dom_classes": [],
            "_model_module": "@jupyter-widgets/controls",
            "_model_module_version": "1.5.0",
            "_model_name": "HBoxModel",
            "_view_count": null,
            "_view_module": "@jupyter-widgets/controls",
            "_view_module_version": "1.5.0",
            "_view_name": "HBoxView",
            "box_style": "",
            "children": [
              "IPY_MODEL_1ac1cd713ee54ba0aa0aa89c0961242f",
              "IPY_MODEL_66c2db2e87994213a19eacb9f50ac412",
              "IPY_MODEL_647574e7ae0b42e1974b44962a01f1b1"
            ],
            "layout": "IPY_MODEL_ec5f3a9c14b94ae68c84686905d7b081"
          }
        },
        "1ac1cd713ee54ba0aa0aa89c0961242f": {
          "model_module": "@jupyter-widgets/controls",
          "model_name": "HTMLModel",
          "model_module_version": "1.5.0",
          "state": {
            "_dom_classes": [],
            "_model_module": "@jupyter-widgets/controls",
            "_model_module_version": "1.5.0",
            "_model_name": "HTMLModel",
            "_view_count": null,
            "_view_module": "@jupyter-widgets/controls",
            "_view_module_version": "1.5.0",
            "_view_name": "HTMLView",
            "description": "",
            "description_tooltip": null,
            "layout": "IPY_MODEL_4323c97f3ab24543be8838c7da76dd84",
            "placeholder": "​",
            "style": "IPY_MODEL_47da7bf7bbb044568d40c16dd6a94b24",
            "value": "100%"
          }
        },
        "66c2db2e87994213a19eacb9f50ac412": {
          "model_module": "@jupyter-widgets/controls",
          "model_name": "FloatProgressModel",
          "model_module_version": "1.5.0",
          "state": {
            "_dom_classes": [],
            "_model_module": "@jupyter-widgets/controls",
            "_model_module_version": "1.5.0",
            "_model_name": "FloatProgressModel",
            "_view_count": null,
            "_view_module": "@jupyter-widgets/controls",
            "_view_module_version": "1.5.0",
            "_view_name": "ProgressView",
            "bar_style": "success",
            "description": "",
            "description_tooltip": null,
            "layout": "IPY_MODEL_50b5a49bbd1c459a837477f7baa2e711",
            "max": 1514,
            "min": 0,
            "orientation": "horizontal",
            "style": "IPY_MODEL_46f9ffde19e749febac9084142ca5a16",
            "value": 1514
          }
        },
        "647574e7ae0b42e1974b44962a01f1b1": {
          "model_module": "@jupyter-widgets/controls",
          "model_name": "HTMLModel",
          "model_module_version": "1.5.0",
          "state": {
            "_dom_classes": [],
            "_model_module": "@jupyter-widgets/controls",
            "_model_module_version": "1.5.0",
            "_model_name": "HTMLModel",
            "_view_count": null,
            "_view_module": "@jupyter-widgets/controls",
            "_view_module_version": "1.5.0",
            "_view_name": "HTMLView",
            "description": "",
            "description_tooltip": null,
            "layout": "IPY_MODEL_44d0dd0501fb4014a9d1ab3218d1a250",
            "placeholder": "​",
            "style": "IPY_MODEL_834cb6d74cf0404d8d3924e214f91ea5",
            "value": " 1514/1514 [01:27&lt;00:00, 18.11it/s]"
          }
        },
        "ec5f3a9c14b94ae68c84686905d7b081": {
          "model_module": "@jupyter-widgets/base",
          "model_name": "LayoutModel",
          "model_module_version": "1.2.0",
          "state": {
            "_model_module": "@jupyter-widgets/base",
            "_model_module_version": "1.2.0",
            "_model_name": "LayoutModel",
            "_view_count": null,
            "_view_module": "@jupyter-widgets/base",
            "_view_module_version": "1.2.0",
            "_view_name": "LayoutView",
            "align_content": null,
            "align_items": null,
            "align_self": null,
            "border": null,
            "bottom": null,
            "display": null,
            "flex": null,
            "flex_flow": null,
            "grid_area": null,
            "grid_auto_columns": null,
            "grid_auto_flow": null,
            "grid_auto_rows": null,
            "grid_column": null,
            "grid_gap": null,
            "grid_row": null,
            "grid_template_areas": null,
            "grid_template_columns": null,
            "grid_template_rows": null,
            "height": null,
            "justify_content": null,
            "justify_items": null,
            "left": null,
            "margin": null,
            "max_height": null,
            "max_width": null,
            "min_height": null,
            "min_width": null,
            "object_fit": null,
            "object_position": null,
            "order": null,
            "overflow": null,
            "overflow_x": null,
            "overflow_y": null,
            "padding": null,
            "right": null,
            "top": null,
            "visibility": null,
            "width": null
          }
        },
        "4323c97f3ab24543be8838c7da76dd84": {
          "model_module": "@jupyter-widgets/base",
          "model_name": "LayoutModel",
          "model_module_version": "1.2.0",
          "state": {
            "_model_module": "@jupyter-widgets/base",
            "_model_module_version": "1.2.0",
            "_model_name": "LayoutModel",
            "_view_count": null,
            "_view_module": "@jupyter-widgets/base",
            "_view_module_version": "1.2.0",
            "_view_name": "LayoutView",
            "align_content": null,
            "align_items": null,
            "align_self": null,
            "border": null,
            "bottom": null,
            "display": null,
            "flex": null,
            "flex_flow": null,
            "grid_area": null,
            "grid_auto_columns": null,
            "grid_auto_flow": null,
            "grid_auto_rows": null,
            "grid_column": null,
            "grid_gap": null,
            "grid_row": null,
            "grid_template_areas": null,
            "grid_template_columns": null,
            "grid_template_rows": null,
            "height": null,
            "justify_content": null,
            "justify_items": null,
            "left": null,
            "margin": null,
            "max_height": null,
            "max_width": null,
            "min_height": null,
            "min_width": null,
            "object_fit": null,
            "object_position": null,
            "order": null,
            "overflow": null,
            "overflow_x": null,
            "overflow_y": null,
            "padding": null,
            "right": null,
            "top": null,
            "visibility": null,
            "width": null
          }
        },
        "47da7bf7bbb044568d40c16dd6a94b24": {
          "model_module": "@jupyter-widgets/controls",
          "model_name": "DescriptionStyleModel",
          "model_module_version": "1.5.0",
          "state": {
            "_model_module": "@jupyter-widgets/controls",
            "_model_module_version": "1.5.0",
            "_model_name": "DescriptionStyleModel",
            "_view_count": null,
            "_view_module": "@jupyter-widgets/base",
            "_view_module_version": "1.2.0",
            "_view_name": "StyleView",
            "description_width": ""
          }
        },
        "50b5a49bbd1c459a837477f7baa2e711": {
          "model_module": "@jupyter-widgets/base",
          "model_name": "LayoutModel",
          "model_module_version": "1.2.0",
          "state": {
            "_model_module": "@jupyter-widgets/base",
            "_model_module_version": "1.2.0",
            "_model_name": "LayoutModel",
            "_view_count": null,
            "_view_module": "@jupyter-widgets/base",
            "_view_module_version": "1.2.0",
            "_view_name": "LayoutView",
            "align_content": null,
            "align_items": null,
            "align_self": null,
            "border": null,
            "bottom": null,
            "display": null,
            "flex": null,
            "flex_flow": null,
            "grid_area": null,
            "grid_auto_columns": null,
            "grid_auto_flow": null,
            "grid_auto_rows": null,
            "grid_column": null,
            "grid_gap": null,
            "grid_row": null,
            "grid_template_areas": null,
            "grid_template_columns": null,
            "grid_template_rows": null,
            "height": null,
            "justify_content": null,
            "justify_items": null,
            "left": null,
            "margin": null,
            "max_height": null,
            "max_width": null,
            "min_height": null,
            "min_width": null,
            "object_fit": null,
            "object_position": null,
            "order": null,
            "overflow": null,
            "overflow_x": null,
            "overflow_y": null,
            "padding": null,
            "right": null,
            "top": null,
            "visibility": null,
            "width": null
          }
        },
        "46f9ffde19e749febac9084142ca5a16": {
          "model_module": "@jupyter-widgets/controls",
          "model_name": "ProgressStyleModel",
          "model_module_version": "1.5.0",
          "state": {
            "_model_module": "@jupyter-widgets/controls",
            "_model_module_version": "1.5.0",
            "_model_name": "ProgressStyleModel",
            "_view_count": null,
            "_view_module": "@jupyter-widgets/base",
            "_view_module_version": "1.2.0",
            "_view_name": "StyleView",
            "bar_color": null,
            "description_width": ""
          }
        },
        "44d0dd0501fb4014a9d1ab3218d1a250": {
          "model_module": "@jupyter-widgets/base",
          "model_name": "LayoutModel",
          "model_module_version": "1.2.0",
          "state": {
            "_model_module": "@jupyter-widgets/base",
            "_model_module_version": "1.2.0",
            "_model_name": "LayoutModel",
            "_view_count": null,
            "_view_module": "@jupyter-widgets/base",
            "_view_module_version": "1.2.0",
            "_view_name": "LayoutView",
            "align_content": null,
            "align_items": null,
            "align_self": null,
            "border": null,
            "bottom": null,
            "display": null,
            "flex": null,
            "flex_flow": null,
            "grid_area": null,
            "grid_auto_columns": null,
            "grid_auto_flow": null,
            "grid_auto_rows": null,
            "grid_column": null,
            "grid_gap": null,
            "grid_row": null,
            "grid_template_areas": null,
            "grid_template_columns": null,
            "grid_template_rows": null,
            "height": null,
            "justify_content": null,
            "justify_items": null,
            "left": null,
            "margin": null,
            "max_height": null,
            "max_width": null,
            "min_height": null,
            "min_width": null,
            "object_fit": null,
            "object_position": null,
            "order": null,
            "overflow": null,
            "overflow_x": null,
            "overflow_y": null,
            "padding": null,
            "right": null,
            "top": null,
            "visibility": null,
            "width": null
          }
        },
        "834cb6d74cf0404d8d3924e214f91ea5": {
          "model_module": "@jupyter-widgets/controls",
          "model_name": "DescriptionStyleModel",
          "model_module_version": "1.5.0",
          "state": {
            "_model_module": "@jupyter-widgets/controls",
            "_model_module_version": "1.5.0",
            "_model_name": "DescriptionStyleModel",
            "_view_count": null,
            "_view_module": "@jupyter-widgets/base",
            "_view_module_version": "1.2.0",
            "_view_name": "StyleView",
            "description_width": ""
          }
        },
        "a3ccf31b83154c8a9ba93ef915ebc340": {
          "model_module": "@jupyter-widgets/controls",
          "model_name": "HBoxModel",
          "model_module_version": "1.5.0",
          "state": {
            "_dom_classes": [],
            "_model_module": "@jupyter-widgets/controls",
            "_model_module_version": "1.5.0",
            "_model_name": "HBoxModel",
            "_view_count": null,
            "_view_module": "@jupyter-widgets/controls",
            "_view_module_version": "1.5.0",
            "_view_name": "HBoxView",
            "box_style": "",
            "children": [
              "IPY_MODEL_1843585e9707412dbcb291b5eaed8988",
              "IPY_MODEL_93d1598fd1dc4adabdc3f58a4cd114d5",
              "IPY_MODEL_d3d92ea033e143889e6912f0a8a7135f"
            ],
            "layout": "IPY_MODEL_19a3decab1f744df8f7cd76fbdc04aab"
          }
        },
        "1843585e9707412dbcb291b5eaed8988": {
          "model_module": "@jupyter-widgets/controls",
          "model_name": "HTMLModel",
          "model_module_version": "1.5.0",
          "state": {
            "_dom_classes": [],
            "_model_module": "@jupyter-widgets/controls",
            "_model_module_version": "1.5.0",
            "_model_name": "HTMLModel",
            "_view_count": null,
            "_view_module": "@jupyter-widgets/controls",
            "_view_module_version": "1.5.0",
            "_view_name": "HTMLView",
            "description": "",
            "description_tooltip": null,
            "layout": "IPY_MODEL_833469cee99f4d93bdd6cd1f73823e32",
            "placeholder": "​",
            "style": "IPY_MODEL_a138ec0765564bd7adadfb1c295241f5",
            "value": "100%"
          }
        },
        "93d1598fd1dc4adabdc3f58a4cd114d5": {
          "model_module": "@jupyter-widgets/controls",
          "model_name": "FloatProgressModel",
          "model_module_version": "1.5.0",
          "state": {
            "_dom_classes": [],
            "_model_module": "@jupyter-widgets/controls",
            "_model_module_version": "1.5.0",
            "_model_name": "FloatProgressModel",
            "_view_count": null,
            "_view_module": "@jupyter-widgets/controls",
            "_view_module_version": "1.5.0",
            "_view_name": "ProgressView",
            "bar_style": "success",
            "description": "",
            "description_tooltip": null,
            "layout": "IPY_MODEL_f324d542c3d94470a0a2b09137af5820",
            "max": 1279,
            "min": 0,
            "orientation": "horizontal",
            "style": "IPY_MODEL_aaa9b3370df347c684e81a9a3caa96a1",
            "value": 1279
          }
        },
        "d3d92ea033e143889e6912f0a8a7135f": {
          "model_module": "@jupyter-widgets/controls",
          "model_name": "HTMLModel",
          "model_module_version": "1.5.0",
          "state": {
            "_dom_classes": [],
            "_model_module": "@jupyter-widgets/controls",
            "_model_module_version": "1.5.0",
            "_model_name": "HTMLModel",
            "_view_count": null,
            "_view_module": "@jupyter-widgets/controls",
            "_view_module_version": "1.5.0",
            "_view_name": "HTMLView",
            "description": "",
            "description_tooltip": null,
            "layout": "IPY_MODEL_51c46a93e8b7439c91a87596b73bd75d",
            "placeholder": "​",
            "style": "IPY_MODEL_9596836a501348aa817d965fe756a0d9",
            "value": " 1279/1279 [01:12&lt;00:00, 17.62it/s]"
          }
        },
        "19a3decab1f744df8f7cd76fbdc04aab": {
          "model_module": "@jupyter-widgets/base",
          "model_name": "LayoutModel",
          "model_module_version": "1.2.0",
          "state": {
            "_model_module": "@jupyter-widgets/base",
            "_model_module_version": "1.2.0",
            "_model_name": "LayoutModel",
            "_view_count": null,
            "_view_module": "@jupyter-widgets/base",
            "_view_module_version": "1.2.0",
            "_view_name": "LayoutView",
            "align_content": null,
            "align_items": null,
            "align_self": null,
            "border": null,
            "bottom": null,
            "display": null,
            "flex": null,
            "flex_flow": null,
            "grid_area": null,
            "grid_auto_columns": null,
            "grid_auto_flow": null,
            "grid_auto_rows": null,
            "grid_column": null,
            "grid_gap": null,
            "grid_row": null,
            "grid_template_areas": null,
            "grid_template_columns": null,
            "grid_template_rows": null,
            "height": null,
            "justify_content": null,
            "justify_items": null,
            "left": null,
            "margin": null,
            "max_height": null,
            "max_width": null,
            "min_height": null,
            "min_width": null,
            "object_fit": null,
            "object_position": null,
            "order": null,
            "overflow": null,
            "overflow_x": null,
            "overflow_y": null,
            "padding": null,
            "right": null,
            "top": null,
            "visibility": null,
            "width": null
          }
        },
        "833469cee99f4d93bdd6cd1f73823e32": {
          "model_module": "@jupyter-widgets/base",
          "model_name": "LayoutModel",
          "model_module_version": "1.2.0",
          "state": {
            "_model_module": "@jupyter-widgets/base",
            "_model_module_version": "1.2.0",
            "_model_name": "LayoutModel",
            "_view_count": null,
            "_view_module": "@jupyter-widgets/base",
            "_view_module_version": "1.2.0",
            "_view_name": "LayoutView",
            "align_content": null,
            "align_items": null,
            "align_self": null,
            "border": null,
            "bottom": null,
            "display": null,
            "flex": null,
            "flex_flow": null,
            "grid_area": null,
            "grid_auto_columns": null,
            "grid_auto_flow": null,
            "grid_auto_rows": null,
            "grid_column": null,
            "grid_gap": null,
            "grid_row": null,
            "grid_template_areas": null,
            "grid_template_columns": null,
            "grid_template_rows": null,
            "height": null,
            "justify_content": null,
            "justify_items": null,
            "left": null,
            "margin": null,
            "max_height": null,
            "max_width": null,
            "min_height": null,
            "min_width": null,
            "object_fit": null,
            "object_position": null,
            "order": null,
            "overflow": null,
            "overflow_x": null,
            "overflow_y": null,
            "padding": null,
            "right": null,
            "top": null,
            "visibility": null,
            "width": null
          }
        },
        "a138ec0765564bd7adadfb1c295241f5": {
          "model_module": "@jupyter-widgets/controls",
          "model_name": "DescriptionStyleModel",
          "model_module_version": "1.5.0",
          "state": {
            "_model_module": "@jupyter-widgets/controls",
            "_model_module_version": "1.5.0",
            "_model_name": "DescriptionStyleModel",
            "_view_count": null,
            "_view_module": "@jupyter-widgets/base",
            "_view_module_version": "1.2.0",
            "_view_name": "StyleView",
            "description_width": ""
          }
        },
        "f324d542c3d94470a0a2b09137af5820": {
          "model_module": "@jupyter-widgets/base",
          "model_name": "LayoutModel",
          "model_module_version": "1.2.0",
          "state": {
            "_model_module": "@jupyter-widgets/base",
            "_model_module_version": "1.2.0",
            "_model_name": "LayoutModel",
            "_view_count": null,
            "_view_module": "@jupyter-widgets/base",
            "_view_module_version": "1.2.0",
            "_view_name": "LayoutView",
            "align_content": null,
            "align_items": null,
            "align_self": null,
            "border": null,
            "bottom": null,
            "display": null,
            "flex": null,
            "flex_flow": null,
            "grid_area": null,
            "grid_auto_columns": null,
            "grid_auto_flow": null,
            "grid_auto_rows": null,
            "grid_column": null,
            "grid_gap": null,
            "grid_row": null,
            "grid_template_areas": null,
            "grid_template_columns": null,
            "grid_template_rows": null,
            "height": null,
            "justify_content": null,
            "justify_items": null,
            "left": null,
            "margin": null,
            "max_height": null,
            "max_width": null,
            "min_height": null,
            "min_width": null,
            "object_fit": null,
            "object_position": null,
            "order": null,
            "overflow": null,
            "overflow_x": null,
            "overflow_y": null,
            "padding": null,
            "right": null,
            "top": null,
            "visibility": null,
            "width": null
          }
        },
        "aaa9b3370df347c684e81a9a3caa96a1": {
          "model_module": "@jupyter-widgets/controls",
          "model_name": "ProgressStyleModel",
          "model_module_version": "1.5.0",
          "state": {
            "_model_module": "@jupyter-widgets/controls",
            "_model_module_version": "1.5.0",
            "_model_name": "ProgressStyleModel",
            "_view_count": null,
            "_view_module": "@jupyter-widgets/base",
            "_view_module_version": "1.2.0",
            "_view_name": "StyleView",
            "bar_color": null,
            "description_width": ""
          }
        },
        "51c46a93e8b7439c91a87596b73bd75d": {
          "model_module": "@jupyter-widgets/base",
          "model_name": "LayoutModel",
          "model_module_version": "1.2.0",
          "state": {
            "_model_module": "@jupyter-widgets/base",
            "_model_module_version": "1.2.0",
            "_model_name": "LayoutModel",
            "_view_count": null,
            "_view_module": "@jupyter-widgets/base",
            "_view_module_version": "1.2.0",
            "_view_name": "LayoutView",
            "align_content": null,
            "align_items": null,
            "align_self": null,
            "border": null,
            "bottom": null,
            "display": null,
            "flex": null,
            "flex_flow": null,
            "grid_area": null,
            "grid_auto_columns": null,
            "grid_auto_flow": null,
            "grid_auto_rows": null,
            "grid_column": null,
            "grid_gap": null,
            "grid_row": null,
            "grid_template_areas": null,
            "grid_template_columns": null,
            "grid_template_rows": null,
            "height": null,
            "justify_content": null,
            "justify_items": null,
            "left": null,
            "margin": null,
            "max_height": null,
            "max_width": null,
            "min_height": null,
            "min_width": null,
            "object_fit": null,
            "object_position": null,
            "order": null,
            "overflow": null,
            "overflow_x": null,
            "overflow_y": null,
            "padding": null,
            "right": null,
            "top": null,
            "visibility": null,
            "width": null
          }
        },
        "9596836a501348aa817d965fe756a0d9": {
          "model_module": "@jupyter-widgets/controls",
          "model_name": "DescriptionStyleModel",
          "model_module_version": "1.5.0",
          "state": {
            "_model_module": "@jupyter-widgets/controls",
            "_model_module_version": "1.5.0",
            "_model_name": "DescriptionStyleModel",
            "_view_count": null,
            "_view_module": "@jupyter-widgets/base",
            "_view_module_version": "1.2.0",
            "_view_name": "StyleView",
            "description_width": ""
          }
        },
        "81bc6aebe1854612965ddb5db6e4692a": {
          "model_module": "@jupyter-widgets/controls",
          "model_name": "HBoxModel",
          "model_module_version": "1.5.0",
          "state": {
            "_dom_classes": [],
            "_model_module": "@jupyter-widgets/controls",
            "_model_module_version": "1.5.0",
            "_model_name": "HBoxModel",
            "_view_count": null,
            "_view_module": "@jupyter-widgets/controls",
            "_view_module_version": "1.5.0",
            "_view_name": "HBoxView",
            "box_style": "",
            "children": [
              "IPY_MODEL_7f068524055b45619ef0e47b073e5103",
              "IPY_MODEL_94da4c33a3994194bc1ee45baf4047d8",
              "IPY_MODEL_47d958607efc40088815b51e1f31e88c"
            ],
            "layout": "IPY_MODEL_92ba7d6064714d69aeeeb41dd3de0bce"
          }
        },
        "7f068524055b45619ef0e47b073e5103": {
          "model_module": "@jupyter-widgets/controls",
          "model_name": "HTMLModel",
          "model_module_version": "1.5.0",
          "state": {
            "_dom_classes": [],
            "_model_module": "@jupyter-widgets/controls",
            "_model_module_version": "1.5.0",
            "_model_name": "HTMLModel",
            "_view_count": null,
            "_view_module": "@jupyter-widgets/controls",
            "_view_module_version": "1.5.0",
            "_view_name": "HTMLView",
            "description": "",
            "description_tooltip": null,
            "layout": "IPY_MODEL_2088074b09d141ae911f60796d8fe9a9",
            "placeholder": "​",
            "style": "IPY_MODEL_2400104032954149b772ecdda82a629a",
            "value": "100%"
          }
        },
        "94da4c33a3994194bc1ee45baf4047d8": {
          "model_module": "@jupyter-widgets/controls",
          "model_name": "FloatProgressModel",
          "model_module_version": "1.5.0",
          "state": {
            "_dom_classes": [],
            "_model_module": "@jupyter-widgets/controls",
            "_model_module_version": "1.5.0",
            "_model_name": "FloatProgressModel",
            "_view_count": null,
            "_view_module": "@jupyter-widgets/controls",
            "_view_module_version": "1.5.0",
            "_view_name": "ProgressView",
            "bar_style": "success",
            "description": "",
            "description_tooltip": null,
            "layout": "IPY_MODEL_aeaf47f03da8485999d646b11b8f8dcf",
            "max": 1514,
            "min": 0,
            "orientation": "horizontal",
            "style": "IPY_MODEL_6f11b1f6a8ca4f6fa0f7f8e5873ab42f",
            "value": 1514
          }
        },
        "47d958607efc40088815b51e1f31e88c": {
          "model_module": "@jupyter-widgets/controls",
          "model_name": "HTMLModel",
          "model_module_version": "1.5.0",
          "state": {
            "_dom_classes": [],
            "_model_module": "@jupyter-widgets/controls",
            "_model_module_version": "1.5.0",
            "_model_name": "HTMLModel",
            "_view_count": null,
            "_view_module": "@jupyter-widgets/controls",
            "_view_module_version": "1.5.0",
            "_view_name": "HTMLView",
            "description": "",
            "description_tooltip": null,
            "layout": "IPY_MODEL_43fb6af3254b4c38bc55bdfa36935ad8",
            "placeholder": "​",
            "style": "IPY_MODEL_32f460d9b1484e6f95c65a71e22d3365",
            "value": " 1514/1514 [01:29&lt;00:00, 18.22it/s]"
          }
        },
        "92ba7d6064714d69aeeeb41dd3de0bce": {
          "model_module": "@jupyter-widgets/base",
          "model_name": "LayoutModel",
          "model_module_version": "1.2.0",
          "state": {
            "_model_module": "@jupyter-widgets/base",
            "_model_module_version": "1.2.0",
            "_model_name": "LayoutModel",
            "_view_count": null,
            "_view_module": "@jupyter-widgets/base",
            "_view_module_version": "1.2.0",
            "_view_name": "LayoutView",
            "align_content": null,
            "align_items": null,
            "align_self": null,
            "border": null,
            "bottom": null,
            "display": null,
            "flex": null,
            "flex_flow": null,
            "grid_area": null,
            "grid_auto_columns": null,
            "grid_auto_flow": null,
            "grid_auto_rows": null,
            "grid_column": null,
            "grid_gap": null,
            "grid_row": null,
            "grid_template_areas": null,
            "grid_template_columns": null,
            "grid_template_rows": null,
            "height": null,
            "justify_content": null,
            "justify_items": null,
            "left": null,
            "margin": null,
            "max_height": null,
            "max_width": null,
            "min_height": null,
            "min_width": null,
            "object_fit": null,
            "object_position": null,
            "order": null,
            "overflow": null,
            "overflow_x": null,
            "overflow_y": null,
            "padding": null,
            "right": null,
            "top": null,
            "visibility": null,
            "width": null
          }
        },
        "2088074b09d141ae911f60796d8fe9a9": {
          "model_module": "@jupyter-widgets/base",
          "model_name": "LayoutModel",
          "model_module_version": "1.2.0",
          "state": {
            "_model_module": "@jupyter-widgets/base",
            "_model_module_version": "1.2.0",
            "_model_name": "LayoutModel",
            "_view_count": null,
            "_view_module": "@jupyter-widgets/base",
            "_view_module_version": "1.2.0",
            "_view_name": "LayoutView",
            "align_content": null,
            "align_items": null,
            "align_self": null,
            "border": null,
            "bottom": null,
            "display": null,
            "flex": null,
            "flex_flow": null,
            "grid_area": null,
            "grid_auto_columns": null,
            "grid_auto_flow": null,
            "grid_auto_rows": null,
            "grid_column": null,
            "grid_gap": null,
            "grid_row": null,
            "grid_template_areas": null,
            "grid_template_columns": null,
            "grid_template_rows": null,
            "height": null,
            "justify_content": null,
            "justify_items": null,
            "left": null,
            "margin": null,
            "max_height": null,
            "max_width": null,
            "min_height": null,
            "min_width": null,
            "object_fit": null,
            "object_position": null,
            "order": null,
            "overflow": null,
            "overflow_x": null,
            "overflow_y": null,
            "padding": null,
            "right": null,
            "top": null,
            "visibility": null,
            "width": null
          }
        },
        "2400104032954149b772ecdda82a629a": {
          "model_module": "@jupyter-widgets/controls",
          "model_name": "DescriptionStyleModel",
          "model_module_version": "1.5.0",
          "state": {
            "_model_module": "@jupyter-widgets/controls",
            "_model_module_version": "1.5.0",
            "_model_name": "DescriptionStyleModel",
            "_view_count": null,
            "_view_module": "@jupyter-widgets/base",
            "_view_module_version": "1.2.0",
            "_view_name": "StyleView",
            "description_width": ""
          }
        },
        "aeaf47f03da8485999d646b11b8f8dcf": {
          "model_module": "@jupyter-widgets/base",
          "model_name": "LayoutModel",
          "model_module_version": "1.2.0",
          "state": {
            "_model_module": "@jupyter-widgets/base",
            "_model_module_version": "1.2.0",
            "_model_name": "LayoutModel",
            "_view_count": null,
            "_view_module": "@jupyter-widgets/base",
            "_view_module_version": "1.2.0",
            "_view_name": "LayoutView",
            "align_content": null,
            "align_items": null,
            "align_self": null,
            "border": null,
            "bottom": null,
            "display": null,
            "flex": null,
            "flex_flow": null,
            "grid_area": null,
            "grid_auto_columns": null,
            "grid_auto_flow": null,
            "grid_auto_rows": null,
            "grid_column": null,
            "grid_gap": null,
            "grid_row": null,
            "grid_template_areas": null,
            "grid_template_columns": null,
            "grid_template_rows": null,
            "height": null,
            "justify_content": null,
            "justify_items": null,
            "left": null,
            "margin": null,
            "max_height": null,
            "max_width": null,
            "min_height": null,
            "min_width": null,
            "object_fit": null,
            "object_position": null,
            "order": null,
            "overflow": null,
            "overflow_x": null,
            "overflow_y": null,
            "padding": null,
            "right": null,
            "top": null,
            "visibility": null,
            "width": null
          }
        },
        "6f11b1f6a8ca4f6fa0f7f8e5873ab42f": {
          "model_module": "@jupyter-widgets/controls",
          "model_name": "ProgressStyleModel",
          "model_module_version": "1.5.0",
          "state": {
            "_model_module": "@jupyter-widgets/controls",
            "_model_module_version": "1.5.0",
            "_model_name": "ProgressStyleModel",
            "_view_count": null,
            "_view_module": "@jupyter-widgets/base",
            "_view_module_version": "1.2.0",
            "_view_name": "StyleView",
            "bar_color": null,
            "description_width": ""
          }
        },
        "43fb6af3254b4c38bc55bdfa36935ad8": {
          "model_module": "@jupyter-widgets/base",
          "model_name": "LayoutModel",
          "model_module_version": "1.2.0",
          "state": {
            "_model_module": "@jupyter-widgets/base",
            "_model_module_version": "1.2.0",
            "_model_name": "LayoutModel",
            "_view_count": null,
            "_view_module": "@jupyter-widgets/base",
            "_view_module_version": "1.2.0",
            "_view_name": "LayoutView",
            "align_content": null,
            "align_items": null,
            "align_self": null,
            "border": null,
            "bottom": null,
            "display": null,
            "flex": null,
            "flex_flow": null,
            "grid_area": null,
            "grid_auto_columns": null,
            "grid_auto_flow": null,
            "grid_auto_rows": null,
            "grid_column": null,
            "grid_gap": null,
            "grid_row": null,
            "grid_template_areas": null,
            "grid_template_columns": null,
            "grid_template_rows": null,
            "height": null,
            "justify_content": null,
            "justify_items": null,
            "left": null,
            "margin": null,
            "max_height": null,
            "max_width": null,
            "min_height": null,
            "min_width": null,
            "object_fit": null,
            "object_position": null,
            "order": null,
            "overflow": null,
            "overflow_x": null,
            "overflow_y": null,
            "padding": null,
            "right": null,
            "top": null,
            "visibility": null,
            "width": null
          }
        },
        "32f460d9b1484e6f95c65a71e22d3365": {
          "model_module": "@jupyter-widgets/controls",
          "model_name": "DescriptionStyleModel",
          "model_module_version": "1.5.0",
          "state": {
            "_model_module": "@jupyter-widgets/controls",
            "_model_module_version": "1.5.0",
            "_model_name": "DescriptionStyleModel",
            "_view_count": null,
            "_view_module": "@jupyter-widgets/base",
            "_view_module_version": "1.2.0",
            "_view_name": "StyleView",
            "description_width": ""
          }
        },
        "1adf5f8238c44130958ee80c27d3e2b4": {
          "model_module": "@jupyter-widgets/controls",
          "model_name": "HBoxModel",
          "model_module_version": "1.5.0",
          "state": {
            "_dom_classes": [],
            "_model_module": "@jupyter-widgets/controls",
            "_model_module_version": "1.5.0",
            "_model_name": "HBoxModel",
            "_view_count": null,
            "_view_module": "@jupyter-widgets/controls",
            "_view_module_version": "1.5.0",
            "_view_name": "HBoxView",
            "box_style": "",
            "children": [
              "IPY_MODEL_147287163ff5414daedeefcaa44e5f68",
              "IPY_MODEL_9eee3ecbaabe41b3a7074ef155e94a9a",
              "IPY_MODEL_bd0957d5e1b540c1809a3204a48cb40d"
            ],
            "layout": "IPY_MODEL_e7fe851d4d754f1dbc1ee743162a14d8"
          }
        },
        "147287163ff5414daedeefcaa44e5f68": {
          "model_module": "@jupyter-widgets/controls",
          "model_name": "HTMLModel",
          "model_module_version": "1.5.0",
          "state": {
            "_dom_classes": [],
            "_model_module": "@jupyter-widgets/controls",
            "_model_module_version": "1.5.0",
            "_model_name": "HTMLModel",
            "_view_count": null,
            "_view_module": "@jupyter-widgets/controls",
            "_view_module_version": "1.5.0",
            "_view_name": "HTMLView",
            "description": "",
            "description_tooltip": null,
            "layout": "IPY_MODEL_dc1ab1239fb34347908e8fed6601762c",
            "placeholder": "​",
            "style": "IPY_MODEL_36613268c08e443c9a6c1b89d407d31e",
            "value": "100%"
          }
        },
        "9eee3ecbaabe41b3a7074ef155e94a9a": {
          "model_module": "@jupyter-widgets/controls",
          "model_name": "FloatProgressModel",
          "model_module_version": "1.5.0",
          "state": {
            "_dom_classes": [],
            "_model_module": "@jupyter-widgets/controls",
            "_model_module_version": "1.5.0",
            "_model_name": "FloatProgressModel",
            "_view_count": null,
            "_view_module": "@jupyter-widgets/controls",
            "_view_module_version": "1.5.0",
            "_view_name": "ProgressView",
            "bar_style": "success",
            "description": "",
            "description_tooltip": null,
            "layout": "IPY_MODEL_42b238e9687b44c88ed8ce087a60fe66",
            "max": 1279,
            "min": 0,
            "orientation": "horizontal",
            "style": "IPY_MODEL_a4a8b128ec324a15b53eb71a4288498f",
            "value": 1279
          }
        },
        "bd0957d5e1b540c1809a3204a48cb40d": {
          "model_module": "@jupyter-widgets/controls",
          "model_name": "HTMLModel",
          "model_module_version": "1.5.0",
          "state": {
            "_dom_classes": [],
            "_model_module": "@jupyter-widgets/controls",
            "_model_module_version": "1.5.0",
            "_model_name": "HTMLModel",
            "_view_count": null,
            "_view_module": "@jupyter-widgets/controls",
            "_view_module_version": "1.5.0",
            "_view_name": "HTMLView",
            "description": "",
            "description_tooltip": null,
            "layout": "IPY_MODEL_72f40b7d8fb14f61ae24d5834fee108f",
            "placeholder": "​",
            "style": "IPY_MODEL_7838fbc4f4ba46589f8d1738633994b7",
            "value": " 1279/1279 [01:41&lt;00:00, 14.86it/s]"
          }
        },
        "e7fe851d4d754f1dbc1ee743162a14d8": {
          "model_module": "@jupyter-widgets/base",
          "model_name": "LayoutModel",
          "model_module_version": "1.2.0",
          "state": {
            "_model_module": "@jupyter-widgets/base",
            "_model_module_version": "1.2.0",
            "_model_name": "LayoutModel",
            "_view_count": null,
            "_view_module": "@jupyter-widgets/base",
            "_view_module_version": "1.2.0",
            "_view_name": "LayoutView",
            "align_content": null,
            "align_items": null,
            "align_self": null,
            "border": null,
            "bottom": null,
            "display": null,
            "flex": null,
            "flex_flow": null,
            "grid_area": null,
            "grid_auto_columns": null,
            "grid_auto_flow": null,
            "grid_auto_rows": null,
            "grid_column": null,
            "grid_gap": null,
            "grid_row": null,
            "grid_template_areas": null,
            "grid_template_columns": null,
            "grid_template_rows": null,
            "height": null,
            "justify_content": null,
            "justify_items": null,
            "left": null,
            "margin": null,
            "max_height": null,
            "max_width": null,
            "min_height": null,
            "min_width": null,
            "object_fit": null,
            "object_position": null,
            "order": null,
            "overflow": null,
            "overflow_x": null,
            "overflow_y": null,
            "padding": null,
            "right": null,
            "top": null,
            "visibility": null,
            "width": null
          }
        },
        "dc1ab1239fb34347908e8fed6601762c": {
          "model_module": "@jupyter-widgets/base",
          "model_name": "LayoutModel",
          "model_module_version": "1.2.0",
          "state": {
            "_model_module": "@jupyter-widgets/base",
            "_model_module_version": "1.2.0",
            "_model_name": "LayoutModel",
            "_view_count": null,
            "_view_module": "@jupyter-widgets/base",
            "_view_module_version": "1.2.0",
            "_view_name": "LayoutView",
            "align_content": null,
            "align_items": null,
            "align_self": null,
            "border": null,
            "bottom": null,
            "display": null,
            "flex": null,
            "flex_flow": null,
            "grid_area": null,
            "grid_auto_columns": null,
            "grid_auto_flow": null,
            "grid_auto_rows": null,
            "grid_column": null,
            "grid_gap": null,
            "grid_row": null,
            "grid_template_areas": null,
            "grid_template_columns": null,
            "grid_template_rows": null,
            "height": null,
            "justify_content": null,
            "justify_items": null,
            "left": null,
            "margin": null,
            "max_height": null,
            "max_width": null,
            "min_height": null,
            "min_width": null,
            "object_fit": null,
            "object_position": null,
            "order": null,
            "overflow": null,
            "overflow_x": null,
            "overflow_y": null,
            "padding": null,
            "right": null,
            "top": null,
            "visibility": null,
            "width": null
          }
        },
        "36613268c08e443c9a6c1b89d407d31e": {
          "model_module": "@jupyter-widgets/controls",
          "model_name": "DescriptionStyleModel",
          "model_module_version": "1.5.0",
          "state": {
            "_model_module": "@jupyter-widgets/controls",
            "_model_module_version": "1.5.0",
            "_model_name": "DescriptionStyleModel",
            "_view_count": null,
            "_view_module": "@jupyter-widgets/base",
            "_view_module_version": "1.2.0",
            "_view_name": "StyleView",
            "description_width": ""
          }
        },
        "42b238e9687b44c88ed8ce087a60fe66": {
          "model_module": "@jupyter-widgets/base",
          "model_name": "LayoutModel",
          "model_module_version": "1.2.0",
          "state": {
            "_model_module": "@jupyter-widgets/base",
            "_model_module_version": "1.2.0",
            "_model_name": "LayoutModel",
            "_view_count": null,
            "_view_module": "@jupyter-widgets/base",
            "_view_module_version": "1.2.0",
            "_view_name": "LayoutView",
            "align_content": null,
            "align_items": null,
            "align_self": null,
            "border": null,
            "bottom": null,
            "display": null,
            "flex": null,
            "flex_flow": null,
            "grid_area": null,
            "grid_auto_columns": null,
            "grid_auto_flow": null,
            "grid_auto_rows": null,
            "grid_column": null,
            "grid_gap": null,
            "grid_row": null,
            "grid_template_areas": null,
            "grid_template_columns": null,
            "grid_template_rows": null,
            "height": null,
            "justify_content": null,
            "justify_items": null,
            "left": null,
            "margin": null,
            "max_height": null,
            "max_width": null,
            "min_height": null,
            "min_width": null,
            "object_fit": null,
            "object_position": null,
            "order": null,
            "overflow": null,
            "overflow_x": null,
            "overflow_y": null,
            "padding": null,
            "right": null,
            "top": null,
            "visibility": null,
            "width": null
          }
        },
        "a4a8b128ec324a15b53eb71a4288498f": {
          "model_module": "@jupyter-widgets/controls",
          "model_name": "ProgressStyleModel",
          "model_module_version": "1.5.0",
          "state": {
            "_model_module": "@jupyter-widgets/controls",
            "_model_module_version": "1.5.0",
            "_model_name": "ProgressStyleModel",
            "_view_count": null,
            "_view_module": "@jupyter-widgets/base",
            "_view_module_version": "1.2.0",
            "_view_name": "StyleView",
            "bar_color": null,
            "description_width": ""
          }
        },
        "72f40b7d8fb14f61ae24d5834fee108f": {
          "model_module": "@jupyter-widgets/base",
          "model_name": "LayoutModel",
          "model_module_version": "1.2.0",
          "state": {
            "_model_module": "@jupyter-widgets/base",
            "_model_module_version": "1.2.0",
            "_model_name": "LayoutModel",
            "_view_count": null,
            "_view_module": "@jupyter-widgets/base",
            "_view_module_version": "1.2.0",
            "_view_name": "LayoutView",
            "align_content": null,
            "align_items": null,
            "align_self": null,
            "border": null,
            "bottom": null,
            "display": null,
            "flex": null,
            "flex_flow": null,
            "grid_area": null,
            "grid_auto_columns": null,
            "grid_auto_flow": null,
            "grid_auto_rows": null,
            "grid_column": null,
            "grid_gap": null,
            "grid_row": null,
            "grid_template_areas": null,
            "grid_template_columns": null,
            "grid_template_rows": null,
            "height": null,
            "justify_content": null,
            "justify_items": null,
            "left": null,
            "margin": null,
            "max_height": null,
            "max_width": null,
            "min_height": null,
            "min_width": null,
            "object_fit": null,
            "object_position": null,
            "order": null,
            "overflow": null,
            "overflow_x": null,
            "overflow_y": null,
            "padding": null,
            "right": null,
            "top": null,
            "visibility": null,
            "width": null
          }
        },
        "7838fbc4f4ba46589f8d1738633994b7": {
          "model_module": "@jupyter-widgets/controls",
          "model_name": "DescriptionStyleModel",
          "model_module_version": "1.5.0",
          "state": {
            "_model_module": "@jupyter-widgets/controls",
            "_model_module_version": "1.5.0",
            "_model_name": "DescriptionStyleModel",
            "_view_count": null,
            "_view_module": "@jupyter-widgets/base",
            "_view_module_version": "1.2.0",
            "_view_name": "StyleView",
            "description_width": ""
          }
        },
        "2dd267798be64fda8eb35ef9f472b126": {
          "model_module": "@jupyter-widgets/controls",
          "model_name": "HBoxModel",
          "model_module_version": "1.5.0",
          "state": {
            "_dom_classes": [],
            "_model_module": "@jupyter-widgets/controls",
            "_model_module_version": "1.5.0",
            "_model_name": "HBoxModel",
            "_view_count": null,
            "_view_module": "@jupyter-widgets/controls",
            "_view_module_version": "1.5.0",
            "_view_name": "HBoxView",
            "box_style": "",
            "children": [
              "IPY_MODEL_2af6bdae35344112813abbbbcf8a9378",
              "IPY_MODEL_a2b983995fe74be785cb368a5d14a337",
              "IPY_MODEL_e761009436eb4a109f4e45a55fe61b79"
            ],
            "layout": "IPY_MODEL_0322ba4d6cc3492e91fe8bdf12d2ed60"
          }
        },
        "2af6bdae35344112813abbbbcf8a9378": {
          "model_module": "@jupyter-widgets/controls",
          "model_name": "HTMLModel",
          "model_module_version": "1.5.0",
          "state": {
            "_dom_classes": [],
            "_model_module": "@jupyter-widgets/controls",
            "_model_module_version": "1.5.0",
            "_model_name": "HTMLModel",
            "_view_count": null,
            "_view_module": "@jupyter-widgets/controls",
            "_view_module_version": "1.5.0",
            "_view_name": "HTMLView",
            "description": "",
            "description_tooltip": null,
            "layout": "IPY_MODEL_1f52ba49e4064005a7d7f11bc7467611",
            "placeholder": "​",
            "style": "IPY_MODEL_ecbd496ce561434294dc7649d6c39ec9",
            "value": "100%"
          }
        },
        "a2b983995fe74be785cb368a5d14a337": {
          "model_module": "@jupyter-widgets/controls",
          "model_name": "FloatProgressModel",
          "model_module_version": "1.5.0",
          "state": {
            "_dom_classes": [],
            "_model_module": "@jupyter-widgets/controls",
            "_model_module_version": "1.5.0",
            "_model_name": "FloatProgressModel",
            "_view_count": null,
            "_view_module": "@jupyter-widgets/controls",
            "_view_module_version": "1.5.0",
            "_view_name": "ProgressView",
            "bar_style": "success",
            "description": "",
            "description_tooltip": null,
            "layout": "IPY_MODEL_25e6fcaf1e0043eab236906b146e598e",
            "max": 1514,
            "min": 0,
            "orientation": "horizontal",
            "style": "IPY_MODEL_43bf4d61f3964c63952c4e4418dc87a4",
            "value": 1514
          }
        },
        "e761009436eb4a109f4e45a55fe61b79": {
          "model_module": "@jupyter-widgets/controls",
          "model_name": "HTMLModel",
          "model_module_version": "1.5.0",
          "state": {
            "_dom_classes": [],
            "_model_module": "@jupyter-widgets/controls",
            "_model_module_version": "1.5.0",
            "_model_name": "HTMLModel",
            "_view_count": null,
            "_view_module": "@jupyter-widgets/controls",
            "_view_module_version": "1.5.0",
            "_view_name": "HTMLView",
            "description": "",
            "description_tooltip": null,
            "layout": "IPY_MODEL_e461e8a100124188b8e0d82cdff5a806",
            "placeholder": "​",
            "style": "IPY_MODEL_37c5558bcb76420b820fb57fdfd3e43d",
            "value": " 1514/1514 [01:45&lt;00:00, 13.89it/s]"
          }
        },
        "0322ba4d6cc3492e91fe8bdf12d2ed60": {
          "model_module": "@jupyter-widgets/base",
          "model_name": "LayoutModel",
          "model_module_version": "1.2.0",
          "state": {
            "_model_module": "@jupyter-widgets/base",
            "_model_module_version": "1.2.0",
            "_model_name": "LayoutModel",
            "_view_count": null,
            "_view_module": "@jupyter-widgets/base",
            "_view_module_version": "1.2.0",
            "_view_name": "LayoutView",
            "align_content": null,
            "align_items": null,
            "align_self": null,
            "border": null,
            "bottom": null,
            "display": null,
            "flex": null,
            "flex_flow": null,
            "grid_area": null,
            "grid_auto_columns": null,
            "grid_auto_flow": null,
            "grid_auto_rows": null,
            "grid_column": null,
            "grid_gap": null,
            "grid_row": null,
            "grid_template_areas": null,
            "grid_template_columns": null,
            "grid_template_rows": null,
            "height": null,
            "justify_content": null,
            "justify_items": null,
            "left": null,
            "margin": null,
            "max_height": null,
            "max_width": null,
            "min_height": null,
            "min_width": null,
            "object_fit": null,
            "object_position": null,
            "order": null,
            "overflow": null,
            "overflow_x": null,
            "overflow_y": null,
            "padding": null,
            "right": null,
            "top": null,
            "visibility": null,
            "width": null
          }
        },
        "1f52ba49e4064005a7d7f11bc7467611": {
          "model_module": "@jupyter-widgets/base",
          "model_name": "LayoutModel",
          "model_module_version": "1.2.0",
          "state": {
            "_model_module": "@jupyter-widgets/base",
            "_model_module_version": "1.2.0",
            "_model_name": "LayoutModel",
            "_view_count": null,
            "_view_module": "@jupyter-widgets/base",
            "_view_module_version": "1.2.0",
            "_view_name": "LayoutView",
            "align_content": null,
            "align_items": null,
            "align_self": null,
            "border": null,
            "bottom": null,
            "display": null,
            "flex": null,
            "flex_flow": null,
            "grid_area": null,
            "grid_auto_columns": null,
            "grid_auto_flow": null,
            "grid_auto_rows": null,
            "grid_column": null,
            "grid_gap": null,
            "grid_row": null,
            "grid_template_areas": null,
            "grid_template_columns": null,
            "grid_template_rows": null,
            "height": null,
            "justify_content": null,
            "justify_items": null,
            "left": null,
            "margin": null,
            "max_height": null,
            "max_width": null,
            "min_height": null,
            "min_width": null,
            "object_fit": null,
            "object_position": null,
            "order": null,
            "overflow": null,
            "overflow_x": null,
            "overflow_y": null,
            "padding": null,
            "right": null,
            "top": null,
            "visibility": null,
            "width": null
          }
        },
        "ecbd496ce561434294dc7649d6c39ec9": {
          "model_module": "@jupyter-widgets/controls",
          "model_name": "DescriptionStyleModel",
          "model_module_version": "1.5.0",
          "state": {
            "_model_module": "@jupyter-widgets/controls",
            "_model_module_version": "1.5.0",
            "_model_name": "DescriptionStyleModel",
            "_view_count": null,
            "_view_module": "@jupyter-widgets/base",
            "_view_module_version": "1.2.0",
            "_view_name": "StyleView",
            "description_width": ""
          }
        },
        "25e6fcaf1e0043eab236906b146e598e": {
          "model_module": "@jupyter-widgets/base",
          "model_name": "LayoutModel",
          "model_module_version": "1.2.0",
          "state": {
            "_model_module": "@jupyter-widgets/base",
            "_model_module_version": "1.2.0",
            "_model_name": "LayoutModel",
            "_view_count": null,
            "_view_module": "@jupyter-widgets/base",
            "_view_module_version": "1.2.0",
            "_view_name": "LayoutView",
            "align_content": null,
            "align_items": null,
            "align_self": null,
            "border": null,
            "bottom": null,
            "display": null,
            "flex": null,
            "flex_flow": null,
            "grid_area": null,
            "grid_auto_columns": null,
            "grid_auto_flow": null,
            "grid_auto_rows": null,
            "grid_column": null,
            "grid_gap": null,
            "grid_row": null,
            "grid_template_areas": null,
            "grid_template_columns": null,
            "grid_template_rows": null,
            "height": null,
            "justify_content": null,
            "justify_items": null,
            "left": null,
            "margin": null,
            "max_height": null,
            "max_width": null,
            "min_height": null,
            "min_width": null,
            "object_fit": null,
            "object_position": null,
            "order": null,
            "overflow": null,
            "overflow_x": null,
            "overflow_y": null,
            "padding": null,
            "right": null,
            "top": null,
            "visibility": null,
            "width": null
          }
        },
        "43bf4d61f3964c63952c4e4418dc87a4": {
          "model_module": "@jupyter-widgets/controls",
          "model_name": "ProgressStyleModel",
          "model_module_version": "1.5.0",
          "state": {
            "_model_module": "@jupyter-widgets/controls",
            "_model_module_version": "1.5.0",
            "_model_name": "ProgressStyleModel",
            "_view_count": null,
            "_view_module": "@jupyter-widgets/base",
            "_view_module_version": "1.2.0",
            "_view_name": "StyleView",
            "bar_color": null,
            "description_width": ""
          }
        },
        "e461e8a100124188b8e0d82cdff5a806": {
          "model_module": "@jupyter-widgets/base",
          "model_name": "LayoutModel",
          "model_module_version": "1.2.0",
          "state": {
            "_model_module": "@jupyter-widgets/base",
            "_model_module_version": "1.2.0",
            "_model_name": "LayoutModel",
            "_view_count": null,
            "_view_module": "@jupyter-widgets/base",
            "_view_module_version": "1.2.0",
            "_view_name": "LayoutView",
            "align_content": null,
            "align_items": null,
            "align_self": null,
            "border": null,
            "bottom": null,
            "display": null,
            "flex": null,
            "flex_flow": null,
            "grid_area": null,
            "grid_auto_columns": null,
            "grid_auto_flow": null,
            "grid_auto_rows": null,
            "grid_column": null,
            "grid_gap": null,
            "grid_row": null,
            "grid_template_areas": null,
            "grid_template_columns": null,
            "grid_template_rows": null,
            "height": null,
            "justify_content": null,
            "justify_items": null,
            "left": null,
            "margin": null,
            "max_height": null,
            "max_width": null,
            "min_height": null,
            "min_width": null,
            "object_fit": null,
            "object_position": null,
            "order": null,
            "overflow": null,
            "overflow_x": null,
            "overflow_y": null,
            "padding": null,
            "right": null,
            "top": null,
            "visibility": null,
            "width": null
          }
        },
        "37c5558bcb76420b820fb57fdfd3e43d": {
          "model_module": "@jupyter-widgets/controls",
          "model_name": "DescriptionStyleModel",
          "model_module_version": "1.5.0",
          "state": {
            "_model_module": "@jupyter-widgets/controls",
            "_model_module_version": "1.5.0",
            "_model_name": "DescriptionStyleModel",
            "_view_count": null,
            "_view_module": "@jupyter-widgets/base",
            "_view_module_version": "1.2.0",
            "_view_name": "StyleView",
            "description_width": ""
          }
        },
        "bbfb3096ed31427087a94697f8632388": {
          "model_module": "@jupyter-widgets/controls",
          "model_name": "HBoxModel",
          "model_module_version": "1.5.0",
          "state": {
            "_dom_classes": [],
            "_model_module": "@jupyter-widgets/controls",
            "_model_module_version": "1.5.0",
            "_model_name": "HBoxModel",
            "_view_count": null,
            "_view_module": "@jupyter-widgets/controls",
            "_view_module_version": "1.5.0",
            "_view_name": "HBoxView",
            "box_style": "",
            "children": [
              "IPY_MODEL_aaa78c9655084c2a9cd9b0ea4966cb54",
              "IPY_MODEL_ceebbd1c09b74505a063fefbcf0c6a34",
              "IPY_MODEL_edf194b328a24ff4af138ad5ba2f4a35"
            ],
            "layout": "IPY_MODEL_e43b8605e450495788c672505c5712c6"
          }
        },
        "aaa78c9655084c2a9cd9b0ea4966cb54": {
          "model_module": "@jupyter-widgets/controls",
          "model_name": "HTMLModel",
          "model_module_version": "1.5.0",
          "state": {
            "_dom_classes": [],
            "_model_module": "@jupyter-widgets/controls",
            "_model_module_version": "1.5.0",
            "_model_name": "HTMLModel",
            "_view_count": null,
            "_view_module": "@jupyter-widgets/controls",
            "_view_module_version": "1.5.0",
            "_view_name": "HTMLView",
            "description": "",
            "description_tooltip": null,
            "layout": "IPY_MODEL_744e7ae8a1bf477db5cf02de197f2562",
            "placeholder": "​",
            "style": "IPY_MODEL_4eef7c82167a4b2ca1a3f6e21b69cf6a",
            "value": "100%"
          }
        },
        "ceebbd1c09b74505a063fefbcf0c6a34": {
          "model_module": "@jupyter-widgets/controls",
          "model_name": "FloatProgressModel",
          "model_module_version": "1.5.0",
          "state": {
            "_dom_classes": [],
            "_model_module": "@jupyter-widgets/controls",
            "_model_module_version": "1.5.0",
            "_model_name": "FloatProgressModel",
            "_view_count": null,
            "_view_module": "@jupyter-widgets/controls",
            "_view_module_version": "1.5.0",
            "_view_name": "ProgressView",
            "bar_style": "success",
            "description": "",
            "description_tooltip": null,
            "layout": "IPY_MODEL_aefba4ea1af545cfbd7b981c063dbc4b",
            "max": 1279,
            "min": 0,
            "orientation": "horizontal",
            "style": "IPY_MODEL_2683f6546816484c907c70d823dc1ef7",
            "value": 1279
          }
        },
        "edf194b328a24ff4af138ad5ba2f4a35": {
          "model_module": "@jupyter-widgets/controls",
          "model_name": "HTMLModel",
          "model_module_version": "1.5.0",
          "state": {
            "_dom_classes": [],
            "_model_module": "@jupyter-widgets/controls",
            "_model_module_version": "1.5.0",
            "_model_name": "HTMLModel",
            "_view_count": null,
            "_view_module": "@jupyter-widgets/controls",
            "_view_module_version": "1.5.0",
            "_view_name": "HTMLView",
            "description": "",
            "description_tooltip": null,
            "layout": "IPY_MODEL_eb0419e1ca5f48d3bb3f8e28dd283731",
            "placeholder": "​",
            "style": "IPY_MODEL_93b8afac39c84ce1b16d44c0f234be2e",
            "value": " 1279/1279 [02:31&lt;00:00, 14.71it/s]"
          }
        },
        "e43b8605e450495788c672505c5712c6": {
          "model_module": "@jupyter-widgets/base",
          "model_name": "LayoutModel",
          "model_module_version": "1.2.0",
          "state": {
            "_model_module": "@jupyter-widgets/base",
            "_model_module_version": "1.2.0",
            "_model_name": "LayoutModel",
            "_view_count": null,
            "_view_module": "@jupyter-widgets/base",
            "_view_module_version": "1.2.0",
            "_view_name": "LayoutView",
            "align_content": null,
            "align_items": null,
            "align_self": null,
            "border": null,
            "bottom": null,
            "display": null,
            "flex": null,
            "flex_flow": null,
            "grid_area": null,
            "grid_auto_columns": null,
            "grid_auto_flow": null,
            "grid_auto_rows": null,
            "grid_column": null,
            "grid_gap": null,
            "grid_row": null,
            "grid_template_areas": null,
            "grid_template_columns": null,
            "grid_template_rows": null,
            "height": null,
            "justify_content": null,
            "justify_items": null,
            "left": null,
            "margin": null,
            "max_height": null,
            "max_width": null,
            "min_height": null,
            "min_width": null,
            "object_fit": null,
            "object_position": null,
            "order": null,
            "overflow": null,
            "overflow_x": null,
            "overflow_y": null,
            "padding": null,
            "right": null,
            "top": null,
            "visibility": null,
            "width": null
          }
        },
        "744e7ae8a1bf477db5cf02de197f2562": {
          "model_module": "@jupyter-widgets/base",
          "model_name": "LayoutModel",
          "model_module_version": "1.2.0",
          "state": {
            "_model_module": "@jupyter-widgets/base",
            "_model_module_version": "1.2.0",
            "_model_name": "LayoutModel",
            "_view_count": null,
            "_view_module": "@jupyter-widgets/base",
            "_view_module_version": "1.2.0",
            "_view_name": "LayoutView",
            "align_content": null,
            "align_items": null,
            "align_self": null,
            "border": null,
            "bottom": null,
            "display": null,
            "flex": null,
            "flex_flow": null,
            "grid_area": null,
            "grid_auto_columns": null,
            "grid_auto_flow": null,
            "grid_auto_rows": null,
            "grid_column": null,
            "grid_gap": null,
            "grid_row": null,
            "grid_template_areas": null,
            "grid_template_columns": null,
            "grid_template_rows": null,
            "height": null,
            "justify_content": null,
            "justify_items": null,
            "left": null,
            "margin": null,
            "max_height": null,
            "max_width": null,
            "min_height": null,
            "min_width": null,
            "object_fit": null,
            "object_position": null,
            "order": null,
            "overflow": null,
            "overflow_x": null,
            "overflow_y": null,
            "padding": null,
            "right": null,
            "top": null,
            "visibility": null,
            "width": null
          }
        },
        "4eef7c82167a4b2ca1a3f6e21b69cf6a": {
          "model_module": "@jupyter-widgets/controls",
          "model_name": "DescriptionStyleModel",
          "model_module_version": "1.5.0",
          "state": {
            "_model_module": "@jupyter-widgets/controls",
            "_model_module_version": "1.5.0",
            "_model_name": "DescriptionStyleModel",
            "_view_count": null,
            "_view_module": "@jupyter-widgets/base",
            "_view_module_version": "1.2.0",
            "_view_name": "StyleView",
            "description_width": ""
          }
        },
        "aefba4ea1af545cfbd7b981c063dbc4b": {
          "model_module": "@jupyter-widgets/base",
          "model_name": "LayoutModel",
          "model_module_version": "1.2.0",
          "state": {
            "_model_module": "@jupyter-widgets/base",
            "_model_module_version": "1.2.0",
            "_model_name": "LayoutModel",
            "_view_count": null,
            "_view_module": "@jupyter-widgets/base",
            "_view_module_version": "1.2.0",
            "_view_name": "LayoutView",
            "align_content": null,
            "align_items": null,
            "align_self": null,
            "border": null,
            "bottom": null,
            "display": null,
            "flex": null,
            "flex_flow": null,
            "grid_area": null,
            "grid_auto_columns": null,
            "grid_auto_flow": null,
            "grid_auto_rows": null,
            "grid_column": null,
            "grid_gap": null,
            "grid_row": null,
            "grid_template_areas": null,
            "grid_template_columns": null,
            "grid_template_rows": null,
            "height": null,
            "justify_content": null,
            "justify_items": null,
            "left": null,
            "margin": null,
            "max_height": null,
            "max_width": null,
            "min_height": null,
            "min_width": null,
            "object_fit": null,
            "object_position": null,
            "order": null,
            "overflow": null,
            "overflow_x": null,
            "overflow_y": null,
            "padding": null,
            "right": null,
            "top": null,
            "visibility": null,
            "width": null
          }
        },
        "2683f6546816484c907c70d823dc1ef7": {
          "model_module": "@jupyter-widgets/controls",
          "model_name": "ProgressStyleModel",
          "model_module_version": "1.5.0",
          "state": {
            "_model_module": "@jupyter-widgets/controls",
            "_model_module_version": "1.5.0",
            "_model_name": "ProgressStyleModel",
            "_view_count": null,
            "_view_module": "@jupyter-widgets/base",
            "_view_module_version": "1.2.0",
            "_view_name": "StyleView",
            "bar_color": null,
            "description_width": ""
          }
        },
        "eb0419e1ca5f48d3bb3f8e28dd283731": {
          "model_module": "@jupyter-widgets/base",
          "model_name": "LayoutModel",
          "model_module_version": "1.2.0",
          "state": {
            "_model_module": "@jupyter-widgets/base",
            "_model_module_version": "1.2.0",
            "_model_name": "LayoutModel",
            "_view_count": null,
            "_view_module": "@jupyter-widgets/base",
            "_view_module_version": "1.2.0",
            "_view_name": "LayoutView",
            "align_content": null,
            "align_items": null,
            "align_self": null,
            "border": null,
            "bottom": null,
            "display": null,
            "flex": null,
            "flex_flow": null,
            "grid_area": null,
            "grid_auto_columns": null,
            "grid_auto_flow": null,
            "grid_auto_rows": null,
            "grid_column": null,
            "grid_gap": null,
            "grid_row": null,
            "grid_template_areas": null,
            "grid_template_columns": null,
            "grid_template_rows": null,
            "height": null,
            "justify_content": null,
            "justify_items": null,
            "left": null,
            "margin": null,
            "max_height": null,
            "max_width": null,
            "min_height": null,
            "min_width": null,
            "object_fit": null,
            "object_position": null,
            "order": null,
            "overflow": null,
            "overflow_x": null,
            "overflow_y": null,
            "padding": null,
            "right": null,
            "top": null,
            "visibility": null,
            "width": null
          }
        },
        "93b8afac39c84ce1b16d44c0f234be2e": {
          "model_module": "@jupyter-widgets/controls",
          "model_name": "DescriptionStyleModel",
          "model_module_version": "1.5.0",
          "state": {
            "_model_module": "@jupyter-widgets/controls",
            "_model_module_version": "1.5.0",
            "_model_name": "DescriptionStyleModel",
            "_view_count": null,
            "_view_module": "@jupyter-widgets/base",
            "_view_module_version": "1.2.0",
            "_view_name": "StyleView",
            "description_width": ""
          }
        },
        "c8d4a08f8e9b4e06b8d226809f064328": {
          "model_module": "@jupyter-widgets/controls",
          "model_name": "HBoxModel",
          "model_module_version": "1.5.0",
          "state": {
            "_dom_classes": [],
            "_model_module": "@jupyter-widgets/controls",
            "_model_module_version": "1.5.0",
            "_model_name": "HBoxModel",
            "_view_count": null,
            "_view_module": "@jupyter-widgets/controls",
            "_view_module_version": "1.5.0",
            "_view_name": "HBoxView",
            "box_style": "",
            "children": [
              "IPY_MODEL_ca6a799183234bbd9338d1d3977aac14",
              "IPY_MODEL_ef8ecb5c58d54bd381628f151b8eefad",
              "IPY_MODEL_fdfb72b0737c4608aff07ee6f649db1a"
            ],
            "layout": "IPY_MODEL_1c8d436878cf471e995a234b98a07fbe"
          }
        },
        "ca6a799183234bbd9338d1d3977aac14": {
          "model_module": "@jupyter-widgets/controls",
          "model_name": "HTMLModel",
          "model_module_version": "1.5.0",
          "state": {
            "_dom_classes": [],
            "_model_module": "@jupyter-widgets/controls",
            "_model_module_version": "1.5.0",
            "_model_name": "HTMLModel",
            "_view_count": null,
            "_view_module": "@jupyter-widgets/controls",
            "_view_module_version": "1.5.0",
            "_view_name": "HTMLView",
            "description": "",
            "description_tooltip": null,
            "layout": "IPY_MODEL_700dfa18bc684842854d75bea9df7738",
            "placeholder": "​",
            "style": "IPY_MODEL_8219804c6469485bbb6016697cc34e93",
            "value": "100%"
          }
        },
        "ef8ecb5c58d54bd381628f151b8eefad": {
          "model_module": "@jupyter-widgets/controls",
          "model_name": "FloatProgressModel",
          "model_module_version": "1.5.0",
          "state": {
            "_dom_classes": [],
            "_model_module": "@jupyter-widgets/controls",
            "_model_module_version": "1.5.0",
            "_model_name": "FloatProgressModel",
            "_view_count": null,
            "_view_module": "@jupyter-widgets/controls",
            "_view_module_version": "1.5.0",
            "_view_name": "ProgressView",
            "bar_style": "success",
            "description": "",
            "description_tooltip": null,
            "layout": "IPY_MODEL_3a0eb9a223ed4e60845b182e9778c1d3",
            "max": 1514,
            "min": 0,
            "orientation": "horizontal",
            "style": "IPY_MODEL_524055cf2fa64c7eb6cb21ea839bcd73",
            "value": 1514
          }
        },
        "fdfb72b0737c4608aff07ee6f649db1a": {
          "model_module": "@jupyter-widgets/controls",
          "model_name": "HTMLModel",
          "model_module_version": "1.5.0",
          "state": {
            "_dom_classes": [],
            "_model_module": "@jupyter-widgets/controls",
            "_model_module_version": "1.5.0",
            "_model_name": "HTMLModel",
            "_view_count": null,
            "_view_module": "@jupyter-widgets/controls",
            "_view_module_version": "1.5.0",
            "_view_name": "HTMLView",
            "description": "",
            "description_tooltip": null,
            "layout": "IPY_MODEL_08ea8b4b43d444f09d518d15dfca6988",
            "placeholder": "​",
            "style": "IPY_MODEL_67d4973b767b43c0921a1f25faf72f37",
            "value": " 1514/1514 [01:47&lt;00:00, 13.21it/s]"
          }
        },
        "1c8d436878cf471e995a234b98a07fbe": {
          "model_module": "@jupyter-widgets/base",
          "model_name": "LayoutModel",
          "model_module_version": "1.2.0",
          "state": {
            "_model_module": "@jupyter-widgets/base",
            "_model_module_version": "1.2.0",
            "_model_name": "LayoutModel",
            "_view_count": null,
            "_view_module": "@jupyter-widgets/base",
            "_view_module_version": "1.2.0",
            "_view_name": "LayoutView",
            "align_content": null,
            "align_items": null,
            "align_self": null,
            "border": null,
            "bottom": null,
            "display": null,
            "flex": null,
            "flex_flow": null,
            "grid_area": null,
            "grid_auto_columns": null,
            "grid_auto_flow": null,
            "grid_auto_rows": null,
            "grid_column": null,
            "grid_gap": null,
            "grid_row": null,
            "grid_template_areas": null,
            "grid_template_columns": null,
            "grid_template_rows": null,
            "height": null,
            "justify_content": null,
            "justify_items": null,
            "left": null,
            "margin": null,
            "max_height": null,
            "max_width": null,
            "min_height": null,
            "min_width": null,
            "object_fit": null,
            "object_position": null,
            "order": null,
            "overflow": null,
            "overflow_x": null,
            "overflow_y": null,
            "padding": null,
            "right": null,
            "top": null,
            "visibility": null,
            "width": null
          }
        },
        "700dfa18bc684842854d75bea9df7738": {
          "model_module": "@jupyter-widgets/base",
          "model_name": "LayoutModel",
          "model_module_version": "1.2.0",
          "state": {
            "_model_module": "@jupyter-widgets/base",
            "_model_module_version": "1.2.0",
            "_model_name": "LayoutModel",
            "_view_count": null,
            "_view_module": "@jupyter-widgets/base",
            "_view_module_version": "1.2.0",
            "_view_name": "LayoutView",
            "align_content": null,
            "align_items": null,
            "align_self": null,
            "border": null,
            "bottom": null,
            "display": null,
            "flex": null,
            "flex_flow": null,
            "grid_area": null,
            "grid_auto_columns": null,
            "grid_auto_flow": null,
            "grid_auto_rows": null,
            "grid_column": null,
            "grid_gap": null,
            "grid_row": null,
            "grid_template_areas": null,
            "grid_template_columns": null,
            "grid_template_rows": null,
            "height": null,
            "justify_content": null,
            "justify_items": null,
            "left": null,
            "margin": null,
            "max_height": null,
            "max_width": null,
            "min_height": null,
            "min_width": null,
            "object_fit": null,
            "object_position": null,
            "order": null,
            "overflow": null,
            "overflow_x": null,
            "overflow_y": null,
            "padding": null,
            "right": null,
            "top": null,
            "visibility": null,
            "width": null
          }
        },
        "8219804c6469485bbb6016697cc34e93": {
          "model_module": "@jupyter-widgets/controls",
          "model_name": "DescriptionStyleModel",
          "model_module_version": "1.5.0",
          "state": {
            "_model_module": "@jupyter-widgets/controls",
            "_model_module_version": "1.5.0",
            "_model_name": "DescriptionStyleModel",
            "_view_count": null,
            "_view_module": "@jupyter-widgets/base",
            "_view_module_version": "1.2.0",
            "_view_name": "StyleView",
            "description_width": ""
          }
        },
        "3a0eb9a223ed4e60845b182e9778c1d3": {
          "model_module": "@jupyter-widgets/base",
          "model_name": "LayoutModel",
          "model_module_version": "1.2.0",
          "state": {
            "_model_module": "@jupyter-widgets/base",
            "_model_module_version": "1.2.0",
            "_model_name": "LayoutModel",
            "_view_count": null,
            "_view_module": "@jupyter-widgets/base",
            "_view_module_version": "1.2.0",
            "_view_name": "LayoutView",
            "align_content": null,
            "align_items": null,
            "align_self": null,
            "border": null,
            "bottom": null,
            "display": null,
            "flex": null,
            "flex_flow": null,
            "grid_area": null,
            "grid_auto_columns": null,
            "grid_auto_flow": null,
            "grid_auto_rows": null,
            "grid_column": null,
            "grid_gap": null,
            "grid_row": null,
            "grid_template_areas": null,
            "grid_template_columns": null,
            "grid_template_rows": null,
            "height": null,
            "justify_content": null,
            "justify_items": null,
            "left": null,
            "margin": null,
            "max_height": null,
            "max_width": null,
            "min_height": null,
            "min_width": null,
            "object_fit": null,
            "object_position": null,
            "order": null,
            "overflow": null,
            "overflow_x": null,
            "overflow_y": null,
            "padding": null,
            "right": null,
            "top": null,
            "visibility": null,
            "width": null
          }
        },
        "524055cf2fa64c7eb6cb21ea839bcd73": {
          "model_module": "@jupyter-widgets/controls",
          "model_name": "ProgressStyleModel",
          "model_module_version": "1.5.0",
          "state": {
            "_model_module": "@jupyter-widgets/controls",
            "_model_module_version": "1.5.0",
            "_model_name": "ProgressStyleModel",
            "_view_count": null,
            "_view_module": "@jupyter-widgets/base",
            "_view_module_version": "1.2.0",
            "_view_name": "StyleView",
            "bar_color": null,
            "description_width": ""
          }
        },
        "08ea8b4b43d444f09d518d15dfca6988": {
          "model_module": "@jupyter-widgets/base",
          "model_name": "LayoutModel",
          "model_module_version": "1.2.0",
          "state": {
            "_model_module": "@jupyter-widgets/base",
            "_model_module_version": "1.2.0",
            "_model_name": "LayoutModel",
            "_view_count": null,
            "_view_module": "@jupyter-widgets/base",
            "_view_module_version": "1.2.0",
            "_view_name": "LayoutView",
            "align_content": null,
            "align_items": null,
            "align_self": null,
            "border": null,
            "bottom": null,
            "display": null,
            "flex": null,
            "flex_flow": null,
            "grid_area": null,
            "grid_auto_columns": null,
            "grid_auto_flow": null,
            "grid_auto_rows": null,
            "grid_column": null,
            "grid_gap": null,
            "grid_row": null,
            "grid_template_areas": null,
            "grid_template_columns": null,
            "grid_template_rows": null,
            "height": null,
            "justify_content": null,
            "justify_items": null,
            "left": null,
            "margin": null,
            "max_height": null,
            "max_width": null,
            "min_height": null,
            "min_width": null,
            "object_fit": null,
            "object_position": null,
            "order": null,
            "overflow": null,
            "overflow_x": null,
            "overflow_y": null,
            "padding": null,
            "right": null,
            "top": null,
            "visibility": null,
            "width": null
          }
        },
        "67d4973b767b43c0921a1f25faf72f37": {
          "model_module": "@jupyter-widgets/controls",
          "model_name": "DescriptionStyleModel",
          "model_module_version": "1.5.0",
          "state": {
            "_model_module": "@jupyter-widgets/controls",
            "_model_module_version": "1.5.0",
            "_model_name": "DescriptionStyleModel",
            "_view_count": null,
            "_view_module": "@jupyter-widgets/base",
            "_view_module_version": "1.2.0",
            "_view_name": "StyleView",
            "description_width": ""
          }
        }
      }
    }
  },
  "nbformat": 4,
  "nbformat_minor": 0
}